{
  "cells": [
    {
      "cell_type": "code",
      "execution_count": 1,
      "metadata": {
        "scrolled": true,
        "id": "GdMuIZB3obmc",
        "outputId": "717338a7-1345-4cf0-9278-cb8405270153",
        "colab": {
          "base_uri": "https://localhost:8080/"
        }
      },
      "outputs": [
        {
          "output_type": "stream",
          "name": "stderr",
          "text": [
            "Warning message in system(\"timedatectl\", intern = TRUE):\n",
            "“running command 'timedatectl' had status 1”\n",
            "── \u001b[1mAttaching packages\u001b[22m ─────────────────────────────────────── tidyverse 1.3.1 ──\n",
            "\n",
            "\u001b[32m✔\u001b[39m \u001b[34mggplot2\u001b[39m 3.4.1     \u001b[32m✔\u001b[39m \u001b[34mpurrr  \u001b[39m 1.0.1\n",
            "\u001b[32m✔\u001b[39m \u001b[34mtibble \u001b[39m 3.1.8     \u001b[32m✔\u001b[39m \u001b[34mdplyr  \u001b[39m 1.1.0\n",
            "\u001b[32m✔\u001b[39m \u001b[34mtidyr  \u001b[39m 1.3.0     \u001b[32m✔\u001b[39m \u001b[34mstringr\u001b[39m 1.4.1\n",
            "\u001b[32m✔\u001b[39m \u001b[34mreadr  \u001b[39m 2.1.4     \u001b[32m✔\u001b[39m \u001b[34mforcats\u001b[39m 1.0.0\n",
            "\n",
            "── \u001b[1mConflicts\u001b[22m ────────────────────────────────────────── tidyverse_conflicts() ──\n",
            "\u001b[31m✖\u001b[39m \u001b[34mdplyr\u001b[39m::\u001b[32mfilter()\u001b[39m masks \u001b[34mstats\u001b[39m::filter()\n",
            "\u001b[31m✖\u001b[39m \u001b[34mdplyr\u001b[39m::\u001b[32mlag()\u001b[39m    masks \u001b[34mstats\u001b[39m::lag()\n",
            "\n",
            "\n",
            "Attaching package: ‘rvest’\n",
            "\n",
            "\n",
            "The following object is masked from ‘package:readr’:\n",
            "\n",
            "    guess_encoding\n",
            "\n",
            "\n"
          ]
        }
      ],
      "source": [
        "library(tidyverse)\n",
        "library(rvest)"
      ]
    },
    {
      "cell_type": "markdown",
      "metadata": {
        "id": "YaL3AFGMobmd"
      },
      "source": [
        "# Lecture 11: Web scraping\n",
        "\n",
        "<div style=\"border: 1px double black; padding: 10px; margin: 10px\">\n",
        "\n",
        "**After today's lecture you will:**\n",
        "* Understand how to import data from online sources by scraping web pages.\n",
        "</div>\n",
        "\n",
        "These notes correspond to Chapter 26 of your book.\n"
      ]
    },
    {
      "cell_type": "markdown",
      "metadata": {
        "id": "1b9WqcaQobmd"
      },
      "source": [
        "## Ethics of scraping data online\n",
        "You should carefully read [Section 26.2](https://r4ds.hadley.nz/webscraping.html#scraping-ethics-and-legalities) of the book concerning various ethical and legal issues surrounding scraping web sites for data. In this class we will only look at large, public web sites like Wikipedia and IMDB, where there is no risk of anything bad happening. However, there are other situations where it may be unethical, or even illegal, to harvest data from a website, even if you are technically able. **As data scientists in the real world, it will be up to you to carefully weigh these concerns before using the tools discussed in today's lecture.**"
      ]
    },
    {
      "cell_type": "markdown",
      "metadata": {
        "id": "Q01VTdbCobmd"
      },
      "source": [
        "## Reading data from the Internet\n",
        "These days, it's increasingly common to pull data from online sources. For example, say I wanted to know the population of European countries. This is [easily found](https://en.wikipedia.org/wiki/Demographics_of_Europe#Population_by_country) on Wikipedia. How can I get these data into R and analyze them?"
      ]
    },
    {
      "cell_type": "markdown",
      "metadata": {
        "id": "1pDRDCpyobmd"
      },
      "source": [
        "## How do web pages work?\n",
        "\n",
        "Web pages are written in a special language called HTML (**H**yper**t**ext **M**arkup **L**anguage). Here is a simple example of some HTML:\n",
        "\n",
        "    <html>\n",
        "    <head> \n",
        "      <title>Page title</title>\n",
        "    </head>\n",
        "    <body>\n",
        "      <h1 id='first'>A heading</h1>\n",
        "      <p>Some text &amp; <b>some bold text.</b></p>\n",
        "      <img src='myimg.png' width='100' height='100'>\n",
        "    </body>"
      ]
    },
    {
      "cell_type": "markdown",
      "metadata": {
        "id": "kEHPkAojobme"
      },
      "source": [
        "Web scraping is possible because most web pages have a consistent, hierarchical structure. For example, if I asked you how to navigate to the title of the web page shown above, you would follow the \"path\"\n",
        "\n",
        "    html > head > title\n",
        "    \n",
        "to arrive at \"Page title\"."
      ]
    },
    {
      "cell_type": "markdown",
      "metadata": {
        "id": "Orqqw3opobme"
      },
      "source": [
        "## HTML elements\n",
        "\n",
        "There are a lot of HTML elements that might contain interesting information. Here are a few of the most common:\n",
        "- Block tags that denote sections of text: `<h1>` (heading), `<p>` (paragraph), `<ul>`/`<ol>` (un)ordered list, etc.\n",
        "- `<table>` (a table), `<tr>` (a table row), `<td>` (a table cell), etc.\n",
        "- Each of these elements can contain attributes such as `id=` or `class=`. For example, `<table id=\"movies\">` is probably a table that contains movie information."
      ]
    },
    {
      "cell_type": "markdown",
      "metadata": {
        "id": "a8efBw-Aobme"
      },
      "source": [
        "The `rvest` package is used to load a web page and extract elements and tables based on their HTML tags. Let's see how it works by scraping the Wikipedia page mentioned earlier:"
      ]
    },
    {
      "cell_type": "code",
      "execution_count": 4,
      "metadata": {
        "id": "EcvO1NOVobme"
      },
      "outputs": [],
      "source": [
        "europop <- read_html(\"http://en.wikipedia.org/wiki/Demographics_of_Europe#Population_by_country\")"
      ]
    },
    {
      "cell_type": "markdown",
      "metadata": {
        "id": "w59oG3fKobme"
      },
      "source": [
        "In this page there are many tables:"
      ]
    },
    {
      "cell_type": "code",
      "execution_count": 18,
      "metadata": {
        "id": "MvdI2aEpobme",
        "outputId": "470396ae-2323-4d5c-8b8f-dd8171c95c05",
        "colab": {
          "base_uri": "https://localhost:8080/",
          "height": 149
        }
      },
      "outputs": [
        {
          "output_type": "error",
          "ename": "ERROR",
          "evalue": "ignored",
          "traceback": [
            "Error in parse(text = x, srcfile = src): <text>:3:31: unexpected symbol\n2: wiki_table((3))%>%select (1:2)%>%slice(-1)\n3: mutate(Year=as.integer(year)) avg_pop\n                                 ^\nTraceback:\n"
          ]
        }
      ],
      "source": [
        "europop %>% html_elements(\"table.wikitable\") %>% html_table\n",
        "wiki_table((3))%>%select (1:2)%>%slice(-1)\n",
        "mutate(Year=as.integer(year)) avg_pop=parse_number(Averagepopulation)"
      ]
    },
    {
      "cell_type": "markdown",
      "metadata": {
        "id": "mcSeoSKQobme"
      },
      "source": [
        "How can we find the correct one? One option is to use our browser to find something that uniquely identifies the table that we want. Alternatively, since there are only about 17, we can just at each table until we find the one we want:"
      ]
    },
    {
      "cell_type": "code",
      "execution_count": null,
      "metadata": {
        "id": "PoffLVPuobme"
      },
      "outputs": [],
      "source": [
        "# find the table that contains the population for each country"
      ]
    },
    {
      "cell_type": "markdown",
      "metadata": {
        "id": "9lIamUi6obme"
      },
      "source": [
        "## 🤔 Quiz\n",
        "\n",
        "What's the average population density ($\\text{persons}/\\text{km}^2$) for countries in Europe?\n",
        "\n",
        "<ol style=\"list-style-type: upper-alpha;\">\n",
        "    <li>1234.5</li>\n",
        "    <li>20000.0</li>\n",
        "    <li>611.8</li>\n",
        "    <li>6520.5</li>\n",
        "    <li>101.1</li>\n",
        "</ol>\n",
        "\n"
      ]
    },
    {
      "cell_type": "code",
      "execution_count": 23,
      "metadata": {
        "id": "SxN1V06Bobme",
        "outputId": "6b233995-ec5e-4d6a-b861-21d84285e197",
        "colab": {
          "base_uri": "https://localhost:8080/",
          "height": 1000
        }
      },
      "outputs": [
        {
          "output_type": "display_data",
          "data": {
            "text/html": [
              "<ol>\n",
              "\t<li><table class=\"dataframe\">\n",
              "<caption>A tibble: 8 × 2</caption>\n",
              "<thead>\n",
              "\t<tr><th scope=col>Year</th><th scope=col>Population(% of world total)</th></tr>\n",
              "\t<tr><th scope=col>&lt;chr&gt;</th><th scope=col>&lt;chr&gt;</th></tr>\n",
              "</thead>\n",
              "<tbody>\n",
              "\t<tr><td>CE 1</td><td>34 (15%) </td></tr>\n",
              "\t<tr><td>1000</td><td>40 (15%) </td></tr>\n",
              "\t<tr><td>1500</td><td>78 (18%) </td></tr>\n",
              "\t<tr><td>1600</td><td>112 (20%)</td></tr>\n",
              "\t<tr><td>1700</td><td>127 (21%)</td></tr>\n",
              "\t<tr><td>1820</td><td>224 (21%)</td></tr>\n",
              "\t<tr><td>1913</td><td>498 (28%)</td></tr>\n",
              "\t<tr><td>2000</td><td>742 (13%)</td></tr>\n",
              "</tbody>\n",
              "</table>\n",
              "</li>\n",
              "\t<li><table class=\"dataframe\">\n",
              "<caption>A tibble: 31 × 13</caption>\n",
              "<thead>\n",
              "\t<tr><th scope=col>Country/region</th><th scope=col>1</th><th scope=col>1000</th><th scope=col>1500</th><th scope=col>1600</th><th scope=col>1700</th><th scope=col>1820</th><th scope=col>1870</th><th scope=col>1913</th><th scope=col>1950</th><th scope=col>1973</th><th scope=col>1998[6]</th><th scope=col>2020</th></tr>\n",
              "\t<tr><th scope=col>&lt;chr&gt;</th><th scope=col>&lt;int&gt;</th><th scope=col>&lt;int&gt;</th><th scope=col>&lt;int&gt;</th><th scope=col>&lt;int&gt;</th><th scope=col>&lt;int&gt;</th><th scope=col>&lt;int&gt;</th><th scope=col>&lt;int&gt;</th><th scope=col>&lt;int&gt;</th><th scope=col>&lt;int&gt;</th><th scope=col>&lt;int&gt;</th><th scope=col>&lt;int&gt;</th><th scope=col>&lt;int&gt;</th></tr>\n",
              "</thead>\n",
              "<tbody>\n",
              "\t<tr><td>Austria             </td><td>   500</td><td>   700</td><td>  2000</td><td>  2500</td><td>  2500</td><td>   3369</td><td>   4520</td><td>   6767</td><td>   6935</td><td>   7586</td><td>   8078</td><td>   8901</td></tr>\n",
              "\t<tr><td>Belgium             </td><td>   300</td><td>   400</td><td>  1400</td><td>  1600</td><td>  2000</td><td>   3424</td><td>   5096</td><td>   7666</td><td>   8640</td><td>   9738</td><td>  10197</td><td>  11493</td></tr>\n",
              "\t<tr><td>Denmark             </td><td>   180</td><td>   360</td><td>   600</td><td>   650</td><td>   700</td><td>   1155</td><td>   1888</td><td>   2983</td><td>   4269</td><td>   5022</td><td>   5303</td><td>   5823</td></tr>\n",
              "\t<tr><td>Finland             </td><td>    20</td><td>    40</td><td>   300</td><td>   400</td><td>   400</td><td>   1169</td><td>   1754</td><td>   3027</td><td>   4009</td><td>   4666</td><td>   5153</td><td>   5536</td></tr>\n",
              "\t<tr><td>France              </td><td>  5000</td><td>  6500</td><td> 15000</td><td> 18500</td><td> 21471</td><td>  31246</td><td>  38440</td><td>  41463</td><td>  41836</td><td>  52118</td><td>  58805</td><td>  67287</td></tr>\n",
              "\t<tr><td>Germany             </td><td>  3000</td><td>  3500</td><td> 12000</td><td> 16000</td><td> 15000</td><td>  24905</td><td>  39231</td><td>  65058</td><td>  68371</td><td>  78956</td><td>  82029</td><td>  83191</td></tr>\n",
              "\t<tr><td>Italy               </td><td>  7000</td><td>  5000</td><td> 10500</td><td> 13100</td><td> 13300</td><td>  20176</td><td>  27888</td><td>  37248</td><td>  47105</td><td>  54751</td><td>  57592</td><td>  59258</td></tr>\n",
              "\t<tr><td>the Netherlands     </td><td>   200</td><td>   300</td><td>   950</td><td>  1500</td><td>  1900</td><td>   2355</td><td>   3615</td><td>   6164</td><td>  10114</td><td>  13438</td><td>  15700</td><td>  17425</td></tr>\n",
              "\t<tr><td>Norway              </td><td>   100</td><td>   200</td><td>   300</td><td>   400</td><td>   500</td><td>    970</td><td>   1735</td><td>   2447</td><td>   3265</td><td>   3961</td><td>   4432</td><td>   5368</td></tr>\n",
              "\t<tr><td>Sweden              </td><td>   200</td><td>   400</td><td>   550</td><td>   760</td><td>  1260</td><td>   2585</td><td>   4164</td><td>   5621</td><td>   7015</td><td>   8137</td><td>   8851</td><td>  10379</td></tr>\n",
              "\t<tr><td>Switzerland         </td><td>   300</td><td>   300</td><td>   650</td><td>  1000</td><td>  1200</td><td>   1829</td><td>   2664</td><td>   3864</td><td>   4694</td><td>   6441</td><td>   7130</td><td>   8667</td></tr>\n",
              "\t<tr><td>United Kingdom      </td><td>   800</td><td>  2000</td><td>  3942</td><td>  6170</td><td>  8565</td><td>  21226</td><td>  31393</td><td>  45649</td><td>  50363</td><td>  56223</td><td>  59237</td><td>  67886</td></tr>\n",
              "\t<tr><td>Portugal            </td><td>   500</td><td>   600</td><td>  1000</td><td>  1100</td><td>  2000</td><td>   3297</td><td>   4353</td><td>   6004</td><td>   8512</td><td>   8634</td><td>   9968</td><td>  10305</td></tr>\n",
              "\t<tr><td>Spain               </td><td>  4500</td><td>  4000</td><td>  6800</td><td>  8240</td><td>  8770</td><td>  12203</td><td>  16201</td><td>  20263</td><td>  27868</td><td>  34810</td><td>  39371</td><td>  47431</td></tr>\n",
              "\t<tr><td>Greece              </td><td>  2000</td><td>  1000</td><td>  1000</td><td>  1500</td><td>  1500</td><td>   2312</td><td>     NA</td><td>     NA</td><td>   7554</td><td>   8929</td><td>  10835</td><td>  10689</td></tr>\n",
              "\t<tr><td>13 small countries  </td><td>   100</td><td>   113</td><td>   276</td><td>   358</td><td>   394</td><td>    657</td><td>     NA</td><td>     NA</td><td>     NA</td><td>     NA</td><td>     NA</td><td>     NA</td></tr>\n",
              "\t<tr><td>Total Western Europe</td><td> 24700</td><td> 25413</td><td> 57268</td><td> 73778</td><td> 81460</td><td> 132888</td><td> 187532</td><td> 261007</td><td> 305060</td><td> 358390</td><td> 388399</td><td> 419639</td></tr>\n",
              "\t<tr><td>Albania             </td><td>   200</td><td>   200</td><td>   200</td><td>   200</td><td>   300</td><td>    437</td><td>     NA</td><td>     NA</td><td>   1215</td><td>   2296</td><td>   3108</td><td>   2878</td></tr>\n",
              "\t<tr><td>Bulgaria            </td><td>   500</td><td>   800</td><td>   800</td><td>  1250</td><td>  1250</td><td>   2187</td><td>     NA</td><td>   4200</td><td>   7251</td><td>   8621</td><td>   8257</td><td>   6917</td></tr>\n",
              "\t<tr><td>Czechoslovakia      </td><td>  1000</td><td>  1250</td><td>  3000</td><td>  4500</td><td>  4500</td><td>   7190</td><td>     NA</td><td>     NA</td><td>  12393</td><td>  14563</td><td>  15686</td><td>  16366</td></tr>\n",
              "\t<tr><td>− Czech Rep.        </td><td>    NA</td><td>    NA</td><td>    NA</td><td>    NA</td><td>    NA</td><td>     NA</td><td>     NA</td><td>     NA</td><td>  10221</td><td>   8930</td><td>  10295</td><td>  10702</td></tr>\n",
              "\t<tr><td>- Slovakia          </td><td>    NA</td><td>    NA</td><td>    NA</td><td>    NA</td><td>    NA</td><td>     NA</td><td>     NA</td><td>     NA</td><td>   3463</td><td>   4642</td><td>   5391</td><td>   5460</td></tr>\n",
              "\t<tr><td>Hungary             </td><td>   300</td><td>   500</td><td>  1250</td><td>  1250</td><td>  1500</td><td>   4571</td><td>     NA</td><td>     NA</td><td>   9338</td><td>  10432</td><td>  10237</td><td>   9770</td></tr>\n",
              "\t<tr><td>Poland              </td><td>   450</td><td>  1200</td><td>  4000</td><td>  5000</td><td>  6000</td><td>  10426</td><td>     NA</td><td>     NA</td><td>  25753</td><td>  33363</td><td>  38666</td><td>  38268</td></tr>\n",
              "\t<tr><td>Romania             </td><td>   800</td><td>   800</td><td>  2000</td><td>  2000</td><td>  2500</td><td>   6389</td><td>     NA</td><td>   7360</td><td>  16311</td><td>  20828</td><td>  22503</td><td>  19266</td></tr>\n",
              "\t<tr><td>Yugoslavia          </td><td>  1500</td><td>  1750</td><td>  2250</td><td>  2750</td><td>  2750</td><td>   5215</td><td>     NA</td><td>     NA</td><td>  16578</td><td>  21088</td><td>     NA</td><td>     NA</td></tr>\n",
              "\t<tr><td>Eastern Europe      </td><td>  4750</td><td>  6500</td><td> 13500</td><td> 16950</td><td> 18800</td><td>  36415</td><td>  52182</td><td>  79604</td><td>  87289</td><td> 110490</td><td> 121006</td><td> 109627</td></tr>\n",
              "\t<tr><td>Former USSR         </td><td>  3900</td><td>  7100</td><td> 16950</td><td> 20700</td><td> 26550</td><td>  54765</td><td>  88672</td><td> 156192</td><td> 180050</td><td> 249748</td><td> 290866</td><td>     NA</td></tr>\n",
              "\t<tr><td>- Russia            </td><td>    NA</td><td>    NA</td><td>    NA</td><td>    NA</td><td>    NA</td><td>     NA</td><td>     NA</td><td>     NA</td><td> 102833</td><td> 132434</td><td> 147671</td><td> 146171</td></tr>\n",
              "\t<tr><td>- Ukraine           </td><td>    NA</td><td>    NA</td><td>    NA</td><td>    NA</td><td>    NA</td><td>     NA</td><td>     NA</td><td>  31142</td><td>  36905</td><td>  48274</td><td>  50370</td><td>  41902</td></tr>\n",
              "\t<tr><td>World               </td><td>230820</td><td>268273</td><td>437818</td><td>555828</td><td>603410</td><td>1041092</td><td>1270014</td><td>1791020</td><td>2524531</td><td>3913482</td><td>5907680</td><td>7800000</td></tr>\n",
              "</tbody>\n",
              "</table>\n",
              "</li>\n",
              "\t<li><table class=\"dataframe\">\n",
              "<caption>A tibble: 20 × 13</caption>\n",
              "<thead>\n",
              "\t<tr><th scope=col>Country/region</th><th scope=col>1</th><th scope=col>1000</th><th scope=col>1500</th><th scope=col>1600</th><th scope=col>1700</th><th scope=col>1820</th><th scope=col>1870</th><th scope=col>1913</th><th scope=col>1950</th><th scope=col>1973</th><th scope=col>1998</th><th scope=col>2018</th></tr>\n",
              "\t<tr><th scope=col>&lt;chr&gt;</th><th scope=col>&lt;dbl&gt;</th><th scope=col>&lt;dbl&gt;</th><th scope=col>&lt;dbl&gt;</th><th scope=col>&lt;dbl&gt;</th><th scope=col>&lt;dbl&gt;</th><th scope=col>&lt;dbl&gt;</th><th scope=col>&lt;dbl&gt;</th><th scope=col>&lt;dbl&gt;</th><th scope=col>&lt;dbl&gt;</th><th scope=col>&lt;dbl&gt;</th><th scope=col>&lt;dbl&gt;</th><th scope=col>&lt;chr&gt;</th></tr>\n",
              "</thead>\n",
              "<tbody>\n",
              "\t<tr><td>Austria             </td><td>  0.2</td><td>  0.3</td><td>  0.5</td><td>  0.4</td><td>  0.4</td><td>  0.3</td><td>  0.4</td><td>  0.4</td><td>  0.3</td><td>  0.2</td><td>  0.1</td><td>      </td></tr>\n",
              "\t<tr><td>Belgium             </td><td>  0.1</td><td>  0.1</td><td>  0.3</td><td>  0.3</td><td>  0.3</td><td>  0.3</td><td>  0.4</td><td>  0.4</td><td>  0.3</td><td>  0.2</td><td>  0.2</td><td>      </td></tr>\n",
              "\t<tr><td>Denmark             </td><td>  0.1</td><td>  0.1</td><td>  0.1</td><td>  0.1</td><td>  0.1</td><td>  0.1</td><td>  0.1</td><td>  0.2</td><td>  0.2</td><td>  0.1</td><td>  0.1</td><td>      </td></tr>\n",
              "\t<tr><td>Finland             </td><td>  0.0</td><td>  0.0</td><td>  0.1</td><td>  0.1</td><td>  0.1</td><td>  0.1</td><td>  0.1</td><td>  0.2</td><td>  0.2</td><td>  0.1</td><td>  0.1</td><td>      </td></tr>\n",
              "\t<tr><td>France              </td><td>  2.2</td><td>  2.4</td><td>  3.4</td><td>  3.3</td><td>  3.6</td><td>  3.0</td><td>  3.0</td><td>  2.3</td><td>  1.7</td><td>  1.3</td><td>  1.0</td><td>      </td></tr>\n",
              "\t<tr><td>Germany             </td><td>  1.3</td><td>  1.3</td><td>  2.7</td><td>  2.9</td><td>  2.5</td><td>  2.4</td><td>  3.1</td><td>  3.6</td><td>  2.7</td><td>  2.0</td><td>  1.4</td><td>      </td></tr>\n",
              "\t<tr><td>Italy               </td><td>  3.0</td><td>  1.9</td><td>  2.4</td><td>  2.4</td><td>  2.2</td><td>  1.9</td><td>  2.2</td><td>  2.1</td><td>  1.9</td><td>  1.4</td><td>  1.0</td><td>      </td></tr>\n",
              "\t<tr><td>Netherlands         </td><td>  0.1</td><td>  0.1</td><td>  0.2</td><td>  0.3</td><td>  0.3</td><td>  0.2</td><td>  0.3</td><td>  0.3</td><td>  0.4</td><td>  0.3</td><td>  0.3</td><td>      </td></tr>\n",
              "\t<tr><td>Norway              </td><td>  0.0</td><td>  0.1</td><td>  0.1</td><td>  0.1</td><td>  0.1</td><td>  0.1</td><td>  0.1</td><td>  0.1</td><td>  0.1</td><td>  0.1</td><td>  0.1</td><td>      </td></tr>\n",
              "\t<tr><td>Sweden              </td><td>  0.1</td><td>  0.1</td><td>  0.1</td><td>  0.1</td><td>  0.2</td><td>  0.2</td><td>  0.3</td><td>  0.3</td><td>  0.3</td><td>  0.2</td><td>  0.1</td><td>      </td></tr>\n",
              "\t<tr><td>Switzerland         </td><td>  0.1</td><td>  0.1</td><td>  0.1</td><td>  0.2</td><td>  0.2</td><td>  0.2</td><td>  0.2</td><td>  0.2</td><td>  0.2</td><td>  0.2</td><td>  0.1</td><td>      </td></tr>\n",
              "\t<tr><td>United Kingdom      </td><td>  0.3</td><td>  0.7</td><td>  0.9</td><td>  1.1</td><td>  1.4</td><td>  2.0</td><td>  2.5</td><td>  2.5</td><td>  2.0</td><td>  1.4</td><td>  1.0</td><td>      </td></tr>\n",
              "\t<tr><td>Portugal            </td><td>  0.2</td><td>  0.2</td><td>  0.2</td><td>  0.2</td><td>  0.3</td><td>  0.3</td><td>  0.3</td><td>  0.3</td><td>  0.3</td><td>  0.2</td><td>  0.2</td><td>      </td></tr>\n",
              "\t<tr><td>Spain               </td><td>  1.9</td><td>  1.5</td><td>  1.6</td><td>  1.5</td><td>  1.5</td><td>  1.2</td><td>  1.3</td><td>  1.1</td><td>  1.1</td><td>  0.9</td><td>  0.7</td><td>      </td></tr>\n",
              "\t<tr><td>Other               </td><td>  0.9</td><td>  0.4</td><td>  0.3</td><td>  0.3</td><td>  0.3</td><td>  0.3</td><td>  0.4</td><td>  0.4</td><td>  0.5</td><td>  0.4</td><td>  0.3</td><td>      </td></tr>\n",
              "\t<tr><td>Total Western Europe</td><td> 10.7</td><td>  9.5</td><td> 13.1</td><td> 13.3</td><td> 13.5</td><td> 12.8</td><td> 14.8</td><td> 14.6</td><td> 12.1</td><td>  9.2</td><td>  6.6</td><td>      </td></tr>\n",
              "\t<tr><td>Eastern Europe      </td><td>  2.1</td><td>  2.4</td><td>  3.1</td><td>  3.0</td><td>  3.1</td><td>  3.5</td><td>  4.1</td><td>  4.4</td><td>  3.5</td><td>  2.8</td><td>  2.0</td><td>      </td></tr>\n",
              "\t<tr><td>Former USSR         </td><td>  1.7</td><td>  2.6</td><td>  3.9</td><td>  3.7</td><td>  4.4</td><td>  5.3</td><td>  7.0</td><td>  8.7</td><td>  7.1</td><td>  6.4</td><td>  4.9</td><td>      </td></tr>\n",
              "\t<tr><td>Sum                 </td><td> 14.5</td><td> 14.5</td><td> 20.1</td><td> 20.0</td><td> 21.0</td><td> 21.6</td><td> 25.9</td><td> 27.7</td><td> 22.7</td><td> 18.4</td><td> 13.5</td><td>9.8[7]</td></tr>\n",
              "\t<tr><td>World               </td><td>100.0</td><td>100.0</td><td>100.0</td><td>100.0</td><td>100.0</td><td>100.0</td><td>100.0</td><td>100.0</td><td>100.0</td><td>100.0</td><td>100.0</td><td>100.0 </td></tr>\n",
              "</tbody>\n",
              "</table>\n",
              "</li>\n",
              "\t<li><table class=\"dataframe\">\n",
              "<caption>A tibble: 73 × 10</caption>\n",
              "<thead>\n",
              "\t<tr><th scope=col>Year</th><th scope=col>Averagepopulation</th><th scope=col>Live births</th><th scope=col>Deaths</th><th scope=col>Natural change</th><th scope=col>Crude rates (per 1000)</th><th scope=col>Crude rates (per 1000)</th><th scope=col>Crude rates (per 1000)</th><th scope=col>Total fertility rate</th><th scope=col>Life expectancy</th></tr>\n",
              "\t<tr><th scope=col>&lt;chr&gt;</th><th scope=col>&lt;chr&gt;</th><th scope=col>&lt;chr&gt;</th><th scope=col>&lt;chr&gt;</th><th scope=col>&lt;chr&gt;</th><th scope=col>&lt;chr&gt;</th><th scope=col>&lt;chr&gt;</th><th scope=col>&lt;chr&gt;</th><th scope=col>&lt;chr&gt;</th><th scope=col>&lt;chr&gt;</th></tr>\n",
              "</thead>\n",
              "<tbody>\n",
              "\t<tr><td>Year</td><td>Averagepopulation</td><td>Live births</td><td>Deaths   </td><td>Natural change</td><td>Births</td><td>Deaths</td><td>Natural change</td><td>Total fertility rate</td><td>Life expectancy</td></tr>\n",
              "\t<tr><td>1950</td><td>549,721,718      </td><td>12,202,220 </td><td>6,473,233</td><td>5,728,987     </td><td>22.2  </td><td>11.8  </td><td>10.4          </td><td>2.70                </td><td>62.8           </td></tr>\n",
              "\t<tr><td>1951</td><td>554,559,502      </td><td>12,112,425 </td><td>6,609,794</td><td>5,502,631     </td><td>21.8  </td><td>11.9  </td><td>9.9           </td><td>2.66                </td><td>62.8           </td></tr>\n",
              "\t<tr><td>1952</td><td>559,609,904      </td><td>12,142,368 </td><td>6,265,135</td><td>5,877,233     </td><td>21.7  </td><td>11.2  </td><td>10.5          </td><td>2.66                </td><td>64.0           </td></tr>\n",
              "\t<tr><td>1953</td><td>565,058,633      </td><td>12,120,826 </td><td>6,220,937</td><td>5,899,889     </td><td>21.5  </td><td>11.0  </td><td>10.4          </td><td>2.64                </td><td>64.7           </td></tr>\n",
              "\t<tr><td>1954</td><td>570,670,994      </td><td>12,151,779 </td><td>6,072,645</td><td>6,079,134     </td><td>21.3  </td><td>10.6  </td><td>10.7          </td><td>2.64                </td><td>65.5           </td></tr>\n",
              "\t<tr><td>1955</td><td>576,304,974      </td><td>12,134,270 </td><td>5,987,151</td><td>6,147,119     </td><td>21.1  </td><td>10.4  </td><td>10.7          </td><td>2.63                </td><td>66.0           </td></tr>\n",
              "\t<tr><td>1956</td><td>581,975,516      </td><td>12,133,583 </td><td>5,899,594</td><td>6,233,989     </td><td>20.8  </td><td>10.1  </td><td>10.7          </td><td>2.62                </td><td>66.9           </td></tr>\n",
              "\t<tr><td>1957</td><td>587,711,635      </td><td>12,194,100 </td><td>5,963,269</td><td>6,230,831     </td><td>20.7  </td><td>10.1  </td><td>10.6          </td><td>2.62                </td><td>66.9           </td></tr>\n",
              "\t<tr><td>1958</td><td>593,669,297      </td><td>12,177,600 </td><td>5,647,571</td><td>6,530,029     </td><td>20.5  </td><td>9.5   </td><td>11.0          </td><td>2.60                </td><td>68.2           </td></tr>\n",
              "\t<tr><td>1959</td><td>599,684,870      </td><td>12,178,245 </td><td>5,816,056</td><td>6,362,189     </td><td>20.3  </td><td>9.7   </td><td>10.6          </td><td>2.60                </td><td>68.1           </td></tr>\n",
              "\t<tr><td>1960</td><td>605,629,870      </td><td>12,098,378 </td><td>5,783,828</td><td>6,314,550     </td><td>20.0  </td><td>9.6   </td><td>10.4          </td><td>2.58                </td><td>68.8           </td></tr>\n",
              "\t<tr><td>1961</td><td>611,711,020      </td><td>11,990,399 </td><td>5,749,292</td><td>6,241,107     </td><td>19.6  </td><td>9.4   </td><td>10.2          </td><td>2.56                </td><td>69.1           </td></tr>\n",
              "\t<tr><td>1962</td><td>617,672,206      </td><td>11,784,056 </td><td>6,023,706</td><td>5,760,350     </td><td>19.1  </td><td>9.8   </td><td>9.3           </td><td>2.53                </td><td>68.9           </td></tr>\n",
              "\t<tr><td>1963</td><td>623,335,994      </td><td>11,654,646 </td><td>6,031,219</td><td>5,623,427     </td><td>18.7  </td><td>9.7   </td><td>9.0           </td><td>2.52                </td><td>69.2           </td></tr>\n",
              "\t<tr><td>1964</td><td>628,944,878      </td><td>11,467,618 </td><td>5,843,514</td><td>5,624,104     </td><td>18.2  </td><td>9.3   </td><td>8.9           </td><td>2.50                </td><td>69.9           </td></tr>\n",
              "\t<tr><td>1965</td><td>634,267,606      </td><td>11,141,596 </td><td>6,058,752</td><td>5,082,844     </td><td>17.6  </td><td>9.6   </td><td>8.0           </td><td>2.45                </td><td>69.8           </td></tr>\n",
              "\t<tr><td>1966</td><td>639,264,461      </td><td>10,950,076 </td><td>6,074,808</td><td>4,875,268     </td><td>17.1  </td><td>9.5   </td><td>7.6           </td><td>2.42                </td><td>70.0           </td></tr>\n",
              "\t<tr><td>1967</td><td>644,114,436      </td><td>10,969,039 </td><td>6,204,646</td><td>4,764,393     </td><td>17.0  </td><td>9.6   </td><td>7.4           </td><td>2.42                </td><td>70.0           </td></tr>\n",
              "\t<tr><td>1968</td><td>648,610,191      </td><td>10,821,004 </td><td>6,427,622</td><td>4,393,382     </td><td>16.7  </td><td>9.9   </td><td>6.8           </td><td>2.38                </td><td>69.9           </td></tr>\n",
              "\t<tr><td>1969</td><td>652,740,596      </td><td>10,685,498 </td><td>6,652,543</td><td>4,032,955     </td><td>16.4  </td><td>10.2  </td><td>6.2           </td><td>2.33                </td><td>69.6           </td></tr>\n",
              "\t<tr><td>1970</td><td>656,521,426      </td><td>10,568,071 </td><td>6,602,177</td><td>3,965,894     </td><td>16.1  </td><td>10.1  </td><td>6.0           </td><td>2.28                </td><td>70.0           </td></tr>\n",
              "\t<tr><td>1971</td><td>660,476,010      </td><td>10,662,541 </td><td>6,675,051</td><td>3,987,490     </td><td>16.1  </td><td>10.1  </td><td>6.0           </td><td>2.27                </td><td>70.1           </td></tr>\n",
              "\t<tr><td>1972</td><td>664,799,679      </td><td>10,499,844 </td><td>6,699,913</td><td>3,799,931     </td><td>15.8  </td><td>10.1  </td><td>5.7           </td><td>2.21                </td><td>70.3           </td></tr>\n",
              "\t<tr><td>1973</td><td>668,909,022      </td><td>10,322,172 </td><td>6,814,598</td><td>3,507,574     </td><td>15.4  </td><td>10.2  </td><td>5.2           </td><td>2.14                </td><td>70.4           </td></tr>\n",
              "\t<tr><td>1974</td><td>672,912,941      </td><td>10,406,013 </td><td>6,818,259</td><td>3,587,754     </td><td>15.5  </td><td>10.1  </td><td>5.3           </td><td>2.13                </td><td>70.6           </td></tr>\n",
              "\t<tr><td>1975</td><td>676,770,845      </td><td>10,285,047 </td><td>7,009,188</td><td>3,275,859     </td><td>15.2  </td><td>10.4  </td><td>4.8           </td><td>2.07                </td><td>70.5           </td></tr>\n",
              "\t<tr><td>1976</td><td>680,361,150      </td><td>10,242,399 </td><td>7,085,837</td><td>3,156,562     </td><td>15.1  </td><td>10.4  </td><td>4.6           </td><td>2.03                </td><td>70.6           </td></tr>\n",
              "\t<tr><td>1977</td><td>683,848,710      </td><td>10,171,264 </td><td>7,039,667</td><td>3,131,597     </td><td>14.9  </td><td>10.3  </td><td>4.6           </td><td>1.99                </td><td>70.9           </td></tr>\n",
              "\t<tr><td>1978</td><td>687,149,553      </td><td>10,143,418 </td><td>7,183,531</td><td>2,959,887     </td><td>14.8  </td><td>10.5  </td><td>4.3           </td><td>1.96                </td><td>70.9           </td></tr>\n",
              "\t<tr><td>⋮</td><td>⋮</td><td>⋮</td><td>⋮</td><td>⋮</td><td>⋮</td><td>⋮</td><td>⋮</td><td>⋮</td><td>⋮</td></tr>\n",
              "\t<tr><td>1992</td><td>725,259,493</td><td>8,523,515</td><td>7,935,829</td><td>587,686   </td><td>11.8</td><td>10.9</td><td>0.8 </td><td>1.60</td><td>72.7</td></tr>\n",
              "\t<tr><td>1993</td><td>726,441,892</td><td>8,138,793</td><td>8,412,609</td><td>-273,816  </td><td>11.2</td><td>11.6</td><td>-0.4</td><td>1.53</td><td>72.1</td></tr>\n",
              "\t<tr><td>1994</td><td>727,063,162</td><td>7,913,453</td><td>8,492,472</td><td>-579,019  </td><td>10.9</td><td>11.7</td><td>-0.8</td><td>1.50</td><td>72.1</td></tr>\n",
              "\t<tr><td>1995</td><td>727,300,408</td><td>7,663,831</td><td>8,553,348</td><td>-889,517  </td><td>10.5</td><td>11.8</td><td>-1.2</td><td>1.46</td><td>72.2</td></tr>\n",
              "\t<tr><td>1996</td><td>727,453,566</td><td>7,581,575</td><td>8,394,631</td><td>-813,056  </td><td>10.4</td><td>11.5</td><td>-1.1</td><td>1.45</td><td>72.7</td></tr>\n",
              "\t<tr><td>1997</td><td>727,566,480</td><td>7,476,674</td><td>8,240,385</td><td>-763,711  </td><td>10.3</td><td>11.3</td><td>-1.0</td><td>1.43</td><td>73.2</td></tr>\n",
              "\t<tr><td>1998</td><td>727,445,606</td><td>7,369,527</td><td>8,193,143</td><td>-823,616  </td><td>10.1</td><td>11.3</td><td>-1.1</td><td>1.42</td><td>73.6</td></tr>\n",
              "\t<tr><td>1999</td><td>727,100,016</td><td>7,264,382</td><td>8,402,774</td><td>-1,138,392</td><td>10.0</td><td>11.6</td><td>-1.6</td><td>1.40</td><td>73.4</td></tr>\n",
              "\t<tr><td>2000</td><td>726,968,473</td><td>7,325,763</td><td>8,401,888</td><td>-1,076,125</td><td>10.1</td><td>11.6</td><td>-1.5</td><td>1.42</td><td>73.5</td></tr>\n",
              "\t<tr><td>2001</td><td>726,878,371</td><td>7,277,594</td><td>8,364,598</td><td>-1,087,004</td><td>10.0</td><td>11.5</td><td>-1.5</td><td>1.41</td><td>73.8</td></tr>\n",
              "\t<tr><td>2002</td><td>726,939,358</td><td>7,330,526</td><td>8,520,890</td><td>-1,190,364</td><td>10.1</td><td>11.7</td><td>-1.6</td><td>1.42</td><td>73.8</td></tr>\n",
              "\t<tr><td>2003</td><td>727,424,988</td><td>7,442,475</td><td>8,655,471</td><td>-1,212,996</td><td>10.2</td><td>11.9</td><td>-1.7</td><td>1.45</td><td>73.8</td></tr>\n",
              "\t<tr><td>2004</td><td>728,163,243</td><td>7,558,652</td><td>8,381,363</td><td>-822,711  </td><td>10.4</td><td>11.5</td><td>-1.1</td><td>1.47</td><td>74.4</td></tr>\n",
              "\t<tr><td>2005</td><td>728,950,486</td><td>7,568,637</td><td>8,494,391</td><td>-925,754  </td><td>10.4</td><td>11.7</td><td>-1.3</td><td>1.47</td><td>74.5</td></tr>\n",
              "\t<tr><td>2006</td><td>729,857,708</td><td>7,703,029</td><td>8,237,212</td><td>-534,183  </td><td>10.6</td><td>11.3</td><td>-0.7</td><td>1.50</td><td>75.2</td></tr>\n",
              "\t<tr><td>2007</td><td>731,393,136</td><td>7,886,129</td><td>8,187,820</td><td>-301,691  </td><td>10.8</td><td>11.2</td><td>-0.4</td><td>1.54</td><td>75.6</td></tr>\n",
              "\t<tr><td>2008</td><td>733,256,182</td><td>8,169,398</td><td>8,195,293</td><td>-25,895   </td><td>11.1</td><td>11.2</td><td>0.0 </td><td>1.59</td><td>75.8</td></tr>\n",
              "\t<tr><td>2009</td><td>734,902,805</td><td>8,208,268</td><td>8,099,043</td><td>109,225   </td><td>11.2</td><td>11.0</td><td>0.1 </td><td>1.60</td><td>76.3</td></tr>\n",
              "\t<tr><td>2010</td><td>736,276,813</td><td>8,227,484</td><td>8,128,387</td><td>99,097    </td><td>11.2</td><td>11.0</td><td>0.1 </td><td>1.61</td><td>76.5</td></tr>\n",
              "\t<tr><td>2011</td><td>737,589,666</td><td>8,132,980</td><td>7,958,960</td><td>174,020   </td><td>11.0</td><td>10.8</td><td>0.2 </td><td>1.60</td><td>77.1</td></tr>\n",
              "\t<tr><td>2012</td><td>738,907,594</td><td>8,178,804</td><td>8,078,292</td><td>100,512   </td><td>11.1</td><td>10.9</td><td>0.1 </td><td>1.62</td><td>77.3</td></tr>\n",
              "\t<tr><td>2013</td><td>740,013,806</td><td>8,039,791</td><td>8,033,963</td><td>5,828     </td><td>10.9</td><td>10.9</td><td>0.0 </td><td>1.60</td><td>77.6</td></tr>\n",
              "\t<tr><td>2014</td><td>741,014,147</td><td>8,067,454</td><td>7,955,740</td><td>111,714   </td><td>10.9</td><td>10.7</td><td>0.2 </td><td>1.62</td><td>77.9</td></tr>\n",
              "\t<tr><td>2015</td><td>742,107,449</td><td>8,004,465</td><td>8,177,599</td><td>-173,134  </td><td>10.8</td><td>11.0</td><td>-0.2</td><td>1.62</td><td>78.0</td></tr>\n",
              "\t<tr><td>2016</td><td>743,318,582</td><td>7,950,684</td><td>8,009,194</td><td>-58,510   </td><td>10.7</td><td>10.8</td><td>-0.1</td><td>1.62</td><td>78.4</td></tr>\n",
              "\t<tr><td>2017</td><td>744,449,361</td><td>7,617,755</td><td>8,076,159</td><td>-458,404  </td><td>10.2</td><td>10.8</td><td>-0.6</td><td>1.56</td><td>78.7</td></tr>\n",
              "\t<tr><td>2018</td><td>745,359,130</td><td>7,375,157</td><td>8,112,356</td><td>-737,199  </td><td>9.9 </td><td>10.9</td><td>-1.0</td><td>1.53</td><td>78.8</td></tr>\n",
              "\t<tr><td>2019</td><td>746,189,645</td><td>7,108,392</td><td>8,020,246</td><td>-911,854  </td><td>9.5 </td><td>10.7</td><td>-1.2</td><td>1.49</td><td>79.1</td></tr>\n",
              "\t<tr><td>2020</td><td>746,225,356</td><td>6,938,739</td><td>9,119,281</td><td>-2,180,542</td><td>9.3 </td><td>12.2</td><td>-2.9</td><td>1.47</td><td>77.7</td></tr>\n",
              "\t<tr><td>2021</td><td>745,173,774</td><td>6,879,818</td><td>9,656,398</td><td>-2,776,580</td><td>9.2 </td><td>13.0</td><td>-3.7</td><td>1.48</td><td>77.0</td></tr>\n",
              "</tbody>\n",
              "</table>\n",
              "</li>\n",
              "\t<li><table class=\"dataframe\">\n",
              "<caption>A tibble: 58 × 5</caption>\n",
              "<thead>\n",
              "\t<tr><th scope=col>Country (or territory)</th><th scope=col>Population[1][2]</th><th scope=col>Area.mw-parser-output .nobold{font-weight:normal}(km2)[14]</th><th scope=col>Density(per km2)</th><th scope=col>Capital</th></tr>\n",
              "\t<tr><th scope=col>&lt;chr&gt;</th><th scope=col>&lt;chr&gt;</th><th scope=col>&lt;chr&gt;</th><th scope=col>&lt;chr&gt;</th><th scope=col>&lt;chr&gt;</th></tr>\n",
              "</thead>\n",
              "<tbody>\n",
              "\t<tr><td>Albania *                      </td><td>2,854,710  </td><td>28,748    </td><td>99     </td><td>Tirana          </td></tr>\n",
              "\t<tr><td>Andorra *                      </td><td>79,034     </td><td>468       </td><td>169    </td><td>Andorra la Vella</td></tr>\n",
              "\t<tr><td>Armenia *                      </td><td>2,790,974  </td><td>29,743    </td><td>94     </td><td>Yerevan         </td></tr>\n",
              "\t<tr><td>Austria *                      </td><td>8,922,082  </td><td>83,871    </td><td>106    </td><td>Vienna          </td></tr>\n",
              "\t<tr><td>Azerbaijan *                   </td><td>10,312,992 </td><td>86,600    </td><td>119    </td><td>Baku            </td></tr>\n",
              "\t<tr><td>Belarus *                      </td><td>9,578,167  </td><td>207,600   </td><td>46     </td><td>Minsk           </td></tr>\n",
              "\t<tr><td>Belgium *                      </td><td>11,611,419 </td><td>30,528    </td><td>380    </td><td>Brussels        </td></tr>\n",
              "\t<tr><td>Bosnia and Herzegovina *       </td><td>3,270,943  </td><td>51,209    </td><td>64     </td><td>Sarajevo        </td></tr>\n",
              "\t<tr><td>Bulgaria *                     </td><td>6,520,314  </td><td>110,900   </td><td>59     </td><td>Sofia           </td></tr>\n",
              "\t<tr><td>Croatia *                      </td><td>4,060,135  </td><td>56,594    </td><td>72     </td><td>Zagreb          </td></tr>\n",
              "\t<tr><td>Cyprus *                       </td><td>1,244,188  </td><td>9,251     </td><td>134    </td><td>Nicosia         </td></tr>\n",
              "\t<tr><td>Czech Republic *               </td><td>10,510,751 </td><td>78,866    </td><td>133    </td><td>Prague          </td></tr>\n",
              "\t<tr><td>Denmark *                      </td><td>5,854,240  </td><td>43,094    </td><td>136    </td><td>Copenhagen      </td></tr>\n",
              "\t<tr><td>Estonia *                      </td><td>1,328,701  </td><td>45,227    </td><td>29     </td><td>Tallinn         </td></tr>\n",
              "\t<tr><td>Faroe Islands * (Denmark)      </td><td>49,709     </td><td>1,399     </td><td>35.6   </td><td>Tórshavn        </td></tr>\n",
              "\t<tr><td>Finland *                      </td><td>5,535,992  </td><td>336,852   </td><td>16     </td><td>Helsinki        </td></tr>\n",
              "\t<tr><td>France *                       </td><td>64,531,444 </td><td>551,500   </td><td>117    </td><td>Paris           </td></tr>\n",
              "\t<tr><td>Georgia *                      </td><td>3,757,980  </td><td>69,700    </td><td>54     </td><td>Tbilisi         </td></tr>\n",
              "\t<tr><td>Germany *                      </td><td>83,408,554 </td><td>357,137   </td><td>234    </td><td>Berlin          </td></tr>\n",
              "\t<tr><td>Gibraltar * (UK)               </td><td>32,669     </td><td>6         </td><td>5,445  </td><td>Gibraltar       </td></tr>\n",
              "\t<tr><td>Greece *                       </td><td>10,445,365 </td><td>131,957   </td><td>79     </td><td>Athens          </td></tr>\n",
              "\t<tr><td>Guernsey *[d]                  </td><td>65,345     </td><td>63        </td><td>1,037  </td><td>St. Peter Port  </td></tr>\n",
              "\t<tr><td>Hungary *                      </td><td>9,709,786  </td><td>93,026    </td><td>104    </td><td>Budapest        </td></tr>\n",
              "\t<tr><td>Iceland *                      </td><td>370,335    </td><td>103,000   </td><td>4      </td><td>Reykjavík       </td></tr>\n",
              "\t<tr><td>Ireland *                      </td><td>4,986,526  </td><td>69,825    </td><td>71     </td><td>Dublin          </td></tr>\n",
              "\t<tr><td>Isle of Man *[d]               </td><td>84,263     </td><td>572       </td><td>147    </td><td>Douglas         </td></tr>\n",
              "\t<tr><td>Italy *                        </td><td>59,240,329 </td><td>301,339   </td><td>197    </td><td>Rome            </td></tr>\n",
              "\t<tr><td>Jersey *[d]                    </td><td>97,857     </td><td>116       </td><td>844    </td><td>Saint Helier    </td></tr>\n",
              "\t<tr><td>Kosovo **[p]                   </td><td>1,859,203  </td><td>10,887    </td><td>171    </td><td>Pristina        </td></tr>\n",
              "\t<tr><td>Latvia *                       </td><td>1,873,919  </td><td>64,562    </td><td>29     </td><td>Riga            </td></tr>\n",
              "\t<tr><td>Liechtenstein *                </td><td>39,039     </td><td>160       </td><td>244    </td><td>Vaduz           </td></tr>\n",
              "\t<tr><td>Lithuania *                    </td><td>2,786,651  </td><td>65,300    </td><td>43     </td><td>Vilnius         </td></tr>\n",
              "\t<tr><td>Luxembourg *                   </td><td>639,321    </td><td>2,586     </td><td>247    </td><td>Luxembourg      </td></tr>\n",
              "\t<tr><td>Malta *                        </td><td>526,748    </td><td>316       </td><td>1,667  </td><td>Valletta        </td></tr>\n",
              "\t<tr><td>Moldova *                      </td><td>3,061,506  </td><td>33,846    </td><td>90     </td><td>Chişinău        </td></tr>\n",
              "\t<tr><td>Monaco *                       </td><td>36,686     </td><td>2         </td><td>18,343 </td><td>Monaco          </td></tr>\n",
              "\t<tr><td>Montenegro *                   </td><td>627,859    </td><td>13,812    </td><td>45     </td><td>Podgorica       </td></tr>\n",
              "\t<tr><td>Netherlands *                  </td><td>17,501,696 </td><td>37,354    </td><td>469    </td><td>Amsterdam       </td></tr>\n",
              "\t<tr><td>North Macedonia *              </td><td>2,103,330  </td><td>25,713    </td><td>82     </td><td>Skopje          </td></tr>\n",
              "\t<tr><td>Norway *                       </td><td>5,403,021  </td><td>323,787   </td><td>17     </td><td>Oslo            </td></tr>\n",
              "\t<tr><td>Poland *                       </td><td>38,307,726 </td><td>311,888   </td><td>123    </td><td>Warsaw          </td></tr>\n",
              "\t<tr><td>Portugal *[f]                  </td><td>10,290,103 </td><td>92,212    </td><td>112    </td><td>Lisbon          </td></tr>\n",
              "\t<tr><td>Romania *                      </td><td>19,328,560 </td><td>238,391   </td><td>81     </td><td>Bucharest       </td></tr>\n",
              "\t<tr><td>Russia *                       </td><td>145,102,755</td><td>17,098,246</td><td>8      </td><td>Moscow          </td></tr>\n",
              "\t<tr><td>San Marino *                   </td><td>33,745     </td><td>61        </td><td>553    </td><td>San Marino      </td></tr>\n",
              "\t<tr><td>Serbia *[g]                    </td><td>7,296,769  </td><td>88,361    </td><td>83     </td><td>Belgrade        </td></tr>\n",
              "\t<tr><td>Slovakia *                     </td><td>5,447,622  </td><td>49,036    </td><td>111    </td><td>Bratislava      </td></tr>\n",
              "\t<tr><td>Slovenia *                     </td><td>2,119,410  </td><td>20,273    </td><td>105    </td><td>Ljubljana       </td></tr>\n",
              "\t<tr><td>Spain *                        </td><td>47,486,935 </td><td>505,992   </td><td>94     </td><td>Madrid          </td></tr>\n",
              "\t<tr><td>Svalbard and Jan Mayen (Norway)</td><td>2,868      </td><td>62,422    </td><td>0      </td><td>Longyearbyen    </td></tr>\n",
              "\t<tr><td>Sweden *                       </td><td>10,467,097 </td><td>450,295   </td><td>23     </td><td>Stockholm       </td></tr>\n",
              "\t<tr><td>Switzerland *                  </td><td>8,691,406  </td><td>41,285    </td><td>211    </td><td>Bern            </td></tr>\n",
              "\t<tr><td>Transnistria *                 </td><td>505,000    </td><td>4,163     </td><td>121.3  </td><td>Tiraspol        </td></tr>\n",
              "\t<tr><td>Turkey *                       </td><td>84,775,404 </td><td>783,562   </td><td>108    </td><td>Ankara          </td></tr>\n",
              "\t<tr><td>Ukraine *                      </td><td>43,531,422 </td><td>603,500   </td><td>72     </td><td>Kyiv            </td></tr>\n",
              "\t<tr><td>United Kingdom *               </td><td>67,281,039 </td><td>242,495   </td><td>277    </td><td>London          </td></tr>\n",
              "\t<tr><td>Vatican City *                 </td><td>842        </td><td>0.4       </td><td>1,913.6</td><td>Vatican City    </td></tr>\n",
              "\t<tr><td>Åland (Finland)                </td><td>28,666     </td><td>1,580     </td><td>18     </td><td>Mariehamn       </td></tr>\n",
              "</tbody>\n",
              "</table>\n",
              "</li>\n",
              "</ol>\n"
            ],
            "text/markdown": "1. \nA tibble: 8 × 2\n\n| Year &lt;chr&gt; | Population(% of world total) &lt;chr&gt; |\n|---|---|\n| CE 1 | 34 (15%)  |\n| 1000 | 40 (15%)  |\n| 1500 | 78 (18%)  |\n| 1600 | 112 (20%) |\n| 1700 | 127 (21%) |\n| 1820 | 224 (21%) |\n| 1913 | 498 (28%) |\n| 2000 | 742 (13%) |\n\n\n2. \nA tibble: 31 × 13\n\n| Country/region &lt;chr&gt; | 1 &lt;int&gt; | 1000 &lt;int&gt; | 1500 &lt;int&gt; | 1600 &lt;int&gt; | 1700 &lt;int&gt; | 1820 &lt;int&gt; | 1870 &lt;int&gt; | 1913 &lt;int&gt; | 1950 &lt;int&gt; | 1973 &lt;int&gt; | 1998[6] &lt;int&gt; | 2020 &lt;int&gt; |\n|---|---|---|---|---|---|---|---|---|---|---|---|---|\n| Austria              |    500 |    700 |   2000 |   2500 |   2500 |    3369 |    4520 |    6767 |    6935 |    7586 |    8078 |    8901 |\n| Belgium              |    300 |    400 |   1400 |   1600 |   2000 |    3424 |    5096 |    7666 |    8640 |    9738 |   10197 |   11493 |\n| Denmark              |    180 |    360 |    600 |    650 |    700 |    1155 |    1888 |    2983 |    4269 |    5022 |    5303 |    5823 |\n| Finland              |     20 |     40 |    300 |    400 |    400 |    1169 |    1754 |    3027 |    4009 |    4666 |    5153 |    5536 |\n| France               |   5000 |   6500 |  15000 |  18500 |  21471 |   31246 |   38440 |   41463 |   41836 |   52118 |   58805 |   67287 |\n| Germany              |   3000 |   3500 |  12000 |  16000 |  15000 |   24905 |   39231 |   65058 |   68371 |   78956 |   82029 |   83191 |\n| Italy                |   7000 |   5000 |  10500 |  13100 |  13300 |   20176 |   27888 |   37248 |   47105 |   54751 |   57592 |   59258 |\n| the Netherlands      |    200 |    300 |    950 |   1500 |   1900 |    2355 |    3615 |    6164 |   10114 |   13438 |   15700 |   17425 |\n| Norway               |    100 |    200 |    300 |    400 |    500 |     970 |    1735 |    2447 |    3265 |    3961 |    4432 |    5368 |\n| Sweden               |    200 |    400 |    550 |    760 |   1260 |    2585 |    4164 |    5621 |    7015 |    8137 |    8851 |   10379 |\n| Switzerland          |    300 |    300 |    650 |   1000 |   1200 |    1829 |    2664 |    3864 |    4694 |    6441 |    7130 |    8667 |\n| United Kingdom       |    800 |   2000 |   3942 |   6170 |   8565 |   21226 |   31393 |   45649 |   50363 |   56223 |   59237 |   67886 |\n| Portugal             |    500 |    600 |   1000 |   1100 |   2000 |    3297 |    4353 |    6004 |    8512 |    8634 |    9968 |   10305 |\n| Spain                |   4500 |   4000 |   6800 |   8240 |   8770 |   12203 |   16201 |   20263 |   27868 |   34810 |   39371 |   47431 |\n| Greece               |   2000 |   1000 |   1000 |   1500 |   1500 |    2312 |      NA |      NA |    7554 |    8929 |   10835 |   10689 |\n| 13 small countries   |    100 |    113 |    276 |    358 |    394 |     657 |      NA |      NA |      NA |      NA |      NA |      NA |\n| Total Western Europe |  24700 |  25413 |  57268 |  73778 |  81460 |  132888 |  187532 |  261007 |  305060 |  358390 |  388399 |  419639 |\n| Albania              |    200 |    200 |    200 |    200 |    300 |     437 |      NA |      NA |    1215 |    2296 |    3108 |    2878 |\n| Bulgaria             |    500 |    800 |    800 |   1250 |   1250 |    2187 |      NA |    4200 |    7251 |    8621 |    8257 |    6917 |\n| Czechoslovakia       |   1000 |   1250 |   3000 |   4500 |   4500 |    7190 |      NA |      NA |   12393 |   14563 |   15686 |   16366 |\n| − Czech Rep.         |     NA |     NA |     NA |     NA |     NA |      NA |      NA |      NA |   10221 |    8930 |   10295 |   10702 |\n| - Slovakia           |     NA |     NA |     NA |     NA |     NA |      NA |      NA |      NA |    3463 |    4642 |    5391 |    5460 |\n| Hungary              |    300 |    500 |   1250 |   1250 |   1500 |    4571 |      NA |      NA |    9338 |   10432 |   10237 |    9770 |\n| Poland               |    450 |   1200 |   4000 |   5000 |   6000 |   10426 |      NA |      NA |   25753 |   33363 |   38666 |   38268 |\n| Romania              |    800 |    800 |   2000 |   2000 |   2500 |    6389 |      NA |    7360 |   16311 |   20828 |   22503 |   19266 |\n| Yugoslavia           |   1500 |   1750 |   2250 |   2750 |   2750 |    5215 |      NA |      NA |   16578 |   21088 |      NA |      NA |\n| Eastern Europe       |   4750 |   6500 |  13500 |  16950 |  18800 |   36415 |   52182 |   79604 |   87289 |  110490 |  121006 |  109627 |\n| Former USSR          |   3900 |   7100 |  16950 |  20700 |  26550 |   54765 |   88672 |  156192 |  180050 |  249748 |  290866 |      NA |\n| - Russia             |     NA |     NA |     NA |     NA |     NA |      NA |      NA |      NA |  102833 |  132434 |  147671 |  146171 |\n| - Ukraine            |     NA |     NA |     NA |     NA |     NA |      NA |      NA |   31142 |   36905 |   48274 |   50370 |   41902 |\n| World                | 230820 | 268273 | 437818 | 555828 | 603410 | 1041092 | 1270014 | 1791020 | 2524531 | 3913482 | 5907680 | 7800000 |\n\n\n3. \nA tibble: 20 × 13\n\n| Country/region &lt;chr&gt; | 1 &lt;dbl&gt; | 1000 &lt;dbl&gt; | 1500 &lt;dbl&gt; | 1600 &lt;dbl&gt; | 1700 &lt;dbl&gt; | 1820 &lt;dbl&gt; | 1870 &lt;dbl&gt; | 1913 &lt;dbl&gt; | 1950 &lt;dbl&gt; | 1973 &lt;dbl&gt; | 1998 &lt;dbl&gt; | 2018 &lt;chr&gt; |\n|---|---|---|---|---|---|---|---|---|---|---|---|---|\n| Austria              |   0.2 |   0.3 |   0.5 |   0.4 |   0.4 |   0.3 |   0.4 |   0.4 |   0.3 |   0.2 |   0.1 | <!----> |\n| Belgium              |   0.1 |   0.1 |   0.3 |   0.3 |   0.3 |   0.3 |   0.4 |   0.4 |   0.3 |   0.2 |   0.2 | <!----> |\n| Denmark              |   0.1 |   0.1 |   0.1 |   0.1 |   0.1 |   0.1 |   0.1 |   0.2 |   0.2 |   0.1 |   0.1 | <!----> |\n| Finland              |   0.0 |   0.0 |   0.1 |   0.1 |   0.1 |   0.1 |   0.1 |   0.2 |   0.2 |   0.1 |   0.1 | <!----> |\n| France               |   2.2 |   2.4 |   3.4 |   3.3 |   3.6 |   3.0 |   3.0 |   2.3 |   1.7 |   1.3 |   1.0 | <!----> |\n| Germany              |   1.3 |   1.3 |   2.7 |   2.9 |   2.5 |   2.4 |   3.1 |   3.6 |   2.7 |   2.0 |   1.4 | <!----> |\n| Italy                |   3.0 |   1.9 |   2.4 |   2.4 |   2.2 |   1.9 |   2.2 |   2.1 |   1.9 |   1.4 |   1.0 | <!----> |\n| Netherlands          |   0.1 |   0.1 |   0.2 |   0.3 |   0.3 |   0.2 |   0.3 |   0.3 |   0.4 |   0.3 |   0.3 | <!----> |\n| Norway               |   0.0 |   0.1 |   0.1 |   0.1 |   0.1 |   0.1 |   0.1 |   0.1 |   0.1 |   0.1 |   0.1 | <!----> |\n| Sweden               |   0.1 |   0.1 |   0.1 |   0.1 |   0.2 |   0.2 |   0.3 |   0.3 |   0.3 |   0.2 |   0.1 | <!----> |\n| Switzerland          |   0.1 |   0.1 |   0.1 |   0.2 |   0.2 |   0.2 |   0.2 |   0.2 |   0.2 |   0.2 |   0.1 | <!----> |\n| United Kingdom       |   0.3 |   0.7 |   0.9 |   1.1 |   1.4 |   2.0 |   2.5 |   2.5 |   2.0 |   1.4 |   1.0 | <!----> |\n| Portugal             |   0.2 |   0.2 |   0.2 |   0.2 |   0.3 |   0.3 |   0.3 |   0.3 |   0.3 |   0.2 |   0.2 | <!----> |\n| Spain                |   1.9 |   1.5 |   1.6 |   1.5 |   1.5 |   1.2 |   1.3 |   1.1 |   1.1 |   0.9 |   0.7 | <!----> |\n| Other                |   0.9 |   0.4 |   0.3 |   0.3 |   0.3 |   0.3 |   0.4 |   0.4 |   0.5 |   0.4 |   0.3 | <!----> |\n| Total Western Europe |  10.7 |   9.5 |  13.1 |  13.3 |  13.5 |  12.8 |  14.8 |  14.6 |  12.1 |   9.2 |   6.6 | <!----> |\n| Eastern Europe       |   2.1 |   2.4 |   3.1 |   3.0 |   3.1 |   3.5 |   4.1 |   4.4 |   3.5 |   2.8 |   2.0 | <!----> |\n| Former USSR          |   1.7 |   2.6 |   3.9 |   3.7 |   4.4 |   5.3 |   7.0 |   8.7 |   7.1 |   6.4 |   4.9 | <!----> |\n| Sum                  |  14.5 |  14.5 |  20.1 |  20.0 |  21.0 |  21.6 |  25.9 |  27.7 |  22.7 |  18.4 |  13.5 | 9.8[7] |\n| World                | 100.0 | 100.0 | 100.0 | 100.0 | 100.0 | 100.0 | 100.0 | 100.0 | 100.0 | 100.0 | 100.0 | 100.0  |\n\n\n4. \nA tibble: 73 × 10\n\n| Year &lt;chr&gt; | Averagepopulation &lt;chr&gt; | Live births &lt;chr&gt; | Deaths &lt;chr&gt; | Natural change &lt;chr&gt; | Crude rates (per 1000) &lt;chr&gt; | Crude rates (per 1000) &lt;chr&gt; | Crude rates (per 1000) &lt;chr&gt; | Total fertility rate &lt;chr&gt; | Life expectancy &lt;chr&gt; |\n|---|---|---|---|---|---|---|---|---|---|\n| Year | Averagepopulation | Live births | Deaths    | Natural change | Births | Deaths | Natural change | Total fertility rate | Life expectancy |\n| 1950 | 549,721,718       | 12,202,220  | 6,473,233 | 5,728,987      | 22.2   | 11.8   | 10.4           | 2.70                 | 62.8            |\n| 1951 | 554,559,502       | 12,112,425  | 6,609,794 | 5,502,631      | 21.8   | 11.9   | 9.9            | 2.66                 | 62.8            |\n| 1952 | 559,609,904       | 12,142,368  | 6,265,135 | 5,877,233      | 21.7   | 11.2   | 10.5           | 2.66                 | 64.0            |\n| 1953 | 565,058,633       | 12,120,826  | 6,220,937 | 5,899,889      | 21.5   | 11.0   | 10.4           | 2.64                 | 64.7            |\n| 1954 | 570,670,994       | 12,151,779  | 6,072,645 | 6,079,134      | 21.3   | 10.6   | 10.7           | 2.64                 | 65.5            |\n| 1955 | 576,304,974       | 12,134,270  | 5,987,151 | 6,147,119      | 21.1   | 10.4   | 10.7           | 2.63                 | 66.0            |\n| 1956 | 581,975,516       | 12,133,583  | 5,899,594 | 6,233,989      | 20.8   | 10.1   | 10.7           | 2.62                 | 66.9            |\n| 1957 | 587,711,635       | 12,194,100  | 5,963,269 | 6,230,831      | 20.7   | 10.1   | 10.6           | 2.62                 | 66.9            |\n| 1958 | 593,669,297       | 12,177,600  | 5,647,571 | 6,530,029      | 20.5   | 9.5    | 11.0           | 2.60                 | 68.2            |\n| 1959 | 599,684,870       | 12,178,245  | 5,816,056 | 6,362,189      | 20.3   | 9.7    | 10.6           | 2.60                 | 68.1            |\n| 1960 | 605,629,870       | 12,098,378  | 5,783,828 | 6,314,550      | 20.0   | 9.6    | 10.4           | 2.58                 | 68.8            |\n| 1961 | 611,711,020       | 11,990,399  | 5,749,292 | 6,241,107      | 19.6   | 9.4    | 10.2           | 2.56                 | 69.1            |\n| 1962 | 617,672,206       | 11,784,056  | 6,023,706 | 5,760,350      | 19.1   | 9.8    | 9.3            | 2.53                 | 68.9            |\n| 1963 | 623,335,994       | 11,654,646  | 6,031,219 | 5,623,427      | 18.7   | 9.7    | 9.0            | 2.52                 | 69.2            |\n| 1964 | 628,944,878       | 11,467,618  | 5,843,514 | 5,624,104      | 18.2   | 9.3    | 8.9            | 2.50                 | 69.9            |\n| 1965 | 634,267,606       | 11,141,596  | 6,058,752 | 5,082,844      | 17.6   | 9.6    | 8.0            | 2.45                 | 69.8            |\n| 1966 | 639,264,461       | 10,950,076  | 6,074,808 | 4,875,268      | 17.1   | 9.5    | 7.6            | 2.42                 | 70.0            |\n| 1967 | 644,114,436       | 10,969,039  | 6,204,646 | 4,764,393      | 17.0   | 9.6    | 7.4            | 2.42                 | 70.0            |\n| 1968 | 648,610,191       | 10,821,004  | 6,427,622 | 4,393,382      | 16.7   | 9.9    | 6.8            | 2.38                 | 69.9            |\n| 1969 | 652,740,596       | 10,685,498  | 6,652,543 | 4,032,955      | 16.4   | 10.2   | 6.2            | 2.33                 | 69.6            |\n| 1970 | 656,521,426       | 10,568,071  | 6,602,177 | 3,965,894      | 16.1   | 10.1   | 6.0            | 2.28                 | 70.0            |\n| 1971 | 660,476,010       | 10,662,541  | 6,675,051 | 3,987,490      | 16.1   | 10.1   | 6.0            | 2.27                 | 70.1            |\n| 1972 | 664,799,679       | 10,499,844  | 6,699,913 | 3,799,931      | 15.8   | 10.1   | 5.7            | 2.21                 | 70.3            |\n| 1973 | 668,909,022       | 10,322,172  | 6,814,598 | 3,507,574      | 15.4   | 10.2   | 5.2            | 2.14                 | 70.4            |\n| 1974 | 672,912,941       | 10,406,013  | 6,818,259 | 3,587,754      | 15.5   | 10.1   | 5.3            | 2.13                 | 70.6            |\n| 1975 | 676,770,845       | 10,285,047  | 7,009,188 | 3,275,859      | 15.2   | 10.4   | 4.8            | 2.07                 | 70.5            |\n| 1976 | 680,361,150       | 10,242,399  | 7,085,837 | 3,156,562      | 15.1   | 10.4   | 4.6            | 2.03                 | 70.6            |\n| 1977 | 683,848,710       | 10,171,264  | 7,039,667 | 3,131,597      | 14.9   | 10.3   | 4.6            | 1.99                 | 70.9            |\n| 1978 | 687,149,553       | 10,143,418  | 7,183,531 | 2,959,887      | 14.8   | 10.5   | 4.3            | 1.96                 | 70.9            |\n| ⋮ | ⋮ | ⋮ | ⋮ | ⋮ | ⋮ | ⋮ | ⋮ | ⋮ | ⋮ |\n| 1992 | 725,259,493 | 8,523,515 | 7,935,829 | 587,686    | 11.8 | 10.9 | 0.8  | 1.60 | 72.7 |\n| 1993 | 726,441,892 | 8,138,793 | 8,412,609 | -273,816   | 11.2 | 11.6 | -0.4 | 1.53 | 72.1 |\n| 1994 | 727,063,162 | 7,913,453 | 8,492,472 | -579,019   | 10.9 | 11.7 | -0.8 | 1.50 | 72.1 |\n| 1995 | 727,300,408 | 7,663,831 | 8,553,348 | -889,517   | 10.5 | 11.8 | -1.2 | 1.46 | 72.2 |\n| 1996 | 727,453,566 | 7,581,575 | 8,394,631 | -813,056   | 10.4 | 11.5 | -1.1 | 1.45 | 72.7 |\n| 1997 | 727,566,480 | 7,476,674 | 8,240,385 | -763,711   | 10.3 | 11.3 | -1.0 | 1.43 | 73.2 |\n| 1998 | 727,445,606 | 7,369,527 | 8,193,143 | -823,616   | 10.1 | 11.3 | -1.1 | 1.42 | 73.6 |\n| 1999 | 727,100,016 | 7,264,382 | 8,402,774 | -1,138,392 | 10.0 | 11.6 | -1.6 | 1.40 | 73.4 |\n| 2000 | 726,968,473 | 7,325,763 | 8,401,888 | -1,076,125 | 10.1 | 11.6 | -1.5 | 1.42 | 73.5 |\n| 2001 | 726,878,371 | 7,277,594 | 8,364,598 | -1,087,004 | 10.0 | 11.5 | -1.5 | 1.41 | 73.8 |\n| 2002 | 726,939,358 | 7,330,526 | 8,520,890 | -1,190,364 | 10.1 | 11.7 | -1.6 | 1.42 | 73.8 |\n| 2003 | 727,424,988 | 7,442,475 | 8,655,471 | -1,212,996 | 10.2 | 11.9 | -1.7 | 1.45 | 73.8 |\n| 2004 | 728,163,243 | 7,558,652 | 8,381,363 | -822,711   | 10.4 | 11.5 | -1.1 | 1.47 | 74.4 |\n| 2005 | 728,950,486 | 7,568,637 | 8,494,391 | -925,754   | 10.4 | 11.7 | -1.3 | 1.47 | 74.5 |\n| 2006 | 729,857,708 | 7,703,029 | 8,237,212 | -534,183   | 10.6 | 11.3 | -0.7 | 1.50 | 75.2 |\n| 2007 | 731,393,136 | 7,886,129 | 8,187,820 | -301,691   | 10.8 | 11.2 | -0.4 | 1.54 | 75.6 |\n| 2008 | 733,256,182 | 8,169,398 | 8,195,293 | -25,895    | 11.1 | 11.2 | 0.0  | 1.59 | 75.8 |\n| 2009 | 734,902,805 | 8,208,268 | 8,099,043 | 109,225    | 11.2 | 11.0 | 0.1  | 1.60 | 76.3 |\n| 2010 | 736,276,813 | 8,227,484 | 8,128,387 | 99,097     | 11.2 | 11.0 | 0.1  | 1.61 | 76.5 |\n| 2011 | 737,589,666 | 8,132,980 | 7,958,960 | 174,020    | 11.0 | 10.8 | 0.2  | 1.60 | 77.1 |\n| 2012 | 738,907,594 | 8,178,804 | 8,078,292 | 100,512    | 11.1 | 10.9 | 0.1  | 1.62 | 77.3 |\n| 2013 | 740,013,806 | 8,039,791 | 8,033,963 | 5,828      | 10.9 | 10.9 | 0.0  | 1.60 | 77.6 |\n| 2014 | 741,014,147 | 8,067,454 | 7,955,740 | 111,714    | 10.9 | 10.7 | 0.2  | 1.62 | 77.9 |\n| 2015 | 742,107,449 | 8,004,465 | 8,177,599 | -173,134   | 10.8 | 11.0 | -0.2 | 1.62 | 78.0 |\n| 2016 | 743,318,582 | 7,950,684 | 8,009,194 | -58,510    | 10.7 | 10.8 | -0.1 | 1.62 | 78.4 |\n| 2017 | 744,449,361 | 7,617,755 | 8,076,159 | -458,404   | 10.2 | 10.8 | -0.6 | 1.56 | 78.7 |\n| 2018 | 745,359,130 | 7,375,157 | 8,112,356 | -737,199   | 9.9  | 10.9 | -1.0 | 1.53 | 78.8 |\n| 2019 | 746,189,645 | 7,108,392 | 8,020,246 | -911,854   | 9.5  | 10.7 | -1.2 | 1.49 | 79.1 |\n| 2020 | 746,225,356 | 6,938,739 | 9,119,281 | -2,180,542 | 9.3  | 12.2 | -2.9 | 1.47 | 77.7 |\n| 2021 | 745,173,774 | 6,879,818 | 9,656,398 | -2,776,580 | 9.2  | 13.0 | -3.7 | 1.48 | 77.0 |\n\n\n5. \nA tibble: 58 × 5\n\n| Country (or territory) &lt;chr&gt; | Population[1][2] &lt;chr&gt; | Area.mw-parser-output .nobold{font-weight:normal}(km2)[14] &lt;chr&gt; | Density(per km2) &lt;chr&gt; | Capital &lt;chr&gt; |\n|---|---|---|---|---|\n| Albania *                       | 2,854,710   | 28,748     | 99      | Tirana           |\n| Andorra *                       | 79,034      | 468        | 169     | Andorra la Vella |\n| Armenia *                       | 2,790,974   | 29,743     | 94      | Yerevan          |\n| Austria *                       | 8,922,082   | 83,871     | 106     | Vienna           |\n| Azerbaijan *                    | 10,312,992  | 86,600     | 119     | Baku             |\n| Belarus *                       | 9,578,167   | 207,600    | 46      | Minsk            |\n| Belgium *                       | 11,611,419  | 30,528     | 380     | Brussels         |\n| Bosnia and Herzegovina *        | 3,270,943   | 51,209     | 64      | Sarajevo         |\n| Bulgaria *                      | 6,520,314   | 110,900    | 59      | Sofia            |\n| Croatia *                       | 4,060,135   | 56,594     | 72      | Zagreb           |\n| Cyprus *                        | 1,244,188   | 9,251      | 134     | Nicosia          |\n| Czech Republic *                | 10,510,751  | 78,866     | 133     | Prague           |\n| Denmark *                       | 5,854,240   | 43,094     | 136     | Copenhagen       |\n| Estonia *                       | 1,328,701   | 45,227     | 29      | Tallinn          |\n| Faroe Islands * (Denmark)       | 49,709      | 1,399      | 35.6    | Tórshavn         |\n| Finland *                       | 5,535,992   | 336,852    | 16      | Helsinki         |\n| France *                        | 64,531,444  | 551,500    | 117     | Paris            |\n| Georgia *                       | 3,757,980   | 69,700     | 54      | Tbilisi          |\n| Germany *                       | 83,408,554  | 357,137    | 234     | Berlin           |\n| Gibraltar * (UK)                | 32,669      | 6          | 5,445   | Gibraltar        |\n| Greece *                        | 10,445,365  | 131,957    | 79      | Athens           |\n| Guernsey *[d]                   | 65,345      | 63         | 1,037   | St. Peter Port   |\n| Hungary *                       | 9,709,786   | 93,026     | 104     | Budapest         |\n| Iceland *                       | 370,335     | 103,000    | 4       | Reykjavík        |\n| Ireland *                       | 4,986,526   | 69,825     | 71      | Dublin           |\n| Isle of Man *[d]                | 84,263      | 572        | 147     | Douglas          |\n| Italy *                         | 59,240,329  | 301,339    | 197     | Rome             |\n| Jersey *[d]                     | 97,857      | 116        | 844     | Saint Helier     |\n| Kosovo **[p]                    | 1,859,203   | 10,887     | 171     | Pristina         |\n| Latvia *                        | 1,873,919   | 64,562     | 29      | Riga             |\n| Liechtenstein *                 | 39,039      | 160        | 244     | Vaduz            |\n| Lithuania *                     | 2,786,651   | 65,300     | 43      | Vilnius          |\n| Luxembourg *                    | 639,321     | 2,586      | 247     | Luxembourg       |\n| Malta *                         | 526,748     | 316        | 1,667   | Valletta         |\n| Moldova *                       | 3,061,506   | 33,846     | 90      | Chişinău         |\n| Monaco *                        | 36,686      | 2          | 18,343  | Monaco           |\n| Montenegro *                    | 627,859     | 13,812     | 45      | Podgorica        |\n| Netherlands *                   | 17,501,696  | 37,354     | 469     | Amsterdam        |\n| North Macedonia *               | 2,103,330   | 25,713     | 82      | Skopje           |\n| Norway *                        | 5,403,021   | 323,787    | 17      | Oslo             |\n| Poland *                        | 38,307,726  | 311,888    | 123     | Warsaw           |\n| Portugal *[f]                   | 10,290,103  | 92,212     | 112     | Lisbon           |\n| Romania *                       | 19,328,560  | 238,391    | 81      | Bucharest        |\n| Russia *                        | 145,102,755 | 17,098,246 | 8       | Moscow           |\n| San Marino *                    | 33,745      | 61         | 553     | San Marino       |\n| Serbia *[g]                     | 7,296,769   | 88,361     | 83      | Belgrade         |\n| Slovakia *                      | 5,447,622   | 49,036     | 111     | Bratislava       |\n| Slovenia *                      | 2,119,410   | 20,273     | 105     | Ljubljana        |\n| Spain *                         | 47,486,935  | 505,992    | 94      | Madrid           |\n| Svalbard and Jan Mayen (Norway) | 2,868       | 62,422     | 0       | Longyearbyen     |\n| Sweden *                        | 10,467,097  | 450,295    | 23      | Stockholm        |\n| Switzerland *                   | 8,691,406   | 41,285     | 211     | Bern             |\n| Transnistria *                  | 505,000     | 4,163      | 121.3   | Tiraspol         |\n| Turkey *                        | 84,775,404  | 783,562    | 108     | Ankara           |\n| Ukraine *                       | 43,531,422  | 603,500    | 72      | Kyiv             |\n| United Kingdom *                | 67,281,039  | 242,495    | 277     | London           |\n| Vatican City *                  | 842         | 0.4        | 1,913.6 | Vatican City     |\n| Åland (Finland)                 | 28,666      | 1,580      | 18      | Mariehamn        |\n\n\n\n\n",
            "text/latex": "\\begin{enumerate}\n\\item A tibble: 8 × 2\n\\begin{tabular}{ll}\n Year & Population(\\% of world total)\\\\\n <chr> & <chr>\\\\\n\\hline\n\t CE 1 & 34 (15\\%) \\\\\n\t 1000 & 40 (15\\%) \\\\\n\t 1500 & 78 (18\\%) \\\\\n\t 1600 & 112 (20\\%)\\\\\n\t 1700 & 127 (21\\%)\\\\\n\t 1820 & 224 (21\\%)\\\\\n\t 1913 & 498 (28\\%)\\\\\n\t 2000 & 742 (13\\%)\\\\\n\\end{tabular}\n\n\\item A tibble: 31 × 13\n\\begin{tabular}{lllllllllllll}\n Country/region & 1 & 1000 & 1500 & 1600 & 1700 & 1820 & 1870 & 1913 & 1950 & 1973 & 1998{[}6{]} & 2020\\\\\n <chr> & <int> & <int> & <int> & <int> & <int> & <int> & <int> & <int> & <int> & <int> & <int> & <int>\\\\\n\\hline\n\t Austria              &    500 &    700 &   2000 &   2500 &   2500 &    3369 &    4520 &    6767 &    6935 &    7586 &    8078 &    8901\\\\\n\t Belgium              &    300 &    400 &   1400 &   1600 &   2000 &    3424 &    5096 &    7666 &    8640 &    9738 &   10197 &   11493\\\\\n\t Denmark              &    180 &    360 &    600 &    650 &    700 &    1155 &    1888 &    2983 &    4269 &    5022 &    5303 &    5823\\\\\n\t Finland              &     20 &     40 &    300 &    400 &    400 &    1169 &    1754 &    3027 &    4009 &    4666 &    5153 &    5536\\\\\n\t France               &   5000 &   6500 &  15000 &  18500 &  21471 &   31246 &   38440 &   41463 &   41836 &   52118 &   58805 &   67287\\\\\n\t Germany              &   3000 &   3500 &  12000 &  16000 &  15000 &   24905 &   39231 &   65058 &   68371 &   78956 &   82029 &   83191\\\\\n\t Italy                &   7000 &   5000 &  10500 &  13100 &  13300 &   20176 &   27888 &   37248 &   47105 &   54751 &   57592 &   59258\\\\\n\t the Netherlands      &    200 &    300 &    950 &   1500 &   1900 &    2355 &    3615 &    6164 &   10114 &   13438 &   15700 &   17425\\\\\n\t Norway               &    100 &    200 &    300 &    400 &    500 &     970 &    1735 &    2447 &    3265 &    3961 &    4432 &    5368\\\\\n\t Sweden               &    200 &    400 &    550 &    760 &   1260 &    2585 &    4164 &    5621 &    7015 &    8137 &    8851 &   10379\\\\\n\t Switzerland          &    300 &    300 &    650 &   1000 &   1200 &    1829 &    2664 &    3864 &    4694 &    6441 &    7130 &    8667\\\\\n\t United Kingdom       &    800 &   2000 &   3942 &   6170 &   8565 &   21226 &   31393 &   45649 &   50363 &   56223 &   59237 &   67886\\\\\n\t Portugal             &    500 &    600 &   1000 &   1100 &   2000 &    3297 &    4353 &    6004 &    8512 &    8634 &    9968 &   10305\\\\\n\t Spain                &   4500 &   4000 &   6800 &   8240 &   8770 &   12203 &   16201 &   20263 &   27868 &   34810 &   39371 &   47431\\\\\n\t Greece               &   2000 &   1000 &   1000 &   1500 &   1500 &    2312 &      NA &      NA &    7554 &    8929 &   10835 &   10689\\\\\n\t 13 small countries   &    100 &    113 &    276 &    358 &    394 &     657 &      NA &      NA &      NA &      NA &      NA &      NA\\\\\n\t Total Western Europe &  24700 &  25413 &  57268 &  73778 &  81460 &  132888 &  187532 &  261007 &  305060 &  358390 &  388399 &  419639\\\\\n\t Albania              &    200 &    200 &    200 &    200 &    300 &     437 &      NA &      NA &    1215 &    2296 &    3108 &    2878\\\\\n\t Bulgaria             &    500 &    800 &    800 &   1250 &   1250 &    2187 &      NA &    4200 &    7251 &    8621 &    8257 &    6917\\\\\n\t Czechoslovakia       &   1000 &   1250 &   3000 &   4500 &   4500 &    7190 &      NA &      NA &   12393 &   14563 &   15686 &   16366\\\\\n\t − Czech Rep.         &     NA &     NA &     NA &     NA &     NA &      NA &      NA &      NA &   10221 &    8930 &   10295 &   10702\\\\\n\t - Slovakia           &     NA &     NA &     NA &     NA &     NA &      NA &      NA &      NA &    3463 &    4642 &    5391 &    5460\\\\\n\t Hungary              &    300 &    500 &   1250 &   1250 &   1500 &    4571 &      NA &      NA &    9338 &   10432 &   10237 &    9770\\\\\n\t Poland               &    450 &   1200 &   4000 &   5000 &   6000 &   10426 &      NA &      NA &   25753 &   33363 &   38666 &   38268\\\\\n\t Romania              &    800 &    800 &   2000 &   2000 &   2500 &    6389 &      NA &    7360 &   16311 &   20828 &   22503 &   19266\\\\\n\t Yugoslavia           &   1500 &   1750 &   2250 &   2750 &   2750 &    5215 &      NA &      NA &   16578 &   21088 &      NA &      NA\\\\\n\t Eastern Europe       &   4750 &   6500 &  13500 &  16950 &  18800 &   36415 &   52182 &   79604 &   87289 &  110490 &  121006 &  109627\\\\\n\t Former USSR          &   3900 &   7100 &  16950 &  20700 &  26550 &   54765 &   88672 &  156192 &  180050 &  249748 &  290866 &      NA\\\\\n\t - Russia             &     NA &     NA &     NA &     NA &     NA &      NA &      NA &      NA &  102833 &  132434 &  147671 &  146171\\\\\n\t - Ukraine            &     NA &     NA &     NA &     NA &     NA &      NA &      NA &   31142 &   36905 &   48274 &   50370 &   41902\\\\\n\t World                & 230820 & 268273 & 437818 & 555828 & 603410 & 1041092 & 1270014 & 1791020 & 2524531 & 3913482 & 5907680 & 7800000\\\\\n\\end{tabular}\n\n\\item A tibble: 20 × 13\n\\begin{tabular}{lllllllllllll}\n Country/region & 1 & 1000 & 1500 & 1600 & 1700 & 1820 & 1870 & 1913 & 1950 & 1973 & 1998 & 2018\\\\\n <chr> & <dbl> & <dbl> & <dbl> & <dbl> & <dbl> & <dbl> & <dbl> & <dbl> & <dbl> & <dbl> & <dbl> & <chr>\\\\\n\\hline\n\t Austria              &   0.2 &   0.3 &   0.5 &   0.4 &   0.4 &   0.3 &   0.4 &   0.4 &   0.3 &   0.2 &   0.1 &       \\\\\n\t Belgium              &   0.1 &   0.1 &   0.3 &   0.3 &   0.3 &   0.3 &   0.4 &   0.4 &   0.3 &   0.2 &   0.2 &       \\\\\n\t Denmark              &   0.1 &   0.1 &   0.1 &   0.1 &   0.1 &   0.1 &   0.1 &   0.2 &   0.2 &   0.1 &   0.1 &       \\\\\n\t Finland              &   0.0 &   0.0 &   0.1 &   0.1 &   0.1 &   0.1 &   0.1 &   0.2 &   0.2 &   0.1 &   0.1 &       \\\\\n\t France               &   2.2 &   2.4 &   3.4 &   3.3 &   3.6 &   3.0 &   3.0 &   2.3 &   1.7 &   1.3 &   1.0 &       \\\\\n\t Germany              &   1.3 &   1.3 &   2.7 &   2.9 &   2.5 &   2.4 &   3.1 &   3.6 &   2.7 &   2.0 &   1.4 &       \\\\\n\t Italy                &   3.0 &   1.9 &   2.4 &   2.4 &   2.2 &   1.9 &   2.2 &   2.1 &   1.9 &   1.4 &   1.0 &       \\\\\n\t Netherlands          &   0.1 &   0.1 &   0.2 &   0.3 &   0.3 &   0.2 &   0.3 &   0.3 &   0.4 &   0.3 &   0.3 &       \\\\\n\t Norway               &   0.0 &   0.1 &   0.1 &   0.1 &   0.1 &   0.1 &   0.1 &   0.1 &   0.1 &   0.1 &   0.1 &       \\\\\n\t Sweden               &   0.1 &   0.1 &   0.1 &   0.1 &   0.2 &   0.2 &   0.3 &   0.3 &   0.3 &   0.2 &   0.1 &       \\\\\n\t Switzerland          &   0.1 &   0.1 &   0.1 &   0.2 &   0.2 &   0.2 &   0.2 &   0.2 &   0.2 &   0.2 &   0.1 &       \\\\\n\t United Kingdom       &   0.3 &   0.7 &   0.9 &   1.1 &   1.4 &   2.0 &   2.5 &   2.5 &   2.0 &   1.4 &   1.0 &       \\\\\n\t Portugal             &   0.2 &   0.2 &   0.2 &   0.2 &   0.3 &   0.3 &   0.3 &   0.3 &   0.3 &   0.2 &   0.2 &       \\\\\n\t Spain                &   1.9 &   1.5 &   1.6 &   1.5 &   1.5 &   1.2 &   1.3 &   1.1 &   1.1 &   0.9 &   0.7 &       \\\\\n\t Other                &   0.9 &   0.4 &   0.3 &   0.3 &   0.3 &   0.3 &   0.4 &   0.4 &   0.5 &   0.4 &   0.3 &       \\\\\n\t Total Western Europe &  10.7 &   9.5 &  13.1 &  13.3 &  13.5 &  12.8 &  14.8 &  14.6 &  12.1 &   9.2 &   6.6 &       \\\\\n\t Eastern Europe       &   2.1 &   2.4 &   3.1 &   3.0 &   3.1 &   3.5 &   4.1 &   4.4 &   3.5 &   2.8 &   2.0 &       \\\\\n\t Former USSR          &   1.7 &   2.6 &   3.9 &   3.7 &   4.4 &   5.3 &   7.0 &   8.7 &   7.1 &   6.4 &   4.9 &       \\\\\n\t Sum                  &  14.5 &  14.5 &  20.1 &  20.0 &  21.0 &  21.6 &  25.9 &  27.7 &  22.7 &  18.4 &  13.5 & 9.8{[}7{]}\\\\\n\t World                & 100.0 & 100.0 & 100.0 & 100.0 & 100.0 & 100.0 & 100.0 & 100.0 & 100.0 & 100.0 & 100.0 & 100.0 \\\\\n\\end{tabular}\n\n\\item A tibble: 73 × 10\n\\begin{tabular}{llllllllll}\n Year & Averagepopulation & Live births & Deaths & Natural change & Crude rates (per 1000) & Crude rates (per 1000) & Crude rates (per 1000) & Total fertility rate & Life expectancy\\\\\n <chr> & <chr> & <chr> & <chr> & <chr> & <chr> & <chr> & <chr> & <chr> & <chr>\\\\\n\\hline\n\t Year & Averagepopulation & Live births & Deaths    & Natural change & Births & Deaths & Natural change & Total fertility rate & Life expectancy\\\\\n\t 1950 & 549,721,718       & 12,202,220  & 6,473,233 & 5,728,987      & 22.2   & 11.8   & 10.4           & 2.70                 & 62.8           \\\\\n\t 1951 & 554,559,502       & 12,112,425  & 6,609,794 & 5,502,631      & 21.8   & 11.9   & 9.9            & 2.66                 & 62.8           \\\\\n\t 1952 & 559,609,904       & 12,142,368  & 6,265,135 & 5,877,233      & 21.7   & 11.2   & 10.5           & 2.66                 & 64.0           \\\\\n\t 1953 & 565,058,633       & 12,120,826  & 6,220,937 & 5,899,889      & 21.5   & 11.0   & 10.4           & 2.64                 & 64.7           \\\\\n\t 1954 & 570,670,994       & 12,151,779  & 6,072,645 & 6,079,134      & 21.3   & 10.6   & 10.7           & 2.64                 & 65.5           \\\\\n\t 1955 & 576,304,974       & 12,134,270  & 5,987,151 & 6,147,119      & 21.1   & 10.4   & 10.7           & 2.63                 & 66.0           \\\\\n\t 1956 & 581,975,516       & 12,133,583  & 5,899,594 & 6,233,989      & 20.8   & 10.1   & 10.7           & 2.62                 & 66.9           \\\\\n\t 1957 & 587,711,635       & 12,194,100  & 5,963,269 & 6,230,831      & 20.7   & 10.1   & 10.6           & 2.62                 & 66.9           \\\\\n\t 1958 & 593,669,297       & 12,177,600  & 5,647,571 & 6,530,029      & 20.5   & 9.5    & 11.0           & 2.60                 & 68.2           \\\\\n\t 1959 & 599,684,870       & 12,178,245  & 5,816,056 & 6,362,189      & 20.3   & 9.7    & 10.6           & 2.60                 & 68.1           \\\\\n\t 1960 & 605,629,870       & 12,098,378  & 5,783,828 & 6,314,550      & 20.0   & 9.6    & 10.4           & 2.58                 & 68.8           \\\\\n\t 1961 & 611,711,020       & 11,990,399  & 5,749,292 & 6,241,107      & 19.6   & 9.4    & 10.2           & 2.56                 & 69.1           \\\\\n\t 1962 & 617,672,206       & 11,784,056  & 6,023,706 & 5,760,350      & 19.1   & 9.8    & 9.3            & 2.53                 & 68.9           \\\\\n\t 1963 & 623,335,994       & 11,654,646  & 6,031,219 & 5,623,427      & 18.7   & 9.7    & 9.0            & 2.52                 & 69.2           \\\\\n\t 1964 & 628,944,878       & 11,467,618  & 5,843,514 & 5,624,104      & 18.2   & 9.3    & 8.9            & 2.50                 & 69.9           \\\\\n\t 1965 & 634,267,606       & 11,141,596  & 6,058,752 & 5,082,844      & 17.6   & 9.6    & 8.0            & 2.45                 & 69.8           \\\\\n\t 1966 & 639,264,461       & 10,950,076  & 6,074,808 & 4,875,268      & 17.1   & 9.5    & 7.6            & 2.42                 & 70.0           \\\\\n\t 1967 & 644,114,436       & 10,969,039  & 6,204,646 & 4,764,393      & 17.0   & 9.6    & 7.4            & 2.42                 & 70.0           \\\\\n\t 1968 & 648,610,191       & 10,821,004  & 6,427,622 & 4,393,382      & 16.7   & 9.9    & 6.8            & 2.38                 & 69.9           \\\\\n\t 1969 & 652,740,596       & 10,685,498  & 6,652,543 & 4,032,955      & 16.4   & 10.2   & 6.2            & 2.33                 & 69.6           \\\\\n\t 1970 & 656,521,426       & 10,568,071  & 6,602,177 & 3,965,894      & 16.1   & 10.1   & 6.0            & 2.28                 & 70.0           \\\\\n\t 1971 & 660,476,010       & 10,662,541  & 6,675,051 & 3,987,490      & 16.1   & 10.1   & 6.0            & 2.27                 & 70.1           \\\\\n\t 1972 & 664,799,679       & 10,499,844  & 6,699,913 & 3,799,931      & 15.8   & 10.1   & 5.7            & 2.21                 & 70.3           \\\\\n\t 1973 & 668,909,022       & 10,322,172  & 6,814,598 & 3,507,574      & 15.4   & 10.2   & 5.2            & 2.14                 & 70.4           \\\\\n\t 1974 & 672,912,941       & 10,406,013  & 6,818,259 & 3,587,754      & 15.5   & 10.1   & 5.3            & 2.13                 & 70.6           \\\\\n\t 1975 & 676,770,845       & 10,285,047  & 7,009,188 & 3,275,859      & 15.2   & 10.4   & 4.8            & 2.07                 & 70.5           \\\\\n\t 1976 & 680,361,150       & 10,242,399  & 7,085,837 & 3,156,562      & 15.1   & 10.4   & 4.6            & 2.03                 & 70.6           \\\\\n\t 1977 & 683,848,710       & 10,171,264  & 7,039,667 & 3,131,597      & 14.9   & 10.3   & 4.6            & 1.99                 & 70.9           \\\\\n\t 1978 & 687,149,553       & 10,143,418  & 7,183,531 & 2,959,887      & 14.8   & 10.5   & 4.3            & 1.96                 & 70.9           \\\\\n\t ⋮ & ⋮ & ⋮ & ⋮ & ⋮ & ⋮ & ⋮ & ⋮ & ⋮ & ⋮\\\\\n\t 1992 & 725,259,493 & 8,523,515 & 7,935,829 & 587,686    & 11.8 & 10.9 & 0.8  & 1.60 & 72.7\\\\\n\t 1993 & 726,441,892 & 8,138,793 & 8,412,609 & -273,816   & 11.2 & 11.6 & -0.4 & 1.53 & 72.1\\\\\n\t 1994 & 727,063,162 & 7,913,453 & 8,492,472 & -579,019   & 10.9 & 11.7 & -0.8 & 1.50 & 72.1\\\\\n\t 1995 & 727,300,408 & 7,663,831 & 8,553,348 & -889,517   & 10.5 & 11.8 & -1.2 & 1.46 & 72.2\\\\\n\t 1996 & 727,453,566 & 7,581,575 & 8,394,631 & -813,056   & 10.4 & 11.5 & -1.1 & 1.45 & 72.7\\\\\n\t 1997 & 727,566,480 & 7,476,674 & 8,240,385 & -763,711   & 10.3 & 11.3 & -1.0 & 1.43 & 73.2\\\\\n\t 1998 & 727,445,606 & 7,369,527 & 8,193,143 & -823,616   & 10.1 & 11.3 & -1.1 & 1.42 & 73.6\\\\\n\t 1999 & 727,100,016 & 7,264,382 & 8,402,774 & -1,138,392 & 10.0 & 11.6 & -1.6 & 1.40 & 73.4\\\\\n\t 2000 & 726,968,473 & 7,325,763 & 8,401,888 & -1,076,125 & 10.1 & 11.6 & -1.5 & 1.42 & 73.5\\\\\n\t 2001 & 726,878,371 & 7,277,594 & 8,364,598 & -1,087,004 & 10.0 & 11.5 & -1.5 & 1.41 & 73.8\\\\\n\t 2002 & 726,939,358 & 7,330,526 & 8,520,890 & -1,190,364 & 10.1 & 11.7 & -1.6 & 1.42 & 73.8\\\\\n\t 2003 & 727,424,988 & 7,442,475 & 8,655,471 & -1,212,996 & 10.2 & 11.9 & -1.7 & 1.45 & 73.8\\\\\n\t 2004 & 728,163,243 & 7,558,652 & 8,381,363 & -822,711   & 10.4 & 11.5 & -1.1 & 1.47 & 74.4\\\\\n\t 2005 & 728,950,486 & 7,568,637 & 8,494,391 & -925,754   & 10.4 & 11.7 & -1.3 & 1.47 & 74.5\\\\\n\t 2006 & 729,857,708 & 7,703,029 & 8,237,212 & -534,183   & 10.6 & 11.3 & -0.7 & 1.50 & 75.2\\\\\n\t 2007 & 731,393,136 & 7,886,129 & 8,187,820 & -301,691   & 10.8 & 11.2 & -0.4 & 1.54 & 75.6\\\\\n\t 2008 & 733,256,182 & 8,169,398 & 8,195,293 & -25,895    & 11.1 & 11.2 & 0.0  & 1.59 & 75.8\\\\\n\t 2009 & 734,902,805 & 8,208,268 & 8,099,043 & 109,225    & 11.2 & 11.0 & 0.1  & 1.60 & 76.3\\\\\n\t 2010 & 736,276,813 & 8,227,484 & 8,128,387 & 99,097     & 11.2 & 11.0 & 0.1  & 1.61 & 76.5\\\\\n\t 2011 & 737,589,666 & 8,132,980 & 7,958,960 & 174,020    & 11.0 & 10.8 & 0.2  & 1.60 & 77.1\\\\\n\t 2012 & 738,907,594 & 8,178,804 & 8,078,292 & 100,512    & 11.1 & 10.9 & 0.1  & 1.62 & 77.3\\\\\n\t 2013 & 740,013,806 & 8,039,791 & 8,033,963 & 5,828      & 10.9 & 10.9 & 0.0  & 1.60 & 77.6\\\\\n\t 2014 & 741,014,147 & 8,067,454 & 7,955,740 & 111,714    & 10.9 & 10.7 & 0.2  & 1.62 & 77.9\\\\\n\t 2015 & 742,107,449 & 8,004,465 & 8,177,599 & -173,134   & 10.8 & 11.0 & -0.2 & 1.62 & 78.0\\\\\n\t 2016 & 743,318,582 & 7,950,684 & 8,009,194 & -58,510    & 10.7 & 10.8 & -0.1 & 1.62 & 78.4\\\\\n\t 2017 & 744,449,361 & 7,617,755 & 8,076,159 & -458,404   & 10.2 & 10.8 & -0.6 & 1.56 & 78.7\\\\\n\t 2018 & 745,359,130 & 7,375,157 & 8,112,356 & -737,199   & 9.9  & 10.9 & -1.0 & 1.53 & 78.8\\\\\n\t 2019 & 746,189,645 & 7,108,392 & 8,020,246 & -911,854   & 9.5  & 10.7 & -1.2 & 1.49 & 79.1\\\\\n\t 2020 & 746,225,356 & 6,938,739 & 9,119,281 & -2,180,542 & 9.3  & 12.2 & -2.9 & 1.47 & 77.7\\\\\n\t 2021 & 745,173,774 & 6,879,818 & 9,656,398 & -2,776,580 & 9.2  & 13.0 & -3.7 & 1.48 & 77.0\\\\\n\\end{tabular}\n\n\\item A tibble: 58 × 5\n\\begin{tabular}{lllll}\n Country (or territory) & Population{[}1{]}{[}2{]} & Area.mw-parser-output .nobold\\{font-weight:normal\\}(km2){[}14{]} & Density(per km2) & Capital\\\\\n <chr> & <chr> & <chr> & <chr> & <chr>\\\\\n\\hline\n\t Albania *                       & 2,854,710   & 28,748     & 99      & Tirana          \\\\\n\t Andorra *                       & 79,034      & 468        & 169     & Andorra la Vella\\\\\n\t Armenia *                       & 2,790,974   & 29,743     & 94      & Yerevan         \\\\\n\t Austria *                       & 8,922,082   & 83,871     & 106     & Vienna          \\\\\n\t Azerbaijan *                    & 10,312,992  & 86,600     & 119     & Baku            \\\\\n\t Belarus *                       & 9,578,167   & 207,600    & 46      & Minsk           \\\\\n\t Belgium *                       & 11,611,419  & 30,528     & 380     & Brussels        \\\\\n\t Bosnia and Herzegovina *        & 3,270,943   & 51,209     & 64      & Sarajevo        \\\\\n\t Bulgaria *                      & 6,520,314   & 110,900    & 59      & Sofia           \\\\\n\t Croatia *                       & 4,060,135   & 56,594     & 72      & Zagreb          \\\\\n\t Cyprus *                        & 1,244,188   & 9,251      & 134     & Nicosia         \\\\\n\t Czech Republic *                & 10,510,751  & 78,866     & 133     & Prague          \\\\\n\t Denmark *                       & 5,854,240   & 43,094     & 136     & Copenhagen      \\\\\n\t Estonia *                       & 1,328,701   & 45,227     & 29      & Tallinn         \\\\\n\t Faroe Islands * (Denmark)       & 49,709      & 1,399      & 35.6    & Tórshavn        \\\\\n\t Finland *                       & 5,535,992   & 336,852    & 16      & Helsinki        \\\\\n\t France *                        & 64,531,444  & 551,500    & 117     & Paris           \\\\\n\t Georgia *                       & 3,757,980   & 69,700     & 54      & Tbilisi         \\\\\n\t Germany *                       & 83,408,554  & 357,137    & 234     & Berlin          \\\\\n\t Gibraltar * (UK)                & 32,669      & 6          & 5,445   & Gibraltar       \\\\\n\t Greece *                        & 10,445,365  & 131,957    & 79      & Athens          \\\\\n\t Guernsey *{[}d{]}                   & 65,345      & 63         & 1,037   & St. Peter Port  \\\\\n\t Hungary *                       & 9,709,786   & 93,026     & 104     & Budapest        \\\\\n\t Iceland *                       & 370,335     & 103,000    & 4       & Reykjavík       \\\\\n\t Ireland *                       & 4,986,526   & 69,825     & 71      & Dublin          \\\\\n\t Isle of Man *{[}d{]}                & 84,263      & 572        & 147     & Douglas         \\\\\n\t Italy *                         & 59,240,329  & 301,339    & 197     & Rome            \\\\\n\t Jersey *{[}d{]}                     & 97,857      & 116        & 844     & Saint Helier    \\\\\n\t Kosovo **{[}p{]}                    & 1,859,203   & 10,887     & 171     & Pristina        \\\\\n\t Latvia *                        & 1,873,919   & 64,562     & 29      & Riga            \\\\\n\t Liechtenstein *                 & 39,039      & 160        & 244     & Vaduz           \\\\\n\t Lithuania *                     & 2,786,651   & 65,300     & 43      & Vilnius         \\\\\n\t Luxembourg *                    & 639,321     & 2,586      & 247     & Luxembourg      \\\\\n\t Malta *                         & 526,748     & 316        & 1,667   & Valletta        \\\\\n\t Moldova *                       & 3,061,506   & 33,846     & 90      & Chişinău        \\\\\n\t Monaco *                        & 36,686      & 2          & 18,343  & Monaco          \\\\\n\t Montenegro *                    & 627,859     & 13,812     & 45      & Podgorica       \\\\\n\t Netherlands *                   & 17,501,696  & 37,354     & 469     & Amsterdam       \\\\\n\t North Macedonia *               & 2,103,330   & 25,713     & 82      & Skopje          \\\\\n\t Norway *                        & 5,403,021   & 323,787    & 17      & Oslo            \\\\\n\t Poland *                        & 38,307,726  & 311,888    & 123     & Warsaw          \\\\\n\t Portugal *{[}f{]}                   & 10,290,103  & 92,212     & 112     & Lisbon          \\\\\n\t Romania *                       & 19,328,560  & 238,391    & 81      & Bucharest       \\\\\n\t Russia *                        & 145,102,755 & 17,098,246 & 8       & Moscow          \\\\\n\t San Marino *                    & 33,745      & 61         & 553     & San Marino      \\\\\n\t Serbia *{[}g{]}                     & 7,296,769   & 88,361     & 83      & Belgrade        \\\\\n\t Slovakia *                      & 5,447,622   & 49,036     & 111     & Bratislava      \\\\\n\t Slovenia *                      & 2,119,410   & 20,273     & 105     & Ljubljana       \\\\\n\t Spain *                         & 47,486,935  & 505,992    & 94      & Madrid          \\\\\n\t Svalbard and Jan Mayen (Norway) & 2,868       & 62,422     & 0       & Longyearbyen    \\\\\n\t Sweden *                        & 10,467,097  & 450,295    & 23      & Stockholm       \\\\\n\t Switzerland *                   & 8,691,406   & 41,285     & 211     & Bern            \\\\\n\t Transnistria *                  & 505,000     & 4,163      & 121.3   & Tiraspol        \\\\\n\t Turkey *                        & 84,775,404  & 783,562    & 108     & Ankara          \\\\\n\t Ukraine *                       & 43,531,422  & 603,500    & 72      & Kyiv            \\\\\n\t United Kingdom *                & 67,281,039  & 242,495    & 277     & London          \\\\\n\t Vatican City *                  & 842         & 0.4        & 1,913.6 & Vatican City    \\\\\n\t Åland (Finland)                 & 28,666      & 1,580      & 18      & Mariehamn       \\\\\n\\end{tabular}\n\n\\end{enumerate}\n",
            "text/plain": [
              "[[1]]\n",
              "\u001b[90m# A tibble: 8 × 2\u001b[39m\n",
              "  Year  `Population(% of world total)`\n",
              "  \u001b[3m\u001b[90m<chr>\u001b[39m\u001b[23m \u001b[3m\u001b[90m<chr>\u001b[39m\u001b[23m                         \n",
              "\u001b[90m1\u001b[39m CE 1  34 (15%)                      \n",
              "\u001b[90m2\u001b[39m 1000  40 (15%)                      \n",
              "\u001b[90m3\u001b[39m 1500  78 (18%)                      \n",
              "\u001b[90m4\u001b[39m 1600  112 (20%)                     \n",
              "\u001b[90m5\u001b[39m 1700  127 (21%)                     \n",
              "\u001b[90m6\u001b[39m 1820  224 (21%)                     \n",
              "\u001b[90m7\u001b[39m 1913  498 (28%)                     \n",
              "\u001b[90m8\u001b[39m 2000  742 (13%)                     \n",
              "\n",
              "[[2]]\n",
              "\u001b[90m# A tibble: 31 × 13\u001b[39m\n",
              "   Countr…¹   `1` `1000` `1500` `1600` `1700` `1820` `1870` `1913` `1950` `1973`\n",
              "   \u001b[3m\u001b[90m<chr>\u001b[39m\u001b[23m    \u001b[3m\u001b[90m<int>\u001b[39m\u001b[23m  \u001b[3m\u001b[90m<int>\u001b[39m\u001b[23m  \u001b[3m\u001b[90m<int>\u001b[39m\u001b[23m  \u001b[3m\u001b[90m<int>\u001b[39m\u001b[23m  \u001b[3m\u001b[90m<int>\u001b[39m\u001b[23m  \u001b[3m\u001b[90m<int>\u001b[39m\u001b[23m  \u001b[3m\u001b[90m<int>\u001b[39m\u001b[23m  \u001b[3m\u001b[90m<int>\u001b[39m\u001b[23m  \u001b[3m\u001b[90m<int>\u001b[39m\u001b[23m  \u001b[3m\u001b[90m<int>\u001b[39m\u001b[23m\n",
              "\u001b[90m 1\u001b[39m Austria    500    700   \u001b[4m2\u001b[24m000   \u001b[4m2\u001b[24m500   \u001b[4m2\u001b[24m500   \u001b[4m3\u001b[24m369   \u001b[4m4\u001b[24m520   \u001b[4m6\u001b[24m767   \u001b[4m6\u001b[24m935   \u001b[4m7\u001b[24m586\n",
              "\u001b[90m 2\u001b[39m Belgium    300    400   \u001b[4m1\u001b[24m400   \u001b[4m1\u001b[24m600   \u001b[4m2\u001b[24m000   \u001b[4m3\u001b[24m424   \u001b[4m5\u001b[24m096   \u001b[4m7\u001b[24m666   \u001b[4m8\u001b[24m640   \u001b[4m9\u001b[24m738\n",
              "\u001b[90m 3\u001b[39m Denmark    180    360    600    650    700   \u001b[4m1\u001b[24m155   \u001b[4m1\u001b[24m888   \u001b[4m2\u001b[24m983   \u001b[4m4\u001b[24m269   \u001b[4m5\u001b[24m022\n",
              "\u001b[90m 4\u001b[39m Finland     20     40    300    400    400   \u001b[4m1\u001b[24m169   \u001b[4m1\u001b[24m754   \u001b[4m3\u001b[24m027   \u001b[4m4\u001b[24m009   \u001b[4m4\u001b[24m666\n",
              "\u001b[90m 5\u001b[39m France    \u001b[4m5\u001b[24m000   \u001b[4m6\u001b[24m500  \u001b[4m1\u001b[24m\u001b[4m5\u001b[24m000  \u001b[4m1\u001b[24m\u001b[4m8\u001b[24m500  \u001b[4m2\u001b[24m\u001b[4m1\u001b[24m471  \u001b[4m3\u001b[24m\u001b[4m1\u001b[24m246  \u001b[4m3\u001b[24m\u001b[4m8\u001b[24m440  \u001b[4m4\u001b[24m\u001b[4m1\u001b[24m463  \u001b[4m4\u001b[24m\u001b[4m1\u001b[24m836  \u001b[4m5\u001b[24m\u001b[4m2\u001b[24m118\n",
              "\u001b[90m 6\u001b[39m Germany   \u001b[4m3\u001b[24m000   \u001b[4m3\u001b[24m500  \u001b[4m1\u001b[24m\u001b[4m2\u001b[24m000  \u001b[4m1\u001b[24m\u001b[4m6\u001b[24m000  \u001b[4m1\u001b[24m\u001b[4m5\u001b[24m000  \u001b[4m2\u001b[24m\u001b[4m4\u001b[24m905  \u001b[4m3\u001b[24m\u001b[4m9\u001b[24m231  \u001b[4m6\u001b[24m\u001b[4m5\u001b[24m058  \u001b[4m6\u001b[24m\u001b[4m8\u001b[24m371  \u001b[4m7\u001b[24m\u001b[4m8\u001b[24m956\n",
              "\u001b[90m 7\u001b[39m Italy     \u001b[4m7\u001b[24m000   \u001b[4m5\u001b[24m000  \u001b[4m1\u001b[24m\u001b[4m0\u001b[24m500  \u001b[4m1\u001b[24m\u001b[4m3\u001b[24m100  \u001b[4m1\u001b[24m\u001b[4m3\u001b[24m300  \u001b[4m2\u001b[24m\u001b[4m0\u001b[24m176  \u001b[4m2\u001b[24m\u001b[4m7\u001b[24m888  \u001b[4m3\u001b[24m\u001b[4m7\u001b[24m248  \u001b[4m4\u001b[24m\u001b[4m7\u001b[24m105  \u001b[4m5\u001b[24m\u001b[4m4\u001b[24m751\n",
              "\u001b[90m 8\u001b[39m the Net…   200    300    950   \u001b[4m1\u001b[24m500   \u001b[4m1\u001b[24m900   \u001b[4m2\u001b[24m355   \u001b[4m3\u001b[24m615   \u001b[4m6\u001b[24m164  \u001b[4m1\u001b[24m\u001b[4m0\u001b[24m114  \u001b[4m1\u001b[24m\u001b[4m3\u001b[24m438\n",
              "\u001b[90m 9\u001b[39m Norway     100    200    300    400    500    970   \u001b[4m1\u001b[24m735   \u001b[4m2\u001b[24m447   \u001b[4m3\u001b[24m265   \u001b[4m3\u001b[24m961\n",
              "\u001b[90m10\u001b[39m Sweden     200    400    550    760   \u001b[4m1\u001b[24m260   \u001b[4m2\u001b[24m585   \u001b[4m4\u001b[24m164   \u001b[4m5\u001b[24m621   \u001b[4m7\u001b[24m015   \u001b[4m8\u001b[24m137\n",
              "\u001b[90m# … with 21 more rows, 2 more variables: `1998[6]` <int>, `2020` <int>, and\u001b[39m\n",
              "\u001b[90m#   abbreviated variable name ¹​`Country/region`\u001b[39m\n",
              "\n",
              "[[3]]\n",
              "\u001b[90m# A tibble: 20 × 13\u001b[39m\n",
              "   Countr…¹   `1` `1000` `1500` `1600` `1700` `1820` `1870` `1913` `1950` `1973`\n",
              "   \u001b[3m\u001b[90m<chr>\u001b[39m\u001b[23m    \u001b[3m\u001b[90m<dbl>\u001b[39m\u001b[23m  \u001b[3m\u001b[90m<dbl>\u001b[39m\u001b[23m  \u001b[3m\u001b[90m<dbl>\u001b[39m\u001b[23m  \u001b[3m\u001b[90m<dbl>\u001b[39m\u001b[23m  \u001b[3m\u001b[90m<dbl>\u001b[39m\u001b[23m  \u001b[3m\u001b[90m<dbl>\u001b[39m\u001b[23m  \u001b[3m\u001b[90m<dbl>\u001b[39m\u001b[23m  \u001b[3m\u001b[90m<dbl>\u001b[39m\u001b[23m  \u001b[3m\u001b[90m<dbl>\u001b[39m\u001b[23m  \u001b[3m\u001b[90m<dbl>\u001b[39m\u001b[23m\n",
              "\u001b[90m 1\u001b[39m Austria    0.2    0.3    0.5    0.4    0.4    0.3    0.4    0.4    0.3    0.2\n",
              "\u001b[90m 2\u001b[39m Belgium    0.1    0.1    0.3    0.3    0.3    0.3    0.4    0.4    0.3    0.2\n",
              "\u001b[90m 3\u001b[39m Denmark    0.1    0.1    0.1    0.1    0.1    0.1    0.1    0.2    0.2    0.1\n",
              "\u001b[90m 4\u001b[39m Finland    0      0      0.1    0.1    0.1    0.1    0.1    0.2    0.2    0.1\n",
              "\u001b[90m 5\u001b[39m France     2.2    2.4    3.4    3.3    3.6    3      3      2.3    1.7    1.3\n",
              "\u001b[90m 6\u001b[39m Germany    1.3    1.3    2.7    2.9    2.5    2.4    3.1    3.6    2.7    2  \n",
              "\u001b[90m 7\u001b[39m Italy      3      1.9    2.4    2.4    2.2    1.9    2.2    2.1    1.9    1.4\n",
              "\u001b[90m 8\u001b[39m Netherl…   0.1    0.1    0.2    0.3    0.3    0.2    0.3    0.3    0.4    0.3\n",
              "\u001b[90m 9\u001b[39m Norway     0      0.1    0.1    0.1    0.1    0.1    0.1    0.1    0.1    0.1\n",
              "\u001b[90m10\u001b[39m Sweden     0.1    0.1    0.1    0.1    0.2    0.2    0.3    0.3    0.3    0.2\n",
              "\u001b[90m11\u001b[39m Switzer…   0.1    0.1    0.1    0.2    0.2    0.2    0.2    0.2    0.2    0.2\n",
              "\u001b[90m12\u001b[39m United …   0.3    0.7    0.9    1.1    1.4    2      2.5    2.5    2      1.4\n",
              "\u001b[90m13\u001b[39m Portugal   0.2    0.2    0.2    0.2    0.3    0.3    0.3    0.3    0.3    0.2\n",
              "\u001b[90m14\u001b[39m Spain      1.9    1.5    1.6    1.5    1.5    1.2    1.3    1.1    1.1    0.9\n",
              "\u001b[90m15\u001b[39m Other      0.9    0.4    0.3    0.3    0.3    0.3    0.4    0.4    0.5    0.4\n",
              "\u001b[90m16\u001b[39m Total W…  10.7    9.5   13.1   13.3   13.5   12.8   14.8   14.6   12.1    9.2\n",
              "\u001b[90m17\u001b[39m Eastern…   2.1    2.4    3.1    3      3.1    3.5    4.1    4.4    3.5    2.8\n",
              "\u001b[90m18\u001b[39m Former …   1.7    2.6    3.9    3.7    4.4    5.3    7      8.7    7.1    6.4\n",
              "\u001b[90m19\u001b[39m Sum       14.5   14.5   20.1   20     21     21.6   25.9   27.7   22.7   18.4\n",
              "\u001b[90m20\u001b[39m World    100    100    100    100    100    100    100    100    100    100  \n",
              "\u001b[90m# … with 2 more variables: `1998` <dbl>, `2018` <chr>, and abbreviated variable\u001b[39m\n",
              "\u001b[90m#   name ¹​`Country/region`\u001b[39m\n",
              "\n",
              "[[4]]\n",
              "\u001b[90m# A tibble: 73 × 10\u001b[39m\n",
              "   Year  Averag…¹ Live …² Deaths Natur…³ Crude…⁴ Crude…⁵ Crude…⁶ Total…⁷ Life …⁸\n",
              "   \u001b[3m\u001b[90m<chr>\u001b[39m\u001b[23m \u001b[3m\u001b[90m<chr>\u001b[39m\u001b[23m    \u001b[3m\u001b[90m<chr>\u001b[39m\u001b[23m   \u001b[3m\u001b[90m<chr>\u001b[39m\u001b[23m  \u001b[3m\u001b[90m<chr>\u001b[39m\u001b[23m   \u001b[3m\u001b[90m<chr>\u001b[39m\u001b[23m   \u001b[3m\u001b[90m<chr>\u001b[39m\u001b[23m   \u001b[3m\u001b[90m<chr>\u001b[39m\u001b[23m   \u001b[3m\u001b[90m<chr>\u001b[39m\u001b[23m   \u001b[3m\u001b[90m<chr>\u001b[39m\u001b[23m  \n",
              "\u001b[90m 1\u001b[39m Year  Average… Live b… Deaths Natura… Births  Deaths  Natura… Total … Life e…\n",
              "\u001b[90m 2\u001b[39m 1950  549,721… 12,202… 6,473… 5,728,… 22.2    11.8    10.4    2.70    62.8   \n",
              "\u001b[90m 3\u001b[39m 1951  554,559… 12,112… 6,609… 5,502,… 21.8    11.9    9.9     2.66    62.8   \n",
              "\u001b[90m 4\u001b[39m 1952  559,609… 12,142… 6,265… 5,877,… 21.7    11.2    10.5    2.66    64.0   \n",
              "\u001b[90m 5\u001b[39m 1953  565,058… 12,120… 6,220… 5,899,… 21.5    11.0    10.4    2.64    64.7   \n",
              "\u001b[90m 6\u001b[39m 1954  570,670… 12,151… 6,072… 6,079,… 21.3    10.6    10.7    2.64    65.5   \n",
              "\u001b[90m 7\u001b[39m 1955  576,304… 12,134… 5,987… 6,147,… 21.1    10.4    10.7    2.63    66.0   \n",
              "\u001b[90m 8\u001b[39m 1956  581,975… 12,133… 5,899… 6,233,… 20.8    10.1    10.7    2.62    66.9   \n",
              "\u001b[90m 9\u001b[39m 1957  587,711… 12,194… 5,963… 6,230,… 20.7    10.1    10.6    2.62    66.9   \n",
              "\u001b[90m10\u001b[39m 1958  593,669… 12,177… 5,647… 6,530,… 20.5    9.5     11.0    2.60    68.2   \n",
              "\u001b[90m# … with 63 more rows, and abbreviated variable names ¹​Averagepopulation,\u001b[39m\n",
              "\u001b[90m#   ²​`Live births`, ³​`Natural change`, ⁴​`Crude rates (per 1000)`,\u001b[39m\n",
              "\u001b[90m#   ⁵​`Crude rates (per 1000)`, ⁶​`Crude rates (per 1000)`,\u001b[39m\n",
              "\u001b[90m#   ⁷​`Total fertility rate`, ⁸​`Life expectancy`\u001b[39m\n",
              "\n",
              "[[5]]\n",
              "\u001b[90m# A tibble: 58 × 5\u001b[39m\n",
              "   `Country (or territory)` `Population[1][2]` Area.mw-parser-…¹ Densi…² Capital\n",
              "   \u001b[3m\u001b[90m<chr>\u001b[39m\u001b[23m                    \u001b[3m\u001b[90m<chr>\u001b[39m\u001b[23m              \u001b[3m\u001b[90m<chr>\u001b[39m\u001b[23m             \u001b[3m\u001b[90m<chr>\u001b[39m\u001b[23m   \u001b[3m\u001b[90m<chr>\u001b[39m\u001b[23m  \n",
              "\u001b[90m 1\u001b[39m Albania *                2,854,710          28,748            99      Tirana \n",
              "\u001b[90m 2\u001b[39m Andorra *                79,034             468               169     Andorr…\n",
              "\u001b[90m 3\u001b[39m Armenia *                2,790,974          29,743            94      Yerevan\n",
              "\u001b[90m 4\u001b[39m Austria *                8,922,082          83,871            106     Vienna \n",
              "\u001b[90m 5\u001b[39m Azerbaijan *             10,312,992         86,600            119     Baku   \n",
              "\u001b[90m 6\u001b[39m Belarus *                9,578,167          207,600           46      Minsk  \n",
              "\u001b[90m 7\u001b[39m Belgium *                11,611,419         30,528            380     Brusse…\n",
              "\u001b[90m 8\u001b[39m Bosnia and Herzegovina * 3,270,943          51,209            64      Saraje…\n",
              "\u001b[90m 9\u001b[39m Bulgaria *               6,520,314          110,900           59      Sofia  \n",
              "\u001b[90m10\u001b[39m Croatia *                4,060,135          56,594            72      Zagreb \n",
              "\u001b[90m# … with 48 more rows, and abbreviated variable names\u001b[39m\n",
              "\u001b[90m#   ¹​`Area.mw-parser-output .nobold{font-weight:normal}(km2)[14]`,\u001b[39m\n",
              "\u001b[90m#   ²​`Density(per km2)`\u001b[39m\n"
            ]
          },
          "metadata": {}
        },
        {
          "output_type": "error",
          "ename": "ERROR",
          "evalue": "ignored",
          "traceback": [
            "Error in wiki_table((3)): could not find function \"wiki_table\"\nTraceback:\n",
            "1. wiki_table((3)) %>% select(dens = 4) %>% mutate(dens = parse_number(dens)) %>% \n .     summarise(mean(dens))",
            "2. summarise(., mean(dens))",
            "3. mutate(., dens = parse_number(dens))",
            "4. select(., dens = 4)"
          ]
        }
      ],
      "source": [
        "# avg pop density\n",
        "europop %>% html_elements(\"table.wikitable\") %>% html_table\n",
        "wiki_table((3))%>% select (dens=4)%>%mutate(dens=parse_number(dens))%>%summarise(mean(dens))\n"
      ]
    },
    {
      "cell_type": "markdown",
      "metadata": {
        "id": "NgHNqy9Jobme"
      },
      "source": [
        "## 🤔 Quiz\n",
        "\n",
        "Use the same page Wikipedia page (Demographics of Europe) to answer the following question:\n",
        "\n",
        "On average, how many people were born *each day* in Europe between 2010 and 2021 (inclusive)?\n",
        "\n",
        "<ol style=\"list-style-type: upper-alpha;\">\n",
        "    <li>90210.10</li>\n",
        "    <li>23043.97</li>\n",
        "    <li>7710127</li>\n",
        "    <li>21123.64</li>\n",
        "    <li>21109.18</li>\n",
        "</ol>\n",
        "\n"
      ]
    },
    {
      "cell_type": "code",
      "execution_count": 24,
      "metadata": {
        "id": "Fmd1DlTeobmf",
        "outputId": "b9b4018a-96b7-48f1-be75-9443a7bab1dd",
        "colab": {
          "base_uri": "https://localhost:8080/",
          "height": 1000
        }
      },
      "outputs": [
        {
          "output_type": "display_data",
          "data": {
            "text/html": [
              "<ol>\n",
              "\t<li><table class=\"dataframe\">\n",
              "<caption>A tibble: 8 × 2</caption>\n",
              "<thead>\n",
              "\t<tr><th scope=col>Year</th><th scope=col>Population(% of world total)</th></tr>\n",
              "\t<tr><th scope=col>&lt;chr&gt;</th><th scope=col>&lt;chr&gt;</th></tr>\n",
              "</thead>\n",
              "<tbody>\n",
              "\t<tr><td>CE 1</td><td>34 (15%) </td></tr>\n",
              "\t<tr><td>1000</td><td>40 (15%) </td></tr>\n",
              "\t<tr><td>1500</td><td>78 (18%) </td></tr>\n",
              "\t<tr><td>1600</td><td>112 (20%)</td></tr>\n",
              "\t<tr><td>1700</td><td>127 (21%)</td></tr>\n",
              "\t<tr><td>1820</td><td>224 (21%)</td></tr>\n",
              "\t<tr><td>1913</td><td>498 (28%)</td></tr>\n",
              "\t<tr><td>2000</td><td>742 (13%)</td></tr>\n",
              "</tbody>\n",
              "</table>\n",
              "</li>\n",
              "\t<li><table class=\"dataframe\">\n",
              "<caption>A tibble: 31 × 13</caption>\n",
              "<thead>\n",
              "\t<tr><th scope=col>Country/region</th><th scope=col>1</th><th scope=col>1000</th><th scope=col>1500</th><th scope=col>1600</th><th scope=col>1700</th><th scope=col>1820</th><th scope=col>1870</th><th scope=col>1913</th><th scope=col>1950</th><th scope=col>1973</th><th scope=col>1998[6]</th><th scope=col>2020</th></tr>\n",
              "\t<tr><th scope=col>&lt;chr&gt;</th><th scope=col>&lt;int&gt;</th><th scope=col>&lt;int&gt;</th><th scope=col>&lt;int&gt;</th><th scope=col>&lt;int&gt;</th><th scope=col>&lt;int&gt;</th><th scope=col>&lt;int&gt;</th><th scope=col>&lt;int&gt;</th><th scope=col>&lt;int&gt;</th><th scope=col>&lt;int&gt;</th><th scope=col>&lt;int&gt;</th><th scope=col>&lt;int&gt;</th><th scope=col>&lt;int&gt;</th></tr>\n",
              "</thead>\n",
              "<tbody>\n",
              "\t<tr><td>Austria             </td><td>   500</td><td>   700</td><td>  2000</td><td>  2500</td><td>  2500</td><td>   3369</td><td>   4520</td><td>   6767</td><td>   6935</td><td>   7586</td><td>   8078</td><td>   8901</td></tr>\n",
              "\t<tr><td>Belgium             </td><td>   300</td><td>   400</td><td>  1400</td><td>  1600</td><td>  2000</td><td>   3424</td><td>   5096</td><td>   7666</td><td>   8640</td><td>   9738</td><td>  10197</td><td>  11493</td></tr>\n",
              "\t<tr><td>Denmark             </td><td>   180</td><td>   360</td><td>   600</td><td>   650</td><td>   700</td><td>   1155</td><td>   1888</td><td>   2983</td><td>   4269</td><td>   5022</td><td>   5303</td><td>   5823</td></tr>\n",
              "\t<tr><td>Finland             </td><td>    20</td><td>    40</td><td>   300</td><td>   400</td><td>   400</td><td>   1169</td><td>   1754</td><td>   3027</td><td>   4009</td><td>   4666</td><td>   5153</td><td>   5536</td></tr>\n",
              "\t<tr><td>France              </td><td>  5000</td><td>  6500</td><td> 15000</td><td> 18500</td><td> 21471</td><td>  31246</td><td>  38440</td><td>  41463</td><td>  41836</td><td>  52118</td><td>  58805</td><td>  67287</td></tr>\n",
              "\t<tr><td>Germany             </td><td>  3000</td><td>  3500</td><td> 12000</td><td> 16000</td><td> 15000</td><td>  24905</td><td>  39231</td><td>  65058</td><td>  68371</td><td>  78956</td><td>  82029</td><td>  83191</td></tr>\n",
              "\t<tr><td>Italy               </td><td>  7000</td><td>  5000</td><td> 10500</td><td> 13100</td><td> 13300</td><td>  20176</td><td>  27888</td><td>  37248</td><td>  47105</td><td>  54751</td><td>  57592</td><td>  59258</td></tr>\n",
              "\t<tr><td>the Netherlands     </td><td>   200</td><td>   300</td><td>   950</td><td>  1500</td><td>  1900</td><td>   2355</td><td>   3615</td><td>   6164</td><td>  10114</td><td>  13438</td><td>  15700</td><td>  17425</td></tr>\n",
              "\t<tr><td>Norway              </td><td>   100</td><td>   200</td><td>   300</td><td>   400</td><td>   500</td><td>    970</td><td>   1735</td><td>   2447</td><td>   3265</td><td>   3961</td><td>   4432</td><td>   5368</td></tr>\n",
              "\t<tr><td>Sweden              </td><td>   200</td><td>   400</td><td>   550</td><td>   760</td><td>  1260</td><td>   2585</td><td>   4164</td><td>   5621</td><td>   7015</td><td>   8137</td><td>   8851</td><td>  10379</td></tr>\n",
              "\t<tr><td>Switzerland         </td><td>   300</td><td>   300</td><td>   650</td><td>  1000</td><td>  1200</td><td>   1829</td><td>   2664</td><td>   3864</td><td>   4694</td><td>   6441</td><td>   7130</td><td>   8667</td></tr>\n",
              "\t<tr><td>United Kingdom      </td><td>   800</td><td>  2000</td><td>  3942</td><td>  6170</td><td>  8565</td><td>  21226</td><td>  31393</td><td>  45649</td><td>  50363</td><td>  56223</td><td>  59237</td><td>  67886</td></tr>\n",
              "\t<tr><td>Portugal            </td><td>   500</td><td>   600</td><td>  1000</td><td>  1100</td><td>  2000</td><td>   3297</td><td>   4353</td><td>   6004</td><td>   8512</td><td>   8634</td><td>   9968</td><td>  10305</td></tr>\n",
              "\t<tr><td>Spain               </td><td>  4500</td><td>  4000</td><td>  6800</td><td>  8240</td><td>  8770</td><td>  12203</td><td>  16201</td><td>  20263</td><td>  27868</td><td>  34810</td><td>  39371</td><td>  47431</td></tr>\n",
              "\t<tr><td>Greece              </td><td>  2000</td><td>  1000</td><td>  1000</td><td>  1500</td><td>  1500</td><td>   2312</td><td>     NA</td><td>     NA</td><td>   7554</td><td>   8929</td><td>  10835</td><td>  10689</td></tr>\n",
              "\t<tr><td>13 small countries  </td><td>   100</td><td>   113</td><td>   276</td><td>   358</td><td>   394</td><td>    657</td><td>     NA</td><td>     NA</td><td>     NA</td><td>     NA</td><td>     NA</td><td>     NA</td></tr>\n",
              "\t<tr><td>Total Western Europe</td><td> 24700</td><td> 25413</td><td> 57268</td><td> 73778</td><td> 81460</td><td> 132888</td><td> 187532</td><td> 261007</td><td> 305060</td><td> 358390</td><td> 388399</td><td> 419639</td></tr>\n",
              "\t<tr><td>Albania             </td><td>   200</td><td>   200</td><td>   200</td><td>   200</td><td>   300</td><td>    437</td><td>     NA</td><td>     NA</td><td>   1215</td><td>   2296</td><td>   3108</td><td>   2878</td></tr>\n",
              "\t<tr><td>Bulgaria            </td><td>   500</td><td>   800</td><td>   800</td><td>  1250</td><td>  1250</td><td>   2187</td><td>     NA</td><td>   4200</td><td>   7251</td><td>   8621</td><td>   8257</td><td>   6917</td></tr>\n",
              "\t<tr><td>Czechoslovakia      </td><td>  1000</td><td>  1250</td><td>  3000</td><td>  4500</td><td>  4500</td><td>   7190</td><td>     NA</td><td>     NA</td><td>  12393</td><td>  14563</td><td>  15686</td><td>  16366</td></tr>\n",
              "\t<tr><td>− Czech Rep.        </td><td>    NA</td><td>    NA</td><td>    NA</td><td>    NA</td><td>    NA</td><td>     NA</td><td>     NA</td><td>     NA</td><td>  10221</td><td>   8930</td><td>  10295</td><td>  10702</td></tr>\n",
              "\t<tr><td>- Slovakia          </td><td>    NA</td><td>    NA</td><td>    NA</td><td>    NA</td><td>    NA</td><td>     NA</td><td>     NA</td><td>     NA</td><td>   3463</td><td>   4642</td><td>   5391</td><td>   5460</td></tr>\n",
              "\t<tr><td>Hungary             </td><td>   300</td><td>   500</td><td>  1250</td><td>  1250</td><td>  1500</td><td>   4571</td><td>     NA</td><td>     NA</td><td>   9338</td><td>  10432</td><td>  10237</td><td>   9770</td></tr>\n",
              "\t<tr><td>Poland              </td><td>   450</td><td>  1200</td><td>  4000</td><td>  5000</td><td>  6000</td><td>  10426</td><td>     NA</td><td>     NA</td><td>  25753</td><td>  33363</td><td>  38666</td><td>  38268</td></tr>\n",
              "\t<tr><td>Romania             </td><td>   800</td><td>   800</td><td>  2000</td><td>  2000</td><td>  2500</td><td>   6389</td><td>     NA</td><td>   7360</td><td>  16311</td><td>  20828</td><td>  22503</td><td>  19266</td></tr>\n",
              "\t<tr><td>Yugoslavia          </td><td>  1500</td><td>  1750</td><td>  2250</td><td>  2750</td><td>  2750</td><td>   5215</td><td>     NA</td><td>     NA</td><td>  16578</td><td>  21088</td><td>     NA</td><td>     NA</td></tr>\n",
              "\t<tr><td>Eastern Europe      </td><td>  4750</td><td>  6500</td><td> 13500</td><td> 16950</td><td> 18800</td><td>  36415</td><td>  52182</td><td>  79604</td><td>  87289</td><td> 110490</td><td> 121006</td><td> 109627</td></tr>\n",
              "\t<tr><td>Former USSR         </td><td>  3900</td><td>  7100</td><td> 16950</td><td> 20700</td><td> 26550</td><td>  54765</td><td>  88672</td><td> 156192</td><td> 180050</td><td> 249748</td><td> 290866</td><td>     NA</td></tr>\n",
              "\t<tr><td>- Russia            </td><td>    NA</td><td>    NA</td><td>    NA</td><td>    NA</td><td>    NA</td><td>     NA</td><td>     NA</td><td>     NA</td><td> 102833</td><td> 132434</td><td> 147671</td><td> 146171</td></tr>\n",
              "\t<tr><td>- Ukraine           </td><td>    NA</td><td>    NA</td><td>    NA</td><td>    NA</td><td>    NA</td><td>     NA</td><td>     NA</td><td>  31142</td><td>  36905</td><td>  48274</td><td>  50370</td><td>  41902</td></tr>\n",
              "\t<tr><td>World               </td><td>230820</td><td>268273</td><td>437818</td><td>555828</td><td>603410</td><td>1041092</td><td>1270014</td><td>1791020</td><td>2524531</td><td>3913482</td><td>5907680</td><td>7800000</td></tr>\n",
              "</tbody>\n",
              "</table>\n",
              "</li>\n",
              "\t<li><table class=\"dataframe\">\n",
              "<caption>A tibble: 20 × 13</caption>\n",
              "<thead>\n",
              "\t<tr><th scope=col>Country/region</th><th scope=col>1</th><th scope=col>1000</th><th scope=col>1500</th><th scope=col>1600</th><th scope=col>1700</th><th scope=col>1820</th><th scope=col>1870</th><th scope=col>1913</th><th scope=col>1950</th><th scope=col>1973</th><th scope=col>1998</th><th scope=col>2018</th></tr>\n",
              "\t<tr><th scope=col>&lt;chr&gt;</th><th scope=col>&lt;dbl&gt;</th><th scope=col>&lt;dbl&gt;</th><th scope=col>&lt;dbl&gt;</th><th scope=col>&lt;dbl&gt;</th><th scope=col>&lt;dbl&gt;</th><th scope=col>&lt;dbl&gt;</th><th scope=col>&lt;dbl&gt;</th><th scope=col>&lt;dbl&gt;</th><th scope=col>&lt;dbl&gt;</th><th scope=col>&lt;dbl&gt;</th><th scope=col>&lt;dbl&gt;</th><th scope=col>&lt;chr&gt;</th></tr>\n",
              "</thead>\n",
              "<tbody>\n",
              "\t<tr><td>Austria             </td><td>  0.2</td><td>  0.3</td><td>  0.5</td><td>  0.4</td><td>  0.4</td><td>  0.3</td><td>  0.4</td><td>  0.4</td><td>  0.3</td><td>  0.2</td><td>  0.1</td><td>      </td></tr>\n",
              "\t<tr><td>Belgium             </td><td>  0.1</td><td>  0.1</td><td>  0.3</td><td>  0.3</td><td>  0.3</td><td>  0.3</td><td>  0.4</td><td>  0.4</td><td>  0.3</td><td>  0.2</td><td>  0.2</td><td>      </td></tr>\n",
              "\t<tr><td>Denmark             </td><td>  0.1</td><td>  0.1</td><td>  0.1</td><td>  0.1</td><td>  0.1</td><td>  0.1</td><td>  0.1</td><td>  0.2</td><td>  0.2</td><td>  0.1</td><td>  0.1</td><td>      </td></tr>\n",
              "\t<tr><td>Finland             </td><td>  0.0</td><td>  0.0</td><td>  0.1</td><td>  0.1</td><td>  0.1</td><td>  0.1</td><td>  0.1</td><td>  0.2</td><td>  0.2</td><td>  0.1</td><td>  0.1</td><td>      </td></tr>\n",
              "\t<tr><td>France              </td><td>  2.2</td><td>  2.4</td><td>  3.4</td><td>  3.3</td><td>  3.6</td><td>  3.0</td><td>  3.0</td><td>  2.3</td><td>  1.7</td><td>  1.3</td><td>  1.0</td><td>      </td></tr>\n",
              "\t<tr><td>Germany             </td><td>  1.3</td><td>  1.3</td><td>  2.7</td><td>  2.9</td><td>  2.5</td><td>  2.4</td><td>  3.1</td><td>  3.6</td><td>  2.7</td><td>  2.0</td><td>  1.4</td><td>      </td></tr>\n",
              "\t<tr><td>Italy               </td><td>  3.0</td><td>  1.9</td><td>  2.4</td><td>  2.4</td><td>  2.2</td><td>  1.9</td><td>  2.2</td><td>  2.1</td><td>  1.9</td><td>  1.4</td><td>  1.0</td><td>      </td></tr>\n",
              "\t<tr><td>Netherlands         </td><td>  0.1</td><td>  0.1</td><td>  0.2</td><td>  0.3</td><td>  0.3</td><td>  0.2</td><td>  0.3</td><td>  0.3</td><td>  0.4</td><td>  0.3</td><td>  0.3</td><td>      </td></tr>\n",
              "\t<tr><td>Norway              </td><td>  0.0</td><td>  0.1</td><td>  0.1</td><td>  0.1</td><td>  0.1</td><td>  0.1</td><td>  0.1</td><td>  0.1</td><td>  0.1</td><td>  0.1</td><td>  0.1</td><td>      </td></tr>\n",
              "\t<tr><td>Sweden              </td><td>  0.1</td><td>  0.1</td><td>  0.1</td><td>  0.1</td><td>  0.2</td><td>  0.2</td><td>  0.3</td><td>  0.3</td><td>  0.3</td><td>  0.2</td><td>  0.1</td><td>      </td></tr>\n",
              "\t<tr><td>Switzerland         </td><td>  0.1</td><td>  0.1</td><td>  0.1</td><td>  0.2</td><td>  0.2</td><td>  0.2</td><td>  0.2</td><td>  0.2</td><td>  0.2</td><td>  0.2</td><td>  0.1</td><td>      </td></tr>\n",
              "\t<tr><td>United Kingdom      </td><td>  0.3</td><td>  0.7</td><td>  0.9</td><td>  1.1</td><td>  1.4</td><td>  2.0</td><td>  2.5</td><td>  2.5</td><td>  2.0</td><td>  1.4</td><td>  1.0</td><td>      </td></tr>\n",
              "\t<tr><td>Portugal            </td><td>  0.2</td><td>  0.2</td><td>  0.2</td><td>  0.2</td><td>  0.3</td><td>  0.3</td><td>  0.3</td><td>  0.3</td><td>  0.3</td><td>  0.2</td><td>  0.2</td><td>      </td></tr>\n",
              "\t<tr><td>Spain               </td><td>  1.9</td><td>  1.5</td><td>  1.6</td><td>  1.5</td><td>  1.5</td><td>  1.2</td><td>  1.3</td><td>  1.1</td><td>  1.1</td><td>  0.9</td><td>  0.7</td><td>      </td></tr>\n",
              "\t<tr><td>Other               </td><td>  0.9</td><td>  0.4</td><td>  0.3</td><td>  0.3</td><td>  0.3</td><td>  0.3</td><td>  0.4</td><td>  0.4</td><td>  0.5</td><td>  0.4</td><td>  0.3</td><td>      </td></tr>\n",
              "\t<tr><td>Total Western Europe</td><td> 10.7</td><td>  9.5</td><td> 13.1</td><td> 13.3</td><td> 13.5</td><td> 12.8</td><td> 14.8</td><td> 14.6</td><td> 12.1</td><td>  9.2</td><td>  6.6</td><td>      </td></tr>\n",
              "\t<tr><td>Eastern Europe      </td><td>  2.1</td><td>  2.4</td><td>  3.1</td><td>  3.0</td><td>  3.1</td><td>  3.5</td><td>  4.1</td><td>  4.4</td><td>  3.5</td><td>  2.8</td><td>  2.0</td><td>      </td></tr>\n",
              "\t<tr><td>Former USSR         </td><td>  1.7</td><td>  2.6</td><td>  3.9</td><td>  3.7</td><td>  4.4</td><td>  5.3</td><td>  7.0</td><td>  8.7</td><td>  7.1</td><td>  6.4</td><td>  4.9</td><td>      </td></tr>\n",
              "\t<tr><td>Sum                 </td><td> 14.5</td><td> 14.5</td><td> 20.1</td><td> 20.0</td><td> 21.0</td><td> 21.6</td><td> 25.9</td><td> 27.7</td><td> 22.7</td><td> 18.4</td><td> 13.5</td><td>9.8[7]</td></tr>\n",
              "\t<tr><td>World               </td><td>100.0</td><td>100.0</td><td>100.0</td><td>100.0</td><td>100.0</td><td>100.0</td><td>100.0</td><td>100.0</td><td>100.0</td><td>100.0</td><td>100.0</td><td>100.0 </td></tr>\n",
              "</tbody>\n",
              "</table>\n",
              "</li>\n",
              "\t<li><table class=\"dataframe\">\n",
              "<caption>A tibble: 73 × 10</caption>\n",
              "<thead>\n",
              "\t<tr><th scope=col>Year</th><th scope=col>Averagepopulation</th><th scope=col>Live births</th><th scope=col>Deaths</th><th scope=col>Natural change</th><th scope=col>Crude rates (per 1000)</th><th scope=col>Crude rates (per 1000)</th><th scope=col>Crude rates (per 1000)</th><th scope=col>Total fertility rate</th><th scope=col>Life expectancy</th></tr>\n",
              "\t<tr><th scope=col>&lt;chr&gt;</th><th scope=col>&lt;chr&gt;</th><th scope=col>&lt;chr&gt;</th><th scope=col>&lt;chr&gt;</th><th scope=col>&lt;chr&gt;</th><th scope=col>&lt;chr&gt;</th><th scope=col>&lt;chr&gt;</th><th scope=col>&lt;chr&gt;</th><th scope=col>&lt;chr&gt;</th><th scope=col>&lt;chr&gt;</th></tr>\n",
              "</thead>\n",
              "<tbody>\n",
              "\t<tr><td>Year</td><td>Averagepopulation</td><td>Live births</td><td>Deaths   </td><td>Natural change</td><td>Births</td><td>Deaths</td><td>Natural change</td><td>Total fertility rate</td><td>Life expectancy</td></tr>\n",
              "\t<tr><td>1950</td><td>549,721,718      </td><td>12,202,220 </td><td>6,473,233</td><td>5,728,987     </td><td>22.2  </td><td>11.8  </td><td>10.4          </td><td>2.70                </td><td>62.8           </td></tr>\n",
              "\t<tr><td>1951</td><td>554,559,502      </td><td>12,112,425 </td><td>6,609,794</td><td>5,502,631     </td><td>21.8  </td><td>11.9  </td><td>9.9           </td><td>2.66                </td><td>62.8           </td></tr>\n",
              "\t<tr><td>1952</td><td>559,609,904      </td><td>12,142,368 </td><td>6,265,135</td><td>5,877,233     </td><td>21.7  </td><td>11.2  </td><td>10.5          </td><td>2.66                </td><td>64.0           </td></tr>\n",
              "\t<tr><td>1953</td><td>565,058,633      </td><td>12,120,826 </td><td>6,220,937</td><td>5,899,889     </td><td>21.5  </td><td>11.0  </td><td>10.4          </td><td>2.64                </td><td>64.7           </td></tr>\n",
              "\t<tr><td>1954</td><td>570,670,994      </td><td>12,151,779 </td><td>6,072,645</td><td>6,079,134     </td><td>21.3  </td><td>10.6  </td><td>10.7          </td><td>2.64                </td><td>65.5           </td></tr>\n",
              "\t<tr><td>1955</td><td>576,304,974      </td><td>12,134,270 </td><td>5,987,151</td><td>6,147,119     </td><td>21.1  </td><td>10.4  </td><td>10.7          </td><td>2.63                </td><td>66.0           </td></tr>\n",
              "\t<tr><td>1956</td><td>581,975,516      </td><td>12,133,583 </td><td>5,899,594</td><td>6,233,989     </td><td>20.8  </td><td>10.1  </td><td>10.7          </td><td>2.62                </td><td>66.9           </td></tr>\n",
              "\t<tr><td>1957</td><td>587,711,635      </td><td>12,194,100 </td><td>5,963,269</td><td>6,230,831     </td><td>20.7  </td><td>10.1  </td><td>10.6          </td><td>2.62                </td><td>66.9           </td></tr>\n",
              "\t<tr><td>1958</td><td>593,669,297      </td><td>12,177,600 </td><td>5,647,571</td><td>6,530,029     </td><td>20.5  </td><td>9.5   </td><td>11.0          </td><td>2.60                </td><td>68.2           </td></tr>\n",
              "\t<tr><td>1959</td><td>599,684,870      </td><td>12,178,245 </td><td>5,816,056</td><td>6,362,189     </td><td>20.3  </td><td>9.7   </td><td>10.6          </td><td>2.60                </td><td>68.1           </td></tr>\n",
              "\t<tr><td>1960</td><td>605,629,870      </td><td>12,098,378 </td><td>5,783,828</td><td>6,314,550     </td><td>20.0  </td><td>9.6   </td><td>10.4          </td><td>2.58                </td><td>68.8           </td></tr>\n",
              "\t<tr><td>1961</td><td>611,711,020      </td><td>11,990,399 </td><td>5,749,292</td><td>6,241,107     </td><td>19.6  </td><td>9.4   </td><td>10.2          </td><td>2.56                </td><td>69.1           </td></tr>\n",
              "\t<tr><td>1962</td><td>617,672,206      </td><td>11,784,056 </td><td>6,023,706</td><td>5,760,350     </td><td>19.1  </td><td>9.8   </td><td>9.3           </td><td>2.53                </td><td>68.9           </td></tr>\n",
              "\t<tr><td>1963</td><td>623,335,994      </td><td>11,654,646 </td><td>6,031,219</td><td>5,623,427     </td><td>18.7  </td><td>9.7   </td><td>9.0           </td><td>2.52                </td><td>69.2           </td></tr>\n",
              "\t<tr><td>1964</td><td>628,944,878      </td><td>11,467,618 </td><td>5,843,514</td><td>5,624,104     </td><td>18.2  </td><td>9.3   </td><td>8.9           </td><td>2.50                </td><td>69.9           </td></tr>\n",
              "\t<tr><td>1965</td><td>634,267,606      </td><td>11,141,596 </td><td>6,058,752</td><td>5,082,844     </td><td>17.6  </td><td>9.6   </td><td>8.0           </td><td>2.45                </td><td>69.8           </td></tr>\n",
              "\t<tr><td>1966</td><td>639,264,461      </td><td>10,950,076 </td><td>6,074,808</td><td>4,875,268     </td><td>17.1  </td><td>9.5   </td><td>7.6           </td><td>2.42                </td><td>70.0           </td></tr>\n",
              "\t<tr><td>1967</td><td>644,114,436      </td><td>10,969,039 </td><td>6,204,646</td><td>4,764,393     </td><td>17.0  </td><td>9.6   </td><td>7.4           </td><td>2.42                </td><td>70.0           </td></tr>\n",
              "\t<tr><td>1968</td><td>648,610,191      </td><td>10,821,004 </td><td>6,427,622</td><td>4,393,382     </td><td>16.7  </td><td>9.9   </td><td>6.8           </td><td>2.38                </td><td>69.9           </td></tr>\n",
              "\t<tr><td>1969</td><td>652,740,596      </td><td>10,685,498 </td><td>6,652,543</td><td>4,032,955     </td><td>16.4  </td><td>10.2  </td><td>6.2           </td><td>2.33                </td><td>69.6           </td></tr>\n",
              "\t<tr><td>1970</td><td>656,521,426      </td><td>10,568,071 </td><td>6,602,177</td><td>3,965,894     </td><td>16.1  </td><td>10.1  </td><td>6.0           </td><td>2.28                </td><td>70.0           </td></tr>\n",
              "\t<tr><td>1971</td><td>660,476,010      </td><td>10,662,541 </td><td>6,675,051</td><td>3,987,490     </td><td>16.1  </td><td>10.1  </td><td>6.0           </td><td>2.27                </td><td>70.1           </td></tr>\n",
              "\t<tr><td>1972</td><td>664,799,679      </td><td>10,499,844 </td><td>6,699,913</td><td>3,799,931     </td><td>15.8  </td><td>10.1  </td><td>5.7           </td><td>2.21                </td><td>70.3           </td></tr>\n",
              "\t<tr><td>1973</td><td>668,909,022      </td><td>10,322,172 </td><td>6,814,598</td><td>3,507,574     </td><td>15.4  </td><td>10.2  </td><td>5.2           </td><td>2.14                </td><td>70.4           </td></tr>\n",
              "\t<tr><td>1974</td><td>672,912,941      </td><td>10,406,013 </td><td>6,818,259</td><td>3,587,754     </td><td>15.5  </td><td>10.1  </td><td>5.3           </td><td>2.13                </td><td>70.6           </td></tr>\n",
              "\t<tr><td>1975</td><td>676,770,845      </td><td>10,285,047 </td><td>7,009,188</td><td>3,275,859     </td><td>15.2  </td><td>10.4  </td><td>4.8           </td><td>2.07                </td><td>70.5           </td></tr>\n",
              "\t<tr><td>1976</td><td>680,361,150      </td><td>10,242,399 </td><td>7,085,837</td><td>3,156,562     </td><td>15.1  </td><td>10.4  </td><td>4.6           </td><td>2.03                </td><td>70.6           </td></tr>\n",
              "\t<tr><td>1977</td><td>683,848,710      </td><td>10,171,264 </td><td>7,039,667</td><td>3,131,597     </td><td>14.9  </td><td>10.3  </td><td>4.6           </td><td>1.99                </td><td>70.9           </td></tr>\n",
              "\t<tr><td>1978</td><td>687,149,553      </td><td>10,143,418 </td><td>7,183,531</td><td>2,959,887     </td><td>14.8  </td><td>10.5  </td><td>4.3           </td><td>1.96                </td><td>70.9           </td></tr>\n",
              "\t<tr><td>⋮</td><td>⋮</td><td>⋮</td><td>⋮</td><td>⋮</td><td>⋮</td><td>⋮</td><td>⋮</td><td>⋮</td><td>⋮</td></tr>\n",
              "\t<tr><td>1992</td><td>725,259,493</td><td>8,523,515</td><td>7,935,829</td><td>587,686   </td><td>11.8</td><td>10.9</td><td>0.8 </td><td>1.60</td><td>72.7</td></tr>\n",
              "\t<tr><td>1993</td><td>726,441,892</td><td>8,138,793</td><td>8,412,609</td><td>-273,816  </td><td>11.2</td><td>11.6</td><td>-0.4</td><td>1.53</td><td>72.1</td></tr>\n",
              "\t<tr><td>1994</td><td>727,063,162</td><td>7,913,453</td><td>8,492,472</td><td>-579,019  </td><td>10.9</td><td>11.7</td><td>-0.8</td><td>1.50</td><td>72.1</td></tr>\n",
              "\t<tr><td>1995</td><td>727,300,408</td><td>7,663,831</td><td>8,553,348</td><td>-889,517  </td><td>10.5</td><td>11.8</td><td>-1.2</td><td>1.46</td><td>72.2</td></tr>\n",
              "\t<tr><td>1996</td><td>727,453,566</td><td>7,581,575</td><td>8,394,631</td><td>-813,056  </td><td>10.4</td><td>11.5</td><td>-1.1</td><td>1.45</td><td>72.7</td></tr>\n",
              "\t<tr><td>1997</td><td>727,566,480</td><td>7,476,674</td><td>8,240,385</td><td>-763,711  </td><td>10.3</td><td>11.3</td><td>-1.0</td><td>1.43</td><td>73.2</td></tr>\n",
              "\t<tr><td>1998</td><td>727,445,606</td><td>7,369,527</td><td>8,193,143</td><td>-823,616  </td><td>10.1</td><td>11.3</td><td>-1.1</td><td>1.42</td><td>73.6</td></tr>\n",
              "\t<tr><td>1999</td><td>727,100,016</td><td>7,264,382</td><td>8,402,774</td><td>-1,138,392</td><td>10.0</td><td>11.6</td><td>-1.6</td><td>1.40</td><td>73.4</td></tr>\n",
              "\t<tr><td>2000</td><td>726,968,473</td><td>7,325,763</td><td>8,401,888</td><td>-1,076,125</td><td>10.1</td><td>11.6</td><td>-1.5</td><td>1.42</td><td>73.5</td></tr>\n",
              "\t<tr><td>2001</td><td>726,878,371</td><td>7,277,594</td><td>8,364,598</td><td>-1,087,004</td><td>10.0</td><td>11.5</td><td>-1.5</td><td>1.41</td><td>73.8</td></tr>\n",
              "\t<tr><td>2002</td><td>726,939,358</td><td>7,330,526</td><td>8,520,890</td><td>-1,190,364</td><td>10.1</td><td>11.7</td><td>-1.6</td><td>1.42</td><td>73.8</td></tr>\n",
              "\t<tr><td>2003</td><td>727,424,988</td><td>7,442,475</td><td>8,655,471</td><td>-1,212,996</td><td>10.2</td><td>11.9</td><td>-1.7</td><td>1.45</td><td>73.8</td></tr>\n",
              "\t<tr><td>2004</td><td>728,163,243</td><td>7,558,652</td><td>8,381,363</td><td>-822,711  </td><td>10.4</td><td>11.5</td><td>-1.1</td><td>1.47</td><td>74.4</td></tr>\n",
              "\t<tr><td>2005</td><td>728,950,486</td><td>7,568,637</td><td>8,494,391</td><td>-925,754  </td><td>10.4</td><td>11.7</td><td>-1.3</td><td>1.47</td><td>74.5</td></tr>\n",
              "\t<tr><td>2006</td><td>729,857,708</td><td>7,703,029</td><td>8,237,212</td><td>-534,183  </td><td>10.6</td><td>11.3</td><td>-0.7</td><td>1.50</td><td>75.2</td></tr>\n",
              "\t<tr><td>2007</td><td>731,393,136</td><td>7,886,129</td><td>8,187,820</td><td>-301,691  </td><td>10.8</td><td>11.2</td><td>-0.4</td><td>1.54</td><td>75.6</td></tr>\n",
              "\t<tr><td>2008</td><td>733,256,182</td><td>8,169,398</td><td>8,195,293</td><td>-25,895   </td><td>11.1</td><td>11.2</td><td>0.0 </td><td>1.59</td><td>75.8</td></tr>\n",
              "\t<tr><td>2009</td><td>734,902,805</td><td>8,208,268</td><td>8,099,043</td><td>109,225   </td><td>11.2</td><td>11.0</td><td>0.1 </td><td>1.60</td><td>76.3</td></tr>\n",
              "\t<tr><td>2010</td><td>736,276,813</td><td>8,227,484</td><td>8,128,387</td><td>99,097    </td><td>11.2</td><td>11.0</td><td>0.1 </td><td>1.61</td><td>76.5</td></tr>\n",
              "\t<tr><td>2011</td><td>737,589,666</td><td>8,132,980</td><td>7,958,960</td><td>174,020   </td><td>11.0</td><td>10.8</td><td>0.2 </td><td>1.60</td><td>77.1</td></tr>\n",
              "\t<tr><td>2012</td><td>738,907,594</td><td>8,178,804</td><td>8,078,292</td><td>100,512   </td><td>11.1</td><td>10.9</td><td>0.1 </td><td>1.62</td><td>77.3</td></tr>\n",
              "\t<tr><td>2013</td><td>740,013,806</td><td>8,039,791</td><td>8,033,963</td><td>5,828     </td><td>10.9</td><td>10.9</td><td>0.0 </td><td>1.60</td><td>77.6</td></tr>\n",
              "\t<tr><td>2014</td><td>741,014,147</td><td>8,067,454</td><td>7,955,740</td><td>111,714   </td><td>10.9</td><td>10.7</td><td>0.2 </td><td>1.62</td><td>77.9</td></tr>\n",
              "\t<tr><td>2015</td><td>742,107,449</td><td>8,004,465</td><td>8,177,599</td><td>-173,134  </td><td>10.8</td><td>11.0</td><td>-0.2</td><td>1.62</td><td>78.0</td></tr>\n",
              "\t<tr><td>2016</td><td>743,318,582</td><td>7,950,684</td><td>8,009,194</td><td>-58,510   </td><td>10.7</td><td>10.8</td><td>-0.1</td><td>1.62</td><td>78.4</td></tr>\n",
              "\t<tr><td>2017</td><td>744,449,361</td><td>7,617,755</td><td>8,076,159</td><td>-458,404  </td><td>10.2</td><td>10.8</td><td>-0.6</td><td>1.56</td><td>78.7</td></tr>\n",
              "\t<tr><td>2018</td><td>745,359,130</td><td>7,375,157</td><td>8,112,356</td><td>-737,199  </td><td>9.9 </td><td>10.9</td><td>-1.0</td><td>1.53</td><td>78.8</td></tr>\n",
              "\t<tr><td>2019</td><td>746,189,645</td><td>7,108,392</td><td>8,020,246</td><td>-911,854  </td><td>9.5 </td><td>10.7</td><td>-1.2</td><td>1.49</td><td>79.1</td></tr>\n",
              "\t<tr><td>2020</td><td>746,225,356</td><td>6,938,739</td><td>9,119,281</td><td>-2,180,542</td><td>9.3 </td><td>12.2</td><td>-2.9</td><td>1.47</td><td>77.7</td></tr>\n",
              "\t<tr><td>2021</td><td>745,173,774</td><td>6,879,818</td><td>9,656,398</td><td>-2,776,580</td><td>9.2 </td><td>13.0</td><td>-3.7</td><td>1.48</td><td>77.0</td></tr>\n",
              "</tbody>\n",
              "</table>\n",
              "</li>\n",
              "\t<li><table class=\"dataframe\">\n",
              "<caption>A tibble: 58 × 5</caption>\n",
              "<thead>\n",
              "\t<tr><th scope=col>Country (or territory)</th><th scope=col>Population[1][2]</th><th scope=col>Area.mw-parser-output .nobold{font-weight:normal}(km2)[14]</th><th scope=col>Density(per km2)</th><th scope=col>Capital</th></tr>\n",
              "\t<tr><th scope=col>&lt;chr&gt;</th><th scope=col>&lt;chr&gt;</th><th scope=col>&lt;chr&gt;</th><th scope=col>&lt;chr&gt;</th><th scope=col>&lt;chr&gt;</th></tr>\n",
              "</thead>\n",
              "<tbody>\n",
              "\t<tr><td>Albania *                      </td><td>2,854,710  </td><td>28,748    </td><td>99     </td><td>Tirana          </td></tr>\n",
              "\t<tr><td>Andorra *                      </td><td>79,034     </td><td>468       </td><td>169    </td><td>Andorra la Vella</td></tr>\n",
              "\t<tr><td>Armenia *                      </td><td>2,790,974  </td><td>29,743    </td><td>94     </td><td>Yerevan         </td></tr>\n",
              "\t<tr><td>Austria *                      </td><td>8,922,082  </td><td>83,871    </td><td>106    </td><td>Vienna          </td></tr>\n",
              "\t<tr><td>Azerbaijan *                   </td><td>10,312,992 </td><td>86,600    </td><td>119    </td><td>Baku            </td></tr>\n",
              "\t<tr><td>Belarus *                      </td><td>9,578,167  </td><td>207,600   </td><td>46     </td><td>Minsk           </td></tr>\n",
              "\t<tr><td>Belgium *                      </td><td>11,611,419 </td><td>30,528    </td><td>380    </td><td>Brussels        </td></tr>\n",
              "\t<tr><td>Bosnia and Herzegovina *       </td><td>3,270,943  </td><td>51,209    </td><td>64     </td><td>Sarajevo        </td></tr>\n",
              "\t<tr><td>Bulgaria *                     </td><td>6,520,314  </td><td>110,900   </td><td>59     </td><td>Sofia           </td></tr>\n",
              "\t<tr><td>Croatia *                      </td><td>4,060,135  </td><td>56,594    </td><td>72     </td><td>Zagreb          </td></tr>\n",
              "\t<tr><td>Cyprus *                       </td><td>1,244,188  </td><td>9,251     </td><td>134    </td><td>Nicosia         </td></tr>\n",
              "\t<tr><td>Czech Republic *               </td><td>10,510,751 </td><td>78,866    </td><td>133    </td><td>Prague          </td></tr>\n",
              "\t<tr><td>Denmark *                      </td><td>5,854,240  </td><td>43,094    </td><td>136    </td><td>Copenhagen      </td></tr>\n",
              "\t<tr><td>Estonia *                      </td><td>1,328,701  </td><td>45,227    </td><td>29     </td><td>Tallinn         </td></tr>\n",
              "\t<tr><td>Faroe Islands * (Denmark)      </td><td>49,709     </td><td>1,399     </td><td>35.6   </td><td>Tórshavn        </td></tr>\n",
              "\t<tr><td>Finland *                      </td><td>5,535,992  </td><td>336,852   </td><td>16     </td><td>Helsinki        </td></tr>\n",
              "\t<tr><td>France *                       </td><td>64,531,444 </td><td>551,500   </td><td>117    </td><td>Paris           </td></tr>\n",
              "\t<tr><td>Georgia *                      </td><td>3,757,980  </td><td>69,700    </td><td>54     </td><td>Tbilisi         </td></tr>\n",
              "\t<tr><td>Germany *                      </td><td>83,408,554 </td><td>357,137   </td><td>234    </td><td>Berlin          </td></tr>\n",
              "\t<tr><td>Gibraltar * (UK)               </td><td>32,669     </td><td>6         </td><td>5,445  </td><td>Gibraltar       </td></tr>\n",
              "\t<tr><td>Greece *                       </td><td>10,445,365 </td><td>131,957   </td><td>79     </td><td>Athens          </td></tr>\n",
              "\t<tr><td>Guernsey *[d]                  </td><td>65,345     </td><td>63        </td><td>1,037  </td><td>St. Peter Port  </td></tr>\n",
              "\t<tr><td>Hungary *                      </td><td>9,709,786  </td><td>93,026    </td><td>104    </td><td>Budapest        </td></tr>\n",
              "\t<tr><td>Iceland *                      </td><td>370,335    </td><td>103,000   </td><td>4      </td><td>Reykjavík       </td></tr>\n",
              "\t<tr><td>Ireland *                      </td><td>4,986,526  </td><td>69,825    </td><td>71     </td><td>Dublin          </td></tr>\n",
              "\t<tr><td>Isle of Man *[d]               </td><td>84,263     </td><td>572       </td><td>147    </td><td>Douglas         </td></tr>\n",
              "\t<tr><td>Italy *                        </td><td>59,240,329 </td><td>301,339   </td><td>197    </td><td>Rome            </td></tr>\n",
              "\t<tr><td>Jersey *[d]                    </td><td>97,857     </td><td>116       </td><td>844    </td><td>Saint Helier    </td></tr>\n",
              "\t<tr><td>Kosovo **[p]                   </td><td>1,859,203  </td><td>10,887    </td><td>171    </td><td>Pristina        </td></tr>\n",
              "\t<tr><td>Latvia *                       </td><td>1,873,919  </td><td>64,562    </td><td>29     </td><td>Riga            </td></tr>\n",
              "\t<tr><td>Liechtenstein *                </td><td>39,039     </td><td>160       </td><td>244    </td><td>Vaduz           </td></tr>\n",
              "\t<tr><td>Lithuania *                    </td><td>2,786,651  </td><td>65,300    </td><td>43     </td><td>Vilnius         </td></tr>\n",
              "\t<tr><td>Luxembourg *                   </td><td>639,321    </td><td>2,586     </td><td>247    </td><td>Luxembourg      </td></tr>\n",
              "\t<tr><td>Malta *                        </td><td>526,748    </td><td>316       </td><td>1,667  </td><td>Valletta        </td></tr>\n",
              "\t<tr><td>Moldova *                      </td><td>3,061,506  </td><td>33,846    </td><td>90     </td><td>Chişinău        </td></tr>\n",
              "\t<tr><td>Monaco *                       </td><td>36,686     </td><td>2         </td><td>18,343 </td><td>Monaco          </td></tr>\n",
              "\t<tr><td>Montenegro *                   </td><td>627,859    </td><td>13,812    </td><td>45     </td><td>Podgorica       </td></tr>\n",
              "\t<tr><td>Netherlands *                  </td><td>17,501,696 </td><td>37,354    </td><td>469    </td><td>Amsterdam       </td></tr>\n",
              "\t<tr><td>North Macedonia *              </td><td>2,103,330  </td><td>25,713    </td><td>82     </td><td>Skopje          </td></tr>\n",
              "\t<tr><td>Norway *                       </td><td>5,403,021  </td><td>323,787   </td><td>17     </td><td>Oslo            </td></tr>\n",
              "\t<tr><td>Poland *                       </td><td>38,307,726 </td><td>311,888   </td><td>123    </td><td>Warsaw          </td></tr>\n",
              "\t<tr><td>Portugal *[f]                  </td><td>10,290,103 </td><td>92,212    </td><td>112    </td><td>Lisbon          </td></tr>\n",
              "\t<tr><td>Romania *                      </td><td>19,328,560 </td><td>238,391   </td><td>81     </td><td>Bucharest       </td></tr>\n",
              "\t<tr><td>Russia *                       </td><td>145,102,755</td><td>17,098,246</td><td>8      </td><td>Moscow          </td></tr>\n",
              "\t<tr><td>San Marino *                   </td><td>33,745     </td><td>61        </td><td>553    </td><td>San Marino      </td></tr>\n",
              "\t<tr><td>Serbia *[g]                    </td><td>7,296,769  </td><td>88,361    </td><td>83     </td><td>Belgrade        </td></tr>\n",
              "\t<tr><td>Slovakia *                     </td><td>5,447,622  </td><td>49,036    </td><td>111    </td><td>Bratislava      </td></tr>\n",
              "\t<tr><td>Slovenia *                     </td><td>2,119,410  </td><td>20,273    </td><td>105    </td><td>Ljubljana       </td></tr>\n",
              "\t<tr><td>Spain *                        </td><td>47,486,935 </td><td>505,992   </td><td>94     </td><td>Madrid          </td></tr>\n",
              "\t<tr><td>Svalbard and Jan Mayen (Norway)</td><td>2,868      </td><td>62,422    </td><td>0      </td><td>Longyearbyen    </td></tr>\n",
              "\t<tr><td>Sweden *                       </td><td>10,467,097 </td><td>450,295   </td><td>23     </td><td>Stockholm       </td></tr>\n",
              "\t<tr><td>Switzerland *                  </td><td>8,691,406  </td><td>41,285    </td><td>211    </td><td>Bern            </td></tr>\n",
              "\t<tr><td>Transnistria *                 </td><td>505,000    </td><td>4,163     </td><td>121.3  </td><td>Tiraspol        </td></tr>\n",
              "\t<tr><td>Turkey *                       </td><td>84,775,404 </td><td>783,562   </td><td>108    </td><td>Ankara          </td></tr>\n",
              "\t<tr><td>Ukraine *                      </td><td>43,531,422 </td><td>603,500   </td><td>72     </td><td>Kyiv            </td></tr>\n",
              "\t<tr><td>United Kingdom *               </td><td>67,281,039 </td><td>242,495   </td><td>277    </td><td>London          </td></tr>\n",
              "\t<tr><td>Vatican City *                 </td><td>842        </td><td>0.4       </td><td>1,913.6</td><td>Vatican City    </td></tr>\n",
              "\t<tr><td>Åland (Finland)                </td><td>28,666     </td><td>1,580     </td><td>18     </td><td>Mariehamn       </td></tr>\n",
              "</tbody>\n",
              "</table>\n",
              "</li>\n",
              "</ol>\n"
            ],
            "text/markdown": "1. \nA tibble: 8 × 2\n\n| Year &lt;chr&gt; | Population(% of world total) &lt;chr&gt; |\n|---|---|\n| CE 1 | 34 (15%)  |\n| 1000 | 40 (15%)  |\n| 1500 | 78 (18%)  |\n| 1600 | 112 (20%) |\n| 1700 | 127 (21%) |\n| 1820 | 224 (21%) |\n| 1913 | 498 (28%) |\n| 2000 | 742 (13%) |\n\n\n2. \nA tibble: 31 × 13\n\n| Country/region &lt;chr&gt; | 1 &lt;int&gt; | 1000 &lt;int&gt; | 1500 &lt;int&gt; | 1600 &lt;int&gt; | 1700 &lt;int&gt; | 1820 &lt;int&gt; | 1870 &lt;int&gt; | 1913 &lt;int&gt; | 1950 &lt;int&gt; | 1973 &lt;int&gt; | 1998[6] &lt;int&gt; | 2020 &lt;int&gt; |\n|---|---|---|---|---|---|---|---|---|---|---|---|---|\n| Austria              |    500 |    700 |   2000 |   2500 |   2500 |    3369 |    4520 |    6767 |    6935 |    7586 |    8078 |    8901 |\n| Belgium              |    300 |    400 |   1400 |   1600 |   2000 |    3424 |    5096 |    7666 |    8640 |    9738 |   10197 |   11493 |\n| Denmark              |    180 |    360 |    600 |    650 |    700 |    1155 |    1888 |    2983 |    4269 |    5022 |    5303 |    5823 |\n| Finland              |     20 |     40 |    300 |    400 |    400 |    1169 |    1754 |    3027 |    4009 |    4666 |    5153 |    5536 |\n| France               |   5000 |   6500 |  15000 |  18500 |  21471 |   31246 |   38440 |   41463 |   41836 |   52118 |   58805 |   67287 |\n| Germany              |   3000 |   3500 |  12000 |  16000 |  15000 |   24905 |   39231 |   65058 |   68371 |   78956 |   82029 |   83191 |\n| Italy                |   7000 |   5000 |  10500 |  13100 |  13300 |   20176 |   27888 |   37248 |   47105 |   54751 |   57592 |   59258 |\n| the Netherlands      |    200 |    300 |    950 |   1500 |   1900 |    2355 |    3615 |    6164 |   10114 |   13438 |   15700 |   17425 |\n| Norway               |    100 |    200 |    300 |    400 |    500 |     970 |    1735 |    2447 |    3265 |    3961 |    4432 |    5368 |\n| Sweden               |    200 |    400 |    550 |    760 |   1260 |    2585 |    4164 |    5621 |    7015 |    8137 |    8851 |   10379 |\n| Switzerland          |    300 |    300 |    650 |   1000 |   1200 |    1829 |    2664 |    3864 |    4694 |    6441 |    7130 |    8667 |\n| United Kingdom       |    800 |   2000 |   3942 |   6170 |   8565 |   21226 |   31393 |   45649 |   50363 |   56223 |   59237 |   67886 |\n| Portugal             |    500 |    600 |   1000 |   1100 |   2000 |    3297 |    4353 |    6004 |    8512 |    8634 |    9968 |   10305 |\n| Spain                |   4500 |   4000 |   6800 |   8240 |   8770 |   12203 |   16201 |   20263 |   27868 |   34810 |   39371 |   47431 |\n| Greece               |   2000 |   1000 |   1000 |   1500 |   1500 |    2312 |      NA |      NA |    7554 |    8929 |   10835 |   10689 |\n| 13 small countries   |    100 |    113 |    276 |    358 |    394 |     657 |      NA |      NA |      NA |      NA |      NA |      NA |\n| Total Western Europe |  24700 |  25413 |  57268 |  73778 |  81460 |  132888 |  187532 |  261007 |  305060 |  358390 |  388399 |  419639 |\n| Albania              |    200 |    200 |    200 |    200 |    300 |     437 |      NA |      NA |    1215 |    2296 |    3108 |    2878 |\n| Bulgaria             |    500 |    800 |    800 |   1250 |   1250 |    2187 |      NA |    4200 |    7251 |    8621 |    8257 |    6917 |\n| Czechoslovakia       |   1000 |   1250 |   3000 |   4500 |   4500 |    7190 |      NA |      NA |   12393 |   14563 |   15686 |   16366 |\n| − Czech Rep.         |     NA |     NA |     NA |     NA |     NA |      NA |      NA |      NA |   10221 |    8930 |   10295 |   10702 |\n| - Slovakia           |     NA |     NA |     NA |     NA |     NA |      NA |      NA |      NA |    3463 |    4642 |    5391 |    5460 |\n| Hungary              |    300 |    500 |   1250 |   1250 |   1500 |    4571 |      NA |      NA |    9338 |   10432 |   10237 |    9770 |\n| Poland               |    450 |   1200 |   4000 |   5000 |   6000 |   10426 |      NA |      NA |   25753 |   33363 |   38666 |   38268 |\n| Romania              |    800 |    800 |   2000 |   2000 |   2500 |    6389 |      NA |    7360 |   16311 |   20828 |   22503 |   19266 |\n| Yugoslavia           |   1500 |   1750 |   2250 |   2750 |   2750 |    5215 |      NA |      NA |   16578 |   21088 |      NA |      NA |\n| Eastern Europe       |   4750 |   6500 |  13500 |  16950 |  18800 |   36415 |   52182 |   79604 |   87289 |  110490 |  121006 |  109627 |\n| Former USSR          |   3900 |   7100 |  16950 |  20700 |  26550 |   54765 |   88672 |  156192 |  180050 |  249748 |  290866 |      NA |\n| - Russia             |     NA |     NA |     NA |     NA |     NA |      NA |      NA |      NA |  102833 |  132434 |  147671 |  146171 |\n| - Ukraine            |     NA |     NA |     NA |     NA |     NA |      NA |      NA |   31142 |   36905 |   48274 |   50370 |   41902 |\n| World                | 230820 | 268273 | 437818 | 555828 | 603410 | 1041092 | 1270014 | 1791020 | 2524531 | 3913482 | 5907680 | 7800000 |\n\n\n3. \nA tibble: 20 × 13\n\n| Country/region &lt;chr&gt; | 1 &lt;dbl&gt; | 1000 &lt;dbl&gt; | 1500 &lt;dbl&gt; | 1600 &lt;dbl&gt; | 1700 &lt;dbl&gt; | 1820 &lt;dbl&gt; | 1870 &lt;dbl&gt; | 1913 &lt;dbl&gt; | 1950 &lt;dbl&gt; | 1973 &lt;dbl&gt; | 1998 &lt;dbl&gt; | 2018 &lt;chr&gt; |\n|---|---|---|---|---|---|---|---|---|---|---|---|---|\n| Austria              |   0.2 |   0.3 |   0.5 |   0.4 |   0.4 |   0.3 |   0.4 |   0.4 |   0.3 |   0.2 |   0.1 | <!----> |\n| Belgium              |   0.1 |   0.1 |   0.3 |   0.3 |   0.3 |   0.3 |   0.4 |   0.4 |   0.3 |   0.2 |   0.2 | <!----> |\n| Denmark              |   0.1 |   0.1 |   0.1 |   0.1 |   0.1 |   0.1 |   0.1 |   0.2 |   0.2 |   0.1 |   0.1 | <!----> |\n| Finland              |   0.0 |   0.0 |   0.1 |   0.1 |   0.1 |   0.1 |   0.1 |   0.2 |   0.2 |   0.1 |   0.1 | <!----> |\n| France               |   2.2 |   2.4 |   3.4 |   3.3 |   3.6 |   3.0 |   3.0 |   2.3 |   1.7 |   1.3 |   1.0 | <!----> |\n| Germany              |   1.3 |   1.3 |   2.7 |   2.9 |   2.5 |   2.4 |   3.1 |   3.6 |   2.7 |   2.0 |   1.4 | <!----> |\n| Italy                |   3.0 |   1.9 |   2.4 |   2.4 |   2.2 |   1.9 |   2.2 |   2.1 |   1.9 |   1.4 |   1.0 | <!----> |\n| Netherlands          |   0.1 |   0.1 |   0.2 |   0.3 |   0.3 |   0.2 |   0.3 |   0.3 |   0.4 |   0.3 |   0.3 | <!----> |\n| Norway               |   0.0 |   0.1 |   0.1 |   0.1 |   0.1 |   0.1 |   0.1 |   0.1 |   0.1 |   0.1 |   0.1 | <!----> |\n| Sweden               |   0.1 |   0.1 |   0.1 |   0.1 |   0.2 |   0.2 |   0.3 |   0.3 |   0.3 |   0.2 |   0.1 | <!----> |\n| Switzerland          |   0.1 |   0.1 |   0.1 |   0.2 |   0.2 |   0.2 |   0.2 |   0.2 |   0.2 |   0.2 |   0.1 | <!----> |\n| United Kingdom       |   0.3 |   0.7 |   0.9 |   1.1 |   1.4 |   2.0 |   2.5 |   2.5 |   2.0 |   1.4 |   1.0 | <!----> |\n| Portugal             |   0.2 |   0.2 |   0.2 |   0.2 |   0.3 |   0.3 |   0.3 |   0.3 |   0.3 |   0.2 |   0.2 | <!----> |\n| Spain                |   1.9 |   1.5 |   1.6 |   1.5 |   1.5 |   1.2 |   1.3 |   1.1 |   1.1 |   0.9 |   0.7 | <!----> |\n| Other                |   0.9 |   0.4 |   0.3 |   0.3 |   0.3 |   0.3 |   0.4 |   0.4 |   0.5 |   0.4 |   0.3 | <!----> |\n| Total Western Europe |  10.7 |   9.5 |  13.1 |  13.3 |  13.5 |  12.8 |  14.8 |  14.6 |  12.1 |   9.2 |   6.6 | <!----> |\n| Eastern Europe       |   2.1 |   2.4 |   3.1 |   3.0 |   3.1 |   3.5 |   4.1 |   4.4 |   3.5 |   2.8 |   2.0 | <!----> |\n| Former USSR          |   1.7 |   2.6 |   3.9 |   3.7 |   4.4 |   5.3 |   7.0 |   8.7 |   7.1 |   6.4 |   4.9 | <!----> |\n| Sum                  |  14.5 |  14.5 |  20.1 |  20.0 |  21.0 |  21.6 |  25.9 |  27.7 |  22.7 |  18.4 |  13.5 | 9.8[7] |\n| World                | 100.0 | 100.0 | 100.0 | 100.0 | 100.0 | 100.0 | 100.0 | 100.0 | 100.0 | 100.0 | 100.0 | 100.0  |\n\n\n4. \nA tibble: 73 × 10\n\n| Year &lt;chr&gt; | Averagepopulation &lt;chr&gt; | Live births &lt;chr&gt; | Deaths &lt;chr&gt; | Natural change &lt;chr&gt; | Crude rates (per 1000) &lt;chr&gt; | Crude rates (per 1000) &lt;chr&gt; | Crude rates (per 1000) &lt;chr&gt; | Total fertility rate &lt;chr&gt; | Life expectancy &lt;chr&gt; |\n|---|---|---|---|---|---|---|---|---|---|\n| Year | Averagepopulation | Live births | Deaths    | Natural change | Births | Deaths | Natural change | Total fertility rate | Life expectancy |\n| 1950 | 549,721,718       | 12,202,220  | 6,473,233 | 5,728,987      | 22.2   | 11.8   | 10.4           | 2.70                 | 62.8            |\n| 1951 | 554,559,502       | 12,112,425  | 6,609,794 | 5,502,631      | 21.8   | 11.9   | 9.9            | 2.66                 | 62.8            |\n| 1952 | 559,609,904       | 12,142,368  | 6,265,135 | 5,877,233      | 21.7   | 11.2   | 10.5           | 2.66                 | 64.0            |\n| 1953 | 565,058,633       | 12,120,826  | 6,220,937 | 5,899,889      | 21.5   | 11.0   | 10.4           | 2.64                 | 64.7            |\n| 1954 | 570,670,994       | 12,151,779  | 6,072,645 | 6,079,134      | 21.3   | 10.6   | 10.7           | 2.64                 | 65.5            |\n| 1955 | 576,304,974       | 12,134,270  | 5,987,151 | 6,147,119      | 21.1   | 10.4   | 10.7           | 2.63                 | 66.0            |\n| 1956 | 581,975,516       | 12,133,583  | 5,899,594 | 6,233,989      | 20.8   | 10.1   | 10.7           | 2.62                 | 66.9            |\n| 1957 | 587,711,635       | 12,194,100  | 5,963,269 | 6,230,831      | 20.7   | 10.1   | 10.6           | 2.62                 | 66.9            |\n| 1958 | 593,669,297       | 12,177,600  | 5,647,571 | 6,530,029      | 20.5   | 9.5    | 11.0           | 2.60                 | 68.2            |\n| 1959 | 599,684,870       | 12,178,245  | 5,816,056 | 6,362,189      | 20.3   | 9.7    | 10.6           | 2.60                 | 68.1            |\n| 1960 | 605,629,870       | 12,098,378  | 5,783,828 | 6,314,550      | 20.0   | 9.6    | 10.4           | 2.58                 | 68.8            |\n| 1961 | 611,711,020       | 11,990,399  | 5,749,292 | 6,241,107      | 19.6   | 9.4    | 10.2           | 2.56                 | 69.1            |\n| 1962 | 617,672,206       | 11,784,056  | 6,023,706 | 5,760,350      | 19.1   | 9.8    | 9.3            | 2.53                 | 68.9            |\n| 1963 | 623,335,994       | 11,654,646  | 6,031,219 | 5,623,427      | 18.7   | 9.7    | 9.0            | 2.52                 | 69.2            |\n| 1964 | 628,944,878       | 11,467,618  | 5,843,514 | 5,624,104      | 18.2   | 9.3    | 8.9            | 2.50                 | 69.9            |\n| 1965 | 634,267,606       | 11,141,596  | 6,058,752 | 5,082,844      | 17.6   | 9.6    | 8.0            | 2.45                 | 69.8            |\n| 1966 | 639,264,461       | 10,950,076  | 6,074,808 | 4,875,268      | 17.1   | 9.5    | 7.6            | 2.42                 | 70.0            |\n| 1967 | 644,114,436       | 10,969,039  | 6,204,646 | 4,764,393      | 17.0   | 9.6    | 7.4            | 2.42                 | 70.0            |\n| 1968 | 648,610,191       | 10,821,004  | 6,427,622 | 4,393,382      | 16.7   | 9.9    | 6.8            | 2.38                 | 69.9            |\n| 1969 | 652,740,596       | 10,685,498  | 6,652,543 | 4,032,955      | 16.4   | 10.2   | 6.2            | 2.33                 | 69.6            |\n| 1970 | 656,521,426       | 10,568,071  | 6,602,177 | 3,965,894      | 16.1   | 10.1   | 6.0            | 2.28                 | 70.0            |\n| 1971 | 660,476,010       | 10,662,541  | 6,675,051 | 3,987,490      | 16.1   | 10.1   | 6.0            | 2.27                 | 70.1            |\n| 1972 | 664,799,679       | 10,499,844  | 6,699,913 | 3,799,931      | 15.8   | 10.1   | 5.7            | 2.21                 | 70.3            |\n| 1973 | 668,909,022       | 10,322,172  | 6,814,598 | 3,507,574      | 15.4   | 10.2   | 5.2            | 2.14                 | 70.4            |\n| 1974 | 672,912,941       | 10,406,013  | 6,818,259 | 3,587,754      | 15.5   | 10.1   | 5.3            | 2.13                 | 70.6            |\n| 1975 | 676,770,845       | 10,285,047  | 7,009,188 | 3,275,859      | 15.2   | 10.4   | 4.8            | 2.07                 | 70.5            |\n| 1976 | 680,361,150       | 10,242,399  | 7,085,837 | 3,156,562      | 15.1   | 10.4   | 4.6            | 2.03                 | 70.6            |\n| 1977 | 683,848,710       | 10,171,264  | 7,039,667 | 3,131,597      | 14.9   | 10.3   | 4.6            | 1.99                 | 70.9            |\n| 1978 | 687,149,553       | 10,143,418  | 7,183,531 | 2,959,887      | 14.8   | 10.5   | 4.3            | 1.96                 | 70.9            |\n| ⋮ | ⋮ | ⋮ | ⋮ | ⋮ | ⋮ | ⋮ | ⋮ | ⋮ | ⋮ |\n| 1992 | 725,259,493 | 8,523,515 | 7,935,829 | 587,686    | 11.8 | 10.9 | 0.8  | 1.60 | 72.7 |\n| 1993 | 726,441,892 | 8,138,793 | 8,412,609 | -273,816   | 11.2 | 11.6 | -0.4 | 1.53 | 72.1 |\n| 1994 | 727,063,162 | 7,913,453 | 8,492,472 | -579,019   | 10.9 | 11.7 | -0.8 | 1.50 | 72.1 |\n| 1995 | 727,300,408 | 7,663,831 | 8,553,348 | -889,517   | 10.5 | 11.8 | -1.2 | 1.46 | 72.2 |\n| 1996 | 727,453,566 | 7,581,575 | 8,394,631 | -813,056   | 10.4 | 11.5 | -1.1 | 1.45 | 72.7 |\n| 1997 | 727,566,480 | 7,476,674 | 8,240,385 | -763,711   | 10.3 | 11.3 | -1.0 | 1.43 | 73.2 |\n| 1998 | 727,445,606 | 7,369,527 | 8,193,143 | -823,616   | 10.1 | 11.3 | -1.1 | 1.42 | 73.6 |\n| 1999 | 727,100,016 | 7,264,382 | 8,402,774 | -1,138,392 | 10.0 | 11.6 | -1.6 | 1.40 | 73.4 |\n| 2000 | 726,968,473 | 7,325,763 | 8,401,888 | -1,076,125 | 10.1 | 11.6 | -1.5 | 1.42 | 73.5 |\n| 2001 | 726,878,371 | 7,277,594 | 8,364,598 | -1,087,004 | 10.0 | 11.5 | -1.5 | 1.41 | 73.8 |\n| 2002 | 726,939,358 | 7,330,526 | 8,520,890 | -1,190,364 | 10.1 | 11.7 | -1.6 | 1.42 | 73.8 |\n| 2003 | 727,424,988 | 7,442,475 | 8,655,471 | -1,212,996 | 10.2 | 11.9 | -1.7 | 1.45 | 73.8 |\n| 2004 | 728,163,243 | 7,558,652 | 8,381,363 | -822,711   | 10.4 | 11.5 | -1.1 | 1.47 | 74.4 |\n| 2005 | 728,950,486 | 7,568,637 | 8,494,391 | -925,754   | 10.4 | 11.7 | -1.3 | 1.47 | 74.5 |\n| 2006 | 729,857,708 | 7,703,029 | 8,237,212 | -534,183   | 10.6 | 11.3 | -0.7 | 1.50 | 75.2 |\n| 2007 | 731,393,136 | 7,886,129 | 8,187,820 | -301,691   | 10.8 | 11.2 | -0.4 | 1.54 | 75.6 |\n| 2008 | 733,256,182 | 8,169,398 | 8,195,293 | -25,895    | 11.1 | 11.2 | 0.0  | 1.59 | 75.8 |\n| 2009 | 734,902,805 | 8,208,268 | 8,099,043 | 109,225    | 11.2 | 11.0 | 0.1  | 1.60 | 76.3 |\n| 2010 | 736,276,813 | 8,227,484 | 8,128,387 | 99,097     | 11.2 | 11.0 | 0.1  | 1.61 | 76.5 |\n| 2011 | 737,589,666 | 8,132,980 | 7,958,960 | 174,020    | 11.0 | 10.8 | 0.2  | 1.60 | 77.1 |\n| 2012 | 738,907,594 | 8,178,804 | 8,078,292 | 100,512    | 11.1 | 10.9 | 0.1  | 1.62 | 77.3 |\n| 2013 | 740,013,806 | 8,039,791 | 8,033,963 | 5,828      | 10.9 | 10.9 | 0.0  | 1.60 | 77.6 |\n| 2014 | 741,014,147 | 8,067,454 | 7,955,740 | 111,714    | 10.9 | 10.7 | 0.2  | 1.62 | 77.9 |\n| 2015 | 742,107,449 | 8,004,465 | 8,177,599 | -173,134   | 10.8 | 11.0 | -0.2 | 1.62 | 78.0 |\n| 2016 | 743,318,582 | 7,950,684 | 8,009,194 | -58,510    | 10.7 | 10.8 | -0.1 | 1.62 | 78.4 |\n| 2017 | 744,449,361 | 7,617,755 | 8,076,159 | -458,404   | 10.2 | 10.8 | -0.6 | 1.56 | 78.7 |\n| 2018 | 745,359,130 | 7,375,157 | 8,112,356 | -737,199   | 9.9  | 10.9 | -1.0 | 1.53 | 78.8 |\n| 2019 | 746,189,645 | 7,108,392 | 8,020,246 | -911,854   | 9.5  | 10.7 | -1.2 | 1.49 | 79.1 |\n| 2020 | 746,225,356 | 6,938,739 | 9,119,281 | -2,180,542 | 9.3  | 12.2 | -2.9 | 1.47 | 77.7 |\n| 2021 | 745,173,774 | 6,879,818 | 9,656,398 | -2,776,580 | 9.2  | 13.0 | -3.7 | 1.48 | 77.0 |\n\n\n5. \nA tibble: 58 × 5\n\n| Country (or territory) &lt;chr&gt; | Population[1][2] &lt;chr&gt; | Area.mw-parser-output .nobold{font-weight:normal}(km2)[14] &lt;chr&gt; | Density(per km2) &lt;chr&gt; | Capital &lt;chr&gt; |\n|---|---|---|---|---|\n| Albania *                       | 2,854,710   | 28,748     | 99      | Tirana           |\n| Andorra *                       | 79,034      | 468        | 169     | Andorra la Vella |\n| Armenia *                       | 2,790,974   | 29,743     | 94      | Yerevan          |\n| Austria *                       | 8,922,082   | 83,871     | 106     | Vienna           |\n| Azerbaijan *                    | 10,312,992  | 86,600     | 119     | Baku             |\n| Belarus *                       | 9,578,167   | 207,600    | 46      | Minsk            |\n| Belgium *                       | 11,611,419  | 30,528     | 380     | Brussels         |\n| Bosnia and Herzegovina *        | 3,270,943   | 51,209     | 64      | Sarajevo         |\n| Bulgaria *                      | 6,520,314   | 110,900    | 59      | Sofia            |\n| Croatia *                       | 4,060,135   | 56,594     | 72      | Zagreb           |\n| Cyprus *                        | 1,244,188   | 9,251      | 134     | Nicosia          |\n| Czech Republic *                | 10,510,751  | 78,866     | 133     | Prague           |\n| Denmark *                       | 5,854,240   | 43,094     | 136     | Copenhagen       |\n| Estonia *                       | 1,328,701   | 45,227     | 29      | Tallinn          |\n| Faroe Islands * (Denmark)       | 49,709      | 1,399      | 35.6    | Tórshavn         |\n| Finland *                       | 5,535,992   | 336,852    | 16      | Helsinki         |\n| France *                        | 64,531,444  | 551,500    | 117     | Paris            |\n| Georgia *                       | 3,757,980   | 69,700     | 54      | Tbilisi          |\n| Germany *                       | 83,408,554  | 357,137    | 234     | Berlin           |\n| Gibraltar * (UK)                | 32,669      | 6          | 5,445   | Gibraltar        |\n| Greece *                        | 10,445,365  | 131,957    | 79      | Athens           |\n| Guernsey *[d]                   | 65,345      | 63         | 1,037   | St. Peter Port   |\n| Hungary *                       | 9,709,786   | 93,026     | 104     | Budapest         |\n| Iceland *                       | 370,335     | 103,000    | 4       | Reykjavík        |\n| Ireland *                       | 4,986,526   | 69,825     | 71      | Dublin           |\n| Isle of Man *[d]                | 84,263      | 572        | 147     | Douglas          |\n| Italy *                         | 59,240,329  | 301,339    | 197     | Rome             |\n| Jersey *[d]                     | 97,857      | 116        | 844     | Saint Helier     |\n| Kosovo **[p]                    | 1,859,203   | 10,887     | 171     | Pristina         |\n| Latvia *                        | 1,873,919   | 64,562     | 29      | Riga             |\n| Liechtenstein *                 | 39,039      | 160        | 244     | Vaduz            |\n| Lithuania *                     | 2,786,651   | 65,300     | 43      | Vilnius          |\n| Luxembourg *                    | 639,321     | 2,586      | 247     | Luxembourg       |\n| Malta *                         | 526,748     | 316        | 1,667   | Valletta         |\n| Moldova *                       | 3,061,506   | 33,846     | 90      | Chişinău         |\n| Monaco *                        | 36,686      | 2          | 18,343  | Monaco           |\n| Montenegro *                    | 627,859     | 13,812     | 45      | Podgorica        |\n| Netherlands *                   | 17,501,696  | 37,354     | 469     | Amsterdam        |\n| North Macedonia *               | 2,103,330   | 25,713     | 82      | Skopje           |\n| Norway *                        | 5,403,021   | 323,787    | 17      | Oslo             |\n| Poland *                        | 38,307,726  | 311,888    | 123     | Warsaw           |\n| Portugal *[f]                   | 10,290,103  | 92,212     | 112     | Lisbon           |\n| Romania *                       | 19,328,560  | 238,391    | 81      | Bucharest        |\n| Russia *                        | 145,102,755 | 17,098,246 | 8       | Moscow           |\n| San Marino *                    | 33,745      | 61         | 553     | San Marino       |\n| Serbia *[g]                     | 7,296,769   | 88,361     | 83      | Belgrade         |\n| Slovakia *                      | 5,447,622   | 49,036     | 111     | Bratislava       |\n| Slovenia *                      | 2,119,410   | 20,273     | 105     | Ljubljana        |\n| Spain *                         | 47,486,935  | 505,992    | 94      | Madrid           |\n| Svalbard and Jan Mayen (Norway) | 2,868       | 62,422     | 0       | Longyearbyen     |\n| Sweden *                        | 10,467,097  | 450,295    | 23      | Stockholm        |\n| Switzerland *                   | 8,691,406   | 41,285     | 211     | Bern             |\n| Transnistria *                  | 505,000     | 4,163      | 121.3   | Tiraspol         |\n| Turkey *                        | 84,775,404  | 783,562    | 108     | Ankara           |\n| Ukraine *                       | 43,531,422  | 603,500    | 72      | Kyiv             |\n| United Kingdom *                | 67,281,039  | 242,495    | 277     | London           |\n| Vatican City *                  | 842         | 0.4        | 1,913.6 | Vatican City     |\n| Åland (Finland)                 | 28,666      | 1,580      | 18      | Mariehamn        |\n\n\n\n\n",
            "text/latex": "\\begin{enumerate}\n\\item A tibble: 8 × 2\n\\begin{tabular}{ll}\n Year & Population(\\% of world total)\\\\\n <chr> & <chr>\\\\\n\\hline\n\t CE 1 & 34 (15\\%) \\\\\n\t 1000 & 40 (15\\%) \\\\\n\t 1500 & 78 (18\\%) \\\\\n\t 1600 & 112 (20\\%)\\\\\n\t 1700 & 127 (21\\%)\\\\\n\t 1820 & 224 (21\\%)\\\\\n\t 1913 & 498 (28\\%)\\\\\n\t 2000 & 742 (13\\%)\\\\\n\\end{tabular}\n\n\\item A tibble: 31 × 13\n\\begin{tabular}{lllllllllllll}\n Country/region & 1 & 1000 & 1500 & 1600 & 1700 & 1820 & 1870 & 1913 & 1950 & 1973 & 1998{[}6{]} & 2020\\\\\n <chr> & <int> & <int> & <int> & <int> & <int> & <int> & <int> & <int> & <int> & <int> & <int> & <int>\\\\\n\\hline\n\t Austria              &    500 &    700 &   2000 &   2500 &   2500 &    3369 &    4520 &    6767 &    6935 &    7586 &    8078 &    8901\\\\\n\t Belgium              &    300 &    400 &   1400 &   1600 &   2000 &    3424 &    5096 &    7666 &    8640 &    9738 &   10197 &   11493\\\\\n\t Denmark              &    180 &    360 &    600 &    650 &    700 &    1155 &    1888 &    2983 &    4269 &    5022 &    5303 &    5823\\\\\n\t Finland              &     20 &     40 &    300 &    400 &    400 &    1169 &    1754 &    3027 &    4009 &    4666 &    5153 &    5536\\\\\n\t France               &   5000 &   6500 &  15000 &  18500 &  21471 &   31246 &   38440 &   41463 &   41836 &   52118 &   58805 &   67287\\\\\n\t Germany              &   3000 &   3500 &  12000 &  16000 &  15000 &   24905 &   39231 &   65058 &   68371 &   78956 &   82029 &   83191\\\\\n\t Italy                &   7000 &   5000 &  10500 &  13100 &  13300 &   20176 &   27888 &   37248 &   47105 &   54751 &   57592 &   59258\\\\\n\t the Netherlands      &    200 &    300 &    950 &   1500 &   1900 &    2355 &    3615 &    6164 &   10114 &   13438 &   15700 &   17425\\\\\n\t Norway               &    100 &    200 &    300 &    400 &    500 &     970 &    1735 &    2447 &    3265 &    3961 &    4432 &    5368\\\\\n\t Sweden               &    200 &    400 &    550 &    760 &   1260 &    2585 &    4164 &    5621 &    7015 &    8137 &    8851 &   10379\\\\\n\t Switzerland          &    300 &    300 &    650 &   1000 &   1200 &    1829 &    2664 &    3864 &    4694 &    6441 &    7130 &    8667\\\\\n\t United Kingdom       &    800 &   2000 &   3942 &   6170 &   8565 &   21226 &   31393 &   45649 &   50363 &   56223 &   59237 &   67886\\\\\n\t Portugal             &    500 &    600 &   1000 &   1100 &   2000 &    3297 &    4353 &    6004 &    8512 &    8634 &    9968 &   10305\\\\\n\t Spain                &   4500 &   4000 &   6800 &   8240 &   8770 &   12203 &   16201 &   20263 &   27868 &   34810 &   39371 &   47431\\\\\n\t Greece               &   2000 &   1000 &   1000 &   1500 &   1500 &    2312 &      NA &      NA &    7554 &    8929 &   10835 &   10689\\\\\n\t 13 small countries   &    100 &    113 &    276 &    358 &    394 &     657 &      NA &      NA &      NA &      NA &      NA &      NA\\\\\n\t Total Western Europe &  24700 &  25413 &  57268 &  73778 &  81460 &  132888 &  187532 &  261007 &  305060 &  358390 &  388399 &  419639\\\\\n\t Albania              &    200 &    200 &    200 &    200 &    300 &     437 &      NA &      NA &    1215 &    2296 &    3108 &    2878\\\\\n\t Bulgaria             &    500 &    800 &    800 &   1250 &   1250 &    2187 &      NA &    4200 &    7251 &    8621 &    8257 &    6917\\\\\n\t Czechoslovakia       &   1000 &   1250 &   3000 &   4500 &   4500 &    7190 &      NA &      NA &   12393 &   14563 &   15686 &   16366\\\\\n\t − Czech Rep.         &     NA &     NA &     NA &     NA &     NA &      NA &      NA &      NA &   10221 &    8930 &   10295 &   10702\\\\\n\t - Slovakia           &     NA &     NA &     NA &     NA &     NA &      NA &      NA &      NA &    3463 &    4642 &    5391 &    5460\\\\\n\t Hungary              &    300 &    500 &   1250 &   1250 &   1500 &    4571 &      NA &      NA &    9338 &   10432 &   10237 &    9770\\\\\n\t Poland               &    450 &   1200 &   4000 &   5000 &   6000 &   10426 &      NA &      NA &   25753 &   33363 &   38666 &   38268\\\\\n\t Romania              &    800 &    800 &   2000 &   2000 &   2500 &    6389 &      NA &    7360 &   16311 &   20828 &   22503 &   19266\\\\\n\t Yugoslavia           &   1500 &   1750 &   2250 &   2750 &   2750 &    5215 &      NA &      NA &   16578 &   21088 &      NA &      NA\\\\\n\t Eastern Europe       &   4750 &   6500 &  13500 &  16950 &  18800 &   36415 &   52182 &   79604 &   87289 &  110490 &  121006 &  109627\\\\\n\t Former USSR          &   3900 &   7100 &  16950 &  20700 &  26550 &   54765 &   88672 &  156192 &  180050 &  249748 &  290866 &      NA\\\\\n\t - Russia             &     NA &     NA &     NA &     NA &     NA &      NA &      NA &      NA &  102833 &  132434 &  147671 &  146171\\\\\n\t - Ukraine            &     NA &     NA &     NA &     NA &     NA &      NA &      NA &   31142 &   36905 &   48274 &   50370 &   41902\\\\\n\t World                & 230820 & 268273 & 437818 & 555828 & 603410 & 1041092 & 1270014 & 1791020 & 2524531 & 3913482 & 5907680 & 7800000\\\\\n\\end{tabular}\n\n\\item A tibble: 20 × 13\n\\begin{tabular}{lllllllllllll}\n Country/region & 1 & 1000 & 1500 & 1600 & 1700 & 1820 & 1870 & 1913 & 1950 & 1973 & 1998 & 2018\\\\\n <chr> & <dbl> & <dbl> & <dbl> & <dbl> & <dbl> & <dbl> & <dbl> & <dbl> & <dbl> & <dbl> & <dbl> & <chr>\\\\\n\\hline\n\t Austria              &   0.2 &   0.3 &   0.5 &   0.4 &   0.4 &   0.3 &   0.4 &   0.4 &   0.3 &   0.2 &   0.1 &       \\\\\n\t Belgium              &   0.1 &   0.1 &   0.3 &   0.3 &   0.3 &   0.3 &   0.4 &   0.4 &   0.3 &   0.2 &   0.2 &       \\\\\n\t Denmark              &   0.1 &   0.1 &   0.1 &   0.1 &   0.1 &   0.1 &   0.1 &   0.2 &   0.2 &   0.1 &   0.1 &       \\\\\n\t Finland              &   0.0 &   0.0 &   0.1 &   0.1 &   0.1 &   0.1 &   0.1 &   0.2 &   0.2 &   0.1 &   0.1 &       \\\\\n\t France               &   2.2 &   2.4 &   3.4 &   3.3 &   3.6 &   3.0 &   3.0 &   2.3 &   1.7 &   1.3 &   1.0 &       \\\\\n\t Germany              &   1.3 &   1.3 &   2.7 &   2.9 &   2.5 &   2.4 &   3.1 &   3.6 &   2.7 &   2.0 &   1.4 &       \\\\\n\t Italy                &   3.0 &   1.9 &   2.4 &   2.4 &   2.2 &   1.9 &   2.2 &   2.1 &   1.9 &   1.4 &   1.0 &       \\\\\n\t Netherlands          &   0.1 &   0.1 &   0.2 &   0.3 &   0.3 &   0.2 &   0.3 &   0.3 &   0.4 &   0.3 &   0.3 &       \\\\\n\t Norway               &   0.0 &   0.1 &   0.1 &   0.1 &   0.1 &   0.1 &   0.1 &   0.1 &   0.1 &   0.1 &   0.1 &       \\\\\n\t Sweden               &   0.1 &   0.1 &   0.1 &   0.1 &   0.2 &   0.2 &   0.3 &   0.3 &   0.3 &   0.2 &   0.1 &       \\\\\n\t Switzerland          &   0.1 &   0.1 &   0.1 &   0.2 &   0.2 &   0.2 &   0.2 &   0.2 &   0.2 &   0.2 &   0.1 &       \\\\\n\t United Kingdom       &   0.3 &   0.7 &   0.9 &   1.1 &   1.4 &   2.0 &   2.5 &   2.5 &   2.0 &   1.4 &   1.0 &       \\\\\n\t Portugal             &   0.2 &   0.2 &   0.2 &   0.2 &   0.3 &   0.3 &   0.3 &   0.3 &   0.3 &   0.2 &   0.2 &       \\\\\n\t Spain                &   1.9 &   1.5 &   1.6 &   1.5 &   1.5 &   1.2 &   1.3 &   1.1 &   1.1 &   0.9 &   0.7 &       \\\\\n\t Other                &   0.9 &   0.4 &   0.3 &   0.3 &   0.3 &   0.3 &   0.4 &   0.4 &   0.5 &   0.4 &   0.3 &       \\\\\n\t Total Western Europe &  10.7 &   9.5 &  13.1 &  13.3 &  13.5 &  12.8 &  14.8 &  14.6 &  12.1 &   9.2 &   6.6 &       \\\\\n\t Eastern Europe       &   2.1 &   2.4 &   3.1 &   3.0 &   3.1 &   3.5 &   4.1 &   4.4 &   3.5 &   2.8 &   2.0 &       \\\\\n\t Former USSR          &   1.7 &   2.6 &   3.9 &   3.7 &   4.4 &   5.3 &   7.0 &   8.7 &   7.1 &   6.4 &   4.9 &       \\\\\n\t Sum                  &  14.5 &  14.5 &  20.1 &  20.0 &  21.0 &  21.6 &  25.9 &  27.7 &  22.7 &  18.4 &  13.5 & 9.8{[}7{]}\\\\\n\t World                & 100.0 & 100.0 & 100.0 & 100.0 & 100.0 & 100.0 & 100.0 & 100.0 & 100.0 & 100.0 & 100.0 & 100.0 \\\\\n\\end{tabular}\n\n\\item A tibble: 73 × 10\n\\begin{tabular}{llllllllll}\n Year & Averagepopulation & Live births & Deaths & Natural change & Crude rates (per 1000) & Crude rates (per 1000) & Crude rates (per 1000) & Total fertility rate & Life expectancy\\\\\n <chr> & <chr> & <chr> & <chr> & <chr> & <chr> & <chr> & <chr> & <chr> & <chr>\\\\\n\\hline\n\t Year & Averagepopulation & Live births & Deaths    & Natural change & Births & Deaths & Natural change & Total fertility rate & Life expectancy\\\\\n\t 1950 & 549,721,718       & 12,202,220  & 6,473,233 & 5,728,987      & 22.2   & 11.8   & 10.4           & 2.70                 & 62.8           \\\\\n\t 1951 & 554,559,502       & 12,112,425  & 6,609,794 & 5,502,631      & 21.8   & 11.9   & 9.9            & 2.66                 & 62.8           \\\\\n\t 1952 & 559,609,904       & 12,142,368  & 6,265,135 & 5,877,233      & 21.7   & 11.2   & 10.5           & 2.66                 & 64.0           \\\\\n\t 1953 & 565,058,633       & 12,120,826  & 6,220,937 & 5,899,889      & 21.5   & 11.0   & 10.4           & 2.64                 & 64.7           \\\\\n\t 1954 & 570,670,994       & 12,151,779  & 6,072,645 & 6,079,134      & 21.3   & 10.6   & 10.7           & 2.64                 & 65.5           \\\\\n\t 1955 & 576,304,974       & 12,134,270  & 5,987,151 & 6,147,119      & 21.1   & 10.4   & 10.7           & 2.63                 & 66.0           \\\\\n\t 1956 & 581,975,516       & 12,133,583  & 5,899,594 & 6,233,989      & 20.8   & 10.1   & 10.7           & 2.62                 & 66.9           \\\\\n\t 1957 & 587,711,635       & 12,194,100  & 5,963,269 & 6,230,831      & 20.7   & 10.1   & 10.6           & 2.62                 & 66.9           \\\\\n\t 1958 & 593,669,297       & 12,177,600  & 5,647,571 & 6,530,029      & 20.5   & 9.5    & 11.0           & 2.60                 & 68.2           \\\\\n\t 1959 & 599,684,870       & 12,178,245  & 5,816,056 & 6,362,189      & 20.3   & 9.7    & 10.6           & 2.60                 & 68.1           \\\\\n\t 1960 & 605,629,870       & 12,098,378  & 5,783,828 & 6,314,550      & 20.0   & 9.6    & 10.4           & 2.58                 & 68.8           \\\\\n\t 1961 & 611,711,020       & 11,990,399  & 5,749,292 & 6,241,107      & 19.6   & 9.4    & 10.2           & 2.56                 & 69.1           \\\\\n\t 1962 & 617,672,206       & 11,784,056  & 6,023,706 & 5,760,350      & 19.1   & 9.8    & 9.3            & 2.53                 & 68.9           \\\\\n\t 1963 & 623,335,994       & 11,654,646  & 6,031,219 & 5,623,427      & 18.7   & 9.7    & 9.0            & 2.52                 & 69.2           \\\\\n\t 1964 & 628,944,878       & 11,467,618  & 5,843,514 & 5,624,104      & 18.2   & 9.3    & 8.9            & 2.50                 & 69.9           \\\\\n\t 1965 & 634,267,606       & 11,141,596  & 6,058,752 & 5,082,844      & 17.6   & 9.6    & 8.0            & 2.45                 & 69.8           \\\\\n\t 1966 & 639,264,461       & 10,950,076  & 6,074,808 & 4,875,268      & 17.1   & 9.5    & 7.6            & 2.42                 & 70.0           \\\\\n\t 1967 & 644,114,436       & 10,969,039  & 6,204,646 & 4,764,393      & 17.0   & 9.6    & 7.4            & 2.42                 & 70.0           \\\\\n\t 1968 & 648,610,191       & 10,821,004  & 6,427,622 & 4,393,382      & 16.7   & 9.9    & 6.8            & 2.38                 & 69.9           \\\\\n\t 1969 & 652,740,596       & 10,685,498  & 6,652,543 & 4,032,955      & 16.4   & 10.2   & 6.2            & 2.33                 & 69.6           \\\\\n\t 1970 & 656,521,426       & 10,568,071  & 6,602,177 & 3,965,894      & 16.1   & 10.1   & 6.0            & 2.28                 & 70.0           \\\\\n\t 1971 & 660,476,010       & 10,662,541  & 6,675,051 & 3,987,490      & 16.1   & 10.1   & 6.0            & 2.27                 & 70.1           \\\\\n\t 1972 & 664,799,679       & 10,499,844  & 6,699,913 & 3,799,931      & 15.8   & 10.1   & 5.7            & 2.21                 & 70.3           \\\\\n\t 1973 & 668,909,022       & 10,322,172  & 6,814,598 & 3,507,574      & 15.4   & 10.2   & 5.2            & 2.14                 & 70.4           \\\\\n\t 1974 & 672,912,941       & 10,406,013  & 6,818,259 & 3,587,754      & 15.5   & 10.1   & 5.3            & 2.13                 & 70.6           \\\\\n\t 1975 & 676,770,845       & 10,285,047  & 7,009,188 & 3,275,859      & 15.2   & 10.4   & 4.8            & 2.07                 & 70.5           \\\\\n\t 1976 & 680,361,150       & 10,242,399  & 7,085,837 & 3,156,562      & 15.1   & 10.4   & 4.6            & 2.03                 & 70.6           \\\\\n\t 1977 & 683,848,710       & 10,171,264  & 7,039,667 & 3,131,597      & 14.9   & 10.3   & 4.6            & 1.99                 & 70.9           \\\\\n\t 1978 & 687,149,553       & 10,143,418  & 7,183,531 & 2,959,887      & 14.8   & 10.5   & 4.3            & 1.96                 & 70.9           \\\\\n\t ⋮ & ⋮ & ⋮ & ⋮ & ⋮ & ⋮ & ⋮ & ⋮ & ⋮ & ⋮\\\\\n\t 1992 & 725,259,493 & 8,523,515 & 7,935,829 & 587,686    & 11.8 & 10.9 & 0.8  & 1.60 & 72.7\\\\\n\t 1993 & 726,441,892 & 8,138,793 & 8,412,609 & -273,816   & 11.2 & 11.6 & -0.4 & 1.53 & 72.1\\\\\n\t 1994 & 727,063,162 & 7,913,453 & 8,492,472 & -579,019   & 10.9 & 11.7 & -0.8 & 1.50 & 72.1\\\\\n\t 1995 & 727,300,408 & 7,663,831 & 8,553,348 & -889,517   & 10.5 & 11.8 & -1.2 & 1.46 & 72.2\\\\\n\t 1996 & 727,453,566 & 7,581,575 & 8,394,631 & -813,056   & 10.4 & 11.5 & -1.1 & 1.45 & 72.7\\\\\n\t 1997 & 727,566,480 & 7,476,674 & 8,240,385 & -763,711   & 10.3 & 11.3 & -1.0 & 1.43 & 73.2\\\\\n\t 1998 & 727,445,606 & 7,369,527 & 8,193,143 & -823,616   & 10.1 & 11.3 & -1.1 & 1.42 & 73.6\\\\\n\t 1999 & 727,100,016 & 7,264,382 & 8,402,774 & -1,138,392 & 10.0 & 11.6 & -1.6 & 1.40 & 73.4\\\\\n\t 2000 & 726,968,473 & 7,325,763 & 8,401,888 & -1,076,125 & 10.1 & 11.6 & -1.5 & 1.42 & 73.5\\\\\n\t 2001 & 726,878,371 & 7,277,594 & 8,364,598 & -1,087,004 & 10.0 & 11.5 & -1.5 & 1.41 & 73.8\\\\\n\t 2002 & 726,939,358 & 7,330,526 & 8,520,890 & -1,190,364 & 10.1 & 11.7 & -1.6 & 1.42 & 73.8\\\\\n\t 2003 & 727,424,988 & 7,442,475 & 8,655,471 & -1,212,996 & 10.2 & 11.9 & -1.7 & 1.45 & 73.8\\\\\n\t 2004 & 728,163,243 & 7,558,652 & 8,381,363 & -822,711   & 10.4 & 11.5 & -1.1 & 1.47 & 74.4\\\\\n\t 2005 & 728,950,486 & 7,568,637 & 8,494,391 & -925,754   & 10.4 & 11.7 & -1.3 & 1.47 & 74.5\\\\\n\t 2006 & 729,857,708 & 7,703,029 & 8,237,212 & -534,183   & 10.6 & 11.3 & -0.7 & 1.50 & 75.2\\\\\n\t 2007 & 731,393,136 & 7,886,129 & 8,187,820 & -301,691   & 10.8 & 11.2 & -0.4 & 1.54 & 75.6\\\\\n\t 2008 & 733,256,182 & 8,169,398 & 8,195,293 & -25,895    & 11.1 & 11.2 & 0.0  & 1.59 & 75.8\\\\\n\t 2009 & 734,902,805 & 8,208,268 & 8,099,043 & 109,225    & 11.2 & 11.0 & 0.1  & 1.60 & 76.3\\\\\n\t 2010 & 736,276,813 & 8,227,484 & 8,128,387 & 99,097     & 11.2 & 11.0 & 0.1  & 1.61 & 76.5\\\\\n\t 2011 & 737,589,666 & 8,132,980 & 7,958,960 & 174,020    & 11.0 & 10.8 & 0.2  & 1.60 & 77.1\\\\\n\t 2012 & 738,907,594 & 8,178,804 & 8,078,292 & 100,512    & 11.1 & 10.9 & 0.1  & 1.62 & 77.3\\\\\n\t 2013 & 740,013,806 & 8,039,791 & 8,033,963 & 5,828      & 10.9 & 10.9 & 0.0  & 1.60 & 77.6\\\\\n\t 2014 & 741,014,147 & 8,067,454 & 7,955,740 & 111,714    & 10.9 & 10.7 & 0.2  & 1.62 & 77.9\\\\\n\t 2015 & 742,107,449 & 8,004,465 & 8,177,599 & -173,134   & 10.8 & 11.0 & -0.2 & 1.62 & 78.0\\\\\n\t 2016 & 743,318,582 & 7,950,684 & 8,009,194 & -58,510    & 10.7 & 10.8 & -0.1 & 1.62 & 78.4\\\\\n\t 2017 & 744,449,361 & 7,617,755 & 8,076,159 & -458,404   & 10.2 & 10.8 & -0.6 & 1.56 & 78.7\\\\\n\t 2018 & 745,359,130 & 7,375,157 & 8,112,356 & -737,199   & 9.9  & 10.9 & -1.0 & 1.53 & 78.8\\\\\n\t 2019 & 746,189,645 & 7,108,392 & 8,020,246 & -911,854   & 9.5  & 10.7 & -1.2 & 1.49 & 79.1\\\\\n\t 2020 & 746,225,356 & 6,938,739 & 9,119,281 & -2,180,542 & 9.3  & 12.2 & -2.9 & 1.47 & 77.7\\\\\n\t 2021 & 745,173,774 & 6,879,818 & 9,656,398 & -2,776,580 & 9.2  & 13.0 & -3.7 & 1.48 & 77.0\\\\\n\\end{tabular}\n\n\\item A tibble: 58 × 5\n\\begin{tabular}{lllll}\n Country (or territory) & Population{[}1{]}{[}2{]} & Area.mw-parser-output .nobold\\{font-weight:normal\\}(km2){[}14{]} & Density(per km2) & Capital\\\\\n <chr> & <chr> & <chr> & <chr> & <chr>\\\\\n\\hline\n\t Albania *                       & 2,854,710   & 28,748     & 99      & Tirana          \\\\\n\t Andorra *                       & 79,034      & 468        & 169     & Andorra la Vella\\\\\n\t Armenia *                       & 2,790,974   & 29,743     & 94      & Yerevan         \\\\\n\t Austria *                       & 8,922,082   & 83,871     & 106     & Vienna          \\\\\n\t Azerbaijan *                    & 10,312,992  & 86,600     & 119     & Baku            \\\\\n\t Belarus *                       & 9,578,167   & 207,600    & 46      & Minsk           \\\\\n\t Belgium *                       & 11,611,419  & 30,528     & 380     & Brussels        \\\\\n\t Bosnia and Herzegovina *        & 3,270,943   & 51,209     & 64      & Sarajevo        \\\\\n\t Bulgaria *                      & 6,520,314   & 110,900    & 59      & Sofia           \\\\\n\t Croatia *                       & 4,060,135   & 56,594     & 72      & Zagreb          \\\\\n\t Cyprus *                        & 1,244,188   & 9,251      & 134     & Nicosia         \\\\\n\t Czech Republic *                & 10,510,751  & 78,866     & 133     & Prague          \\\\\n\t Denmark *                       & 5,854,240   & 43,094     & 136     & Copenhagen      \\\\\n\t Estonia *                       & 1,328,701   & 45,227     & 29      & Tallinn         \\\\\n\t Faroe Islands * (Denmark)       & 49,709      & 1,399      & 35.6    & Tórshavn        \\\\\n\t Finland *                       & 5,535,992   & 336,852    & 16      & Helsinki        \\\\\n\t France *                        & 64,531,444  & 551,500    & 117     & Paris           \\\\\n\t Georgia *                       & 3,757,980   & 69,700     & 54      & Tbilisi         \\\\\n\t Germany *                       & 83,408,554  & 357,137    & 234     & Berlin          \\\\\n\t Gibraltar * (UK)                & 32,669      & 6          & 5,445   & Gibraltar       \\\\\n\t Greece *                        & 10,445,365  & 131,957    & 79      & Athens          \\\\\n\t Guernsey *{[}d{]}                   & 65,345      & 63         & 1,037   & St. Peter Port  \\\\\n\t Hungary *                       & 9,709,786   & 93,026     & 104     & Budapest        \\\\\n\t Iceland *                       & 370,335     & 103,000    & 4       & Reykjavík       \\\\\n\t Ireland *                       & 4,986,526   & 69,825     & 71      & Dublin          \\\\\n\t Isle of Man *{[}d{]}                & 84,263      & 572        & 147     & Douglas         \\\\\n\t Italy *                         & 59,240,329  & 301,339    & 197     & Rome            \\\\\n\t Jersey *{[}d{]}                     & 97,857      & 116        & 844     & Saint Helier    \\\\\n\t Kosovo **{[}p{]}                    & 1,859,203   & 10,887     & 171     & Pristina        \\\\\n\t Latvia *                        & 1,873,919   & 64,562     & 29      & Riga            \\\\\n\t Liechtenstein *                 & 39,039      & 160        & 244     & Vaduz           \\\\\n\t Lithuania *                     & 2,786,651   & 65,300     & 43      & Vilnius         \\\\\n\t Luxembourg *                    & 639,321     & 2,586      & 247     & Luxembourg      \\\\\n\t Malta *                         & 526,748     & 316        & 1,667   & Valletta        \\\\\n\t Moldova *                       & 3,061,506   & 33,846     & 90      & Chişinău        \\\\\n\t Monaco *                        & 36,686      & 2          & 18,343  & Monaco          \\\\\n\t Montenegro *                    & 627,859     & 13,812     & 45      & Podgorica       \\\\\n\t Netherlands *                   & 17,501,696  & 37,354     & 469     & Amsterdam       \\\\\n\t North Macedonia *               & 2,103,330   & 25,713     & 82      & Skopje          \\\\\n\t Norway *                        & 5,403,021   & 323,787    & 17      & Oslo            \\\\\n\t Poland *                        & 38,307,726  & 311,888    & 123     & Warsaw          \\\\\n\t Portugal *{[}f{]}                   & 10,290,103  & 92,212     & 112     & Lisbon          \\\\\n\t Romania *                       & 19,328,560  & 238,391    & 81      & Bucharest       \\\\\n\t Russia *                        & 145,102,755 & 17,098,246 & 8       & Moscow          \\\\\n\t San Marino *                    & 33,745      & 61         & 553     & San Marino      \\\\\n\t Serbia *{[}g{]}                     & 7,296,769   & 88,361     & 83      & Belgrade        \\\\\n\t Slovakia *                      & 5,447,622   & 49,036     & 111     & Bratislava      \\\\\n\t Slovenia *                      & 2,119,410   & 20,273     & 105     & Ljubljana       \\\\\n\t Spain *                         & 47,486,935  & 505,992    & 94      & Madrid          \\\\\n\t Svalbard and Jan Mayen (Norway) & 2,868       & 62,422     & 0       & Longyearbyen    \\\\\n\t Sweden *                        & 10,467,097  & 450,295    & 23      & Stockholm       \\\\\n\t Switzerland *                   & 8,691,406   & 41,285     & 211     & Bern            \\\\\n\t Transnistria *                  & 505,000     & 4,163      & 121.3   & Tiraspol        \\\\\n\t Turkey *                        & 84,775,404  & 783,562    & 108     & Ankara          \\\\\n\t Ukraine *                       & 43,531,422  & 603,500    & 72      & Kyiv            \\\\\n\t United Kingdom *                & 67,281,039  & 242,495    & 277     & London          \\\\\n\t Vatican City *                  & 842         & 0.4        & 1,913.6 & Vatican City    \\\\\n\t Åland (Finland)                 & 28,666      & 1,580      & 18      & Mariehamn       \\\\\n\\end{tabular}\n\n\\end{enumerate}\n",
            "text/plain": [
              "[[1]]\n",
              "\u001b[90m# A tibble: 8 × 2\u001b[39m\n",
              "  Year  `Population(% of world total)`\n",
              "  \u001b[3m\u001b[90m<chr>\u001b[39m\u001b[23m \u001b[3m\u001b[90m<chr>\u001b[39m\u001b[23m                         \n",
              "\u001b[90m1\u001b[39m CE 1  34 (15%)                      \n",
              "\u001b[90m2\u001b[39m 1000  40 (15%)                      \n",
              "\u001b[90m3\u001b[39m 1500  78 (18%)                      \n",
              "\u001b[90m4\u001b[39m 1600  112 (20%)                     \n",
              "\u001b[90m5\u001b[39m 1700  127 (21%)                     \n",
              "\u001b[90m6\u001b[39m 1820  224 (21%)                     \n",
              "\u001b[90m7\u001b[39m 1913  498 (28%)                     \n",
              "\u001b[90m8\u001b[39m 2000  742 (13%)                     \n",
              "\n",
              "[[2]]\n",
              "\u001b[90m# A tibble: 31 × 13\u001b[39m\n",
              "   Countr…¹   `1` `1000` `1500` `1600` `1700` `1820` `1870` `1913` `1950` `1973`\n",
              "   \u001b[3m\u001b[90m<chr>\u001b[39m\u001b[23m    \u001b[3m\u001b[90m<int>\u001b[39m\u001b[23m  \u001b[3m\u001b[90m<int>\u001b[39m\u001b[23m  \u001b[3m\u001b[90m<int>\u001b[39m\u001b[23m  \u001b[3m\u001b[90m<int>\u001b[39m\u001b[23m  \u001b[3m\u001b[90m<int>\u001b[39m\u001b[23m  \u001b[3m\u001b[90m<int>\u001b[39m\u001b[23m  \u001b[3m\u001b[90m<int>\u001b[39m\u001b[23m  \u001b[3m\u001b[90m<int>\u001b[39m\u001b[23m  \u001b[3m\u001b[90m<int>\u001b[39m\u001b[23m  \u001b[3m\u001b[90m<int>\u001b[39m\u001b[23m\n",
              "\u001b[90m 1\u001b[39m Austria    500    700   \u001b[4m2\u001b[24m000   \u001b[4m2\u001b[24m500   \u001b[4m2\u001b[24m500   \u001b[4m3\u001b[24m369   \u001b[4m4\u001b[24m520   \u001b[4m6\u001b[24m767   \u001b[4m6\u001b[24m935   \u001b[4m7\u001b[24m586\n",
              "\u001b[90m 2\u001b[39m Belgium    300    400   \u001b[4m1\u001b[24m400   \u001b[4m1\u001b[24m600   \u001b[4m2\u001b[24m000   \u001b[4m3\u001b[24m424   \u001b[4m5\u001b[24m096   \u001b[4m7\u001b[24m666   \u001b[4m8\u001b[24m640   \u001b[4m9\u001b[24m738\n",
              "\u001b[90m 3\u001b[39m Denmark    180    360    600    650    700   \u001b[4m1\u001b[24m155   \u001b[4m1\u001b[24m888   \u001b[4m2\u001b[24m983   \u001b[4m4\u001b[24m269   \u001b[4m5\u001b[24m022\n",
              "\u001b[90m 4\u001b[39m Finland     20     40    300    400    400   \u001b[4m1\u001b[24m169   \u001b[4m1\u001b[24m754   \u001b[4m3\u001b[24m027   \u001b[4m4\u001b[24m009   \u001b[4m4\u001b[24m666\n",
              "\u001b[90m 5\u001b[39m France    \u001b[4m5\u001b[24m000   \u001b[4m6\u001b[24m500  \u001b[4m1\u001b[24m\u001b[4m5\u001b[24m000  \u001b[4m1\u001b[24m\u001b[4m8\u001b[24m500  \u001b[4m2\u001b[24m\u001b[4m1\u001b[24m471  \u001b[4m3\u001b[24m\u001b[4m1\u001b[24m246  \u001b[4m3\u001b[24m\u001b[4m8\u001b[24m440  \u001b[4m4\u001b[24m\u001b[4m1\u001b[24m463  \u001b[4m4\u001b[24m\u001b[4m1\u001b[24m836  \u001b[4m5\u001b[24m\u001b[4m2\u001b[24m118\n",
              "\u001b[90m 6\u001b[39m Germany   \u001b[4m3\u001b[24m000   \u001b[4m3\u001b[24m500  \u001b[4m1\u001b[24m\u001b[4m2\u001b[24m000  \u001b[4m1\u001b[24m\u001b[4m6\u001b[24m000  \u001b[4m1\u001b[24m\u001b[4m5\u001b[24m000  \u001b[4m2\u001b[24m\u001b[4m4\u001b[24m905  \u001b[4m3\u001b[24m\u001b[4m9\u001b[24m231  \u001b[4m6\u001b[24m\u001b[4m5\u001b[24m058  \u001b[4m6\u001b[24m\u001b[4m8\u001b[24m371  \u001b[4m7\u001b[24m\u001b[4m8\u001b[24m956\n",
              "\u001b[90m 7\u001b[39m Italy     \u001b[4m7\u001b[24m000   \u001b[4m5\u001b[24m000  \u001b[4m1\u001b[24m\u001b[4m0\u001b[24m500  \u001b[4m1\u001b[24m\u001b[4m3\u001b[24m100  \u001b[4m1\u001b[24m\u001b[4m3\u001b[24m300  \u001b[4m2\u001b[24m\u001b[4m0\u001b[24m176  \u001b[4m2\u001b[24m\u001b[4m7\u001b[24m888  \u001b[4m3\u001b[24m\u001b[4m7\u001b[24m248  \u001b[4m4\u001b[24m\u001b[4m7\u001b[24m105  \u001b[4m5\u001b[24m\u001b[4m4\u001b[24m751\n",
              "\u001b[90m 8\u001b[39m the Net…   200    300    950   \u001b[4m1\u001b[24m500   \u001b[4m1\u001b[24m900   \u001b[4m2\u001b[24m355   \u001b[4m3\u001b[24m615   \u001b[4m6\u001b[24m164  \u001b[4m1\u001b[24m\u001b[4m0\u001b[24m114  \u001b[4m1\u001b[24m\u001b[4m3\u001b[24m438\n",
              "\u001b[90m 9\u001b[39m Norway     100    200    300    400    500    970   \u001b[4m1\u001b[24m735   \u001b[4m2\u001b[24m447   \u001b[4m3\u001b[24m265   \u001b[4m3\u001b[24m961\n",
              "\u001b[90m10\u001b[39m Sweden     200    400    550    760   \u001b[4m1\u001b[24m260   \u001b[4m2\u001b[24m585   \u001b[4m4\u001b[24m164   \u001b[4m5\u001b[24m621   \u001b[4m7\u001b[24m015   \u001b[4m8\u001b[24m137\n",
              "\u001b[90m# … with 21 more rows, 2 more variables: `1998[6]` <int>, `2020` <int>, and\u001b[39m\n",
              "\u001b[90m#   abbreviated variable name ¹​`Country/region`\u001b[39m\n",
              "\n",
              "[[3]]\n",
              "\u001b[90m# A tibble: 20 × 13\u001b[39m\n",
              "   Countr…¹   `1` `1000` `1500` `1600` `1700` `1820` `1870` `1913` `1950` `1973`\n",
              "   \u001b[3m\u001b[90m<chr>\u001b[39m\u001b[23m    \u001b[3m\u001b[90m<dbl>\u001b[39m\u001b[23m  \u001b[3m\u001b[90m<dbl>\u001b[39m\u001b[23m  \u001b[3m\u001b[90m<dbl>\u001b[39m\u001b[23m  \u001b[3m\u001b[90m<dbl>\u001b[39m\u001b[23m  \u001b[3m\u001b[90m<dbl>\u001b[39m\u001b[23m  \u001b[3m\u001b[90m<dbl>\u001b[39m\u001b[23m  \u001b[3m\u001b[90m<dbl>\u001b[39m\u001b[23m  \u001b[3m\u001b[90m<dbl>\u001b[39m\u001b[23m  \u001b[3m\u001b[90m<dbl>\u001b[39m\u001b[23m  \u001b[3m\u001b[90m<dbl>\u001b[39m\u001b[23m\n",
              "\u001b[90m 1\u001b[39m Austria    0.2    0.3    0.5    0.4    0.4    0.3    0.4    0.4    0.3    0.2\n",
              "\u001b[90m 2\u001b[39m Belgium    0.1    0.1    0.3    0.3    0.3    0.3    0.4    0.4    0.3    0.2\n",
              "\u001b[90m 3\u001b[39m Denmark    0.1    0.1    0.1    0.1    0.1    0.1    0.1    0.2    0.2    0.1\n",
              "\u001b[90m 4\u001b[39m Finland    0      0      0.1    0.1    0.1    0.1    0.1    0.2    0.2    0.1\n",
              "\u001b[90m 5\u001b[39m France     2.2    2.4    3.4    3.3    3.6    3      3      2.3    1.7    1.3\n",
              "\u001b[90m 6\u001b[39m Germany    1.3    1.3    2.7    2.9    2.5    2.4    3.1    3.6    2.7    2  \n",
              "\u001b[90m 7\u001b[39m Italy      3      1.9    2.4    2.4    2.2    1.9    2.2    2.1    1.9    1.4\n",
              "\u001b[90m 8\u001b[39m Netherl…   0.1    0.1    0.2    0.3    0.3    0.2    0.3    0.3    0.4    0.3\n",
              "\u001b[90m 9\u001b[39m Norway     0      0.1    0.1    0.1    0.1    0.1    0.1    0.1    0.1    0.1\n",
              "\u001b[90m10\u001b[39m Sweden     0.1    0.1    0.1    0.1    0.2    0.2    0.3    0.3    0.3    0.2\n",
              "\u001b[90m11\u001b[39m Switzer…   0.1    0.1    0.1    0.2    0.2    0.2    0.2    0.2    0.2    0.2\n",
              "\u001b[90m12\u001b[39m United …   0.3    0.7    0.9    1.1    1.4    2      2.5    2.5    2      1.4\n",
              "\u001b[90m13\u001b[39m Portugal   0.2    0.2    0.2    0.2    0.3    0.3    0.3    0.3    0.3    0.2\n",
              "\u001b[90m14\u001b[39m Spain      1.9    1.5    1.6    1.5    1.5    1.2    1.3    1.1    1.1    0.9\n",
              "\u001b[90m15\u001b[39m Other      0.9    0.4    0.3    0.3    0.3    0.3    0.4    0.4    0.5    0.4\n",
              "\u001b[90m16\u001b[39m Total W…  10.7    9.5   13.1   13.3   13.5   12.8   14.8   14.6   12.1    9.2\n",
              "\u001b[90m17\u001b[39m Eastern…   2.1    2.4    3.1    3      3.1    3.5    4.1    4.4    3.5    2.8\n",
              "\u001b[90m18\u001b[39m Former …   1.7    2.6    3.9    3.7    4.4    5.3    7      8.7    7.1    6.4\n",
              "\u001b[90m19\u001b[39m Sum       14.5   14.5   20.1   20     21     21.6   25.9   27.7   22.7   18.4\n",
              "\u001b[90m20\u001b[39m World    100    100    100    100    100    100    100    100    100    100  \n",
              "\u001b[90m# … with 2 more variables: `1998` <dbl>, `2018` <chr>, and abbreviated variable\u001b[39m\n",
              "\u001b[90m#   name ¹​`Country/region`\u001b[39m\n",
              "\n",
              "[[4]]\n",
              "\u001b[90m# A tibble: 73 × 10\u001b[39m\n",
              "   Year  Averag…¹ Live …² Deaths Natur…³ Crude…⁴ Crude…⁵ Crude…⁶ Total…⁷ Life …⁸\n",
              "   \u001b[3m\u001b[90m<chr>\u001b[39m\u001b[23m \u001b[3m\u001b[90m<chr>\u001b[39m\u001b[23m    \u001b[3m\u001b[90m<chr>\u001b[39m\u001b[23m   \u001b[3m\u001b[90m<chr>\u001b[39m\u001b[23m  \u001b[3m\u001b[90m<chr>\u001b[39m\u001b[23m   \u001b[3m\u001b[90m<chr>\u001b[39m\u001b[23m   \u001b[3m\u001b[90m<chr>\u001b[39m\u001b[23m   \u001b[3m\u001b[90m<chr>\u001b[39m\u001b[23m   \u001b[3m\u001b[90m<chr>\u001b[39m\u001b[23m   \u001b[3m\u001b[90m<chr>\u001b[39m\u001b[23m  \n",
              "\u001b[90m 1\u001b[39m Year  Average… Live b… Deaths Natura… Births  Deaths  Natura… Total … Life e…\n",
              "\u001b[90m 2\u001b[39m 1950  549,721… 12,202… 6,473… 5,728,… 22.2    11.8    10.4    2.70    62.8   \n",
              "\u001b[90m 3\u001b[39m 1951  554,559… 12,112… 6,609… 5,502,… 21.8    11.9    9.9     2.66    62.8   \n",
              "\u001b[90m 4\u001b[39m 1952  559,609… 12,142… 6,265… 5,877,… 21.7    11.2    10.5    2.66    64.0   \n",
              "\u001b[90m 5\u001b[39m 1953  565,058… 12,120… 6,220… 5,899,… 21.5    11.0    10.4    2.64    64.7   \n",
              "\u001b[90m 6\u001b[39m 1954  570,670… 12,151… 6,072… 6,079,… 21.3    10.6    10.7    2.64    65.5   \n",
              "\u001b[90m 7\u001b[39m 1955  576,304… 12,134… 5,987… 6,147,… 21.1    10.4    10.7    2.63    66.0   \n",
              "\u001b[90m 8\u001b[39m 1956  581,975… 12,133… 5,899… 6,233,… 20.8    10.1    10.7    2.62    66.9   \n",
              "\u001b[90m 9\u001b[39m 1957  587,711… 12,194… 5,963… 6,230,… 20.7    10.1    10.6    2.62    66.9   \n",
              "\u001b[90m10\u001b[39m 1958  593,669… 12,177… 5,647… 6,530,… 20.5    9.5     11.0    2.60    68.2   \n",
              "\u001b[90m# … with 63 more rows, and abbreviated variable names ¹​Averagepopulation,\u001b[39m\n",
              "\u001b[90m#   ²​`Live births`, ³​`Natural change`, ⁴​`Crude rates (per 1000)`,\u001b[39m\n",
              "\u001b[90m#   ⁵​`Crude rates (per 1000)`, ⁶​`Crude rates (per 1000)`,\u001b[39m\n",
              "\u001b[90m#   ⁷​`Total fertility rate`, ⁸​`Life expectancy`\u001b[39m\n",
              "\n",
              "[[5]]\n",
              "\u001b[90m# A tibble: 58 × 5\u001b[39m\n",
              "   `Country (or territory)` `Population[1][2]` Area.mw-parser-…¹ Densi…² Capital\n",
              "   \u001b[3m\u001b[90m<chr>\u001b[39m\u001b[23m                    \u001b[3m\u001b[90m<chr>\u001b[39m\u001b[23m              \u001b[3m\u001b[90m<chr>\u001b[39m\u001b[23m             \u001b[3m\u001b[90m<chr>\u001b[39m\u001b[23m   \u001b[3m\u001b[90m<chr>\u001b[39m\u001b[23m  \n",
              "\u001b[90m 1\u001b[39m Albania *                2,854,710          28,748            99      Tirana \n",
              "\u001b[90m 2\u001b[39m Andorra *                79,034             468               169     Andorr…\n",
              "\u001b[90m 3\u001b[39m Armenia *                2,790,974          29,743            94      Yerevan\n",
              "\u001b[90m 4\u001b[39m Austria *                8,922,082          83,871            106     Vienna \n",
              "\u001b[90m 5\u001b[39m Azerbaijan *             10,312,992         86,600            119     Baku   \n",
              "\u001b[90m 6\u001b[39m Belarus *                9,578,167          207,600           46      Minsk  \n",
              "\u001b[90m 7\u001b[39m Belgium *                11,611,419         30,528            380     Brusse…\n",
              "\u001b[90m 8\u001b[39m Bosnia and Herzegovina * 3,270,943          51,209            64      Saraje…\n",
              "\u001b[90m 9\u001b[39m Bulgaria *               6,520,314          110,900           59      Sofia  \n",
              "\u001b[90m10\u001b[39m Croatia *                4,060,135          56,594            72      Zagreb \n",
              "\u001b[90m# … with 48 more rows, and abbreviated variable names\u001b[39m\n",
              "\u001b[90m#   ¹​`Area.mw-parser-output .nobold{font-weight:normal}(km2)[14]`,\u001b[39m\n",
              "\u001b[90m#   ²​`Density(per km2)`\u001b[39m\n"
            ]
          },
          "metadata": {}
        },
        {
          "output_type": "error",
          "ename": "ERROR",
          "evalue": "ignored",
          "traceback": [
            "Error in wiki_table((3)): could not find function \"wiki_table\"\nTraceback:\n",
            "1. wiki_table((3)) %>% select(c(1:3)) %>% slice(-1) %>% mutate_all(parse_number)",
            "2. mutate_all(., parse_number)",
            "3. check_grouped(.tbl, \"mutate\", \"all\", alt = TRUE)",
            "4. is_grouped_df(tbl)",
            "5. slice(., -1)",
            "6. select(., c(1:3))"
          ]
        }
      ],
      "source": [
        "# average births per day\n",
        "\n",
        "wiki_table((3))%>% select(c(1:3))%>% slice(-1) %>% mutate_all(parse_number)"
      ]
    },
    {
      "cell_type": "code",
      "execution_count": null,
      "metadata": {
        "id": "qyPbb-dUobmf"
      },
      "outputs": [],
      "source": [
        "# number of days in 2010--2021"
      ]
    },
    {
      "cell_type": "markdown",
      "metadata": {
        "id": "vrL20iAMobmf"
      },
      "source": [
        "## The Simpsons\n",
        "\n",
        "The Simpsons is a popular and long-running TV show. How many people still watch the Simpsons? What is their most popular episode?"
      ]
    },
    {
      "cell_type": "code",
      "execution_count": 25,
      "metadata": {
        "id": "gatxdp4Sobmf"
      },
      "outputs": [],
      "source": [
        "simpsons <- read_html('https://en.wikipedia.org/wiki/List_of_The_Simpsons_episodes_(season_21–present)')"
      ]
    },
    {
      "cell_type": "code",
      "execution_count": 28,
      "metadata": {
        "id": "MBelQV1Pobmf",
        "outputId": "300f7319-474d-49a5-a247-ceb488473d6a",
        "colab": {
          "base_uri": "https://localhost:8080/",
          "height": 166
        }
      },
      "outputs": [
        {
          "output_type": "error",
          "ename": "ERROR",
          "evalue": "ignored",
          "traceback": [
            "Error in .(., (1)): could not find function \".\"\nTraceback:\n",
            "1. simpsons %>% html_elements(\"table.wikiepisodetable\") %>% .((1)) %>% \n .     html_table",
            "2. html_table(.)"
          ]
        }
      ],
      "source": [
        "# parse simpsons\n",
        "simpsons %>% html_elements(\"table.wikiepisodetable\")%>% .((1)) %>% html_table"
      ]
    },
    {
      "cell_type": "markdown",
      "metadata": {
        "id": "kGv99BJwobmf"
      },
      "source": [
        "## 🤔 Quiz\n",
        "\n",
        "The episode with the largest number of viewers was **Once Upon a Time in Springfield**. Which episode of the Simpsons had the **smallest** number of viewers?\n",
        "\n",
        "\n",
        "<ol style=\"list-style-type: upper-alpha;\">\n",
        "    <li>My Octopus and a Teacher</li>\n",
        "    <li>Treehouse of Horror XXI</li>\n",
        "    <li>Marge the Meanie</li>\n",
        "    <li>The D'oh-cial Network</li>\n",
        "    <li>The Devil Wears Nada</li>\n",
        "</ol>\n",
        "\n"
      ]
    },
    {
      "cell_type": "code",
      "execution_count": null,
      "metadata": {
        "id": "ZG3oEm9Tobmf"
      },
      "outputs": [],
      "source": [
        "# smallest number of viewers"
      ]
    },
    {
      "cell_type": "markdown",
      "metadata": {
        "id": "v3FdNRiEobmf"
      },
      "source": [
        "## IMDB top movies\n",
        "\n",
        "Let's consider a well-known table: the [top 250 movies on IMDB](https://www.imdb.com/chart/top/)."
      ]
    },
    {
      "cell_type": "code",
      "execution_count": null,
      "metadata": {
        "id": "n6xGXuZdobmf"
      },
      "outputs": [],
      "source": [
        "imdb.250 <- read_html(\"https://www.imdb.com/chart/top/\")"
      ]
    },
    {
      "cell_type": "code",
      "execution_count": 29,
      "metadata": {
        "id": "e1oaIfopobmf",
        "outputId": "45dbddca-599a-4147-d5a8-1739884f4e31",
        "colab": {
          "base_uri": "https://localhost:8080/",
          "height": 149
        }
      },
      "outputs": [
        {
          "output_type": "error",
          "ename": "ERROR",
          "evalue": "ignored",
          "traceback": [
            "Error in parse(text = x, srcfile = src): <text>:2:45: unexpected ','\n1: # parse imdb\n2: imdbf %>% arrange(year)%>%mutate(top_rating),\n                                               ^\nTraceback:\n"
          ]
        }
      ],
      "source": [
        "# parse imdb\n",
        "imdbf %>% arrange(year)%>%mutate(top_rating), king = rating == top_rating)%>%\n",
        "  fliter(king)%>%mutate(delta=lead(yaer)-year)\n"
      ]
    },
    {
      "cell_type": "markdown",
      "metadata": {
        "id": "F_sxN-ruobmf"
      },
      "source": [
        "## Exercise\n",
        "\n",
        "\"The Kid\" came out in 1921 and has a rating of 8.2. Another movie that was rated at least as high didn't come out until 1927 (Metropolis), so we could say that The Kid reigned as the #1 film for six years. Metropolis reigned for four years until City Lights (rating 8.4) came out.\n",
        "\n",
        "Which film reigned for the longest amount of time?"
      ]
    },
    {
      "cell_type": "code",
      "execution_count": null,
      "metadata": {
        "id": "ZoXc0kKSobmf"
      },
      "outputs": [],
      "source": [
        "# longest reign"
      ]
    },
    {
      "cell_type": "markdown",
      "metadata": {
        "id": "ABDpm8Weobmf"
      },
      "source": [
        "## Super Bowl TV ratings\n",
        "We just had the Super Bowl. How have the TV ratings for the Super Bowl changed over the years?"
      ]
    },
    {
      "cell_type": "code",
      "execution_count": null,
      "metadata": {
        "id": "qlTiYghEobmf"
      },
      "outputs": [],
      "source": [
        "sbtv <- read_html('https://en.wikipedia.org/wiki/Super_Bowl_television_ratings') %>% html_elements('table') %>% .[[1]] %>% html_table"
      ]
    },
    {
      "cell_type": "code",
      "execution_count": null,
      "metadata": {
        "id": "w5XNzaE4obmf"
      },
      "outputs": [],
      "source": [
        "# viewers over time"
      ]
    },
    {
      "cell_type": "markdown",
      "metadata": {
        "id": "nXHAZLWIobmf"
      },
      "source": [
        "How does this compare with other major sports?\n",
        "\n",
        "- https://en.wikipedia.org/wiki/World_Series_television_ratings\n",
        "- https://en.wikipedia.org/wiki/NBA_Finals_television_ratings"
      ]
    },
    {
      "cell_type": "code",
      "execution_count": null,
      "metadata": {
        "id": "VS03A72Nobmf"
      },
      "outputs": [],
      "source": [
        "# super bowl vs world series"
      ]
    },
    {
      "cell_type": "markdown",
      "metadata": {
        "id": "v2YhGl1mobmf"
      },
      "source": [
        "## Scraping other types of web data\n",
        "\n",
        "Here are some examples of other types of web data we can scrape:"
      ]
    },
    {
      "cell_type": "markdown",
      "metadata": {
        "id": "MxEZcmrIobmf"
      },
      "source": [
        "### The UofM Stats department\n",
        "Let's say I wanted to make a table of all the [undergraduate stats courses](https://lsa.umich.edu/stats/undergraduate-students/statistics-courses.html) offered by the department. "
      ]
    },
    {
      "cell_type": "code",
      "execution_count": null,
      "metadata": {
        "id": "FyOnCWL9obmf"
      },
      "outputs": [],
      "source": [
        "stats <- read_html('https://lsa.umich.edu/stats/undergraduate-students/statistics-courses.html')"
      ]
    },
    {
      "cell_type": "markdown",
      "metadata": {
        "id": "9Ow39aNzobmg"
      },
      "source": [
        "How should we extract the data from this web page? We notice from inspecting the page that each course title is a `<b>` (bold) element:"
      ]
    },
    {
      "cell_type": "code",
      "execution_count": null,
      "metadata": {
        "id": "nBOO1Xqiobmg"
      },
      "outputs": [],
      "source": [
        "# extract statistics courses"
      ]
    },
    {
      "cell_type": "markdown",
      "metadata": {
        "id": "OVkXnO5tobmg"
      },
      "source": [
        "### Reddit\n",
        "Let's see how to scrape the [UofM Reddit site](https://old.reddit.com/r/uofm):"
      ]
    },
    {
      "cell_type": "code",
      "execution_count": null,
      "metadata": {
        "id": "06p6faS-obmg"
      },
      "outputs": [],
      "source": [
        "top.reddit <- read_html('https://old.reddit.com/r/uofm/top/?sort=top&t=all')"
      ]
    },
    {
      "cell_type": "markdown",
      "metadata": {
        "id": "5yNrULxuobmg"
      },
      "source": [
        "Let's plot the top scoring posts, when they were posted, and how many votes they have received."
      ]
    },
    {
      "cell_type": "code",
      "execution_count": null,
      "metadata": {
        "id": "SixpJYN2obmg"
      },
      "outputs": [],
      "source": [
        "# top posts on r/uofm"
      ]
    }
  ],
  "metadata": {
    "celltoolbar": "Slideshow",
    "kernelspec": {
      "display_name": "R",
      "language": "R",
      "name": "ir"
    },
    "language_info": {
      "codemirror_mode": "r",
      "file_extension": ".r",
      "mimetype": "text/x-r-source",
      "name": "R",
      "pygments_lexer": "r",
      "version": "4.2.1"
    },
    "colab": {
      "provenance": []
    }
  },
  "nbformat": 4,
  "nbformat_minor": 0
}