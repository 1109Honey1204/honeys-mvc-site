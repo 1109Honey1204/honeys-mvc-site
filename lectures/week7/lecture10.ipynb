{
  "cells": [
    {
      "cell_type": "code",
      "execution_count": 5,
      "metadata": {
        "scrolled": true,
        "id": "G7xDJm7TUy0v",
        "outputId": "295b627d-01de-4800-b3fe-3839d61730b2",
        "colab": {
          "base_uri": "https://localhost:8080/"
        }
      },
      "outputs": [
        {
          "output_type": "stream",
          "name": "stderr",
          "text": [
            "Installing package into ‘/usr/local/lib/R/site-library’\n",
            "(as ‘lib’ is unspecified)\n",
            "\n"
          ]
        }
      ],
      "source": [
        "install.packages('nycflights13')\n",
        "library(tidyverse)\n",
        "library(nycflights13)\n",
        "library(lubridate)\n",
        "options(repr.plot.width=8, repr.plot.height=5)"
      ]
    },
    {
      "cell_type": "markdown",
      "metadata": {
        "id": "bC68W14GUy0w"
      },
      "source": [
        "# Lecture 10: Importing data\n",
        "\n",
        "<div style=\"border: 1px double black; padding: 10px; margin: 10px\">\n",
        "\n",
        "**After today's lecture you will:**\n",
        "* Understand how to import data from CSV files and Excel spreadsheets.\n",
        "</div>\n",
        "\n",
        "These notes correspond to Chapters 8 and 22 of your book.\n"
      ]
    },
    {
      "cell_type": "markdown",
      "metadata": {
        "id": "KomaTigwUy0x"
      },
      "source": [
        "## Types of data\n",
        "You will encounter data in many different formats. Here are a few of the most common ones:"
      ]
    },
    {
      "cell_type": "markdown",
      "metadata": {
        "id": "kDSqN57WUy0x"
      },
      "source": [
        "### Comma-separated value data\n",
        "Comma-separated value (CSV) is one of the most common formats for sharing data. It has the advantage of being human-readable. The disadvantage is that there is no actual standard for reading or writing these files!"
      ]
    },
    {
      "cell_type": "markdown",
      "metadata": {
        "id": "riZNRvYxUy0x"
      },
      "source": [
        "Here's an example of CSV data on heights, education, and earnings:\n",
        "    \n",
        "    \"earn\",\"height\",\"sex\",\"ed\",\"age\",\"race\"\n",
        "    50000,74.4244387818035,\"male\",16,45,\"white\"\n",
        "    60000,65.5375428255647,\"female\",16,58,\"white\"\n",
        "    30000,63.6291977374349,\"female\",16,29,\"white\"\n",
        "    50000,63.1085616752971,\"female\",16,91,\"other\"\n",
        "    51000,63.4024835710879,\"female\",17,39,\"white\"\n",
        "    9000,64.3995075440034,\"female\",15,26,\"white\"\n",
        "    \n",
        "The first row (usually) has a *header* giving the column names. Subsequent rows give the actual data. Strings are (usually) quoted."
      ]
    },
    {
      "cell_type": "markdown",
      "metadata": {
        "id": "8OlYj23kUy0x"
      },
      "source": [
        "You might also see these data come in the format:\n",
        "    \n",
        "    earn,height,sex,ed,age,race\n",
        "    50000,74.4244387818035,male,16,45,white\n",
        "    60000,65.5375428255647,female,16,58,white\n",
        "    30000,63.6291977374349,female,16,29,white\n",
        "    50000,63.1085616752971,female,16,91,other\n",
        "    51000,63.4024835710879,female,17,39,white\n",
        "    9000,64.3995075440034,female,15,26,white\n",
        "    \n",
        "No quotes!"
      ]
    },
    {
      "cell_type": "markdown",
      "metadata": {
        "id": "_DrI-io-Uy0x"
      },
      "source": [
        "Or even:\n",
        "\n",
        "    50000,74.4244387818035,male,16,45,white\n",
        "    60000,65.5375428255647,female,16,58,white\n",
        "    30000,63.6291977374349,female,16,29,white\n",
        "    50000,63.1085616752971,female,16,91,other\n",
        "    51000,63.4024835710879,female,17,39,white\n",
        "    9000,64.3995075440034,female,15,26,white\n",
        "    \n",
        "No column names!"
      ]
    },
    {
      "cell_type": "markdown",
      "metadata": {
        "id": "HMmygoQBUy0x"
      },
      "source": [
        "The `read_csv` command is designed to read this type of file. Note that this command is part of `tidyverse` and is different from `read.csv` in R! You generally want to use `read_csv` over `read.csv` since:\n",
        "- It is much faster.\n",
        "- It outputs nicely formatted `tibble`s which you can pass into other tidyverse functions."
      ]
    },
    {
      "cell_type": "code",
      "execution_count": 19,
      "metadata": {
        "id": "3Gad3yZWUy0x",
        "outputId": "f39c66f9-5228-462e-f705-6307371223de",
        "colab": {
          "base_uri": "https://localhost:8080/",
          "height": 1000
        }
      },
      "outputs": [
        {
          "output_type": "error",
          "ename": "ERROR",
          "evalue": "ignored",
          "traceback": [
            "Error: 'heights_no_hdr.csv' does not exist in current working directory ('/content').\nTraceback:\n",
            "1. read_csv(\"heights_no_hdr.csv\") %>% print",
            "2. print(.)",
            "3. read_csv(\"heights_no_hdr.csv\")",
            "4. vroom::vroom(file, delim = \",\", col_names = col_names, col_types = col_types, \n .     col_select = {\n .         {\n .             col_select\n .         }\n .     }, id = id, .name_repair = name_repair, skip = skip, n_max = n_max, \n .     na = na, quote = quote, comment = comment, skip_empty_rows = skip_empty_rows, \n .     trim_ws = trim_ws, escape_double = TRUE, escape_backslash = FALSE, \n .     locale = locale, guess_max = guess_max, show_col_types = show_col_types, \n .     progress = progress, altrep = lazy, num_threads = num_threads)",
            "5. vroom_(file, delim = delim %||% col_types$delim, col_names = col_names, \n .     col_types = col_types, id = id, skip = skip, col_select = col_select, \n .     name_repair = .name_repair, na = na, quote = quote, trim_ws = trim_ws, \n .     escape_double = escape_double, escape_backslash = escape_backslash, \n .     comment = comment, skip_empty_rows = skip_empty_rows, locale = locale, \n .     guess_max = guess_max, n_max = n_max, altrep = vroom_altrep(altrep), \n .     num_threads = num_threads, progress = progress)",
            "6. (function (path, write = FALSE) \n . {\n .     if (is.raw(path)) {\n .         return(rawConnection(path, \"rb\"))\n .     }\n .     if (!is.character(path)) {\n .         return(path)\n .     }\n .     if (is_url(path)) {\n .         if (requireNamespace(\"curl\", quietly = TRUE)) {\n .             con <- curl::curl(path)\n .         }\n .         else {\n .             rlang::inform(\"`curl` package not installed, falling back to using `url()`\")\n .             con <- url(path)\n .         }\n .         ext <- tolower(tools::file_ext(path))\n .         return(switch(ext, zip = , bz2 = , xz = {\n .             close(con)\n .             stop(\"Reading from remote `\", ext, \"` compressed files is not supported,\\n\", \n .                 \"  download the files locally first.\", call. = FALSE)\n .         }, gz = gzcon(con), con))\n .     }\n .     path <- enc2utf8(path)\n .     p <- split_path_ext(basename_utf8(path))\n .     if (write) {\n .         path <- normalizePath_utf8(path, mustWork = FALSE)\n .     }\n .     else {\n .         path <- check_path(path)\n .     }\n .     if (rlang::is_installed(\"archive\")) {\n .         formats <- archive_formats(p$extension)\n .         extension <- p$extension\n .         while (is.null(formats) && nzchar(extension)) {\n .             extension <- split_path_ext(extension)$extension\n .             formats <- archive_formats(extension)\n .         }\n .         if (!is.null(formats)) {\n .             p$extension <- extension\n .             if (write) {\n .                 if (is.null(formats[[1]])) {\n .                   return(archive::file_write(path, filter = formats[[2]]))\n .                 }\n .                 return(archive::archive_write(path, p$path, format = formats[[1]], \n .                   filter = formats[[2]]))\n .             }\n .             if (is.null(formats[[1]])) {\n .                 return(archive::file_read(path, filter = formats[[2]]))\n .             }\n .             return(archive::archive_read(path, format = formats[[1]], \n .                 filter = formats[[2]]))\n .         }\n .     }\n .     if (!write) {\n .         compression <- detect_compression(path)\n .     }\n .     else {\n .         compression <- NA\n .     }\n .     if (is.na(compression)) {\n .         compression <- tools::file_ext(path)\n .     }\n .     if (write && compression == \"zip\") {\n .         stop(\"Can only read from, not write to, .zip\", call. = FALSE)\n .     }\n .     switch(compression, gz = gzfile(path, \"\"), bz2 = bzfile(path, \n .         \"\"), xz = xzfile(path, \"\"), zip = zipfile(path, \"\"), \n .         if (!has_trailing_newline(path)) {\n .             file(path)\n .         } else {\n .             path\n .         })\n . })(\"heights_no_hdr.csv\")",
            "7. check_path(path)",
            "8. stop(\"'\", path, \"' does not exist\", if (!is_absolute_path(path)) {\n .     paste0(\" in current working directory ('\", getwd(), \"')\")\n . }, \".\", call. = FALSE)"
          ]
        }
      ],
      "source": [
        "download.file(\"https://datasets.stats306.org/heights_no_hdr.csv\",\"heights.csv_no_hdr\")\n",
        "read_csv(\"heights_no_hdr.csv\") %>% print"
      ]
    },
    {
      "cell_type": "markdown",
      "metadata": {
        "id": "ibyNKz38Uy0x"
      },
      "source": [
        "Here `read_csv` has told us what columns it found, and also what the data types it found for them are. Generally these will be correct but we will see examples later where it guesses wrongly and we have to manually override them."
      ]
    },
    {
      "cell_type": "markdown",
      "metadata": {
        "id": "UlHfatddUy0y"
      },
      "source": [
        "Here is another version of `heights`, where we are not lucky enough to have a header telling us which columns came from where:"
      ]
    },
    {
      "cell_type": "code",
      "execution_count": null,
      "metadata": {
        "id": "E7mZx_95Uy0y"
      },
      "outputs": [],
      "source": [
        "read_csv(\"heights_no_hdr.csv\") %>% print"
      ]
    },
    {
      "cell_type": "markdown",
      "metadata": {
        "id": "ZGfBypmhUy0y"
      },
      "source": [
        "Now `read_csv()` has erroneously assumed that the first row of data are the header names. To override this behavior we need to specify the column names by hand:"
      ]
    },
    {
      "cell_type": "code",
      "execution_count": 18,
      "metadata": {
        "id": "wq7nRnoLUy0y",
        "outputId": "07f32ea4-96fe-4306-d779-9c103a64db45",
        "colab": {
          "base_uri": "https://localhost:8080/",
          "height": 1000
        }
      },
      "outputs": [
        {
          "output_type": "error",
          "ename": "ERROR",
          "evalue": "ignored",
          "traceback": [
            "Error: 'heights_no_hdr.csv' does not exist in current working directory ('/content').\nTraceback:\n",
            "1. read_csv(\"heights_no_hdr.csv\", col_names = F) %>% rename(earn = x1, \n .     height = x2)",
            "2. rename(., earn = x1, height = x2)",
            "3. read_csv(\"heights_no_hdr.csv\", col_names = F)",
            "4. vroom::vroom(file, delim = \",\", col_names = col_names, col_types = col_types, \n .     col_select = {\n .         {\n .             col_select\n .         }\n .     }, id = id, .name_repair = name_repair, skip = skip, n_max = n_max, \n .     na = na, quote = quote, comment = comment, skip_empty_rows = skip_empty_rows, \n .     trim_ws = trim_ws, escape_double = TRUE, escape_backslash = FALSE, \n .     locale = locale, guess_max = guess_max, show_col_types = show_col_types, \n .     progress = progress, altrep = lazy, num_threads = num_threads)",
            "5. vroom_(file, delim = delim %||% col_types$delim, col_names = col_names, \n .     col_types = col_types, id = id, skip = skip, col_select = col_select, \n .     name_repair = .name_repair, na = na, quote = quote, trim_ws = trim_ws, \n .     escape_double = escape_double, escape_backslash = escape_backslash, \n .     comment = comment, skip_empty_rows = skip_empty_rows, locale = locale, \n .     guess_max = guess_max, n_max = n_max, altrep = vroom_altrep(altrep), \n .     num_threads = num_threads, progress = progress)",
            "6. (function (path, write = FALSE) \n . {\n .     if (is.raw(path)) {\n .         return(rawConnection(path, \"rb\"))\n .     }\n .     if (!is.character(path)) {\n .         return(path)\n .     }\n .     if (is_url(path)) {\n .         if (requireNamespace(\"curl\", quietly = TRUE)) {\n .             con <- curl::curl(path)\n .         }\n .         else {\n .             rlang::inform(\"`curl` package not installed, falling back to using `url()`\")\n .             con <- url(path)\n .         }\n .         ext <- tolower(tools::file_ext(path))\n .         return(switch(ext, zip = , bz2 = , xz = {\n .             close(con)\n .             stop(\"Reading from remote `\", ext, \"` compressed files is not supported,\\n\", \n .                 \"  download the files locally first.\", call. = FALSE)\n .         }, gz = gzcon(con), con))\n .     }\n .     path <- enc2utf8(path)\n .     p <- split_path_ext(basename_utf8(path))\n .     if (write) {\n .         path <- normalizePath_utf8(path, mustWork = FALSE)\n .     }\n .     else {\n .         path <- check_path(path)\n .     }\n .     if (rlang::is_installed(\"archive\")) {\n .         formats <- archive_formats(p$extension)\n .         extension <- p$extension\n .         while (is.null(formats) && nzchar(extension)) {\n .             extension <- split_path_ext(extension)$extension\n .             formats <- archive_formats(extension)\n .         }\n .         if (!is.null(formats)) {\n .             p$extension <- extension\n .             if (write) {\n .                 if (is.null(formats[[1]])) {\n .                   return(archive::file_write(path, filter = formats[[2]]))\n .                 }\n .                 return(archive::archive_write(path, p$path, format = formats[[1]], \n .                   filter = formats[[2]]))\n .             }\n .             if (is.null(formats[[1]])) {\n .                 return(archive::file_read(path, filter = formats[[2]]))\n .             }\n .             return(archive::archive_read(path, format = formats[[1]], \n .                 filter = formats[[2]]))\n .         }\n .     }\n .     if (!write) {\n .         compression <- detect_compression(path)\n .     }\n .     else {\n .         compression <- NA\n .     }\n .     if (is.na(compression)) {\n .         compression <- tools::file_ext(path)\n .     }\n .     if (write && compression == \"zip\") {\n .         stop(\"Can only read from, not write to, .zip\", call. = FALSE)\n .     }\n .     switch(compression, gz = gzfile(path, \"\"), bz2 = bzfile(path, \n .         \"\"), xz = xzfile(path, \"\"), zip = zipfile(path, \"\"), \n .         if (!has_trailing_newline(path)) {\n .             file(path)\n .         } else {\n .             path\n .         })\n . })(\"heights_no_hdr.csv\")",
            "7. check_path(path)",
            "8. stop(\"'\", path, \"' does not exist\", if (!is_absolute_path(path)) {\n .     paste0(\" in current working directory ('\", getwd(), \"')\")\n . }, \".\", call. = FALSE)"
          ]
        }
      ],
      "source": [
        "read_csv(\"heights_no_hdr.csv\", col_names = F) %>% rename(earn=x1,height=x2)"
      ]
    },
    {
      "cell_type": "code",
      "execution_count": null,
      "metadata": {
        "id": "of6fIy5mUy0y",
        "outputId": "f081a6b6-aed1-4e65-da85-23c1b67e532f"
      },
      "outputs": [
        {
          "name": "stderr",
          "output_type": "stream",
          "text": [
            "Parsed with column specification:\n",
            "cols(\n",
            "  earn = col_double(),\n",
            "  height = col_double(),\n",
            "  sex = col_character(),\n",
            "  ed = col_double(),\n",
            "  age = col_double(),\n",
            "  race = col_character()\n",
            ")\n"
          ]
        },
        {
          "name": "stdout",
          "output_type": "stream",
          "text": [
            "# A tibble: 1,192 x 6\n",
            "    earn height sex       ed   age race    \n",
            "   <dbl>  <dbl> <chr>  <dbl> <dbl> <chr>   \n",
            " 1 50000   74.4 male      16    45 white   \n",
            " 2 60000   65.5 female    16    58 white   \n",
            " 3 30000   63.6 female    16    29 white   \n",
            " 4 50000   63.1 female    16    91 other   \n",
            " 5 51000   63.4 female    17    39 white   \n",
            " 6  9000   64.4 female    15    26 white   \n",
            " 7 29000   61.7 female    12    49 white   \n",
            " 8 32000   72.7 male      17    46 white   \n",
            " 9  2000   72.0 male      15    21 hispanic\n",
            "10 27000   72.2 male      12    26 white   \n",
            "# ... with 1,182 more rows\n"
          ]
        }
      ],
      "source": [
        "read_csv(\"heights_no_hdr.csv\", \n",
        "         col_names = c(\"earn\", \"height\", \"sex\", \"ed\", \"age\", \"race\")) %>% print"
      ]
    },
    {
      "cell_type": "markdown",
      "metadata": {
        "id": "MXe4phYqUy0y"
      },
      "source": [
        "To create short examples illustrating `read_csv`'s behavior, we can specify the contents of a csv file inline."
      ]
    },
    {
      "cell_type": "code",
      "execution_count": 20,
      "metadata": {
        "id": "AsBtO-RNUy0y",
        "outputId": "97f6b59f-f254-4b8e-a034-93045d4555ef",
        "colab": {
          "base_uri": "https://localhost:8080/",
          "height": 282
        }
      },
      "outputs": [
        {
          "output_type": "stream",
          "name": "stderr",
          "text": [
            "\u001b[1mRows: \u001b[22m\u001b[34m2\u001b[39m \u001b[1mColumns: \u001b[22m\u001b[34m3\u001b[39m\n",
            "\u001b[36m──\u001b[39m \u001b[1mColumn specification\u001b[22m \u001b[36m────────────────────────────────────────────────────────\u001b[39m\n",
            "\u001b[1mDelimiter:\u001b[22m \",\"\n",
            "\u001b[32mdbl\u001b[39m (3): a, b, c\n",
            "\n",
            "\u001b[36mℹ\u001b[39m Use `spec()` to retrieve the full column specification for this data.\n",
            "\u001b[36mℹ\u001b[39m Specify the column types or set `show_col_types = FALSE` to quiet this message.\n"
          ]
        },
        {
          "output_type": "display_data",
          "data": {
            "text/html": [
              "<table class=\"dataframe\">\n",
              "<caption>A spec_tbl_df: 2 × 3</caption>\n",
              "<thead>\n",
              "\t<tr><th scope=col>a</th><th scope=col>b</th><th scope=col>c</th></tr>\n",
              "\t<tr><th scope=col>&lt;dbl&gt;</th><th scope=col>&lt;dbl&gt;</th><th scope=col>&lt;dbl&gt;</th></tr>\n",
              "</thead>\n",
              "<tbody>\n",
              "\t<tr><td>1</td><td>2</td><td>3</td></tr>\n",
              "\t<tr><td>4</td><td>5</td><td>6</td></tr>\n",
              "</tbody>\n",
              "</table>\n"
            ],
            "text/markdown": "\nA spec_tbl_df: 2 × 3\n\n| a &lt;dbl&gt; | b &lt;dbl&gt; | c &lt;dbl&gt; |\n|---|---|---|\n| 1 | 2 | 3 |\n| 4 | 5 | 6 |\n\n",
            "text/latex": "A spec\\_tbl\\_df: 2 × 3\n\\begin{tabular}{lll}\n a & b & c\\\\\n <dbl> & <dbl> & <dbl>\\\\\n\\hline\n\t 1 & 2 & 3\\\\\n\t 4 & 5 & 6\\\\\n\\end{tabular}\n",
            "text/plain": [
              "  a b c\n",
              "1 1 2 3\n",
              "2 4 5 6"
            ]
          },
          "metadata": {}
        }
      ],
      "source": [
        "read_csv(\n",
        "    \"a, b, c\n",
        "     1, 2, 3\n",
        "     4, 5, 6\n",
        "\")"
      ]
    },
    {
      "cell_type": "markdown",
      "metadata": {
        "id": "SBeISn_hUy0y"
      },
      "source": [
        "You might want to skip a few rows in the beginning that have metadata."
      ]
    },
    {
      "cell_type": "code",
      "execution_count": null,
      "metadata": {
        "id": "vMBwLL1XUy0y",
        "outputId": "eb50e489-2fda-42bf-8a3b-26cef1434777"
      },
      "outputs": [
        {
          "data": {
            "text/plain": [
              "  a b c\n",
              "1 1 2 3\n",
              "2 4 5 6"
            ]
          },
          "metadata": {},
          "output_type": "display_data"
        }
      ],
      "source": [
        "read_csv(\n",
        "\"# First row to skip\n",
        "// Second row to skip\n",
        "% Third row to skip\n",
        "a, b, c\n",
        "1, 2, 3\n",
        "4, 5, 6\n",
        "\", skip = 3)"
      ]
    },
    {
      "cell_type": "markdown",
      "metadata": {
        "id": "ifiOoJutUy0y"
      },
      "source": [
        "Some CSVs will come with comments, typically in the form of lines prefaced by `#`. You can also skip comments line by specifying a comment character."
      ]
    },
    {
      "cell_type": "code",
      "execution_count": null,
      "metadata": {
        "id": "BUYeBqS9Uy0y",
        "outputId": "bbc23060-7177-4a82-920d-166ece800358"
      },
      "outputs": [
        {
          "data": {
            "text/plain": [
              "  a b c\n",
              "1 1 2 3\n",
              "2 4 5 6"
            ]
          },
          "metadata": {},
          "output_type": "display_data"
        }
      ],
      "source": [
        "read_csv(\"\n",
        "# First comment line\n",
        "a, b, c\n",
        "# This separate the header from the data\n",
        "1, 2, 3\n",
        "4, 5, 6\n",
        "# Another comment line\n",
        "\", comment = '#')"
      ]
    },
    {
      "cell_type": "markdown",
      "metadata": {
        "id": "9Et8hW7_Uy0y"
      },
      "source": [
        "Set `col_names = FALSE` when you don't have column names in the file. The column names are then set to X1, X2, ..."
      ]
    },
    {
      "cell_type": "code",
      "execution_count": null,
      "metadata": {
        "id": "-aEkILdCUy0y",
        "outputId": "2146ccf4-16c5-4c58-f59d-343b055a6061"
      },
      "outputs": [
        {
          "name": "stdout",
          "output_type": "stream",
          "text": [
            "# A tibble: 1 x 3\n",
            "    `1`   `2`   `3`\n",
            "  <dbl> <dbl> <dbl>\n",
            "1     4     5     6\n"
          ]
        }
      ],
      "source": [
        "read_csv(\"\n",
        "1, 2, 3\n",
        "4, 5, 6\n",
        "\") %>% print"
      ]
    },
    {
      "cell_type": "markdown",
      "metadata": {
        "id": "zCk2ZQ97Uy0y"
      },
      "source": [
        "You can specify your own column names."
      ]
    },
    {
      "cell_type": "code",
      "execution_count": null,
      "metadata": {
        "id": "C6_mvGdHUy0y",
        "outputId": "5bfd0e89-2cbf-442f-d11d-145ebceab7f7"
      },
      "outputs": [
        {
          "data": {
            "text/plain": [
              "  a b c\n",
              "1 1 2 3\n",
              "2 4 5 6"
            ]
          },
          "metadata": {},
          "output_type": "display_data"
        }
      ],
      "source": [
        "read_csv(\"\n",
        "1, 2, 3\n",
        "4, 5, 6\n",
        "\", col_names = c(\"a\", \"b\", \"c\"))"
      ]
    },
    {
      "cell_type": "markdown",
      "metadata": {
        "id": "ZHDF2fhXUy0y"
      },
      "source": [
        "You can specify how missing values are represented in the file."
      ]
    },
    {
      "cell_type": "code",
      "execution_count": null,
      "metadata": {
        "scrolled": true,
        "id": "hQF5jxEiUy0z",
        "outputId": "b667db41-fa5b-4f0f-8260-3cfe78906479"
      },
      "outputs": [
        {
          "name": "stdout",
          "output_type": "stream",
          "text": [
            "# A tibble: 2 x 3\n",
            "      a     b     c\n",
            "  <dbl> <dbl> <dbl>\n",
            "1     1     2     3\n",
            "2     4    NA     6\n"
          ]
        }
      ],
      "source": [
        "read_csv(\n",
        "    \"a, b, c\n",
        "     1, 2, 3\n",
        "     4,  , 6\n",
        "\") %>% print"
      ]
    },
    {
      "cell_type": "code",
      "execution_count": null,
      "metadata": {
        "id": "zT1hUCnkUy0z",
        "outputId": "2e15e66b-e3f2-460b-c576-26056f77f15a"
      },
      "outputs": [
        {
          "name": "stdout",
          "output_type": "stream",
          "text": [
            "# A tibble: 2 x 3\n",
            "      a     b     c\n",
            "  <dbl> <dbl> <dbl>\n",
            "1     1     2     3\n",
            "2     4    NA     6\n"
          ]
        }
      ],
      "source": [
        "read_csv(\n",
        "    \"a, b, c\n",
        "     1, 2, 3\n",
        "     4, -1, 6\n",
        "\", na = \"-1\") %>% print"
      ]
    },
    {
      "cell_type": "markdown",
      "metadata": {
        "id": "h1llRnk-Uy0z"
      },
      "source": [
        "## Exercises\n",
        "\n",
        "What's wrong with each of the following CSV files?"
      ]
    },
    {
      "cell_type": "code",
      "execution_count": 24,
      "metadata": {
        "id": "42WuoQ7RUy0z",
        "outputId": "3824ae1b-4e1a-4c2c-cb31-63c3291034b8",
        "colab": {
          "base_uri": "https://localhost:8080/",
          "height": 386
        }
      },
      "outputs": [
        {
          "output_type": "stream",
          "name": "stderr",
          "text": [
            "Warning message:\n",
            "“\u001b[1m\u001b[22mOne or more parsing issues, call `problems()` on your data frame for details,\n",
            "e.g.:\n",
            "  dat <- vroom(...)\n",
            "  problems(dat)”\n",
            "\u001b[1mRows: \u001b[22m\u001b[34m2\u001b[39m \u001b[1mColumns: \u001b[22m\u001b[34m3\u001b[39m\n",
            "\u001b[36m──\u001b[39m \u001b[1mColumn specification\u001b[22m \u001b[36m────────────────────────────────────────────────────────\u001b[39m\n",
            "\u001b[1mDelimiter:\u001b[22m \",\"\n",
            "\u001b[32mdbl\u001b[39m (2): a, b\n",
            "\u001b[32mnum\u001b[39m (1): c\n",
            "\n",
            "\u001b[36mℹ\u001b[39m Use `spec()` to retrieve the full column specification for this data.\n",
            "\u001b[36mℹ\u001b[39m Specify the column types or set `show_col_types = FALSE` to quiet this message.\n"
          ]
        },
        {
          "output_type": "display_data",
          "data": {
            "text/html": [
              "<table class=\"dataframe\">\n",
              "<caption>A spec_tbl_df: 2 × 3</caption>\n",
              "<thead>\n",
              "\t<tr><th scope=col>a</th><th scope=col>b</th><th scope=col>c</th></tr>\n",
              "\t<tr><th scope=col>&lt;dbl&gt;</th><th scope=col>&lt;dbl&gt;</th><th scope=col>&lt;dbl&gt;</th></tr>\n",
              "</thead>\n",
              "<tbody>\n",
              "\t<tr><td>1</td><td>2</td><td>NA</td></tr>\n",
              "\t<tr><td>1</td><td>2</td><td>34</td></tr>\n",
              "</tbody>\n",
              "</table>\n"
            ],
            "text/markdown": "\nA spec_tbl_df: 2 × 3\n\n| a &lt;dbl&gt; | b &lt;dbl&gt; | c &lt;dbl&gt; |\n|---|---|---|\n| 1 | 2 | NA |\n| 1 | 2 | 34 |\n\n",
            "text/latex": "A spec\\_tbl\\_df: 2 × 3\n\\begin{tabular}{lll}\n a & b & c\\\\\n <dbl> & <dbl> & <dbl>\\\\\n\\hline\n\t 1 & 2 & NA\\\\\n\t 1 & 2 & 34\\\\\n\\end{tabular}\n",
            "text/plain": [
              "  a b c \n",
              "1 1 2 NA\n",
              "2 1 2 34"
            ]
          },
          "metadata": {}
        }
      ],
      "source": [
        "csv <- \"\n",
        "a,b,c\n",
        "1,2,\n",
        "1,2,3,4\"\n",
        "\n",
        "read_csv(csv)"
      ]
    },
    {
      "cell_type": "code",
      "execution_count": null,
      "metadata": {
        "id": "akGeP-MrUy0z"
      },
      "outputs": [],
      "source": [
        "csv <- \"a,b,c\\n1,2\\n1,2,3,4\""
      ]
    },
    {
      "cell_type": "code",
      "execution_count": null,
      "metadata": {
        "id": "qY7SKdYLUy0z"
      },
      "outputs": [],
      "source": [
        "csv <- \"a,b\\n\\\"1\""
      ]
    },
    {
      "cell_type": "code",
      "execution_count": null,
      "metadata": {
        "id": "DLvphS05Uy0z"
      },
      "outputs": [],
      "source": [
        "csv <- \"a,b\\n1,2\\na,b\""
      ]
    },
    {
      "cell_type": "code",
      "execution_count": null,
      "metadata": {
        "id": "e5fS-PXCUy0z"
      },
      "outputs": [],
      "source": [
        "csv <- \"a;b\\n1;3\""
      ]
    },
    {
      "cell_type": "markdown",
      "metadata": {
        "id": "3J81SxCFUy0z"
      },
      "source": [
        "## Example of a real-world CSV"
      ]
    },
    {
      "cell_type": "markdown",
      "metadata": {
        "id": "Maa6EwmoUy0z"
      },
      "source": [
        "![nytimes china story](https://i.imgur.com/c0KGOZ8.png)\n"
      ]
    },
    {
      "cell_type": "markdown",
      "metadata": {
        "id": "AzrOXukYUy0z"
      },
      "source": [
        "Recently we saw in the news that the population of China shrank for the first time in more than sixty years. This has major implications for China and the world as a whole. \n",
        "\n",
        "Let's study this phenomenon in data, which will give us a chance to practice importing CSV and Excel files."
      ]
    },
    {
      "cell_type": "code",
      "execution_count": null,
      "metadata": {
        "id": "qo1yCMeFUy0z"
      },
      "outputs": [],
      "source": [
        "?read_csv"
      ]
    },
    {
      "cell_type": "markdown",
      "metadata": {
        "id": "j-Ehk-5qUy0z"
      },
      "source": [
        "First I visited the World Bank. They have data on total population size as well as fertility rates across all countries, from about the 1950s to present:\n",
        "- [Population](https://data.worldbank.org/indicator/SP.POP.TOTL)\n",
        "- [Fertility rate](https://data.worldbank.org/indicator/SP.DYN.TFRT.IN)\n"
      ]
    },
    {
      "cell_type": "markdown",
      "metadata": {
        "id": "BohDg-s_Uy0z"
      },
      "source": [
        "Each of these web pages contains a link to a downloadable CSV file. You can download them to your local computer by running the following code:"
      ]
    },
    {
      "cell_type": "code",
      "execution_count": null,
      "metadata": {
        "id": "hTuFrI-ZUy0z",
        "outputId": "66464c21-1a9e-4414-81b3-57356e9da480"
      },
      "outputs": [
        {
          "data": {
            "text/html": [
              "<table class=\"dataframe\">\n",
              "<caption>A spec_tbl_df: 3 × 2</caption>\n",
              "<thead>\n",
              "\t<tr><th scope=col>a</th><th scope=col>b</th></tr>\n",
              "\t<tr><th scope=col>&lt;chr&gt;</th><th scope=col>&lt;dbl&gt;</th></tr>\n",
              "</thead>\n",
              "<tbody>\n",
              "\t<tr><td>1  </td><td>3</td></tr>\n",
              "\t<tr><td>2  </td><td>4</td></tr>\n",
              "\t<tr><td>'s'</td><td>6</td></tr>\n",
              "</tbody>\n",
              "</table>\n"
            ],
            "text/latex": [
              "A spec\\_tbl\\_df: 3 × 2\n",
              "\\begin{tabular}{ll}\n",
              " a & b\\\\\n",
              " <chr> & <dbl>\\\\\n",
              "\\hline\n",
              "\t 1   & 3\\\\\n",
              "\t 2   & 4\\\\\n",
              "\t 's' & 6\\\\\n",
              "\\end{tabular}\n"
            ],
            "text/markdown": [
              "\n",
              "A spec_tbl_df: 3 × 2\n",
              "\n",
              "| a &lt;chr&gt; | b &lt;dbl&gt; |\n",
              "|---|---|\n",
              "| 1   | 3 |\n",
              "| 2   | 4 |\n",
              "| 's' | 6 |\n",
              "\n"
            ],
            "text/plain": [
              "  a   b\n",
              "1 1   3\n",
              "2 2   4\n",
              "3 's' 6"
            ]
          },
          "metadata": {},
          "output_type": "display_data"
        }
      ],
      "source": [
        "tbl"
      ]
    },
    {
      "cell_type": "code",
      "execution_count": 25,
      "metadata": {
        "id": "5MHPTDAzUy0z"
      },
      "outputs": [],
      "source": [
        "for(x in c('fert', 'pop')) {\n",
        "    fn <- paste0('wb_', x, '.csv')\n",
        "    download.file(paste0('https://datasets.stats306.org/', fn), fn)\n",
        "}"
      ]
    },
    {
      "cell_type": "markdown",
      "metadata": {
        "id": "lAOeg_p9Uy0z"
      },
      "source": [
        "First let's try loading the population dataset into R using `read_csv`:"
      ]
    },
    {
      "cell_type": "code",
      "execution_count": 38,
      "metadata": {
        "id": "8swvwzxpUy0z",
        "outputId": "30a61969-80c0-4330-f092-79fe9ac177db",
        "colab": {
          "base_uri": "https://localhost:8080/"
        }
      },
      "outputs": [
        {
          "output_type": "stream",
          "name": "stderr",
          "text": [
            "\u001b[1m\u001b[22mNew names:\n",
            "\u001b[36m•\u001b[39m `` -> `...67`\n",
            "\u001b[1mRows: \u001b[22m\u001b[34m266\u001b[39m \u001b[1mColumns: \u001b[22m\u001b[34m67\u001b[39m\n",
            "\u001b[36m──\u001b[39m \u001b[1mColumn specification\u001b[22m \u001b[36m────────────────────────────────────────────────────────\u001b[39m\n",
            "\u001b[1mDelimiter:\u001b[22m \",\"\n",
            "\u001b[31mchr\u001b[39m  (4): Country Name, Country Code, Indicator Name, Indicator Code\n",
            "\u001b[32mdbl\u001b[39m (62): 1960, 1961, 1962, 1963, 1964, 1965, 1966, 1967, 1968, 1969, 1970, ...\n",
            "\u001b[33mlgl\u001b[39m  (1): ...67\n",
            "\n",
            "\u001b[36mℹ\u001b[39m Use `spec()` to retrieve the full column specification for this data.\n",
            "\u001b[36mℹ\u001b[39m Specify the column types or set `show_col_types = FALSE` to quiet this message.\n"
          ]
        }
      ],
      "source": [
        "wb_pop <- read_csv('wb_pop.csv',skip=4) %>% pivot_longer('1960':'2021',names_to = \"year\", values_to = \"pop\")%>%\n",
        "  filter('Country Name' == \"China\")%>% ggplot(aes(x=as.integer(year),y=pop,group='Country Name'))+geom_line()\n",
        "#print(wb_pop)"
      ]
    },
    {
      "cell_type": "markdown",
      "metadata": {
        "id": "zTwJ0hIsUy0z"
      },
      "source": [
        "We can see that R generated some warning messages when loading the CSV. And the data frame itself does not appear to have loaded correctly:"
      ]
    },
    {
      "cell_type": "code",
      "execution_count": null,
      "metadata": {
        "id": "aD1iAGE6Uy0z",
        "outputId": "a05a43e6-1cef-4654-a6a6-d6bb62b6f27f"
      },
      "outputs": [
        {
          "data": {
            "text/html": [
              "<table class=\"dataframe\">\n",
              "<caption>A tibble: 6 × 3</caption>\n",
              "<thead>\n",
              "\t<tr><th scope=col>Data Source</th><th scope=col>World Development Indicators</th><th scope=col>...3</th></tr>\n",
              "\t<tr><th scope=col>&lt;chr&gt;</th><th scope=col>&lt;chr&gt;</th><th scope=col>&lt;chr&gt;</th></tr>\n",
              "</thead>\n",
              "<tbody>\n",
              "\t<tr><td>Last Updated Date          </td><td>2022-12-22  </td><td>NA                                                                                                                                                                                                                                                                                                                                                                                                                                                                                                                                                                                                                                                                        </td></tr>\n",
              "\t<tr><td>Country Name               </td><td>Country Code</td><td>Indicator Name,Indicator Code,1960,1961,1962,1963,1964,1965,1966,1967,1968,1969,1970,1971,1972,1973,1974,1975,1976,1977,1978,1979,1980,1981,1982,1983,1984,1985,1986,1987,1988,1989,1990,1991,1992,1993,1994,1995,1996,1997,1998,1999,2000,2001,2002,2003,2004,2005,2006,2007,2008,2009,2010,2011,2012,2013,2014,2015,2016,2017,2018,2019,2020,2021,                                                                                                                                                                                                                                                                                                                      </td></tr>\n",
              "\t<tr><td>Aruba                      </td><td>ABW         </td><td>Population, total,SP.POP.TOTL,54608,55811,56682,57475,58178,58782,59291,59522,59471,59330,59106,58816,58855,59365,60028,60715,61193,61465,61738,62006,62267,62614,63116,63683,64174,64478,64553,64450,64332,64596,65712,67864,70192,72360,74710,77050,79417,81858,84355,86867,89101,90691,91781,92701,93540,94483,95606,96787,97996,99212,100341,101288,102112,102880,103594,104257,104874,105439,105962,106442,106585,106537,                                                                                                                                                                                                                                            </td></tr>\n",
              "\t<tr><td>Africa Eastern and Southern</td><td>AFE         </td><td>Population, total,SP.POP.TOTL,130692579,134169237,137835590,141630546,145605995,149742351,153955516,158313235,162875171,167596160,172475766,177503186,182599092,187901657,193512956,199284304,205202669,211120911,217481420,224315978,230967858,237937461,245386717,252779730,260209149,267938123,276035920,284490394,292795186,301124880,309890664,318544083,326933522,335625136,344418362,353466601,362985802,372352230,381715600,391486231,401600588,412001885,422741118,433807484,445281555,457153837,469508516,482406426,495748900,509410477,523459657,537792950,552530654,567891875,583650827,600008150,616377331,632746296,649756874,667242712,685112705,702976832,</td></tr>\n",
              "\t<tr><td>Afghanistan                </td><td>AFG         </td><td>Population, total,SP.POP.TOTL,8622466,8790140,8969047,9157465,9355514,9565147,9783147,10010030,10247780,10494489,10752971,11015857,11286753,11575305,11869879,12157386,12425267,12687301,12938862,12986369,12486631,11155195,10088289,9951449,10243686,10512221,10448442,10322758,10383460,10673168,10694796,10745167,12057433,14003760,15455555,16418912,17106595,17788819,18493132,19262847,19542982,19688632,21000256,22645130,23553551,24411191,25442944,25903301,26427199,27385307,28189672,29249157,30466479,31541209,32716210,33753499,34636207,35643418,36686784,37769499,38972230,40099462,                                                                      </td></tr>\n",
              "\t<tr><td>Africa Western and Central </td><td>AFW         </td><td>Population, total,SP.POP.TOTL,97256290,99314028,101445032,103667517,105959979,108336203,110798486,113319950,115921723,118615741,121424797,124336039,127364044,130563107,133953892,137548613,141258400,145122851,149206663,153459665,157825609,162323313,167023385,171566640,176054495,180817312,185720244,190759952,195969722,201392200,206739024,212172888,217966101,223788766,229675775,235861484,242200260,248713095,255482918,262397030,269611898,277160097,284952322,292977949,301265247,309824829,318601484,327612838,336893835,346475221,356337762,366489204,376797999,387204553,397855507,408690375,419778384,431138704,442646825,454306063,466189102,478185907,  </td></tr>\n",
              "</tbody>\n",
              "</table>\n"
            ],
            "text/latex": [
              "A tibble: 6 × 3\n",
              "\\begin{tabular}{lll}\n",
              " Data Source & World Development Indicators & ...3\\\\\n",
              " <chr> & <chr> & <chr>\\\\\n",
              "\\hline\n",
              "\t Last Updated Date           & 2022-12-22   & NA                                                                                                                                                                                                                                                                                                                                                                                                                                                                                                                                                                                                                                                                        \\\\\n",
              "\t Country Name                & Country Code & Indicator Name,Indicator Code,1960,1961,1962,1963,1964,1965,1966,1967,1968,1969,1970,1971,1972,1973,1974,1975,1976,1977,1978,1979,1980,1981,1982,1983,1984,1985,1986,1987,1988,1989,1990,1991,1992,1993,1994,1995,1996,1997,1998,1999,2000,2001,2002,2003,2004,2005,2006,2007,2008,2009,2010,2011,2012,2013,2014,2015,2016,2017,2018,2019,2020,2021,                                                                                                                                                                                                                                                                                                                      \\\\\n",
              "\t Aruba                       & ABW          & Population, total,SP.POP.TOTL,54608,55811,56682,57475,58178,58782,59291,59522,59471,59330,59106,58816,58855,59365,60028,60715,61193,61465,61738,62006,62267,62614,63116,63683,64174,64478,64553,64450,64332,64596,65712,67864,70192,72360,74710,77050,79417,81858,84355,86867,89101,90691,91781,92701,93540,94483,95606,96787,97996,99212,100341,101288,102112,102880,103594,104257,104874,105439,105962,106442,106585,106537,                                                                                                                                                                                                                                            \\\\\n",
              "\t Africa Eastern and Southern & AFE          & Population, total,SP.POP.TOTL,130692579,134169237,137835590,141630546,145605995,149742351,153955516,158313235,162875171,167596160,172475766,177503186,182599092,187901657,193512956,199284304,205202669,211120911,217481420,224315978,230967858,237937461,245386717,252779730,260209149,267938123,276035920,284490394,292795186,301124880,309890664,318544083,326933522,335625136,344418362,353466601,362985802,372352230,381715600,391486231,401600588,412001885,422741118,433807484,445281555,457153837,469508516,482406426,495748900,509410477,523459657,537792950,552530654,567891875,583650827,600008150,616377331,632746296,649756874,667242712,685112705,702976832,\\\\\n",
              "\t Afghanistan                 & AFG          & Population, total,SP.POP.TOTL,8622466,8790140,8969047,9157465,9355514,9565147,9783147,10010030,10247780,10494489,10752971,11015857,11286753,11575305,11869879,12157386,12425267,12687301,12938862,12986369,12486631,11155195,10088289,9951449,10243686,10512221,10448442,10322758,10383460,10673168,10694796,10745167,12057433,14003760,15455555,16418912,17106595,17788819,18493132,19262847,19542982,19688632,21000256,22645130,23553551,24411191,25442944,25903301,26427199,27385307,28189672,29249157,30466479,31541209,32716210,33753499,34636207,35643418,36686784,37769499,38972230,40099462,                                                                      \\\\\n",
              "\t Africa Western and Central  & AFW          & Population, total,SP.POP.TOTL,97256290,99314028,101445032,103667517,105959979,108336203,110798486,113319950,115921723,118615741,121424797,124336039,127364044,130563107,133953892,137548613,141258400,145122851,149206663,153459665,157825609,162323313,167023385,171566640,176054495,180817312,185720244,190759952,195969722,201392200,206739024,212172888,217966101,223788766,229675775,235861484,242200260,248713095,255482918,262397030,269611898,277160097,284952322,292977949,301265247,309824829,318601484,327612838,336893835,346475221,356337762,366489204,376797999,387204553,397855507,408690375,419778384,431138704,442646825,454306063,466189102,478185907,  \\\\\n",
              "\\end{tabular}\n"
            ],
            "text/markdown": [
              "\n",
              "A tibble: 6 × 3\n",
              "\n",
              "| Data Source &lt;chr&gt; | World Development Indicators &lt;chr&gt; | ...3 &lt;chr&gt; |\n",
              "|---|---|---|\n",
              "| Last Updated Date           | 2022-12-22   | NA                                                                                                                                                                                                                                                                                                                                                                                                                                                                                                                                                                                                                                                                         |\n",
              "| Country Name                | Country Code | Indicator Name,Indicator Code,1960,1961,1962,1963,1964,1965,1966,1967,1968,1969,1970,1971,1972,1973,1974,1975,1976,1977,1978,1979,1980,1981,1982,1983,1984,1985,1986,1987,1988,1989,1990,1991,1992,1993,1994,1995,1996,1997,1998,1999,2000,2001,2002,2003,2004,2005,2006,2007,2008,2009,2010,2011,2012,2013,2014,2015,2016,2017,2018,2019,2020,2021,                                                                                                                                                                                                                                                                                                                       |\n",
              "| Aruba                       | ABW          | Population, total,SP.POP.TOTL,54608,55811,56682,57475,58178,58782,59291,59522,59471,59330,59106,58816,58855,59365,60028,60715,61193,61465,61738,62006,62267,62614,63116,63683,64174,64478,64553,64450,64332,64596,65712,67864,70192,72360,74710,77050,79417,81858,84355,86867,89101,90691,91781,92701,93540,94483,95606,96787,97996,99212,100341,101288,102112,102880,103594,104257,104874,105439,105962,106442,106585,106537,                                                                                                                                                                                                                                             |\n",
              "| Africa Eastern and Southern | AFE          | Population, total,SP.POP.TOTL,130692579,134169237,137835590,141630546,145605995,149742351,153955516,158313235,162875171,167596160,172475766,177503186,182599092,187901657,193512956,199284304,205202669,211120911,217481420,224315978,230967858,237937461,245386717,252779730,260209149,267938123,276035920,284490394,292795186,301124880,309890664,318544083,326933522,335625136,344418362,353466601,362985802,372352230,381715600,391486231,401600588,412001885,422741118,433807484,445281555,457153837,469508516,482406426,495748900,509410477,523459657,537792950,552530654,567891875,583650827,600008150,616377331,632746296,649756874,667242712,685112705,702976832, |\n",
              "| Afghanistan                 | AFG          | Population, total,SP.POP.TOTL,8622466,8790140,8969047,9157465,9355514,9565147,9783147,10010030,10247780,10494489,10752971,11015857,11286753,11575305,11869879,12157386,12425267,12687301,12938862,12986369,12486631,11155195,10088289,9951449,10243686,10512221,10448442,10322758,10383460,10673168,10694796,10745167,12057433,14003760,15455555,16418912,17106595,17788819,18493132,19262847,19542982,19688632,21000256,22645130,23553551,24411191,25442944,25903301,26427199,27385307,28189672,29249157,30466479,31541209,32716210,33753499,34636207,35643418,36686784,37769499,38972230,40099462,                                                                       |\n",
              "| Africa Western and Central  | AFW          | Population, total,SP.POP.TOTL,97256290,99314028,101445032,103667517,105959979,108336203,110798486,113319950,115921723,118615741,121424797,124336039,127364044,130563107,133953892,137548613,141258400,145122851,149206663,153459665,157825609,162323313,167023385,171566640,176054495,180817312,185720244,190759952,195969722,201392200,206739024,212172888,217966101,223788766,229675775,235861484,242200260,248713095,255482918,262397030,269611898,277160097,284952322,292977949,301265247,309824829,318601484,327612838,336893835,346475221,356337762,366489204,376797999,387204553,397855507,408690375,419778384,431138704,442646825,454306063,466189102,478185907,   |\n",
              "\n"
            ],
            "text/plain": [
              "  Data Source                 World Development Indicators\n",
              "1 Last Updated Date           2022-12-22                  \n",
              "2 Country Name                Country Code                \n",
              "3 Aruba                       ABW                         \n",
              "4 Africa Eastern and Southern AFE                         \n",
              "5 Afghanistan                 AFG                         \n",
              "6 Africa Western and Central  AFW                         \n",
              "  ...3                                                                                                                                                                                                                                                                                                                                                                                                                                                                                                                                                                                                                                                                      \n",
              "1 NA                                                                                                                                                                                                                                                                                                                                                                                                                                                                                                                                                                                                                                                                        \n",
              "2 Indicator Name,Indicator Code,1960,1961,1962,1963,1964,1965,1966,1967,1968,1969,1970,1971,1972,1973,1974,1975,1976,1977,1978,1979,1980,1981,1982,1983,1984,1985,1986,1987,1988,1989,1990,1991,1992,1993,1994,1995,1996,1997,1998,1999,2000,2001,2002,2003,2004,2005,2006,2007,2008,2009,2010,2011,2012,2013,2014,2015,2016,2017,2018,2019,2020,2021,                                                                                                                                                                                                                                                                                                                      \n",
              "3 Population, total,SP.POP.TOTL,54608,55811,56682,57475,58178,58782,59291,59522,59471,59330,59106,58816,58855,59365,60028,60715,61193,61465,61738,62006,62267,62614,63116,63683,64174,64478,64553,64450,64332,64596,65712,67864,70192,72360,74710,77050,79417,81858,84355,86867,89101,90691,91781,92701,93540,94483,95606,96787,97996,99212,100341,101288,102112,102880,103594,104257,104874,105439,105962,106442,106585,106537,                                                                                                                                                                                                                                            \n",
              "4 Population, total,SP.POP.TOTL,130692579,134169237,137835590,141630546,145605995,149742351,153955516,158313235,162875171,167596160,172475766,177503186,182599092,187901657,193512956,199284304,205202669,211120911,217481420,224315978,230967858,237937461,245386717,252779730,260209149,267938123,276035920,284490394,292795186,301124880,309890664,318544083,326933522,335625136,344418362,353466601,362985802,372352230,381715600,391486231,401600588,412001885,422741118,433807484,445281555,457153837,469508516,482406426,495748900,509410477,523459657,537792950,552530654,567891875,583650827,600008150,616377331,632746296,649756874,667242712,685112705,702976832,\n",
              "5 Population, total,SP.POP.TOTL,8622466,8790140,8969047,9157465,9355514,9565147,9783147,10010030,10247780,10494489,10752971,11015857,11286753,11575305,11869879,12157386,12425267,12687301,12938862,12986369,12486631,11155195,10088289,9951449,10243686,10512221,10448442,10322758,10383460,10673168,10694796,10745167,12057433,14003760,15455555,16418912,17106595,17788819,18493132,19262847,19542982,19688632,21000256,22645130,23553551,24411191,25442944,25903301,26427199,27385307,28189672,29249157,30466479,31541209,32716210,33753499,34636207,35643418,36686784,37769499,38972230,40099462,                                                                      \n",
              "6 Population, total,SP.POP.TOTL,97256290,99314028,101445032,103667517,105959979,108336203,110798486,113319950,115921723,118615741,121424797,124336039,127364044,130563107,133953892,137548613,141258400,145122851,149206663,153459665,157825609,162323313,167023385,171566640,176054495,180817312,185720244,190759952,195969722,201392200,206739024,212172888,217966101,223788766,229675775,235861484,242200260,248713095,255482918,262397030,269611898,277160097,284952322,292977949,301265247,309824829,318601484,327612838,336893835,346475221,356337762,366489204,376797999,387204553,397855507,408690375,419778384,431138704,442646825,454306063,466189102,478185907,  "
            ]
          },
          "metadata": {},
          "output_type": "display_data"
        }
      ],
      "source": [
        "head(wb_pop)"
      ]
    },
    {
      "cell_type": "markdown",
      "metadata": {
        "id": "bNwlu_vHUy0z"
      },
      "source": [
        "The `problems()` function can be helpful for diagnosing what went wrong:"
      ]
    },
    {
      "cell_type": "code",
      "execution_count": null,
      "metadata": {
        "id": "SssLtBbpUy0z"
      },
      "outputs": [],
      "source": [
        "# problems loading wb_pop"
      ]
    },
    {
      "cell_type": "markdown",
      "metadata": {
        "id": "09sagu-dUy0z"
      },
      "source": [
        "Let's try examining the [raw CSV file](wb_pop.csv):"
      ]
    },
    {
      "cell_type": "markdown",
      "metadata": {
        "id": "aqKwZZ32Uy00"
      },
      "source": [
        "We can see that the first three lines of the file contain metadata about the source of the data. We need to tell R to skip those so that the first row it considers contains the column names:"
      ]
    },
    {
      "cell_type": "code",
      "execution_count": 47,
      "metadata": {
        "id": "FfojS_U4Uy00",
        "outputId": "038cbd38-3cad-4810-8453-9f4ff624bda7",
        "colab": {
          "base_uri": "https://localhost:8080/"
        }
      },
      "outputs": [
        {
          "output_type": "stream",
          "name": "stderr",
          "text": [
            "\u001b[1m\u001b[22mNew names:\n",
            "\u001b[36m•\u001b[39m `` -> `...67`\n",
            "\u001b[1mRows: \u001b[22m\u001b[34m266\u001b[39m \u001b[1mColumns: \u001b[22m\u001b[34m67\u001b[39m\n",
            "\u001b[36m──\u001b[39m \u001b[1mColumn specification\u001b[22m \u001b[36m────────────────────────────────────────────────────────\u001b[39m\n",
            "\u001b[1mDelimiter:\u001b[22m \",\"\n",
            "\u001b[31mchr\u001b[39m  (4): Country Name, Country Code, Indicator Name, Indicator Code\n",
            "\u001b[32mdbl\u001b[39m (62): 1960, 1961, 1962, 1963, 1964, 1965, 1966, 1967, 1968, 1969, 1970, ...\n",
            "\u001b[33mlgl\u001b[39m  (1): ...67\n",
            "\n",
            "\u001b[36mℹ\u001b[39m Use `spec()` to retrieve the full column specification for this data.\n",
            "\u001b[36mℹ\u001b[39m Specify the column types or set `show_col_types = FALSE` to quiet this message.\n"
          ]
        }
      ],
      "source": [
        "# read in the csv, skip first rows\n",
        "wb.pop <- read_csv(\"wb_pop.csv\", skip=3)"
      ]
    },
    {
      "cell_type": "markdown",
      "metadata": {
        "id": "xyDkOY7JUy00"
      },
      "source": [
        "Notice that there is also an extraneous 67-th column added to the very end of the data frame. This is because the rows of `wb_pop` all end in a comma."
      ]
    },
    {
      "cell_type": "code",
      "execution_count": 48,
      "metadata": {
        "id": "8AhUSTpvUy00"
      },
      "outputs": [],
      "source": [
        "# load fertility dataset, using same ideas"
      ]
    },
    {
      "cell_type": "markdown",
      "metadata": {
        "id": "eRxDPEfRUy00"
      },
      "source": [
        "What do these data tell us about falling birth rates in China?"
      ]
    },
    {
      "cell_type": "code",
      "execution_count": 49,
      "metadata": {
        "id": "5aWfMEhpUy00"
      },
      "outputs": [],
      "source": [
        "# fertility over time in China"
      ]
    },
    {
      "cell_type": "code",
      "execution_count": null,
      "metadata": {
        "id": "ftc33kYXUy00"
      },
      "outputs": [],
      "source": [
        "# plot china population and fertility using sec.axis()"
      ]
    },
    {
      "cell_type": "markdown",
      "metadata": {
        "id": "XtmWz9oxUy00"
      },
      "source": [
        "## Reading data from spreadsheets\n",
        "\n",
        "Next we will continue our investigation in the population in China by turning to a different data source. The United Nations maintains a database called the [World Population Prospects](https://population.un.org/wpp/) which contains very detailed historical and forecasted demographic information for every country. We will use this dataset to learn more about the demographics of China."
      ]
    },
    {
      "cell_type": "markdown",
      "metadata": {
        "id": "YpJX6ewDUy00"
      },
      "source": [
        "The main file we are interested is the \"compact\" version of the dataset. You can download it into your R workspace by running:"
      ]
    },
    {
      "cell_type": "code",
      "execution_count": 50,
      "metadata": {
        "id": "-AxdSL5hUy00",
        "outputId": "77cb66ca-11ae-4327-aef7-4778c8d4703d",
        "colab": {
          "base_uri": "https://localhost:8080/",
          "height": 132
        }
      },
      "outputs": [
        {
          "output_type": "error",
          "ename": "ERROR",
          "evalue": "ignored",
          "traceback": [
            "Error in parse(text = x, srcfile = src): <text>:1:163: unexpected ','\n1: wpp.url <- \"https://population.un.org/wpp/Download/Files/1_Indicators%20(Standard)/EXCEL_FILES/1_General/WPP2022_GEN_F01_DEMOGRAPHIC_INDICATORS_COMPACT_REV1.xlsx\",\n                                                                                                                                                                      ^\nTraceback:\n"
          ]
        }
      ],
      "source": [
        "wpp.url <- \"https://population.un.org/wpp/Download/Files/1_Indicators%20(Standard)/EXCEL_FILES/1_General/WPP2022_GEN_F01_DEMOGRAPHIC_INDICATORS_COMPACT_REV1.xlsx\",\n",
        "download.file(wpp.url, \"WPP2022_GEN_F01_DEMOGRAPHIC_INDICATORS_COMPACT_REV1.xlsx\")"
      ]
    },
    {
      "cell_type": "markdown",
      "metadata": {
        "id": "KnIGmpg8Uy00"
      },
      "source": [
        "The `readxl` package (part of tidyverse) is used to read Excel files. It provides a command called `read_excel` which we will use to read Excel spreadsheet data into R."
      ]
    },
    {
      "cell_type": "code",
      "execution_count": 51,
      "metadata": {
        "id": "i8fh9GxRUy00",
        "outputId": "9a63f13a-2b26-409b-8d7b-f76400d80ae5",
        "colab": {
          "base_uri": "https://localhost:8080/",
          "height": 166
        }
      },
      "outputs": [
        {
          "output_type": "error",
          "ename": "ERROR",
          "evalue": "ignored",
          "traceback": [
            "Error: `path` does not exist: ‘WPP2022_GEN_F01_DEMOGRAPHIC_INDICATORS_COMPACT_REV1.xlsx’\nTraceback:\n",
            "1. read_excel(\"WPP2022_GEN_F01_DEMOGRAPHIC_INDICATORS_COMPACT_REV1.xlsx\")",
            "2. check_file(path)",
            "3. stop(\"`path` does not exist: \", sQuote(path), call. = FALSE)"
          ]
        }
      ],
      "source": [
        "library(readxl)\n",
        "wpp <- read_excel(\"WPP2022_GEN_F01_DEMOGRAPHIC_INDICATORS_COMPACT_REV1.xlsx\")"
      ]
    },
    {
      "cell_type": "markdown",
      "metadata": {
        "id": "JoYaFVmhUy00"
      },
      "source": [
        "It's clear that this import did not work well:"
      ]
    },
    {
      "cell_type": "code",
      "execution_count": 44,
      "metadata": {
        "id": "WGjkv-fDUy00",
        "outputId": "d965a31f-df53-4d9e-a9ee-12c12b20acd8",
        "colab": {
          "base_uri": "https://localhost:8080/",
          "height": 132
        }
      },
      "outputs": [
        {
          "output_type": "error",
          "ename": "ERROR",
          "evalue": "ignored",
          "traceback": [
            "Error in head(wpp): object 'wpp' not found\nTraceback:\n",
            "1. head(wpp)"
          ]
        }
      ],
      "source": [
        "head(wpp)"
      ]
    },
    {
      "cell_type": "markdown",
      "metadata": {
        "id": "zdyUiXojUy00"
      },
      "source": [
        "It turns out that this is a really big spreadsheet containing a lot of data, and it's not in a format we can easily import. To understand how best to import it, it helps to look at it in Excel for a time:"
      ]
    },
    {
      "cell_type": "markdown",
      "metadata": {
        "id": "4KG0NgSTUy00"
      },
      "source": [
        "We can see that:\n",
        "- The column names are spread across multiple rows.\n",
        "- There are thousands of rows of data, but we only care about a small number of them (those pertaining to China).\n",
        "- Similarly, there are hundreds of columns of data, but we only care about a small number of them. "
      ]
    },
    {
      "cell_type": "markdown",
      "metadata": {
        "id": "Nn1s1FoBUy00"
      },
      "source": [
        "First, we need to skip a large number of initial rows which contain sourcing information. We can do that using the `skip=` option."
      ]
    },
    {
      "cell_type": "code",
      "execution_count": 40,
      "metadata": {
        "id": "4WZ8NduUUy00",
        "outputId": "7ac26cf5-110b-4805-cf0e-2f338d4fa13b",
        "colab": {
          "base_uri": "https://localhost:8080/",
          "height": 184
        }
      },
      "outputs": [
        {
          "output_type": "error",
          "ename": "ERROR",
          "evalue": "ignored",
          "traceback": [
            "Error: `path` does not exist: ‘WPP2022_GEN_F01_DEMOGRAPHIC_INDICATORS_COMPACT_REV1.xlsx’\nTraceback:\n",
            "1. read_excel(\"WPP2022_GEN_F01_DEMOGRAPHIC_INDICATORS_COMPACT_REV1.xlsx\", \n .     col_names = F, range = \"A6790:BM6861\")",
            "2. check_file(path)",
            "3. stop(\"`path` does not exist: \", sQuote(path), call. = FALSE)"
          ]
        }
      ],
      "source": [
        "# read file, skipping rows\n",
        "library(readxl)\n",
        "wpp<-read_excel(\"WPP2022_GEN_F01_DEMOGRAPHIC_INDICATORS_COMPACT_REV1.xlsx\",col_names=F, range= \"A6790:BM6861\")\n",
        "wpp.cols<-read_excel(\"WPP2022_GEN_F01_DEMOGRAPHIC_INDICATORS_COMPACT_REV1.xlsx\",skip=16)"
      ]
    },
    {
      "cell_type": "markdown",
      "metadata": {
        "id": "Uew4rw03Uy00"
      },
      "source": [
        "Next, we will only load the rows that are about China. \n",
        "(We can easily find these using Excel and the \"filter\" command:)"
      ]
    },
    {
      "cell_type": "code",
      "execution_count": 43,
      "metadata": {
        "id": "0hS48fTyUy00",
        "outputId": "95c61038-af1e-4032-986d-0257e404963f",
        "colab": {
          "base_uri": "https://localhost:8080/",
          "height": 132
        }
      },
      "outputs": [
        {
          "output_type": "error",
          "ename": "ERROR",
          "evalue": "ignored",
          "traceback": [
            "Error in parse(text = x, srcfile = src): <text>:1:6: unexpected symbol\n1: read wpp\n         ^\nTraceback:\n"
          ]
        }
      ],
      "source": [
        "read wpp excel, subset china"
      ]
    },
    {
      "cell_type": "markdown",
      "metadata": {
        "id": "_YCOd49FUy00"
      },
      "source": [
        "(Or, we could have just loaded the entire dataset and used `filter()` but this is slower.)"
      ]
    },
    {
      "cell_type": "markdown",
      "metadata": {
        "id": "p4zwlOIkUy00"
      },
      "source": [
        "## Understanding demographic change in China\n",
        "Finally, we can use these data to study more factors that contributed to declining fertility rates in China."
      ]
    },
    {
      "cell_type": "code",
      "execution_count": 41,
      "metadata": {
        "id": "2CCEsq1bUy00",
        "outputId": "6b6d58b4-f1f7-41db-f06a-5e46f98eba08",
        "colab": {
          "base_uri": "https://localhost:8080/",
          "height": 132
        }
      },
      "outputs": [
        {
          "output_type": "error",
          "ename": "ERROR",
          "evalue": "ignored",
          "traceback": [
            "Error in ggplot(wpp, aes(x = Year, y = \"Sex Ratio at Birth (males per 100 female births)\")): object 'wpp' not found\nTraceback:\n",
            "1. ggplot(wpp, aes(x = Year, y = \"Sex Ratio at Birth (males per 100 female births)\"))"
          ]
        }
      ],
      "source": [
        "# sex ratio at birth over timet\n",
        "ggplot(wpp,aes(x=Year,y='Sex Ratio at Birth (males per 100 female births)'))+gemo_line+\n",
        "  gemo_vine(xintercept=1980)+\n",
        "  annotate(x=1978,y=110,label=\"One child policy\",angle=90,gemo=\"text\")"
      ]
    },
    {
      "cell_type": "code",
      "execution_count": null,
      "metadata": {
        "id": "XA1FBVUGUy00"
      },
      "outputs": [],
      "source": [
        "# dependency ratio over time\n"
      ]
    },
    {
      "cell_type": "code",
      "execution_count": null,
      "metadata": {
        "id": "xG1w3nraUy01"
      },
      "outputs": [],
      "source": [
        "# net number of migrants over time\n",
        "wpp%>%select(Year,nnm='Net Number of Migrants(thousands)', nnm_ik )"
      ]
    }
  ],
  "metadata": {
    "celltoolbar": "Slideshow",
    "kernelspec": {
      "display_name": "R",
      "language": "R",
      "name": "ir"
    },
    "language_info": {
      "codemirror_mode": "r",
      "file_extension": ".r",
      "mimetype": "text/x-r-source",
      "name": "R",
      "pygments_lexer": "r",
      "version": "4.2.1"
    },
    "colab": {
      "provenance": []
    }
  },
  "nbformat": 4,
  "nbformat_minor": 0
}