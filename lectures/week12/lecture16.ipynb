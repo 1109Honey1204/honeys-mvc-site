{
  "cells": [
    {
      "cell_type": "markdown",
      "metadata": {
        "id": "XlOf9RFL1GTi"
      },
      "source": [
        "# Lecture 16: Writing Functions in R\n",
        "<div style=\"border: 1px double black; padding: 10px; margin: 10px\">\n",
        "\n",
        "**After today's lecture you will understand:**\n",
        "* How to write functions in R\n",
        "</div>\n",
        "\n",
        "These notes correspond to Chapter 26 of the book.\n",
        "\n",
        "\n",
        "\n"
      ]
    },
    {
      "cell_type": "code",
      "execution_count": 1,
      "metadata": {
        "colab": {
          "base_uri": "https://localhost:8080/"
        },
        "id": "LNaTvkfD1GTn",
        "outputId": "1ef95b29-3d1d-4a13-bc0d-7a5f82898741"
      },
      "outputs": [
        {
          "output_type": "stream",
          "name": "stderr",
          "text": [
            "Warning message in system(\"timedatectl\", intern = TRUE):\n",
            "“running command 'timedatectl' had status 1”\n",
            "── \u001b[1mAttaching packages\u001b[22m ─────────────────────────────────────── tidyverse 1.3.1 ──\n",
            "\n",
            "\u001b[32m✔\u001b[39m \u001b[34mggplot2\u001b[39m 3.4.1     \u001b[32m✔\u001b[39m \u001b[34mpurrr  \u001b[39m 1.0.1\n",
            "\u001b[32m✔\u001b[39m \u001b[34mtibble \u001b[39m 3.2.0     \u001b[32m✔\u001b[39m \u001b[34mdplyr  \u001b[39m 1.1.0\n",
            "\u001b[32m✔\u001b[39m \u001b[34mtidyr  \u001b[39m 1.3.0     \u001b[32m✔\u001b[39m \u001b[34mstringr\u001b[39m 1.4.1\n",
            "\u001b[32m✔\u001b[39m \u001b[34mreadr  \u001b[39m 2.1.4     \u001b[32m✔\u001b[39m \u001b[34mforcats\u001b[39m 1.0.0\n",
            "\n",
            "── \u001b[1mConflicts\u001b[22m ────────────────────────────────────────── tidyverse_conflicts() ──\n",
            "\u001b[31m✖\u001b[39m \u001b[34mdplyr\u001b[39m::\u001b[32mfilter()\u001b[39m masks \u001b[34mstats\u001b[39m::filter()\n",
            "\u001b[31m✖\u001b[39m \u001b[34mdplyr\u001b[39m::\u001b[32mlag()\u001b[39m    masks \u001b[34mstats\u001b[39m::lag()\n",
            "\n",
            "Downloading GitHub repo bradleyboehmke/harrypotter@HEAD\n",
            "\n"
          ]
        },
        {
          "output_type": "stream",
          "name": "stdout",
          "text": [
            "\u001b[36m──\u001b[39m \u001b[36mR CMD build\u001b[39m \u001b[36m─────────────────────────────────────────────────────────────────\u001b[39m\n",
            "* checking for file ‘/tmp/RtmpxGqVav/remotes7b256cac56/bradleyboehmke-harrypotter-51f7146/DESCRIPTION’ ... OK\n",
            "* preparing ‘harrypotter’:\n",
            "* checking DESCRIPTION meta-information ... OK\n",
            "* checking for LF line-endings in source and make files and shell scripts\n",
            "* checking for empty or unneeded directories\n",
            "* building ‘harrypotter_0.1.0.tar.gz’\n",
            "\n"
          ]
        },
        {
          "output_type": "stream",
          "name": "stderr",
          "text": [
            "Installing package into ‘/usr/local/lib/R/site-library’\n",
            "(as ‘lib’ is unspecified)\n",
            "\n",
            "Installing package into ‘/usr/local/lib/R/site-library’\n",
            "(as ‘lib’ is unspecified)\n",
            "\n",
            "also installing the dependencies ‘Rcpp’, ‘SnowballC’, ‘janeaustenr’, ‘tokenizers’\n",
            "\n",
            "\n"
          ]
        }
      ],
      "source": [
        "library(tidyverse)\n",
        "remotes::install_github(\"bradleyboehmke/harrypotter\")\n",
        "install.packages(\"tidytext\")\n",
        "library(harrypotter)\n",
        "library(tidytext)\n",
        "load(url('https://datasets.stats306.org/afinn.RData'))"
      ]
    },
    {
      "cell_type": "markdown",
      "metadata": {
        "id": "PYpRWRBmW126"
      },
      "source": [
        "## Why get better at programming?\n",
        "\n",
        "This week we will learn how to become better R programmers, by studying functions and iteration. The goal is to learn how to write code that is simulataneously:\n",
        "- Easier to read;\n",
        "- Less buggy;\n",
        "- More enjoyable to write;\n",
        "- More efficient."
      ]
    },
    {
      "cell_type": "markdown",
      "metadata": {
        "id": "-tXuQHt7W127"
      },
      "source": [
        "## Example from HW7\n",
        "\n",
        "<pre style=\"font-size: 8px; line-height: 1;\">\n",
        "chamber_tibble<-tibble(chapter=seq_along(chamber_of_secrets), text=chamber_of_secrets)%>%\n",
        "  unnest_tokens(input=text, output=word)%>%\n",
        "  left_join(afinn)%>%\n",
        "  filter(!is.na(value))%>%\n",
        "  group_by(chapter)%>%\n",
        "  summarize(mean_sentiment_value=mean(value,na.rm=T))%>%\n",
        "  mutate(book=\"2.chamber_of_secrets\")\n",
        "\n",
        "prisoner_tibble<-tibble(chapter=seq_along(prisoner_of_azkaban), text=prisoner_of_azkaban)%>%\n",
        "  unnest_tokens(input=text, output=word)%>%\n",
        "  left_join(afinn)%>%\n",
        "  filter(!is.na(value))%>%\n",
        "  group_by(chapter)%>%\n",
        "  summarize(mean_sentiment_value=mean(value,na.rm=T))%>%\n",
        "  mutate(book=\"3.prisoner_of_azkaban\")\n",
        "\n",
        "goblet_tibble<-tibble(chapter=seq_along(goblet_of_fire), text=goblet_of_fire)%>%\n",
        "  unnest_tokens(input=text, output=word)%>%\n",
        "  left_join(afinn)%>%\n",
        "  filter(!is.na(value))%>%\n",
        "  group_by(chapter)%>%\n",
        "  summarize(mean_sentiment_value=mean(value,na.rm=T))%>%\n",
        "  mutate(book=\"4.goblet_of_fire\")\n",
        "\n",
        "phoenix_tibble<-tibble(chapter=seq_along(order_of_the_phoenix), text=order_of_the_phoenix)%>%\n",
        "  unnest_tokens(input=text, output=word)%>%\n",
        "  left_join(afinn)%>%\n",
        "  filter(!is.na(value))%>%\n",
        "  group_by(chapter)%>%\n",
        "  summarize(mean_sentiment_value=mean(value,na.rm=T))%>%\n",
        "  mutate(book=\"5.order_of_the_phoenix\")\n",
        "\n",
        "prince_tibble<-tibble(chapter=seq_along(half_blood_prince), text=half_blood_prince)%>%\n",
        "  unnest_tokens(input=text, output=word)%>%\n",
        "  left_join(afinn)%>%\n",
        "  filter(!is.na(value))%>%\n",
        "  group_by(chapter)%>%\n",
        "  summarize(mean_sentiment_value=mean(value,na.rm=T))%>%\n",
        "  mutate(book=\"6.half_blood_prince\")\n",
        "\n",
        "hallows_tibble<-tibble(chapter=seq_along(deathly_hallows), text=deathly_hallows)%>%\n",
        "  unnest_tokens(input=text, output=word)%>%\n",
        "  left_join(afinn)%>%\n",
        "  filter(!is.na(value))%>%\n",
        "  group_by(chapter)%>%\n",
        "  summarize(mean_sentiment_value=mean(value,na.rm=T))%>%\n",
        "  mutate(book=\"7.deathly_hallows\")\n",
        "</pre>"
      ]
    },
    {
      "cell_type": "code",
      "execution_count": null,
      "metadata": {
        "id": "ziLBCaQKW127",
        "outputId": "74ffca11-4443-4963-d205-cf2097a0af94"
      },
      "outputs": [
        {
          "name": "stderr",
          "output_type": "stream",
          "text": [
            "\u001b[1m\u001b[22mJoining with `by = join_by(word)`\n"
          ]
        },
        {
          "data": {
            "text/html": [
              "<table class=\"dataframe\">\n",
              "<caption>A tibble: 5 × 3</caption>\n",
              "<thead>\n",
              "\t<tr><th scope=col>title</th><th scope=col>chapter</th><th scope=col>msv</th></tr>\n",
              "\t<tr><th scope=col>&lt;chr&gt;</th><th scope=col>&lt;int&gt;</th><th scope=col>&lt;dbl&gt;</th></tr>\n",
              "</thead>\n",
              "<tbody>\n",
              "\t<tr><td>goblet_of_fire      </td><td>32</td><td>-1.0439560</td></tr>\n",
              "\t<tr><td>goblet_of_fire      </td><td>34</td><td>-0.7664671</td></tr>\n",
              "\t<tr><td>half_blood_prince   </td><td>28</td><td>-1.1428571</td></tr>\n",
              "\t<tr><td>order_of_the_phoenix</td><td>36</td><td>-0.9166667</td></tr>\n",
              "\t<tr><td>prisoner_of_azkaban </td><td>17</td><td>-0.7350000</td></tr>\n",
              "</tbody>\n",
              "</table>\n"
            ],
            "text/latex": [
              "A tibble: 5 × 3\n",
              "\\begin{tabular}{lll}\n",
              " title & chapter & msv\\\\\n",
              " <chr> & <int> & <dbl>\\\\\n",
              "\\hline\n",
              "\t goblet\\_of\\_fire       & 32 & -1.0439560\\\\\n",
              "\t goblet\\_of\\_fire       & 34 & -0.7664671\\\\\n",
              "\t half\\_blood\\_prince    & 28 & -1.1428571\\\\\n",
              "\t order\\_of\\_the\\_phoenix & 36 & -0.9166667\\\\\n",
              "\t prisoner\\_of\\_azkaban  & 17 & -0.7350000\\\\\n",
              "\\end{tabular}\n"
            ],
            "text/markdown": [
              "\n",
              "A tibble: 5 × 3\n",
              "\n",
              "| title &lt;chr&gt; | chapter &lt;int&gt; | msv &lt;dbl&gt; |\n",
              "|---|---|---|\n",
              "| goblet_of_fire       | 32 | -1.0439560 |\n",
              "| goblet_of_fire       | 34 | -0.7664671 |\n",
              "| half_blood_prince    | 28 | -1.1428571 |\n",
              "| order_of_the_phoenix | 36 | -0.9166667 |\n",
              "| prisoner_of_azkaban  | 17 | -0.7350000 |\n",
              "\n"
            ],
            "text/plain": [
              "  title                chapter msv       \n",
              "1 goblet_of_fire       32      -1.0439560\n",
              "2 goblet_of_fire       34      -0.7664671\n",
              "3 half_blood_prince    28      -1.1428571\n",
              "4 order_of_the_phoenix 36      -0.9166667\n",
              "5 prisoner_of_azkaban  17      -0.7350000"
            ]
          },
          "metadata": {},
          "output_type": "display_data"
        }
      ],
      "source": [
        "ls(\"package:harrypotter\") %>% \n",
        "    map_dfr(~ tibble(title = ., text = getExportedValue('harrypotter', .), \n",
        "                     chapter = seq_along(text))) %>% \n",
        "    unnest_tokens(input=text, output=word) %>% \n",
        "    left_join(afinn) %>%\n",
        "    group_by(title, chapter) %>% \n",
        "    summarize(msv = mean(value, na.rm=T), .groups = \"drop\") %>% \n",
        "    top_n(5, -msv)"
      ]
    },
    {
      "cell_type": "markdown",
      "metadata": {
        "id": "xJgocmutIfof"
      },
      "source": [
        "# Function\n",
        "This lecture will be about writing our own functions. \n",
        "- Functions are not new to us; we have been using them since the very first lecture.\n",
        "- `print`, `filter`, `mutate`, `summarize`, `tibble`, etc.: all are functions."
      ]
    },
    {
      "cell_type": "code",
      "execution_count": null,
      "metadata": {
        "id": "G-8HhFn3W127",
        "outputId": "b741ceab-2b34-4424-c81b-9569688c6063"
      },
      "outputs": [
        {
          "data": {
            "text/html": [
              "'function'"
            ],
            "text/latex": [
              "'function'"
            ],
            "text/markdown": [
              "'function'"
            ],
            "text/plain": [
              "[1] \"function\""
            ]
          },
          "metadata": {},
          "output_type": "display_data"
        }
      ],
      "source": [
        "class(filter)"
      ]
    },
    {
      "cell_type": "markdown",
      "metadata": {
        "id": "GjeuBDWQ7ubr"
      },
      "source": [
        "### Why write our own functions??\n",
        "\n",
        "Often when programming we find ourselves repeating the same block of code with minor modifications. \n",
        "\n",
        "Did you encounter this situation in your HW7 when you applied the same logic again and again, while deriving the sentiment score for all the Harry Potter books??\n",
        "\n",
        "That is precisely when a function is defined to save ourselves from repetition!\n",
        "\n",
        "Let us start with simple examples. When building machine learning models (which you will learn next week) it is common practice to normalize all the columns values to the same scale; typically between 0 and 1. Let us take the `mpg` dataset and see its current min and max values:"
      ]
    },
    {
      "cell_type": "code",
      "execution_count": null,
      "metadata": {
        "colab": {
          "base_uri": "https://localhost:8080/",
          "height": 34
        },
        "id": "ZwBcWuaSC65I",
        "outputId": "ca421d71-071a-4d06-ca3b-e94fb7271aa6"
      },
      "outputs": [
        {
          "data": {
            "text/html": [
              "<style>\n",
              ".list-inline {list-style: none; margin:0; padding: 0}\n",
              ".list-inline>li {display: inline-block}\n",
              ".list-inline>li:not(:last-child)::after {content: \"\\00b7\"; padding: 0 .5ex}\n",
              "</style>\n",
              "<ol class=list-inline><li>12</li><li>44</li></ol>\n"
            ],
            "text/latex": [
              "\\begin{enumerate*}\n",
              "\\item 12\n",
              "\\item 44\n",
              "\\end{enumerate*}\n"
            ],
            "text/markdown": [
              "1. 12\n",
              "2. 44\n",
              "\n",
              "\n"
            ],
            "text/plain": [
              "[1] 12 44"
            ]
          },
          "metadata": {},
          "output_type": "display_data"
        }
      ],
      "source": [
        "mpg$hwy %>% range"
      ]
    },
    {
      "cell_type": "markdown",
      "metadata": {
        "id": "tZi8Sl3BDGrg"
      },
      "source": [
        "Let us now normalize it:"
      ]
    },
    {
      "cell_type": "code",
      "execution_count": null,
      "metadata": {
        "colab": {
          "base_uri": "https://localhost:8080/",
          "height": 34
        },
        "id": "IbO0bI637vLy",
        "outputId": "f25f6600-c37a-4c5f-9c99-8ae34a8eb6af"
      },
      "outputs": [
        {
          "data": {
            "text/html": [
              "<style>\n",
              ".list-inline {list-style: none; margin:0; padding: 0}\n",
              ".list-inline>li {display: inline-block}\n",
              ".list-inline>li:not(:last-child)::after {content: \"\\00b7\"; padding: 0 .5ex}\n",
              "</style>\n",
              "<ol class=list-inline><li>0</li><li>1</li></ol>\n"
            ],
            "text/latex": [
              "\\begin{enumerate*}\n",
              "\\item 0\n",
              "\\item 1\n",
              "\\end{enumerate*}\n"
            ],
            "text/markdown": [
              "1. 0\n",
              "2. 1\n",
              "\n",
              "\n"
            ],
            "text/plain": [
              "[1] 0 1"
            ]
          },
          "metadata": {},
          "output_type": "display_data"
        }
      ],
      "source": [
        "hwy_a <- (mpg$hwy - min(mpg$hwy, na.rm = TRUE)) / (max(mpg$hwy, na.rm = TRUE) - min(mpg$hwy, na.rm = TRUE))\n",
        "hwy_a %>% range"
      ]
    },
    {
      "cell_type": "markdown",
      "metadata": {
        "id": "d39irSk0DU7K"
      },
      "source": [
        "We need to do the exact same for all columns; to begin with let us do for all numerical columns. And it is easy to copy and paste the same code from above and change the variable names"
      ]
    },
    {
      "cell_type": "markdown",
      "metadata": {
        "id": "jer8maFwW128"
      },
      "source": [
        "## 🤔 Quiz"
      ]
    },
    {
      "cell_type": "code",
      "execution_count": null,
      "metadata": {
        "colab": {
          "base_uri": "https://localhost:8080/",
          "height": 34
        },
        "id": "55332GY1Dk5k",
        "outputId": "e7c2c1da-c10a-4ccf-d8b7-ec78fe88d17d"
      },
      "outputs": [
        {
          "data": {
            "text/html": [
              "<style>\n",
              ".list-inline {list-style: none; margin:0; padding: 0}\n",
              ".list-inline>li {display: inline-block}\n",
              ".list-inline>li:not(:last-child)::after {content: \"\\00b7\"; padding: 0 .5ex}\n",
              "</style>\n",
              "<ol class=list-inline><li>0</li><li>1.1304347826087</li></ol>\n"
            ],
            "text/latex": [
              "\\begin{enumerate*}\n",
              "\\item 0\n",
              "\\item 1.1304347826087\n",
              "\\end{enumerate*}\n"
            ],
            "text/markdown": [
              "1. 0\n",
              "2. 1.1304347826087\n",
              "\n",
              "\n"
            ],
            "text/plain": [
              "[1] 0.000000 1.130435"
            ]
          },
          "metadata": {},
          "output_type": "display_data"
        }
      ],
      "source": [
        "cty_a <- (mpg$cty - min(mpg$cty, na.rm = TRUE)) / (max(mpg$cty, na.rm = TRUE) - min(mpg$hwy, na.rm = TRUE))\n",
        "cty_a %>% range"
      ]
    },
    {
      "cell_type": "markdown",
      "metadata": {
        "id": "9Xgz9o_wD5wP"
      },
      "source": [
        "Why is the range not showing a maximum of 1?\n",
        "\n",
        "&nbsp;A. For the `cty` values it cannot have a maximum value of 1<br/>\n",
        "&nbsp;B. The numerator should use `max` function<br/>\n",
        "&nbsp;C. Copy-paste led to making an accidental mistake in the formula.<br/>"
      ]
    },
    {
      "cell_type": "markdown",
      "metadata": {
        "id": "-phP4EpQFT3l"
      },
      "source": [
        "We still need to do the exact same procedure for all other columns as well and so intead of repeating ourselves we can introduce a function to do the repeats. \n",
        "\n",
        "Specifically, we want to create a procedure that \"fills in\" the black boxes in the pattern below with whatever we pass in:"
      ]
    },
    {
      "cell_type": "markdown",
      "metadata": {
        "id": "ezKIDYNtW128"
      },
      "source": [
        "(█ - min(█, na.rm = TRUE)) / (max(█, na.rm = TRUE) - min(█, na.rm = TRUE))"
      ]
    },
    {
      "cell_type": "markdown",
      "metadata": {
        "id": "Pp_j9XXuGHxC"
      },
      "source": [
        "## Anatomy of a function\n",
        "\n",
        "To write a function we should first think about the inputs and output. A function takes input(s), does something(s) to them, and then returns an output.\n",
        "\n",
        "\n",
        "    f <- function(input) {\n",
        "        <do some things>\n",
        "        return(output)\n",
        "    }\n",
        "    output <- f(input)\n",
        "\n"
      ]
    },
    {
      "cell_type": "markdown",
      "metadata": {
        "id": "wqoaQqPBW128"
      },
      "source": [
        "Now let's create a \"rescale\" function from the above code:"
      ]
    },
    {
      "cell_type": "code",
      "execution_count": 4,
      "metadata": {
        "id": "mrtGzwnBW128",
        "outputId": "f39fa389-104c-4a86-81a4-3e8a0b980c7b",
        "colab": {
          "base_uri": "https://localhost:8080/",
          "height": 152
        }
      },
      "outputs": [
        {
          "output_type": "error",
          "ename": "ERROR",
          "evalue": "ignored",
          "traceback": [
            "Error in parse(text = x, srcfile = src): <text>:6:25: unexpected symbol\n5: }\n6: rescale01(c(NA, mpg$cty).na.rm\n                           ^\nTraceback:\n"
          ]
        }
      ],
      "source": [
        "# rescale01 function\n",
        "rescale01 <- function(x, na.rm = FALSE){\n",
        "  #substract off the min, divide by the range \n",
        "  return(x - min(x, na.rm)) / (max(x, na.rm) - min(x, na.rm))\n",
        "}\n",
        "rescale01(c(NA, mpg$cty).na.rm=T)"
      ]
    },
    {
      "cell_type": "markdown",
      "metadata": {
        "id": "dtRoursTGxz4"
      },
      "source": [
        "Note: in R (and unlike Python, C++, Java, or other languages), it is not necessary to use a `return` keyword to specify the return value of a function. The return value of a function is simply the value of the last expression evaluated within the function body. "
      ]
    },
    {
      "cell_type": "markdown",
      "metadata": {
        "id": "gUmAiBFQGUgk"
      },
      "source": [
        "## 🤔 Quiz\n",
        "\n",
        "What is the output of our `rescale01` function?\n",
        "\n",
        "* A. x\n",
        "* B. nothing\n",
        "* C. rescaled vector values\n"
      ]
    },
    {
      "cell_type": "markdown",
      "metadata": {
        "id": "fCgIwRmV1GT3"
      },
      "source": [
        "\n",
        "### Arguments\n",
        "\n",
        "Functions will often have multiple arguments. Some arguments have default values, others do not. All arguments without default values must be passed to a function. Arguments can be passed by name or position. For instance, \n",
        "\n",
        "\n"
      ]
    },
    {
      "cell_type": "code",
      "execution_count": null,
      "metadata": {
        "colab": {
          "base_uri": "https://localhost:8080/",
          "height": 241
        },
        "id": "eNJoozbP1GT4",
        "outputId": "f3bce9fc-5d2a-4532-8f4b-3ce3251a2bfa"
      },
      "outputs": [
        {
          "data": {
            "text/html": [
              "<table class=\"dataframe\">\n",
              "<caption>A matrix: 5 × 4 of type dbl</caption>\n",
              "<thead>\n",
              "\t<tr><th scope=col>w</th><th scope=col>x</th><th scope=col>y</th><th scope=col>z</th></tr>\n",
              "</thead>\n",
              "<tbody>\n",
              "\t<tr><td> 0.0</td><td> 1.5</td><td>-1.3</td><td>-0.6</td></tr>\n",
              "\t<tr><td>-2.8</td><td> 0.0</td><td> 0.1</td><td>-0.9</td></tr>\n",
              "\t<tr><td>-0.2</td><td> 1.3</td><td>-0.2</td><td>-1.2</td></tr>\n",
              "\t<tr><td>-0.8</td><td> 0.7</td><td>-0.4</td><td>-0.7</td></tr>\n",
              "\t<tr><td>-0.5</td><td>-1.2</td><td>-0.1</td><td> 0.7</td></tr>\n",
              "</tbody>\n",
              "</table>\n"
            ],
            "text/latex": [
              "A matrix: 5 × 4 of type dbl\n",
              "\\begin{tabular}{llll}\n",
              " w & x & y & z\\\\\n",
              "\\hline\n",
              "\t  0.0 &  1.5 & -1.3 & -0.6\\\\\n",
              "\t -2.8 &  0.0 &  0.1 & -0.9\\\\\n",
              "\t -0.2 &  1.3 & -0.2 & -1.2\\\\\n",
              "\t -0.8 &  0.7 & -0.4 & -0.7\\\\\n",
              "\t -0.5 & -1.2 & -0.1 &  0.7\\\\\n",
              "\\end{tabular}\n"
            ],
            "text/markdown": [
              "\n",
              "A matrix: 5 × 4 of type dbl\n",
              "\n",
              "| w | x | y | z |\n",
              "|---|---|---|---|\n",
              "|  0.0 |  1.5 | -1.3 | -0.6 |\n",
              "| -2.8 |  0.0 |  0.1 | -0.9 |\n",
              "| -0.2 |  1.3 | -0.2 | -1.2 |\n",
              "| -0.8 |  0.7 | -0.4 | -0.7 |\n",
              "| -0.5 | -1.2 | -0.1 |  0.7 |\n",
              "\n"
            ],
            "text/plain": [
              "     w    x    y    z   \n",
              "[1,]  0.0  1.5 -1.3 -0.6\n",
              "[2,] -2.8  0.0  0.1 -0.9\n",
              "[3,] -0.2  1.3 -0.2 -1.2\n",
              "[4,] -0.8  0.7 -0.4 -0.7\n",
              "[5,] -0.5 -1.2 -0.1  0.7"
            ]
          },
          "metadata": {},
          "output_type": "display_data"
        }
      ],
      "source": [
        "# generate 5 numbers from a Normal(0, 1) distribution.\n",
        "w = rnorm(5, mean = 0, sd = 1)\n",
        "x = rnorm(n = 5, mean = 0, sd = 1)\n",
        "y = rnorm(5, 0, 1)\n",
        "z = rnorm(5)\n",
        "round(cbind(w, x, y, z), 1)"
      ]
    },
    {
      "cell_type": "markdown",
      "metadata": {
        "id": "LIZuAcKF1GT9"
      },
      "source": [
        "Arguments passed by name need not be in order:"
      ]
    },
    {
      "cell_type": "code",
      "execution_count": null,
      "metadata": {
        "colab": {
          "base_uri": "https://localhost:8080/",
          "height": 97
        },
        "id": "nAeMGzyS1GT-",
        "outputId": "b68e7be7-c4fa-47e7-9814-99886e8e5787"
      },
      "outputs": [
        {
          "data": {
            "text/html": [
              "<table class=\"dataframe\">\n",
              "<caption>A matrix: 2 × 5 of type dbl</caption>\n",
              "<tbody>\n",
              "\t<tr><th scope=row>u</th><td>0.2</td><td>-0.1</td><td>1.8</td><td>-1.2</td><td>-0.1</td></tr>\n",
              "\t<tr><th scope=row>w</th><td>1.7</td><td>-1.2</td><td>0.5</td><td>-1.2</td><td>-0.1</td></tr>\n",
              "</tbody>\n",
              "</table>\n"
            ],
            "text/latex": [
              "A matrix: 2 × 5 of type dbl\n",
              "\\begin{tabular}{r|lllll}\n",
              "\tu & 0.2 & -0.1 & 1.8 & -1.2 & -0.1\\\\\n",
              "\tw & 1.7 & -1.2 & 0.5 & -1.2 & -0.1\\\\\n",
              "\\end{tabular}\n"
            ],
            "text/markdown": [
              "\n",
              "A matrix: 2 × 5 of type dbl\n",
              "\n",
              "| u | 0.2 | -0.1 | 1.8 | -1.2 | -0.1 |\n",
              "| w | 1.7 | -1.2 | 0.5 | -1.2 | -0.1 |\n",
              "\n"
            ],
            "text/plain": [
              "  [,1] [,2] [,3] [,4] [,5]\n",
              "u 0.2  -0.1 1.8  -1.2 -0.1\n",
              "w 1.7  -1.2 0.5  -1.2 -0.1"
            ]
          },
          "metadata": {},
          "output_type": "display_data"
        }
      ],
      "source": [
        "w = rnorm(mean = 0, sd = 1, n = 5)\n",
        "u = rnorm(mean = 0, sd = 1, 5) # This also works but is bad style. \n",
        "round(rbind(u = u, w = w), 1)\n",
        "\n",
        "# unnamed arguments get passed to the first argument after the names arguments are assigned"
      ]
    },
    {
      "cell_type": "markdown",
      "metadata": {
        "id": "n8gjkPQtW129"
      },
      "source": [
        "## Vector functions\n",
        "The first type of function we'll look at are functions that take a vector, and maybe some other options, and return a vector. We follow the book and call these \"vector functions\"."
      ]
    },
    {
      "cell_type": "markdown",
      "metadata": {
        "id": "AR9KrJnn1GUL"
      },
      "source": [
        "### $z$-score function\n",
        "\n",
        "Let us create a function to compute $z$-scores of a vector:"
      ]
    },
    {
      "cell_type": "code",
      "execution_count": 5,
      "metadata": {
        "colab": {
          "base_uri": "https://localhost:8080/",
          "height": 152
        },
        "id": "qaLeKXql1GUL",
        "outputId": "beda6355-fb72-4150-d97c-69d4693ad697"
      },
      "outputs": [
        {
          "output_type": "error",
          "ename": "ERROR",
          "evalue": "ignored",
          "traceback": [
            "Error in parse(text = x, srcfile = src): <text>:6:5: unexpected ')'\n5:     x - mean(x,na.rm = na.rm))/sd(x,na.rm=na.rm)\n6:     )\n       ^\nTraceback:\n"
          ]
        }
      ],
      "source": [
        "# function to compute z-scores\n",
        "z_score = function(x, pizza = FALSE) {\n",
        "  #(x-mean)/sd\n",
        "  return(\n",
        "    x - mean(x,na.rm = na.rm))/sd(x,na.rm=na.rm)\n",
        "    )\n",
        "}\n",
        "    # fill in\n",
        "mpg %>% mutate (z_cty = z_score(cty),z_hwy = z_score(hwy))"
      ]
    },
    {
      "cell_type": "markdown",
      "metadata": {
        "id": "3lIvlpaL1GUM"
      },
      "source": [
        "The return statement is not strictly necessary, but can make complex functions more readable. It is good practice to avoid creating intermediate objects to store values only used once.\n",
        "\n"
      ]
    },
    {
      "cell_type": "markdown",
      "metadata": {
        "id": "mTPxbzoZ1GUQ"
      },
      "source": [
        "#### Parameters\n",
        "\n",
        "We can set default values for parameters using the construction `parameter = xx` in the function definition.\n",
        "\n",
        "\n"
      ]
    },
    {
      "cell_type": "code",
      "execution_count": null,
      "metadata": {
        "id": "X7FzgVA21GUR"
      },
      "outputs": [],
      "source": [
        "# function to compute z-scores, while potentially remove NAs\n",
        "z_score = function(x, na.rm){\n",
        "    # complete\n",
        "}"
      ]
    },
    {
      "cell_type": "markdown",
      "metadata": {
        "id": "x-vtdUJOW129"
      },
      "source": [
        "Sometimes it makes sense to set a default value for the parameter. We can do this by specifying the default afterwards:"
      ]
    },
    {
      "cell_type": "code",
      "execution_count": null,
      "metadata": {
        "id": "637mAQHt1GUR"
      },
      "outputs": [],
      "source": [
        "# function to compute z-scores, while potentially remove NAs\n",
        "z_score = function(x, na.rm = F){\n",
        "    # complete\n",
        "}"
      ]
    },
    {
      "cell_type": "markdown",
      "metadata": {
        "id": "lTl5gU3PW129"
      },
      "source": [
        "Is it better to make the default `na.rm=True` or `na.rm=False`?"
      ]
    },
    {
      "cell_type": "markdown",
      "metadata": {
        "id": "waM88s_8W129"
      },
      "source": [
        "### Coefficient of variation\n",
        "The coefficient of variation is defined as the ratio of a (continuous) variable's standard deviation to its mean."
      ]
    },
    {
      "cell_type": "code",
      "execution_count": null,
      "metadata": {
        "id": "jkp7kJ6xW129"
      },
      "outputs": [],
      "source": [
        "cv <- function(x) {\n",
        "    # fill in\n",
        "}"
      ]
    },
    {
      "cell_type": "markdown",
      "metadata": {
        "id": "7_r7sh4_W129"
      },
      "source": [
        "### How old\n",
        "Write a function that, given a vector of people's birthdays, returns a vector of how old each person is:"
      ]
    },
    {
      "cell_type": "code",
      "execution_count": null,
      "metadata": {
        "id": "AWHIf184W129"
      },
      "outputs": [],
      "source": [
        "library (lubridate)\n",
        "how_old <- function(birthdays) {\n",
        "    # fill in\n",
        "    today = birthdays\n",
        "}"
      ]
    },
    {
      "cell_type": "markdown",
      "metadata": {
        "id": "M_o2xUzBW129"
      },
      "source": [
        "## Summarize functions\n",
        "The preceding functions all took a vector as input, and returned a vector of the same length as output. These are appropriate for use in operations like **mutate** and **filter**, which expect a function to behave in such a way. \n",
        "\n",
        "A second type of function takes a vector and returns a single number. These are suitable for use with the **summarize** function."
      ]
    },
    {
      "cell_type": "markdown",
      "metadata": {
        "id": "LrzR40nEW129"
      },
      "source": [
        "###  Example: skewness\n",
        "The _skewness_ of a random variable is defined as $$\\mathbb{E} \\left( \\frac{X - \\mu}{\\sigma} \\right)^3.$$"
      ]
    },
    {
      "cell_type": "markdown",
      "metadata": {
        "id": "u0lO0h_MW129"
      },
      "source": [
        "Let's write a function that takes a vector of numerical values and computes its skewness:"
      ]
    },
    {
      "cell_type": "code",
      "execution_count": null,
      "metadata": {
        "id": "mApwOSOYW129"
      },
      "outputs": [],
      "source": [
        "skewness <- function(x) {\n",
        "  mean (x= mean(x)/sd(x)^3)\n",
        "    # fill in\n",
        "}\n",
        "mpg %>% group_by(class)%>% summarize (s_city = rescale01)"
      ]
    },
    {
      "cell_type": "markdown",
      "metadata": {
        "id": "eh2m2IKNW129"
      },
      "source": [
        "Now let's use this function in a summary."
      ]
    },
    {
      "cell_type": "code",
      "execution_count": null,
      "metadata": {
        "id": "R7ivbzm5W129"
      },
      "outputs": [],
      "source": [
        "# skewness inside of summary"
      ]
    },
    {
      "cell_type": "markdown",
      "metadata": {
        "id": "5TFrrXCAcnDe"
      },
      "source": [
        "## Dataframe functions\n",
        "\n",
        "The second class of functions we'll look at take a _dataframe_ as input, and also return a _dataframe_. We have already seen many examples of this type of function:\n",
        "- mutate\n",
        "- filter\n",
        "- summarize\n",
        "- arrange\n",
        "- select\n",
        "\n",
        "\n",
        "A case of a problem of `indirection`, as `dplyr` uses `tidy evaluation` to allow you to refer to the names of variables inside your data frame without any special treatment."
      ]
    },
    {
      "cell_type": "markdown",
      "metadata": {
        "id": "H2mg7OQLW129"
      },
      "source": [
        "Let's consider writing a function called \"grouped_mean\" that takes a data frame, a grouping variable, and a mean variable, and summarizes it. We might think to write it like this:"
      ]
    },
    {
      "cell_type": "code",
      "execution_count": null,
      "metadata": {
        "id": "7wSvTLhXc1BY"
      },
      "outputs": [],
      "source": [
        "grouped_mean <- function(df, group_var, mean_var) {\n",
        "  df %>%  \n",
        "    group_by(group_var) %>% \n",
        "    summarize(mean(mean_var))\n",
        "}"
      ]
    },
    {
      "cell_type": "markdown",
      "metadata": {
        "id": "L2KYrqgdW129"
      },
      "source": [
        "However, this won't quite work:"
      ]
    },
    {
      "cell_type": "code",
      "execution_count": null,
      "metadata": {
        "id": "fdhHyoflW129",
        "outputId": "95d409b2-bdd6-4ca9-c12d-50976ce5eba1"
      },
      "outputs": [
        {
          "ename": "ERROR",
          "evalue": "\u001b[1m\u001b[33mError\u001b[39m in `group_by()`:\u001b[22m\n\u001b[1m\u001b[22m\u001b[33m!\u001b[39m Must group by variables found in `.data`.\n\u001b[31m✖\u001b[39m Column `group_var` is not found.\n",
          "output_type": "error",
          "traceback": [
            "\u001b[1m\u001b[33mError\u001b[39m in `group_by()`:\u001b[22m\n\u001b[1m\u001b[22m\u001b[33m!\u001b[39m Must group by variables found in `.data`.\n\u001b[31m✖\u001b[39m Column `group_var` is not found.\nTraceback:\n",
            "1. grouped_mean(mpg, model, hwy)",
            "2. df %>% group_by(group_var) %>% summarize(mean(mean_var))   # at line 2-4 of file <text>",
            "3. summarize(., mean(mean_var))",
            "4. group_by(., group_var)",
            "5. group_by.data.frame(., group_var)",
            "6. group_by_prepare(.data, ..., .add = .add, error_call = current_env())",
            "7. abort(bullets, call = error_call)",
            "8. signal_abort(cnd, .file)"
          ]
        }
      ],
      "source": [
        "grouped_mean(mpg, model, hwy)"
      ]
    },
    {
      "cell_type": "markdown",
      "metadata": {
        "id": "e-HInchNexcy"
      },
      "source": [
        "### Embracing `{{ }}`\n",
        "The reason why this doesn't work is that R does not understand that `model` and `hwy` are columns inside of `mpg`. (This is the way most computer languages work.) To fix this, R has a very special syntax for indicating that certain arguments to the function are columns inside of a data frame:\n"
      ]
    },
    {
      "cell_type": "code",
      "execution_count": null,
      "metadata": {
        "id": "2lvE6L_adDSS"
      },
      "outputs": [],
      "source": [
        "grouped_mean <- function(df, group_var, mean_var) {\n",
        "    # group by group var then summarize by mean\n",
        "}\n",
        "\n",
        "# grouped_mean(mpg, model, hwy) %>% head"
      ]
    },
    {
      "cell_type": "markdown",
      "metadata": {
        "id": "1l7K30sgW12-"
      },
      "source": [
        "This is called _embracing_ in the book."
      ]
    },
    {
      "cell_type": "markdown",
      "metadata": {
        "id": "1EWww8baW12-"
      },
      "source": [
        "Now let's try a simple modification of our `grouped_mean` function, that allows use to group over _multiple_ variables:"
      ]
    },
    {
      "cell_type": "code",
      "execution_count": null,
      "metadata": {
        "id": "4TtuAHJ1W12-"
      },
      "outputs": [],
      "source": [
        "grouped_mean <- function(df, group_vars, mean_var) {\n",
        "    # group by group_vars then summarize by mean\n",
        "}\n",
        "\n",
        "# grouped_mean(mpg, c(model, class), hwy)"
      ]
    },
    {
      "cell_type": "markdown",
      "metadata": {
        "id": "eaaqoymmgTe2"
      },
      "source": [
        "Why did we get this error? It turns out there are two forms of \"embracing\":\n",
        "\n",
        "* Data-masking: this is used in functions like arrange(), filter(), and summarize() that compute with variables.\n",
        "\n",
        "* Tidy-selection: this is used for functions like select(), relocate(), and rename() that select variables.\n",
        "\n",
        "You can tell which functions take which by looking at the help file. But generally, your intuition is correct: functions that do computations on columns of data are \"data-masking\"; functions that select columns are \"tidy-selection\"."
      ]
    },
    {
      "cell_type": "markdown",
      "metadata": {
        "id": "gclOUru_tZRC"
      },
      "source": [
        "To fix our `grouped_mean` function, we'll use the `pick()` function, which lets you use tidy-selection inside data-masking functions:"
      ]
    },
    {
      "cell_type": "code",
      "execution_count": null,
      "metadata": {
        "colab": {
          "base_uri": "https://localhost:8080/",
          "height": 286
        },
        "id": "LjMSX_YrskNs",
        "outputId": "550a24bc-3bb6-4ce5-bfd6-ed3297888e59"
      },
      "outputs": [
        {
          "name": "stderr",
          "output_type": "stream",
          "text": [
            "\u001b[1m\u001b[22m`summarise()` has grouped output by 'model'. You can override using the `.groups` argument.\n"
          ]
        },
        {
          "data": {
            "text/html": [
              "<table class=\"dataframe\">\n",
              "<caption>A grouped_df: 6 × 3</caption>\n",
              "<thead>\n",
              "\t<tr><th scope=col>model</th><th scope=col>class</th><th scope=col>mean(hwy)</th></tr>\n",
              "\t<tr><th scope=col>&lt;chr&gt;</th><th scope=col>&lt;chr&gt;</th><th scope=col>&lt;dbl&gt;</th></tr>\n",
              "</thead>\n",
              "<tbody>\n",
              "\t<tr><td>4runner 4wd</td><td>suv    </td><td>18.83333</td></tr>\n",
              "\t<tr><td>a4         </td><td>compact</td><td>28.28571</td></tr>\n",
              "\t<tr><td>a4 quattro </td><td>compact</td><td>25.75000</td></tr>\n",
              "\t<tr><td>a6 quattro </td><td>midsize</td><td>24.00000</td></tr>\n",
              "\t<tr><td>altima     </td><td>compact</td><td>28.00000</td></tr>\n",
              "\t<tr><td>altima     </td><td>midsize</td><td>29.00000</td></tr>\n",
              "</tbody>\n",
              "</table>\n"
            ],
            "text/latex": [
              "A grouped\\_df: 6 × 3\n",
              "\\begin{tabular}{lll}\n",
              " model & class & mean(hwy)\\\\\n",
              " <chr> & <chr> & <dbl>\\\\\n",
              "\\hline\n",
              "\t 4runner 4wd & suv     & 18.83333\\\\\n",
              "\t a4          & compact & 28.28571\\\\\n",
              "\t a4 quattro  & compact & 25.75000\\\\\n",
              "\t a6 quattro  & midsize & 24.00000\\\\\n",
              "\t altima      & compact & 28.00000\\\\\n",
              "\t altima      & midsize & 29.00000\\\\\n",
              "\\end{tabular}\n"
            ],
            "text/markdown": [
              "\n",
              "A grouped_df: 6 × 3\n",
              "\n",
              "| model &lt;chr&gt; | class &lt;chr&gt; | mean(hwy) &lt;dbl&gt; |\n",
              "|---|---|---|\n",
              "| 4runner 4wd | suv     | 18.83333 |\n",
              "| a4          | compact | 28.28571 |\n",
              "| a4 quattro  | compact | 25.75000 |\n",
              "| a6 quattro  | midsize | 24.00000 |\n",
              "| altima      | compact | 28.00000 |\n",
              "| altima      | midsize | 29.00000 |\n",
              "\n"
            ],
            "text/plain": [
              "  model       class   mean(hwy)\n",
              "1 4runner 4wd suv     18.83333 \n",
              "2 a4          compact 28.28571 \n",
              "3 a4 quattro  compact 25.75000 \n",
              "4 a6 quattro  midsize 24.00000 \n",
              "5 altima      compact 28.00000 \n",
              "6 altima      midsize 29.00000 "
            ]
          },
          "metadata": {},
          "output_type": "display_data"
        }
      ],
      "source": [
        "grouped_mean <- function(df, group_vars, mean_var) {\n",
        "    # grouped_mean using pick\n",
        "}\n",
        "\n",
        "grouped_mean(mpg, c(model, class), hwy) %>% head"
      ]
    },
    {
      "cell_type": "markdown",
      "metadata": {
        "id": "8vfgWbnPW12-"
      },
      "source": [
        "## Abstraction\n",
        "\n",
        "The main reason to use functions is abstraction: they enable us to break down complex problems into smaller pieces, that we can then reason about individually. "
      ]
    },
    {
      "cell_type": "markdown",
      "metadata": {
        "id": "OSEC6sO2W12-"
      },
      "source": [
        "![example of a stack trace](http://2.bp.blogspot.com/-9nBb0CvqBIg/T2UKV06nD5I/AAAAAAAAAkQ/Pl2Hfj5HUlY/s1600/short-stack.png)"
      ]
    },
    {
      "cell_type": "markdown",
      "metadata": {
        "id": "R7PSLXmYW12-"
      },
      "source": [
        "Let's try this principle out on a problem from last ~night's~week's homework:\n",
        "\n",
        "    Consider the Harry Potter series as a collection of documents(books), find top 5 words in each book ranked by TF-IDF. Comment on your finding. (1 point)"
      ]
    },
    {
      "cell_type": "markdown",
      "metadata": {
        "id": "46uAvsO2W12-"
      },
      "source": [
        "A possible solution:\n",
        "<pre style=\"font-size: 6px; line-height: 1\">\n",
        "phil_words<-tibble(text=philosophers_stone)%>%\n",
        "  unnest_tokens(input=text, output=word)%>%mutate(book=1)\n",
        "chamber_words<-tibble(text=chamber_of_secrets)%>%\n",
        "  unnest_tokens(input=text, output=word)%>%mutate(book=2)\n",
        "prisoner_words<-tibble(text=prisoner_of_azkaban)%>%\n",
        "  unnest_tokens(input=text, output=word)%>%mutate(book=3)\n",
        "goblet_words<-tibble(text=goblet_of_fire)%>%\n",
        "  unnest_tokens(input=text, output=word)%>%mutate(book=4)\n",
        "phoenix_words<-tibble(text=order_of_the_phoenix)%>%\n",
        "  unnest_tokens(input=text, output=word)%>%mutate(book=5)\n",
        "prince_words<-tibble(text=half_blood_prince)%>%\n",
        "  unnest_tokens(input=text, output=word)%>%mutate(book=6)\n",
        "hallows_words<-tibble(text=deathly_hallows)%>%\n",
        "  unnest_tokens(input=text, output=word)%>%mutate(book=7)\n",
        "\n",
        "wordlist<-phil_words%>%bind_rows(chamber_words,prisoner_words,goblet_words,phoenix_words,prince_words,hallows_words)%>%\n",
        "  group_by(word)%>%\n",
        "  summarize(k=n_distinct(book))\n",
        "\n",
        "phil_tbl<-phil_words%>%left_join(wordlist)%>%\n",
        "  group_by(word,k)%>%\n",
        "  count()%>%\n",
        "  mutate(IDF=1+log(7/k),TF=log(1+n))%>%\n",
        "  mutate(TF_IDF=TF*IDF)%>%\n",
        "  ungroup%>%\n",
        "  arrange(desc(TF_IDF))\n",
        "\n",
        "chamber_tbl<-chamber_words%>%left_join(wordlist)%>%\n",
        "  group_by(word,k)%>%\n",
        "  count()%>%\n",
        "  mutate(IDF=1+log(7/k),TF=log(1+n))%>%\n",
        "  mutate(TF_IDF=TF*IDF)%>%\n",
        "  ungroup%>%\n",
        "  arrange(desc(TF_IDF))\n",
        "\n",
        "prisoner_tbl<-prisoner_words%>%left_join(wordlist)%>%\n",
        "  group_by(word,k)%>%\n",
        "  count()%>%\n",
        "  mutate(IDF=1+log(7/k),TF=log(1+n))%>%\n",
        "  mutate(TF_IDF=TF*IDF)%>%\n",
        "  ungroup%>%\n",
        "  arrange(desc(TF_IDF))\n",
        "\n",
        "goblet_tbl<-goblet_words%>%left_join(wordlist)%>%\n",
        "  group_by(word,k)%>%\n",
        "  count()%>%\n",
        "  mutate(IDF=1+log(7/k),TF=log(1+n))%>%\n",
        "  mutate(TF_IDF=TF*IDF)%>%\n",
        "  ungroup%>%\n",
        "  arrange(desc(TF_IDF))\n",
        "\n",
        "phoenix_tbl<-phoenix_words%>%left_join(wordlist)%>%\n",
        "  group_by(word,k)%>%\n",
        "  count()%>%\n",
        "  mutate(IDF=1+log(7/k),TF=log(1+n))%>%\n",
        "  mutate(TF_IDF=TF*IDF)%>%\n",
        "  ungroup%>%\n",
        "  arrange(desc(TF_IDF))\n",
        "\n",
        "prince_tbl<-prince_words%>%left_join(wordlist)%>%\n",
        "  group_by(word,k)%>%\n",
        "  count()%>%\n",
        "  mutate(IDF=1+log(7/k),TF=log(1+n))%>%\n",
        "  mutate(TF_IDF=TF*IDF)%>%\n",
        "  ungroup%>%\n",
        "  arrange(desc(TF_IDF))\n",
        "\n",
        "hallows_tbl<-hallows_words%>%left_join(wordlist)%>%\n",
        "  group_by(word,k)%>%\n",
        "  count()%>%\n",
        "  mutate(IDF=1+log(7/k),TF=log(1+n))%>%\n",
        "  mutate(TF_IDF=TF*IDF)%>%\n",
        "  ungroup%>%\n",
        "  arrange(desc(TF_IDF))\n",
        "\n",
        "phil_tbl%>%top_n(5,TF_IDF)\n",
        "chamber_tbl%>%top_n(5,TF_IDF)\n",
        "prisoner_tbl%>%top_n(5,TF_IDF)\n",
        "goblet_tbl%>%top_n(5,TF_IDF)\n",
        "phoenix_tbl%>%top_n(5,TF_IDF)\n",
        "prince_tbl%>%top_n(5,TF_IDF)\n",
        "hallows_tbl%>%top_n(5,TF_IDF)\n",
        "</pre>"
      ]
    },
    {
      "cell_type": "markdown",
      "metadata": {
        "id": "kNs5rgN3W12-"
      },
      "source": [
        "Let's think abstractly about how to solve this problem:"
      ]
    },
    {
      "cell_type": "code",
      "execution_count": 6,
      "metadata": {
        "id": "yV_s2Vp5W12-",
        "outputId": "9fc7db76-052f-4698-90f4-25065cb17316",
        "colab": {
          "base_uri": "https://localhost:8080/"
        }
      },
      "outputs": [
        {
          "output_type": "stream",
          "name": "stdout",
          "text": [
            "\u001b[90m# A tibble: 200 × 3\u001b[39m\n",
            "   book               text                                               chapter\n",
            "   \u001b[3m\u001b[90m<chr>\u001b[39m\u001b[23m              \u001b[3m\u001b[90m<chr>\u001b[39m\u001b[23m                                                \u001b[3m\u001b[90m<int>\u001b[39m\u001b[23m\n",
            "\u001b[90m 1\u001b[39m chamber_of_secrets \u001b[90m\"\u001b[39mTHE WORST BIRTHDAY　　Not for the first time, an…       1\n",
            "\u001b[90m 2\u001b[39m chamber_of_secrets \u001b[90m\"\u001b[39m　　DOBBY'S WARNING　　arry managed not to shout…       2\n",
            "\u001b[90m 3\u001b[39m chamber_of_secrets \u001b[90m\"\u001b[39mTHE BURROW　　Ron.l\\\" breathed Harry, creeping t…       3\n",
            "\u001b[90m 4\u001b[39m chamber_of_secrets \u001b[90m\"\u001b[39mAT FL0VRR 11 $ HAND BLOTTS　　ife at the Burrow …       4\n",
            "\u001b[90m 5\u001b[39m chamber_of_secrets \u001b[90m\"\u001b[39mTHE WHOMPING　　WILLOW　　he end of the summer v…       5\n",
            "\u001b[90m 6\u001b[39m chamber_of_secrets \u001b[90m\"\u001b[39mGILDEROY LOCKHART　　he next day, however, Harry…       6\n",
            "\u001b[90m 7\u001b[39m chamber_of_secrets \u001b[90m\"\u001b[39mHarry looked bemusedly at the photograph Colin w…       7\n",
            "\u001b[90m 8\u001b[39m chamber_of_secrets \u001b[90m\"\u001b[39m　　\\\"What are you talking about, Harry? Perhaps…       8\n",
            "\u001b[90m 9\u001b[39m chamber_of_secrets \u001b[90m\"\u001b[39mTHE WRTITING ON THE WALL　　What's going on here…       9\n",
            "\u001b[90m10\u001b[39m chamber_of_secrets \u001b[90m\"\u001b[39m　　THE ROGUE BLUDGER　　ince the disastrous epi…      10\n",
            "\u001b[90m# … with 190 more rows\u001b[39m\n"
          ]
        }
      ],
      "source": [
        "hp_tbl <- ls(\"package:harrypotter\") %>% \n",
        "    map_dfr(~ tibble(book = ., text = getExportedValue('harrypotter', .), \n",
        "                     chapter = seq_along(text)))\n",
        "\n",
        "hp_tbl %>% print"
      ]
    },
    {
      "cell_type": "code",
      "execution_count": null,
      "metadata": {
        "id": "P28MxnwzW12_"
      },
      "outputs": [],
      "source": [
        "# outline of solution for hp_tbl"
      ]
    },
    {
      "cell_type": "code",
      "execution_count": 7,
      "metadata": {
        "id": "YUat_ktqW12_",
        "outputId": "54be7b36-ad30-415a-97ed-09230ec4b0d1",
        "colab": {
          "base_uri": "https://localhost:8080/",
          "height": 152
        }
      },
      "outputs": [
        {
          "output_type": "error",
          "ename": "ERROR",
          "evalue": "ignored",
          "traceback": [
            "Error in number_of_books(.): could not find function \"number_of_books\"\nTraceback:\n",
            "1. hp_tbl %>% number_of_books() %>% mutate(idf = log(7/k))",
            "2. mutate(., idf = log(7/k))"
          ]
        }
      ],
      "source": [
        "# TF-IDF(t,d) = TF(t,d)×IDF(t)\n",
        "# TF(t,d) = log(1 + c(t,d))\n",
        "# IDF(t) = log(N/k)\n",
        "convert_to_words <- function(df){\n",
        "  unnest_tokens(df,input = text,output = word)\n",
        "}\n",
        "number_of_books <- function (df){\n",
        "  df %>% convert_to_words %>% group_by (word) %>% summarize = n_distinct(book))\n",
        "}\n",
        "tf<-hp_tbl %>% convert_to_words()%>% count(book,word)%>%mutate (tf=log (1+n))\n",
        "idf <- hp_tbl %>% number_of_books ()%>% mutate (idf = log(7/k))\n",
        "#tf_idf <- function(df, document_col, word_col) {\n",
        "    # fill in\n",
        "#}"
      ]
    },
    {
      "cell_type": "markdown",
      "metadata": {
        "id": "zd8lUNBT1GUU"
      },
      "source": [
        "## Scope\n",
        "\n",
        "Scoping refers to how R looks up the value associated with an object referred to by name. There are two types of scoping – lexical and dynamic – but we will concern ourselves only with lexical scoping here. There are four keys to understanding scoping:\n",
        "\n",
        "- environments\n",
        "- name masking\n",
        "- variables vs functions\n",
        "- dynamic look up \n"
      ]
    },
    {
      "cell_type": "markdown",
      "metadata": {
        "id": "WKt7nGqZ1GUV"
      },
      "source": [
        "An environment can be thought of as a context in which names are associated with objects. Each time a function is called, it generates a new environment for the computation.\n",
        "\n",
        "Consider the following examples:"
      ]
    },
    {
      "cell_type": "code",
      "execution_count": null,
      "metadata": {
        "colab": {
          "base_uri": "https://localhost:8080/",
          "height": 34
        },
        "id": "0wNRpFvV1GUV",
        "outputId": "3b6e279b-9f7f-4837-cdf9-2e42e0a717dc"
      },
      "outputs": [
        {
          "data": {
            "text/html": [
              "<style>\n",
              ".list-inline {list-style: none; margin:0; padding: 0}\n",
              ".list-inline>li {display: inline-block}\n",
              ".list-inline>li:not(:last-child)::after {content: \"\\00b7\"; padding: 0 .5ex}\n",
              "</style>\n",
              "<ol class=list-inline><li>'a'</li><li>'b'</li><li>'c'</li><li>'cty'</li><li>'cty_a'</li><li>'hwy_a'</li><li>'rescale'</li><li>'sum'</li><li>'u'</li><li>'w'</li><li>'x'</li><li>'x_centered'</li><li>'y'</li><li>'z'</li><li>'z_score1'</li><li>'z_score2'</li></ol>\n"
            ],
            "text/latex": [
              "\\begin{enumerate*}\n",
              "\\item 'a'\n",
              "\\item 'b'\n",
              "\\item 'c'\n",
              "\\item 'cty'\n",
              "\\item 'cty\\_a'\n",
              "\\item 'hwy\\_a'\n",
              "\\item 'rescale'\n",
              "\\item 'sum'\n",
              "\\item 'u'\n",
              "\\item 'w'\n",
              "\\item 'x'\n",
              "\\item 'x\\_centered'\n",
              "\\item 'y'\n",
              "\\item 'z'\n",
              "\\item 'z\\_score1'\n",
              "\\item 'z\\_score2'\n",
              "\\end{enumerate*}\n"
            ],
            "text/markdown": [
              "1. 'a'\n",
              "2. 'b'\n",
              "3. 'c'\n",
              "4. 'cty'\n",
              "5. 'cty_a'\n",
              "6. 'hwy_a'\n",
              "7. 'rescale'\n",
              "8. 'sum'\n",
              "9. 'u'\n",
              "10. 'w'\n",
              "11. 'x'\n",
              "12. 'x_centered'\n",
              "13. 'y'\n",
              "14. 'z'\n",
              "15. 'z_score1'\n",
              "16. 'z_score2'\n",
              "\n",
              "\n"
            ],
            "text/plain": [
              " [1] \"a\"          \"b\"          \"c\"          \"cty\"        \"cty_a\"     \n",
              " [6] \"hwy_a\"      \"rescale\"    \"sum\"        \"u\"          \"w\"         \n",
              "[11] \"x\"          \"x_centered\" \"y\"          \"z\"          \"z_score1\"  \n",
              "[16] \"z_score2\"  "
            ]
          },
          "metadata": {},
          "output_type": "display_data"
        }
      ],
      "source": [
        "ls()"
      ]
    },
    {
      "cell_type": "code",
      "execution_count": null,
      "metadata": {
        "colab": {
          "base_uri": "https://localhost:8080/",
          "height": 34
        },
        "id": "qyf0VEhu1GUY",
        "outputId": "c026b229-56ad-40f8-d684-cf77f8965cf0"
      },
      "outputs": [
        {
          "data": {
            "text/html": [
              "'f1_message'"
            ],
            "text/latex": [
              "'f1\\_message'"
            ],
            "text/markdown": [
              "'f1_message'"
            ],
            "text/plain": [
              "[1] \"f1_message\""
            ]
          },
          "metadata": {},
          "output_type": "display_data"
        }
      ],
      "source": [
        "f1 = function() {\n",
        "  f1_message = \"I'm defined inside of f!\"  # `message` is a function in base\n",
        "  ls()\n",
        "}\n",
        "f1()"
      ]
    },
    {
      "cell_type": "code",
      "execution_count": null,
      "metadata": {
        "colab": {
          "base_uri": "https://localhost:8080/",
          "height": 34
        },
        "id": "D_nbqpJY1GUZ",
        "outputId": "ef1263a4-4d41-4989-c853-af319b6ddd43"
      },
      "outputs": [
        {
          "data": {
            "text/html": [
              "TRUE"
            ],
            "text/latex": [
              "TRUE"
            ],
            "text/markdown": [
              "TRUE"
            ],
            "text/plain": [
              "[1] TRUE"
            ]
          },
          "metadata": {},
          "output_type": "display_data"
        }
      ],
      "source": [
        "exists('f1') # f1 %in% ls() "
      ]
    },
    {
      "cell_type": "code",
      "execution_count": null,
      "metadata": {
        "colab": {
          "base_uri": "https://localhost:8080/",
          "height": 34
        },
        "id": "_QG0qrLD1GUa",
        "outputId": "c313c1a9-9589-409c-c786-d438bd729770"
      },
      "outputs": [
        {
          "data": {
            "text/html": [
              "FALSE"
            ],
            "text/latex": [
              "FALSE"
            ],
            "text/markdown": [
              "FALSE"
            ],
            "text/plain": [
              "[1] FALSE"
            ]
          },
          "metadata": {},
          "output_type": "display_data"
        }
      ],
      "source": [
        "exists('f1_message')"
      ]
    },
    {
      "cell_type": "code",
      "execution_count": null,
      "metadata": {
        "colab": {
          "base_uri": "https://localhost:8080/",
          "height": 34
        },
        "id": "7olP1gHu1GUa",
        "outputId": "44c2ac4d-ca5c-4351-c31e-922513dde406"
      },
      "outputs": [
        {
          "data": {
            "text/plain": [
              "<environment: R_GlobalEnv>"
            ]
          },
          "metadata": {},
          "output_type": "display_data"
        }
      ],
      "source": [
        "environment() # here we are in the global environment"
      ]
    },
    {
      "cell_type": "code",
      "execution_count": null,
      "metadata": {
        "colab": {
          "base_uri": "https://localhost:8080/",
          "height": 34
        },
        "id": "UvGiVtd91GUd",
        "outputId": "9c42860b-c195-487d-c2ec-3b7d61020bac"
      },
      "outputs": [
        {
          "data": {
            "text/plain": [
              "<environment: 0x564d05c250a0>"
            ]
          },
          "metadata": {},
          "output_type": "display_data"
        }
      ],
      "source": [
        "f2 = function(){\n",
        "  environment() # here we are in the local environment -- each time we get a different local environment\n",
        "    # created for the purpose of this function\n",
        "}\n",
        "f2()"
      ]
    },
    {
      "cell_type": "code",
      "execution_count": null,
      "metadata": {
        "id": "57mLeAoN1GUd"
      },
      "outputs": [],
      "source": [
        "rm(f1, f2)"
      ]
    },
    {
      "cell_type": "markdown",
      "metadata": {
        "id": "kG--gm7L1GUe"
      },
      "source": [
        "Name masking refers to where and in what order `R` looks for object names.\n",
        "When we call `f1` above, `R` first looks in the current environment which happens to be the global environment. The call to `ls()` however, happens within the environment created by the function call and hence returns only the objects defined in the local environment."
      ]
    },
    {
      "cell_type": "markdown",
      "metadata": {
        "id": "aCkUBwRM1GUg"
      },
      "source": [
        "When an environment is created, it gets nested within the current environment referred to as the “parent environment”. When an object is referenced we first look in the current environment and move recursively up through parent environments until we find a value bound to that name.\n",
        "\n"
      ]
    },
    {
      "cell_type": "markdown",
      "metadata": {
        "id": "kdykZtFW1GUh"
      },
      "source": [
        "Name masking refers to the notion that objects of the same name can exist in different environments. Consider these examples:\n",
        "\n"
      ]
    },
    {
      "cell_type": "code",
      "execution_count": null,
      "metadata": {
        "colab": {
          "base_uri": "https://localhost:8080/"
        },
        "id": "Rqu63x6V1GUh",
        "outputId": "751eb2a6-168c-4eb2-f5b1-7f3b00edf650"
      },
      "outputs": [
        {
          "name": "stdout",
          "output_type": "stream",
          "text": [
            "[1] \"x = I came from inside of f! and y = I came from outside of f!\"\n",
            "[1] \"outside-x = I came from outside of f! and outside-y = I came from outside of f!\"\n"
          ]
        }
      ],
      "source": [
        "#  Example 3 -- lexical scoping\n",
        "y = x = 'I came from outside of f!'\n",
        "f3 = function(){\n",
        "  x =  'I came from inside of f!'\n",
        "  print(paste(\"x =\", x, \"and y =\", y))\n",
        "}\n",
        "f3()\n",
        "print(paste(\"outside-x =\", x, \"and outside-y =\", y))"
      ]
    },
    {
      "cell_type": "markdown",
      "metadata": {
        "id": "B4v1OFQzaYdN"
      },
      "source": [
        "* x is redefined inside the function enviornment\n",
        "* y is not, so R will search for y in the parent environment and keep moving up\n",
        "* x that is associated with f3, is not going to change the x in the global environment, unless we explicitly write the code to do that"
      ]
    },
    {
      "cell_type": "code",
      "execution_count": null,
      "metadata": {
        "id": "KsUNVcUK1GUk",
        "outputId": "14d6df42-b0e9-4ff8-a1f3-d2df36195791"
      },
      "outputs": [
        {
          "data": {
            "text/html": [
              "55"
            ],
            "text/latex": [
              "55"
            ],
            "text/markdown": [
              "55"
            ],
            "text/plain": [
              "[1] 55"
            ]
          },
          "metadata": {},
          "output_type": "display_data"
        }
      ],
      "source": [
        "#  Example 4 -- masking\n",
        "mean = function(x){ \n",
        "    sum(x)\n",
        "}\n",
        "mean(1:10)"
      ]
    },
    {
      "cell_type": "code",
      "execution_count": null,
      "metadata": {
        "id": "-UZUcOyz1GUl",
        "outputId": "0046da6a-4397-477b-e54f-4d00b49ad835"
      },
      "outputs": [
        {
          "data": {
            "text/html": [
              "5.5"
            ],
            "text/latex": [
              "5.5"
            ],
            "text/markdown": [
              "5.5"
            ],
            "text/plain": [
              "[1] 5.5"
            ]
          },
          "metadata": {},
          "output_type": "display_data"
        }
      ],
      "source": [
        "base::mean(1:10)\n",
        "\n"
      ]
    },
    {
      "cell_type": "code",
      "execution_count": null,
      "metadata": {
        "id": "Kgp1U3nd1GUm"
      },
      "outputs": [],
      "source": [
        "rm(mean)"
      ]
    },
    {
      "cell_type": "markdown",
      "metadata": {
        "id": "_sroTkw31GUo"
      },
      "source": [
        "R also uses dynamic look up, meaning values are searched for when a function is called, not when it is created. In the example above, y was defined in the global environment rather than within the function body. This means the value returned by f3 depends on the value of y in the global environment. You should generally avoid this, but there are occasions where it can be useful.\n",
        "\n"
      ]
    },
    {
      "cell_type": "code",
      "execution_count": null,
      "metadata": {
        "id": "9KRL-9jU1GUp",
        "outputId": "5817dde3-b739-43cf-ee25-8f1853de0741"
      },
      "outputs": [
        {
          "data": {
            "text/html": [
              "<dl>\n",
              "\t<dt>$x</dt>\n",
              "\t\t<dd>'I came from inside of f!'</dd>\n",
              "\t<dt>$y</dt>\n",
              "\t\t<dd>'I have been reinvented!'</dd>\n",
              "</dl>\n"
            ],
            "text/latex": [
              "\\begin{description}\n",
              "\\item[\\$x] 'I came from inside of f!'\n",
              "\\item[\\$y] 'I have been reinvented!'\n",
              "\\end{description}\n"
            ],
            "text/markdown": [
              "$x\n",
              ":   'I came from inside of f!'\n",
              "$y\n",
              ":   'I have been reinvented!'\n",
              "\n",
              "\n"
            ],
            "text/plain": [
              "$x\n",
              "[1] \"I came from inside of f!\"\n",
              "\n",
              "$y\n",
              "[1] \"I have been reinvented!\"\n"
            ]
          },
          "metadata": {},
          "output_type": "display_data"
        }
      ],
      "source": [
        "# Example 5 - dynamic lookup\n",
        "y = \"I have been reinvented!\"\n",
        "f3()"
      ]
    }
  ],
  "metadata": {
    "celltoolbar": "Slideshow",
    "colab": {
      "provenance": []
    },
    "kernelspec": {
      "display_name": "R",
      "language": "R",
      "name": "ir"
    },
    "language_info": {
      "codemirror_mode": "r",
      "file_extension": ".r",
      "mimetype": "text/x-r-source",
      "name": "R",
      "pygments_lexer": "r",
      "version": "4.2.1"
    }
  },
  "nbformat": 4,
  "nbformat_minor": 0
}