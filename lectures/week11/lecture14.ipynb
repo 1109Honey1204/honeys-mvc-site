{
  "cells": [
    {
      "cell_type": "code",
      "execution_count": 1,
      "metadata": {
        "colab": {
          "base_uri": "https://localhost:8080/",
          "height": 532
        },
        "id": "UTcp4VWiTinO",
        "outputId": "015bb4bd-2604-432f-8a60-0846928a97a0"
      },
      "outputs": [
        {
          "output_type": "stream",
          "name": "stderr",
          "text": [
            "Warning message in system(\"timedatectl\", intern = TRUE):\n",
            "“running command 'timedatectl' had status 1”\n",
            "── \u001b[1mAttaching packages\u001b[22m ─────────────────────────────────────── tidyverse 1.3.1 ──\n",
            "\n",
            "\u001b[32m✔\u001b[39m \u001b[34mggplot2\u001b[39m 3.4.1     \u001b[32m✔\u001b[39m \u001b[34mpurrr  \u001b[39m 1.0.1\n",
            "\u001b[32m✔\u001b[39m \u001b[34mtibble \u001b[39m 3.1.8     \u001b[32m✔\u001b[39m \u001b[34mdplyr  \u001b[39m 1.1.0\n",
            "\u001b[32m✔\u001b[39m \u001b[34mtidyr  \u001b[39m 1.3.0     \u001b[32m✔\u001b[39m \u001b[34mstringr\u001b[39m 1.4.1\n",
            "\u001b[32m✔\u001b[39m \u001b[34mreadr  \u001b[39m 2.1.4     \u001b[32m✔\u001b[39m \u001b[34mforcats\u001b[39m 1.0.0\n",
            "\n",
            "── \u001b[1mConflicts\u001b[22m ────────────────────────────────────────── tidyverse_conflicts() ──\n",
            "\u001b[31m✖\u001b[39m \u001b[34mdplyr\u001b[39m::\u001b[32mfilter()\u001b[39m masks \u001b[34mstats\u001b[39m::filter()\n",
            "\u001b[31m✖\u001b[39m \u001b[34mdplyr\u001b[39m::\u001b[32mlag()\u001b[39m    masks \u001b[34mstats\u001b[39m::lag()\n",
            "\n",
            "\n",
            "Attaching package: ‘lubridate’\n",
            "\n",
            "\n",
            "The following objects are masked from ‘package:base’:\n",
            "\n",
            "    date, intersect, setdiff, union\n",
            "\n",
            "\n"
          ]
        },
        {
          "output_type": "error",
          "ename": "ERROR",
          "evalue": "ignored",
          "traceback": [
            "Error in library(nycflights13): there is no package called ‘nycflights13’\nTraceback:\n",
            "1. library(nycflights13)"
          ]
        }
      ],
      "source": [
        "library(tidyverse)\n",
        "library(lubridate)\n",
        "library(forcats)\n",
        "library(nycflights13)\n",
        "options(repr.plot.width=8, repr.plot.height=5, repl.plot.dpi=150)\n",
        "theme_set(theme_classic())"
      ]
    },
    {
      "cell_type": "markdown",
      "metadata": {
        "id": "vj8mLzoFTinP"
      },
      "source": [
        "# Lecture 14: Factors"
      ]
    },
    {
      "cell_type": "markdown",
      "metadata": {
        "id": "4EHAmmpUTinQ"
      },
      "source": [
        "In this lecture we will use the [General Social Survey](https://gss.norc.org) to study various social indicators in the U.S. The book covers an example extract of this dataset called `gss_cat`. However, it is not up to date; in particular it does not include any data from people who were born after the year 2000 (i.e. almost everyone in this room except the professor). So to make it more relevant, we are going to load a more recent version of the data."
      ]
    },
    {
      "cell_type": "code",
      "execution_count": 2,
      "metadata": {
        "id": "oQPi3hvATinQ"
      },
      "outputs": [],
      "source": [
        "load(url('https://datasets.stats306.org/gss18.RData'))"
      ]
    },
    {
      "cell_type": "markdown",
      "metadata": {
        "id": "yKedRIn3TinQ"
      },
      "source": [
        "This command has loaded two tables into your workspace: `gss18.raw` contains the raw data, and `gss18.doc` contains \n",
        "information about what each column in `gss18.raw` represents:"
      ]
    },
    {
      "cell_type": "code",
      "execution_count": 3,
      "metadata": {
        "colab": {
          "base_uri": "https://localhost:8080/"
        },
        "id": "dig-409oTinQ",
        "outputId": "288f46b2-b75f-4c0f-af50-1452ec638092"
      },
      "outputs": [
        {
          "output_type": "stream",
          "name": "stdout",
          "text": [
            "\u001b[90m# A tibble: 2,348 × 14\u001b[39m\n",
            "     age  race   sex relig relpast sexbirth sexnow yearsusa unhappy  educ income\n",
            "   \u001b[3m\u001b[90m<int>\u001b[39m\u001b[23m \u001b[3m\u001b[90m<int>\u001b[39m\u001b[23m \u001b[3m\u001b[90m<int>\u001b[39m\u001b[23m \u001b[3m\u001b[90m<int>\u001b[39m\u001b[23m   \u001b[3m\u001b[90m<int>\u001b[39m\u001b[23m    \u001b[3m\u001b[90m<int>\u001b[39m\u001b[23m  \u001b[3m\u001b[90m<int>\u001b[39m\u001b[23m    \u001b[3m\u001b[90m<int>\u001b[39m\u001b[23m   \u001b[3m\u001b[90m<int>\u001b[39m\u001b[23m \u001b[3m\u001b[90m<int>\u001b[39m\u001b[23m  \u001b[3m\u001b[90m<int>\u001b[39m\u001b[23m\n",
            "\u001b[90m 1\u001b[39m    43     1     1    11       5       \u001b[31mNA\u001b[39m     \u001b[31mNA\u001b[39m       \u001b[31mNA\u001b[39m      \u001b[31mNA\u001b[39m    14     \u001b[31mNA\u001b[39m\n",
            "\u001b[90m 2\u001b[39m    74     1     2     2      \u001b[31mNA\u001b[39m        1      1       \u001b[31mNA\u001b[39m       1    10     12\n",
            "\u001b[90m 3\u001b[39m    42     1     1     4       3        2      2       \u001b[31mNA\u001b[39m      \u001b[31mNA\u001b[39m    16     12\n",
            "\u001b[90m 4\u001b[39m    63     1     2     1      \u001b[31mNA\u001b[39m        1      1       \u001b[31mNA\u001b[39m       2    16     \u001b[31mNA\u001b[39m\n",
            "\u001b[90m 5\u001b[39m    71     2     1     2      \u001b[31mNA\u001b[39m        2      2       \u001b[31mNA\u001b[39m       1    18     \u001b[31mNA\u001b[39m\n",
            "\u001b[90m 6\u001b[39m    67     1     2     2       4       \u001b[31mNA\u001b[39m     \u001b[31mNA\u001b[39m       \u001b[31mNA\u001b[39m      \u001b[31mNA\u001b[39m    16     \u001b[31mNA\u001b[39m\n",
            "\u001b[90m 7\u001b[39m    59     2     2     1      \u001b[31mNA\u001b[39m       \u001b[31mNA\u001b[39m     \u001b[31mNA\u001b[39m       \u001b[31mNA\u001b[39m       2    13     10\n",
            "\u001b[90m 8\u001b[39m    43     1     1     2      \u001b[31mNA\u001b[39m        2      2       \u001b[31mNA\u001b[39m       2    12     12\n",
            "\u001b[90m 9\u001b[39m    62     1     2     4       4        1      1       \u001b[31mNA\u001b[39m      \u001b[31mNA\u001b[39m     8      5\n",
            "\u001b[90m10\u001b[39m    55     1     1     1      \u001b[31mNA\u001b[39m        2      2       \u001b[31mNA\u001b[39m       4    12     12\n",
            "\u001b[90m# … with 2,338 more rows, and 3 more variables: phone <int>, tvhours <int>,\u001b[39m\n",
            "\u001b[90m#   partyid <int>\u001b[39m\n"
          ]
        }
      ],
      "source": [
        "gss18.raw %>% print"
      ]
    },
    {
      "cell_type": "markdown",
      "metadata": {
        "id": "gmL2fG4NTinQ"
      },
      "source": [
        "## Factors\n",
        "Except for `age` and `tvhours`, each of the columns in `gss18.raw` is a categorical random variable. (Recall that a random variable is *categorical* if it takes on one of a (small) number of discrete values.) In R we represent categorical variables using *factors*."
      ]
    },
    {
      "cell_type": "markdown",
      "metadata": {
        "id": "CveCqoDqTinQ"
      },
      "source": [
        "To learn the basics, we'll start with a simple example, before returning to the `gss` data:"
      ]
    },
    {
      "cell_type": "code",
      "execution_count": 4,
      "metadata": {
        "id": "DjHELs-uTinQ"
      },
      "outputs": [],
      "source": [
        "birth_months = c(\"Jan\", \"Feb\", \"Sep\", \"Sep\", \"Dec\", \"Jan\", \"Jul\", \"Aug\")  # categorical variable"
      ]
    },
    {
      "cell_type": "markdown",
      "metadata": {
        "id": "-fwO2gJaTinQ"
      },
      "source": [
        "The *possible* values of a categorical variable are called the *levels*. The levels of `birth_months` are `Jan`, `Feb`, ..., `Dec`. The *actual* values of `birth_months` are just called the values."
      ]
    },
    {
      "cell_type": "markdown",
      "metadata": {
        "id": "37Z8gWRVTinR"
      },
      "source": [
        "*Factors* are the traditional way to represent categorical data in R. To create a factor, we must specify the levels and the values:"
      ]
    },
    {
      "cell_type": "code",
      "execution_count": 5,
      "metadata": {
        "colab": {
          "base_uri": "https://localhost:8080/"
        },
        "id": "HkOOCq_3TinR",
        "outputId": "73944b9a-e5f8-45b0-9e05-fbcd86bf9b7d"
      },
      "outputs": [
        {
          "output_type": "stream",
          "name": "stdout",
          "text": [
            "[1] Jan Feb Sep Sep Dec Jan Jul Aug\n",
            "Levels: Jan Feb Mar Apr May Jun Jul Aug Sep Oct Nov Dec\n"
          ]
        }
      ],
      "source": [
        "birth_months_fac = factor(birth_months, levels=month.abb) %>% print"
      ]
    },
    {
      "cell_type": "markdown",
      "metadata": {
        "id": "QgnKjk97TinR"
      },
      "source": [
        "If you don't specify the levels, R will infer them based on all the observed values of the variable:"
      ]
    },
    {
      "cell_type": "code",
      "execution_count": 6,
      "metadata": {
        "colab": {
          "base_uri": "https://localhost:8080/"
        },
        "id": "yIm7ilWnTinR",
        "outputId": "7aede06c-ea9f-4e12-b255-c45befe398f1"
      },
      "outputs": [
        {
          "output_type": "stream",
          "name": "stdout",
          "text": [
            " Factor w/ 6 levels \"Aug\",\"Dec\",\"Feb\",..: 4 3 6 6 2 4 5 1\n"
          ]
        }
      ],
      "source": [
        "factor(birth_months) %>% str"
      ]
    },
    {
      "cell_type": "markdown",
      "metadata": {
        "id": "Ml5Ab2jMTinR"
      },
      "source": [
        "It's best to be explicit about the factor levels. This way, if you there are typos or data entry errors, you will catch them more easily:"
      ]
    },
    {
      "cell_type": "code",
      "execution_count": 7,
      "metadata": {
        "colab": {
          "base_uri": "https://localhost:8080/",
          "height": 52
        },
        "id": "_o755DGqTinR",
        "outputId": "5f7c48f7-9144-4ec5-ab59-778f4a95dec2"
      },
      "outputs": [
        {
          "output_type": "display_data",
          "data": {
            "text/html": [
              "<style>\n",
              ".list-inline {list-style: none; margin:0; padding: 0}\n",
              ".list-inline>li {display: inline-block}\n",
              ".list-inline>li:not(:last-child)::after {content: \"\\00b7\"; padding: 0 .5ex}\n",
              "</style>\n",
              "<ol class=list-inline><li>Jan</li><li>Feb</li><li>Sep</li><li>&lt;NA&gt;</li><li>Dec</li><li>Jan</li><li>Jul</li><li>Aug</li></ol>\n",
              "\n",
              "<details>\n",
              "\t<summary style=display:list-item;cursor:pointer>\n",
              "\t\t<strong>Levels</strong>:\n",
              "\t</summary>\n",
              "\t<style>\n",
              "\t.list-inline {list-style: none; margin:0; padding: 0}\n",
              "\t.list-inline>li {display: inline-block}\n",
              "\t.list-inline>li:not(:last-child)::after {content: \"\\00b7\"; padding: 0 .5ex}\n",
              "\t</style>\n",
              "\t<ol class=list-inline><li>'Jan'</li><li>'Feb'</li><li>'Mar'</li><li>'Apr'</li><li>'May'</li><li>'Jun'</li><li>'Jul'</li><li>'Aug'</li><li>'Sep'</li><li>'Oct'</li><li>'Nov'</li><li>'Dec'</li></ol>\n",
              "</details>"
            ],
            "text/markdown": "1. Jan\n2. Feb\n3. Sep\n4. &lt;NA&gt;\n5. Dec\n6. Jan\n7. Jul\n8. Aug\n\n\n\n**Levels**: 1. 'Jan'\n2. 'Feb'\n3. 'Mar'\n4. 'Apr'\n5. 'May'\n6. 'Jun'\n7. 'Jul'\n8. 'Aug'\n9. 'Sep'\n10. 'Oct'\n11. 'Nov'\n12. 'Dec'\n\n\n",
            "text/latex": "\\begin{enumerate*}\n\\item Jan\n\\item Feb\n\\item Sep\n\\item <NA>\n\\item Dec\n\\item Jan\n\\item Jul\n\\item Aug\n\\end{enumerate*}\n\n\\emph{Levels}: \\begin{enumerate*}\n\\item 'Jan'\n\\item 'Feb'\n\\item 'Mar'\n\\item 'Apr'\n\\item 'May'\n\\item 'Jun'\n\\item 'Jul'\n\\item 'Aug'\n\\item 'Sep'\n\\item 'Oct'\n\\item 'Nov'\n\\item 'Dec'\n\\end{enumerate*}\n",
            "text/plain": [
              "[1] Jan  Feb  Sep  <NA> Dec  Jan  Jul  Aug \n",
              "Levels: Jan Feb Mar Apr May Jun Jul Aug Sep Oct Nov Dec"
            ]
          },
          "metadata": {}
        }
      ],
      "source": [
        "bad = c(\"Jan\", \"Feb\", \"Sep\", \"Ser\", \"Dec\", \"Jan\", \"Jul\", \"Aug\")\n",
        "#                               ^ note typo\n",
        "# factor(bad)\n",
        "factor(bad, levels=month.abb)"
      ]
    },
    {
      "cell_type": "markdown",
      "metadata": {
        "id": "mE_P-iTXTinR"
      },
      "source": [
        "### Order\n",
        "One advantage of factors is that they can be ordered. This enables them to sort and plot in the way you would expect. Compare:"
      ]
    },
    {
      "cell_type": "code",
      "execution_count": null,
      "metadata": {
        "id": "QDwQZVnUTinR",
        "outputId": "a4e2a761-cb44-47b8-87b5-26f091080aff"
      },
      "outputs": [
        {
          "data": {
            "text/html": [
              "<style>\n",
              ".list-inline {list-style: none; margin:0; padding: 0}\n",
              ".list-inline>li {display: inline-block}\n",
              ".list-inline>li:not(:last-child)::after {content: \"\\00b7\"; padding: 0 .5ex}\n",
              "</style>\n",
              "<ol class=list-inline><li>'Aug'</li><li>'Dec'</li><li>'Feb'</li><li>'Jan'</li><li>'Jan'</li><li>'Jul'</li><li>'Sep'</li><li>'Sep'</li></ol>\n"
            ],
            "text/latex": [
              "\\begin{enumerate*}\n",
              "\\item 'Aug'\n",
              "\\item 'Dec'\n",
              "\\item 'Feb'\n",
              "\\item 'Jan'\n",
              "\\item 'Jan'\n",
              "\\item 'Jul'\n",
              "\\item 'Sep'\n",
              "\\item 'Sep'\n",
              "\\end{enumerate*}\n"
            ],
            "text/markdown": [
              "1. 'Aug'\n",
              "2. 'Dec'\n",
              "3. 'Feb'\n",
              "4. 'Jan'\n",
              "5. 'Jan'\n",
              "6. 'Jul'\n",
              "7. 'Sep'\n",
              "8. 'Sep'\n",
              "\n",
              "\n"
            ],
            "text/plain": [
              "[1] \"Aug\" \"Dec\" \"Feb\" \"Jan\" \"Jan\" \"Jul\" \"Sep\" \"Sep\""
            ]
          },
          "metadata": {},
          "output_type": "display_data"
        }
      ],
      "source": [
        "sort(birth_months)"
      ]
    },
    {
      "cell_type": "code",
      "execution_count": null,
      "metadata": {
        "id": "OeVav630TinR",
        "outputId": "f358d71f-b513-416c-ccd0-97705efaf807"
      },
      "outputs": [
        {
          "data": {
            "text/html": [
              "<style>\n",
              ".list-inline {list-style: none; margin:0; padding: 0}\n",
              ".list-inline>li {display: inline-block}\n",
              ".list-inline>li:not(:last-child)::after {content: \"\\00b7\"; padding: 0 .5ex}\n",
              "</style>\n",
              "<ol class=list-inline><li>Jan</li><li>Jan</li><li>Feb</li><li>Jul</li><li>Aug</li><li>Sep</li><li>Sep</li><li>Dec</li></ol>\n",
              "\n",
              "<details>\n",
              "\t<summary style=display:list-item;cursor:pointer>\n",
              "\t\t<strong>Levels</strong>:\n",
              "\t</summary>\n",
              "\t<style>\n",
              "\t.list-inline {list-style: none; margin:0; padding: 0}\n",
              "\t.list-inline>li {display: inline-block}\n",
              "\t.list-inline>li:not(:last-child)::after {content: \"\\00b7\"; padding: 0 .5ex}\n",
              "\t</style>\n",
              "\t<ol class=list-inline><li>'Jan'</li><li>'Feb'</li><li>'Mar'</li><li>'Apr'</li><li>'May'</li><li>'Jun'</li><li>'Jul'</li><li>'Aug'</li><li>'Sep'</li><li>'Oct'</li><li>'Nov'</li><li>'Dec'</li></ol>\n",
              "</details>"
            ],
            "text/latex": [
              "\\begin{enumerate*}\n",
              "\\item Jan\n",
              "\\item Jan\n",
              "\\item Feb\n",
              "\\item Jul\n",
              "\\item Aug\n",
              "\\item Sep\n",
              "\\item Sep\n",
              "\\item Dec\n",
              "\\end{enumerate*}\n",
              "\n",
              "\\emph{Levels}: \\begin{enumerate*}\n",
              "\\item 'Jan'\n",
              "\\item 'Feb'\n",
              "\\item 'Mar'\n",
              "\\item 'Apr'\n",
              "\\item 'May'\n",
              "\\item 'Jun'\n",
              "\\item 'Jul'\n",
              "\\item 'Aug'\n",
              "\\item 'Sep'\n",
              "\\item 'Oct'\n",
              "\\item 'Nov'\n",
              "\\item 'Dec'\n",
              "\\end{enumerate*}\n"
            ],
            "text/markdown": [
              "1. Jan\n",
              "2. Jan\n",
              "3. Feb\n",
              "4. Jul\n",
              "5. Aug\n",
              "6. Sep\n",
              "7. Sep\n",
              "8. Dec\n",
              "\n",
              "\n",
              "\n",
              "**Levels**: 1. 'Jan'\n",
              "2. 'Feb'\n",
              "3. 'Mar'\n",
              "4. 'Apr'\n",
              "5. 'May'\n",
              "6. 'Jun'\n",
              "7. 'Jul'\n",
              "8. 'Aug'\n",
              "9. 'Sep'\n",
              "10. 'Oct'\n",
              "11. 'Nov'\n",
              "12. 'Dec'\n",
              "\n",
              "\n"
            ],
            "text/plain": [
              "[1] Jan Jan Feb Jul Aug Sep Sep Dec\n",
              "Levels: Jan Feb Mar Apr May Jun Jul Aug Sep Oct Nov Dec"
            ]
          },
          "metadata": {},
          "output_type": "display_data"
        }
      ],
      "source": [
        "sort(birth_months_fac)"
      ]
    },
    {
      "cell_type": "markdown",
      "metadata": {
        "id": "nE0FHxNYTinR"
      },
      "source": [
        "If you specify the factor levels using the `levels=` option, then that will specify the default order. If you do *not* specify the levels, then they will be sorted alphabetically by default:"
      ]
    },
    {
      "cell_type": "code",
      "execution_count": null,
      "metadata": {
        "id": "myy-erlPTinR",
        "outputId": "56f236df-9800-422f-bc9b-251df5103b47"
      },
      "outputs": [
        {
          "data": {
            "text/html": [
              "<style>\n",
              ".list-inline {list-style: none; margin:0; padding: 0}\n",
              ".list-inline>li {display: inline-block}\n",
              ".list-inline>li:not(:last-child)::after {content: \"\\00b7\"; padding: 0 .5ex}\n",
              "</style>\n",
              "<ol class=list-inline><li>'Jan'</li><li>'Feb'</li><li>'Mar'</li><li>'Apr'</li><li>'May'</li><li>'Jun'</li><li>'Jul'</li><li>'Aug'</li><li>'Sep'</li><li>'Oct'</li><li>'Nov'</li><li>'Dec'</li></ol>\n"
            ],
            "text/latex": [
              "\\begin{enumerate*}\n",
              "\\item 'Jan'\n",
              "\\item 'Feb'\n",
              "\\item 'Mar'\n",
              "\\item 'Apr'\n",
              "\\item 'May'\n",
              "\\item 'Jun'\n",
              "\\item 'Jul'\n",
              "\\item 'Aug'\n",
              "\\item 'Sep'\n",
              "\\item 'Oct'\n",
              "\\item 'Nov'\n",
              "\\item 'Dec'\n",
              "\\end{enumerate*}\n"
            ],
            "text/markdown": [
              "1. 'Jan'\n",
              "2. 'Feb'\n",
              "3. 'Mar'\n",
              "4. 'Apr'\n",
              "5. 'May'\n",
              "6. 'Jun'\n",
              "7. 'Jul'\n",
              "8. 'Aug'\n",
              "9. 'Sep'\n",
              "10. 'Oct'\n",
              "11. 'Nov'\n",
              "12. 'Dec'\n",
              "\n",
              "\n"
            ],
            "text/plain": [
              " [1] \"Jan\" \"Feb\" \"Mar\" \"Apr\" \"May\" \"Jun\" \"Jul\" \"Aug\" \"Sep\" \"Oct\" \"Nov\" \"Dec\""
            ]
          },
          "metadata": {},
          "output_type": "display_data"
        }
      ],
      "source": [
        "levels(birth_months_fac)"
      ]
    },
    {
      "cell_type": "code",
      "execution_count": null,
      "metadata": {
        "id": "8cySsor-TinR",
        "outputId": "73ea6ce3-cafe-4a8b-d12d-68fb20bbe4e0"
      },
      "outputs": [
        {
          "data": {
            "text/html": [
              "<style>\n",
              ".list-inline {list-style: none; margin:0; padding: 0}\n",
              ".list-inline>li {display: inline-block}\n",
              ".list-inline>li:not(:last-child)::after {content: \"\\00b7\"; padding: 0 .5ex}\n",
              "</style>\n",
              "<ol class=list-inline><li>'Aug'</li><li>'Dec'</li><li>'Feb'</li><li>'Jan'</li><li>'Jul'</li><li>'Sep'</li></ol>\n"
            ],
            "text/latex": [
              "\\begin{enumerate*}\n",
              "\\item 'Aug'\n",
              "\\item 'Dec'\n",
              "\\item 'Feb'\n",
              "\\item 'Jan'\n",
              "\\item 'Jul'\n",
              "\\item 'Sep'\n",
              "\\end{enumerate*}\n"
            ],
            "text/markdown": [
              "1. 'Aug'\n",
              "2. 'Dec'\n",
              "3. 'Feb'\n",
              "4. 'Jan'\n",
              "5. 'Jul'\n",
              "6. 'Sep'\n",
              "\n",
              "\n"
            ],
            "text/plain": [
              "[1] \"Aug\" \"Dec\" \"Feb\" \"Jan\" \"Jul\" \"Sep\""
            ]
          },
          "metadata": {},
          "output_type": "display_data"
        }
      ],
      "source": [
        "levels(factor(birth_months))"
      ]
    },
    {
      "cell_type": "markdown",
      "metadata": {
        "id": "yaSUbcamTinR"
      },
      "source": [
        "Now, back to `gss18`. Let's focus on the [`race`](https://gssdataexplorer.norc.org/variables/82/vshow) column:"
      ]
    },
    {
      "cell_type": "code",
      "execution_count": null,
      "metadata": {
        "id": "IQ_Eh8wUTinS",
        "outputId": "c655b35a-1cd8-47e7-ef00-877767f2f70f"
      },
      "outputs": [
        {
          "name": "stdout",
          "output_type": "stream",
          "text": [
            "\u001b[90m# A tibble: 2,348 × 1\u001b[39m\n",
            "    race\n",
            "   \u001b[3m\u001b[90m<int>\u001b[39m\u001b[23m\n",
            "\u001b[90m 1\u001b[39m     1\n",
            "\u001b[90m 2\u001b[39m     1\n",
            "\u001b[90m 3\u001b[39m     1\n",
            "\u001b[90m 4\u001b[39m     1\n",
            "\u001b[90m 5\u001b[39m     2\n",
            "\u001b[90m 6\u001b[39m     1\n",
            "\u001b[90m 7\u001b[39m     2\n",
            "\u001b[90m 8\u001b[39m     1\n",
            "\u001b[90m 9\u001b[39m     1\n",
            "\u001b[90m10\u001b[39m     1\n",
            "\u001b[90m# … with 2,338 more rows\u001b[39m\n"
          ]
        }
      ],
      "source": [
        "gss18.raw %>% select(race) %>% print"
      ]
    },
    {
      "cell_type": "markdown",
      "metadata": {
        "id": "2m7mGEKiTinS"
      },
      "source": [
        "These data have been encoded for us into numbers. To get the coding scheme, we can consult the accompanying `gss18.doc` table:"
      ]
    },
    {
      "cell_type": "code",
      "execution_count": 12,
      "metadata": {
        "colab": {
          "base_uri": "https://localhost:8080/",
          "height": 1000
        },
        "id": "XPkGhxI2TinS",
        "outputId": "3e8188a4-f4f8-4237-ef78-6df95a182060"
      },
      "outputs": [
        {
          "output_type": "display_data",
          "data": {
            "text/html": [
              "<table class=\"dataframe\">\n",
              "<caption>A tibble: 2348 × 14</caption>\n",
              "<thead>\n",
              "\t<tr><th scope=col>age</th><th scope=col>race</th><th scope=col>sex</th><th scope=col>relig</th><th scope=col>relpast</th><th scope=col>sexbirth</th><th scope=col>sexnow</th><th scope=col>yearsusa</th><th scope=col>unhappy</th><th scope=col>educ</th><th scope=col>income</th><th scope=col>phone</th><th scope=col>tvhours</th><th scope=col>partyid</th></tr>\n",
              "\t<tr><th scope=col>&lt;int&gt;</th><th scope=col>&lt;fct&gt;</th><th scope=col>&lt;fct&gt;</th><th scope=col>&lt;fct&gt;</th><th scope=col>&lt;fct&gt;</th><th scope=col>&lt;fct&gt;</th><th scope=col>&lt;fct&gt;</th><th scope=col>&lt;fct&gt;</th><th scope=col>&lt;fct&gt;</th><th scope=col>&lt;fct&gt;</th><th scope=col>&lt;fct&gt;</th><th scope=col>&lt;fct&gt;</th><th scope=col>&lt;int&gt;</th><th scope=col>&lt;fct&gt;</th></tr>\n",
              "</thead>\n",
              "<tbody>\n",
              "\t<tr><td>43</td><td>white</td><td>male  </td><td>christian         </td><td>strongly disagree         </td><td>NA    </td><td>NA   </td><td>NA</td><td>NA       </td><td>14</td><td>NA            </td><td>cellphone    </td><td> 3</td><td>not str republican</td></tr>\n",
              "\t<tr><td>74</td><td>white</td><td>female</td><td>catholic          </td><td>NA                        </td><td>female</td><td>women</td><td>NA</td><td>never    </td><td>10</td><td>$25000 or more</td><td>phone in home</td><td>NA</td><td>ind,near dem      </td></tr>\n",
              "\t<tr><td>42</td><td>white</td><td>male  </td><td>none              </td><td>neither agree nor disagree</td><td>male  </td><td>man  </td><td>NA</td><td>NA       </td><td>16</td><td>$25000 or more</td><td>phone in home</td><td> 1</td><td>ind,near rep      </td></tr>\n",
              "\t<tr><td>63</td><td>white</td><td>female</td><td>protestant        </td><td>NA                        </td><td>female</td><td>women</td><td>NA</td><td>rarely   </td><td>16</td><td>NA            </td><td>phone in home</td><td> 1</td><td>ind,near dem      </td></tr>\n",
              "\t<tr><td>71</td><td>black</td><td>male  </td><td>catholic          </td><td>NA                        </td><td>male  </td><td>man  </td><td>NA</td><td>never    </td><td>18</td><td>NA            </td><td>phone in home</td><td>NA</td><td>strong republican </td></tr>\n",
              "\t<tr><td>67</td><td>white</td><td>female</td><td>catholic          </td><td>disagree                  </td><td>NA    </td><td>NA   </td><td>NA</td><td>NA       </td><td>16</td><td>NA            </td><td>phone in home</td><td>10</td><td>ind,near dem      </td></tr>\n",
              "\t<tr><td>59</td><td>black</td><td>female</td><td>protestant        </td><td>NA                        </td><td>NA    </td><td>NA   </td><td>NA</td><td>rarely   </td><td>13</td><td>$15000 - 19999</td><td>cellphone    </td><td>NA</td><td>strong democrat   </td></tr>\n",
              "\t<tr><td>43</td><td>white</td><td>male  </td><td>catholic          </td><td>NA                        </td><td>male  </td><td>man  </td><td>NA</td><td>rarely   </td><td>12</td><td>$25000 or more</td><td>cellphone    </td><td>NA</td><td>not str republican</td></tr>\n",
              "\t<tr><td>62</td><td>white</td><td>female</td><td>none              </td><td>disagree                  </td><td>female</td><td>women</td><td>NA</td><td>NA       </td><td>8 </td><td>$5000 to 5999 </td><td>cellphone    </td><td> 4</td><td>independent       </td></tr>\n",
              "\t<tr><td>55</td><td>white</td><td>male  </td><td>protestant        </td><td>NA                        </td><td>male  </td><td>man  </td><td>NA</td><td>often    </td><td>12</td><td>$25000 or more</td><td>phone in home</td><td> 2</td><td>not str democrat  </td></tr>\n",
              "\t<tr><td>59</td><td>white</td><td>male  </td><td>catholic          </td><td>disagree                  </td><td>NA    </td><td>NA   </td><td>NA</td><td>NA       </td><td>19</td><td>$25000 or more</td><td>cellphone    </td><td> 3</td><td>strong republican </td></tr>\n",
              "\t<tr><td>34</td><td>other</td><td>female</td><td>protestant        </td><td>NA                        </td><td>female</td><td>women</td><td>NA</td><td>sometimes</td><td>14</td><td>$20000 - 24999</td><td>cellphone    </td><td> 3</td><td>not str democrat  </td></tr>\n",
              "\t<tr><td>61</td><td>white</td><td>female</td><td>catholic          </td><td>disagree                  </td><td>NA    </td><td>NA   </td><td>NA</td><td>NA       </td><td>13</td><td>$20000 - 24999</td><td>phone in home</td><td> 8</td><td>not str democrat  </td></tr>\n",
              "\t<tr><td>44</td><td>black</td><td>male  </td><td>catholic          </td><td>NA                        </td><td>male  </td><td>man  </td><td>20</td><td>never    </td><td>16</td><td>$25000 or more</td><td>cellphone    </td><td>NA</td><td>strong democrat   </td></tr>\n",
              "\t<tr><td>41</td><td>black</td><td>female</td><td>none              </td><td>disagree                  </td><td>female</td><td>women</td><td>NA</td><td>NA       </td><td>12</td><td>$1000 to 2999 </td><td>cellphone    </td><td> 8</td><td>ind,near rep      </td></tr>\n",
              "\t<tr><td>75</td><td>white</td><td>female</td><td>catholic          </td><td>disagree                  </td><td>NA    </td><td>NA   </td><td>NA</td><td>NA       </td><td>12</td><td>$25000 or more</td><td>phone in home</td><td> 5</td><td>independent       </td></tr>\n",
              "\t<tr><td>55</td><td>white</td><td>female</td><td>none              </td><td>NA                        </td><td>female</td><td>women</td><td>NA</td><td>rarely   </td><td>16</td><td>$25000 or more</td><td>phone in home</td><td> 3</td><td>ind,near dem      </td></tr>\n",
              "\t<tr><td>30</td><td>white</td><td>female</td><td>moslem/islam      </td><td>neither agree nor disagree</td><td>NA    </td><td>NA   </td><td>6 </td><td>NA       </td><td>16</td><td>NA            </td><td>cellphone    </td><td> 1</td><td>independent       </td></tr>\n",
              "\t<tr><td>40</td><td>white</td><td>female</td><td>protestant        </td><td>NA                        </td><td>female</td><td>women</td><td>NA</td><td>rarely   </td><td>20</td><td>$25000 or more</td><td>phone in home</td><td>NA</td><td>not str democrat  </td></tr>\n",
              "\t<tr><td>30</td><td>white</td><td>male  </td><td>catholic          </td><td>NA                        </td><td>male  </td><td>man  </td><td>15</td><td>rarely   </td><td>18</td><td>NA            </td><td>cellphone    </td><td> 0</td><td>ind,near rep      </td></tr>\n",
              "\t<tr><td>34</td><td>white</td><td>female</td><td>orthodox-christian</td><td>disagree                  </td><td>NA    </td><td>NA   </td><td>14</td><td>NA       </td><td>15</td><td>$25000 or more</td><td>cellphone    </td><td> 1</td><td>not str republican</td></tr>\n",
              "\t<tr><td>29</td><td>other</td><td>female</td><td>protestant        </td><td>NA                        </td><td>female</td><td>women</td><td>NA</td><td>rarely   </td><td>14</td><td>NA            </td><td>cellphone    </td><td>NA</td><td>not str republican</td></tr>\n",
              "\t<tr><td>40</td><td>white</td><td>female</td><td>catholic          </td><td>disagree                  </td><td>female</td><td>women</td><td>NA</td><td>NA       </td><td>14</td><td>$25000 or more</td><td>cellphone    </td><td> 5</td><td>ind,near dem      </td></tr>\n",
              "\t<tr><td>37</td><td>white</td><td>male  </td><td>buddhism          </td><td>disagree                  </td><td>NA    </td><td>NA   </td><td>NA</td><td>NA       </td><td>12</td><td>$25000 or more</td><td>cellphone    </td><td> 1</td><td>strong democrat   </td></tr>\n",
              "\t<tr><td>56</td><td>white</td><td>female</td><td>protestant        </td><td>strongly disagree         </td><td>NA    </td><td>NA   </td><td>NA</td><td>NA       </td><td>16</td><td>$25000 or more</td><td>cellphone    </td><td> 2</td><td>not str republican</td></tr>\n",
              "\t<tr><td>82</td><td>white</td><td>male  </td><td>catholic          </td><td>NA                        </td><td>NA    </td><td>NA   </td><td>60</td><td>sometimes</td><td>8 </td><td>$25000 or more</td><td>refused      </td><td>NA</td><td>not str republican</td></tr>\n",
              "\t<tr><td>68</td><td>white</td><td>female</td><td>catholic          </td><td>neither agree nor disagree</td><td>NA    </td><td>NA   </td><td>NA</td><td>NA       </td><td>12</td><td>$25000 or more</td><td>cellphone    </td><td> 2</td><td>not str democrat  </td></tr>\n",
              "\t<tr><td>42</td><td>black</td><td>female</td><td>protestant        </td><td>NA                        </td><td>NA    </td><td>NA   </td><td>NA</td><td>never    </td><td>9 </td><td>$10000 - 14999</td><td>phone in home</td><td>NA</td><td>not str democrat  </td></tr>\n",
              "\t<tr><td>40</td><td>white</td><td>female</td><td>catholic          </td><td>disagree                  </td><td>female</td><td>women</td><td>NA</td><td>NA       </td><td>12</td><td>$25000 or more</td><td>phone in home</td><td> 3</td><td>strong republican </td></tr>\n",
              "\t<tr><td>20</td><td>white</td><td>male  </td><td>catholic          </td><td>NA                        </td><td>male  </td><td>man  </td><td>NA</td><td>never    </td><td>14</td><td>$25000 or more</td><td>cellphone    </td><td>NA</td><td>ind,near rep      </td></tr>\n",
              "\t<tr><td>⋮</td><td>⋮</td><td>⋮</td><td>⋮</td><td>⋮</td><td>⋮</td><td>⋮</td><td>⋮</td><td>⋮</td><td>⋮</td><td>⋮</td><td>⋮</td><td>⋮</td><td>⋮</td></tr>\n",
              "\t<tr><td>52</td><td>white</td><td>female</td><td>none      </td><td>NA                        </td><td>female</td><td>women</td><td>NA</td><td>very often</td><td>12</td><td>$25000 or more</td><td>cellphone    </td><td>NA</td><td>independent       </td></tr>\n",
              "\t<tr><td>68</td><td>black</td><td>male  </td><td>none      </td><td>NA                        </td><td>male  </td><td>man  </td><td>NA</td><td>never     </td><td>10</td><td>NA            </td><td>refused      </td><td> 4</td><td>strong democrat   </td></tr>\n",
              "\t<tr><td>67</td><td>black</td><td>male  </td><td>protestant</td><td>disagree                  </td><td>NA    </td><td>NA   </td><td>NA</td><td>NA        </td><td>12</td><td>$25000 or more</td><td>phone in home</td><td> 4</td><td>independent       </td></tr>\n",
              "\t<tr><td>53</td><td>white</td><td>male  </td><td>protestant</td><td>NA                        </td><td>male  </td><td>man  </td><td>NA</td><td>sometimes </td><td>15</td><td>$25000 or more</td><td>phone in home</td><td>NA</td><td>not str republican</td></tr>\n",
              "\t<tr><td>43</td><td>white</td><td>female</td><td>protestant</td><td>NA                        </td><td>female</td><td>women</td><td>NA</td><td>never     </td><td>14</td><td>$25000 or more</td><td>cellphone    </td><td> 0</td><td>not str republican</td></tr>\n",
              "\t<tr><td>38</td><td>white</td><td>female</td><td>other     </td><td>disagree                  </td><td>female</td><td>women</td><td>NA</td><td>NA        </td><td>16</td><td>$25000 or more</td><td>phone in home</td><td> 0</td><td>ind,near dem      </td></tr>\n",
              "\t<tr><td>68</td><td>white</td><td>female</td><td>none      </td><td>neither agree nor disagree</td><td>NA    </td><td>NA   </td><td>NA</td><td>NA        </td><td>12</td><td>NA            </td><td>phone in home</td><td> 5</td><td>independent       </td></tr>\n",
              "\t<tr><td>57</td><td>white</td><td>female</td><td>protestant</td><td>strongly disagree         </td><td>NA    </td><td>NA   </td><td>NA</td><td>NA        </td><td>16</td><td>$25000 or more</td><td>cellphone    </td><td> 1</td><td>ind,near dem      </td></tr>\n",
              "\t<tr><td>39</td><td>white</td><td>male  </td><td>none      </td><td>NA                        </td><td>female</td><td>man  </td><td>NA</td><td>sometimes </td><td>12</td><td>$25000 or more</td><td>cellphone    </td><td>NA</td><td>ind,near rep      </td></tr>\n",
              "\t<tr><td>66</td><td>white</td><td>male  </td><td>none      </td><td>NA                        </td><td>male  </td><td>man  </td><td>NA</td><td>sometimes </td><td>16</td><td>$1000 to 2999 </td><td>phone in home</td><td> 2</td><td>ind,near dem      </td></tr>\n",
              "\t<tr><td>74</td><td>white</td><td>male  </td><td>protestant</td><td>NA                        </td><td>male  </td><td>man  </td><td>NA</td><td>never     </td><td>17</td><td>$25000 or more</td><td>phone in home</td><td>NA</td><td>strong republican </td></tr>\n",
              "\t<tr><td>39</td><td>white</td><td>female</td><td>none      </td><td>agree                     </td><td>female</td><td>women</td><td>NA</td><td>NA        </td><td>14</td><td>$25000 or more</td><td>cellphone    </td><td> 2</td><td>ind,near dem      </td></tr>\n",
              "\t<tr><td>50</td><td>white</td><td>male  </td><td>protestant</td><td>NA                        </td><td>male  </td><td>man  </td><td>NA</td><td>never     </td><td>14</td><td>$25000 or more</td><td>cellphone    </td><td> 1</td><td>ind,near dem      </td></tr>\n",
              "\t<tr><td>74</td><td>white</td><td>female</td><td>protestant</td><td>strongly disagree         </td><td>female</td><td>women</td><td>NA</td><td>NA        </td><td>12</td><td>$20000 - 24999</td><td>phone in home</td><td> 3</td><td>ind,near dem      </td></tr>\n",
              "\t<tr><td>35</td><td>white</td><td>female</td><td>protestant</td><td>NA                        </td><td>female</td><td>women</td><td>NA</td><td>never     </td><td>17</td><td>NA            </td><td>cellphone    </td><td>NA</td><td>ind,near dem      </td></tr>\n",
              "\t<tr><td>76</td><td>white</td><td>male  </td><td>protestant</td><td>neither agree nor disagree</td><td>NA    </td><td>NA   </td><td>NA</td><td>NA        </td><td>20</td><td>$25000 or more</td><td>phone in home</td><td> 2</td><td>ind,near dem      </td></tr>\n",
              "\t<tr><td>65</td><td>white</td><td>female</td><td>none      </td><td>NA                        </td><td>female</td><td>women</td><td>NA</td><td>never     </td><td>18</td><td>$25000 or more</td><td>cellphone    </td><td>NA</td><td>ind,near dem      </td></tr>\n",
              "\t<tr><td>54</td><td>white</td><td>female</td><td>none      </td><td>disagree                  </td><td>NA    </td><td>NA   </td><td>NA</td><td>NA        </td><td>18</td><td>$25000 or more</td><td>cellphone    </td><td> 2</td><td>ind,near dem      </td></tr>\n",
              "\t<tr><td>25</td><td>white</td><td>female</td><td>catholic  </td><td>NA                        </td><td>female</td><td>women</td><td>NA</td><td>rarely    </td><td>16</td><td>$25000 or more</td><td>cellphone    </td><td> 2</td><td>ind,near rep      </td></tr>\n",
              "\t<tr><td>87</td><td>white</td><td>female</td><td>protestant</td><td>NA                        </td><td>female</td><td>women</td><td>NA</td><td>rarely    </td><td>12</td><td>NA            </td><td>phone in home</td><td>NA</td><td>strong republican </td></tr>\n",
              "\t<tr><td>46</td><td>white</td><td>female</td><td>protestant</td><td>NA                        </td><td>female</td><td>women</td><td>NA</td><td>sometimes </td><td>12</td><td>$15000 - 19999</td><td>cellphone    </td><td>NA</td><td>strong republican </td></tr>\n",
              "\t<tr><td>29</td><td>white</td><td>female</td><td>other     </td><td>agree                     </td><td>NA    </td><td>NA   </td><td>NA</td><td>NA        </td><td>14</td><td>$25000 or more</td><td>phone in home</td><td> 1</td><td>independent       </td></tr>\n",
              "\t<tr><td>89</td><td>white</td><td>male  </td><td>protestant</td><td>NA                        </td><td>NA    </td><td>NA   </td><td>NA</td><td>NA        </td><td>8 </td><td>NA            </td><td>refused      </td><td> 2</td><td>ind,near rep      </td></tr>\n",
              "\t<tr><td>68</td><td>white</td><td>female</td><td>none      </td><td>disagree                  </td><td>NA    </td><td>NA   </td><td>NA</td><td>NA        </td><td>14</td><td>$8000 to 9999 </td><td>phone in home</td><td> 5</td><td>strong republican </td></tr>\n",
              "\t<tr><td>19</td><td>white</td><td>male  </td><td>none      </td><td>NA                        </td><td>male  </td><td>man  </td><td>NA</td><td>never     </td><td>12</td><td>$15000 - 19999</td><td>cellphone    </td><td>NA</td><td>not str republican</td></tr>\n",
              "\t<tr><td>37</td><td>white</td><td>female</td><td>protestant</td><td>strongly disagree         </td><td>NA    </td><td>NA   </td><td>NA</td><td>NA        </td><td>12</td><td>NA            </td><td>cellphone    </td><td> 2</td><td>independent       </td></tr>\n",
              "\t<tr><td>75</td><td>white</td><td>female</td><td>protestant</td><td>neither agree nor disagree</td><td>NA    </td><td>NA   </td><td>NA</td><td>NA        </td><td>12</td><td>$25000 or more</td><td>phone in home</td><td> 6</td><td>not str republican</td></tr>\n",
              "\t<tr><td>67</td><td>white</td><td>female</td><td>jewish    </td><td>NA                        </td><td>female</td><td>women</td><td>NA</td><td>never     </td><td>12</td><td>$25000 or more</td><td>phone in home</td><td>NA</td><td>independent       </td></tr>\n",
              "\t<tr><td>72</td><td>white</td><td>male  </td><td>protestant</td><td>disagree                  </td><td>male  </td><td>man  </td><td>NA</td><td>NA        </td><td>16</td><td>$25000 or more</td><td>cellphone    </td><td> 1</td><td>ind,near rep      </td></tr>\n",
              "\t<tr><td>79</td><td>white</td><td>female</td><td>catholic  </td><td>disagree                  </td><td>NA    </td><td>NA   </td><td>NA</td><td>NA        </td><td>12</td><td>NA            </td><td>phone in home</td><td> 1</td><td>independent       </td></tr>\n",
              "</tbody>\n",
              "</table>\n"
            ],
            "text/markdown": "\nA tibble: 2348 × 14\n\n| age &lt;int&gt; | race &lt;fct&gt; | sex &lt;fct&gt; | relig &lt;fct&gt; | relpast &lt;fct&gt; | sexbirth &lt;fct&gt; | sexnow &lt;fct&gt; | yearsusa &lt;fct&gt; | unhappy &lt;fct&gt; | educ &lt;fct&gt; | income &lt;fct&gt; | phone &lt;fct&gt; | tvhours &lt;int&gt; | partyid &lt;fct&gt; |\n|---|---|---|---|---|---|---|---|---|---|---|---|---|---|\n| 43 | white | male   | christian          | strongly disagree          | NA     | NA    | NA | NA        | 14 | NA             | cellphone     |  3 | not str republican |\n| 74 | white | female | catholic           | NA                         | female | women | NA | never     | 10 | $25000 or more | phone in home | NA | ind,near dem       |\n| 42 | white | male   | none               | neither agree nor disagree | male   | man   | NA | NA        | 16 | $25000 or more | phone in home |  1 | ind,near rep       |\n| 63 | white | female | protestant         | NA                         | female | women | NA | rarely    | 16 | NA             | phone in home |  1 | ind,near dem       |\n| 71 | black | male   | catholic           | NA                         | male   | man   | NA | never     | 18 | NA             | phone in home | NA | strong republican  |\n| 67 | white | female | catholic           | disagree                   | NA     | NA    | NA | NA        | 16 | NA             | phone in home | 10 | ind,near dem       |\n| 59 | black | female | protestant         | NA                         | NA     | NA    | NA | rarely    | 13 | $15000 - 19999 | cellphone     | NA | strong democrat    |\n| 43 | white | male   | catholic           | NA                         | male   | man   | NA | rarely    | 12 | $25000 or more | cellphone     | NA | not str republican |\n| 62 | white | female | none               | disagree                   | female | women | NA | NA        | 8  | $5000 to 5999  | cellphone     |  4 | independent        |\n| 55 | white | male   | protestant         | NA                         | male   | man   | NA | often     | 12 | $25000 or more | phone in home |  2 | not str democrat   |\n| 59 | white | male   | catholic           | disagree                   | NA     | NA    | NA | NA        | 19 | $25000 or more | cellphone     |  3 | strong republican  |\n| 34 | other | female | protestant         | NA                         | female | women | NA | sometimes | 14 | $20000 - 24999 | cellphone     |  3 | not str democrat   |\n| 61 | white | female | catholic           | disagree                   | NA     | NA    | NA | NA        | 13 | $20000 - 24999 | phone in home |  8 | not str democrat   |\n| 44 | black | male   | catholic           | NA                         | male   | man   | 20 | never     | 16 | $25000 or more | cellphone     | NA | strong democrat    |\n| 41 | black | female | none               | disagree                   | female | women | NA | NA        | 12 | $1000 to 2999  | cellphone     |  8 | ind,near rep       |\n| 75 | white | female | catholic           | disagree                   | NA     | NA    | NA | NA        | 12 | $25000 or more | phone in home |  5 | independent        |\n| 55 | white | female | none               | NA                         | female | women | NA | rarely    | 16 | $25000 or more | phone in home |  3 | ind,near dem       |\n| 30 | white | female | moslem/islam       | neither agree nor disagree | NA     | NA    | 6  | NA        | 16 | NA             | cellphone     |  1 | independent        |\n| 40 | white | female | protestant         | NA                         | female | women | NA | rarely    | 20 | $25000 or more | phone in home | NA | not str democrat   |\n| 30 | white | male   | catholic           | NA                         | male   | man   | 15 | rarely    | 18 | NA             | cellphone     |  0 | ind,near rep       |\n| 34 | white | female | orthodox-christian | disagree                   | NA     | NA    | 14 | NA        | 15 | $25000 or more | cellphone     |  1 | not str republican |\n| 29 | other | female | protestant         | NA                         | female | women | NA | rarely    | 14 | NA             | cellphone     | NA | not str republican |\n| 40 | white | female | catholic           | disagree                   | female | women | NA | NA        | 14 | $25000 or more | cellphone     |  5 | ind,near dem       |\n| 37 | white | male   | buddhism           | disagree                   | NA     | NA    | NA | NA        | 12 | $25000 or more | cellphone     |  1 | strong democrat    |\n| 56 | white | female | protestant         | strongly disagree          | NA     | NA    | NA | NA        | 16 | $25000 or more | cellphone     |  2 | not str republican |\n| 82 | white | male   | catholic           | NA                         | NA     | NA    | 60 | sometimes | 8  | $25000 or more | refused       | NA | not str republican |\n| 68 | white | female | catholic           | neither agree nor disagree | NA     | NA    | NA | NA        | 12 | $25000 or more | cellphone     |  2 | not str democrat   |\n| 42 | black | female | protestant         | NA                         | NA     | NA    | NA | never     | 9  | $10000 - 14999 | phone in home | NA | not str democrat   |\n| 40 | white | female | catholic           | disagree                   | female | women | NA | NA        | 12 | $25000 or more | phone in home |  3 | strong republican  |\n| 20 | white | male   | catholic           | NA                         | male   | man   | NA | never     | 14 | $25000 or more | cellphone     | NA | ind,near rep       |\n| ⋮ | ⋮ | ⋮ | ⋮ | ⋮ | ⋮ | ⋮ | ⋮ | ⋮ | ⋮ | ⋮ | ⋮ | ⋮ | ⋮ |\n| 52 | white | female | none       | NA                         | female | women | NA | very often | 12 | $25000 or more | cellphone     | NA | independent        |\n| 68 | black | male   | none       | NA                         | male   | man   | NA | never      | 10 | NA             | refused       |  4 | strong democrat    |\n| 67 | black | male   | protestant | disagree                   | NA     | NA    | NA | NA         | 12 | $25000 or more | phone in home |  4 | independent        |\n| 53 | white | male   | protestant | NA                         | male   | man   | NA | sometimes  | 15 | $25000 or more | phone in home | NA | not str republican |\n| 43 | white | female | protestant | NA                         | female | women | NA | never      | 14 | $25000 or more | cellphone     |  0 | not str republican |\n| 38 | white | female | other      | disagree                   | female | women | NA | NA         | 16 | $25000 or more | phone in home |  0 | ind,near dem       |\n| 68 | white | female | none       | neither agree nor disagree | NA     | NA    | NA | NA         | 12 | NA             | phone in home |  5 | independent        |\n| 57 | white | female | protestant | strongly disagree          | NA     | NA    | NA | NA         | 16 | $25000 or more | cellphone     |  1 | ind,near dem       |\n| 39 | white | male   | none       | NA                         | female | man   | NA | sometimes  | 12 | $25000 or more | cellphone     | NA | ind,near rep       |\n| 66 | white | male   | none       | NA                         | male   | man   | NA | sometimes  | 16 | $1000 to 2999  | phone in home |  2 | ind,near dem       |\n| 74 | white | male   | protestant | NA                         | male   | man   | NA | never      | 17 | $25000 or more | phone in home | NA | strong republican  |\n| 39 | white | female | none       | agree                      | female | women | NA | NA         | 14 | $25000 or more | cellphone     |  2 | ind,near dem       |\n| 50 | white | male   | protestant | NA                         | male   | man   | NA | never      | 14 | $25000 or more | cellphone     |  1 | ind,near dem       |\n| 74 | white | female | protestant | strongly disagree          | female | women | NA | NA         | 12 | $20000 - 24999 | phone in home |  3 | ind,near dem       |\n| 35 | white | female | protestant | NA                         | female | women | NA | never      | 17 | NA             | cellphone     | NA | ind,near dem       |\n| 76 | white | male   | protestant | neither agree nor disagree | NA     | NA    | NA | NA         | 20 | $25000 or more | phone in home |  2 | ind,near dem       |\n| 65 | white | female | none       | NA                         | female | women | NA | never      | 18 | $25000 or more | cellphone     | NA | ind,near dem       |\n| 54 | white | female | none       | disagree                   | NA     | NA    | NA | NA         | 18 | $25000 or more | cellphone     |  2 | ind,near dem       |\n| 25 | white | female | catholic   | NA                         | female | women | NA | rarely     | 16 | $25000 or more | cellphone     |  2 | ind,near rep       |\n| 87 | white | female | protestant | NA                         | female | women | NA | rarely     | 12 | NA             | phone in home | NA | strong republican  |\n| 46 | white | female | protestant | NA                         | female | women | NA | sometimes  | 12 | $15000 - 19999 | cellphone     | NA | strong republican  |\n| 29 | white | female | other      | agree                      | NA     | NA    | NA | NA         | 14 | $25000 or more | phone in home |  1 | independent        |\n| 89 | white | male   | protestant | NA                         | NA     | NA    | NA | NA         | 8  | NA             | refused       |  2 | ind,near rep       |\n| 68 | white | female | none       | disagree                   | NA     | NA    | NA | NA         | 14 | $8000 to 9999  | phone in home |  5 | strong republican  |\n| 19 | white | male   | none       | NA                         | male   | man   | NA | never      | 12 | $15000 - 19999 | cellphone     | NA | not str republican |\n| 37 | white | female | protestant | strongly disagree          | NA     | NA    | NA | NA         | 12 | NA             | cellphone     |  2 | independent        |\n| 75 | white | female | protestant | neither agree nor disagree | NA     | NA    | NA | NA         | 12 | $25000 or more | phone in home |  6 | not str republican |\n| 67 | white | female | jewish     | NA                         | female | women | NA | never      | 12 | $25000 or more | phone in home | NA | independent        |\n| 72 | white | male   | protestant | disagree                   | male   | man   | NA | NA         | 16 | $25000 or more | cellphone     |  1 | ind,near rep       |\n| 79 | white | female | catholic   | disagree                   | NA     | NA    | NA | NA         | 12 | NA             | phone in home |  1 | independent        |\n\n",
            "text/latex": "A tibble: 2348 × 14\n\\begin{tabular}{llllllllllllll}\n age & race & sex & relig & relpast & sexbirth & sexnow & yearsusa & unhappy & educ & income & phone & tvhours & partyid\\\\\n <int> & <fct> & <fct> & <fct> & <fct> & <fct> & <fct> & <fct> & <fct> & <fct> & <fct> & <fct> & <int> & <fct>\\\\\n\\hline\n\t 43 & white & male   & christian          & strongly disagree          & NA     & NA    & NA & NA        & 14 & NA             & cellphone     &  3 & not str republican\\\\\n\t 74 & white & female & catholic           & NA                         & female & women & NA & never     & 10 & \\$25000 or more & phone in home & NA & ind,near dem      \\\\\n\t 42 & white & male   & none               & neither agree nor disagree & male   & man   & NA & NA        & 16 & \\$25000 or more & phone in home &  1 & ind,near rep      \\\\\n\t 63 & white & female & protestant         & NA                         & female & women & NA & rarely    & 16 & NA             & phone in home &  1 & ind,near dem      \\\\\n\t 71 & black & male   & catholic           & NA                         & male   & man   & NA & never     & 18 & NA             & phone in home & NA & strong republican \\\\\n\t 67 & white & female & catholic           & disagree                   & NA     & NA    & NA & NA        & 16 & NA             & phone in home & 10 & ind,near dem      \\\\\n\t 59 & black & female & protestant         & NA                         & NA     & NA    & NA & rarely    & 13 & \\$15000 - 19999 & cellphone     & NA & strong democrat   \\\\\n\t 43 & white & male   & catholic           & NA                         & male   & man   & NA & rarely    & 12 & \\$25000 or more & cellphone     & NA & not str republican\\\\\n\t 62 & white & female & none               & disagree                   & female & women & NA & NA        & 8  & \\$5000 to 5999  & cellphone     &  4 & independent       \\\\\n\t 55 & white & male   & protestant         & NA                         & male   & man   & NA & often     & 12 & \\$25000 or more & phone in home &  2 & not str democrat  \\\\\n\t 59 & white & male   & catholic           & disagree                   & NA     & NA    & NA & NA        & 19 & \\$25000 or more & cellphone     &  3 & strong republican \\\\\n\t 34 & other & female & protestant         & NA                         & female & women & NA & sometimes & 14 & \\$20000 - 24999 & cellphone     &  3 & not str democrat  \\\\\n\t 61 & white & female & catholic           & disagree                   & NA     & NA    & NA & NA        & 13 & \\$20000 - 24999 & phone in home &  8 & not str democrat  \\\\\n\t 44 & black & male   & catholic           & NA                         & male   & man   & 20 & never     & 16 & \\$25000 or more & cellphone     & NA & strong democrat   \\\\\n\t 41 & black & female & none               & disagree                   & female & women & NA & NA        & 12 & \\$1000 to 2999  & cellphone     &  8 & ind,near rep      \\\\\n\t 75 & white & female & catholic           & disagree                   & NA     & NA    & NA & NA        & 12 & \\$25000 or more & phone in home &  5 & independent       \\\\\n\t 55 & white & female & none               & NA                         & female & women & NA & rarely    & 16 & \\$25000 or more & phone in home &  3 & ind,near dem      \\\\\n\t 30 & white & female & moslem/islam       & neither agree nor disagree & NA     & NA    & 6  & NA        & 16 & NA             & cellphone     &  1 & independent       \\\\\n\t 40 & white & female & protestant         & NA                         & female & women & NA & rarely    & 20 & \\$25000 or more & phone in home & NA & not str democrat  \\\\\n\t 30 & white & male   & catholic           & NA                         & male   & man   & 15 & rarely    & 18 & NA             & cellphone     &  0 & ind,near rep      \\\\\n\t 34 & white & female & orthodox-christian & disagree                   & NA     & NA    & 14 & NA        & 15 & \\$25000 or more & cellphone     &  1 & not str republican\\\\\n\t 29 & other & female & protestant         & NA                         & female & women & NA & rarely    & 14 & NA             & cellphone     & NA & not str republican\\\\\n\t 40 & white & female & catholic           & disagree                   & female & women & NA & NA        & 14 & \\$25000 or more & cellphone     &  5 & ind,near dem      \\\\\n\t 37 & white & male   & buddhism           & disagree                   & NA     & NA    & NA & NA        & 12 & \\$25000 or more & cellphone     &  1 & strong democrat   \\\\\n\t 56 & white & female & protestant         & strongly disagree          & NA     & NA    & NA & NA        & 16 & \\$25000 or more & cellphone     &  2 & not str republican\\\\\n\t 82 & white & male   & catholic           & NA                         & NA     & NA    & 60 & sometimes & 8  & \\$25000 or more & refused       & NA & not str republican\\\\\n\t 68 & white & female & catholic           & neither agree nor disagree & NA     & NA    & NA & NA        & 12 & \\$25000 or more & cellphone     &  2 & not str democrat  \\\\\n\t 42 & black & female & protestant         & NA                         & NA     & NA    & NA & never     & 9  & \\$10000 - 14999 & phone in home & NA & not str democrat  \\\\\n\t 40 & white & female & catholic           & disagree                   & female & women & NA & NA        & 12 & \\$25000 or more & phone in home &  3 & strong republican \\\\\n\t 20 & white & male   & catholic           & NA                         & male   & man   & NA & never     & 14 & \\$25000 or more & cellphone     & NA & ind,near rep      \\\\\n\t ⋮ & ⋮ & ⋮ & ⋮ & ⋮ & ⋮ & ⋮ & ⋮ & ⋮ & ⋮ & ⋮ & ⋮ & ⋮ & ⋮\\\\\n\t 52 & white & female & none       & NA                         & female & women & NA & very often & 12 & \\$25000 or more & cellphone     & NA & independent       \\\\\n\t 68 & black & male   & none       & NA                         & male   & man   & NA & never      & 10 & NA             & refused       &  4 & strong democrat   \\\\\n\t 67 & black & male   & protestant & disagree                   & NA     & NA    & NA & NA         & 12 & \\$25000 or more & phone in home &  4 & independent       \\\\\n\t 53 & white & male   & protestant & NA                         & male   & man   & NA & sometimes  & 15 & \\$25000 or more & phone in home & NA & not str republican\\\\\n\t 43 & white & female & protestant & NA                         & female & women & NA & never      & 14 & \\$25000 or more & cellphone     &  0 & not str republican\\\\\n\t 38 & white & female & other      & disagree                   & female & women & NA & NA         & 16 & \\$25000 or more & phone in home &  0 & ind,near dem      \\\\\n\t 68 & white & female & none       & neither agree nor disagree & NA     & NA    & NA & NA         & 12 & NA             & phone in home &  5 & independent       \\\\\n\t 57 & white & female & protestant & strongly disagree          & NA     & NA    & NA & NA         & 16 & \\$25000 or more & cellphone     &  1 & ind,near dem      \\\\\n\t 39 & white & male   & none       & NA                         & female & man   & NA & sometimes  & 12 & \\$25000 or more & cellphone     & NA & ind,near rep      \\\\\n\t 66 & white & male   & none       & NA                         & male   & man   & NA & sometimes  & 16 & \\$1000 to 2999  & phone in home &  2 & ind,near dem      \\\\\n\t 74 & white & male   & protestant & NA                         & male   & man   & NA & never      & 17 & \\$25000 or more & phone in home & NA & strong republican \\\\\n\t 39 & white & female & none       & agree                      & female & women & NA & NA         & 14 & \\$25000 or more & cellphone     &  2 & ind,near dem      \\\\\n\t 50 & white & male   & protestant & NA                         & male   & man   & NA & never      & 14 & \\$25000 or more & cellphone     &  1 & ind,near dem      \\\\\n\t 74 & white & female & protestant & strongly disagree          & female & women & NA & NA         & 12 & \\$20000 - 24999 & phone in home &  3 & ind,near dem      \\\\\n\t 35 & white & female & protestant & NA                         & female & women & NA & never      & 17 & NA             & cellphone     & NA & ind,near dem      \\\\\n\t 76 & white & male   & protestant & neither agree nor disagree & NA     & NA    & NA & NA         & 20 & \\$25000 or more & phone in home &  2 & ind,near dem      \\\\\n\t 65 & white & female & none       & NA                         & female & women & NA & never      & 18 & \\$25000 or more & cellphone     & NA & ind,near dem      \\\\\n\t 54 & white & female & none       & disagree                   & NA     & NA    & NA & NA         & 18 & \\$25000 or more & cellphone     &  2 & ind,near dem      \\\\\n\t 25 & white & female & catholic   & NA                         & female & women & NA & rarely     & 16 & \\$25000 or more & cellphone     &  2 & ind,near rep      \\\\\n\t 87 & white & female & protestant & NA                         & female & women & NA & rarely     & 12 & NA             & phone in home & NA & strong republican \\\\\n\t 46 & white & female & protestant & NA                         & female & women & NA & sometimes  & 12 & \\$15000 - 19999 & cellphone     & NA & strong republican \\\\\n\t 29 & white & female & other      & agree                      & NA     & NA    & NA & NA         & 14 & \\$25000 or more & phone in home &  1 & independent       \\\\\n\t 89 & white & male   & protestant & NA                         & NA     & NA    & NA & NA         & 8  & NA             & refused       &  2 & ind,near rep      \\\\\n\t 68 & white & female & none       & disagree                   & NA     & NA    & NA & NA         & 14 & \\$8000 to 9999  & phone in home &  5 & strong republican \\\\\n\t 19 & white & male   & none       & NA                         & male   & man   & NA & never      & 12 & \\$15000 - 19999 & cellphone     & NA & not str republican\\\\\n\t 37 & white & female & protestant & strongly disagree          & NA     & NA    & NA & NA         & 12 & NA             & cellphone     &  2 & independent       \\\\\n\t 75 & white & female & protestant & neither agree nor disagree & NA     & NA    & NA & NA         & 12 & \\$25000 or more & phone in home &  6 & not str republican\\\\\n\t 67 & white & female & jewish     & NA                         & female & women & NA & never      & 12 & \\$25000 or more & phone in home & NA & independent       \\\\\n\t 72 & white & male   & protestant & disagree                   & male   & man   & NA & NA         & 16 & \\$25000 or more & cellphone     &  1 & ind,near rep      \\\\\n\t 79 & white & female & catholic   & disagree                   & NA     & NA    & NA & NA         & 12 & NA             & phone in home &  1 & independent       \\\\\n\\end{tabular}\n",
            "text/plain": [
              "     age race  sex    relig              relpast                    sexbirth\n",
              "1    43  white male   christian          strongly disagree          NA      \n",
              "2    74  white female catholic           NA                         female  \n",
              "3    42  white male   none               neither agree nor disagree male    \n",
              "4    63  white female protestant         NA                         female  \n",
              "5    71  black male   catholic           NA                         male    \n",
              "6    67  white female catholic           disagree                   NA      \n",
              "7    59  black female protestant         NA                         NA      \n",
              "8    43  white male   catholic           NA                         male    \n",
              "9    62  white female none               disagree                   female  \n",
              "10   55  white male   protestant         NA                         male    \n",
              "11   59  white male   catholic           disagree                   NA      \n",
              "12   34  other female protestant         NA                         female  \n",
              "13   61  white female catholic           disagree                   NA      \n",
              "14   44  black male   catholic           NA                         male    \n",
              "15   41  black female none               disagree                   female  \n",
              "16   75  white female catholic           disagree                   NA      \n",
              "17   55  white female none               NA                         female  \n",
              "18   30  white female moslem/islam       neither agree nor disagree NA      \n",
              "19   40  white female protestant         NA                         female  \n",
              "20   30  white male   catholic           NA                         male    \n",
              "21   34  white female orthodox-christian disagree                   NA      \n",
              "22   29  other female protestant         NA                         female  \n",
              "23   40  white female catholic           disagree                   female  \n",
              "24   37  white male   buddhism           disagree                   NA      \n",
              "25   56  white female protestant         strongly disagree          NA      \n",
              "26   82  white male   catholic           NA                         NA      \n",
              "27   68  white female catholic           neither agree nor disagree NA      \n",
              "28   42  black female protestant         NA                         NA      \n",
              "29   40  white female catholic           disagree                   female  \n",
              "30   20  white male   catholic           NA                         male    \n",
              "⋮    ⋮   ⋮     ⋮      ⋮                  ⋮                          ⋮       \n",
              "2319 52  white female none               NA                         female  \n",
              "2320 68  black male   none               NA                         male    \n",
              "2321 67  black male   protestant         disagree                   NA      \n",
              "2322 53  white male   protestant         NA                         male    \n",
              "2323 43  white female protestant         NA                         female  \n",
              "2324 38  white female other              disagree                   female  \n",
              "2325 68  white female none               neither agree nor disagree NA      \n",
              "2326 57  white female protestant         strongly disagree          NA      \n",
              "2327 39  white male   none               NA                         female  \n",
              "2328 66  white male   none               NA                         male    \n",
              "2329 74  white male   protestant         NA                         male    \n",
              "2330 39  white female none               agree                      female  \n",
              "2331 50  white male   protestant         NA                         male    \n",
              "2332 74  white female protestant         strongly disagree          female  \n",
              "2333 35  white female protestant         NA                         female  \n",
              "2334 76  white male   protestant         neither agree nor disagree NA      \n",
              "2335 65  white female none               NA                         female  \n",
              "2336 54  white female none               disagree                   NA      \n",
              "2337 25  white female catholic           NA                         female  \n",
              "2338 87  white female protestant         NA                         female  \n",
              "2339 46  white female protestant         NA                         female  \n",
              "2340 29  white female other              agree                      NA      \n",
              "2341 89  white male   protestant         NA                         NA      \n",
              "2342 68  white female none               disagree                   NA      \n",
              "2343 19  white male   none               NA                         male    \n",
              "2344 37  white female protestant         strongly disagree          NA      \n",
              "2345 75  white female protestant         neither agree nor disagree NA      \n",
              "2346 67  white female jewish             NA                         female  \n",
              "2347 72  white male   protestant         disagree                   male    \n",
              "2348 79  white female catholic           disagree                   NA      \n",
              "     sexnow yearsusa unhappy    educ income         phone         tvhours\n",
              "1    NA     NA       NA         14   NA             cellphone      3     \n",
              "2    women  NA       never      10   $25000 or more phone in home NA     \n",
              "3    man    NA       NA         16   $25000 or more phone in home  1     \n",
              "4    women  NA       rarely     16   NA             phone in home  1     \n",
              "5    man    NA       never      18   NA             phone in home NA     \n",
              "6    NA     NA       NA         16   NA             phone in home 10     \n",
              "7    NA     NA       rarely     13   $15000 - 19999 cellphone     NA     \n",
              "8    man    NA       rarely     12   $25000 or more cellphone     NA     \n",
              "9    women  NA       NA         8    $5000 to 5999  cellphone      4     \n",
              "10   man    NA       often      12   $25000 or more phone in home  2     \n",
              "11   NA     NA       NA         19   $25000 or more cellphone      3     \n",
              "12   women  NA       sometimes  14   $20000 - 24999 cellphone      3     \n",
              "13   NA     NA       NA         13   $20000 - 24999 phone in home  8     \n",
              "14   man    20       never      16   $25000 or more cellphone     NA     \n",
              "15   women  NA       NA         12   $1000 to 2999  cellphone      8     \n",
              "16   NA     NA       NA         12   $25000 or more phone in home  5     \n",
              "17   women  NA       rarely     16   $25000 or more phone in home  3     \n",
              "18   NA     6        NA         16   NA             cellphone      1     \n",
              "19   women  NA       rarely     20   $25000 or more phone in home NA     \n",
              "20   man    15       rarely     18   NA             cellphone      0     \n",
              "21   NA     14       NA         15   $25000 or more cellphone      1     \n",
              "22   women  NA       rarely     14   NA             cellphone     NA     \n",
              "23   women  NA       NA         14   $25000 or more cellphone      5     \n",
              "24   NA     NA       NA         12   $25000 or more cellphone      1     \n",
              "25   NA     NA       NA         16   $25000 or more cellphone      2     \n",
              "26   NA     60       sometimes  8    $25000 or more refused       NA     \n",
              "27   NA     NA       NA         12   $25000 or more cellphone      2     \n",
              "28   NA     NA       never      9    $10000 - 14999 phone in home NA     \n",
              "29   women  NA       NA         12   $25000 or more phone in home  3     \n",
              "30   man    NA       never      14   $25000 or more cellphone     NA     \n",
              "⋮    ⋮      ⋮        ⋮          ⋮    ⋮              ⋮             ⋮      \n",
              "2319 women  NA       very often 12   $25000 or more cellphone     NA     \n",
              "2320 man    NA       never      10   NA             refused        4     \n",
              "2321 NA     NA       NA         12   $25000 or more phone in home  4     \n",
              "2322 man    NA       sometimes  15   $25000 or more phone in home NA     \n",
              "2323 women  NA       never      14   $25000 or more cellphone      0     \n",
              "2324 women  NA       NA         16   $25000 or more phone in home  0     \n",
              "2325 NA     NA       NA         12   NA             phone in home  5     \n",
              "2326 NA     NA       NA         16   $25000 or more cellphone      1     \n",
              "2327 man    NA       sometimes  12   $25000 or more cellphone     NA     \n",
              "2328 man    NA       sometimes  16   $1000 to 2999  phone in home  2     \n",
              "2329 man    NA       never      17   $25000 or more phone in home NA     \n",
              "2330 women  NA       NA         14   $25000 or more cellphone      2     \n",
              "2331 man    NA       never      14   $25000 or more cellphone      1     \n",
              "2332 women  NA       NA         12   $20000 - 24999 phone in home  3     \n",
              "2333 women  NA       never      17   NA             cellphone     NA     \n",
              "2334 NA     NA       NA         20   $25000 or more phone in home  2     \n",
              "2335 women  NA       never      18   $25000 or more cellphone     NA     \n",
              "2336 NA     NA       NA         18   $25000 or more cellphone      2     \n",
              "2337 women  NA       rarely     16   $25000 or more cellphone      2     \n",
              "2338 women  NA       rarely     12   NA             phone in home NA     \n",
              "2339 women  NA       sometimes  12   $15000 - 19999 cellphone     NA     \n",
              "2340 NA     NA       NA         14   $25000 or more phone in home  1     \n",
              "2341 NA     NA       NA         8    NA             refused        2     \n",
              "2342 NA     NA       NA         14   $8000 to 9999  phone in home  5     \n",
              "2343 man    NA       never      12   $15000 - 19999 cellphone     NA     \n",
              "2344 NA     NA       NA         12   NA             cellphone      2     \n",
              "2345 NA     NA       NA         12   $25000 or more phone in home  6     \n",
              "2346 women  NA       never      12   $25000 or more phone in home NA     \n",
              "2347 man    NA       NA         16   $25000 or more cellphone      1     \n",
              "2348 NA     NA       NA         12   NA             phone in home  1     \n",
              "     partyid           \n",
              "1    not str republican\n",
              "2    ind,near dem      \n",
              "3    ind,near rep      \n",
              "4    ind,near dem      \n",
              "5    strong republican \n",
              "6    ind,near dem      \n",
              "7    strong democrat   \n",
              "8    not str republican\n",
              "9    independent       \n",
              "10   not str democrat  \n",
              "11   strong republican \n",
              "12   not str democrat  \n",
              "13   not str democrat  \n",
              "14   strong democrat   \n",
              "15   ind,near rep      \n",
              "16   independent       \n",
              "17   ind,near dem      \n",
              "18   independent       \n",
              "19   not str democrat  \n",
              "20   ind,near rep      \n",
              "21   not str republican\n",
              "22   not str republican\n",
              "23   ind,near dem      \n",
              "24   strong democrat   \n",
              "25   not str republican\n",
              "26   not str republican\n",
              "27   not str democrat  \n",
              "28   not str democrat  \n",
              "29   strong republican \n",
              "30   ind,near rep      \n",
              "⋮    ⋮                 \n",
              "2319 independent       \n",
              "2320 strong democrat   \n",
              "2321 independent       \n",
              "2322 not str republican\n",
              "2323 not str republican\n",
              "2324 ind,near dem      \n",
              "2325 independent       \n",
              "2326 ind,near dem      \n",
              "2327 ind,near rep      \n",
              "2328 ind,near dem      \n",
              "2329 strong republican \n",
              "2330 ind,near dem      \n",
              "2331 ind,near dem      \n",
              "2332 ind,near dem      \n",
              "2333 ind,near dem      \n",
              "2334 ind,near dem      \n",
              "2335 ind,near dem      \n",
              "2336 ind,near dem      \n",
              "2337 ind,near rep      \n",
              "2338 strong republican \n",
              "2339 strong republican \n",
              "2340 independent       \n",
              "2341 ind,near rep      \n",
              "2342 strong republican \n",
              "2343 not str republican\n",
              "2344 independent       \n",
              "2345 not str republican\n",
              "2346 independent       \n",
              "2347 ind,near rep      \n",
              "2348 independent       "
            ]
          },
          "metadata": {}
        }
      ],
      "source": [
        "# pull up data on race column\n",
        "#gss18.doc %>% filter (id ==\"race\")%>% select(marginals)%>%unnest\n",
        "#gss18.raw%>% mutate(race = factor(race,levels=c(\"whitle\",\"black\",\"other\")))%>%\n",
        "  #print\n",
        "gss18"
      ]
    },
    {
      "cell_type": "markdown",
      "metadata": {
        "id": "a7uQKCijTinS"
      },
      "source": [
        "Let's convert race in `gss18.raw` from an integer into a factor:"
      ]
    },
    {
      "cell_type": "code",
      "execution_count": null,
      "metadata": {
        "id": "SYVIQUdKTinS",
        "outputId": "7edd42a4-b57a-44f3-c673-bcce83d3a0c0"
      },
      "outputs": [
        {
          "name": "stdout",
          "output_type": "stream",
          "text": [
            "\u001b[90m# A tibble: 2,348 × 11\u001b[39m\n",
            "     age race    sex relig relpast sexbirth sexnow yearsusa unhappy  educ income\n",
            "   \u001b[3m\u001b[90m<int>\u001b[39m\u001b[23m \u001b[3m\u001b[90m<fct>\u001b[39m\u001b[23m \u001b[3m\u001b[90m<int>\u001b[39m\u001b[23m \u001b[3m\u001b[90m<int>\u001b[39m\u001b[23m   \u001b[3m\u001b[90m<int>\u001b[39m\u001b[23m    \u001b[3m\u001b[90m<int>\u001b[39m\u001b[23m  \u001b[3m\u001b[90m<int>\u001b[39m\u001b[23m    \u001b[3m\u001b[90m<int>\u001b[39m\u001b[23m   \u001b[3m\u001b[90m<int>\u001b[39m\u001b[23m \u001b[3m\u001b[90m<int>\u001b[39m\u001b[23m  \u001b[3m\u001b[90m<int>\u001b[39m\u001b[23m\n",
            "\u001b[90m 1\u001b[39m    43 white     1    11       5       \u001b[31mNA\u001b[39m     \u001b[31mNA\u001b[39m       \u001b[31mNA\u001b[39m      \u001b[31mNA\u001b[39m    14     \u001b[31mNA\u001b[39m\n",
            "\u001b[90m 2\u001b[39m    74 white     2     2      \u001b[31mNA\u001b[39m        1      1       \u001b[31mNA\u001b[39m       1    10     12\n",
            "\u001b[90m 3\u001b[39m    42 white     1     4       3        2      2       \u001b[31mNA\u001b[39m      \u001b[31mNA\u001b[39m    16     12\n",
            "\u001b[90m 4\u001b[39m    63 white     2     1      \u001b[31mNA\u001b[39m        1      1       \u001b[31mNA\u001b[39m       2    16     \u001b[31mNA\u001b[39m\n",
            "\u001b[90m 5\u001b[39m    71 black     1     2      \u001b[31mNA\u001b[39m        2      2       \u001b[31mNA\u001b[39m       1    18     \u001b[31mNA\u001b[39m\n",
            "\u001b[90m 6\u001b[39m    67 white     2     2       4       \u001b[31mNA\u001b[39m     \u001b[31mNA\u001b[39m       \u001b[31mNA\u001b[39m      \u001b[31mNA\u001b[39m    16     \u001b[31mNA\u001b[39m\n",
            "\u001b[90m 7\u001b[39m    59 black     2     1      \u001b[31mNA\u001b[39m       \u001b[31mNA\u001b[39m     \u001b[31mNA\u001b[39m       \u001b[31mNA\u001b[39m       2    13     10\n",
            "\u001b[90m 8\u001b[39m    43 white     1     2      \u001b[31mNA\u001b[39m        2      2       \u001b[31mNA\u001b[39m       2    12     12\n",
            "\u001b[90m 9\u001b[39m    62 white     2     4       4        1      1       \u001b[31mNA\u001b[39m      \u001b[31mNA\u001b[39m     8      5\n",
            "\u001b[90m10\u001b[39m    55 white     1     1      \u001b[31mNA\u001b[39m        2      2       \u001b[31mNA\u001b[39m       4    12     12\n",
            "\u001b[90m# … with 2,338 more rows\u001b[39m\n"
          ]
        }
      ],
      "source": [
        "# convert race to factor"
      ]
    },
    {
      "cell_type": "markdown",
      "metadata": {
        "id": "OVZaQOccTinS"
      },
      "source": [
        "Notice that the order mattered -- R matched `white` with `1`, `black` with `2`, etc. If we had \n",
        "specified `labels=c(\"black\", \"white\", \"other\")` it would have given us an incorrect factor."
      ]
    },
    {
      "cell_type": "markdown",
      "metadata": {
        "id": "b2-cQW-NTinS"
      },
      "source": [
        "## 🤔 Quiz\n",
        "\n",
        "What percent of people in `gss18` identified as 'other' when asked their race?\n",
        "\n",
        "<ol style=\"list-style-type: upper-alpha;\">\n",
        "    <li>0-10%</li>\n",
        "    <li>10-20%</li>\n",
        "    <li>20-30%</li>\n",
        "    <li>More than 30%</li>\n",
        "</ol>\n"
      ]
    },
    {
      "cell_type": "code",
      "execution_count": 13,
      "metadata": {
        "colab": {
          "base_uri": "https://localhost:8080/",
          "height": 97
        },
        "id": "1ASkZn6ITinS",
        "outputId": "9200755d-3745-4a98-b8ce-f95fb81378f8"
      },
      "outputs": [
        {
          "output_type": "error",
          "ename": "ERROR",
          "evalue": "ignored",
          "traceback": [
            "Error in eval(expr, envir, enclos): object 'other' not found\nTraceback:\n"
          ]
        }
      ],
      "source": [
        "gss18 %>% filter(race==\"other\")"
      ]
    },
    {
      "cell_type": "markdown",
      "metadata": {
        "id": "eawiwz7xTinS"
      },
      "source": [
        "Now let's do this for all the other categorical variables in `gss18.raw`..."
      ]
    },
    {
      "cell_type": "markdown",
      "metadata": {
        "id": "5vl53JxyTinS"
      },
      "source": [
        "Just kidding! I did the work for you, and stored it in the table `gss18`:"
      ]
    },
    {
      "cell_type": "code",
      "execution_count": null,
      "metadata": {
        "id": "4jb_8s5rTinS",
        "outputId": "9d9499bb-3921-40ff-e79e-b74b934626f5"
      },
      "outputs": [
        {
          "name": "stdout",
          "output_type": "stream",
          "text": [
            "\u001b[90m# A tibble: 2,348 × 13\u001b[39m\n",
            "     age race  sex    relig  relpast sexbi…¹ sexnow years…² unhappy educ  income\n",
            "   \u001b[3m\u001b[90m<int>\u001b[39m\u001b[23m \u001b[3m\u001b[90m<fct>\u001b[39m\u001b[23m \u001b[3m\u001b[90m<fct>\u001b[39m\u001b[23m  \u001b[3m\u001b[90m<fct>\u001b[39m\u001b[23m  \u001b[3m\u001b[90m<fct>\u001b[39m\u001b[23m   \u001b[3m\u001b[90m<fct>\u001b[39m\u001b[23m   \u001b[3m\u001b[90m<fct>\u001b[39m\u001b[23m  \u001b[3m\u001b[90m<fct>\u001b[39m\u001b[23m   \u001b[3m\u001b[90m<fct>\u001b[39m\u001b[23m   \u001b[3m\u001b[90m<fct>\u001b[39m\u001b[23m \u001b[3m\u001b[90m<fct>\u001b[39m\u001b[23m \n",
            "\u001b[90m 1\u001b[39m    43 white male   chris… strong… \u001b[31mNA\u001b[39m      \u001b[31mNA\u001b[39m     \u001b[31mNA\u001b[39m      \u001b[31mNA\u001b[39m      14    \u001b[31mNA\u001b[39m    \n",
            "\u001b[90m 2\u001b[39m    74 white female catho… \u001b[31mNA\u001b[39m      female  women  \u001b[31mNA\u001b[39m      never   10    $2500…\n",
            "\u001b[90m 3\u001b[39m    42 white male   none   neithe… male    man    \u001b[31mNA\u001b[39m      \u001b[31mNA\u001b[39m      16    $2500…\n",
            "\u001b[90m 4\u001b[39m    63 white female prote… \u001b[31mNA\u001b[39m      female  women  \u001b[31mNA\u001b[39m      rarely  16    \u001b[31mNA\u001b[39m    \n",
            "\u001b[90m 5\u001b[39m    71 black male   catho… \u001b[31mNA\u001b[39m      male    man    \u001b[31mNA\u001b[39m      never   18    \u001b[31mNA\u001b[39m    \n",
            "\u001b[90m 6\u001b[39m    67 white female catho… disagr… \u001b[31mNA\u001b[39m      \u001b[31mNA\u001b[39m     \u001b[31mNA\u001b[39m      \u001b[31mNA\u001b[39m      16    \u001b[31mNA\u001b[39m    \n",
            "\u001b[90m 7\u001b[39m    59 black female prote… \u001b[31mNA\u001b[39m      \u001b[31mNA\u001b[39m      \u001b[31mNA\u001b[39m     \u001b[31mNA\u001b[39m      rarely  13    $1500…\n",
            "\u001b[90m 8\u001b[39m    43 white male   catho… \u001b[31mNA\u001b[39m      male    man    \u001b[31mNA\u001b[39m      rarely  12    $2500…\n",
            "\u001b[90m 9\u001b[39m    62 white female none   disagr… female  women  \u001b[31mNA\u001b[39m      \u001b[31mNA\u001b[39m      8     $5000…\n",
            "\u001b[90m10\u001b[39m    55 white male   prote… \u001b[31mNA\u001b[39m      male    man    \u001b[31mNA\u001b[39m      often   12    $2500…\n",
            "\u001b[90m# … with 2,338 more rows, 2 more variables: phone <fct>, tvhours <int>, and\u001b[39m\n",
            "\u001b[90m#   abbreviated variable names ¹​sexbirth, ²​yearsusa\u001b[39m\n"
          ]
        }
      ],
      "source": [
        "print(gss18)"
      ]
    },
    {
      "cell_type": "markdown",
      "metadata": {
        "id": "UkS9BMq3TinS"
      },
      "source": [
        "### The `forcats` package\n",
        "`tidyverse` contains a package that has some tools for working with factors. Sometimes it is not automatically loaded by the `tidyverse` metapackage, in which case you must load it manually:"
      ]
    },
    {
      "cell_type": "code",
      "execution_count": null,
      "metadata": {
        "id": "8P61IWPZTinS"
      },
      "outputs": [],
      "source": [
        "library(forcats) "
      ]
    },
    {
      "cell_type": "markdown",
      "metadata": {
        "id": "0hg3-T2cTinS"
      },
      "source": [
        "`forcats` commands are prefixed by `fct_` (compare `stringr`)."
      ]
    },
    {
      "cell_type": "markdown",
      "metadata": {
        "id": "9-koGRa-TinS"
      },
      "source": [
        "## Generations\n",
        "Here are the ages of everybody in the dataset:"
      ]
    },
    {
      "cell_type": "code",
      "execution_count": null,
      "metadata": {
        "id": "OnEaZmY_TinS",
        "outputId": "4b5e70b4-7a12-43ca-e106-506de8cc518f"
      },
      "outputs": [
        {
          "name": "stderr",
          "output_type": "stream",
          "text": [
            "\u001b[1m\u001b[22m`stat_bin()` using `bins = 30`. Pick better value with `binwidth`.\n",
            "Warning message:\n",
            "“\u001b[1m\u001b[22mRemoved 7 rows containing non-finite values (`stat_bin()`).”\n"
          ]
        },
        {
          "data": {
            "image/png": "[encoded data removed]",
            "text/plain": [
              "plot without title"
            ]
          },
          "metadata": {
            "image/png": {
              "height": 300,
              "width": 480
            }
          },
          "output_type": "display_data"
        }
      ],
      "source": [
        "ggplot(gss18) + geom_histogram(aes(x=age)) "
      ]
    },
    {
      "cell_type": "markdown",
      "metadata": {
        "id": "R8EcYfEjTinS"
      },
      "source": [
        "## 🤔 Quiz\n",
        "\n",
        "In what year was the oldest person in this dataset born?\n",
        "\n",
        "<ol style=\"list-style-type: upper-alpha;\">\n",
        "    <li>1910-1919</li>\n",
        "    <li>1920-1929</li>\n",
        "    <li>1930-1939</li>\n",
        "    <li>1940-1949</li>\n",
        "</ol>\n"
      ]
    },
    {
      "cell_type": "code",
      "execution_count": null,
      "metadata": {
        "id": "p3VwD1gmTinT"
      },
      "outputs": [],
      "source": [
        "# oldest person"
      ]
    },
    {
      "cell_type": "markdown",
      "metadata": {
        "id": "ServQuapTinT"
      },
      "source": [
        "Let's define the following generations\n",
        "- [Silent generation](https://en.wikipedia.org/wiki/Silent_Generation): 1929&mdash;1945\n",
        "- [Baby boomers](https://en.wikipedia.org/wiki/Baby_boomers): 1946&mdash;1964\n",
        "- [Gen X](https://en.wikipedia.org/wiki/Generation_X): 1964&mdash;1981\n",
        "- [Gen Y/Millennial](https://en.wikipedia.org/wiki/Millennials): 1982&mdash;1996\n",
        "- [Gen Z](https://en.wikipedia.org/wiki/Generation_Z): 1997&mdash;20teens"
      ]
    },
    {
      "cell_type": "code",
      "execution_count": null,
      "metadata": {
        "id": "WuxqnudjTinT"
      },
      "outputs": [],
      "source": [
        "# create a generations column in gss18\n",
        "gss18 <- mutate(gss18, birth_year = 2018 - age,\n",
        "         \n",
        "                generation = cut(birth_year, breaks=c(1929, 1946, 1964, 1982, 1997, 2020),\n",
        "                                 labels=c('silent', 'boomer', 'x', 'millennial', 'z')))"
      ]
    },
    {
      "cell_type": "code",
      "execution_count": null,
      "metadata": {
        "id": "Lo6zw20vTinT",
        "outputId": "6096bedf-962a-45a2-a65b-668cffa9058c"
      },
      "outputs": [
        {
          "data": {
            "image/png": "[encoded data removed]",
            "text/plain": [
              "plot without title"
            ]
          },
          "metadata": {
            "image/png": {
              "height": 300,
              "width": 480
            }
          },
          "output_type": "display_data"
        }
      ],
      "source": [
        "ggplot(gss18) + geom_bar(aes(ylim=generation, fill=generation))"
      ]
    },
    {
      "cell_type": "markdown",
      "metadata": {
        "id": "xpGbzu8fTinT"
      },
      "source": [
        "## Attitudes about religion\n",
        "Here is the overall distribution of religious affiliation in the data:"
      ]
    },
    {
      "cell_type": "code",
      "execution_count": 16,
      "metadata": {
        "colab": {
          "base_uri": "https://localhost:8080/",
          "height": 242
        },
        "id": "gD0-K_g-TinT",
        "outputId": "b8bf5887-5c4c-4b9c-d8b2-e56f4603007e"
      },
      "outputs": [
        {
          "output_type": "error",
          "ename": "ERROR",
          "evalue": "ignored",
          "traceback": [
            "Error in list2(just = just, width = width, na.rm = na.rm, orientation = orientation, : object 'reilg' not found\nTraceback:\n",
            "1. geom_bar(x = reilg, fill = relig)",
            "2. layer(data = data, mapping = mapping, stat = stat, geom = GeomBar, \n .     position = position, show.legend = show.legend, inherit.aes = inherit.aes, \n .     params = list2(just = just, width = width, na.rm = na.rm, \n .         orientation = orientation, ...))",
            "3. list2(just = just, width = width, na.rm = na.rm, orientation = orientation, \n .     ...)"
          ]
        }
      ],
      "source": [
        "# distribution of religion\n",
        "ggplot(gss18)+ geom_bar(x=reilg, fill =relig)"
      ]
    },
    {
      "cell_type": "markdown",
      "metadata": {
        "id": "nQHYF6rXTinT"
      },
      "source": [
        "Let's think of ways to improve this jumbled plot. First, we can turn it sideways for better readability:"
      ]
    },
    {
      "cell_type": "code",
      "execution_count": null,
      "metadata": {
        "id": "Y9JisUNNTinT",
        "outputId": "73765e74-75df-4026-979b-940a60542d50"
      },
      "outputs": [
        {
          "data": {
            "image/png": "[encoded data removed]",
            "text/plain": [
              "plot without title"
            ]
          },
          "metadata": {
            "image/png": {
              "height": 300,
              "width": 480
            }
          },
          "output_type": "display_data"
        }
      ],
      "source": [
        "# distribution of religion "
      ]
    },
    {
      "cell_type": "markdown",
      "metadata": {
        "id": "Q4gXbVI9TinT"
      },
      "source": [
        "By default, the order of the labels shown by R corresponds to the order of the factor levels:"
      ]
    },
    {
      "cell_type": "code",
      "execution_count": null,
      "metadata": {
        "id": "WL0zr9KSTinT",
        "outputId": "a0673714-055f-4074-84d8-3b2057004fc6"
      },
      "outputs": [
        {
          "data": {
            "text/html": [
              "<style>\n",
              ".list-inline {list-style: none; margin:0; padding: 0}\n",
              ".list-inline>li {display: inline-block}\n",
              ".list-inline>li:not(:last-child)::after {content: \"\\00b7\"; padding: 0 .5ex}\n",
              "</style>\n",
              "<ol class=list-inline><li>'protestant'</li><li>'catholic'</li><li>'jewish'</li><li>'none'</li><li>'other'</li><li>'buddhism'</li><li>'hinduism'</li><li>'other eastern'</li><li>'moslem/islam'</li><li>'orthodox-christian'</li><li>'christian'</li><li>'native american'</li><li>'inter-nondenominational'</li></ol>\n"
            ],
            "text/latex": [
              "\\begin{enumerate*}\n",
              "\\item 'protestant'\n",
              "\\item 'catholic'\n",
              "\\item 'jewish'\n",
              "\\item 'none'\n",
              "\\item 'other'\n",
              "\\item 'buddhism'\n",
              "\\item 'hinduism'\n",
              "\\item 'other eastern'\n",
              "\\item 'moslem/islam'\n",
              "\\item 'orthodox-christian'\n",
              "\\item 'christian'\n",
              "\\item 'native american'\n",
              "\\item 'inter-nondenominational'\n",
              "\\end{enumerate*}\n"
            ],
            "text/markdown": [
              "1. 'protestant'\n",
              "2. 'catholic'\n",
              "3. 'jewish'\n",
              "4. 'none'\n",
              "5. 'other'\n",
              "6. 'buddhism'\n",
              "7. 'hinduism'\n",
              "8. 'other eastern'\n",
              "9. 'moslem/islam'\n",
              "10. 'orthodox-christian'\n",
              "11. 'christian'\n",
              "12. 'native american'\n",
              "13. 'inter-nondenominational'\n",
              "\n",
              "\n"
            ],
            "text/plain": [
              " [1] \"protestant\"              \"catholic\"               \n",
              " [3] \"jewish\"                  \"none\"                   \n",
              " [5] \"other\"                   \"buddhism\"               \n",
              " [7] \"hinduism\"                \"other eastern\"          \n",
              " [9] \"moslem/islam\"            \"orthodox-christian\"     \n",
              "[11] \"christian\"               \"native american\"        \n",
              "[13] \"inter-nondenominational\""
            ]
          },
          "metadata": {},
          "output_type": "display_data"
        }
      ],
      "source": [
        "# levels of gss18$relig"
      ]
    },
    {
      "cell_type": "markdown",
      "metadata": {
        "id": "di7xqH9YTinT"
      },
      "source": [
        "To improve the appearance of the plot, we can use `fct_infreq` to reorder the levels such in increasing order of frequency:"
      ]
    },
    {
      "cell_type": "code",
      "execution_count": null,
      "metadata": {
        "id": "wVXyxzcBTinT"
      },
      "outputs": [],
      "source": [
        "# sort the levels by their frequency"
      ]
    },
    {
      "cell_type": "code",
      "execution_count": null,
      "metadata": {
        "id": "bUNmp0PXTinT",
        "outputId": "6d1c4d9e-d24d-4293-c9a5-bbb6d5dd604c"
      },
      "outputs": [
        {
          "data": {
            "image/png": "[encoded data removed]",
            "text/plain": [
              "plot without title"
            ]
          },
          "metadata": {
            "image/png": {
              "height": 300,
              "width": 480
            }
          },
          "output_type": "display_data"
        }
      ],
      "source": [
        "# plot levels sorted by frequency"
      ]
    },
    {
      "cell_type": "markdown",
      "metadata": {
        "id": "M-kt8JB7TinT"
      },
      "source": [
        "We may also want to simplify the plot by grouping some factors together. The `fct_lump` command will combine uncommon factor levels into a new level, \"other\":"
      ]
    },
    {
      "cell_type": "code",
      "execution_count": null,
      "metadata": {
        "id": "2iGS0g3CTinT",
        "outputId": "08ace026-b3b7-419f-8a58-30e7f2368a34"
      },
      "outputs": [
        {
          "name": "stdout",
          "output_type": "stream",
          "text": [
            " Factor w/ 4 levels \"protestant\",\"catholic\",..: 4 2 3 1 2 2 1 2 3 1 ...\n",
            " - attr(*, \"label\")= chr \"r's religious preference\"\n"
          ]
        }
      ],
      "source": [
        "# lump uncommon factors together"
      ]
    },
    {
      "cell_type": "code",
      "execution_count": null,
      "metadata": {
        "id": "EofDhi_TTinT",
        "outputId": "6bbc0687-1b84-4797-c611-d62649a1630f"
      },
      "outputs": [
        {
          "data": {
            "image/png": "[encoded data removed]",
            "text/plain": [
              "plot without title"
            ]
          },
          "metadata": {
            "image/png": {
              "height": 300,
              "width": 480
            }
          },
          "output_type": "display_data"
        }
      ],
      "source": [
        "# religions lumped"
      ]
    },
    {
      "cell_type": "markdown",
      "metadata": {
        "id": "be7eoxJ3TinT"
      },
      "source": [
        "Be careful with this. Not everybody enjoys being lumped into the \"Other\" category. A good compromise in this case could be to use one bar for \"Other\", but still break everyone out in the legend:"
      ]
    },
    {
      "cell_type": "code",
      "execution_count": null,
      "metadata": {
        "id": "5kWCt6sqTinT",
        "outputId": "39436cb6-508f-45ee-8dfa-80867746e8e9"
      },
      "outputs": [
        {
          "data": {
            "image/png": "[encoded data removed]",
            "text/plain": [
              "plot without title"
            ]
          },
          "metadata": {
            "image/png": {
              "height": 300,
              "width": 480
            }
          },
          "output_type": "display_data"
        }
      ],
      "source": [
        "# lumped levels, by still showing the variation"
      ]
    },
    {
      "cell_type": "markdown",
      "metadata": {
        "id": "xdmoXjMSTinT"
      },
      "source": [
        "## Religious affiliation by generation\n",
        "How does religious affiliation vary from one generation to the next? To study this, we will first use a simple table. The `table` command will take a dataframe containing two categorical columns and create a 2-way table of counts from them:"
      ]
    },
    {
      "cell_type": "code",
      "execution_count": 18,
      "metadata": {
        "colab": {
          "base_uri": "https://localhost:8080/",
          "height": 152
        },
        "id": "5sIWnDw6TinU",
        "outputId": "9f82089b-aa4b-409c-c6fc-d85ff35fd5c2"
      },
      "outputs": [
        {
          "output_type": "error",
          "ename": "ERROR",
          "evalue": "ignored",
          "traceback": [
            "Error in parse(text = x, srcfile = src): <text>:2:42: unexpected ','\n1: # religious by generation\n2: gss18 %>% mutate(relig = fct_lump(relig)),\n                                            ^\nTraceback:\n"
          ]
        }
      ],
      "source": [
        "# religious by generation\n",
        "gss18 %>% mutate(relig = fct_lump(relig)),select(generattion,relig)%>% table%>% prop.t"
      ]
    },
    {
      "cell_type": "markdown",
      "metadata": {
        "id": "0gaGZhpjTinU"
      },
      "source": [
        "We probably want to normalize this table so that the data are expressed as percentages, with the rows summing to one:"
      ]
    },
    {
      "cell_type": "code",
      "execution_count": null,
      "metadata": {
        "id": "AgQ4PtaFTinU",
        "outputId": "bbd6e54b-727f-47e9-95bb-9eec574628ac"
      },
      "outputs": [
        {
          "data": {
            "text/plain": [
              "            relig\n",
              "generation   protestant catholic none Other\n",
              "  silent           0.65     0.20 0.10  0.04\n",
              "  boomer           0.54     0.23 0.17  0.06\n",
              "  x                0.48     0.22 0.23  0.07\n",
              "  millennial       0.39     0.17 0.37  0.08\n",
              "  z                0.25     0.32 0.33  0.10"
            ]
          },
          "metadata": {},
          "output_type": "display_data"
        }
      ],
      "source": [
        "# normalize the table "
      ]
    },
    {
      "cell_type": "markdown",
      "metadata": {
        "id": "-dxTvSAXTinU"
      },
      "source": [
        "Not that by normalizing the rows or columns, we are now studying the *conditional* distribution of race given generational status (or vice versa). This was a point of confusion on the midterm."
      ]
    },
    {
      "cell_type": "markdown",
      "metadata": {
        "id": "xJdWHvt-TinU"
      },
      "source": [
        "Next, let's test whether religious affiliation and generational status are statistically independent. To do this, we'll perform a chi-squared test of independence, using `chisq.test()`:"
      ]
    },
    {
      "cell_type": "code",
      "execution_count": null,
      "metadata": {
        "id": "Z1ZrLUmUTinU"
      },
      "outputs": [],
      "source": [
        "# chi-squared test of independence"
      ]
    },
    {
      "cell_type": "markdown",
      "metadata": {
        "id": "X5R9LRnoTinU"
      },
      "source": [
        "## Hours of TV watched\n",
        "How does TV watching vary from generation to generation?"
      ]
    },
    {
      "cell_type": "code",
      "execution_count": 17,
      "metadata": {
        "colab": {
          "base_uri": "https://localhost:8080/",
          "height": 1000
        },
        "id": "vSVeMbU0TinU",
        "outputId": "8a275e3d-b800-411d-d84b-eb6de984c7ad"
      },
      "outputs": [
        {
          "output_type": "error",
          "ename": "ERROR",
          "evalue": "ignored",
          "traceback": [
            "\u001b[1m\u001b[33mError\u001b[39m in `select()`:\u001b[22m\n\u001b[33m!\u001b[39m Can't subset columns that don't exist.\n\u001b[31m✖\u001b[39m Column `generation` doesn't exist.\nTraceback:\n",
            "1. gss18 %>% select(generation, tvhours)",
            "2. select(., generation, tvhours)",
            "3. select.data.frame(., generation, tvhours)",
            "4. tidyselect::eval_select(expr(c(...)), data = .data, error_call = error_call)",
            "5. eval_select_impl(data, names(data), as_quosure(expr, env), include = include, \n .     exclude = exclude, strict = strict, name_spec = name_spec, \n .     allow_rename = allow_rename, allow_empty = allow_empty, allow_predicates = allow_predicates, \n .     error_call = error_call, )",
            "6. with_subscript_errors(out <- vars_select_eval(vars, expr, strict = strict, \n .     data = x, name_spec = name_spec, uniquely_named = uniquely_named, \n .     allow_rename = allow_rename, allow_empty = allow_empty, allow_predicates = allow_predicates, \n .     type = type, error_call = error_call), type = type)",
            "7. try_fetch(expr, vctrs_error_subscript = function(cnd) {\n .     cnd$subscript_action <- subscript_action(type)\n .     cnd$subscript_elt <- \"column\"\n .     cnd_signal(cnd)\n . })",
            "8. withCallingHandlers(expr, vctrs_error_subscript = function(cnd) {\n .     {\n .         .__handler_frame__. <- TRUE\n .         .__setup_frame__. <- frame\n .     }\n .     out <- handlers[[1L]](cnd)\n .     if (!inherits(out, \"rlang_zap\")) \n .         throw(out)\n . })",
            "9. vars_select_eval(vars, expr, strict = strict, data = x, name_spec = name_spec, \n .     uniquely_named = uniquely_named, allow_rename = allow_rename, \n .     allow_empty = allow_empty, allow_predicates = allow_predicates, \n .     type = type, error_call = error_call)",
            "10. walk_data_tree(expr, data_mask, context_mask)",
            "11. eval_c(expr, data_mask, context_mask)",
            "12. reduce_sels(node, data_mask, context_mask, init = init)",
            "13. walk_data_tree(new, data_mask, context_mask)",
            "14. as_indices_sel_impl(out, vars = vars, strict = strict, data = data, \n  .     allow_predicates = allow_predicates, call = error_call, arg = as_label(expr))",
            "15. as_indices_impl(x, vars, call = call, arg = arg, strict = strict)",
            "16. chr_as_locations(x, vars, call = call, arg = arg)",
            "17. vctrs::vec_as_location(x, n = length(vars), names = vars, call = call, \n  .     arg = arg)",
            "18. (function () \n  . stop_subscript_oob(i = i, subscript_type = subscript_type, names = names, \n  .     subscript_action = subscript_action, subscript_arg = subscript_arg, \n  .     call = call))()",
            "19. stop_subscript_oob(i = i, subscript_type = subscript_type, names = names, \n  .     subscript_action = subscript_action, subscript_arg = subscript_arg, \n  .     call = call)",
            "20. stop_subscript(class = \"vctrs_error_subscript_oob\", i = i, subscript_type = subscript_type, \n  .     ..., call = call)",
            "21. abort(class = c(class, \"vctrs_error_subscript\"), i = i, ..., \n  .     call = vctrs_error_call(call))",
            "22. signal_abort(cnd, .file)",
            "23. signalCondition(cnd)",
            "24. (function (cnd) \n  . {\n  .     {\n  .         .__handler_frame__. <- TRUE\n  .         .__setup_frame__. <- frame\n  .     }\n  .     out <- handlers[[1L]](cnd)\n  .     if (!inherits(out, \"rlang_zap\")) \n  .         throw(out)\n  . })(structure(list(message = \"\", trace = structure(list(call = list(\n  .     IRkernel::main(), kernel$run(), handle_shell(), executor$execute(msg), \n  .     tryCatch(evaluate(request$content$code, envir = .GlobalEnv, \n  .         output_handler = oh, stop_on_error = 1L), interrupt = function(cond) {\n  .         log_debug(\"Interrupt during execution\")\n  .         interrupted <<- TRUE\n  .     }, error = .self$handle_error), tryCatchList(expr, classes, \n  .         parentenv, handlers), tryCatchOne(tryCatchList(expr, \n  .         names[-nh], parentenv, handlers[-nh]), names[nh], parentenv, \n  .         handlers[[nh]]), doTryCatch(return(expr), name, parentenv, \n  .         handler), tryCatchList(expr, names[-nh], parentenv, handlers[-nh]), \n  .     tryCatchOne(expr, names, parentenv, handlers[[1L]]), doTryCatch(return(expr), \n  .         name, parentenv, handler), evaluate(request$content$code, \n  .         envir = .GlobalEnv, output_handler = oh, stop_on_error = 1L), \n  .     evaluate_call(expr, parsed$src[[i]], envir = envir, enclos = enclos, \n  .         debug = debug, last = i == length(out), use_try = stop_on_error != \n  .             2L, keep_warning = keep_warning, keep_message = keep_message, \n  .         output_handler = output_handler, include_timing = include_timing), \n  .     timing_fn(handle(ev <- withCallingHandlers(withVisible(eval_with_user_handlers(expr, \n  .         envir, enclos, user_handlers)), warning = wHandler, error = eHandler, \n  .         message = mHandler))), handle(ev <- withCallingHandlers(withVisible(eval_with_user_handlers(expr, \n  .         envir, enclos, user_handlers)), warning = wHandler, error = eHandler, \n  .         message = mHandler)), try(f, silent = TRUE), tryCatch(expr, \n  .         error = function(e) {\n  .             call <- conditionCall(e)\n  .             if (!is.null(call)) {\n  .                 if (identical(call[[1L]], quote(doTryCatch))) \n  .                   call <- sys.call(-4L)\n  .                 dcall <- deparse(call, nlines = 1L)\n  .                 prefix <- paste(\"Error in\", dcall, \": \")\n  .                 LONG <- 75L\n  .                 sm <- strsplit(conditionMessage(e), \"\\n\")[[1L]]\n  .                 w <- 14L + nchar(dcall, type = \"w\") + nchar(sm[1L], \n  .                   type = \"w\")\n  .                 if (is.na(w)) \n  .                   w <- 14L + nchar(dcall, type = \"b\") + nchar(sm[1L], \n  .                     type = \"b\")\n  .                 if (w > LONG) \n  .                   prefix <- paste0(prefix, \"\\n  \")\n  .             }\n  .             else prefix <- \"Error : \"\n  .             msg <- paste0(prefix, conditionMessage(e), \"\\n\")\n  .             .Internal(seterrmessage(msg[1L]))\n  .             if (!silent && isTRUE(getOption(\"show.error.messages\"))) {\n  .                 cat(msg, file = outFile)\n  .                 .Internal(printDeferredWarnings())\n  .             }\n  .             invisible(structure(msg, class = \"try-error\", condition = e))\n  .         }), tryCatchList(expr, classes, parentenv, handlers), \n  .     tryCatchOne(expr, names, parentenv, handlers[[1L]]), doTryCatch(return(expr), \n  .         name, parentenv, handler), withCallingHandlers(withVisible(eval_with_user_handlers(expr, \n  .         envir, enclos, user_handlers)), warning = wHandler, error = eHandler, \n  .         message = mHandler), withVisible(eval_with_user_handlers(expr, \n  .         envir, enclos, user_handlers)), eval_with_user_handlers(expr, \n  .         envir, enclos, user_handlers), eval(expr, envir, enclos), \n  .     eval(expr, envir, enclos), gss18 %>% select(generation, tvhours), \n  .     select(., generation, tvhours), select.data.frame(., generation, \n  .         tvhours), tidyselect::eval_select(expr(c(...)), data = .data, \n  .         error_call = error_call), eval_select_impl(data, names(data), \n  .         as_quosure(expr, env), include = include, exclude = exclude, \n  .         strict = strict, name_spec = name_spec, allow_rename = allow_rename, \n  .         allow_empty = allow_empty, allow_predicates = allow_predicates, \n  .         error_call = error_call, ), with_subscript_errors(out <- vars_select_eval(vars, \n  .         expr, strict = strict, data = x, name_spec = name_spec, \n  .         uniquely_named = uniquely_named, allow_rename = allow_rename, \n  .         allow_empty = allow_empty, allow_predicates = allow_predicates, \n  .         type = type, error_call = error_call), type = type), \n  .     try_fetch(expr, vctrs_error_subscript = function(cnd) {\n  .         cnd$subscript_action <- subscript_action(type)\n  .         cnd$subscript_elt <- \"column\"\n  .         cnd_signal(cnd)\n  .     }), withCallingHandlers(expr, vctrs_error_subscript = function(cnd) {\n  .         {\n  .             .__handler_frame__. <- TRUE\n  .             .__setup_frame__. <- frame\n  .         }\n  .         out <- handlers[[1L]](cnd)\n  .         if (!inherits(out, \"rlang_zap\")) \n  .             throw(out)\n  .     }), vars_select_eval(vars, expr, strict = strict, data = x, \n  .         name_spec = name_spec, uniquely_named = uniquely_named, \n  .         allow_rename = allow_rename, allow_empty = allow_empty, \n  .         allow_predicates = allow_predicates, type = type, error_call = error_call), \n  .     walk_data_tree(expr, data_mask, context_mask), eval_c(expr, \n  .         data_mask, context_mask), reduce_sels(node, data_mask, \n  .         context_mask, init = init), walk_data_tree(new, data_mask, \n  .         context_mask), as_indices_sel_impl(out, vars = vars, \n  .         strict = strict, data = data, allow_predicates = allow_predicates, \n  .         call = error_call, arg = as_label(expr)), as_indices_impl(x, \n  .         vars, call = call, arg = arg, strict = strict), chr_as_locations(x, \n  .         vars, call = call, arg = arg), vctrs::vec_as_location(x, \n  .         n = length(vars), names = vars, call = call, arg = arg), \n  .     `<fn>`(), stop_subscript_oob(i = i, subscript_type = subscript_type, \n  .         names = names, subscript_action = subscript_action, subscript_arg = subscript_arg, \n  .         call = call), stop_subscript(class = \"vctrs_error_subscript_oob\", \n  .         i = i, subscript_type = subscript_type, ..., call = call), \n  .     abort(class = c(class, \"vctrs_error_subscript\"), i = i, ..., \n  .         call = vctrs_error_call(call))), parent = c(0L, 1L, 2L, \n  . 3L, 4L, 5L, 6L, 7L, 6L, 9L, 10L, 4L, 12L, 13L, 13L, 15L, 16L, \n  . 17L, 18L, 19L, 13L, 13L, 13L, 23L, 24L, 0L, 0L, 0L, 28L, 29L, \n  . 30L, 31L, 32L, 30L, 34L, 35L, 36L, 37L, 38L, 39L, 40L, 41L, 0L, \n  . 43L, 44L, 45L), visible = c(TRUE, TRUE, TRUE, TRUE, TRUE, TRUE, \n  . TRUE, TRUE, TRUE, TRUE, TRUE, TRUE, TRUE, TRUE, TRUE, TRUE, TRUE, \n  . TRUE, TRUE, TRUE, TRUE, TRUE, TRUE, TRUE, TRUE, TRUE, TRUE, TRUE, \n  . FALSE, FALSE, FALSE, FALSE, FALSE, FALSE, FALSE, FALSE, FALSE, \n  . FALSE, FALSE, FALSE, FALSE, FALSE, FALSE, FALSE, FALSE, FALSE\n  . ), namespace = c(\"IRkernel\", NA, \"IRkernel\", NA, \"base\", \"base\", \n  . \"base\", \"base\", \"base\", \"base\", \"base\", \"evaluate\", \"evaluate\", \n  . \"evaluate\", \"evaluate\", \"base\", \"base\", \"base\", \"base\", \"base\", \n  . \"base\", \"base\", \"evaluate\", \"base\", \"base\", NA, \"dplyr\", \"dplyr\", \n  . \"tidyselect\", \"tidyselect\", \"tidyselect\", \"rlang\", \"base\", \"tidyselect\", \n  . \"tidyselect\", \"tidyselect\", \"tidyselect\", \"tidyselect\", \"tidyselect\", \n  . \"tidyselect\", \"tidyselect\", \"vctrs\", \"vctrs\", \"vctrs\", \"vctrs\", \n  . \"rlang\"), scope = c(\"::\", NA, \"local\", NA, \"::\", \"local\", \"local\", \n  . \"local\", \"local\", \"local\", \"local\", \"::\", \":::\", \"local\", \"local\", \n  . \"::\", \"::\", \"local\", \"local\", \"local\", \"::\", \"::\", \":::\", \"::\", \n  . \"::\", NA, \"::\", \":::\", \"::\", \":::\", \":::\", \"::\", \"::\", \":::\", \n  . \":::\", \":::\", \":::\", \":::\", \":::\", \":::\", \":::\", \"::\", \"local\", \n  . \":::\", \":::\", \"::\"), error_frame = c(FALSE, FALSE, FALSE, FALSE, \n  . FALSE, FALSE, FALSE, FALSE, FALSE, FALSE, FALSE, FALSE, FALSE, \n  . FALSE, FALSE, FALSE, FALSE, FALSE, FALSE, FALSE, FALSE, FALSE, \n  . FALSE, FALSE, FALSE, FALSE, FALSE, TRUE, FALSE, FALSE, FALSE, \n  . FALSE, FALSE, FALSE, FALSE, FALSE, FALSE, FALSE, FALSE, FALSE, \n  . FALSE, FALSE, FALSE, FALSE, FALSE, FALSE)), row.names = c(NA, \n  . -46L), version = 2L, class = c(\"rlang_trace\", \"rlib_trace\", \"tbl\", \n  . \"data.frame\")), parent = NULL, i = \"generation\", subscript_type = \"character\", \n  .     names = c(\"age\", \"race\", \"sex\", \"relig\", \"relpast\", \"sexbirth\", \n  .     \"sexnow\", \"yearsusa\", \"unhappy\", \"educ\", \"income\", \"phone\", \n  .     \"tvhours\", \"partyid\"), subscript_action = NULL, subscript_arg = \"generation\", \n  .     call = select(., generation, tvhours)), class = c(\"vctrs_error_subscript_oob\", \n  . \"vctrs_error_subscript\", \"rlang_error\", \"error\", \"condition\")))",
            "25. handlers[[1L]](cnd)",
            "26. cnd_signal(cnd)",
            "27. signal_abort(cnd)"
          ]
        }
      ],
      "source": [
        "# hours of TV\n",
        "gss18 %>% select (generation, tvhours) "
      ]
    },
    {
      "cell_type": "markdown",
      "metadata": {
        "id": "0wmSbij4TinU"
      },
      "source": [
        "This plot could maybe be improved by ordering the boxes so that the medians are in ascending order:"
      ]
    },
    {
      "cell_type": "code",
      "execution_count": null,
      "metadata": {
        "id": "V71SyFuVTinU"
      },
      "outputs": [],
      "source": [
        "# reorder the factor in ascending order of median"
      ]
    },
    {
      "cell_type": "markdown",
      "metadata": {
        "id": "3de5QPkhTinU"
      },
      "source": [
        "Do gen Z watch significantly less TV than everyone else?"
      ]
    },
    {
      "cell_type": "code",
      "execution_count": null,
      "metadata": {
        "id": "DFfAGnR2TinU"
      },
      "outputs": [],
      "source": [
        "# t.test of means\n",
        "tv.z <- gss18 %>% fliter (genereation == \"z\") %>% pull (tvhours)\n",
        "tv.nonz <- gss18 %>% fliter (genereation !== \"z\") %>% pull (tvhours)\n",
        "t.test()"
      ]
    },
    {
      "cell_type": "code",
      "execution_count": null,
      "metadata": {
        "id": "F1yprs-ZTinU",
        "outputId": "5c5456fb-2fd5-40f5-c564-3bbf1ab66138"
      },
      "outputs": [
        {
          "data": {
            "text/plain": [
              "\n",
              "Call:\n",
              "lm(formula = tvhours ~ I(generation == \"millennial\"), data = gss18)\n",
              "\n",
              "Residuals:\n",
              "    Min      1Q  Median      3Q     Max \n",
              "-3.0762 -1.4194 -1.0762  0.9238 20.9238 \n",
              "\n",
              "Coefficients:\n",
              "                                  Estimate Std. Error t value Pr(>|t|)    \n",
              "(Intercept)                        3.07619    0.08192  37.552  < 2e-16 ***\n",
              "I(generation == \"millennial\")TRUE -0.65684    0.16597  -3.958 7.92e-05 ***\n",
              "---\n",
              "Signif. codes:  0 ‘***’ 0.001 ‘**’ 0.01 ‘*’ 0.05 ‘.’ 0.1 ‘ ’ 1\n",
              "\n",
              "Residual standard error: 2.784 on 1525 degrees of freedom\n",
              "  (821 observations deleted due to missingness)\n",
              "Multiple R-squared:  0.01017,\tAdjusted R-squared:  0.009517 \n",
              "F-statistic: 15.66 on 1 and 1525 DF,  p-value: 7.92e-05\n"
            ]
          },
          "metadata": {},
          "output_type": "display_data"
        }
      ],
      "source": [
        "# another way"
      ]
    },
    {
      "cell_type": "markdown",
      "metadata": {
        "id": "c0OMLGa_TinU"
      },
      "source": [
        "Why might this be?"
      ]
    },
    {
      "cell_type": "markdown",
      "metadata": {
        "id": "wzQ9eLnuTinU"
      },
      "source": [
        "## Phone usage\n",
        "How many people in each generation use a {land line, cell phone}?"
      ]
    },
    {
      "cell_type": "code",
      "execution_count": null,
      "metadata": {
        "id": "90PpKL_2TinU",
        "outputId": "0010b6bf-5238-4fcc-c1ed-2aa953c29b92"
      },
      "outputs": [
        {
          "data": {
            "text/plain": [
              "            phone\n",
              "generation      no phone     refused phone in home phone elsewhere\n",
              "  silent     0.028000000 0.028000000   0.676000000     0.016000000\n",
              "  boomer     0.004322767 0.050432277   0.423631124     0.024495677\n",
              "  x          0.004310345 0.041666667   0.231321839     0.014367816\n",
              "  millennial 0.003284072 0.016420361   0.090311987     0.003284072\n",
              "  z          0.000000000 0.047619048   0.174603175     0.031746032\n",
              "            phone\n",
              "generation   phone,dk where   cellphone\n",
              "  silent        0.000000000 0.252000000\n",
              "  boomer        0.000000000 0.497118156\n",
              "  x             0.000000000 0.708333333\n",
              "  millennial    0.000000000 0.886699507\n",
              "  z             0.000000000 0.746031746"
            ]
          },
          "metadata": {},
          "output_type": "display_data"
        }
      ],
      "source": [
        "gss18 %>% select(generation, phone) %>% table %>% prop.table(1)"
      ]
    },
    {
      "cell_type": "markdown",
      "metadata": {
        "id": "KQDNNMsTTinU"
      },
      "source": [
        "## Political orientation"
      ]
    },
    {
      "cell_type": "code",
      "execution_count": null,
      "metadata": {
        "id": "-Ti7qR4dTinU",
        "outputId": "f4671881-7eab-4dab-c156-d7b7d710c935"
      },
      "outputs": [
        {
          "data": {
            "text/plain": [
              "            partyid\n",
              "generation   strong democrat not str democrat ind,near dem independent\n",
              "  silent          0.21285141       0.10843373   0.14056225  0.12449799\n",
              "  boomer          0.19202363       0.14327917   0.11225997  0.12703102\n",
              "  x               0.16204380       0.15474453   0.14160584  0.17518248\n",
              "  millennial      0.11570248       0.17024793   0.15206612  0.25950413\n",
              "  z               0.07936508       0.22222222   0.07936508  0.20634921\n",
              "            partyid\n",
              "generation   ind,near rep not str republican strong republican other party\n",
              "  silent       0.09638554         0.10843373        0.18875502  0.02008032\n",
              "  boomer       0.11078287         0.12407681        0.16100443  0.02954210\n",
              "  x            0.10656934         0.13430657        0.09635036  0.02919708\n",
              "  millennial   0.12231405         0.09256198        0.04297521  0.04462810\n",
              "  z            0.15873016         0.14285714        0.06349206  0.04761905"
            ]
          },
          "metadata": {},
          "output_type": "display_data"
        }
      ],
      "source": [
        "select(gss18, generation, partyid) %>% table %>% prop.table(1)"
      ]
    },
    {
      "cell_type": "markdown",
      "metadata": {
        "id": "gy3uY1gZTinU"
      },
      "source": [
        "We can visualize these proportions, but it gets a bit messy because of all the levels."
      ]
    },
    {
      "cell_type": "markdown",
      "metadata": {
        "id": "vj9lyNwzTinU"
      },
      "source": [
        "### Recoding factors\n",
        "Sometimes we want to recode factors to make their labels more interpretable/plottable/whatever. We can use `fct_recode` to this. The syntax is\n",
        "\n",
        "    fct_recode(<factor>, \"new_level1\" = \"old level1\", \"new level2\" = \"old level2\", ...)\n",
        "    \n",
        "A useful feature of `fct_recode` is for combining multiple factors into one:"
      ]
    },
    {
      "cell_type": "code",
      "execution_count": null,
      "metadata": {
        "id": "MBoHDNLvTinU",
        "outputId": "235d269c-039e-4514-80e8-11d04de810fd"
      },
      "outputs": [
        {
          "data": {
            "text/plain": [
              "            partyid\n",
              "generation     Democrat Independent Republican      Other\n",
              "  silent     0.32128514  0.36144578 0.29718876 0.02008032\n",
              "  boomer     0.33530281  0.35007386 0.28508124 0.02954210\n",
              "  x          0.31678832  0.42335766 0.23065693 0.02919708\n",
              "  millennial 0.28595041  0.53388430 0.13553719 0.04462810\n",
              "  z          0.30158730  0.44444444 0.20634921 0.04761905"
            ]
          },
          "metadata": {},
          "output_type": "display_data"
        }
      ],
      "source": [
        "# lump everyone into Democrat, Independent, Republican, or Other"
      ]
    },
    {
      "cell_type": "markdown",
      "metadata": {
        "id": "LpGxHTybTinU"
      },
      "source": [
        "If there are many levels this gets repetitious, so we have an additional command called `fct_collapse` which is specifically designed to handle this case:"
      ]
    },
    {
      "cell_type": "code",
      "execution_count": null,
      "metadata": {
        "id": "mkmnf9_HTinV",
        "outputId": "37cf07ab-ab0b-42f7-d25d-252d8422d8df"
      },
      "outputs": [
        {
          "name": "stderr",
          "output_type": "stream",
          "text": [
            "Warning message:\n",
            "“\u001b[1m\u001b[22mThere was 1 warning in `mutate()`.\n",
            "\u001b[1m\u001b[22m\u001b[36mℹ\u001b[39m In argument: `partyid = fct_collapse(...)`.\n",
            "Caused by warning:\n",
            "\u001b[33m!\u001b[39m Unknown levels in `f`: no answer, don't know”\n"
          ]
        },
        {
          "data": {
            "text/html": [
              "<table class=\"dataframe\">\n",
              "<caption>A tibble: 5 × 2</caption>\n",
              "<thead>\n",
              "\t<tr><th scope=col>partyid</th><th scope=col>n</th></tr>\n",
              "\t<tr><th scope=col>&lt;fct&gt;</th><th scope=col>&lt;int&gt;</th></tr>\n",
              "</thead>\n",
              "<tbody>\n",
              "\t<tr><td>Democrat   </td><td>731</td></tr>\n",
              "\t<tr><td>Independent</td><td>980</td></tr>\n",
              "\t<tr><td>Republican </td><td>527</td></tr>\n",
              "\t<tr><td>Other      </td><td> 77</td></tr>\n",
              "\t<tr><td>NA         </td><td> 33</td></tr>\n",
              "</tbody>\n",
              "</table>\n"
            ],
            "text/latex": [
              "A tibble: 5 × 2\n",
              "\\begin{tabular}{ll}\n",
              " partyid & n\\\\\n",
              " <fct> & <int>\\\\\n",
              "\\hline\n",
              "\t Democrat    & 731\\\\\n",
              "\t Independent & 980\\\\\n",
              "\t Republican  & 527\\\\\n",
              "\t Other       &  77\\\\\n",
              "\t NA          &  33\\\\\n",
              "\\end{tabular}\n"
            ],
            "text/markdown": [
              "\n",
              "A tibble: 5 × 2\n",
              "\n",
              "| partyid &lt;fct&gt; | n &lt;int&gt; |\n",
              "|---|---|\n",
              "| Democrat    | 731 |\n",
              "| Independent | 980 |\n",
              "| Republican  | 527 |\n",
              "| Other       |  77 |\n",
              "| NA          |  33 |\n",
              "\n"
            ],
            "text/plain": [
              "  partyid     n  \n",
              "1 Democrat    731\n",
              "2 Independent 980\n",
              "3 Republican  527\n",
              "4 Other        77\n",
              "5 NA           33"
            ]
          },
          "metadata": {},
          "output_type": "display_data"
        }
      ],
      "source": [
        "gss18 %>%\n",
        "  mutate(partyid = fct_collapse(partyid,\n",
        "    Other = c(\"no answer\", \"don't know\", \"other party\"),\n",
        "    Republican = c(\"strong republican\", \"not str republican\"),\n",
        "    Independent = c(\"ind,near rep\", \"independent\", \"ind,near dem\"),\n",
        "    Democrat = c(\"not str democrat\", \"strong democrat\")\n",
        "  )) %>%\n",
        "  count(partyid)"
      ]
    },
    {
      "cell_type": "markdown",
      "metadata": {
        "id": "9cncCkIRTinV"
      },
      "source": [
        "## Party affiliation across generations\n",
        "How does general party affiliation vary across generations?"
      ]
    },
    {
      "cell_type": "code",
      "execution_count": null,
      "metadata": {
        "id": "ASRa9yOJTinV"
      },
      "outputs": [],
      "source": []
    },
    {
      "cell_type": "markdown",
      "metadata": {
        "id": "WAyEQEyhTinV"
      },
      "source": [
        "## Happiness\n",
        "The `unhappy` survey question asks:"
      ]
    },
    {
      "cell_type": "code",
      "execution_count": null,
      "metadata": {
        "id": "gtSKTaaXTinV",
        "outputId": "ea4cde0a-4564-4df8-b142-cd0d5b3a53ae"
      },
      "outputs": [
        {
          "data": {
            "text/html": [
              "<table class=\"dataframe\">\n",
              "<caption>A tibble: 1 × 1</caption>\n",
              "<thead>\n",
              "\t<tr><th scope=col>description</th></tr>\n",
              "\t<tr><th scope=col>&lt;chr&gt;</th></tr>\n",
              "</thead>\n",
              "<tbody>\n",
              "\t<tr><td>How often R was unhappy or depressed in past 4 weeks</td></tr>\n",
              "</tbody>\n",
              "</table>\n"
            ],
            "text/latex": [
              "A tibble: 1 × 1\n",
              "\\begin{tabular}{l}\n",
              " description\\\\\n",
              " <chr>\\\\\n",
              "\\hline\n",
              "\t How often R was unhappy or depressed in past 4 weeks\\\\\n",
              "\\end{tabular}\n"
            ],
            "text/markdown": [
              "\n",
              "A tibble: 1 × 1\n",
              "\n",
              "| description &lt;chr&gt; |\n",
              "|---|\n",
              "| How often R was unhappy or depressed in past 4 weeks |\n",
              "\n"
            ],
            "text/plain": [
              "  description                                         \n",
              "1 How often R was unhappy or depressed in past 4 weeks"
            ]
          },
          "metadata": {},
          "output_type": "display_data"
        }
      ],
      "source": [
        "gss18.doc %>% filter(id=='unhappy') %>% select(description)"
      ]
    },
    {
      "cell_type": "markdown",
      "metadata": {
        "id": "BwvjMHgHTinV"
      },
      "source": [
        "How does happiness vary with political orientation?"
      ]
    },
    {
      "cell_type": "code",
      "execution_count": null,
      "metadata": {
        "id": "pyWAmlHYTinV",
        "outputId": "dbc38c1f-a695-4b21-e435-ab97bbab152a"
      },
      "outputs": [
        {
          "data": {
            "text/plain": [
              "                    unhappy\n",
              "partyid                    never      rarely   sometimes       often\n",
              "  strong democrat    0.406417112 0.320855615 0.197860963 0.064171123\n",
              "  not str democrat   0.287425150 0.371257485 0.191616766 0.107784431\n",
              "  ind,near dem       0.300613497 0.349693252 0.239263804 0.085889571\n",
              "  independent        0.352941176 0.310160428 0.203208556 0.074866310\n",
              "  ind,near rep       0.372093023 0.310077519 0.263565891 0.046511628\n",
              "  not str republican 0.442028986 0.318840580 0.152173913 0.065217391\n",
              "  strong republican  0.464285714 0.335714286 0.157142857 0.028571429\n",
              "  other party        0.333333333 0.404761905 0.166666667 0.071428571\n",
              "                    unhappy\n",
              "partyid               very often\n",
              "  strong democrat    0.010695187\n",
              "  not str democrat   0.041916168\n",
              "  ind,near dem       0.024539877\n",
              "  independent        0.058823529\n",
              "  ind,near rep       0.007751938\n",
              "  not str republican 0.021739130\n",
              "  strong republican  0.014285714\n",
              "  other party        0.023809524"
            ]
          },
          "metadata": {},
          "output_type": "display_data"
        }
      ],
      "source": [
        "# happiness v politics"
      ]
    }
  ],
  "metadata": {
    "celltoolbar": "Slideshow",
    "kernelspec": {
      "display_name": "R",
      "language": "R",
      "name": "ir"
    },
    "language_info": {
      "codemirror_mode": "r",
      "file_extension": ".r",
      "mimetype": "text/x-r-source",
      "name": "R",
      "pygments_lexer": "r",
      "version": "4.2.2"
    },
    "toc": {
      "nav_menu": {},
      "number_sections": true,
      "sideBar": true,
      "skip_h1_title": true,
      "toc_cell": false,
      "toc_position": {},
      "toc_section_display": "block",
      "toc_window_display": true
    },
    "colab": {
      "provenance": []
    }
  },
  "nbformat": 4,
  "nbformat_minor": 0
}