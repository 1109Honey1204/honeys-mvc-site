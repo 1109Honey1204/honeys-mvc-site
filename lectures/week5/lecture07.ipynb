{
  "cells": [
    {
      "cell_type": "code",
      "execution_count": 8,
      "metadata": {
        "id": "woM7HsCrguwX"
      },
      "outputs": [],
      "source": [
        "options(repr.plot.width=8, repr.plot.height=5)\n",
        "library(tidyverse)\n",
        "library(ggplot2)"
      ]
    },
    {
      "cell_type": "markdown",
      "metadata": {
        "id": "194GUKbtguwX"
      },
      "source": [
        "# Lecture 6: Advanced ggplot\n",
        "\n",
        "<div style=\"border: 1px double black; padding: 10px; margin: 10px\">\n",
        "\n",
        "**In today's lecture you will:**\n",
        "* See some examples of great and not-so-great visualizations.\n",
        "* Along the way, learn how to use ggplot to make clear and effective plots.\n",
        "\n",
        "This lecture note corresponds (loosely) to Chapters 11-13 of your book. \n",
        "</div>\n",
        "\n",
        "\n",
        "    \n",
        "\n",
        "\n"
      ]
    },
    {
      "cell_type": "markdown",
      "metadata": {
        "id": "UgtJRwF-guwY"
      },
      "source": [
        "## Basic rules for making good plots\n",
        "1. Label the axes.\n",
        "2. Include units.\n",
        "3. Explain anything that is \"encoded\" (color scales, size variation, etc.)\n",
        "4. Use appropriate geometry.\n",
        "5. Include sources/attribution.\n",
        "6. Use the simplest possible design necessary to convey the information."
      ]
    },
    {
      "cell_type": "markdown",
      "metadata": {
        "id": "l_CxXcXRguwY"
      },
      "source": [
        "## Good visualizations"
      ]
    },
    {
      "cell_type": "markdown",
      "metadata": {
        "id": "ILnAINkaguwY"
      },
      "source": [
        "![faith in america](https://www.pewresearch.org/religion/wp-content/uploads/sites/7/2022/09/PF_2022.09.13_religious-projections_01-01.png?w=553)"
      ]
    },
    {
      "cell_type": "markdown",
      "metadata": {
        "id": "3o4isnapguwY"
      },
      "source": [
        "![image.png](attachment:image.png)"
      ]
    },
    {
      "cell_type": "markdown",
      "metadata": {
        "id": "63DOjukeguwY"
      },
      "source": [
        "![euro](https://www.royfrancis.com/assets/images/posts/2015/2015-10-01-elegant-scientific-graphs-learning-from-examples/reuters-europe-unemployment.jpg)"
      ]
    },
    {
      "cell_type": "markdown",
      "metadata": {
        "id": "8PHsPwheguwY"
      },
      "source": [
        "![stem cell](https://www.royfrancis.com/assets/images/posts/2015/2015-10-01-elegant-scientific-graphs-learning-from-examples/ns-network-stem-cell.jpg)"
      ]
    },
    {
      "cell_type": "markdown",
      "metadata": {
        "id": "G9CPqoSaguwY"
      },
      "source": [
        "![image.png](attachment:image.png)"
      ]
    },
    {
      "cell_type": "markdown",
      "metadata": {
        "id": "PrLErEU1guwY"
      },
      "source": [
        "## Bad visualizations\n",
        "Sometimes the easiest way to learn what to do is to study what not to do...\n",
        "\n",
        "(Mostly taken from https://badvisualisations.tumblr.com).\n"
      ]
    },
    {
      "cell_type": "markdown",
      "metadata": {
        "id": "Lf-pn8JMguwY"
      },
      "source": [
        "### 131%\n",
        "\n",
        "![image.png](attachment:image.png)"
      ]
    },
    {
      "cell_type": "code",
      "execution_count": null,
      "metadata": {
        "id": "rv2TGOKoguwZ",
        "outputId": "12b4d300-09fb-48aa-aa3b-fa63fee20e72"
      },
      "outputs": [
        {
          "data": {
            "text/html": [
              "<table class=\"dataframe\">\n",
              "<caption>A tibble: 3 × 2</caption>\n",
              "<thead>\n",
              "\t<tr><th scope=col>event</th><th scope=col>probability</th></tr>\n",
              "\t<tr><th scope=col>&lt;chr&gt;</th><th scope=col>&lt;dbl&gt;</th></tr>\n",
              "</thead>\n",
              "<tbody>\n",
              "\t<tr><td>NDA staying below 220 </td><td>0.09</td></tr>\n",
              "\t<tr><td>NDA crossing 250      </td><td>0.72</td></tr>\n",
              "\t<tr><td>NDA getting a majority</td><td>0.50</td></tr>\n",
              "</tbody>\n",
              "</table>\n"
            ],
            "text/latex": [
              "A tibble: 3 × 2\n",
              "\\begin{tabular}{ll}\n",
              " event & probability\\\\\n",
              " <chr> & <dbl>\\\\\n",
              "\\hline\n",
              "\t NDA staying below 220  & 0.09\\\\\n",
              "\t NDA crossing 250       & 0.72\\\\\n",
              "\t NDA getting a majority & 0.50\\\\\n",
              "\\end{tabular}\n"
            ],
            "text/markdown": [
              "\n",
              "A tibble: 3 × 2\n",
              "\n",
              "| event &lt;chr&gt; | probability &lt;dbl&gt; |\n",
              "|---|---|\n",
              "| NDA staying below 220  | 0.09 |\n",
              "| NDA crossing 250       | 0.72 |\n",
              "| NDA getting a majority | 0.50 |\n",
              "\n"
            ],
            "text/plain": [
              "  event                  probability\n",
              "1 NDA staying below 220  0.09       \n",
              "2 NDA crossing 250       0.72       \n",
              "3 NDA getting a majority 0.50       "
            ]
          },
          "metadata": {},
          "output_type": "display_data"
        }
      ],
      "source": [
        "tribble(\n",
        "    ~event, ~probability,\n",
        "    \"NDA staying below 220\", .09,\n",
        "    \"NDA crossing 250\", .72,\n",
        "    \"NDA getting a majority\", .5\n",
        ")"
      ]
    },
    {
      "cell_type": "markdown",
      "metadata": {
        "id": "Zf3qFkQ_guwZ"
      },
      "source": [
        "#### A giant amongst women\n",
        "![image.png](attachment:image.png)"
      ]
    },
    {
      "cell_type": "code",
      "execution_count": null,
      "metadata": {
        "id": "XPjVd07jguwZ",
        "outputId": "c8fe35ca-279c-49b4-d28c-d677de46f571"
      },
      "outputs": [
        {
          "data": {
            "text/html": [
              "<table class=\"dataframe\">\n",
              "<caption>A tibble: 6 × 2</caption>\n",
              "<thead>\n",
              "\t<tr><th scope=col>country</th><th scope=col>height</th></tr>\n",
              "\t<tr><th scope=col>&lt;chr&gt;</th><th scope=col>&lt;chr&gt;</th></tr>\n",
              "</thead>\n",
              "<tbody>\n",
              "\t<tr><td>Latvia      </td><td>5'5</td></tr>\n",
              "\t<tr><td>Australia   </td><td>5'4</td></tr>\n",
              "\t<tr><td>Scotland    </td><td>5'4</td></tr>\n",
              "\t<tr><td>Peru        </td><td>5'4</td></tr>\n",
              "\t<tr><td>South Africa</td><td>5'2</td></tr>\n",
              "\t<tr><td>India       </td><td>5'0</td></tr>\n",
              "</tbody>\n",
              "</table>\n"
            ],
            "text/latex": [
              "A tibble: 6 × 2\n",
              "\\begin{tabular}{ll}\n",
              " country & height\\\\\n",
              " <chr> & <chr>\\\\\n",
              "\\hline\n",
              "\t Latvia       & 5'5\\\\\n",
              "\t Australia    & 5'4\\\\\n",
              "\t Scotland     & 5'4\\\\\n",
              "\t Peru         & 5'4\\\\\n",
              "\t South Africa & 5'2\\\\\n",
              "\t India        & 5'0\\\\\n",
              "\\end{tabular}\n"
            ],
            "text/markdown": [
              "\n",
              "A tibble: 6 × 2\n",
              "\n",
              "| country &lt;chr&gt; | height &lt;chr&gt; |\n",
              "|---|---|\n",
              "| Latvia       | 5'5 |\n",
              "| Australia    | 5'4 |\n",
              "| Scotland     | 5'4 |\n",
              "| Peru         | 5'4 |\n",
              "| South Africa | 5'2 |\n",
              "| India        | 5'0 |\n",
              "\n"
            ],
            "text/plain": [
              "  country      height\n",
              "1 Latvia       5'5   \n",
              "2 Australia    5'4   \n",
              "3 Scotland     5'4   \n",
              "4 Peru         5'4   \n",
              "5 South Africa 5'2   \n",
              "6 India        5'0   "
            ]
          },
          "metadata": {},
          "output_type": "display_data"
        }
      ],
      "source": [
        "tribble(\n",
        "    ~country, ~height,\n",
        "    \"Latvia\", \"5'5\",\n",
        "    \"Australia\", \"5'4\",\n",
        "    \"Scotland\", \"5'4\",\n",
        "    \"Peru\", \"5'4\",\n",
        "    \"South Africa\", \"5'2\",\n",
        "    \"India\", \"5'0\"\n",
        ")"
      ]
    },
    {
      "cell_type": "markdown",
      "metadata": {
        "id": "zXsX6b8KguwZ"
      },
      "source": [
        "<span style=\"font-size: 6px;\">That'sreallyalotofinformationforsuchasmallspace</span>\n",
        "![image.png](attachment:image.png)"
      ]
    },
    {
      "cell_type": "markdown",
      "metadata": {
        "id": "6BI8_wVnguwZ"
      },
      "source": [
        "#### Bangaloroscope\n",
        "![image.png](attachment:image.png)"
      ]
    },
    {
      "cell_type": "markdown",
      "metadata": {
        "id": "e7MqHSFuguwZ"
      },
      "source": [
        "#### Where is the bathroom\n",
        "![image.png](attachment:image.png)"
      ]
    },
    {
      "cell_type": "markdown",
      "metadata": {
        "id": "yFTf8GCSguwZ"
      },
      "source": [
        "#### y-not\n",
        "![image.png](attachment:image.png)"
      ]
    },
    {
      "cell_type": "markdown",
      "metadata": {
        "id": "5sgor17tguwZ"
      },
      "source": [
        "#### Time warp\n",
        "\n",
        "![image.png](attachment:image.png)"
      ]
    },
    {
      "cell_type": "markdown",
      "metadata": {
        "id": "yMf8CMQTguwZ"
      },
      "source": [
        "\n",
        "![image.png](attachment:image.png)"
      ]
    },
    {
      "cell_type": "markdown",
      "metadata": {
        "id": "JN0RhOkBguwZ"
      },
      "source": [
        "(Link to the paper): https://www.jstor.org/stable/2683253#metadata_info_tab_contents"
      ]
    },
    {
      "cell_type": "markdown",
      "metadata": {
        "id": "dsL_iRN5guwZ"
      },
      "source": [
        "## Rule #1: Show as Few Data as Possible \n",
        "\n",
        "- [Tufte](https://www.edwardtufte.com/tufte/) (famous data viz guy) defines the \"data density index\" (ddi) as \"the number of numbers plotted per square inch.\" \n",
        "- In order to make a bad plot, you want to strive for a ddi that is _as low as possible_.\n",
        "- Rough guidelines:\n",
        "    - $\\text{ddi}=1$: novice\n",
        "    - $\\text{ddi}=.5$: intermediate\n",
        "    - $\\text{ddi}=.1$: elite-level, or first-year art student\n",
        "- (Anything above ddi=20 places you at risk of making a good plot.)\n",
        "\n",
        "\n"
      ]
    },
    {
      "cell_type": "markdown",
      "metadata": {
        "id": "eTB3iSqOguwZ"
      },
      "source": [
        "![image.png](attachment:image.png)\n",
        "\n",
        "There are three numbers plotted in a $5\\times 3 \\text{in}$ graphic, so $\\text{ddi}=.2$."
      ]
    },
    {
      "cell_type": "code",
      "execution_count": null,
      "metadata": {
        "id": "Vp0rXA3Uguwa"
      },
      "outputs": [],
      "source": [
        "df1a <- tribble(\n",
        "    ~year, ~jp_pct,\n",
        "    1967,  .44,\n",
        "    1972,  .623,\n",
        "    1977, .70\n",
        ")\n"
      ]
    },
    {
      "cell_type": "markdown",
      "metadata": {
        "id": "PdeRZyz-guwa"
      },
      "source": [
        "![image.png](attachment:image.png)"
      ]
    },
    {
      "cell_type": "code",
      "execution_count": 10,
      "metadata": {
        "id": "UzSOP4Vzguwa",
        "outputId": "dfbf6406-6f42-4591-a702-54c3f0faefb4",
        "colab": {
          "base_uri": "https://localhost:8080/",
          "height": 322
        }
      },
      "outputs": [
        {
          "output_type": "error",
          "ename": "ERROR",
          "evalue": "ignored",
          "traceback": [
            "\u001b[1m\u001b[33mError\u001b[39m in `ggplot_add()`:\u001b[22m\n\u001b[1m\u001b[22m\u001b[33m!\u001b[39m Can't add `geom_col` to a \u001b[34m<ggplot>\u001b[39m object\n\u001b[36mℹ\u001b[39m Did you forget to add parentheses, as in `geom_col()`?\nTraceback:\n",
            "1. `+.gg`(ggplot(df1b) + geom_col(aes(x = year, y = expenditures)), \n .     geom_col)",
            "2. add_ggplot(e1, e2, e2name)",
            "3. ggplot_add(object, p, objectname)",
            "4. ggplot_add.function(object, p, objectname)",
            "5. cli::cli_abort(c(\"Can't add {.var {object_name}} to a {.cls ggplot} object\", \n .     i = \"Did you forget to add parentheses, as in {.fn {object_name}}?\"))",
            "6. rlang::abort(message, ..., call = call, use_cli_format = TRUE, \n .     .frame = .frame)",
            "7. signal_abort(cnd, .file)"
          ]
        }
      ],
      "source": [
        "df1b <- tribble(\n",
        "    ~year, ~expenditures,\n",
        "    1972, 75,\n",
        "    1974, 80,\n",
        "    1976, 125,\n",
        "    1978, 200,\n",
        "    1980, 245,\n",
        "    1982, 305\n",
        ")\n",
        "library(ggplot2)\n",
        "ggplot(df1b)+geom_col(aes(x=year, y =expenditures))+geom_col+\n",
        "  labs(y=\"Expendutures($millions)\", x=\"year\")+\n",
        "  geom_text(aes(label=expenditures),nudge_y = 10)"
      ]
    },
    {
      "cell_type": "markdown",
      "metadata": {
        "id": "TuDqV-XBguwa"
      },
      "source": [
        "## Poll\n",
        "\n",
        "Which graphic do I prefer:\n",
        "\n",
        "<ol style=\"list-style-type: upper-alpha;\">\n",
        "    <li>The monster</li>\n",
        "    <li>The bar chart</li>\n",
        "</ol>"
      ]
    },
    {
      "cell_type": "markdown",
      "metadata": {
        "id": "7SyuUpf8guwa"
      },
      "source": [
        "## Rule #2: Hide the data\n",
        "- In situations where it is necessary to show data, make sure it is well hidden.\n",
        "- Add visual distractions such as grids, illustrations, and other doo-dads that draw the eye away from the data points.\n",
        "- Minimize contrast, ensuring that older/visually impaired readers have an especially difficult time reading your plot.\n",
        "- Minimize variation by choosing a scale that is several order of magnitude larger than the natural range of the data. "
      ]
    },
    {
      "cell_type": "markdown",
      "metadata": {
        "id": "2ZaKQFygguwa"
      },
      "source": [
        "![image.png](attachment:image.png)"
      ]
    },
    {
      "cell_type": "code",
      "execution_count": null,
      "metadata": {
        "id": "1pvAkZ9Oguwa"
      },
      "outputs": [],
      "source": [
        "df2 <- tribble(\n",
        "    ~school_year, ~type, ~n,\n",
        "    1930, \"private\", 9275,\n",
        "    1940, \"private\", 10000,\n",
        "    1950, \"private\", 10375,\n",
        "    1960, \"private\", 13574,\n",
        "    1970, \"private\", 14372,\n",
        "    1930, \"public\", 255000,\n",
        "    1940, \"public\", 191000,\n",
        "    1950, \"public\", 140000,\n",
        "    1960, \"public\", 105000,\n",
        "    1970, \"public\", 85000,\n",
        ")\n",
        "ggplot(df2,aes(x=school_year,y=n,fill=type()))+geom_col"
      ]
    },
    {
      "cell_type": "markdown",
      "metadata": {
        "id": "MihjzLOTguwa"
      },
      "source": [
        "![image.png](attachment:image.png)"
      ]
    },
    {
      "cell_type": "markdown",
      "metadata": {
        "id": "zdfFT_ZYguwa"
      },
      "source": [
        "## Rule #3: Trick the eye\n",
        "- The human eye is easily deceived by changes in ordering, scale, and visual metaphor. \n",
        "    - Switch up the scale, preferably in the same plot.\n",
        "    - Represent smaller numbers using larger objects, and vice versa.\n",
        "    - Level 99 trick: represent lengths by area."
      ]
    },
    {
      "cell_type": "markdown",
      "metadata": {
        "id": "yYZtCDqzguwa"
      },
      "source": [
        "![image.png](attachment:image.png)"
      ]
    },
    {
      "cell_type": "code",
      "execution_count": null,
      "metadata": {
        "id": "AVMPAXDTguwa"
      },
      "outputs": [],
      "source": [
        "df3 <- tribble(\n",
        "    ~year, ~president, ~ppower,\n",
        "    1958,  \"eisenhower\", 1.0,\n",
        "    1963, \"kennedy\", .94,\n",
        "    1968, \"johnson\", .83,\n",
        "    1973, \"nixon\", .64,\n",
        "    1975, \"ford\", .60,\n",
        "    1978, \"carter\", .44\n",
        ")"
      ]
    },
    {
      "cell_type": "markdown",
      "metadata": {
        "id": "Xu7NTQbPguwa"
      },
      "source": [
        "![image-2.png](attachment:image-2.png)"
      ]
    },
    {
      "cell_type": "markdown",
      "metadata": {
        "id": "KecAgtSTguwa"
      },
      "source": [
        "![image.png](attachment:image.png)"
      ]
    },
    {
      "cell_type": "code",
      "execution_count": null,
      "metadata": {
        "id": "B8r0vBZiguwa"
      },
      "outputs": [],
      "source": [
        "df4 <- tribble(\n",
        "    ~year, ~paper, ~subscribers,\n",
        "    1977, \"post\", 503000,\n",
        "    1978, \"post\", 621000,\n",
        "    1979, \"post\", 642000,\n",
        "    1980, \"post\", 654000,\n",
        "    1981, \"post\", 732000,\n",
        "    1977, \"news\", 1911000,\n",
        "    1978, \"news\", 1829000,\n",
        "    1979, \"news\", 1636000,\n",
        "    1980, \"news\", 1555000,\n",
        "    1981, \"news\", 1491000\n",
        "\n",
        ")"
      ]
    },
    {
      "cell_type": "markdown",
      "metadata": {
        "id": "Xg-d9nFTguwa"
      },
      "source": [
        "\n",
        "![image-2.png](attachment:image-2.png)"
      ]
    },
    {
      "cell_type": "code",
      "execution_count": null,
      "metadata": {
        "id": "VkITyQWqguwa"
      },
      "outputs": [],
      "source": [
        "df5 <- tribble(\n",
        "    ~year, ~doctor, ~other,\n",
        "    1939, 3262, 1809,\n",
        "    1947, 8744, NA,\n",
        "    1951, 13150, 4071,\n",
        "    1955, 16107, 5055,\n",
        "    1963, 25050, 7182,\n",
        "    1965, 28960, 7798,\n",
        "    1967, 34740, 8882,\n",
        "    1970, 43100, 10722,\n",
        "    1972, 46780, 12097,\n",
        "    1973, 50823, 12977,\n",
        "    1974, 54140, 13391,\n",
        "    1975, 58440, 14311,\n",
        "    1976, 62799, 15272\n",
        ")"
      ]
    },
    {
      "cell_type": "code",
      "execution_count": null,
      "metadata": {
        "id": "KI_go8zTguwa"
      },
      "outputs": [],
      "source": [
        "# doctor plot"
      ]
    },
    {
      "cell_type": "markdown",
      "metadata": {
        "id": "jHfc1RRuguwa"
      },
      "source": [
        "## Rule #4: Eliminate context\n",
        "- Context helps the viewer obtain a global/big picture understanding of the data.\n",
        "- But sometimes the big picture is, inconveniently, at odds with what you wish to be true."
      ]
    },
    {
      "cell_type": "markdown",
      "metadata": {
        "id": "HXpZ5iYVguwa"
      },
      "source": [
        "![image.png](attachment:image.png)"
      ]
    },
    {
      "cell_type": "code",
      "execution_count": null,
      "metadata": {
        "id": "ctQjYwhbguwa"
      },
      "outputs": [],
      "source": [
        "df6 <- tribble(\n",
        "    ~year, ~plan, ~payments,\n",
        "    1982, \"wmc\", 2350,\n",
        "    1982, \"president\", 2300,\n",
        "    1983, \"wmc\", 2300,\n",
        "    1983, \"president\", 2250,\n",
        "    1984, \"wmc\", 2350,\n",
        "    1984, \"president\", 2200,\n",
        "    1985, \"wmc\", 2400,\n",
        "    1985, \"president\", 2200,\n",
        "    1986, \"wmc\", 2450,\n",
        "    1986, \"president\", 2200\n",
        ")"
      ]
    },
    {
      "cell_type": "markdown",
      "metadata": {
        "id": "vDXqVhaAguwa"
      },
      "source": [
        "## Rule #5: Dwell on the trivial\n",
        "- Prefer plots that emphasize inconsequential differences in the data, thus obscuring the important ones."
      ]
    },
    {
      "cell_type": "markdown",
      "metadata": {
        "id": "HJy6sOfoguwb"
      },
      "source": [
        "![image.png](attachment:image.png)"
      ]
    },
    {
      "cell_type": "markdown",
      "metadata": {
        "id": "3jJnQMHkguwb"
      },
      "source": [
        "I'm too lazy to manually type in all the numbers in the previous plot, so I went straight to the source: [CPS Historical Time Series Tables]. After some finagling (which you can find in the `cps.ipynb` notebook in this folder, if you are curious) I produced the following dataset containing similar data:"
      ]
    },
    {
      "cell_type": "code",
      "execution_count": null,
      "metadata": {
        "id": "vOdqlmNWguwb"
      },
      "outputs": [],
      "source": [
        "# earnings differences, men vs women\n",
        "load(url('https://datasets.stats306.org/cps.RData'))"
      ]
    },
    {
      "cell_type": "markdown",
      "metadata": {
        "id": "2M_JRYaKguwb"
      },
      "source": [
        "The ``facet_grid()`` command here told ggplot to generate a separate plot for each level of the discrete variable **sex**. It also went ahead and arranged them into a nice 2x1 grid format.\n",
        "\n",
        "The syntax to facet may look a little funny: \n",
        "```{r}\n",
        "facet_grid(sex ~ .)\n",
        "```\n",
        "The tilde (``~``) at the beginning denotes what is called a **formula** in R. We will discuss formulas later in the class when we talk about modeling. For now, just keep in mind that the facet command must be written just so for things to work:"
      ]
    },
    {
      "cell_type": "markdown",
      "metadata": {
        "id": "7Wz9Dqjzguwb"
      },
      "source": [
        "## Rule #5: Label nothing\n",
        "- Labeling the axes of a plot, and giving it a title, is a sign of weakness.\n",
        "- Therefore, doing none of these is a sign of strength."
      ]
    },
    {
      "cell_type": "markdown",
      "metadata": {
        "id": "85JS36bjguwb"
      },
      "source": [
        "#### I think your Gibbs sampler is broken\n",
        "![bad plot](https://www.biostat.wisc.edu/~kbroman/topten_worstgraphs/mykland_fig1.jpg)\n",
        "<caption> (Actual plot from a paper in a respected statistics journal.)</caption>\n",
        "<small>Source: <a href=\"https://www.biostat.wisc.edu/~kbroman/topten_worstgraphs/\">https://www.biostat.wisc.edu/~kbroman/topten_worstgraphs/</a></small>"
      ]
    },
    {
      "cell_type": "markdown",
      "metadata": {
        "id": "Bci3m14lguwb"
      },
      "source": [
        "## Labels in ggplot\n",
        "Plot labels in ggplot can be set using the `labs()` command. The main types of labels are:\n",
        "- Title: Summarizes the main finding. Avoid titles that just describe what the plot is, e.g. “A scatterplot of engine displacement vs. fuel economy”.\n",
        "- Subtitle adds additional detail in a smaller font beneath the title.\n",
        "- Caption adds text at the bottom right of the plot, often used to describe the source of the data."
      ]
    },
    {
      "cell_type": "markdown",
      "metadata": {
        "id": "Ex-rODc1guwb"
      },
      "source": [
        "## Rule #6 (my own rule): Abuse correlation\n",
        "- Correlation is everywhere. \n",
        "- Continue sifting through the data until you find a correlation that supports whatever point you wish to make. \n",
        "- Then plot this correlation for maximal effect.\n"
      ]
    },
    {
      "cell_type": "markdown",
      "metadata": {
        "id": "A6n5IcJqguwb"
      },
      "source": [
        "I downloaded time series data on a) [per-capita income in Ann Arbor](https://fred.stlouisfed.org/series/ANNA426PCPI) and ii) [the total population of Paraguay](https://data.worldbank.org/indicator/SP.POP.TOTL?locations=PY) and put them in a table `a2i.pp`:"
      ]
    },
    {
      "cell_type": "code",
      "execution_count": null,
      "metadata": {
        "id": "SBVcka_nguwb",
        "outputId": "6cf387c8-d459-46b7-98f4-d6eca02f8fe5"
      },
      "outputs": [
        {
          "name": "stdout",
          "output_type": "stream",
          "text": [
            "\u001b[90m# A data frame: 48 × 3\u001b[39m\n",
            "    year a2.income para.pop\n",
            "   \u001b[3m\u001b[90m<int>\u001b[39m\u001b[23m     \u001b[3m\u001b[90m<int>\u001b[39m\u001b[23m    \u001b[3m\u001b[90m<dbl>\u001b[39m\u001b[23m\n",
            "\u001b[90m 1\u001b[39m  \u001b[4m1\u001b[24m969      \u001b[4m4\u001b[24m679  2\u001b[4m4\u001b[24m\u001b[4m1\u001b[24m\u001b[4m2\u001b[24m566\n",
            "\u001b[90m 2\u001b[39m  \u001b[4m1\u001b[24m970      \u001b[4m4\u001b[24m640  2\u001b[4m4\u001b[24m\u001b[4m7\u001b[24m\u001b[4m4\u001b[24m106\n",
            "\u001b[90m 3\u001b[39m  \u001b[4m1\u001b[24m971      \u001b[4m5\u001b[24m085  2\u001b[4m5\u001b[24m\u001b[4m3\u001b[24m\u001b[4m5\u001b[24m359\n",
            "\u001b[90m 4\u001b[39m  \u001b[4m1\u001b[24m972      \u001b[4m5\u001b[24m538  2\u001b[4m5\u001b[24m\u001b[4m9\u001b[24m\u001b[4m6\u001b[24m739\n",
            "\u001b[90m 5\u001b[39m  \u001b[4m1\u001b[24m973      \u001b[4m6\u001b[24m084  2\u001b[4m6\u001b[24m\u001b[4m5\u001b[24m\u001b[4m9\u001b[24m088\n",
            "\u001b[90m 6\u001b[39m  \u001b[4m1\u001b[24m974      \u001b[4m6\u001b[24m313  2\u001b[4m7\u001b[24m\u001b[4m2\u001b[24m\u001b[4m3\u001b[24m523\n",
            "\u001b[90m 7\u001b[39m  \u001b[4m1\u001b[24m975      \u001b[4m7\u001b[24m100  2\u001b[4m7\u001b[24m\u001b[4m9\u001b[24m\u001b[4m0\u001b[24m962\n",
            "\u001b[90m 8\u001b[39m  \u001b[4m1\u001b[24m976      \u001b[4m7\u001b[24m916  2\u001b[4m8\u001b[24m\u001b[4m6\u001b[24m\u001b[4m1\u001b[24m581\n",
            "\u001b[90m 9\u001b[39m  \u001b[4m1\u001b[24m977      \u001b[4m8\u001b[24m807  2\u001b[4m9\u001b[24m\u001b[4m3\u001b[24m\u001b[4m5\u001b[24m375\n",
            "\u001b[90m10\u001b[39m  \u001b[4m1\u001b[24m978      \u001b[4m9\u001b[24m938  3\u001b[4m0\u001b[24m\u001b[4m1\u001b[24m\u001b[4m2\u001b[24m829\n",
            "\u001b[90m# … with 38 more rows\u001b[39m\n"
          ]
        }
      ],
      "source": [
        "load(url('https://datasets.stats306.org/a2pp.RData'))\n",
        "print(a2i.pp)"
      ]
    },
    {
      "cell_type": "markdown",
      "metadata": {
        "id": "EPmYXyCHguwb"
      },
      "source": [
        "## 🤔 Quiz\n",
        "\n",
        "What's the correlation of `a2.income` and `para.pop`?\n",
        "\n",
        "<ol style=\"list-style-type: upper-alpha;\">\n",
        "    <li>Something negative</li>\n",
        "    <li>0.0 - 0.5</li>\n",
        "    <li>0.5 - 0.8</li>\n",
        "    <li>0.8 - 0.9</li>\n",
        "    <li>Above 0.9</li>\n",
        "</ol>"
      ]
    },
    {
      "cell_type": "code",
      "execution_count": null,
      "metadata": {
        "id": "8ZDeqOlxguwb"
      },
      "outputs": [],
      "source": [
        "# plot of a2i.pp"
      ]
    }
  ],
  "metadata": {
    "celltoolbar": "Slideshow",
    "kernelspec": {
      "display_name": "R",
      "language": "R",
      "name": "ir"
    },
    "language_info": {
      "codemirror_mode": "r",
      "file_extension": ".r",
      "mimetype": "text/x-r-source",
      "name": "R",
      "pygments_lexer": "r",
      "version": "4.2.2"
    },
    "colab": {
      "provenance": []
    }
  },
  "nbformat": 4,
  "nbformat_minor": 0
}