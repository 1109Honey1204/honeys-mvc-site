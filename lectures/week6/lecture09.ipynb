{
  "cells": [
    {
      "cell_type": "code",
      "execution_count": 1,
      "metadata": {
        "id": "keQMWA5SlCbv",
        "outputId": "76913fc5-c70b-49de-e0db-1979e9f70523",
        "colab": {
          "base_uri": "https://localhost:8080/"
        }
      },
      "outputs": [
        {
          "output_type": "stream",
          "name": "stderr",
          "text": [
            "Installing package into ‘/usr/local/lib/R/site-library’\n",
            "(as ‘lib’ is unspecified)\n",
            "\n",
            "Warning message in system(\"timedatectl\", intern = TRUE):\n",
            "“running command 'timedatectl' had status 1”\n",
            "── \u001b[1mAttaching packages\u001b[22m ─────────────────────────────────────── tidyverse 1.3.1 ──\n",
            "\n",
            "\u001b[32m✔\u001b[39m \u001b[34mggplot2\u001b[39m 3.4.0     \u001b[32m✔\u001b[39m \u001b[34mpurrr  \u001b[39m 1.0.1\n",
            "\u001b[32m✔\u001b[39m \u001b[34mtibble \u001b[39m 3.1.8     \u001b[32m✔\u001b[39m \u001b[34mdplyr  \u001b[39m 1.1.0\n",
            "\u001b[32m✔\u001b[39m \u001b[34mtidyr  \u001b[39m 1.3.0     \u001b[32m✔\u001b[39m \u001b[34mstringr\u001b[39m 1.4.1\n",
            "\u001b[32m✔\u001b[39m \u001b[34mreadr  \u001b[39m 2.1.3     \u001b[32m✔\u001b[39m \u001b[34mforcats\u001b[39m 1.0.0\n",
            "\n",
            "── \u001b[1mConflicts\u001b[22m ────────────────────────────────────────── tidyverse_conflicts() ──\n",
            "\u001b[31m✖\u001b[39m \u001b[34mdplyr\u001b[39m::\u001b[32mfilter()\u001b[39m masks \u001b[34mstats\u001b[39m::filter()\n",
            "\u001b[31m✖\u001b[39m \u001b[34mdplyr\u001b[39m::\u001b[32mlag()\u001b[39m    masks \u001b[34mstats\u001b[39m::lag()\n",
            "\n",
            "Installing packages into ‘/usr/local/lib/R/site-library’\n",
            "(as ‘lib’ is unspecified)\n",
            "\n"
          ]
        }
      ],
      "source": [
        "install.packages(\"nycflights13\")\n",
        "library(tidyverse)\n",
        "library(nycflights13)\n",
        "# this lecture uses some additional packages:\n",
        "install.packages(c(\"Lahman\", \"priceR\", \"DBI\", \"RSQLite\", \"priceR\"))"
      ]
    },
    {
      "cell_type": "markdown",
      "metadata": {
        "id": "eTVMYx76lCbw"
      },
      "source": [
        "# Lecture 09: More on relational data; SQL\n",
        "<div style=\"border: 1px double black; padding: 10px; margin: 10px\">\n",
        "\n",
        "**After today's lecture you will:**\n",
        "* Understand how to [filter data using joins](#Filtering-joins)\n",
        "* Know to execute basic [SQL commands](#SQL-Commands)\n",
        "</div>\n"
      ]
    },
    {
      "cell_type": "markdown",
      "metadata": {
        "id": "qR_VWT8alCbw"
      },
      "source": [
        "## Review of last lecture\n",
        "Last lecture we learned how to join data from one table to another. The main function we care about is `left_join(x, y, by=<key>)`, which tries to find a matching key in the `y` table for every row in the `x` table.\n",
        "\n",
        "![match example](https://r4ds.hadley.nz/diagrams/join/left.png)"
      ]
    },
    {
      "cell_type": "markdown",
      "metadata": {
        "id": "gP6Em_rylCbx"
      },
      "source": [
        "## Exercise\n",
        "Let's refresh our memory about how joins work. Say I wanted to compare the distribution of departure delay when the weather was a) above or b) below freezing (32F/0C). "
      ]
    },
    {
      "cell_type": "code",
      "execution_count": null,
      "metadata": {
        "id": "P81sCER4lCbx"
      },
      "outputs": [],
      "source": [
        "# departure delay by freezing weather"
      ]
    },
    {
      "cell_type": "markdown",
      "metadata": {
        "id": "XMhknVESlCbx"
      },
      "source": [
        "## 🤔 Quiz\n",
        "Assume every flight is full. The busiest travel day in terms of total # of passengers scheduled to depart is:\n",
        "\n",
        "<ol style=\"list-style-type: upper-alpha;\">\n",
        "    <li> Jul. 3 </li>\n",
        "    <li> Nov. 26</li>\n",
        "    <li>Nov. 27</li>\n",
        "    <li>Dec. 26</li>\n",
        "    <li>Dec. 27</li>\n",
        "</ol>\n",
        "\n",
        "(Hint: the `planes` table tells you how many passengers each airplane holds.)"
      ]
    },
    {
      "cell_type": "code",
      "execution_count": 9,
      "metadata": {
        "id": "T20dbjWtlCbx",
        "outputId": "893f22f0-8f21-4b1e-cb01-f0a58fb4f678",
        "colab": {
          "base_uri": "https://localhost:8080/",
          "height": 1000
        }
      },
      "outputs": [
        {
          "output_type": "stream",
          "name": "stderr",
          "text": [
            "\u001b[1m\u001b[22m`summarise()` has grouped output by 'month'. You can override using the\n",
            "`.groups` argument.\n"
          ]
        },
        {
          "output_type": "display_data",
          "data": {
            "text/html": [
              "<table class=\"dataframe\">\n",
              "<caption>A grouped_df: 365 × 3</caption>\n",
              "<thead>\n",
              "\t<tr><th scope=col>month</th><th scope=col>day</th><th scope=col>passagers</th></tr>\n",
              "\t<tr><th scope=col>&lt;int&gt;</th><th scope=col>&lt;int&gt;</th><th scope=col>&lt;int&gt;</th></tr>\n",
              "</thead>\n",
              "<tbody>\n",
              "\t<tr><td>11</td><td>27</td><td>118869</td></tr>\n",
              "\t<tr><td>12</td><td> 2</td><td>117736</td></tr>\n",
              "\t<tr><td>11</td><td>26</td><td>117470</td></tr>\n",
              "\t<tr><td>10</td><td>18</td><td>117324</td></tr>\n",
              "\t<tr><td>10</td><td>21</td><td>117166</td></tr>\n",
              "\t<tr><td> 7</td><td>26</td><td>116944</td></tr>\n",
              "\t<tr><td>11</td><td> 7</td><td>116734</td></tr>\n",
              "\t<tr><td> 4</td><td> 3</td><td>116716</td></tr>\n",
              "\t<tr><td>11</td><td>21</td><td>116577</td></tr>\n",
              "\t<tr><td>10</td><td> 3</td><td>116514</td></tr>\n",
              "\t<tr><td> 8</td><td>16</td><td>116509</td></tr>\n",
              "\t<tr><td>10</td><td>10</td><td>116469</td></tr>\n",
              "\t<tr><td>11</td><td> 8</td><td>116411</td></tr>\n",
              "\t<tr><td>12</td><td>23</td><td>116376</td></tr>\n",
              "\t<tr><td> 7</td><td>24</td><td>116219</td></tr>\n",
              "\t<tr><td>12</td><td> 1</td><td>116218</td></tr>\n",
              "\t<tr><td>11</td><td>22</td><td>116154</td></tr>\n",
              "\t<tr><td> 7</td><td>31</td><td>116098</td></tr>\n",
              "\t<tr><td> 8</td><td>21</td><td>116044</td></tr>\n",
              "\t<tr><td>10</td><td>17</td><td>116027</td></tr>\n",
              "\t<tr><td> 6</td><td>14</td><td>115951</td></tr>\n",
              "\t<tr><td>10</td><td>11</td><td>115947</td></tr>\n",
              "\t<tr><td>10</td><td> 4</td><td>115924</td></tr>\n",
              "\t<tr><td>11</td><td>15</td><td>115898</td></tr>\n",
              "\t<tr><td> 7</td><td>25</td><td>115872</td></tr>\n",
              "\t<tr><td> 8</td><td>19</td><td>115866</td></tr>\n",
              "\t<tr><td> 8</td><td> 7</td><td>115770</td></tr>\n",
              "\t<tr><td>11</td><td> 1</td><td>115762</td></tr>\n",
              "\t<tr><td>11</td><td>14</td><td>115720</td></tr>\n",
              "\t<tr><td>12</td><td> 3</td><td>115705</td></tr>\n",
              "\t<tr><td>⋮</td><td>⋮</td><td>⋮</td></tr>\n",
              "\t<tr><td> 2</td><td>16</td><td>87885</td></tr>\n",
              "\t<tr><td> 5</td><td> 4</td><td>87819</td></tr>\n",
              "\t<tr><td> 7</td><td> 4</td><td>87630</td></tr>\n",
              "\t<tr><td> 1</td><td> 5</td><td>87004</td></tr>\n",
              "\t<tr><td>11</td><td>16</td><td>86991</td></tr>\n",
              "\t<tr><td>11</td><td> 9</td><td>86815</td></tr>\n",
              "\t<tr><td> 5</td><td>26</td><td>86343</td></tr>\n",
              "\t<tr><td> 5</td><td>11</td><td>86320</td></tr>\n",
              "\t<tr><td>11</td><td> 2</td><td>86014</td></tr>\n",
              "\t<tr><td> 5</td><td>25</td><td>85750</td></tr>\n",
              "\t<tr><td> 2</td><td> 8</td><td>85468</td></tr>\n",
              "\t<tr><td> 9</td><td> 1</td><td>85464</td></tr>\n",
              "\t<tr><td>10</td><td>19</td><td>85006</td></tr>\n",
              "\t<tr><td>10</td><td> 5</td><td>84899</td></tr>\n",
              "\t<tr><td> 9</td><td>21</td><td>84321</td></tr>\n",
              "\t<tr><td>10</td><td>26</td><td>84242</td></tr>\n",
              "\t<tr><td> 8</td><td>31</td><td>83418</td></tr>\n",
              "\t<tr><td> 9</td><td>14</td><td>83064</td></tr>\n",
              "\t<tr><td> 9</td><td>28</td><td>82920</td></tr>\n",
              "\t<tr><td>10</td><td>12</td><td>82671</td></tr>\n",
              "\t<tr><td> 9</td><td> 7</td><td>82605</td></tr>\n",
              "\t<tr><td> 1</td><td>12</td><td>80170</td></tr>\n",
              "\t<tr><td>12</td><td> 7</td><td>80110</td></tr>\n",
              "\t<tr><td> 1</td><td>19</td><td>79947</td></tr>\n",
              "\t<tr><td> 1</td><td>26</td><td>79846</td></tr>\n",
              "\t<tr><td> 2</td><td> 2</td><td>78490</td></tr>\n",
              "\t<tr><td>11</td><td>29</td><td>78080</td></tr>\n",
              "\t<tr><td>12</td><td>14</td><td>75186</td></tr>\n",
              "\t<tr><td>11</td><td>28</td><td>74750</td></tr>\n",
              "\t<tr><td> 2</td><td> 9</td><td>59809</td></tr>\n",
              "</tbody>\n",
              "</table>\n"
            ],
            "text/markdown": "\nA grouped_df: 365 × 3\n\n| month &lt;int&gt; | day &lt;int&gt; | passagers &lt;int&gt; |\n|---|---|---|\n| 11 | 27 | 118869 |\n| 12 |  2 | 117736 |\n| 11 | 26 | 117470 |\n| 10 | 18 | 117324 |\n| 10 | 21 | 117166 |\n|  7 | 26 | 116944 |\n| 11 |  7 | 116734 |\n|  4 |  3 | 116716 |\n| 11 | 21 | 116577 |\n| 10 |  3 | 116514 |\n|  8 | 16 | 116509 |\n| 10 | 10 | 116469 |\n| 11 |  8 | 116411 |\n| 12 | 23 | 116376 |\n|  7 | 24 | 116219 |\n| 12 |  1 | 116218 |\n| 11 | 22 | 116154 |\n|  7 | 31 | 116098 |\n|  8 | 21 | 116044 |\n| 10 | 17 | 116027 |\n|  6 | 14 | 115951 |\n| 10 | 11 | 115947 |\n| 10 |  4 | 115924 |\n| 11 | 15 | 115898 |\n|  7 | 25 | 115872 |\n|  8 | 19 | 115866 |\n|  8 |  7 | 115770 |\n| 11 |  1 | 115762 |\n| 11 | 14 | 115720 |\n| 12 |  3 | 115705 |\n| ⋮ | ⋮ | ⋮ |\n|  2 | 16 | 87885 |\n|  5 |  4 | 87819 |\n|  7 |  4 | 87630 |\n|  1 |  5 | 87004 |\n| 11 | 16 | 86991 |\n| 11 |  9 | 86815 |\n|  5 | 26 | 86343 |\n|  5 | 11 | 86320 |\n| 11 |  2 | 86014 |\n|  5 | 25 | 85750 |\n|  2 |  8 | 85468 |\n|  9 |  1 | 85464 |\n| 10 | 19 | 85006 |\n| 10 |  5 | 84899 |\n|  9 | 21 | 84321 |\n| 10 | 26 | 84242 |\n|  8 | 31 | 83418 |\n|  9 | 14 | 83064 |\n|  9 | 28 | 82920 |\n| 10 | 12 | 82671 |\n|  9 |  7 | 82605 |\n|  1 | 12 | 80170 |\n| 12 |  7 | 80110 |\n|  1 | 19 | 79947 |\n|  1 | 26 | 79846 |\n|  2 |  2 | 78490 |\n| 11 | 29 | 78080 |\n| 12 | 14 | 75186 |\n| 11 | 28 | 74750 |\n|  2 |  9 | 59809 |\n\n",
            "text/latex": "A grouped\\_df: 365 × 3\n\\begin{tabular}{lll}\n month & day & passagers\\\\\n <int> & <int> & <int>\\\\\n\\hline\n\t 11 & 27 & 118869\\\\\n\t 12 &  2 & 117736\\\\\n\t 11 & 26 & 117470\\\\\n\t 10 & 18 & 117324\\\\\n\t 10 & 21 & 117166\\\\\n\t  7 & 26 & 116944\\\\\n\t 11 &  7 & 116734\\\\\n\t  4 &  3 & 116716\\\\\n\t 11 & 21 & 116577\\\\\n\t 10 &  3 & 116514\\\\\n\t  8 & 16 & 116509\\\\\n\t 10 & 10 & 116469\\\\\n\t 11 &  8 & 116411\\\\\n\t 12 & 23 & 116376\\\\\n\t  7 & 24 & 116219\\\\\n\t 12 &  1 & 116218\\\\\n\t 11 & 22 & 116154\\\\\n\t  7 & 31 & 116098\\\\\n\t  8 & 21 & 116044\\\\\n\t 10 & 17 & 116027\\\\\n\t  6 & 14 & 115951\\\\\n\t 10 & 11 & 115947\\\\\n\t 10 &  4 & 115924\\\\\n\t 11 & 15 & 115898\\\\\n\t  7 & 25 & 115872\\\\\n\t  8 & 19 & 115866\\\\\n\t  8 &  7 & 115770\\\\\n\t 11 &  1 & 115762\\\\\n\t 11 & 14 & 115720\\\\\n\t 12 &  3 & 115705\\\\\n\t ⋮ & ⋮ & ⋮\\\\\n\t  2 & 16 & 87885\\\\\n\t  5 &  4 & 87819\\\\\n\t  7 &  4 & 87630\\\\\n\t  1 &  5 & 87004\\\\\n\t 11 & 16 & 86991\\\\\n\t 11 &  9 & 86815\\\\\n\t  5 & 26 & 86343\\\\\n\t  5 & 11 & 86320\\\\\n\t 11 &  2 & 86014\\\\\n\t  5 & 25 & 85750\\\\\n\t  2 &  8 & 85468\\\\\n\t  9 &  1 & 85464\\\\\n\t 10 & 19 & 85006\\\\\n\t 10 &  5 & 84899\\\\\n\t  9 & 21 & 84321\\\\\n\t 10 & 26 & 84242\\\\\n\t  8 & 31 & 83418\\\\\n\t  9 & 14 & 83064\\\\\n\t  9 & 28 & 82920\\\\\n\t 10 & 12 & 82671\\\\\n\t  9 &  7 & 82605\\\\\n\t  1 & 12 & 80170\\\\\n\t 12 &  7 & 80110\\\\\n\t  1 & 19 & 79947\\\\\n\t  1 & 26 & 79846\\\\\n\t  2 &  2 & 78490\\\\\n\t 11 & 29 & 78080\\\\\n\t 12 & 14 & 75186\\\\\n\t 11 & 28 & 74750\\\\\n\t  2 &  9 & 59809\\\\\n\\end{tabular}\n",
            "text/plain": [
              "    month day passagers\n",
              "1   11    27  118869   \n",
              "2   12     2  117736   \n",
              "3   11    26  117470   \n",
              "4   10    18  117324   \n",
              "5   10    21  117166   \n",
              "6    7    26  116944   \n",
              "7   11     7  116734   \n",
              "8    4     3  116716   \n",
              "9   11    21  116577   \n",
              "10  10     3  116514   \n",
              "11   8    16  116509   \n",
              "12  10    10  116469   \n",
              "13  11     8  116411   \n",
              "14  12    23  116376   \n",
              "15   7    24  116219   \n",
              "16  12     1  116218   \n",
              "17  11    22  116154   \n",
              "18   7    31  116098   \n",
              "19   8    21  116044   \n",
              "20  10    17  116027   \n",
              "21   6    14  115951   \n",
              "22  10    11  115947   \n",
              "23  10     4  115924   \n",
              "24  11    15  115898   \n",
              "25   7    25  115872   \n",
              "26   8    19  115866   \n",
              "27   8     7  115770   \n",
              "28  11     1  115762   \n",
              "29  11    14  115720   \n",
              "30  12     3  115705   \n",
              "⋮   ⋮     ⋮   ⋮        \n",
              "336  2    16  87885    \n",
              "337  5     4  87819    \n",
              "338  7     4  87630    \n",
              "339  1     5  87004    \n",
              "340 11    16  86991    \n",
              "341 11     9  86815    \n",
              "342  5    26  86343    \n",
              "343  5    11  86320    \n",
              "344 11     2  86014    \n",
              "345  5    25  85750    \n",
              "346  2     8  85468    \n",
              "347  9     1  85464    \n",
              "348 10    19  85006    \n",
              "349 10     5  84899    \n",
              "350  9    21  84321    \n",
              "351 10    26  84242    \n",
              "352  8    31  83418    \n",
              "353  9    14  83064    \n",
              "354  9    28  82920    \n",
              "355 10    12  82671    \n",
              "356  9     7  82605    \n",
              "357  1    12  80170    \n",
              "358 12     7  80110    \n",
              "359  1    19  79947    \n",
              "360  1    26  79846    \n",
              "361  2     2  78490    \n",
              "362 11    29  78080    \n",
              "363 12    14  75186    \n",
              "364 11    28  74750    \n",
              "365  2     9  59809    "
            ]
          },
          "metadata": {}
        }
      ],
      "source": [
        "# total number of passengers\n",
        "inner_join(flights,planes,by=\"tailnum\")%>%select(month,day,seats)%>%group_by(month,day)%>%\n",
        "  summarize(passagers=sum(seats,na.rm = 1))%>%arrange(desc(passagers))\n",
        "  "
      ]
    },
    {
      "cell_type": "markdown",
      "metadata": {
        "id": "aUu15BullCbx"
      },
      "source": [
        "## Exercise\n",
        "Another relational database we have seen in this class is the Lahman dataset on baseball stats:"
      ]
    },
    {
      "cell_type": "code",
      "execution_count": 10,
      "metadata": {
        "id": "1ozKxQhxlCbx"
      },
      "outputs": [],
      "source": [
        "library(Lahman)\n"
      ]
    },
    {
      "cell_type": "markdown",
      "metadata": {
        "id": "-EU5SWJPlCbx"
      },
      "source": [
        "The `Salaries` table contains information on player salaries, where they are available:"
      ]
    },
    {
      "cell_type": "code",
      "execution_count": 17,
      "metadata": {
        "id": "UKLHnAvqlCbx",
        "outputId": "17f7f3fd-80af-4a50-c30e-6acb2b7e9bb8",
        "colab": {
          "base_uri": "https://localhost:8080/",
          "height": 1000
        }
      },
      "outputs": [
        {
          "output_type": "display_data",
          "data": {
            "text/html": [
              "<table class=\"dataframe\">\n",
              "<caption>A data.frame: 110495 × 22</caption>\n",
              "<thead>\n",
              "\t<tr><th scope=col>playerID</th><th scope=col>yearID</th><th scope=col>stint</th><th scope=col>teamID</th><th scope=col>lgID</th><th scope=col>G</th><th scope=col>AB</th><th scope=col>R</th><th scope=col>H</th><th scope=col>X2B</th><th scope=col>⋯</th><th scope=col>RBI</th><th scope=col>SB</th><th scope=col>CS</th><th scope=col>BB</th><th scope=col>SO</th><th scope=col>IBB</th><th scope=col>HBP</th><th scope=col>SH</th><th scope=col>SF</th><th scope=col>GIDP</th></tr>\n",
              "\t<tr><th scope=col>&lt;chr&gt;</th><th scope=col>&lt;int&gt;</th><th scope=col>&lt;int&gt;</th><th scope=col>&lt;fct&gt;</th><th scope=col>&lt;fct&gt;</th><th scope=col>&lt;int&gt;</th><th scope=col>&lt;int&gt;</th><th scope=col>&lt;int&gt;</th><th scope=col>&lt;int&gt;</th><th scope=col>&lt;int&gt;</th><th scope=col>⋯</th><th scope=col>&lt;int&gt;</th><th scope=col>&lt;int&gt;</th><th scope=col>&lt;int&gt;</th><th scope=col>&lt;int&gt;</th><th scope=col>&lt;int&gt;</th><th scope=col>&lt;int&gt;</th><th scope=col>&lt;int&gt;</th><th scope=col>&lt;int&gt;</th><th scope=col>&lt;int&gt;</th><th scope=col>&lt;int&gt;</th></tr>\n",
              "</thead>\n",
              "<tbody>\n",
              "\t<tr><td>abercda01</td><td>1871</td><td>1</td><td>TRO</td><td>NA</td><td> 1</td><td>  4</td><td> 0</td><td> 0</td><td> 0</td><td>⋯</td><td> 0</td><td> 0</td><td>0</td><td> 0</td><td>0</td><td>NA</td><td>NA</td><td>NA</td><td>NA</td><td>0</td></tr>\n",
              "\t<tr><td>addybo01 </td><td>1871</td><td>1</td><td>RC1</td><td>NA</td><td>25</td><td>118</td><td>30</td><td>32</td><td> 6</td><td>⋯</td><td>13</td><td> 8</td><td>1</td><td> 4</td><td>0</td><td>NA</td><td>NA</td><td>NA</td><td>NA</td><td>0</td></tr>\n",
              "\t<tr><td>allisar01</td><td>1871</td><td>1</td><td>CL1</td><td>NA</td><td>29</td><td>137</td><td>28</td><td>40</td><td> 4</td><td>⋯</td><td>19</td><td> 3</td><td>1</td><td> 2</td><td>5</td><td>NA</td><td>NA</td><td>NA</td><td>NA</td><td>1</td></tr>\n",
              "\t<tr><td>allisdo01</td><td>1871</td><td>1</td><td>WS3</td><td>NA</td><td>27</td><td>133</td><td>28</td><td>44</td><td>10</td><td>⋯</td><td>27</td><td> 1</td><td>1</td><td> 0</td><td>2</td><td>NA</td><td>NA</td><td>NA</td><td>NA</td><td>0</td></tr>\n",
              "\t<tr><td>ansonca01</td><td>1871</td><td>1</td><td>RC1</td><td>NA</td><td>25</td><td>120</td><td>29</td><td>39</td><td>11</td><td>⋯</td><td>16</td><td> 6</td><td>2</td><td> 2</td><td>1</td><td>NA</td><td>NA</td><td>NA</td><td>NA</td><td>0</td></tr>\n",
              "\t<tr><td>armstbo01</td><td>1871</td><td>1</td><td>FW1</td><td>NA</td><td>12</td><td> 49</td><td> 9</td><td>11</td><td> 2</td><td>⋯</td><td> 5</td><td> 0</td><td>1</td><td> 0</td><td>1</td><td>NA</td><td>NA</td><td>NA</td><td>NA</td><td>0</td></tr>\n",
              "\t<tr><td>barkeal01</td><td>1871</td><td>1</td><td>RC1</td><td>NA</td><td> 1</td><td>  4</td><td> 0</td><td> 1</td><td> 0</td><td>⋯</td><td> 2</td><td> 0</td><td>0</td><td> 1</td><td>0</td><td>NA</td><td>NA</td><td>NA</td><td>NA</td><td>0</td></tr>\n",
              "\t<tr><td>barnero01</td><td>1871</td><td>1</td><td>BS1</td><td>NA</td><td>31</td><td>157</td><td>66</td><td>63</td><td>10</td><td>⋯</td><td>34</td><td>11</td><td>6</td><td>13</td><td>1</td><td>NA</td><td>NA</td><td>NA</td><td>NA</td><td>1</td></tr>\n",
              "\t<tr><td>barrebi01</td><td>1871</td><td>1</td><td>FW1</td><td>NA</td><td> 1</td><td>  5</td><td> 1</td><td> 1</td><td> 1</td><td>⋯</td><td> 1</td><td> 0</td><td>0</td><td> 0</td><td>0</td><td>NA</td><td>NA</td><td>NA</td><td>NA</td><td>0</td></tr>\n",
              "\t<tr><td>barrofr01</td><td>1871</td><td>1</td><td>BS1</td><td>NA</td><td>18</td><td> 86</td><td>13</td><td>13</td><td> 2</td><td>⋯</td><td>11</td><td> 1</td><td>0</td><td> 0</td><td>0</td><td>NA</td><td>NA</td><td>NA</td><td>NA</td><td>0</td></tr>\n",
              "\t<tr><td>bassjo01 </td><td>1871</td><td>1</td><td>CL1</td><td>NA</td><td>22</td><td> 89</td><td>18</td><td>27</td><td> 1</td><td>⋯</td><td>18</td><td> 0</td><td>1</td><td> 3</td><td>4</td><td>NA</td><td>NA</td><td>NA</td><td>NA</td><td>0</td></tr>\n",
              "\t<tr><td>battijo01</td><td>1871</td><td>1</td><td>CL1</td><td>NA</td><td> 1</td><td>  3</td><td> 0</td><td> 0</td><td> 0</td><td>⋯</td><td> 0</td><td> 0</td><td>0</td><td> 1</td><td>0</td><td>NA</td><td>NA</td><td>NA</td><td>NA</td><td>0</td></tr>\n",
              "\t<tr><td>bealsto01</td><td>1871</td><td>1</td><td>WS3</td><td>NA</td><td>10</td><td> 36</td><td> 6</td><td> 7</td><td> 0</td><td>⋯</td><td> 1</td><td> 2</td><td>0</td><td> 2</td><td>0</td><td>NA</td><td>NA</td><td>NA</td><td>NA</td><td>2</td></tr>\n",
              "\t<tr><td>beaveed01</td><td>1871</td><td>1</td><td>TRO</td><td>NA</td><td> 3</td><td> 15</td><td> 7</td><td> 6</td><td> 0</td><td>⋯</td><td> 5</td><td> 2</td><td>0</td><td> 0</td><td>0</td><td>NA</td><td>NA</td><td>NA</td><td>NA</td><td>0</td></tr>\n",
              "\t<tr><td>bechtge01</td><td>1871</td><td>1</td><td>PH1</td><td>NA</td><td>20</td><td> 94</td><td>24</td><td>33</td><td> 9</td><td>⋯</td><td>21</td><td> 4</td><td>0</td><td> 2</td><td>2</td><td>NA</td><td>NA</td><td>NA</td><td>NA</td><td>1</td></tr>\n",
              "\t<tr><td>bellast01</td><td>1871</td><td>1</td><td>TRO</td><td>NA</td><td>29</td><td>128</td><td>26</td><td>32</td><td> 3</td><td>⋯</td><td>23</td><td> 4</td><td>4</td><td> 9</td><td>2</td><td>NA</td><td>NA</td><td>NA</td><td>NA</td><td>2</td></tr>\n",
              "\t<tr><td>berkena01</td><td>1871</td><td>1</td><td>PH1</td><td>NA</td><td> 1</td><td>  4</td><td> 0</td><td> 0</td><td> 0</td><td>⋯</td><td> 0</td><td> 0</td><td>0</td><td> 0</td><td>3</td><td>NA</td><td>NA</td><td>NA</td><td>NA</td><td>0</td></tr>\n",
              "\t<tr><td>berryto01</td><td>1871</td><td>1</td><td>PH1</td><td>NA</td><td> 1</td><td>  4</td><td> 0</td><td> 1</td><td> 0</td><td>⋯</td><td> 0</td><td> 0</td><td>0</td><td> 0</td><td>0</td><td>NA</td><td>NA</td><td>NA</td><td>NA</td><td>0</td></tr>\n",
              "\t<tr><td>berthha01</td><td>1871</td><td>1</td><td>WS3</td><td>NA</td><td>17</td><td> 73</td><td>17</td><td>17</td><td> 1</td><td>⋯</td><td> 8</td><td> 3</td><td>1</td><td> 4</td><td>2</td><td>NA</td><td>NA</td><td>NA</td><td>NA</td><td>0</td></tr>\n",
              "\t<tr><td>biermch01</td><td>1871</td><td>1</td><td>FW1</td><td>NA</td><td> 1</td><td>  2</td><td> 0</td><td> 0</td><td> 0</td><td>⋯</td><td> 0</td><td> 0</td><td>0</td><td> 1</td><td>0</td><td>NA</td><td>NA</td><td>NA</td><td>NA</td><td>0</td></tr>\n",
              "\t<tr><td>birdge01 </td><td>1871</td><td>1</td><td>RC1</td><td>NA</td><td>25</td><td>106</td><td>19</td><td>28</td><td> 2</td><td>⋯</td><td>13</td><td> 1</td><td>0</td><td> 3</td><td>2</td><td>NA</td><td>NA</td><td>NA</td><td>NA</td><td>3</td></tr>\n",
              "\t<tr><td>birdsda01</td><td>1871</td><td>1</td><td>BS1</td><td>NA</td><td>29</td><td>152</td><td>51</td><td>46</td><td> 3</td><td>⋯</td><td>24</td><td> 6</td><td>0</td><td> 4</td><td>4</td><td>NA</td><td>NA</td><td>NA</td><td>NA</td><td>1</td></tr>\n",
              "\t<tr><td>brainas01</td><td>1871</td><td>1</td><td>WS3</td><td>NA</td><td>30</td><td>134</td><td>24</td><td>30</td><td> 4</td><td>⋯</td><td>21</td><td> 4</td><td>0</td><td> 7</td><td>2</td><td>NA</td><td>NA</td><td>NA</td><td>NA</td><td>1</td></tr>\n",
              "\t<tr><td>brannmi01</td><td>1871</td><td>1</td><td>CH1</td><td>NA</td><td> 3</td><td> 14</td><td> 2</td><td> 1</td><td> 0</td><td>⋯</td><td> 0</td><td> 0</td><td>0</td><td> 0</td><td>0</td><td>NA</td><td>NA</td><td>NA</td><td>NA</td><td>0</td></tr>\n",
              "\t<tr><td>burrohe01</td><td>1871</td><td>1</td><td>WS3</td><td>NA</td><td>12</td><td> 63</td><td>11</td><td>15</td><td> 2</td><td>⋯</td><td>14</td><td> 0</td><td>0</td><td> 1</td><td>1</td><td>NA</td><td>NA</td><td>NA</td><td>NA</td><td>0</td></tr>\n",
              "\t<tr><td>careyto01</td><td>1871</td><td>1</td><td>FW1</td><td>NA</td><td>19</td><td> 87</td><td>16</td><td>20</td><td> 2</td><td>⋯</td><td>10</td><td> 5</td><td>0</td><td> 2</td><td>1</td><td>NA</td><td>NA</td><td>NA</td><td>NA</td><td>0</td></tr>\n",
              "\t<tr><td>carleji01</td><td>1871</td><td>1</td><td>CL1</td><td>NA</td><td>29</td><td>127</td><td>31</td><td>32</td><td> 8</td><td>⋯</td><td>18</td><td> 2</td><td>1</td><td> 8</td><td>3</td><td>NA</td><td>NA</td><td>NA</td><td>NA</td><td>3</td></tr>\n",
              "\t<tr><td>conefr01 </td><td>1871</td><td>1</td><td>BS1</td><td>NA</td><td>19</td><td> 77</td><td>17</td><td>20</td><td> 3</td><td>⋯</td><td>16</td><td>12</td><td>1</td><td> 8</td><td>2</td><td>NA</td><td>NA</td><td>NA</td><td>NA</td><td>1</td></tr>\n",
              "\t<tr><td>connone01</td><td>1871</td><td>1</td><td>TRO</td><td>NA</td><td> 7</td><td> 33</td><td> 6</td><td> 7</td><td> 0</td><td>⋯</td><td> 2</td><td> 0</td><td>0</td><td> 0</td><td>0</td><td>NA</td><td>NA</td><td>NA</td><td>NA</td><td>0</td></tr>\n",
              "\t<tr><td>cravebi01</td><td>1871</td><td>1</td><td>TRO</td><td>NA</td><td>27</td><td>118</td><td>26</td><td>38</td><td> 8</td><td>⋯</td><td>26</td><td> 6</td><td>3</td><td> 3</td><td>0</td><td>NA</td><td>NA</td><td>NA</td><td>NA</td><td>3</td></tr>\n",
              "\t<tr><td>⋮</td><td>⋮</td><td>⋮</td><td>⋮</td><td>⋮</td><td>⋮</td><td>⋮</td><td>⋮</td><td>⋮</td><td>⋮</td><td>⋱</td><td>⋮</td><td>⋮</td><td>⋮</td><td>⋮</td><td>⋮</td><td>⋮</td><td>⋮</td><td>⋮</td><td>⋮</td><td>⋮</td></tr>\n",
              "\t<tr><td>woodfja01</td><td>2021</td><td>1</td><td>SLN</td><td>NL</td><td> 26</td><td> 18</td><td> 0</td><td>  2</td><td> 0</td><td>⋯</td><td> 0</td><td> 0</td><td>0</td><td> 0</td><td>  9</td><td>0</td><td> 0</td><td>2</td><td>0</td><td>0</td></tr>\n",
              "\t<tr><td>woodhu01 </td><td>2021</td><td>1</td><td>TEX</td><td>AL</td><td>  5</td><td>  0</td><td> 0</td><td>  0</td><td> 0</td><td>⋯</td><td> 0</td><td> 0</td><td>0</td><td> 0</td><td>  0</td><td>0</td><td> 0</td><td>0</td><td>0</td><td>0</td></tr>\n",
              "\t<tr><td>woodrbr01</td><td>2021</td><td>1</td><td>MIL</td><td>NL</td><td> 30</td><td> 52</td><td> 0</td><td>  6</td><td> 0</td><td>⋯</td><td> 2</td><td> 0</td><td>0</td><td> 3</td><td> 28</td><td>0</td><td> 0</td><td>3</td><td>0</td><td>0</td></tr>\n",
              "\t<tr><td>workmbr01</td><td>2021</td><td>1</td><td>CHN</td><td>NL</td><td> 10</td><td>  0</td><td> 0</td><td>  0</td><td> 0</td><td>⋯</td><td> 0</td><td> 0</td><td>0</td><td> 0</td><td>  0</td><td>0</td><td> 0</td><td>0</td><td>0</td><td>0</td></tr>\n",
              "\t<tr><td>workmbr01</td><td>2021</td><td>2</td><td>BOS</td><td>AL</td><td> 19</td><td>  0</td><td> 0</td><td>  0</td><td> 0</td><td>⋯</td><td> 0</td><td> 0</td><td>0</td><td> 0</td><td>  0</td><td>0</td><td> 0</td><td>0</td><td>0</td><td>0</td></tr>\n",
              "\t<tr><td>wrighky01</td><td>2021</td><td>1</td><td>ATL</td><td>NL</td><td>  2</td><td>  3</td><td> 1</td><td>  1</td><td> 1</td><td>⋯</td><td> 0</td><td> 0</td><td>0</td><td> 0</td><td>  1</td><td>0</td><td> 0</td><td>0</td><td>0</td><td>0</td></tr>\n",
              "\t<tr><td>wrighmi01</td><td>2021</td><td>1</td><td>CHA</td><td>AL</td><td> 13</td><td>  0</td><td> 0</td><td>  0</td><td> 0</td><td>⋯</td><td> 0</td><td> 0</td><td>0</td><td> 0</td><td>  0</td><td>0</td><td> 0</td><td>0</td><td>0</td><td>0</td></tr>\n",
              "\t<tr><td>wynnsau01</td><td>2021</td><td>1</td><td>BAL</td><td>AL</td><td> 45</td><td>130</td><td>14</td><td> 24</td><td> 4</td><td>⋯</td><td>14</td><td> 1</td><td>0</td><td> 8</td><td> 31</td><td>0</td><td> 0</td><td>1</td><td>0</td><td>6</td></tr>\n",
              "\t<tr><td>yajurmi01</td><td>2021</td><td>1</td><td>PIT</td><td>NL</td><td>  4</td><td>  3</td><td> 0</td><td>  0</td><td> 0</td><td>⋯</td><td> 0</td><td> 0</td><td>0</td><td> 0</td><td>  3</td><td>0</td><td> 0</td><td>0</td><td>0</td><td>0</td></tr>\n",
              "\t<tr><td>yamamjo01</td><td>2021</td><td>1</td><td>NYN</td><td>NL</td><td>  2</td><td>  2</td><td> 0</td><td>  1</td><td> 0</td><td>⋯</td><td> 0</td><td> 0</td><td>0</td><td> 0</td><td>  1</td><td>0</td><td> 0</td><td>0</td><td>0</td><td>0</td></tr>\n",
              "\t<tr><td>yanghy01 </td><td>2021</td><td>1</td><td>TEX</td><td>AL</td><td> 12</td><td>  0</td><td> 0</td><td>  0</td><td> 0</td><td>⋯</td><td> 0</td><td> 0</td><td>0</td><td> 0</td><td>  0</td><td>0</td><td> 0</td><td>0</td><td>0</td><td>0</td></tr>\n",
              "\t<tr><td>yarbrry01</td><td>2021</td><td>1</td><td>TBA</td><td>AL</td><td> 30</td><td>  4</td><td> 0</td><td>  0</td><td> 0</td><td>⋯</td><td> 0</td><td> 0</td><td>0</td><td> 0</td><td>  2</td><td>0</td><td> 0</td><td>0</td><td>0</td><td>0</td></tr>\n",
              "\t<tr><td>yardler01</td><td>2021</td><td>1</td><td>MIL</td><td>NL</td><td> 17</td><td>  0</td><td> 0</td><td>  0</td><td> 0</td><td>⋯</td><td> 0</td><td> 0</td><td>0</td><td> 0</td><td>  0</td><td>0</td><td> 0</td><td>0</td><td>0</td><td>0</td></tr>\n",
              "\t<tr><td>yastrmi01</td><td>2021</td><td>1</td><td>SFN</td><td>NL</td><td>139</td><td>468</td><td>75</td><td>105</td><td>28</td><td>⋯</td><td>71</td><td> 4</td><td>0</td><td>51</td><td>131</td><td>4</td><td> 9</td><td>1</td><td>3</td><td>3</td></tr>\n",
              "\t<tr><td>yelicch01</td><td>2021</td><td>1</td><td>MIL</td><td>NL</td><td>117</td><td>399</td><td>70</td><td> 99</td><td>19</td><td>⋯</td><td>51</td><td> 9</td><td>3</td><td>70</td><td>113</td><td>5</td><td> 3</td><td>0</td><td>3</td><td>5</td></tr>\n",
              "\t<tr><td>ynoahu01 </td><td>2021</td><td>1</td><td>ATL</td><td>NL</td><td> 18</td><td> 32</td><td> 3</td><td>  7</td><td> 1</td><td>⋯</td><td> 6</td><td> 0</td><td>0</td><td> 0</td><td> 15</td><td>0</td><td> 0</td><td>0</td><td>0</td><td>0</td></tr>\n",
              "\t<tr><td>youngal01</td><td>2021</td><td>1</td><td>ARI</td><td>NL</td><td> 30</td><td>  4</td><td> 0</td><td>  0</td><td> 0</td><td>⋯</td><td> 0</td><td> 0</td><td>0</td><td> 0</td><td>  4</td><td>0</td><td> 0</td><td>0</td><td>0</td><td>0</td></tr>\n",
              "\t<tr><td>youngal01</td><td>2021</td><td>2</td><td>CLE</td><td>AL</td><td> 10</td><td>  0</td><td> 0</td><td>  0</td><td> 0</td><td>⋯</td><td> 0</td><td> 0</td><td>0</td><td> 0</td><td>  0</td><td>0</td><td> 0</td><td>0</td><td>0</td><td>0</td></tr>\n",
              "\t<tr><td>youngan02</td><td>2021</td><td>1</td><td>ARI</td><td>NL</td><td> 58</td><td> 91</td><td>13</td><td> 19</td><td> 7</td><td>⋯</td><td>15</td><td> 0</td><td>0</td><td> 6</td><td> 45</td><td>0</td><td> 6</td><td>0</td><td>1</td><td>3</td></tr>\n",
              "\t<tr><td>zamorda01</td><td>2021</td><td>1</td><td>SEA</td><td>AL</td><td>  4</td><td>  0</td><td> 0</td><td>  0</td><td> 0</td><td>⋯</td><td> 0</td><td> 0</td><td>0</td><td> 0</td><td>  0</td><td>0</td><td> 0</td><td>0</td><td>0</td><td>0</td></tr>\n",
              "\t<tr><td>zavalse01</td><td>2021</td><td>1</td><td>CHA</td><td>AL</td><td> 37</td><td> 93</td><td>15</td><td> 17</td><td> 3</td><td>⋯</td><td>15</td><td> 0</td><td>0</td><td> 6</td><td> 41</td><td>0</td><td> 1</td><td>4</td><td>0</td><td>1</td></tr>\n",
              "\t<tr><td>zerpaan01</td><td>2021</td><td>1</td><td>KCA</td><td>AL</td><td>  1</td><td>  0</td><td> 0</td><td>  0</td><td> 0</td><td>⋯</td><td> 0</td><td> 0</td><td>0</td><td> 0</td><td>  0</td><td>0</td><td> 0</td><td>0</td><td>0</td><td>0</td></tr>\n",
              "\t<tr><td>zeuchtj01</td><td>2021</td><td>1</td><td>TOR</td><td>AL</td><td>  5</td><td>  0</td><td> 0</td><td>  0</td><td> 0</td><td>⋯</td><td> 0</td><td> 0</td><td>0</td><td> 0</td><td>  0</td><td>0</td><td> 0</td><td>0</td><td>0</td><td>0</td></tr>\n",
              "\t<tr><td>zimmebr01</td><td>2021</td><td>1</td><td>CLE</td><td>AL</td><td> 99</td><td>299</td><td>44</td><td> 68</td><td> 9</td><td>⋯</td><td>35</td><td>15</td><td>3</td><td>30</td><td>122</td><td>0</td><td>15</td><td>0</td><td>4</td><td>3</td></tr>\n",
              "\t<tr><td>zimmebr02</td><td>2021</td><td>1</td><td>BAL</td><td>AL</td><td> 14</td><td>  4</td><td> 0</td><td>  0</td><td> 0</td><td>⋯</td><td> 0</td><td> 0</td><td>0</td><td> 0</td><td>  3</td><td>0</td><td> 0</td><td>0</td><td>0</td><td>0</td></tr>\n",
              "\t<tr><td>zimmejo02</td><td>2021</td><td>1</td><td>MIL</td><td>NL</td><td>  2</td><td>  1</td><td> 0</td><td>  0</td><td> 0</td><td>⋯</td><td> 0</td><td> 0</td><td>0</td><td> 0</td><td>  1</td><td>0</td><td> 0</td><td>0</td><td>0</td><td>0</td></tr>\n",
              "\t<tr><td>zimmeky01</td><td>2021</td><td>1</td><td>KCA</td><td>AL</td><td> 52</td><td>  0</td><td> 0</td><td>  0</td><td> 0</td><td>⋯</td><td> 0</td><td> 0</td><td>0</td><td> 0</td><td>  0</td><td>0</td><td> 0</td><td>0</td><td>0</td><td>0</td></tr>\n",
              "\t<tr><td>zimmery01</td><td>2021</td><td>1</td><td>WAS</td><td>NL</td><td>110</td><td>255</td><td>27</td><td> 62</td><td>16</td><td>⋯</td><td>46</td><td> 0</td><td>0</td><td>16</td><td> 77</td><td>0</td><td> 0</td><td>0</td><td>2</td><td>9</td></tr>\n",
              "\t<tr><td>zuberty01</td><td>2021</td><td>1</td><td>KCA</td><td>AL</td><td> 31</td><td>  1</td><td> 0</td><td>  0</td><td> 0</td><td>⋯</td><td> 0</td><td> 0</td><td>0</td><td> 0</td><td>  1</td><td>0</td><td> 0</td><td>0</td><td>0</td><td>0</td></tr>\n",
              "\t<tr><td>zuninmi01</td><td>2021</td><td>1</td><td>TBA</td><td>AL</td><td>109</td><td>333</td><td>64</td><td> 72</td><td>11</td><td>⋯</td><td>62</td><td> 0</td><td>0</td><td>34</td><td>132</td><td>0</td><td> 7</td><td>0</td><td>1</td><td>7</td></tr>\n",
              "</tbody>\n",
              "</table>\n"
            ],
            "text/markdown": "\nA data.frame: 110495 × 22\n\n| playerID &lt;chr&gt; | yearID &lt;int&gt; | stint &lt;int&gt; | teamID &lt;fct&gt; | lgID &lt;fct&gt; | G &lt;int&gt; | AB &lt;int&gt; | R &lt;int&gt; | H &lt;int&gt; | X2B &lt;int&gt; | ⋯ ⋯ | RBI &lt;int&gt; | SB &lt;int&gt; | CS &lt;int&gt; | BB &lt;int&gt; | SO &lt;int&gt; | IBB &lt;int&gt; | HBP &lt;int&gt; | SH &lt;int&gt; | SF &lt;int&gt; | GIDP &lt;int&gt; |\n|---|---|---|---|---|---|---|---|---|---|---|---|---|---|---|---|---|---|---|---|---|\n| abercda01 | 1871 | 1 | TRO | NA |  1 |   4 |  0 |  0 |  0 | ⋯ |  0 |  0 | 0 |  0 | 0 | NA | NA | NA | NA | 0 |\n| addybo01  | 1871 | 1 | RC1 | NA | 25 | 118 | 30 | 32 |  6 | ⋯ | 13 |  8 | 1 |  4 | 0 | NA | NA | NA | NA | 0 |\n| allisar01 | 1871 | 1 | CL1 | NA | 29 | 137 | 28 | 40 |  4 | ⋯ | 19 |  3 | 1 |  2 | 5 | NA | NA | NA | NA | 1 |\n| allisdo01 | 1871 | 1 | WS3 | NA | 27 | 133 | 28 | 44 | 10 | ⋯ | 27 |  1 | 1 |  0 | 2 | NA | NA | NA | NA | 0 |\n| ansonca01 | 1871 | 1 | RC1 | NA | 25 | 120 | 29 | 39 | 11 | ⋯ | 16 |  6 | 2 |  2 | 1 | NA | NA | NA | NA | 0 |\n| armstbo01 | 1871 | 1 | FW1 | NA | 12 |  49 |  9 | 11 |  2 | ⋯ |  5 |  0 | 1 |  0 | 1 | NA | NA | NA | NA | 0 |\n| barkeal01 | 1871 | 1 | RC1 | NA |  1 |   4 |  0 |  1 |  0 | ⋯ |  2 |  0 | 0 |  1 | 0 | NA | NA | NA | NA | 0 |\n| barnero01 | 1871 | 1 | BS1 | NA | 31 | 157 | 66 | 63 | 10 | ⋯ | 34 | 11 | 6 | 13 | 1 | NA | NA | NA | NA | 1 |\n| barrebi01 | 1871 | 1 | FW1 | NA |  1 |   5 |  1 |  1 |  1 | ⋯ |  1 |  0 | 0 |  0 | 0 | NA | NA | NA | NA | 0 |\n| barrofr01 | 1871 | 1 | BS1 | NA | 18 |  86 | 13 | 13 |  2 | ⋯ | 11 |  1 | 0 |  0 | 0 | NA | NA | NA | NA | 0 |\n| bassjo01  | 1871 | 1 | CL1 | NA | 22 |  89 | 18 | 27 |  1 | ⋯ | 18 |  0 | 1 |  3 | 4 | NA | NA | NA | NA | 0 |\n| battijo01 | 1871 | 1 | CL1 | NA |  1 |   3 |  0 |  0 |  0 | ⋯ |  0 |  0 | 0 |  1 | 0 | NA | NA | NA | NA | 0 |\n| bealsto01 | 1871 | 1 | WS3 | NA | 10 |  36 |  6 |  7 |  0 | ⋯ |  1 |  2 | 0 |  2 | 0 | NA | NA | NA | NA | 2 |\n| beaveed01 | 1871 | 1 | TRO | NA |  3 |  15 |  7 |  6 |  0 | ⋯ |  5 |  2 | 0 |  0 | 0 | NA | NA | NA | NA | 0 |\n| bechtge01 | 1871 | 1 | PH1 | NA | 20 |  94 | 24 | 33 |  9 | ⋯ | 21 |  4 | 0 |  2 | 2 | NA | NA | NA | NA | 1 |\n| bellast01 | 1871 | 1 | TRO | NA | 29 | 128 | 26 | 32 |  3 | ⋯ | 23 |  4 | 4 |  9 | 2 | NA | NA | NA | NA | 2 |\n| berkena01 | 1871 | 1 | PH1 | NA |  1 |   4 |  0 |  0 |  0 | ⋯ |  0 |  0 | 0 |  0 | 3 | NA | NA | NA | NA | 0 |\n| berryto01 | 1871 | 1 | PH1 | NA |  1 |   4 |  0 |  1 |  0 | ⋯ |  0 |  0 | 0 |  0 | 0 | NA | NA | NA | NA | 0 |\n| berthha01 | 1871 | 1 | WS3 | NA | 17 |  73 | 17 | 17 |  1 | ⋯ |  8 |  3 | 1 |  4 | 2 | NA | NA | NA | NA | 0 |\n| biermch01 | 1871 | 1 | FW1 | NA |  1 |   2 |  0 |  0 |  0 | ⋯ |  0 |  0 | 0 |  1 | 0 | NA | NA | NA | NA | 0 |\n| birdge01  | 1871 | 1 | RC1 | NA | 25 | 106 | 19 | 28 |  2 | ⋯ | 13 |  1 | 0 |  3 | 2 | NA | NA | NA | NA | 3 |\n| birdsda01 | 1871 | 1 | BS1 | NA | 29 | 152 | 51 | 46 |  3 | ⋯ | 24 |  6 | 0 |  4 | 4 | NA | NA | NA | NA | 1 |\n| brainas01 | 1871 | 1 | WS3 | NA | 30 | 134 | 24 | 30 |  4 | ⋯ | 21 |  4 | 0 |  7 | 2 | NA | NA | NA | NA | 1 |\n| brannmi01 | 1871 | 1 | CH1 | NA |  3 |  14 |  2 |  1 |  0 | ⋯ |  0 |  0 | 0 |  0 | 0 | NA | NA | NA | NA | 0 |\n| burrohe01 | 1871 | 1 | WS3 | NA | 12 |  63 | 11 | 15 |  2 | ⋯ | 14 |  0 | 0 |  1 | 1 | NA | NA | NA | NA | 0 |\n| careyto01 | 1871 | 1 | FW1 | NA | 19 |  87 | 16 | 20 |  2 | ⋯ | 10 |  5 | 0 |  2 | 1 | NA | NA | NA | NA | 0 |\n| carleji01 | 1871 | 1 | CL1 | NA | 29 | 127 | 31 | 32 |  8 | ⋯ | 18 |  2 | 1 |  8 | 3 | NA | NA | NA | NA | 3 |\n| conefr01  | 1871 | 1 | BS1 | NA | 19 |  77 | 17 | 20 |  3 | ⋯ | 16 | 12 | 1 |  8 | 2 | NA | NA | NA | NA | 1 |\n| connone01 | 1871 | 1 | TRO | NA |  7 |  33 |  6 |  7 |  0 | ⋯ |  2 |  0 | 0 |  0 | 0 | NA | NA | NA | NA | 0 |\n| cravebi01 | 1871 | 1 | TRO | NA | 27 | 118 | 26 | 38 |  8 | ⋯ | 26 |  6 | 3 |  3 | 0 | NA | NA | NA | NA | 3 |\n| ⋮ | ⋮ | ⋮ | ⋮ | ⋮ | ⋮ | ⋮ | ⋮ | ⋮ | ⋮ | ⋱ | ⋮ | ⋮ | ⋮ | ⋮ | ⋮ | ⋮ | ⋮ | ⋮ | ⋮ | ⋮ |\n| woodfja01 | 2021 | 1 | SLN | NL |  26 |  18 |  0 |   2 |  0 | ⋯ |  0 |  0 | 0 |  0 |   9 | 0 |  0 | 2 | 0 | 0 |\n| woodhu01  | 2021 | 1 | TEX | AL |   5 |   0 |  0 |   0 |  0 | ⋯ |  0 |  0 | 0 |  0 |   0 | 0 |  0 | 0 | 0 | 0 |\n| woodrbr01 | 2021 | 1 | MIL | NL |  30 |  52 |  0 |   6 |  0 | ⋯ |  2 |  0 | 0 |  3 |  28 | 0 |  0 | 3 | 0 | 0 |\n| workmbr01 | 2021 | 1 | CHN | NL |  10 |   0 |  0 |   0 |  0 | ⋯ |  0 |  0 | 0 |  0 |   0 | 0 |  0 | 0 | 0 | 0 |\n| workmbr01 | 2021 | 2 | BOS | AL |  19 |   0 |  0 |   0 |  0 | ⋯ |  0 |  0 | 0 |  0 |   0 | 0 |  0 | 0 | 0 | 0 |\n| wrighky01 | 2021 | 1 | ATL | NL |   2 |   3 |  1 |   1 |  1 | ⋯ |  0 |  0 | 0 |  0 |   1 | 0 |  0 | 0 | 0 | 0 |\n| wrighmi01 | 2021 | 1 | CHA | AL |  13 |   0 |  0 |   0 |  0 | ⋯ |  0 |  0 | 0 |  0 |   0 | 0 |  0 | 0 | 0 | 0 |\n| wynnsau01 | 2021 | 1 | BAL | AL |  45 | 130 | 14 |  24 |  4 | ⋯ | 14 |  1 | 0 |  8 |  31 | 0 |  0 | 1 | 0 | 6 |\n| yajurmi01 | 2021 | 1 | PIT | NL |   4 |   3 |  0 |   0 |  0 | ⋯ |  0 |  0 | 0 |  0 |   3 | 0 |  0 | 0 | 0 | 0 |\n| yamamjo01 | 2021 | 1 | NYN | NL |   2 |   2 |  0 |   1 |  0 | ⋯ |  0 |  0 | 0 |  0 |   1 | 0 |  0 | 0 | 0 | 0 |\n| yanghy01  | 2021 | 1 | TEX | AL |  12 |   0 |  0 |   0 |  0 | ⋯ |  0 |  0 | 0 |  0 |   0 | 0 |  0 | 0 | 0 | 0 |\n| yarbrry01 | 2021 | 1 | TBA | AL |  30 |   4 |  0 |   0 |  0 | ⋯ |  0 |  0 | 0 |  0 |   2 | 0 |  0 | 0 | 0 | 0 |\n| yardler01 | 2021 | 1 | MIL | NL |  17 |   0 |  0 |   0 |  0 | ⋯ |  0 |  0 | 0 |  0 |   0 | 0 |  0 | 0 | 0 | 0 |\n| yastrmi01 | 2021 | 1 | SFN | NL | 139 | 468 | 75 | 105 | 28 | ⋯ | 71 |  4 | 0 | 51 | 131 | 4 |  9 | 1 | 3 | 3 |\n| yelicch01 | 2021 | 1 | MIL | NL | 117 | 399 | 70 |  99 | 19 | ⋯ | 51 |  9 | 3 | 70 | 113 | 5 |  3 | 0 | 3 | 5 |\n| ynoahu01  | 2021 | 1 | ATL | NL |  18 |  32 |  3 |   7 |  1 | ⋯ |  6 |  0 | 0 |  0 |  15 | 0 |  0 | 0 | 0 | 0 |\n| youngal01 | 2021 | 1 | ARI | NL |  30 |   4 |  0 |   0 |  0 | ⋯ |  0 |  0 | 0 |  0 |   4 | 0 |  0 | 0 | 0 | 0 |\n| youngal01 | 2021 | 2 | CLE | AL |  10 |   0 |  0 |   0 |  0 | ⋯ |  0 |  0 | 0 |  0 |   0 | 0 |  0 | 0 | 0 | 0 |\n| youngan02 | 2021 | 1 | ARI | NL |  58 |  91 | 13 |  19 |  7 | ⋯ | 15 |  0 | 0 |  6 |  45 | 0 |  6 | 0 | 1 | 3 |\n| zamorda01 | 2021 | 1 | SEA | AL |   4 |   0 |  0 |   0 |  0 | ⋯ |  0 |  0 | 0 |  0 |   0 | 0 |  0 | 0 | 0 | 0 |\n| zavalse01 | 2021 | 1 | CHA | AL |  37 |  93 | 15 |  17 |  3 | ⋯ | 15 |  0 | 0 |  6 |  41 | 0 |  1 | 4 | 0 | 1 |\n| zerpaan01 | 2021 | 1 | KCA | AL |   1 |   0 |  0 |   0 |  0 | ⋯ |  0 |  0 | 0 |  0 |   0 | 0 |  0 | 0 | 0 | 0 |\n| zeuchtj01 | 2021 | 1 | TOR | AL |   5 |   0 |  0 |   0 |  0 | ⋯ |  0 |  0 | 0 |  0 |   0 | 0 |  0 | 0 | 0 | 0 |\n| zimmebr01 | 2021 | 1 | CLE | AL |  99 | 299 | 44 |  68 |  9 | ⋯ | 35 | 15 | 3 | 30 | 122 | 0 | 15 | 0 | 4 | 3 |\n| zimmebr02 | 2021 | 1 | BAL | AL |  14 |   4 |  0 |   0 |  0 | ⋯ |  0 |  0 | 0 |  0 |   3 | 0 |  0 | 0 | 0 | 0 |\n| zimmejo02 | 2021 | 1 | MIL | NL |   2 |   1 |  0 |   0 |  0 | ⋯ |  0 |  0 | 0 |  0 |   1 | 0 |  0 | 0 | 0 | 0 |\n| zimmeky01 | 2021 | 1 | KCA | AL |  52 |   0 |  0 |   0 |  0 | ⋯ |  0 |  0 | 0 |  0 |   0 | 0 |  0 | 0 | 0 | 0 |\n| zimmery01 | 2021 | 1 | WAS | NL | 110 | 255 | 27 |  62 | 16 | ⋯ | 46 |  0 | 0 | 16 |  77 | 0 |  0 | 0 | 2 | 9 |\n| zuberty01 | 2021 | 1 | KCA | AL |  31 |   1 |  0 |   0 |  0 | ⋯ |  0 |  0 | 0 |  0 |   1 | 0 |  0 | 0 | 0 | 0 |\n| zuninmi01 | 2021 | 1 | TBA | AL | 109 | 333 | 64 |  72 | 11 | ⋯ | 62 |  0 | 0 | 34 | 132 | 0 |  7 | 0 | 1 | 7 |\n\n",
            "text/latex": "A data.frame: 110495 × 22\n\\begin{tabular}{lllllllllllllllllllll}\n playerID & yearID & stint & teamID & lgID & G & AB & R & H & X2B & ⋯ & RBI & SB & CS & BB & SO & IBB & HBP & SH & SF & GIDP\\\\\n <chr> & <int> & <int> & <fct> & <fct> & <int> & <int> & <int> & <int> & <int> & ⋯ & <int> & <int> & <int> & <int> & <int> & <int> & <int> & <int> & <int> & <int>\\\\\n\\hline\n\t abercda01 & 1871 & 1 & TRO & NA &  1 &   4 &  0 &  0 &  0 & ⋯ &  0 &  0 & 0 &  0 & 0 & NA & NA & NA & NA & 0\\\\\n\t addybo01  & 1871 & 1 & RC1 & NA & 25 & 118 & 30 & 32 &  6 & ⋯ & 13 &  8 & 1 &  4 & 0 & NA & NA & NA & NA & 0\\\\\n\t allisar01 & 1871 & 1 & CL1 & NA & 29 & 137 & 28 & 40 &  4 & ⋯ & 19 &  3 & 1 &  2 & 5 & NA & NA & NA & NA & 1\\\\\n\t allisdo01 & 1871 & 1 & WS3 & NA & 27 & 133 & 28 & 44 & 10 & ⋯ & 27 &  1 & 1 &  0 & 2 & NA & NA & NA & NA & 0\\\\\n\t ansonca01 & 1871 & 1 & RC1 & NA & 25 & 120 & 29 & 39 & 11 & ⋯ & 16 &  6 & 2 &  2 & 1 & NA & NA & NA & NA & 0\\\\\n\t armstbo01 & 1871 & 1 & FW1 & NA & 12 &  49 &  9 & 11 &  2 & ⋯ &  5 &  0 & 1 &  0 & 1 & NA & NA & NA & NA & 0\\\\\n\t barkeal01 & 1871 & 1 & RC1 & NA &  1 &   4 &  0 &  1 &  0 & ⋯ &  2 &  0 & 0 &  1 & 0 & NA & NA & NA & NA & 0\\\\\n\t barnero01 & 1871 & 1 & BS1 & NA & 31 & 157 & 66 & 63 & 10 & ⋯ & 34 & 11 & 6 & 13 & 1 & NA & NA & NA & NA & 1\\\\\n\t barrebi01 & 1871 & 1 & FW1 & NA &  1 &   5 &  1 &  1 &  1 & ⋯ &  1 &  0 & 0 &  0 & 0 & NA & NA & NA & NA & 0\\\\\n\t barrofr01 & 1871 & 1 & BS1 & NA & 18 &  86 & 13 & 13 &  2 & ⋯ & 11 &  1 & 0 &  0 & 0 & NA & NA & NA & NA & 0\\\\\n\t bassjo01  & 1871 & 1 & CL1 & NA & 22 &  89 & 18 & 27 &  1 & ⋯ & 18 &  0 & 1 &  3 & 4 & NA & NA & NA & NA & 0\\\\\n\t battijo01 & 1871 & 1 & CL1 & NA &  1 &   3 &  0 &  0 &  0 & ⋯ &  0 &  0 & 0 &  1 & 0 & NA & NA & NA & NA & 0\\\\\n\t bealsto01 & 1871 & 1 & WS3 & NA & 10 &  36 &  6 &  7 &  0 & ⋯ &  1 &  2 & 0 &  2 & 0 & NA & NA & NA & NA & 2\\\\\n\t beaveed01 & 1871 & 1 & TRO & NA &  3 &  15 &  7 &  6 &  0 & ⋯ &  5 &  2 & 0 &  0 & 0 & NA & NA & NA & NA & 0\\\\\n\t bechtge01 & 1871 & 1 & PH1 & NA & 20 &  94 & 24 & 33 &  9 & ⋯ & 21 &  4 & 0 &  2 & 2 & NA & NA & NA & NA & 1\\\\\n\t bellast01 & 1871 & 1 & TRO & NA & 29 & 128 & 26 & 32 &  3 & ⋯ & 23 &  4 & 4 &  9 & 2 & NA & NA & NA & NA & 2\\\\\n\t berkena01 & 1871 & 1 & PH1 & NA &  1 &   4 &  0 &  0 &  0 & ⋯ &  0 &  0 & 0 &  0 & 3 & NA & NA & NA & NA & 0\\\\\n\t berryto01 & 1871 & 1 & PH1 & NA &  1 &   4 &  0 &  1 &  0 & ⋯ &  0 &  0 & 0 &  0 & 0 & NA & NA & NA & NA & 0\\\\\n\t berthha01 & 1871 & 1 & WS3 & NA & 17 &  73 & 17 & 17 &  1 & ⋯ &  8 &  3 & 1 &  4 & 2 & NA & NA & NA & NA & 0\\\\\n\t biermch01 & 1871 & 1 & FW1 & NA &  1 &   2 &  0 &  0 &  0 & ⋯ &  0 &  0 & 0 &  1 & 0 & NA & NA & NA & NA & 0\\\\\n\t birdge01  & 1871 & 1 & RC1 & NA & 25 & 106 & 19 & 28 &  2 & ⋯ & 13 &  1 & 0 &  3 & 2 & NA & NA & NA & NA & 3\\\\\n\t birdsda01 & 1871 & 1 & BS1 & NA & 29 & 152 & 51 & 46 &  3 & ⋯ & 24 &  6 & 0 &  4 & 4 & NA & NA & NA & NA & 1\\\\\n\t brainas01 & 1871 & 1 & WS3 & NA & 30 & 134 & 24 & 30 &  4 & ⋯ & 21 &  4 & 0 &  7 & 2 & NA & NA & NA & NA & 1\\\\\n\t brannmi01 & 1871 & 1 & CH1 & NA &  3 &  14 &  2 &  1 &  0 & ⋯ &  0 &  0 & 0 &  0 & 0 & NA & NA & NA & NA & 0\\\\\n\t burrohe01 & 1871 & 1 & WS3 & NA & 12 &  63 & 11 & 15 &  2 & ⋯ & 14 &  0 & 0 &  1 & 1 & NA & NA & NA & NA & 0\\\\\n\t careyto01 & 1871 & 1 & FW1 & NA & 19 &  87 & 16 & 20 &  2 & ⋯ & 10 &  5 & 0 &  2 & 1 & NA & NA & NA & NA & 0\\\\\n\t carleji01 & 1871 & 1 & CL1 & NA & 29 & 127 & 31 & 32 &  8 & ⋯ & 18 &  2 & 1 &  8 & 3 & NA & NA & NA & NA & 3\\\\\n\t conefr01  & 1871 & 1 & BS1 & NA & 19 &  77 & 17 & 20 &  3 & ⋯ & 16 & 12 & 1 &  8 & 2 & NA & NA & NA & NA & 1\\\\\n\t connone01 & 1871 & 1 & TRO & NA &  7 &  33 &  6 &  7 &  0 & ⋯ &  2 &  0 & 0 &  0 & 0 & NA & NA & NA & NA & 0\\\\\n\t cravebi01 & 1871 & 1 & TRO & NA & 27 & 118 & 26 & 38 &  8 & ⋯ & 26 &  6 & 3 &  3 & 0 & NA & NA & NA & NA & 3\\\\\n\t ⋮ & ⋮ & ⋮ & ⋮ & ⋮ & ⋮ & ⋮ & ⋮ & ⋮ & ⋮ & ⋱ & ⋮ & ⋮ & ⋮ & ⋮ & ⋮ & ⋮ & ⋮ & ⋮ & ⋮ & ⋮\\\\\n\t woodfja01 & 2021 & 1 & SLN & NL &  26 &  18 &  0 &   2 &  0 & ⋯ &  0 &  0 & 0 &  0 &   9 & 0 &  0 & 2 & 0 & 0\\\\\n\t woodhu01  & 2021 & 1 & TEX & AL &   5 &   0 &  0 &   0 &  0 & ⋯ &  0 &  0 & 0 &  0 &   0 & 0 &  0 & 0 & 0 & 0\\\\\n\t woodrbr01 & 2021 & 1 & MIL & NL &  30 &  52 &  0 &   6 &  0 & ⋯ &  2 &  0 & 0 &  3 &  28 & 0 &  0 & 3 & 0 & 0\\\\\n\t workmbr01 & 2021 & 1 & CHN & NL &  10 &   0 &  0 &   0 &  0 & ⋯ &  0 &  0 & 0 &  0 &   0 & 0 &  0 & 0 & 0 & 0\\\\\n\t workmbr01 & 2021 & 2 & BOS & AL &  19 &   0 &  0 &   0 &  0 & ⋯ &  0 &  0 & 0 &  0 &   0 & 0 &  0 & 0 & 0 & 0\\\\\n\t wrighky01 & 2021 & 1 & ATL & NL &   2 &   3 &  1 &   1 &  1 & ⋯ &  0 &  0 & 0 &  0 &   1 & 0 &  0 & 0 & 0 & 0\\\\\n\t wrighmi01 & 2021 & 1 & CHA & AL &  13 &   0 &  0 &   0 &  0 & ⋯ &  0 &  0 & 0 &  0 &   0 & 0 &  0 & 0 & 0 & 0\\\\\n\t wynnsau01 & 2021 & 1 & BAL & AL &  45 & 130 & 14 &  24 &  4 & ⋯ & 14 &  1 & 0 &  8 &  31 & 0 &  0 & 1 & 0 & 6\\\\\n\t yajurmi01 & 2021 & 1 & PIT & NL &   4 &   3 &  0 &   0 &  0 & ⋯ &  0 &  0 & 0 &  0 &   3 & 0 &  0 & 0 & 0 & 0\\\\\n\t yamamjo01 & 2021 & 1 & NYN & NL &   2 &   2 &  0 &   1 &  0 & ⋯ &  0 &  0 & 0 &  0 &   1 & 0 &  0 & 0 & 0 & 0\\\\\n\t yanghy01  & 2021 & 1 & TEX & AL &  12 &   0 &  0 &   0 &  0 & ⋯ &  0 &  0 & 0 &  0 &   0 & 0 &  0 & 0 & 0 & 0\\\\\n\t yarbrry01 & 2021 & 1 & TBA & AL &  30 &   4 &  0 &   0 &  0 & ⋯ &  0 &  0 & 0 &  0 &   2 & 0 &  0 & 0 & 0 & 0\\\\\n\t yardler01 & 2021 & 1 & MIL & NL &  17 &   0 &  0 &   0 &  0 & ⋯ &  0 &  0 & 0 &  0 &   0 & 0 &  0 & 0 & 0 & 0\\\\\n\t yastrmi01 & 2021 & 1 & SFN & NL & 139 & 468 & 75 & 105 & 28 & ⋯ & 71 &  4 & 0 & 51 & 131 & 4 &  9 & 1 & 3 & 3\\\\\n\t yelicch01 & 2021 & 1 & MIL & NL & 117 & 399 & 70 &  99 & 19 & ⋯ & 51 &  9 & 3 & 70 & 113 & 5 &  3 & 0 & 3 & 5\\\\\n\t ynoahu01  & 2021 & 1 & ATL & NL &  18 &  32 &  3 &   7 &  1 & ⋯ &  6 &  0 & 0 &  0 &  15 & 0 &  0 & 0 & 0 & 0\\\\\n\t youngal01 & 2021 & 1 & ARI & NL &  30 &   4 &  0 &   0 &  0 & ⋯ &  0 &  0 & 0 &  0 &   4 & 0 &  0 & 0 & 0 & 0\\\\\n\t youngal01 & 2021 & 2 & CLE & AL &  10 &   0 &  0 &   0 &  0 & ⋯ &  0 &  0 & 0 &  0 &   0 & 0 &  0 & 0 & 0 & 0\\\\\n\t youngan02 & 2021 & 1 & ARI & NL &  58 &  91 & 13 &  19 &  7 & ⋯ & 15 &  0 & 0 &  6 &  45 & 0 &  6 & 0 & 1 & 3\\\\\n\t zamorda01 & 2021 & 1 & SEA & AL &   4 &   0 &  0 &   0 &  0 & ⋯ &  0 &  0 & 0 &  0 &   0 & 0 &  0 & 0 & 0 & 0\\\\\n\t zavalse01 & 2021 & 1 & CHA & AL &  37 &  93 & 15 &  17 &  3 & ⋯ & 15 &  0 & 0 &  6 &  41 & 0 &  1 & 4 & 0 & 1\\\\\n\t zerpaan01 & 2021 & 1 & KCA & AL &   1 &   0 &  0 &   0 &  0 & ⋯ &  0 &  0 & 0 &  0 &   0 & 0 &  0 & 0 & 0 & 0\\\\\n\t zeuchtj01 & 2021 & 1 & TOR & AL &   5 &   0 &  0 &   0 &  0 & ⋯ &  0 &  0 & 0 &  0 &   0 & 0 &  0 & 0 & 0 & 0\\\\\n\t zimmebr01 & 2021 & 1 & CLE & AL &  99 & 299 & 44 &  68 &  9 & ⋯ & 35 & 15 & 3 & 30 & 122 & 0 & 15 & 0 & 4 & 3\\\\\n\t zimmebr02 & 2021 & 1 & BAL & AL &  14 &   4 &  0 &   0 &  0 & ⋯ &  0 &  0 & 0 &  0 &   3 & 0 &  0 & 0 & 0 & 0\\\\\n\t zimmejo02 & 2021 & 1 & MIL & NL &   2 &   1 &  0 &   0 &  0 & ⋯ &  0 &  0 & 0 &  0 &   1 & 0 &  0 & 0 & 0 & 0\\\\\n\t zimmeky01 & 2021 & 1 & KCA & AL &  52 &   0 &  0 &   0 &  0 & ⋯ &  0 &  0 & 0 &  0 &   0 & 0 &  0 & 0 & 0 & 0\\\\\n\t zimmery01 & 2021 & 1 & WAS & NL & 110 & 255 & 27 &  62 & 16 & ⋯ & 46 &  0 & 0 & 16 &  77 & 0 &  0 & 0 & 2 & 9\\\\\n\t zuberty01 & 2021 & 1 & KCA & AL &  31 &   1 &  0 &   0 &  0 & ⋯ &  0 &  0 & 0 &  0 &   1 & 0 &  0 & 0 & 0 & 0\\\\\n\t zuninmi01 & 2021 & 1 & TBA & AL & 109 & 333 & 64 &  72 & 11 & ⋯ & 62 &  0 & 0 & 34 & 132 & 0 &  7 & 0 & 1 & 7\\\\\n\\end{tabular}\n",
            "text/plain": [
              "       playerID  yearID stint teamID lgID G   AB  R  H   X2B ⋯ RBI SB CS BB SO \n",
              "1      abercda01 1871   1     TRO    NA    1    4  0  0   0  ⋯  0   0 0   0 0  \n",
              "2      addybo01  1871   1     RC1    NA   25  118 30 32   6  ⋯ 13   8 1   4 0  \n",
              "3      allisar01 1871   1     CL1    NA   29  137 28 40   4  ⋯ 19   3 1   2 5  \n",
              "4      allisdo01 1871   1     WS3    NA   27  133 28 44  10  ⋯ 27   1 1   0 2  \n",
              "5      ansonca01 1871   1     RC1    NA   25  120 29 39  11  ⋯ 16   6 2   2 1  \n",
              "6      armstbo01 1871   1     FW1    NA   12   49  9 11   2  ⋯  5   0 1   0 1  \n",
              "7      barkeal01 1871   1     RC1    NA    1    4  0  1   0  ⋯  2   0 0   1 0  \n",
              "8      barnero01 1871   1     BS1    NA   31  157 66 63  10  ⋯ 34  11 6  13 1  \n",
              "9      barrebi01 1871   1     FW1    NA    1    5  1  1   1  ⋯  1   0 0   0 0  \n",
              "10     barrofr01 1871   1     BS1    NA   18   86 13 13   2  ⋯ 11   1 0   0 0  \n",
              "11     bassjo01  1871   1     CL1    NA   22   89 18 27   1  ⋯ 18   0 1   3 4  \n",
              "12     battijo01 1871   1     CL1    NA    1    3  0  0   0  ⋯  0   0 0   1 0  \n",
              "13     bealsto01 1871   1     WS3    NA   10   36  6  7   0  ⋯  1   2 0   2 0  \n",
              "14     beaveed01 1871   1     TRO    NA    3   15  7  6   0  ⋯  5   2 0   0 0  \n",
              "15     bechtge01 1871   1     PH1    NA   20   94 24 33   9  ⋯ 21   4 0   2 2  \n",
              "16     bellast01 1871   1     TRO    NA   29  128 26 32   3  ⋯ 23   4 4   9 2  \n",
              "17     berkena01 1871   1     PH1    NA    1    4  0  0   0  ⋯  0   0 0   0 3  \n",
              "18     berryto01 1871   1     PH1    NA    1    4  0  1   0  ⋯  0   0 0   0 0  \n",
              "19     berthha01 1871   1     WS3    NA   17   73 17 17   1  ⋯  8   3 1   4 2  \n",
              "20     biermch01 1871   1     FW1    NA    1    2  0  0   0  ⋯  0   0 0   1 0  \n",
              "21     birdge01  1871   1     RC1    NA   25  106 19 28   2  ⋯ 13   1 0   3 2  \n",
              "22     birdsda01 1871   1     BS1    NA   29  152 51 46   3  ⋯ 24   6 0   4 4  \n",
              "23     brainas01 1871   1     WS3    NA   30  134 24 30   4  ⋯ 21   4 0   7 2  \n",
              "24     brannmi01 1871   1     CH1    NA    3   14  2  1   0  ⋯  0   0 0   0 0  \n",
              "25     burrohe01 1871   1     WS3    NA   12   63 11 15   2  ⋯ 14   0 0   1 1  \n",
              "26     careyto01 1871   1     FW1    NA   19   87 16 20   2  ⋯ 10   5 0   2 1  \n",
              "27     carleji01 1871   1     CL1    NA   29  127 31 32   8  ⋯ 18   2 1   8 3  \n",
              "28     conefr01  1871   1     BS1    NA   19   77 17 20   3  ⋯ 16  12 1   8 2  \n",
              "29     connone01 1871   1     TRO    NA    7   33  6  7   0  ⋯  2   0 0   0 0  \n",
              "30     cravebi01 1871   1     TRO    NA   27  118 26 38   8  ⋯ 26   6 3   3 0  \n",
              "⋮      ⋮         ⋮      ⋮     ⋮      ⋮    ⋮   ⋮   ⋮  ⋮   ⋮   ⋱ ⋮   ⋮  ⋮  ⋮  ⋮  \n",
              "110466 woodfja01 2021   1     SLN    NL    26  18  0   2  0  ⋯  0   0 0   0   9\n",
              "110467 woodhu01  2021   1     TEX    AL     5   0  0   0  0  ⋯  0   0 0   0   0\n",
              "110468 woodrbr01 2021   1     MIL    NL    30  52  0   6  0  ⋯  2   0 0   3  28\n",
              "110469 workmbr01 2021   1     CHN    NL    10   0  0   0  0  ⋯  0   0 0   0   0\n",
              "110470 workmbr01 2021   2     BOS    AL    19   0  0   0  0  ⋯  0   0 0   0   0\n",
              "110471 wrighky01 2021   1     ATL    NL     2   3  1   1  1  ⋯  0   0 0   0   1\n",
              "110472 wrighmi01 2021   1     CHA    AL    13   0  0   0  0  ⋯  0   0 0   0   0\n",
              "110473 wynnsau01 2021   1     BAL    AL    45 130 14  24  4  ⋯ 14   1 0   8  31\n",
              "110474 yajurmi01 2021   1     PIT    NL     4   3  0   0  0  ⋯  0   0 0   0   3\n",
              "110475 yamamjo01 2021   1     NYN    NL     2   2  0   1  0  ⋯  0   0 0   0   1\n",
              "110476 yanghy01  2021   1     TEX    AL    12   0  0   0  0  ⋯  0   0 0   0   0\n",
              "110477 yarbrry01 2021   1     TBA    AL    30   4  0   0  0  ⋯  0   0 0   0   2\n",
              "110478 yardler01 2021   1     MIL    NL    17   0  0   0  0  ⋯  0   0 0   0   0\n",
              "110479 yastrmi01 2021   1     SFN    NL   139 468 75 105 28  ⋯ 71   4 0  51 131\n",
              "110480 yelicch01 2021   1     MIL    NL   117 399 70  99 19  ⋯ 51   9 3  70 113\n",
              "110481 ynoahu01  2021   1     ATL    NL    18  32  3   7  1  ⋯  6   0 0   0  15\n",
              "110482 youngal01 2021   1     ARI    NL    30   4  0   0  0  ⋯  0   0 0   0   4\n",
              "110483 youngal01 2021   2     CLE    AL    10   0  0   0  0  ⋯  0   0 0   0   0\n",
              "110484 youngan02 2021   1     ARI    NL    58  91 13  19  7  ⋯ 15   0 0   6  45\n",
              "110485 zamorda01 2021   1     SEA    AL     4   0  0   0  0  ⋯  0   0 0   0   0\n",
              "110486 zavalse01 2021   1     CHA    AL    37  93 15  17  3  ⋯ 15   0 0   6  41\n",
              "110487 zerpaan01 2021   1     KCA    AL     1   0  0   0  0  ⋯  0   0 0   0   0\n",
              "110488 zeuchtj01 2021   1     TOR    AL     5   0  0   0  0  ⋯  0   0 0   0   0\n",
              "110489 zimmebr01 2021   1     CLE    AL    99 299 44  68  9  ⋯ 35  15 3  30 122\n",
              "110490 zimmebr02 2021   1     BAL    AL    14   4  0   0  0  ⋯  0   0 0   0   3\n",
              "110491 zimmejo02 2021   1     MIL    NL     2   1  0   0  0  ⋯  0   0 0   0   1\n",
              "110492 zimmeky01 2021   1     KCA    AL    52   0  0   0  0  ⋯  0   0 0   0   0\n",
              "110493 zimmery01 2021   1     WAS    NL   110 255 27  62 16  ⋯ 46   0 0  16  77\n",
              "110494 zuberty01 2021   1     KCA    AL    31   1  0   0  0  ⋯  0   0 0   0   1\n",
              "110495 zuninmi01 2021   1     TBA    AL   109 333 64  72 11  ⋯ 62   0 0  34 132\n",
              "       IBB HBP SH SF GIDP\n",
              "1      NA  NA  NA NA 0   \n",
              "2      NA  NA  NA NA 0   \n",
              "3      NA  NA  NA NA 1   \n",
              "4      NA  NA  NA NA 0   \n",
              "5      NA  NA  NA NA 0   \n",
              "6      NA  NA  NA NA 0   \n",
              "7      NA  NA  NA NA 0   \n",
              "8      NA  NA  NA NA 1   \n",
              "9      NA  NA  NA NA 0   \n",
              "10     NA  NA  NA NA 0   \n",
              "11     NA  NA  NA NA 0   \n",
              "12     NA  NA  NA NA 0   \n",
              "13     NA  NA  NA NA 2   \n",
              "14     NA  NA  NA NA 0   \n",
              "15     NA  NA  NA NA 1   \n",
              "16     NA  NA  NA NA 2   \n",
              "17     NA  NA  NA NA 0   \n",
              "18     NA  NA  NA NA 0   \n",
              "19     NA  NA  NA NA 0   \n",
              "20     NA  NA  NA NA 0   \n",
              "21     NA  NA  NA NA 3   \n",
              "22     NA  NA  NA NA 1   \n",
              "23     NA  NA  NA NA 1   \n",
              "24     NA  NA  NA NA 0   \n",
              "25     NA  NA  NA NA 0   \n",
              "26     NA  NA  NA NA 0   \n",
              "27     NA  NA  NA NA 3   \n",
              "28     NA  NA  NA NA 1   \n",
              "29     NA  NA  NA NA 0   \n",
              "30     NA  NA  NA NA 3   \n",
              "⋮      ⋮   ⋮   ⋮  ⋮  ⋮   \n",
              "110466 0    0  2  0  0   \n",
              "110467 0    0  0  0  0   \n",
              "110468 0    0  3  0  0   \n",
              "110469 0    0  0  0  0   \n",
              "110470 0    0  0  0  0   \n",
              "110471 0    0  0  0  0   \n",
              "110472 0    0  0  0  0   \n",
              "110473 0    0  1  0  6   \n",
              "110474 0    0  0  0  0   \n",
              "110475 0    0  0  0  0   \n",
              "110476 0    0  0  0  0   \n",
              "110477 0    0  0  0  0   \n",
              "110478 0    0  0  0  0   \n",
              "110479 4    9  1  3  3   \n",
              "110480 5    3  0  3  5   \n",
              "110481 0    0  0  0  0   \n",
              "110482 0    0  0  0  0   \n",
              "110483 0    0  0  0  0   \n",
              "110484 0    6  0  1  3   \n",
              "110485 0    0  0  0  0   \n",
              "110486 0    1  4  0  1   \n",
              "110487 0    0  0  0  0   \n",
              "110488 0    0  0  0  0   \n",
              "110489 0   15  0  4  3   \n",
              "110490 0    0  0  0  0   \n",
              "110491 0    0  0  0  0   \n",
              "110492 0    0  0  0  0   \n",
              "110493 0    0  0  2  9   \n",
              "110494 0    0  0  0  0   \n",
              "110495 0    7  0  1  7   "
            ]
          },
          "metadata": {}
        }
      ],
      "source": [
        "#Salaries\n",
        "#people\n",
        "Batting\n"
      ]
    },
    {
      "cell_type": "markdown",
      "metadata": {
        "id": "9sUiscyDlCbx"
      },
      "source": [
        "## Exercise\n",
        "How does a player's salary compare with their career batting average (or some other stat)?"
      ]
    },
    {
      "cell_type": "code",
      "execution_count": 20,
      "metadata": {
        "id": "tNS4j8CElCbx",
        "outputId": "7e159bf4-7bef-40b7-d717-7a712aeb1519",
        "colab": {
          "base_uri": "https://localhost:8080/",
          "height": 454
        }
      },
      "outputs": [
        {
          "output_type": "stream",
          "name": "stderr",
          "text": [
            "\u001b[1m\u001b[22mJoining with `by = join_by(playerID, yearID, teamID, lgID)`\n"
          ]
        },
        {
          "output_type": "display_data",
          "data": {
            "text/plain": [
              "plot without title"
            ],
            "image/png": "[encoded data removed]"
          },
          "metadata": {
            "image/png": {
              "width": 420,
              "height": 420
            }
          }
        }
      ],
      "source": [
        "# salary vs batting average\n",
        "#Batting%>%group_by(playerID)%>%summarize(bavg=sum(H)/sum(AB))%>%\n",
        "  #left_join(Salaries)\n",
        "Batting%>%mutate(bavg=H/AB)%>%filter(AB>=20)%>%\n",
        "  inner_join(Salaries)%>%ggplot(aes(x=bavg),y=salary))+"
      ]
    },
    {
      "cell_type": "markdown",
      "metadata": {
        "id": "qXOusq-BlCbx"
      },
      "source": [
        "## Filtering joins\n",
        "\n",
        "Filtering joins allow us to filter rows on one table based on their presence or absence in another table. We've already seen some examples of this on the problem sets:"
      ]
    },
    {
      "cell_type": "code",
      "execution_count": 24,
      "metadata": {
        "id": "TU2yS-iOlCbx",
        "outputId": "2bf97c79-de91-40a2-d4ff-7e8a8977f994",
        "colab": {
          "base_uri": "https://localhost:8080/",
          "height": 1000
        }
      },
      "outputs": [
        {
          "output_type": "stream",
          "name": "stderr",
          "text": [
            "\u001b[1m\u001b[22mSelecting by n\n"
          ]
        },
        {
          "output_type": "stream",
          "name": "stdout",
          "text": [
            "\u001b[90m# A tibble: 5 × 2\u001b[39m\n",
            "  carrier     n\n",
            "  \u001b[3m\u001b[90m<chr>\u001b[39m\u001b[23m   \u001b[3m\u001b[90m<int>\u001b[39m\u001b[23m\n",
            "\u001b[90m1\u001b[39m AA      \u001b[4m3\u001b[24m\u001b[4m2\u001b[24m729\n",
            "\u001b[90m2\u001b[39m B6      \u001b[4m5\u001b[24m\u001b[4m4\u001b[24m635\n",
            "\u001b[90m3\u001b[39m DL      \u001b[4m4\u001b[24m\u001b[4m8\u001b[24m110\n",
            "\u001b[90m4\u001b[39m EV      \u001b[4m5\u001b[24m\u001b[4m4\u001b[24m173\n",
            "\u001b[90m5\u001b[39m UA      \u001b[4m5\u001b[24m\u001b[4m8\u001b[24m665\n"
          ]
        },
        {
          "output_type": "stream",
          "name": "stderr",
          "text": [
            "\u001b[1m\u001b[22mJoining with `by = join_by(carrier)`\n"
          ]
        },
        {
          "output_type": "display_data",
          "data": {
            "text/html": [
              "<table class=\"dataframe\">\n",
              "<caption>A tibble: 248312 × 19</caption>\n",
              "<thead>\n",
              "\t<tr><th scope=col>year</th><th scope=col>month</th><th scope=col>day</th><th scope=col>dep_time</th><th scope=col>sched_dep_time</th><th scope=col>dep_delay</th><th scope=col>arr_time</th><th scope=col>sched_arr_time</th><th scope=col>arr_delay</th><th scope=col>carrier</th><th scope=col>flight</th><th scope=col>tailnum</th><th scope=col>origin</th><th scope=col>dest</th><th scope=col>air_time</th><th scope=col>distance</th><th scope=col>hour</th><th scope=col>minute</th><th scope=col>time_hour</th></tr>\n",
              "\t<tr><th scope=col>&lt;int&gt;</th><th scope=col>&lt;int&gt;</th><th scope=col>&lt;int&gt;</th><th scope=col>&lt;int&gt;</th><th scope=col>&lt;int&gt;</th><th scope=col>&lt;dbl&gt;</th><th scope=col>&lt;int&gt;</th><th scope=col>&lt;int&gt;</th><th scope=col>&lt;dbl&gt;</th><th scope=col>&lt;chr&gt;</th><th scope=col>&lt;int&gt;</th><th scope=col>&lt;chr&gt;</th><th scope=col>&lt;chr&gt;</th><th scope=col>&lt;chr&gt;</th><th scope=col>&lt;dbl&gt;</th><th scope=col>&lt;dbl&gt;</th><th scope=col>&lt;dbl&gt;</th><th scope=col>&lt;dbl&gt;</th><th scope=col>&lt;dttm&gt;</th></tr>\n",
              "</thead>\n",
              "<tbody>\n",
              "\t<tr><td>2013</td><td>1</td><td>1</td><td>517</td><td>515</td><td> 2</td><td> 830</td><td> 819</td><td> 11</td><td>UA</td><td>1545</td><td>N14228</td><td>EWR</td><td>IAH</td><td>227</td><td>1400</td><td>5</td><td>15</td><td>2013-01-01 05:00:00</td></tr>\n",
              "\t<tr><td>2013</td><td>1</td><td>1</td><td>533</td><td>529</td><td> 4</td><td> 850</td><td> 830</td><td> 20</td><td>UA</td><td>1714</td><td>N24211</td><td>LGA</td><td>IAH</td><td>227</td><td>1416</td><td>5</td><td>29</td><td>2013-01-01 05:00:00</td></tr>\n",
              "\t<tr><td>2013</td><td>1</td><td>1</td><td>542</td><td>540</td><td> 2</td><td> 923</td><td> 850</td><td> 33</td><td>AA</td><td>1141</td><td>N619AA</td><td>JFK</td><td>MIA</td><td>160</td><td>1089</td><td>5</td><td>40</td><td>2013-01-01 05:00:00</td></tr>\n",
              "\t<tr><td>2013</td><td>1</td><td>1</td><td>544</td><td>545</td><td>-1</td><td>1004</td><td>1022</td><td>-18</td><td>B6</td><td> 725</td><td>N804JB</td><td>JFK</td><td>BQN</td><td>183</td><td>1576</td><td>5</td><td>45</td><td>2013-01-01 05:00:00</td></tr>\n",
              "\t<tr><td>2013</td><td>1</td><td>1</td><td>554</td><td>600</td><td>-6</td><td> 812</td><td> 837</td><td>-25</td><td>DL</td><td> 461</td><td>N668DN</td><td>LGA</td><td>ATL</td><td>116</td><td> 762</td><td>6</td><td> 0</td><td>2013-01-01 06:00:00</td></tr>\n",
              "\t<tr><td>2013</td><td>1</td><td>1</td><td>554</td><td>558</td><td>-4</td><td> 740</td><td> 728</td><td> 12</td><td>UA</td><td>1696</td><td>N39463</td><td>EWR</td><td>ORD</td><td>150</td><td> 719</td><td>5</td><td>58</td><td>2013-01-01 05:00:00</td></tr>\n",
              "\t<tr><td>2013</td><td>1</td><td>1</td><td>555</td><td>600</td><td>-5</td><td> 913</td><td> 854</td><td> 19</td><td>B6</td><td> 507</td><td>N516JB</td><td>EWR</td><td>FLL</td><td>158</td><td>1065</td><td>6</td><td> 0</td><td>2013-01-01 06:00:00</td></tr>\n",
              "\t<tr><td>2013</td><td>1</td><td>1</td><td>557</td><td>600</td><td>-3</td><td> 709</td><td> 723</td><td>-14</td><td>EV</td><td>5708</td><td>N829AS</td><td>LGA</td><td>IAD</td><td> 53</td><td> 229</td><td>6</td><td> 0</td><td>2013-01-01 06:00:00</td></tr>\n",
              "\t<tr><td>2013</td><td>1</td><td>1</td><td>557</td><td>600</td><td>-3</td><td> 838</td><td> 846</td><td> -8</td><td>B6</td><td>  79</td><td>N593JB</td><td>JFK</td><td>MCO</td><td>140</td><td> 944</td><td>6</td><td> 0</td><td>2013-01-01 06:00:00</td></tr>\n",
              "\t<tr><td>2013</td><td>1</td><td>1</td><td>558</td><td>600</td><td>-2</td><td> 753</td><td> 745</td><td>  8</td><td>AA</td><td> 301</td><td>N3ALAA</td><td>LGA</td><td>ORD</td><td>138</td><td> 733</td><td>6</td><td> 0</td><td>2013-01-01 06:00:00</td></tr>\n",
              "\t<tr><td>2013</td><td>1</td><td>1</td><td>558</td><td>600</td><td>-2</td><td> 849</td><td> 851</td><td> -2</td><td>B6</td><td>  49</td><td>N793JB</td><td>JFK</td><td>PBI</td><td>149</td><td>1028</td><td>6</td><td> 0</td><td>2013-01-01 06:00:00</td></tr>\n",
              "\t<tr><td>2013</td><td>1</td><td>1</td><td>558</td><td>600</td><td>-2</td><td> 853</td><td> 856</td><td> -3</td><td>B6</td><td>  71</td><td>N657JB</td><td>JFK</td><td>TPA</td><td>158</td><td>1005</td><td>6</td><td> 0</td><td>2013-01-01 06:00:00</td></tr>\n",
              "\t<tr><td>2013</td><td>1</td><td>1</td><td>558</td><td>600</td><td>-2</td><td> 924</td><td> 917</td><td>  7</td><td>UA</td><td> 194</td><td>N29129</td><td>JFK</td><td>LAX</td><td>345</td><td>2475</td><td>6</td><td> 0</td><td>2013-01-01 06:00:00</td></tr>\n",
              "\t<tr><td>2013</td><td>1</td><td>1</td><td>558</td><td>600</td><td>-2</td><td> 923</td><td> 937</td><td>-14</td><td>UA</td><td>1124</td><td>N53441</td><td>EWR</td><td>SFO</td><td>361</td><td>2565</td><td>6</td><td> 0</td><td>2013-01-01 06:00:00</td></tr>\n",
              "\t<tr><td>2013</td><td>1</td><td>1</td><td>559</td><td>600</td><td>-1</td><td> 941</td><td> 910</td><td> 31</td><td>AA</td><td> 707</td><td>N3DUAA</td><td>LGA</td><td>DFW</td><td>257</td><td>1389</td><td>6</td><td> 0</td><td>2013-01-01 06:00:00</td></tr>\n",
              "\t<tr><td>2013</td><td>1</td><td>1</td><td>559</td><td>559</td><td> 0</td><td> 702</td><td> 706</td><td> -4</td><td>B6</td><td>1806</td><td>N708JB</td><td>JFK</td><td>BOS</td><td> 44</td><td> 187</td><td>5</td><td>59</td><td>2013-01-01 05:00:00</td></tr>\n",
              "\t<tr><td>2013</td><td>1</td><td>1</td><td>559</td><td>600</td><td>-1</td><td> 854</td><td> 902</td><td> -8</td><td>UA</td><td>1187</td><td>N76515</td><td>EWR</td><td>LAS</td><td>337</td><td>2227</td><td>6</td><td> 0</td><td>2013-01-01 06:00:00</td></tr>\n",
              "\t<tr><td>2013</td><td>1</td><td>1</td><td>600</td><td>600</td><td> 0</td><td> 851</td><td> 858</td><td> -7</td><td>B6</td><td> 371</td><td>N595JB</td><td>LGA</td><td>FLL</td><td>152</td><td>1076</td><td>6</td><td> 0</td><td>2013-01-01 06:00:00</td></tr>\n",
              "\t<tr><td>2013</td><td>1</td><td>1</td><td>601</td><td>600</td><td> 1</td><td> 844</td><td> 850</td><td> -6</td><td>B6</td><td> 343</td><td>N644JB</td><td>EWR</td><td>PBI</td><td>147</td><td>1023</td><td>6</td><td> 0</td><td>2013-01-01 06:00:00</td></tr>\n",
              "\t<tr><td>2013</td><td>1</td><td>1</td><td>602</td><td>610</td><td>-8</td><td> 812</td><td> 820</td><td> -8</td><td>DL</td><td>1919</td><td>N971DL</td><td>LGA</td><td>MSP</td><td>170</td><td>1020</td><td>6</td><td>10</td><td>2013-01-01 06:00:00</td></tr>\n",
              "\t<tr><td>2013</td><td>1</td><td>1</td><td>606</td><td>610</td><td>-4</td><td> 858</td><td> 910</td><td>-12</td><td>AA</td><td>1895</td><td>N633AA</td><td>EWR</td><td>MIA</td><td>152</td><td>1085</td><td>6</td><td>10</td><td>2013-01-01 06:00:00</td></tr>\n",
              "\t<tr><td>2013</td><td>1</td><td>1</td><td>606</td><td>610</td><td>-4</td><td> 837</td><td> 845</td><td> -8</td><td>DL</td><td>1743</td><td>N3739P</td><td>JFK</td><td>ATL</td><td>128</td><td> 760</td><td>6</td><td>10</td><td>2013-01-01 06:00:00</td></tr>\n",
              "\t<tr><td>2013</td><td>1</td><td>1</td><td>607</td><td>607</td><td> 0</td><td> 858</td><td> 915</td><td>-17</td><td>UA</td><td>1077</td><td>N53442</td><td>EWR</td><td>MIA</td><td>157</td><td>1085</td><td>6</td><td> 7</td><td>2013-01-01 06:00:00</td></tr>\n",
              "\t<tr><td>2013</td><td>1</td><td>1</td><td>611</td><td>600</td><td>11</td><td> 945</td><td> 931</td><td> 14</td><td>UA</td><td> 303</td><td>N532UA</td><td>JFK</td><td>SFO</td><td>366</td><td>2586</td><td>6</td><td> 0</td><td>2013-01-01 06:00:00</td></tr>\n",
              "\t<tr><td>2013</td><td>1</td><td>1</td><td>613</td><td>610</td><td> 3</td><td> 925</td><td> 921</td><td>  4</td><td>B6</td><td> 135</td><td>N635JB</td><td>JFK</td><td>RSW</td><td>175</td><td>1074</td><td>6</td><td>10</td><td>2013-01-01 06:00:00</td></tr>\n",
              "\t<tr><td>2013</td><td>1</td><td>1</td><td>615</td><td>615</td><td> 0</td><td>1039</td><td>1100</td><td>-21</td><td>B6</td><td> 709</td><td>N794JB</td><td>JFK</td><td>SJU</td><td>182</td><td>1598</td><td>6</td><td>15</td><td>2013-01-01 06:00:00</td></tr>\n",
              "\t<tr><td>2013</td><td>1</td><td>1</td><td>615</td><td>615</td><td> 0</td><td> 833</td><td> 842</td><td> -9</td><td>DL</td><td> 575</td><td>N326NB</td><td>EWR</td><td>ATL</td><td>120</td><td> 746</td><td>6</td><td>15</td><td>2013-01-01 06:00:00</td></tr>\n",
              "\t<tr><td>2013</td><td>1</td><td>1</td><td>623</td><td>610</td><td>13</td><td> 920</td><td> 915</td><td>  5</td><td>AA</td><td>1837</td><td>N3EMAA</td><td>LGA</td><td>MIA</td><td>153</td><td>1096</td><td>6</td><td>10</td><td>2013-01-01 06:00:00</td></tr>\n",
              "\t<tr><td>2013</td><td>1</td><td>1</td><td>623</td><td>627</td><td>-4</td><td> 933</td><td> 932</td><td>  1</td><td>UA</td><td> 496</td><td>N459UA</td><td>LGA</td><td>IAH</td><td>229</td><td>1416</td><td>6</td><td>27</td><td>2013-01-01 06:00:00</td></tr>\n",
              "\t<tr><td>2013</td><td>1</td><td>1</td><td>624</td><td>630</td><td>-6</td><td> 909</td><td> 840</td><td> 29</td><td>EV</td><td>4626</td><td>N11107</td><td>EWR</td><td>MSP</td><td>190</td><td>1008</td><td>6</td><td>30</td><td>2013-01-01 06:00:00</td></tr>\n",
              "\t<tr><td>⋮</td><td>⋮</td><td>⋮</td><td>⋮</td><td>⋮</td><td>⋮</td><td>⋮</td><td>⋮</td><td>⋮</td><td>⋮</td><td>⋮</td><td>⋮</td><td>⋮</td><td>⋮</td><td>⋮</td><td>⋮</td><td>⋮</td><td>⋮</td><td>⋮</td></tr>\n",
              "\t<tr><td>2013</td><td>9</td><td>30</td><td>2105</td><td>2106</td><td> -1</td><td>2329</td><td>2354</td><td>-25</td><td>UA</td><td> 475</td><td>N477UA</td><td>EWR</td><td>IAH</td><td>175</td><td>1400</td><td>21</td><td> 6</td><td>2013-09-30 21:00:00</td></tr>\n",
              "\t<tr><td>2013</td><td>9</td><td>30</td><td>2110</td><td>2055</td><td> 15</td><td>  51</td><td>2359</td><td> 52</td><td>B6</td><td>1205</td><td>N517JB</td><td>JFK</td><td>PDX</td><td>361</td><td>2454</td><td>20</td><td>55</td><td>2013-09-30 20:00:00</td></tr>\n",
              "\t<tr><td>2013</td><td>9</td><td>30</td><td>2114</td><td>2025</td><td> 49</td><td>2304</td><td>2228</td><td> 36</td><td>EV</td><td>4348</td><td>N11184</td><td>EWR</td><td>MSP</td><td>145</td><td>1008</td><td>20</td><td>25</td><td>2013-09-30 20:00:00</td></tr>\n",
              "\t<tr><td>2013</td><td>9</td><td>30</td><td>2116</td><td>2124</td><td> -8</td><td>2317</td><td>2337</td><td>-20</td><td>EV</td><td>4682</td><td>N14542</td><td>EWR</td><td>SDF</td><td> 94</td><td> 642</td><td>21</td><td>24</td><td>2013-09-30 21:00:00</td></tr>\n",
              "\t<tr><td>2013</td><td>9</td><td>30</td><td>2119</td><td>2005</td><td> 74</td><td>2310</td><td>2212</td><td> 58</td><td>EV</td><td>4321</td><td>N17984</td><td>EWR</td><td>MCI</td><td>147</td><td>1092</td><td>20</td><td> 5</td><td>2013-09-30 20:00:00</td></tr>\n",
              "\t<tr><td>2013</td><td>9</td><td>30</td><td>2119</td><td>2120</td><td> -1</td><td>2330</td><td>2354</td><td>-24</td><td>B6</td><td>1677</td><td>N358JB</td><td>JFK</td><td>JAX</td><td>113</td><td> 828</td><td>21</td><td>20</td><td>2013-09-30 21:00:00</td></tr>\n",
              "\t<tr><td>2013</td><td>9</td><td>30</td><td>2121</td><td>2100</td><td> 21</td><td>2349</td><td>  14</td><td>-25</td><td>DL</td><td>2363</td><td>N193DN</td><td>JFK</td><td>LAX</td><td>296</td><td>2475</td><td>21</td><td> 0</td><td>2013-09-30 21:00:00</td></tr>\n",
              "\t<tr><td>2013</td><td>9</td><td>30</td><td>2122</td><td>2127</td><td> -5</td><td>2226</td><td>2237</td><td>-11</td><td>EV</td><td>4372</td><td>N14902</td><td>EWR</td><td>DCA</td><td> 35</td><td> 199</td><td>21</td><td>27</td><td>2013-09-30 21:00:00</td></tr>\n",
              "\t<tr><td>2013</td><td>9</td><td>30</td><td>2123</td><td>2125</td><td> -2</td><td>2223</td><td>2247</td><td>-24</td><td>EV</td><td>5489</td><td>N712EV</td><td>LGA</td><td>CHO</td><td> 45</td><td> 305</td><td>21</td><td>25</td><td>2013-09-30 21:00:00</td></tr>\n",
              "\t<tr><td>2013</td><td>9</td><td>30</td><td>2127</td><td>2129</td><td> -2</td><td>2314</td><td>2323</td><td> -9</td><td>EV</td><td>3833</td><td>N16546</td><td>EWR</td><td>CLT</td><td> 72</td><td> 529</td><td>21</td><td>29</td><td>2013-09-30 21:00:00</td></tr>\n",
              "\t<tr><td>2013</td><td>9</td><td>30</td><td>2128</td><td>2130</td><td> -2</td><td>2328</td><td>2359</td><td>-31</td><td>B6</td><td>  97</td><td>N807JB</td><td>JFK</td><td>DEN</td><td>213</td><td>1626</td><td>21</td><td>30</td><td>2013-09-30 21:00:00</td></tr>\n",
              "\t<tr><td>2013</td><td>9</td><td>30</td><td>2129</td><td>2059</td><td> 30</td><td>2230</td><td>2232</td><td> -2</td><td>EV</td><td>5048</td><td>N751EV</td><td>LGA</td><td>RIC</td><td> 45</td><td> 292</td><td>20</td><td>59</td><td>2013-09-30 20:00:00</td></tr>\n",
              "\t<tr><td>2013</td><td>9</td><td>30</td><td>2140</td><td>2140</td><td>  0</td><td>  10</td><td>  40</td><td>-30</td><td>AA</td><td> 185</td><td>N335AA</td><td>JFK</td><td>LAX</td><td>298</td><td>2475</td><td>21</td><td>40</td><td>2013-09-30 21:00:00</td></tr>\n",
              "\t<tr><td>2013</td><td>9</td><td>30</td><td>2142</td><td>2129</td><td> 13</td><td>2250</td><td>2239</td><td> 11</td><td>EV</td><td>4509</td><td>N12957</td><td>EWR</td><td>PWM</td><td> 47</td><td> 284</td><td>21</td><td>29</td><td>2013-09-30 21:00:00</td></tr>\n",
              "\t<tr><td>2013</td><td>9</td><td>30</td><td>2145</td><td>2145</td><td>  0</td><td> 115</td><td> 140</td><td>-25</td><td>B6</td><td>1103</td><td>N633JB</td><td>JFK</td><td>SJU</td><td>192</td><td>1598</td><td>21</td><td>45</td><td>2013-09-30 21:00:00</td></tr>\n",
              "\t<tr><td>2013</td><td>9</td><td>30</td><td>2147</td><td>2137</td><td> 10</td><td>  30</td><td>  27</td><td>  3</td><td>B6</td><td>1371</td><td>N627JB</td><td>LGA</td><td>FLL</td><td>139</td><td>1076</td><td>21</td><td>37</td><td>2013-09-30 21:00:00</td></tr>\n",
              "\t<tr><td>2013</td><td>9</td><td>30</td><td>2149</td><td>2156</td><td> -7</td><td>2245</td><td>2308</td><td>-23</td><td>UA</td><td> 523</td><td>N813UA</td><td>EWR</td><td>BOS</td><td> 37</td><td> 200</td><td>21</td><td>56</td><td>2013-09-30 21:00:00</td></tr>\n",
              "\t<tr><td>2013</td><td>9</td><td>30</td><td>2150</td><td>2159</td><td> -9</td><td>2250</td><td>2306</td><td>-16</td><td>EV</td><td>3842</td><td>N10575</td><td>EWR</td><td>MHT</td><td> 39</td><td> 209</td><td>21</td><td>59</td><td>2013-09-30 21:00:00</td></tr>\n",
              "\t<tr><td>2013</td><td>9</td><td>30</td><td>2203</td><td>2205</td><td> -2</td><td>2339</td><td>2331</td><td>  8</td><td>EV</td><td>5311</td><td>N722EV</td><td>LGA</td><td>BGR</td><td> 61</td><td> 378</td><td>22</td><td> 5</td><td>2013-09-30 22:00:00</td></tr>\n",
              "\t<tr><td>2013</td><td>9</td><td>30</td><td>2211</td><td>2059</td><td> 72</td><td>2339</td><td>2242</td><td> 57</td><td>EV</td><td>4672</td><td>N12145</td><td>EWR</td><td>STL</td><td>120</td><td> 872</td><td>20</td><td>59</td><td>2013-09-30 20:00:00</td></tr>\n",
              "\t<tr><td>2013</td><td>9</td><td>30</td><td>2231</td><td>2245</td><td>-14</td><td>2335</td><td>2356</td><td>-21</td><td>B6</td><td> 108</td><td>N193JB</td><td>JFK</td><td>PWM</td><td> 48</td><td> 273</td><td>22</td><td>45</td><td>2013-09-30 22:00:00</td></tr>\n",
              "\t<tr><td>2013</td><td>9</td><td>30</td><td>2233</td><td>2113</td><td> 80</td><td> 112</td><td>  30</td><td> 42</td><td>UA</td><td> 471</td><td>N578UA</td><td>EWR</td><td>SFO</td><td>318</td><td>2565</td><td>21</td><td>13</td><td>2013-09-30 21:00:00</td></tr>\n",
              "\t<tr><td>2013</td><td>9</td><td>30</td><td>2235</td><td>2001</td><td>154</td><td>  59</td><td>2249</td><td>130</td><td>B6</td><td>1083</td><td>N804JB</td><td>JFK</td><td>MCO</td><td>123</td><td> 944</td><td>20</td><td> 1</td><td>2013-09-30 20:00:00</td></tr>\n",
              "\t<tr><td>2013</td><td>9</td><td>30</td><td>2237</td><td>2245</td><td> -8</td><td>2345</td><td>2353</td><td> -8</td><td>B6</td><td> 234</td><td>N318JB</td><td>JFK</td><td>BTV</td><td> 43</td><td> 266</td><td>22</td><td>45</td><td>2013-09-30 22:00:00</td></tr>\n",
              "\t<tr><td>2013</td><td>9</td><td>30</td><td>2240</td><td>2245</td><td> -5</td><td>2334</td><td>2351</td><td>-17</td><td>B6</td><td>1816</td><td>N354JB</td><td>JFK</td><td>SYR</td><td> 41</td><td> 209</td><td>22</td><td>45</td><td>2013-09-30 22:00:00</td></tr>\n",
              "\t<tr><td>2013</td><td>9</td><td>30</td><td>2240</td><td>2250</td><td>-10</td><td>2347</td><td>   7</td><td>-20</td><td>B6</td><td>2002</td><td>N281JB</td><td>JFK</td><td>BUF</td><td> 52</td><td> 301</td><td>22</td><td>50</td><td>2013-09-30 22:00:00</td></tr>\n",
              "\t<tr><td>2013</td><td>9</td><td>30</td><td>2241</td><td>2246</td><td> -5</td><td>2345</td><td>   1</td><td>-16</td><td>B6</td><td> 486</td><td>N346JB</td><td>JFK</td><td>ROC</td><td> 47</td><td> 264</td><td>22</td><td>46</td><td>2013-09-30 22:00:00</td></tr>\n",
              "\t<tr><td>2013</td><td>9</td><td>30</td><td>2307</td><td>2255</td><td> 12</td><td>2359</td><td>2358</td><td>  1</td><td>B6</td><td> 718</td><td>N565JB</td><td>JFK</td><td>BOS</td><td> 33</td><td> 187</td><td>22</td><td>55</td><td>2013-09-30 22:00:00</td></tr>\n",
              "\t<tr><td>2013</td><td>9</td><td>30</td><td>2349</td><td>2359</td><td>-10</td><td> 325</td><td> 350</td><td>-25</td><td>B6</td><td> 745</td><td>N516JB</td><td>JFK</td><td>PSE</td><td>196</td><td>1617</td><td>23</td><td>59</td><td>2013-09-30 23:00:00</td></tr>\n",
              "\t<tr><td>2013</td><td>9</td><td>30</td><td>  NA</td><td>1842</td><td> NA</td><td>  NA</td><td>2019</td><td> NA</td><td>EV</td><td>5274</td><td>N740EV</td><td>LGA</td><td>BNA</td><td> NA</td><td> 764</td><td>18</td><td>42</td><td>2013-09-30 18:00:00</td></tr>\n",
              "</tbody>\n",
              "</table>\n"
            ],
            "text/markdown": "\nA tibble: 248312 × 19\n\n| year &lt;int&gt; | month &lt;int&gt; | day &lt;int&gt; | dep_time &lt;int&gt; | sched_dep_time &lt;int&gt; | dep_delay &lt;dbl&gt; | arr_time &lt;int&gt; | sched_arr_time &lt;int&gt; | arr_delay &lt;dbl&gt; | carrier &lt;chr&gt; | flight &lt;int&gt; | tailnum &lt;chr&gt; | origin &lt;chr&gt; | dest &lt;chr&gt; | air_time &lt;dbl&gt; | distance &lt;dbl&gt; | hour &lt;dbl&gt; | minute &lt;dbl&gt; | time_hour &lt;dttm&gt; |\n|---|---|---|---|---|---|---|---|---|---|---|---|---|---|---|---|---|---|---|\n| 2013 | 1 | 1 | 517 | 515 |  2 |  830 |  819 |  11 | UA | 1545 | N14228 | EWR | IAH | 227 | 1400 | 5 | 15 | 2013-01-01 05:00:00 |\n| 2013 | 1 | 1 | 533 | 529 |  4 |  850 |  830 |  20 | UA | 1714 | N24211 | LGA | IAH | 227 | 1416 | 5 | 29 | 2013-01-01 05:00:00 |\n| 2013 | 1 | 1 | 542 | 540 |  2 |  923 |  850 |  33 | AA | 1141 | N619AA | JFK | MIA | 160 | 1089 | 5 | 40 | 2013-01-01 05:00:00 |\n| 2013 | 1 | 1 | 544 | 545 | -1 | 1004 | 1022 | -18 | B6 |  725 | N804JB | JFK | BQN | 183 | 1576 | 5 | 45 | 2013-01-01 05:00:00 |\n| 2013 | 1 | 1 | 554 | 600 | -6 |  812 |  837 | -25 | DL |  461 | N668DN | LGA | ATL | 116 |  762 | 6 |  0 | 2013-01-01 06:00:00 |\n| 2013 | 1 | 1 | 554 | 558 | -4 |  740 |  728 |  12 | UA | 1696 | N39463 | EWR | ORD | 150 |  719 | 5 | 58 | 2013-01-01 05:00:00 |\n| 2013 | 1 | 1 | 555 | 600 | -5 |  913 |  854 |  19 | B6 |  507 | N516JB | EWR | FLL | 158 | 1065 | 6 |  0 | 2013-01-01 06:00:00 |\n| 2013 | 1 | 1 | 557 | 600 | -3 |  709 |  723 | -14 | EV | 5708 | N829AS | LGA | IAD |  53 |  229 | 6 |  0 | 2013-01-01 06:00:00 |\n| 2013 | 1 | 1 | 557 | 600 | -3 |  838 |  846 |  -8 | B6 |   79 | N593JB | JFK | MCO | 140 |  944 | 6 |  0 | 2013-01-01 06:00:00 |\n| 2013 | 1 | 1 | 558 | 600 | -2 |  753 |  745 |   8 | AA |  301 | N3ALAA | LGA | ORD | 138 |  733 | 6 |  0 | 2013-01-01 06:00:00 |\n| 2013 | 1 | 1 | 558 | 600 | -2 |  849 |  851 |  -2 | B6 |   49 | N793JB | JFK | PBI | 149 | 1028 | 6 |  0 | 2013-01-01 06:00:00 |\n| 2013 | 1 | 1 | 558 | 600 | -2 |  853 |  856 |  -3 | B6 |   71 | N657JB | JFK | TPA | 158 | 1005 | 6 |  0 | 2013-01-01 06:00:00 |\n| 2013 | 1 | 1 | 558 | 600 | -2 |  924 |  917 |   7 | UA |  194 | N29129 | JFK | LAX | 345 | 2475 | 6 |  0 | 2013-01-01 06:00:00 |\n| 2013 | 1 | 1 | 558 | 600 | -2 |  923 |  937 | -14 | UA | 1124 | N53441 | EWR | SFO | 361 | 2565 | 6 |  0 | 2013-01-01 06:00:00 |\n| 2013 | 1 | 1 | 559 | 600 | -1 |  941 |  910 |  31 | AA |  707 | N3DUAA | LGA | DFW | 257 | 1389 | 6 |  0 | 2013-01-01 06:00:00 |\n| 2013 | 1 | 1 | 559 | 559 |  0 |  702 |  706 |  -4 | B6 | 1806 | N708JB | JFK | BOS |  44 |  187 | 5 | 59 | 2013-01-01 05:00:00 |\n| 2013 | 1 | 1 | 559 | 600 | -1 |  854 |  902 |  -8 | UA | 1187 | N76515 | EWR | LAS | 337 | 2227 | 6 |  0 | 2013-01-01 06:00:00 |\n| 2013 | 1 | 1 | 600 | 600 |  0 |  851 |  858 |  -7 | B6 |  371 | N595JB | LGA | FLL | 152 | 1076 | 6 |  0 | 2013-01-01 06:00:00 |\n| 2013 | 1 | 1 | 601 | 600 |  1 |  844 |  850 |  -6 | B6 |  343 | N644JB | EWR | PBI | 147 | 1023 | 6 |  0 | 2013-01-01 06:00:00 |\n| 2013 | 1 | 1 | 602 | 610 | -8 |  812 |  820 |  -8 | DL | 1919 | N971DL | LGA | MSP | 170 | 1020 | 6 | 10 | 2013-01-01 06:00:00 |\n| 2013 | 1 | 1 | 606 | 610 | -4 |  858 |  910 | -12 | AA | 1895 | N633AA | EWR | MIA | 152 | 1085 | 6 | 10 | 2013-01-01 06:00:00 |\n| 2013 | 1 | 1 | 606 | 610 | -4 |  837 |  845 |  -8 | DL | 1743 | N3739P | JFK | ATL | 128 |  760 | 6 | 10 | 2013-01-01 06:00:00 |\n| 2013 | 1 | 1 | 607 | 607 |  0 |  858 |  915 | -17 | UA | 1077 | N53442 | EWR | MIA | 157 | 1085 | 6 |  7 | 2013-01-01 06:00:00 |\n| 2013 | 1 | 1 | 611 | 600 | 11 |  945 |  931 |  14 | UA |  303 | N532UA | JFK | SFO | 366 | 2586 | 6 |  0 | 2013-01-01 06:00:00 |\n| 2013 | 1 | 1 | 613 | 610 |  3 |  925 |  921 |   4 | B6 |  135 | N635JB | JFK | RSW | 175 | 1074 | 6 | 10 | 2013-01-01 06:00:00 |\n| 2013 | 1 | 1 | 615 | 615 |  0 | 1039 | 1100 | -21 | B6 |  709 | N794JB | JFK | SJU | 182 | 1598 | 6 | 15 | 2013-01-01 06:00:00 |\n| 2013 | 1 | 1 | 615 | 615 |  0 |  833 |  842 |  -9 | DL |  575 | N326NB | EWR | ATL | 120 |  746 | 6 | 15 | 2013-01-01 06:00:00 |\n| 2013 | 1 | 1 | 623 | 610 | 13 |  920 |  915 |   5 | AA | 1837 | N3EMAA | LGA | MIA | 153 | 1096 | 6 | 10 | 2013-01-01 06:00:00 |\n| 2013 | 1 | 1 | 623 | 627 | -4 |  933 |  932 |   1 | UA |  496 | N459UA | LGA | IAH | 229 | 1416 | 6 | 27 | 2013-01-01 06:00:00 |\n| 2013 | 1 | 1 | 624 | 630 | -6 |  909 |  840 |  29 | EV | 4626 | N11107 | EWR | MSP | 190 | 1008 | 6 | 30 | 2013-01-01 06:00:00 |\n| ⋮ | ⋮ | ⋮ | ⋮ | ⋮ | ⋮ | ⋮ | ⋮ | ⋮ | ⋮ | ⋮ | ⋮ | ⋮ | ⋮ | ⋮ | ⋮ | ⋮ | ⋮ | ⋮ |\n| 2013 | 9 | 30 | 2105 | 2106 |  -1 | 2329 | 2354 | -25 | UA |  475 | N477UA | EWR | IAH | 175 | 1400 | 21 |  6 | 2013-09-30 21:00:00 |\n| 2013 | 9 | 30 | 2110 | 2055 |  15 |   51 | 2359 |  52 | B6 | 1205 | N517JB | JFK | PDX | 361 | 2454 | 20 | 55 | 2013-09-30 20:00:00 |\n| 2013 | 9 | 30 | 2114 | 2025 |  49 | 2304 | 2228 |  36 | EV | 4348 | N11184 | EWR | MSP | 145 | 1008 | 20 | 25 | 2013-09-30 20:00:00 |\n| 2013 | 9 | 30 | 2116 | 2124 |  -8 | 2317 | 2337 | -20 | EV | 4682 | N14542 | EWR | SDF |  94 |  642 | 21 | 24 | 2013-09-30 21:00:00 |\n| 2013 | 9 | 30 | 2119 | 2005 |  74 | 2310 | 2212 |  58 | EV | 4321 | N17984 | EWR | MCI | 147 | 1092 | 20 |  5 | 2013-09-30 20:00:00 |\n| 2013 | 9 | 30 | 2119 | 2120 |  -1 | 2330 | 2354 | -24 | B6 | 1677 | N358JB | JFK | JAX | 113 |  828 | 21 | 20 | 2013-09-30 21:00:00 |\n| 2013 | 9 | 30 | 2121 | 2100 |  21 | 2349 |   14 | -25 | DL | 2363 | N193DN | JFK | LAX | 296 | 2475 | 21 |  0 | 2013-09-30 21:00:00 |\n| 2013 | 9 | 30 | 2122 | 2127 |  -5 | 2226 | 2237 | -11 | EV | 4372 | N14902 | EWR | DCA |  35 |  199 | 21 | 27 | 2013-09-30 21:00:00 |\n| 2013 | 9 | 30 | 2123 | 2125 |  -2 | 2223 | 2247 | -24 | EV | 5489 | N712EV | LGA | CHO |  45 |  305 | 21 | 25 | 2013-09-30 21:00:00 |\n| 2013 | 9 | 30 | 2127 | 2129 |  -2 | 2314 | 2323 |  -9 | EV | 3833 | N16546 | EWR | CLT |  72 |  529 | 21 | 29 | 2013-09-30 21:00:00 |\n| 2013 | 9 | 30 | 2128 | 2130 |  -2 | 2328 | 2359 | -31 | B6 |   97 | N807JB | JFK | DEN | 213 | 1626 | 21 | 30 | 2013-09-30 21:00:00 |\n| 2013 | 9 | 30 | 2129 | 2059 |  30 | 2230 | 2232 |  -2 | EV | 5048 | N751EV | LGA | RIC |  45 |  292 | 20 | 59 | 2013-09-30 20:00:00 |\n| 2013 | 9 | 30 | 2140 | 2140 |   0 |   10 |   40 | -30 | AA |  185 | N335AA | JFK | LAX | 298 | 2475 | 21 | 40 | 2013-09-30 21:00:00 |\n| 2013 | 9 | 30 | 2142 | 2129 |  13 | 2250 | 2239 |  11 | EV | 4509 | N12957 | EWR | PWM |  47 |  284 | 21 | 29 | 2013-09-30 21:00:00 |\n| 2013 | 9 | 30 | 2145 | 2145 |   0 |  115 |  140 | -25 | B6 | 1103 | N633JB | JFK | SJU | 192 | 1598 | 21 | 45 | 2013-09-30 21:00:00 |\n| 2013 | 9 | 30 | 2147 | 2137 |  10 |   30 |   27 |   3 | B6 | 1371 | N627JB | LGA | FLL | 139 | 1076 | 21 | 37 | 2013-09-30 21:00:00 |\n| 2013 | 9 | 30 | 2149 | 2156 |  -7 | 2245 | 2308 | -23 | UA |  523 | N813UA | EWR | BOS |  37 |  200 | 21 | 56 | 2013-09-30 21:00:00 |\n| 2013 | 9 | 30 | 2150 | 2159 |  -9 | 2250 | 2306 | -16 | EV | 3842 | N10575 | EWR | MHT |  39 |  209 | 21 | 59 | 2013-09-30 21:00:00 |\n| 2013 | 9 | 30 | 2203 | 2205 |  -2 | 2339 | 2331 |   8 | EV | 5311 | N722EV | LGA | BGR |  61 |  378 | 22 |  5 | 2013-09-30 22:00:00 |\n| 2013 | 9 | 30 | 2211 | 2059 |  72 | 2339 | 2242 |  57 | EV | 4672 | N12145 | EWR | STL | 120 |  872 | 20 | 59 | 2013-09-30 20:00:00 |\n| 2013 | 9 | 30 | 2231 | 2245 | -14 | 2335 | 2356 | -21 | B6 |  108 | N193JB | JFK | PWM |  48 |  273 | 22 | 45 | 2013-09-30 22:00:00 |\n| 2013 | 9 | 30 | 2233 | 2113 |  80 |  112 |   30 |  42 | UA |  471 | N578UA | EWR | SFO | 318 | 2565 | 21 | 13 | 2013-09-30 21:00:00 |\n| 2013 | 9 | 30 | 2235 | 2001 | 154 |   59 | 2249 | 130 | B6 | 1083 | N804JB | JFK | MCO | 123 |  944 | 20 |  1 | 2013-09-30 20:00:00 |\n| 2013 | 9 | 30 | 2237 | 2245 |  -8 | 2345 | 2353 |  -8 | B6 |  234 | N318JB | JFK | BTV |  43 |  266 | 22 | 45 | 2013-09-30 22:00:00 |\n| 2013 | 9 | 30 | 2240 | 2245 |  -5 | 2334 | 2351 | -17 | B6 | 1816 | N354JB | JFK | SYR |  41 |  209 | 22 | 45 | 2013-09-30 22:00:00 |\n| 2013 | 9 | 30 | 2240 | 2250 | -10 | 2347 |    7 | -20 | B6 | 2002 | N281JB | JFK | BUF |  52 |  301 | 22 | 50 | 2013-09-30 22:00:00 |\n| 2013 | 9 | 30 | 2241 | 2246 |  -5 | 2345 |    1 | -16 | B6 |  486 | N346JB | JFK | ROC |  47 |  264 | 22 | 46 | 2013-09-30 22:00:00 |\n| 2013 | 9 | 30 | 2307 | 2255 |  12 | 2359 | 2358 |   1 | B6 |  718 | N565JB | JFK | BOS |  33 |  187 | 22 | 55 | 2013-09-30 22:00:00 |\n| 2013 | 9 | 30 | 2349 | 2359 | -10 |  325 |  350 | -25 | B6 |  745 | N516JB | JFK | PSE | 196 | 1617 | 23 | 59 | 2013-09-30 23:00:00 |\n| 2013 | 9 | 30 |   NA | 1842 |  NA |   NA | 2019 |  NA | EV | 5274 | N740EV | LGA | BNA |  NA |  764 | 18 | 42 | 2013-09-30 18:00:00 |\n\n",
            "text/latex": "A tibble: 248312 × 19\n\\begin{tabular}{lllllllllllllllllll}\n year & month & day & dep\\_time & sched\\_dep\\_time & dep\\_delay & arr\\_time & sched\\_arr\\_time & arr\\_delay & carrier & flight & tailnum & origin & dest & air\\_time & distance & hour & minute & time\\_hour\\\\\n <int> & <int> & <int> & <int> & <int> & <dbl> & <int> & <int> & <dbl> & <chr> & <int> & <chr> & <chr> & <chr> & <dbl> & <dbl> & <dbl> & <dbl> & <dttm>\\\\\n\\hline\n\t 2013 & 1 & 1 & 517 & 515 &  2 &  830 &  819 &  11 & UA & 1545 & N14228 & EWR & IAH & 227 & 1400 & 5 & 15 & 2013-01-01 05:00:00\\\\\n\t 2013 & 1 & 1 & 533 & 529 &  4 &  850 &  830 &  20 & UA & 1714 & N24211 & LGA & IAH & 227 & 1416 & 5 & 29 & 2013-01-01 05:00:00\\\\\n\t 2013 & 1 & 1 & 542 & 540 &  2 &  923 &  850 &  33 & AA & 1141 & N619AA & JFK & MIA & 160 & 1089 & 5 & 40 & 2013-01-01 05:00:00\\\\\n\t 2013 & 1 & 1 & 544 & 545 & -1 & 1004 & 1022 & -18 & B6 &  725 & N804JB & JFK & BQN & 183 & 1576 & 5 & 45 & 2013-01-01 05:00:00\\\\\n\t 2013 & 1 & 1 & 554 & 600 & -6 &  812 &  837 & -25 & DL &  461 & N668DN & LGA & ATL & 116 &  762 & 6 &  0 & 2013-01-01 06:00:00\\\\\n\t 2013 & 1 & 1 & 554 & 558 & -4 &  740 &  728 &  12 & UA & 1696 & N39463 & EWR & ORD & 150 &  719 & 5 & 58 & 2013-01-01 05:00:00\\\\\n\t 2013 & 1 & 1 & 555 & 600 & -5 &  913 &  854 &  19 & B6 &  507 & N516JB & EWR & FLL & 158 & 1065 & 6 &  0 & 2013-01-01 06:00:00\\\\\n\t 2013 & 1 & 1 & 557 & 600 & -3 &  709 &  723 & -14 & EV & 5708 & N829AS & LGA & IAD &  53 &  229 & 6 &  0 & 2013-01-01 06:00:00\\\\\n\t 2013 & 1 & 1 & 557 & 600 & -3 &  838 &  846 &  -8 & B6 &   79 & N593JB & JFK & MCO & 140 &  944 & 6 &  0 & 2013-01-01 06:00:00\\\\\n\t 2013 & 1 & 1 & 558 & 600 & -2 &  753 &  745 &   8 & AA &  301 & N3ALAA & LGA & ORD & 138 &  733 & 6 &  0 & 2013-01-01 06:00:00\\\\\n\t 2013 & 1 & 1 & 558 & 600 & -2 &  849 &  851 &  -2 & B6 &   49 & N793JB & JFK & PBI & 149 & 1028 & 6 &  0 & 2013-01-01 06:00:00\\\\\n\t 2013 & 1 & 1 & 558 & 600 & -2 &  853 &  856 &  -3 & B6 &   71 & N657JB & JFK & TPA & 158 & 1005 & 6 &  0 & 2013-01-01 06:00:00\\\\\n\t 2013 & 1 & 1 & 558 & 600 & -2 &  924 &  917 &   7 & UA &  194 & N29129 & JFK & LAX & 345 & 2475 & 6 &  0 & 2013-01-01 06:00:00\\\\\n\t 2013 & 1 & 1 & 558 & 600 & -2 &  923 &  937 & -14 & UA & 1124 & N53441 & EWR & SFO & 361 & 2565 & 6 &  0 & 2013-01-01 06:00:00\\\\\n\t 2013 & 1 & 1 & 559 & 600 & -1 &  941 &  910 &  31 & AA &  707 & N3DUAA & LGA & DFW & 257 & 1389 & 6 &  0 & 2013-01-01 06:00:00\\\\\n\t 2013 & 1 & 1 & 559 & 559 &  0 &  702 &  706 &  -4 & B6 & 1806 & N708JB & JFK & BOS &  44 &  187 & 5 & 59 & 2013-01-01 05:00:00\\\\\n\t 2013 & 1 & 1 & 559 & 600 & -1 &  854 &  902 &  -8 & UA & 1187 & N76515 & EWR & LAS & 337 & 2227 & 6 &  0 & 2013-01-01 06:00:00\\\\\n\t 2013 & 1 & 1 & 600 & 600 &  0 &  851 &  858 &  -7 & B6 &  371 & N595JB & LGA & FLL & 152 & 1076 & 6 &  0 & 2013-01-01 06:00:00\\\\\n\t 2013 & 1 & 1 & 601 & 600 &  1 &  844 &  850 &  -6 & B6 &  343 & N644JB & EWR & PBI & 147 & 1023 & 6 &  0 & 2013-01-01 06:00:00\\\\\n\t 2013 & 1 & 1 & 602 & 610 & -8 &  812 &  820 &  -8 & DL & 1919 & N971DL & LGA & MSP & 170 & 1020 & 6 & 10 & 2013-01-01 06:00:00\\\\\n\t 2013 & 1 & 1 & 606 & 610 & -4 &  858 &  910 & -12 & AA & 1895 & N633AA & EWR & MIA & 152 & 1085 & 6 & 10 & 2013-01-01 06:00:00\\\\\n\t 2013 & 1 & 1 & 606 & 610 & -4 &  837 &  845 &  -8 & DL & 1743 & N3739P & JFK & ATL & 128 &  760 & 6 & 10 & 2013-01-01 06:00:00\\\\\n\t 2013 & 1 & 1 & 607 & 607 &  0 &  858 &  915 & -17 & UA & 1077 & N53442 & EWR & MIA & 157 & 1085 & 6 &  7 & 2013-01-01 06:00:00\\\\\n\t 2013 & 1 & 1 & 611 & 600 & 11 &  945 &  931 &  14 & UA &  303 & N532UA & JFK & SFO & 366 & 2586 & 6 &  0 & 2013-01-01 06:00:00\\\\\n\t 2013 & 1 & 1 & 613 & 610 &  3 &  925 &  921 &   4 & B6 &  135 & N635JB & JFK & RSW & 175 & 1074 & 6 & 10 & 2013-01-01 06:00:00\\\\\n\t 2013 & 1 & 1 & 615 & 615 &  0 & 1039 & 1100 & -21 & B6 &  709 & N794JB & JFK & SJU & 182 & 1598 & 6 & 15 & 2013-01-01 06:00:00\\\\\n\t 2013 & 1 & 1 & 615 & 615 &  0 &  833 &  842 &  -9 & DL &  575 & N326NB & EWR & ATL & 120 &  746 & 6 & 15 & 2013-01-01 06:00:00\\\\\n\t 2013 & 1 & 1 & 623 & 610 & 13 &  920 &  915 &   5 & AA & 1837 & N3EMAA & LGA & MIA & 153 & 1096 & 6 & 10 & 2013-01-01 06:00:00\\\\\n\t 2013 & 1 & 1 & 623 & 627 & -4 &  933 &  932 &   1 & UA &  496 & N459UA & LGA & IAH & 229 & 1416 & 6 & 27 & 2013-01-01 06:00:00\\\\\n\t 2013 & 1 & 1 & 624 & 630 & -6 &  909 &  840 &  29 & EV & 4626 & N11107 & EWR & MSP & 190 & 1008 & 6 & 30 & 2013-01-01 06:00:00\\\\\n\t ⋮ & ⋮ & ⋮ & ⋮ & ⋮ & ⋮ & ⋮ & ⋮ & ⋮ & ⋮ & ⋮ & ⋮ & ⋮ & ⋮ & ⋮ & ⋮ & ⋮ & ⋮ & ⋮\\\\\n\t 2013 & 9 & 30 & 2105 & 2106 &  -1 & 2329 & 2354 & -25 & UA &  475 & N477UA & EWR & IAH & 175 & 1400 & 21 &  6 & 2013-09-30 21:00:00\\\\\n\t 2013 & 9 & 30 & 2110 & 2055 &  15 &   51 & 2359 &  52 & B6 & 1205 & N517JB & JFK & PDX & 361 & 2454 & 20 & 55 & 2013-09-30 20:00:00\\\\\n\t 2013 & 9 & 30 & 2114 & 2025 &  49 & 2304 & 2228 &  36 & EV & 4348 & N11184 & EWR & MSP & 145 & 1008 & 20 & 25 & 2013-09-30 20:00:00\\\\\n\t 2013 & 9 & 30 & 2116 & 2124 &  -8 & 2317 & 2337 & -20 & EV & 4682 & N14542 & EWR & SDF &  94 &  642 & 21 & 24 & 2013-09-30 21:00:00\\\\\n\t 2013 & 9 & 30 & 2119 & 2005 &  74 & 2310 & 2212 &  58 & EV & 4321 & N17984 & EWR & MCI & 147 & 1092 & 20 &  5 & 2013-09-30 20:00:00\\\\\n\t 2013 & 9 & 30 & 2119 & 2120 &  -1 & 2330 & 2354 & -24 & B6 & 1677 & N358JB & JFK & JAX & 113 &  828 & 21 & 20 & 2013-09-30 21:00:00\\\\\n\t 2013 & 9 & 30 & 2121 & 2100 &  21 & 2349 &   14 & -25 & DL & 2363 & N193DN & JFK & LAX & 296 & 2475 & 21 &  0 & 2013-09-30 21:00:00\\\\\n\t 2013 & 9 & 30 & 2122 & 2127 &  -5 & 2226 & 2237 & -11 & EV & 4372 & N14902 & EWR & DCA &  35 &  199 & 21 & 27 & 2013-09-30 21:00:00\\\\\n\t 2013 & 9 & 30 & 2123 & 2125 &  -2 & 2223 & 2247 & -24 & EV & 5489 & N712EV & LGA & CHO &  45 &  305 & 21 & 25 & 2013-09-30 21:00:00\\\\\n\t 2013 & 9 & 30 & 2127 & 2129 &  -2 & 2314 & 2323 &  -9 & EV & 3833 & N16546 & EWR & CLT &  72 &  529 & 21 & 29 & 2013-09-30 21:00:00\\\\\n\t 2013 & 9 & 30 & 2128 & 2130 &  -2 & 2328 & 2359 & -31 & B6 &   97 & N807JB & JFK & DEN & 213 & 1626 & 21 & 30 & 2013-09-30 21:00:00\\\\\n\t 2013 & 9 & 30 & 2129 & 2059 &  30 & 2230 & 2232 &  -2 & EV & 5048 & N751EV & LGA & RIC &  45 &  292 & 20 & 59 & 2013-09-30 20:00:00\\\\\n\t 2013 & 9 & 30 & 2140 & 2140 &   0 &   10 &   40 & -30 & AA &  185 & N335AA & JFK & LAX & 298 & 2475 & 21 & 40 & 2013-09-30 21:00:00\\\\\n\t 2013 & 9 & 30 & 2142 & 2129 &  13 & 2250 & 2239 &  11 & EV & 4509 & N12957 & EWR & PWM &  47 &  284 & 21 & 29 & 2013-09-30 21:00:00\\\\\n\t 2013 & 9 & 30 & 2145 & 2145 &   0 &  115 &  140 & -25 & B6 & 1103 & N633JB & JFK & SJU & 192 & 1598 & 21 & 45 & 2013-09-30 21:00:00\\\\\n\t 2013 & 9 & 30 & 2147 & 2137 &  10 &   30 &   27 &   3 & B6 & 1371 & N627JB & LGA & FLL & 139 & 1076 & 21 & 37 & 2013-09-30 21:00:00\\\\\n\t 2013 & 9 & 30 & 2149 & 2156 &  -7 & 2245 & 2308 & -23 & UA &  523 & N813UA & EWR & BOS &  37 &  200 & 21 & 56 & 2013-09-30 21:00:00\\\\\n\t 2013 & 9 & 30 & 2150 & 2159 &  -9 & 2250 & 2306 & -16 & EV & 3842 & N10575 & EWR & MHT &  39 &  209 & 21 & 59 & 2013-09-30 21:00:00\\\\\n\t 2013 & 9 & 30 & 2203 & 2205 &  -2 & 2339 & 2331 &   8 & EV & 5311 & N722EV & LGA & BGR &  61 &  378 & 22 &  5 & 2013-09-30 22:00:00\\\\\n\t 2013 & 9 & 30 & 2211 & 2059 &  72 & 2339 & 2242 &  57 & EV & 4672 & N12145 & EWR & STL & 120 &  872 & 20 & 59 & 2013-09-30 20:00:00\\\\\n\t 2013 & 9 & 30 & 2231 & 2245 & -14 & 2335 & 2356 & -21 & B6 &  108 & N193JB & JFK & PWM &  48 &  273 & 22 & 45 & 2013-09-30 22:00:00\\\\\n\t 2013 & 9 & 30 & 2233 & 2113 &  80 &  112 &   30 &  42 & UA &  471 & N578UA & EWR & SFO & 318 & 2565 & 21 & 13 & 2013-09-30 21:00:00\\\\\n\t 2013 & 9 & 30 & 2235 & 2001 & 154 &   59 & 2249 & 130 & B6 & 1083 & N804JB & JFK & MCO & 123 &  944 & 20 &  1 & 2013-09-30 20:00:00\\\\\n\t 2013 & 9 & 30 & 2237 & 2245 &  -8 & 2345 & 2353 &  -8 & B6 &  234 & N318JB & JFK & BTV &  43 &  266 & 22 & 45 & 2013-09-30 22:00:00\\\\\n\t 2013 & 9 & 30 & 2240 & 2245 &  -5 & 2334 & 2351 & -17 & B6 & 1816 & N354JB & JFK & SYR &  41 &  209 & 22 & 45 & 2013-09-30 22:00:00\\\\\n\t 2013 & 9 & 30 & 2240 & 2250 & -10 & 2347 &    7 & -20 & B6 & 2002 & N281JB & JFK & BUF &  52 &  301 & 22 & 50 & 2013-09-30 22:00:00\\\\\n\t 2013 & 9 & 30 & 2241 & 2246 &  -5 & 2345 &    1 & -16 & B6 &  486 & N346JB & JFK & ROC &  47 &  264 & 22 & 46 & 2013-09-30 22:00:00\\\\\n\t 2013 & 9 & 30 & 2307 & 2255 &  12 & 2359 & 2358 &   1 & B6 &  718 & N565JB & JFK & BOS &  33 &  187 & 22 & 55 & 2013-09-30 22:00:00\\\\\n\t 2013 & 9 & 30 & 2349 & 2359 & -10 &  325 &  350 & -25 & B6 &  745 & N516JB & JFK & PSE & 196 & 1617 & 23 & 59 & 2013-09-30 23:00:00\\\\\n\t 2013 & 9 & 30 &   NA & 1842 &  NA &   NA & 2019 &  NA & EV & 5274 & N740EV & LGA & BNA &  NA &  764 & 18 & 42 & 2013-09-30 18:00:00\\\\\n\\end{tabular}\n",
            "text/plain": [
              "       year month day dep_time sched_dep_time dep_delay arr_time sched_arr_time\n",
              "1      2013 1     1   517      515             2         830      819          \n",
              "2      2013 1     1   533      529             4         850      830          \n",
              "3      2013 1     1   542      540             2         923      850          \n",
              "4      2013 1     1   544      545            -1        1004     1022          \n",
              "5      2013 1     1   554      600            -6         812      837          \n",
              "6      2013 1     1   554      558            -4         740      728          \n",
              "7      2013 1     1   555      600            -5         913      854          \n",
              "8      2013 1     1   557      600            -3         709      723          \n",
              "9      2013 1     1   557      600            -3         838      846          \n",
              "10     2013 1     1   558      600            -2         753      745          \n",
              "11     2013 1     1   558      600            -2         849      851          \n",
              "12     2013 1     1   558      600            -2         853      856          \n",
              "13     2013 1     1   558      600            -2         924      917          \n",
              "14     2013 1     1   558      600            -2         923      937          \n",
              "15     2013 1     1   559      600            -1         941      910          \n",
              "16     2013 1     1   559      559             0         702      706          \n",
              "17     2013 1     1   559      600            -1         854      902          \n",
              "18     2013 1     1   600      600             0         851      858          \n",
              "19     2013 1     1   601      600             1         844      850          \n",
              "20     2013 1     1   602      610            -8         812      820          \n",
              "21     2013 1     1   606      610            -4         858      910          \n",
              "22     2013 1     1   606      610            -4         837      845          \n",
              "23     2013 1     1   607      607             0         858      915          \n",
              "24     2013 1     1   611      600            11         945      931          \n",
              "25     2013 1     1   613      610             3         925      921          \n",
              "26     2013 1     1   615      615             0        1039     1100          \n",
              "27     2013 1     1   615      615             0         833      842          \n",
              "28     2013 1     1   623      610            13         920      915          \n",
              "29     2013 1     1   623      627            -4         933      932          \n",
              "30     2013 1     1   624      630            -6         909      840          \n",
              "⋮      ⋮    ⋮     ⋮   ⋮        ⋮              ⋮         ⋮        ⋮             \n",
              "248283 2013 9     30  2105     2106            -1       2329     2354          \n",
              "248284 2013 9     30  2110     2055            15         51     2359          \n",
              "248285 2013 9     30  2114     2025            49       2304     2228          \n",
              "248286 2013 9     30  2116     2124            -8       2317     2337          \n",
              "248287 2013 9     30  2119     2005            74       2310     2212          \n",
              "248288 2013 9     30  2119     2120            -1       2330     2354          \n",
              "248289 2013 9     30  2121     2100            21       2349       14          \n",
              "248290 2013 9     30  2122     2127            -5       2226     2237          \n",
              "248291 2013 9     30  2123     2125            -2       2223     2247          \n",
              "248292 2013 9     30  2127     2129            -2       2314     2323          \n",
              "248293 2013 9     30  2128     2130            -2       2328     2359          \n",
              "248294 2013 9     30  2129     2059            30       2230     2232          \n",
              "248295 2013 9     30  2140     2140             0         10       40          \n",
              "248296 2013 9     30  2142     2129            13       2250     2239          \n",
              "248297 2013 9     30  2145     2145             0        115      140          \n",
              "248298 2013 9     30  2147     2137            10         30       27          \n",
              "248299 2013 9     30  2149     2156            -7       2245     2308          \n",
              "248300 2013 9     30  2150     2159            -9       2250     2306          \n",
              "248301 2013 9     30  2203     2205            -2       2339     2331          \n",
              "248302 2013 9     30  2211     2059            72       2339     2242          \n",
              "248303 2013 9     30  2231     2245           -14       2335     2356          \n",
              "248304 2013 9     30  2233     2113            80        112       30          \n",
              "248305 2013 9     30  2235     2001           154         59     2249          \n",
              "248306 2013 9     30  2237     2245            -8       2345     2353          \n",
              "248307 2013 9     30  2240     2245            -5       2334     2351          \n",
              "248308 2013 9     30  2240     2250           -10       2347        7          \n",
              "248309 2013 9     30  2241     2246            -5       2345        1          \n",
              "248310 2013 9     30  2307     2255            12       2359     2358          \n",
              "248311 2013 9     30  2349     2359           -10        325      350          \n",
              "248312 2013 9     30    NA     1842            NA         NA     2019          \n",
              "       arr_delay carrier flight tailnum origin dest air_time distance hour\n",
              "1       11       UA      1545   N14228  EWR    IAH  227      1400     5   \n",
              "2       20       UA      1714   N24211  LGA    IAH  227      1416     5   \n",
              "3       33       AA      1141   N619AA  JFK    MIA  160      1089     5   \n",
              "4      -18       B6       725   N804JB  JFK    BQN  183      1576     5   \n",
              "5      -25       DL       461   N668DN  LGA    ATL  116       762     6   \n",
              "6       12       UA      1696   N39463  EWR    ORD  150       719     5   \n",
              "7       19       B6       507   N516JB  EWR    FLL  158      1065     6   \n",
              "8      -14       EV      5708   N829AS  LGA    IAD   53       229     6   \n",
              "9       -8       B6        79   N593JB  JFK    MCO  140       944     6   \n",
              "10       8       AA       301   N3ALAA  LGA    ORD  138       733     6   \n",
              "11      -2       B6        49   N793JB  JFK    PBI  149      1028     6   \n",
              "12      -3       B6        71   N657JB  JFK    TPA  158      1005     6   \n",
              "13       7       UA       194   N29129  JFK    LAX  345      2475     6   \n",
              "14     -14       UA      1124   N53441  EWR    SFO  361      2565     6   \n",
              "15      31       AA       707   N3DUAA  LGA    DFW  257      1389     6   \n",
              "16      -4       B6      1806   N708JB  JFK    BOS   44       187     5   \n",
              "17      -8       UA      1187   N76515  EWR    LAS  337      2227     6   \n",
              "18      -7       B6       371   N595JB  LGA    FLL  152      1076     6   \n",
              "19      -6       B6       343   N644JB  EWR    PBI  147      1023     6   \n",
              "20      -8       DL      1919   N971DL  LGA    MSP  170      1020     6   \n",
              "21     -12       AA      1895   N633AA  EWR    MIA  152      1085     6   \n",
              "22      -8       DL      1743   N3739P  JFK    ATL  128       760     6   \n",
              "23     -17       UA      1077   N53442  EWR    MIA  157      1085     6   \n",
              "24      14       UA       303   N532UA  JFK    SFO  366      2586     6   \n",
              "25       4       B6       135   N635JB  JFK    RSW  175      1074     6   \n",
              "26     -21       B6       709   N794JB  JFK    SJU  182      1598     6   \n",
              "27      -9       DL       575   N326NB  EWR    ATL  120       746     6   \n",
              "28       5       AA      1837   N3EMAA  LGA    MIA  153      1096     6   \n",
              "29       1       UA       496   N459UA  LGA    IAH  229      1416     6   \n",
              "30      29       EV      4626   N11107  EWR    MSP  190      1008     6   \n",
              "⋮      ⋮         ⋮       ⋮      ⋮       ⋮      ⋮    ⋮        ⋮        ⋮   \n",
              "248283 -25       UA       475   N477UA  EWR    IAH  175      1400     21  \n",
              "248284  52       B6      1205   N517JB  JFK    PDX  361      2454     20  \n",
              "248285  36       EV      4348   N11184  EWR    MSP  145      1008     20  \n",
              "248286 -20       EV      4682   N14542  EWR    SDF   94       642     21  \n",
              "248287  58       EV      4321   N17984  EWR    MCI  147      1092     20  \n",
              "248288 -24       B6      1677   N358JB  JFK    JAX  113       828     21  \n",
              "248289 -25       DL      2363   N193DN  JFK    LAX  296      2475     21  \n",
              "248290 -11       EV      4372   N14902  EWR    DCA   35       199     21  \n",
              "248291 -24       EV      5489   N712EV  LGA    CHO   45       305     21  \n",
              "248292  -9       EV      3833   N16546  EWR    CLT   72       529     21  \n",
              "248293 -31       B6        97   N807JB  JFK    DEN  213      1626     21  \n",
              "248294  -2       EV      5048   N751EV  LGA    RIC   45       292     20  \n",
              "248295 -30       AA       185   N335AA  JFK    LAX  298      2475     21  \n",
              "248296  11       EV      4509   N12957  EWR    PWM   47       284     21  \n",
              "248297 -25       B6      1103   N633JB  JFK    SJU  192      1598     21  \n",
              "248298   3       B6      1371   N627JB  LGA    FLL  139      1076     21  \n",
              "248299 -23       UA       523   N813UA  EWR    BOS   37       200     21  \n",
              "248300 -16       EV      3842   N10575  EWR    MHT   39       209     21  \n",
              "248301   8       EV      5311   N722EV  LGA    BGR   61       378     22  \n",
              "248302  57       EV      4672   N12145  EWR    STL  120       872     20  \n",
              "248303 -21       B6       108   N193JB  JFK    PWM   48       273     22  \n",
              "248304  42       UA       471   N578UA  EWR    SFO  318      2565     21  \n",
              "248305 130       B6      1083   N804JB  JFK    MCO  123       944     20  \n",
              "248306  -8       B6       234   N318JB  JFK    BTV   43       266     22  \n",
              "248307 -17       B6      1816   N354JB  JFK    SYR   41       209     22  \n",
              "248308 -20       B6      2002   N281JB  JFK    BUF   52       301     22  \n",
              "248309 -16       B6       486   N346JB  JFK    ROC   47       264     22  \n",
              "248310   1       B6       718   N565JB  JFK    BOS   33       187     22  \n",
              "248311 -25       B6       745   N516JB  JFK    PSE  196      1617     23  \n",
              "248312  NA       EV      5274   N740EV  LGA    BNA   NA       764     18  \n",
              "       minute time_hour          \n",
              "1      15     2013-01-01 05:00:00\n",
              "2      29     2013-01-01 05:00:00\n",
              "3      40     2013-01-01 05:00:00\n",
              "4      45     2013-01-01 05:00:00\n",
              "5       0     2013-01-01 06:00:00\n",
              "6      58     2013-01-01 05:00:00\n",
              "7       0     2013-01-01 06:00:00\n",
              "8       0     2013-01-01 06:00:00\n",
              "9       0     2013-01-01 06:00:00\n",
              "10      0     2013-01-01 06:00:00\n",
              "11      0     2013-01-01 06:00:00\n",
              "12      0     2013-01-01 06:00:00\n",
              "13      0     2013-01-01 06:00:00\n",
              "14      0     2013-01-01 06:00:00\n",
              "15      0     2013-01-01 06:00:00\n",
              "16     59     2013-01-01 05:00:00\n",
              "17      0     2013-01-01 06:00:00\n",
              "18      0     2013-01-01 06:00:00\n",
              "19      0     2013-01-01 06:00:00\n",
              "20     10     2013-01-01 06:00:00\n",
              "21     10     2013-01-01 06:00:00\n",
              "22     10     2013-01-01 06:00:00\n",
              "23      7     2013-01-01 06:00:00\n",
              "24      0     2013-01-01 06:00:00\n",
              "25     10     2013-01-01 06:00:00\n",
              "26     15     2013-01-01 06:00:00\n",
              "27     15     2013-01-01 06:00:00\n",
              "28     10     2013-01-01 06:00:00\n",
              "29     27     2013-01-01 06:00:00\n",
              "30     30     2013-01-01 06:00:00\n",
              "⋮      ⋮      ⋮                  \n",
              "248283  6     2013-09-30 21:00:00\n",
              "248284 55     2013-09-30 20:00:00\n",
              "248285 25     2013-09-30 20:00:00\n",
              "248286 24     2013-09-30 21:00:00\n",
              "248287  5     2013-09-30 20:00:00\n",
              "248288 20     2013-09-30 21:00:00\n",
              "248289  0     2013-09-30 21:00:00\n",
              "248290 27     2013-09-30 21:00:00\n",
              "248291 25     2013-09-30 21:00:00\n",
              "248292 29     2013-09-30 21:00:00\n",
              "248293 30     2013-09-30 21:00:00\n",
              "248294 59     2013-09-30 20:00:00\n",
              "248295 40     2013-09-30 21:00:00\n",
              "248296 29     2013-09-30 21:00:00\n",
              "248297 45     2013-09-30 21:00:00\n",
              "248298 37     2013-09-30 21:00:00\n",
              "248299 56     2013-09-30 21:00:00\n",
              "248300 59     2013-09-30 21:00:00\n",
              "248301  5     2013-09-30 22:00:00\n",
              "248302 59     2013-09-30 20:00:00\n",
              "248303 45     2013-09-30 22:00:00\n",
              "248304 13     2013-09-30 21:00:00\n",
              "248305  1     2013-09-30 20:00:00\n",
              "248306 45     2013-09-30 22:00:00\n",
              "248307 45     2013-09-30 22:00:00\n",
              "248308 50     2013-09-30 22:00:00\n",
              "248309 46     2013-09-30 22:00:00\n",
              "248310 55     2013-09-30 22:00:00\n",
              "248311 59     2013-09-30 23:00:00\n",
              "248312 42     2013-09-30 18:00:00"
            ]
          },
          "metadata": {}
        }
      ],
      "source": [
        "top5 = count(flights, carrier) %>% top_n(5) %>% print\n",
        "#top5$carrier\n",
        "#flights_top5 = filter(flights, carrier %in% top5$carrier) %>% print\n",
        "semi_join(flights,top5)"
      ]
    },
    {
      "cell_type": "markdown",
      "metadata": {
        "id": "sGA26atulCby"
      },
      "source": [
        "What if we wanted to filter based on more than one variable? For example, based on busiest days of the year:"
      ]
    },
    {
      "cell_type": "code",
      "execution_count": 22,
      "metadata": {
        "id": "s90be_B0lCby",
        "outputId": "62d1dd64-91f6-47e9-e6c7-9631b2c801fe",
        "colab": {
          "base_uri": "https://localhost:8080/"
        }
      },
      "outputs": [
        {
          "output_type": "stream",
          "name": "stderr",
          "text": [
            "\u001b[1m\u001b[22mSelecting by n\n"
          ]
        },
        {
          "output_type": "stream",
          "name": "stdout",
          "text": [
            "\u001b[90m# A tibble: 7 × 4\u001b[39m\n",
            "   year month   day     n\n",
            "  \u001b[3m\u001b[90m<int>\u001b[39m\u001b[23m \u001b[3m\u001b[90m<int>\u001b[39m\u001b[23m \u001b[3m\u001b[90m<int>\u001b[39m\u001b[23m \u001b[3m\u001b[90m<int>\u001b[39m\u001b[23m\n",
            "\u001b[90m1\u001b[39m  \u001b[4m2\u001b[24m013     7    18  \u001b[4m1\u001b[24m003\n",
            "\u001b[90m2\u001b[39m  \u001b[4m2\u001b[24m013     7    25  \u001b[4m1\u001b[24m003\n",
            "\u001b[90m3\u001b[39m  \u001b[4m2\u001b[24m013     7     8  \u001b[4m1\u001b[24m004\n",
            "\u001b[90m4\u001b[39m  \u001b[4m2\u001b[24m013     7    10  \u001b[4m1\u001b[24m004\n",
            "\u001b[90m5\u001b[39m  \u001b[4m2\u001b[24m013    12     2  \u001b[4m1\u001b[24m004\n",
            "\u001b[90m6\u001b[39m  \u001b[4m2\u001b[24m013     7    11  \u001b[4m1\u001b[24m006\n",
            "\u001b[90m7\u001b[39m  \u001b[4m2\u001b[24m013    11    27  \u001b[4m1\u001b[24m014\n"
          ]
        }
      ],
      "source": [
        "top6_days = count(flights, year, month, day) %>% top_n(6) %>% \n",
        "    arrange(n) %>% print"
      ]
    },
    {
      "cell_type": "code",
      "execution_count": null,
      "metadata": {
        "id": "xuw8L73alCby"
      },
      "outputs": [],
      "source": [
        "# manual filter join"
      ]
    },
    {
      "cell_type": "markdown",
      "metadata": {
        "id": "FLbku0nclCby"
      },
      "source": [
        "### Semi-join\n",
        "`semi_join(x, y)` keeps all the observations in `x` that are also in `y`.\n",
        "![semi join](http://r4ds.had.co.nz/diagrams/join-semi.png)"
      ]
    },
    {
      "cell_type": "markdown",
      "metadata": {
        "id": "bGRgVfHwlCby"
      },
      "source": [
        "`semi_join()` takes the same `key=` options as the other join commands."
      ]
    },
    {
      "cell_type": "code",
      "execution_count": null,
      "metadata": {
        "id": "9icxoabGlCby"
      },
      "outputs": [],
      "source": [
        "# All flights in 6 busiest days of year:\n",
        "semi_join(flights, top6_days, key = c(\"year\", \"month\", \"day\")) %>% print"
      ]
    },
    {
      "cell_type": "markdown",
      "metadata": {
        "id": "ouRo3KFklCby"
      },
      "source": [
        "### Exercise\n",
        "Of the 336,776 flights in `flights`, what % of them departed on one of the 20 busiest days of the year?"
      ]
    },
    {
      "cell_type": "code",
      "execution_count": null,
      "metadata": {
        "id": "WkE8jhQTlCby"
      },
      "outputs": [],
      "source": [
        "# flights departing in the 20 top busiest days"
      ]
    },
    {
      "cell_type": "markdown",
      "metadata": {
        "id": "NcMO_PtAlCby"
      },
      "source": [
        "### Anti-join\n",
        "The opposite of a semi-join is an anti-join:\n",
        "![anti-join](http://r4ds.had.co.nz/diagrams/join-anti.png)"
      ]
    },
    {
      "cell_type": "markdown",
      "metadata": {
        "id": "P4TyKSVelCby"
      },
      "source": [
        "## Filtering joins\n",
        "\n",
        "Filtering joins allow us to filter rows on one table based on their presence or absence in another table. We've already seen some examples of this on the problem sets:"
      ]
    },
    {
      "cell_type": "code",
      "execution_count": null,
      "metadata": {
        "id": "IGtPwMHhlCby",
        "outputId": "297d0353-315d-4e82-f22e-b6ac427bb478"
      },
      "outputs": [
        {
          "name": "stderr",
          "output_type": "stream",
          "text": [
            "\u001b[1m\u001b[22mSelecting by n\n"
          ]
        },
        {
          "data": {
            "text/html": [
              "94326"
            ],
            "text/latex": [
              "94326"
            ],
            "text/markdown": [
              "94326"
            ],
            "text/plain": [
              "[1] 94326"
            ]
          },
          "metadata": {},
          "output_type": "display_data"
        }
      ],
      "source": [
        "dest_top6 <- count(flights, dest) %>% top_n(6)\n",
        "filter(flights, dest %in% dest_top6$dest) %>% nrow"
      ]
    },
    {
      "cell_type": "markdown",
      "metadata": {
        "id": "X9Tm8MhHlCby"
      },
      "source": [
        "### Semi-join\n",
        "`semi_join(x, y)` keeps all the observations in `x` that are also in `y`.\n",
        "![semi join](http://r4ds.had.co.nz/diagrams/join-semi.png)"
      ]
    },
    {
      "cell_type": "code",
      "execution_count": null,
      "metadata": {
        "id": "A7JNx4r1lCby"
      },
      "outputs": [],
      "source": [
        "# find all the flight with destinations in the top 6"
      ]
    },
    {
      "cell_type": "markdown",
      "metadata": {
        "id": "KSn_xCrllCby"
      },
      "source": [
        "## 🤔 Quiz\n",
        "The top ten most popular days to fly were:\n",
        "\n",
        "```count(flights, year, month, day) %>% top_n(10)```\n",
        "\n",
        "What is the overall fraction of flights that left on these ten days?\n",
        "\n",
        "<ol style=\"list-style-type: upper-alpha;\">\n",
        "    <li>0.024</li>\n",
        "    <li>0.042</li>\n",
        "    <li>1.000</li>\n",
        "    <li>0.001</li>\n",
        "    <li>0.039</li>\n",
        "</ol>"
      ]
    },
    {
      "cell_type": "markdown",
      "metadata": {
        "id": "pKBOoM_GlCby"
      },
      "source": [
        "### Anti-join\n",
        "`anti_join(x, y)` does the opposite of `semi_join`: it *drops* all the observations in `x` that are also in `y`.\n",
        "![anti join](https://r4ds.hadley.nz/diagrams/join/anti.png)"
      ]
    },
    {
      "cell_type": "markdown",
      "metadata": {
        "id": "JxxH6ZJJlCbz"
      },
      "source": [
        "Anti-joins are useful for finding mismatches in joins. Last lecture we saw that some 50k entries in `flights` have `tailnum`s that do not exist in the `planes` table. To find out more about these flights we could use an anti-join to select only those rows:"
      ]
    },
    {
      "cell_type": "code",
      "execution_count": null,
      "metadata": {
        "id": "MXlEGXWdlCbz",
        "outputId": "8b66ce99-0025-45e5-aca1-a95f581389d6"
      },
      "outputs": [
        {
          "name": "stdout",
          "output_type": "stream",
          "text": [
            "# A tibble: 50,094 x 19\n",
            "    year month   day dep_time sched_dep_time dep_delay arr_time sched_arr_time\n",
            "   <int> <int> <int>    <int>          <int>     <dbl>    <int>          <int>\n",
            " 1  2013     1     1      558            600        -2      753            745\n",
            " 2  2013     1     1      559            600        -1      941            910\n",
            " 3  2013     1     1      600            600         0      837            825\n",
            " 4  2013     1     1      602            605        -3      821            805\n",
            " 5  2013     1     1      608            600         8      807            735\n",
            " 6  2013     1     1      611            600        11      945            931\n",
            " 7  2013     1     1      623            610        13      920            915\n",
            " 8  2013     1     1      624            630        -6      840            830\n",
            " 9  2013     1     1      628            630        -2     1137           1140\n",
            "10  2013     1     1      629            630        -1      824            810\n",
            "# … with 50,084 more rows, and 11 more variables: arr_delay <dbl>,\n",
            "#   carrier <chr>, flight <int>, tailnum <chr>, origin <chr>, dest <chr>,\n",
            "#   air_time <dbl>, distance <dbl>, hour <dbl>, minute <dbl>, time_hour <dttm>\n"
          ]
        }
      ],
      "source": [
        "missing_planes = anti_join(flights, planes, by=\"tailnum\") %>% \n",
        "                 filter(!is.na(tailnum)) %>% print"
      ]
    },
    {
      "cell_type": "markdown",
      "metadata": {
        "id": "wlV_xoXqlCbz"
      },
      "source": [
        "Do we see any pattern in this table that could explain the missing tail numbers?"
      ]
    },
    {
      "cell_type": "code",
      "execution_count": null,
      "metadata": {
        "id": "aPdxkzotlCbz",
        "outputId": "fab432a5-f964-406d-dbae-43f9b9577202"
      },
      "outputs": [
        {
          "name": "stdout",
          "output_type": "stream",
          "text": [
            "# A tibble: 100 x 19\n",
            "    year month   day dep_time sched_dep_time dep_delay arr_time sched_arr_time\n",
            "   <int> <int> <int>    <int>          <int>     <dbl>    <int>          <int>\n",
            " 1  2013    12     7     1551           1515        36     1723           1705\n",
            " 2  2013     2    16      915            920        -5     1207           1245\n",
            " 3  2013     4    29      858            900        -2     1143           1203\n",
            " 4  2013     8    27     1932           1930         2     2238           2250\n",
            " 5  2013    11    13     1504           1510        -6     2019           2020\n",
            " 6  2013     8    24      943            950        -7     1201           1205\n",
            " 7  2013     9    10     1421           1425        -4     1629           1650\n",
            " 8  2013     5    31      733            740        -7     1025           1040\n",
            " 9  2013     5    19     1846           1800        46     1959           1950\n",
            "10  2013     1    23     1041           1050        -9     1229           1250\n",
            "   arr_delay carrier flight tailnum origin dest  air_time distance  hour minute\n",
            "       <dbl> <chr>    <int> <chr>   <chr>  <chr>    <dbl>    <dbl> <dbl>  <dbl>\n",
            " 1        18 MQ        3231 N639MQ  JFK    PIT         74      340    15     15\n",
            " 2       -38 AA         721 N539AA  LGA    DFW        199     1389     9     20\n",
            " 3       -20 UA        1665 N76153  EWR    LAX        317     2454     9      0\n",
            " 4       -12 AA         269 N3AHAA  JFK    SEA        322     2422    19     30\n",
            " 5        -1 AA          95 N5FMAA  JFK    SJU        198     1598    15     10\n",
            " 6        -4 MQ        3644 N537MQ  LGA    ATL        102      762     9     50\n",
            " 7       -21 MQ        3669 N534MQ  LGA    ATL        104      762    14     25\n",
            " 8       -15 AA         715 N504AA  LGA    DFW        201     1389     7     40\n",
            " 9         9 AA         353 N483AA  LGA    ORD        109      733    18      0\n",
            "10       -21 MQ        4589 N3AEMQ  LGA    DTW         88      502    10     50\n",
            "   time_hour          \n",
            "   <dttm>             \n",
            " 1 2013-12-07 15:00:00\n",
            " 2 2013-02-16 09:00:00\n",
            " 3 2013-04-29 09:00:00\n",
            " 4 2013-08-27 19:00:00\n",
            " 5 2013-11-13 15:00:00\n",
            " 6 2013-08-24 09:00:00\n",
            " 7 2013-09-10 14:00:00\n",
            " 8 2013-05-31 07:00:00\n",
            " 9 2013-05-19 18:00:00\n",
            "10 2013-01-23 10:00:00\n",
            "# … with 90 more rows\n"
          ]
        }
      ],
      "source": [
        "missing_planes %>% sample_n(100) %>% print(width = Inf)"
      ]
    },
    {
      "cell_type": "markdown",
      "metadata": {
        "id": "Kn3gGlZJlCbz"
      },
      "source": [
        "Interestingly, the top 5 most frequent `tailnum`s in the overall data are almost the same:"
      ]
    },
    {
      "cell_type": "code",
      "execution_count": null,
      "metadata": {
        "scrolled": true,
        "id": "veVFZmOtlCbz",
        "outputId": "0a47d361-3bab-4172-9419-f0802ef86a4b"
      },
      "outputs": [
        {
          "name": "stderr",
          "output_type": "stream",
          "text": [
            "Selecting by n\n"
          ]
        },
        {
          "data": {
            "text/plain": [
              "  tailnum model  n  \n",
              "1 N711MQ  G1159B 486\n",
              "2 N713MQ  NA     483\n",
              "3 N722MQ  NA     513\n",
              "4 N723MQ  NA     507\n",
              "5 N725MQ  NA     575"
            ]
          },
          "metadata": {},
          "output_type": "display_data"
        }
      ],
      "source": [
        "flights %>% drop_na(tailnum) %>% left_join(planes, by = \"tailnum\") %>% \n",
        "    count(tailnum, model) %>% top_n(5)"
      ]
    },
    {
      "cell_type": "code",
      "execution_count": null,
      "metadata": {
        "id": "ofu3Hd-qlCbz",
        "outputId": "2cf51cb2-ffa9-4560-8fe9-4f9482f1829e"
      },
      "outputs": [
        {
          "data": {
            "text/plain": [
              "  tailnum year type                    manufacturer         model  engines\n",
              "1 N711MQ  1976 Fixed wing multi engine GULFSTREAM AEROSPACE G1159B 2      \n",
              "  seats speed engine   \n",
              "1 22    NA    Turbo-jet"
            ]
          },
          "metadata": {},
          "output_type": "display_data"
        }
      ],
      "source": [
        "planes %>% filter(tailnum == \"N711MQ\")"
      ]
    },
    {
      "cell_type": "markdown",
      "metadata": {
        "id": "20R2nCqdlCbz"
      },
      "source": [
        "The one plane that is represented is N711M. You can [look it up](https://flightaware.com/resources/registration/N711MQ) in an online database and find out it's a private jet. My guess is the others are private jets too."
      ]
    },
    {
      "cell_type": "markdown",
      "metadata": {
        "id": "8X4sAS4QlCbz"
      },
      "source": [
        "<td>How many planes flew to destinations which are <i>not</i> found in the <code>airports</code> table?</td>"
      ]
    },
    {
      "cell_type": "markdown",
      "metadata": {
        "id": "_4MO-qfvlCbz"
      },
      "source": [
        "# SQL\n",
        "\n",
        "SQL stands for \"Structured Query Language\". Many large databases are stored in SQL format, and you will probably encounter one if you work on big data and/or at a large company. "
      ]
    },
    {
      "cell_type": "code",
      "execution_count": 25,
      "metadata": {
        "id": "qK8cyBNNlCbz"
      },
      "outputs": [],
      "source": [
        "# SQLite database\n",
        "library(nycflights13)\n",
        "library(DBI)\n",
        "library(RSQLite)\n",
        "con <- dbConnect(SQLite(), \":memory:\")\n",
        "copy_to(con, flights, \"flights\")\n",
        "copy_to(con, airports, \"airports\")\n",
        "copy_to(con, airlines, \"airlines\")\n",
        "copy_to(con, weather, \"weather\")\n",
        "q <- function(...) dbGetQuery(con, ...) %>% as_tibble"
      ]
    },
    {
      "cell_type": "markdown",
      "metadata": {
        "id": "UWjbzBkhlCbz"
      },
      "source": [
        "### Selecting data from a table\n",
        "The SQL syntax for selecting column(s) from a table is\n",
        "```{sql}\n",
        "SELECT <col1>, <col2>, ..., <coln> FROM <table>\n",
        "```\n",
        "Note the similarity to the corresponding `tidyverse` command:\n",
        "```{r}\n",
        "select(<table>, <col1>, <col2>, ..., <coln>)\n",
        "```"
      ]
    },
    {
      "cell_type": "code",
      "execution_count": null,
      "metadata": {
        "id": "fqLXO-THlCbz"
      },
      "outputs": [],
      "source": [
        "# select one column\n"
      ]
    },
    {
      "cell_type": "markdown",
      "metadata": {
        "id": "R4W4PyAslCbz"
      },
      "source": [
        "The special keyword `*` means \"select everything\" and is equivalent to `dplyr`'s `everything()`:"
      ]
    },
    {
      "cell_type": "code",
      "execution_count": 41,
      "metadata": {
        "id": "avxz5rMZlCbz",
        "outputId": "cf246ff5-fce4-461a-c2dd-dcfea803c3ea",
        "colab": {
          "base_uri": "https://localhost:8080/",
          "height": 1000
        }
      },
      "outputs": [
        {
          "output_type": "display_data",
          "data": {
            "text/html": [
              "<table class=\"dataframe\">\n",
              "<caption>A tibble: 336776 × 19</caption>\n",
              "<thead>\n",
              "\t<tr><th scope=col>year</th><th scope=col>month</th><th scope=col>day</th><th scope=col>dep_time</th><th scope=col>sched_dep_time</th><th scope=col>dep_delay</th><th scope=col>arr_time</th><th scope=col>sched_arr_time</th><th scope=col>arr_delay</th><th scope=col>carrier</th><th scope=col>flight</th><th scope=col>tailnum</th><th scope=col>origin</th><th scope=col>dest</th><th scope=col>air_time</th><th scope=col>distance</th><th scope=col>hour</th><th scope=col>minute</th><th scope=col>time_hour</th></tr>\n",
              "\t<tr><th scope=col>&lt;int&gt;</th><th scope=col>&lt;int&gt;</th><th scope=col>&lt;int&gt;</th><th scope=col>&lt;int&gt;</th><th scope=col>&lt;int&gt;</th><th scope=col>&lt;dbl&gt;</th><th scope=col>&lt;int&gt;</th><th scope=col>&lt;int&gt;</th><th scope=col>&lt;dbl&gt;</th><th scope=col>&lt;chr&gt;</th><th scope=col>&lt;int&gt;</th><th scope=col>&lt;chr&gt;</th><th scope=col>&lt;chr&gt;</th><th scope=col>&lt;chr&gt;</th><th scope=col>&lt;dbl&gt;</th><th scope=col>&lt;dbl&gt;</th><th scope=col>&lt;dbl&gt;</th><th scope=col>&lt;dbl&gt;</th><th scope=col>&lt;dbl&gt;</th></tr>\n",
              "</thead>\n",
              "<tbody>\n",
              "\t<tr><td>2013</td><td>1</td><td>1</td><td>517</td><td>515</td><td> 2</td><td> 830</td><td> 819</td><td> 11</td><td>UA</td><td>1545</td><td>N14228</td><td>EWR</td><td>IAH</td><td>227</td><td>1400</td><td>5</td><td>15</td><td>1357034400</td></tr>\n",
              "\t<tr><td>2013</td><td>1</td><td>1</td><td>533</td><td>529</td><td> 4</td><td> 850</td><td> 830</td><td> 20</td><td>UA</td><td>1714</td><td>N24211</td><td>LGA</td><td>IAH</td><td>227</td><td>1416</td><td>5</td><td>29</td><td>1357034400</td></tr>\n",
              "\t<tr><td>2013</td><td>1</td><td>1</td><td>542</td><td>540</td><td> 2</td><td> 923</td><td> 850</td><td> 33</td><td>AA</td><td>1141</td><td>N619AA</td><td>JFK</td><td>MIA</td><td>160</td><td>1089</td><td>5</td><td>40</td><td>1357034400</td></tr>\n",
              "\t<tr><td>2013</td><td>1</td><td>1</td><td>544</td><td>545</td><td>-1</td><td>1004</td><td>1022</td><td>-18</td><td>B6</td><td> 725</td><td>N804JB</td><td>JFK</td><td>BQN</td><td>183</td><td>1576</td><td>5</td><td>45</td><td>1357034400</td></tr>\n",
              "\t<tr><td>2013</td><td>1</td><td>1</td><td>554</td><td>600</td><td>-6</td><td> 812</td><td> 837</td><td>-25</td><td>DL</td><td> 461</td><td>N668DN</td><td>LGA</td><td>ATL</td><td>116</td><td> 762</td><td>6</td><td> 0</td><td>1357038000</td></tr>\n",
              "\t<tr><td>2013</td><td>1</td><td>1</td><td>554</td><td>558</td><td>-4</td><td> 740</td><td> 728</td><td> 12</td><td>UA</td><td>1696</td><td>N39463</td><td>EWR</td><td>ORD</td><td>150</td><td> 719</td><td>5</td><td>58</td><td>1357034400</td></tr>\n",
              "\t<tr><td>2013</td><td>1</td><td>1</td><td>555</td><td>600</td><td>-5</td><td> 913</td><td> 854</td><td> 19</td><td>B6</td><td> 507</td><td>N516JB</td><td>EWR</td><td>FLL</td><td>158</td><td>1065</td><td>6</td><td> 0</td><td>1357038000</td></tr>\n",
              "\t<tr><td>2013</td><td>1</td><td>1</td><td>557</td><td>600</td><td>-3</td><td> 709</td><td> 723</td><td>-14</td><td>EV</td><td>5708</td><td>N829AS</td><td>LGA</td><td>IAD</td><td> 53</td><td> 229</td><td>6</td><td> 0</td><td>1357038000</td></tr>\n",
              "\t<tr><td>2013</td><td>1</td><td>1</td><td>557</td><td>600</td><td>-3</td><td> 838</td><td> 846</td><td> -8</td><td>B6</td><td>  79</td><td>N593JB</td><td>JFK</td><td>MCO</td><td>140</td><td> 944</td><td>6</td><td> 0</td><td>1357038000</td></tr>\n",
              "\t<tr><td>2013</td><td>1</td><td>1</td><td>558</td><td>600</td><td>-2</td><td> 753</td><td> 745</td><td>  8</td><td>AA</td><td> 301</td><td>N3ALAA</td><td>LGA</td><td>ORD</td><td>138</td><td> 733</td><td>6</td><td> 0</td><td>1357038000</td></tr>\n",
              "\t<tr><td>2013</td><td>1</td><td>1</td><td>558</td><td>600</td><td>-2</td><td> 849</td><td> 851</td><td> -2</td><td>B6</td><td>  49</td><td>N793JB</td><td>JFK</td><td>PBI</td><td>149</td><td>1028</td><td>6</td><td> 0</td><td>1357038000</td></tr>\n",
              "\t<tr><td>2013</td><td>1</td><td>1</td><td>558</td><td>600</td><td>-2</td><td> 853</td><td> 856</td><td> -3</td><td>B6</td><td>  71</td><td>N657JB</td><td>JFK</td><td>TPA</td><td>158</td><td>1005</td><td>6</td><td> 0</td><td>1357038000</td></tr>\n",
              "\t<tr><td>2013</td><td>1</td><td>1</td><td>558</td><td>600</td><td>-2</td><td> 924</td><td> 917</td><td>  7</td><td>UA</td><td> 194</td><td>N29129</td><td>JFK</td><td>LAX</td><td>345</td><td>2475</td><td>6</td><td> 0</td><td>1357038000</td></tr>\n",
              "\t<tr><td>2013</td><td>1</td><td>1</td><td>558</td><td>600</td><td>-2</td><td> 923</td><td> 937</td><td>-14</td><td>UA</td><td>1124</td><td>N53441</td><td>EWR</td><td>SFO</td><td>361</td><td>2565</td><td>6</td><td> 0</td><td>1357038000</td></tr>\n",
              "\t<tr><td>2013</td><td>1</td><td>1</td><td>559</td><td>600</td><td>-1</td><td> 941</td><td> 910</td><td> 31</td><td>AA</td><td> 707</td><td>N3DUAA</td><td>LGA</td><td>DFW</td><td>257</td><td>1389</td><td>6</td><td> 0</td><td>1357038000</td></tr>\n",
              "\t<tr><td>2013</td><td>1</td><td>1</td><td>559</td><td>559</td><td> 0</td><td> 702</td><td> 706</td><td> -4</td><td>B6</td><td>1806</td><td>N708JB</td><td>JFK</td><td>BOS</td><td> 44</td><td> 187</td><td>5</td><td>59</td><td>1357034400</td></tr>\n",
              "\t<tr><td>2013</td><td>1</td><td>1</td><td>559</td><td>600</td><td>-1</td><td> 854</td><td> 902</td><td> -8</td><td>UA</td><td>1187</td><td>N76515</td><td>EWR</td><td>LAS</td><td>337</td><td>2227</td><td>6</td><td> 0</td><td>1357038000</td></tr>\n",
              "\t<tr><td>2013</td><td>1</td><td>1</td><td>600</td><td>600</td><td> 0</td><td> 851</td><td> 858</td><td> -7</td><td>B6</td><td> 371</td><td>N595JB</td><td>LGA</td><td>FLL</td><td>152</td><td>1076</td><td>6</td><td> 0</td><td>1357038000</td></tr>\n",
              "\t<tr><td>2013</td><td>1</td><td>1</td><td>600</td><td>600</td><td> 0</td><td> 837</td><td> 825</td><td> 12</td><td>MQ</td><td>4650</td><td>N542MQ</td><td>LGA</td><td>ATL</td><td>134</td><td> 762</td><td>6</td><td> 0</td><td>1357038000</td></tr>\n",
              "\t<tr><td>2013</td><td>1</td><td>1</td><td>601</td><td>600</td><td> 1</td><td> 844</td><td> 850</td><td> -6</td><td>B6</td><td> 343</td><td>N644JB</td><td>EWR</td><td>PBI</td><td>147</td><td>1023</td><td>6</td><td> 0</td><td>1357038000</td></tr>\n",
              "\t<tr><td>2013</td><td>1</td><td>1</td><td>602</td><td>610</td><td>-8</td><td> 812</td><td> 820</td><td> -8</td><td>DL</td><td>1919</td><td>N971DL</td><td>LGA</td><td>MSP</td><td>170</td><td>1020</td><td>6</td><td>10</td><td>1357038000</td></tr>\n",
              "\t<tr><td>2013</td><td>1</td><td>1</td><td>602</td><td>605</td><td>-3</td><td> 821</td><td> 805</td><td> 16</td><td>MQ</td><td>4401</td><td>N730MQ</td><td>LGA</td><td>DTW</td><td>105</td><td> 502</td><td>6</td><td> 5</td><td>1357038000</td></tr>\n",
              "\t<tr><td>2013</td><td>1</td><td>1</td><td>606</td><td>610</td><td>-4</td><td> 858</td><td> 910</td><td>-12</td><td>AA</td><td>1895</td><td>N633AA</td><td>EWR</td><td>MIA</td><td>152</td><td>1085</td><td>6</td><td>10</td><td>1357038000</td></tr>\n",
              "\t<tr><td>2013</td><td>1</td><td>1</td><td>606</td><td>610</td><td>-4</td><td> 837</td><td> 845</td><td> -8</td><td>DL</td><td>1743</td><td>N3739P</td><td>JFK</td><td>ATL</td><td>128</td><td> 760</td><td>6</td><td>10</td><td>1357038000</td></tr>\n",
              "\t<tr><td>2013</td><td>1</td><td>1</td><td>607</td><td>607</td><td> 0</td><td> 858</td><td> 915</td><td>-17</td><td>UA</td><td>1077</td><td>N53442</td><td>EWR</td><td>MIA</td><td>157</td><td>1085</td><td>6</td><td> 7</td><td>1357038000</td></tr>\n",
              "\t<tr><td>2013</td><td>1</td><td>1</td><td>608</td><td>600</td><td> 8</td><td> 807</td><td> 735</td><td> 32</td><td>MQ</td><td>3768</td><td>N9EAMQ</td><td>EWR</td><td>ORD</td><td>139</td><td> 719</td><td>6</td><td> 0</td><td>1357038000</td></tr>\n",
              "\t<tr><td>2013</td><td>1</td><td>1</td><td>611</td><td>600</td><td>11</td><td> 945</td><td> 931</td><td> 14</td><td>UA</td><td> 303</td><td>N532UA</td><td>JFK</td><td>SFO</td><td>366</td><td>2586</td><td>6</td><td> 0</td><td>1357038000</td></tr>\n",
              "\t<tr><td>2013</td><td>1</td><td>1</td><td>613</td><td>610</td><td> 3</td><td> 925</td><td> 921</td><td>  4</td><td>B6</td><td> 135</td><td>N635JB</td><td>JFK</td><td>RSW</td><td>175</td><td>1074</td><td>6</td><td>10</td><td>1357038000</td></tr>\n",
              "\t<tr><td>2013</td><td>1</td><td>1</td><td>615</td><td>615</td><td> 0</td><td>1039</td><td>1100</td><td>-21</td><td>B6</td><td> 709</td><td>N794JB</td><td>JFK</td><td>SJU</td><td>182</td><td>1598</td><td>6</td><td>15</td><td>1357038000</td></tr>\n",
              "\t<tr><td>2013</td><td>1</td><td>1</td><td>615</td><td>615</td><td> 0</td><td> 833</td><td> 842</td><td> -9</td><td>DL</td><td> 575</td><td>N326NB</td><td>EWR</td><td>ATL</td><td>120</td><td> 746</td><td>6</td><td>15</td><td>1357038000</td></tr>\n",
              "\t<tr><td>⋮</td><td>⋮</td><td>⋮</td><td>⋮</td><td>⋮</td><td>⋮</td><td>⋮</td><td>⋮</td><td>⋮</td><td>⋮</td><td>⋮</td><td>⋮</td><td>⋮</td><td>⋮</td><td>⋮</td><td>⋮</td><td>⋮</td><td>⋮</td><td>⋮</td></tr>\n",
              "\t<tr><td>2013</td><td>9</td><td>30</td><td>2123</td><td>2125</td><td> -2</td><td>2223</td><td>2247</td><td>-24</td><td>EV</td><td>5489</td><td>N712EV</td><td>LGA</td><td>CHO</td><td> 45</td><td> 305</td><td>21</td><td>25</td><td>1380589200</td></tr>\n",
              "\t<tr><td>2013</td><td>9</td><td>30</td><td>2127</td><td>2129</td><td> -2</td><td>2314</td><td>2323</td><td> -9</td><td>EV</td><td>3833</td><td>N16546</td><td>EWR</td><td>CLT</td><td> 72</td><td> 529</td><td>21</td><td>29</td><td>1380589200</td></tr>\n",
              "\t<tr><td>2013</td><td>9</td><td>30</td><td>2128</td><td>2130</td><td> -2</td><td>2328</td><td>2359</td><td>-31</td><td>B6</td><td>  97</td><td>N807JB</td><td>JFK</td><td>DEN</td><td>213</td><td>1626</td><td>21</td><td>30</td><td>1380589200</td></tr>\n",
              "\t<tr><td>2013</td><td>9</td><td>30</td><td>2129</td><td>2059</td><td> 30</td><td>2230</td><td>2232</td><td> -2</td><td>EV</td><td>5048</td><td>N751EV</td><td>LGA</td><td>RIC</td><td> 45</td><td> 292</td><td>20</td><td>59</td><td>1380585600</td></tr>\n",
              "\t<tr><td>2013</td><td>9</td><td>30</td><td>2131</td><td>2140</td><td> -9</td><td>2225</td><td>2255</td><td>-30</td><td>MQ</td><td>3621</td><td>N807MQ</td><td>JFK</td><td>DCA</td><td> 36</td><td> 213</td><td>21</td><td>40</td><td>1380589200</td></tr>\n",
              "\t<tr><td>2013</td><td>9</td><td>30</td><td>2140</td><td>2140</td><td>  0</td><td>  10</td><td>  40</td><td>-30</td><td>AA</td><td> 185</td><td>N335AA</td><td>JFK</td><td>LAX</td><td>298</td><td>2475</td><td>21</td><td>40</td><td>1380589200</td></tr>\n",
              "\t<tr><td>2013</td><td>9</td><td>30</td><td>2142</td><td>2129</td><td> 13</td><td>2250</td><td>2239</td><td> 11</td><td>EV</td><td>4509</td><td>N12957</td><td>EWR</td><td>PWM</td><td> 47</td><td> 284</td><td>21</td><td>29</td><td>1380589200</td></tr>\n",
              "\t<tr><td>2013</td><td>9</td><td>30</td><td>2145</td><td>2145</td><td>  0</td><td> 115</td><td> 140</td><td>-25</td><td>B6</td><td>1103</td><td>N633JB</td><td>JFK</td><td>SJU</td><td>192</td><td>1598</td><td>21</td><td>45</td><td>1380589200</td></tr>\n",
              "\t<tr><td>2013</td><td>9</td><td>30</td><td>2147</td><td>2137</td><td> 10</td><td>  30</td><td>  27</td><td>  3</td><td>B6</td><td>1371</td><td>N627JB</td><td>LGA</td><td>FLL</td><td>139</td><td>1076</td><td>21</td><td>37</td><td>1380589200</td></tr>\n",
              "\t<tr><td>2013</td><td>9</td><td>30</td><td>2149</td><td>2156</td><td> -7</td><td>2245</td><td>2308</td><td>-23</td><td>UA</td><td> 523</td><td>N813UA</td><td>EWR</td><td>BOS</td><td> 37</td><td> 200</td><td>21</td><td>56</td><td>1380589200</td></tr>\n",
              "\t<tr><td>2013</td><td>9</td><td>30</td><td>2150</td><td>2159</td><td> -9</td><td>2250</td><td>2306</td><td>-16</td><td>EV</td><td>3842</td><td>N10575</td><td>EWR</td><td>MHT</td><td> 39</td><td> 209</td><td>21</td><td>59</td><td>1380589200</td></tr>\n",
              "\t<tr><td>2013</td><td>9</td><td>30</td><td>2159</td><td>1845</td><td>194</td><td>2344</td><td>2030</td><td>194</td><td>9E</td><td>3320</td><td>N906XJ</td><td>JFK</td><td>BUF</td><td> 50</td><td> 301</td><td>18</td><td>45</td><td>1380578400</td></tr>\n",
              "\t<tr><td>2013</td><td>9</td><td>30</td><td>2203</td><td>2205</td><td> -2</td><td>2339</td><td>2331</td><td>  8</td><td>EV</td><td>5311</td><td>N722EV</td><td>LGA</td><td>BGR</td><td> 61</td><td> 378</td><td>22</td><td> 5</td><td>1380592800</td></tr>\n",
              "\t<tr><td>2013</td><td>9</td><td>30</td><td>2207</td><td>2140</td><td> 27</td><td>2257</td><td>2250</td><td>  7</td><td>MQ</td><td>3660</td><td>N532MQ</td><td>LGA</td><td>BNA</td><td> 97</td><td> 764</td><td>21</td><td>40</td><td>1380589200</td></tr>\n",
              "\t<tr><td>2013</td><td>9</td><td>30</td><td>2211</td><td>2059</td><td> 72</td><td>2339</td><td>2242</td><td> 57</td><td>EV</td><td>4672</td><td>N12145</td><td>EWR</td><td>STL</td><td>120</td><td> 872</td><td>20</td><td>59</td><td>1380585600</td></tr>\n",
              "\t<tr><td>2013</td><td>9</td><td>30</td><td>2231</td><td>2245</td><td>-14</td><td>2335</td><td>2356</td><td>-21</td><td>B6</td><td> 108</td><td>N193JB</td><td>JFK</td><td>PWM</td><td> 48</td><td> 273</td><td>22</td><td>45</td><td>1380592800</td></tr>\n",
              "\t<tr><td>2013</td><td>9</td><td>30</td><td>2233</td><td>2113</td><td> 80</td><td> 112</td><td>  30</td><td> 42</td><td>UA</td><td> 471</td><td>N578UA</td><td>EWR</td><td>SFO</td><td>318</td><td>2565</td><td>21</td><td>13</td><td>1380589200</td></tr>\n",
              "\t<tr><td>2013</td><td>9</td><td>30</td><td>2235</td><td>2001</td><td>154</td><td>  59</td><td>2249</td><td>130</td><td>B6</td><td>1083</td><td>N804JB</td><td>JFK</td><td>MCO</td><td>123</td><td> 944</td><td>20</td><td> 1</td><td>1380585600</td></tr>\n",
              "\t<tr><td>2013</td><td>9</td><td>30</td><td>2237</td><td>2245</td><td> -8</td><td>2345</td><td>2353</td><td> -8</td><td>B6</td><td> 234</td><td>N318JB</td><td>JFK</td><td>BTV</td><td> 43</td><td> 266</td><td>22</td><td>45</td><td>1380592800</td></tr>\n",
              "\t<tr><td>2013</td><td>9</td><td>30</td><td>2240</td><td>2245</td><td> -5</td><td>2334</td><td>2351</td><td>-17</td><td>B6</td><td>1816</td><td>N354JB</td><td>JFK</td><td>SYR</td><td> 41</td><td> 209</td><td>22</td><td>45</td><td>1380592800</td></tr>\n",
              "\t<tr><td>2013</td><td>9</td><td>30</td><td>2240</td><td>2250</td><td>-10</td><td>2347</td><td>   7</td><td>-20</td><td>B6</td><td>2002</td><td>N281JB</td><td>JFK</td><td>BUF</td><td> 52</td><td> 301</td><td>22</td><td>50</td><td>1380592800</td></tr>\n",
              "\t<tr><td>2013</td><td>9</td><td>30</td><td>2241</td><td>2246</td><td> -5</td><td>2345</td><td>   1</td><td>-16</td><td>B6</td><td> 486</td><td>N346JB</td><td>JFK</td><td>ROC</td><td> 47</td><td> 264</td><td>22</td><td>46</td><td>1380592800</td></tr>\n",
              "\t<tr><td>2013</td><td>9</td><td>30</td><td>2307</td><td>2255</td><td> 12</td><td>2359</td><td>2358</td><td>  1</td><td>B6</td><td> 718</td><td>N565JB</td><td>JFK</td><td>BOS</td><td> 33</td><td> 187</td><td>22</td><td>55</td><td>1380592800</td></tr>\n",
              "\t<tr><td>2013</td><td>9</td><td>30</td><td>2349</td><td>2359</td><td>-10</td><td> 325</td><td> 350</td><td>-25</td><td>B6</td><td> 745</td><td>N516JB</td><td>JFK</td><td>PSE</td><td>196</td><td>1617</td><td>23</td><td>59</td><td>1380596400</td></tr>\n",
              "\t<tr><td>2013</td><td>9</td><td>30</td><td>  NA</td><td>1842</td><td> NA</td><td>  NA</td><td>2019</td><td> NA</td><td>EV</td><td>5274</td><td>N740EV</td><td>LGA</td><td>BNA</td><td> NA</td><td> 764</td><td>18</td><td>42</td><td>1380578400</td></tr>\n",
              "\t<tr><td>2013</td><td>9</td><td>30</td><td>  NA</td><td>1455</td><td> NA</td><td>  NA</td><td>1634</td><td> NA</td><td>9E</td><td>3393</td><td>NA    </td><td>JFK</td><td>DCA</td><td> NA</td><td> 213</td><td>14</td><td>55</td><td>1380564000</td></tr>\n",
              "\t<tr><td>2013</td><td>9</td><td>30</td><td>  NA</td><td>2200</td><td> NA</td><td>  NA</td><td>2312</td><td> NA</td><td>9E</td><td>3525</td><td>NA    </td><td>LGA</td><td>SYR</td><td> NA</td><td> 198</td><td>22</td><td> 0</td><td>1380592800</td></tr>\n",
              "\t<tr><td>2013</td><td>9</td><td>30</td><td>  NA</td><td>1210</td><td> NA</td><td>  NA</td><td>1330</td><td> NA</td><td>MQ</td><td>3461</td><td>N535MQ</td><td>LGA</td><td>BNA</td><td> NA</td><td> 764</td><td>12</td><td>10</td><td>1380556800</td></tr>\n",
              "\t<tr><td>2013</td><td>9</td><td>30</td><td>  NA</td><td>1159</td><td> NA</td><td>  NA</td><td>1344</td><td> NA</td><td>MQ</td><td>3572</td><td>N511MQ</td><td>LGA</td><td>CLE</td><td> NA</td><td> 419</td><td>11</td><td>59</td><td>1380553200</td></tr>\n",
              "\t<tr><td>2013</td><td>9</td><td>30</td><td>  NA</td><td> 840</td><td> NA</td><td>  NA</td><td>1020</td><td> NA</td><td>MQ</td><td>3531</td><td>N839MQ</td><td>LGA</td><td>RDU</td><td> NA</td><td> 431</td><td> 8</td><td>40</td><td>1380542400</td></tr>\n",
              "</tbody>\n",
              "</table>\n"
            ],
            "text/markdown": "\nA tibble: 336776 × 19\n\n| year &lt;int&gt; | month &lt;int&gt; | day &lt;int&gt; | dep_time &lt;int&gt; | sched_dep_time &lt;int&gt; | dep_delay &lt;dbl&gt; | arr_time &lt;int&gt; | sched_arr_time &lt;int&gt; | arr_delay &lt;dbl&gt; | carrier &lt;chr&gt; | flight &lt;int&gt; | tailnum &lt;chr&gt; | origin &lt;chr&gt; | dest &lt;chr&gt; | air_time &lt;dbl&gt; | distance &lt;dbl&gt; | hour &lt;dbl&gt; | minute &lt;dbl&gt; | time_hour &lt;dbl&gt; |\n|---|---|---|---|---|---|---|---|---|---|---|---|---|---|---|---|---|---|---|\n| 2013 | 1 | 1 | 517 | 515 |  2 |  830 |  819 |  11 | UA | 1545 | N14228 | EWR | IAH | 227 | 1400 | 5 | 15 | 1357034400 |\n| 2013 | 1 | 1 | 533 | 529 |  4 |  850 |  830 |  20 | UA | 1714 | N24211 | LGA | IAH | 227 | 1416 | 5 | 29 | 1357034400 |\n| 2013 | 1 | 1 | 542 | 540 |  2 |  923 |  850 |  33 | AA | 1141 | N619AA | JFK | MIA | 160 | 1089 | 5 | 40 | 1357034400 |\n| 2013 | 1 | 1 | 544 | 545 | -1 | 1004 | 1022 | -18 | B6 |  725 | N804JB | JFK | BQN | 183 | 1576 | 5 | 45 | 1357034400 |\n| 2013 | 1 | 1 | 554 | 600 | -6 |  812 |  837 | -25 | DL |  461 | N668DN | LGA | ATL | 116 |  762 | 6 |  0 | 1357038000 |\n| 2013 | 1 | 1 | 554 | 558 | -4 |  740 |  728 |  12 | UA | 1696 | N39463 | EWR | ORD | 150 |  719 | 5 | 58 | 1357034400 |\n| 2013 | 1 | 1 | 555 | 600 | -5 |  913 |  854 |  19 | B6 |  507 | N516JB | EWR | FLL | 158 | 1065 | 6 |  0 | 1357038000 |\n| 2013 | 1 | 1 | 557 | 600 | -3 |  709 |  723 | -14 | EV | 5708 | N829AS | LGA | IAD |  53 |  229 | 6 |  0 | 1357038000 |\n| 2013 | 1 | 1 | 557 | 600 | -3 |  838 |  846 |  -8 | B6 |   79 | N593JB | JFK | MCO | 140 |  944 | 6 |  0 | 1357038000 |\n| 2013 | 1 | 1 | 558 | 600 | -2 |  753 |  745 |   8 | AA |  301 | N3ALAA | LGA | ORD | 138 |  733 | 6 |  0 | 1357038000 |\n| 2013 | 1 | 1 | 558 | 600 | -2 |  849 |  851 |  -2 | B6 |   49 | N793JB | JFK | PBI | 149 | 1028 | 6 |  0 | 1357038000 |\n| 2013 | 1 | 1 | 558 | 600 | -2 |  853 |  856 |  -3 | B6 |   71 | N657JB | JFK | TPA | 158 | 1005 | 6 |  0 | 1357038000 |\n| 2013 | 1 | 1 | 558 | 600 | -2 |  924 |  917 |   7 | UA |  194 | N29129 | JFK | LAX | 345 | 2475 | 6 |  0 | 1357038000 |\n| 2013 | 1 | 1 | 558 | 600 | -2 |  923 |  937 | -14 | UA | 1124 | N53441 | EWR | SFO | 361 | 2565 | 6 |  0 | 1357038000 |\n| 2013 | 1 | 1 | 559 | 600 | -1 |  941 |  910 |  31 | AA |  707 | N3DUAA | LGA | DFW | 257 | 1389 | 6 |  0 | 1357038000 |\n| 2013 | 1 | 1 | 559 | 559 |  0 |  702 |  706 |  -4 | B6 | 1806 | N708JB | JFK | BOS |  44 |  187 | 5 | 59 | 1357034400 |\n| 2013 | 1 | 1 | 559 | 600 | -1 |  854 |  902 |  -8 | UA | 1187 | N76515 | EWR | LAS | 337 | 2227 | 6 |  0 | 1357038000 |\n| 2013 | 1 | 1 | 600 | 600 |  0 |  851 |  858 |  -7 | B6 |  371 | N595JB | LGA | FLL | 152 | 1076 | 6 |  0 | 1357038000 |\n| 2013 | 1 | 1 | 600 | 600 |  0 |  837 |  825 |  12 | MQ | 4650 | N542MQ | LGA | ATL | 134 |  762 | 6 |  0 | 1357038000 |\n| 2013 | 1 | 1 | 601 | 600 |  1 |  844 |  850 |  -6 | B6 |  343 | N644JB | EWR | PBI | 147 | 1023 | 6 |  0 | 1357038000 |\n| 2013 | 1 | 1 | 602 | 610 | -8 |  812 |  820 |  -8 | DL | 1919 | N971DL | LGA | MSP | 170 | 1020 | 6 | 10 | 1357038000 |\n| 2013 | 1 | 1 | 602 | 605 | -3 |  821 |  805 |  16 | MQ | 4401 | N730MQ | LGA | DTW | 105 |  502 | 6 |  5 | 1357038000 |\n| 2013 | 1 | 1 | 606 | 610 | -4 |  858 |  910 | -12 | AA | 1895 | N633AA | EWR | MIA | 152 | 1085 | 6 | 10 | 1357038000 |\n| 2013 | 1 | 1 | 606 | 610 | -4 |  837 |  845 |  -8 | DL | 1743 | N3739P | JFK | ATL | 128 |  760 | 6 | 10 | 1357038000 |\n| 2013 | 1 | 1 | 607 | 607 |  0 |  858 |  915 | -17 | UA | 1077 | N53442 | EWR | MIA | 157 | 1085 | 6 |  7 | 1357038000 |\n| 2013 | 1 | 1 | 608 | 600 |  8 |  807 |  735 |  32 | MQ | 3768 | N9EAMQ | EWR | ORD | 139 |  719 | 6 |  0 | 1357038000 |\n| 2013 | 1 | 1 | 611 | 600 | 11 |  945 |  931 |  14 | UA |  303 | N532UA | JFK | SFO | 366 | 2586 | 6 |  0 | 1357038000 |\n| 2013 | 1 | 1 | 613 | 610 |  3 |  925 |  921 |   4 | B6 |  135 | N635JB | JFK | RSW | 175 | 1074 | 6 | 10 | 1357038000 |\n| 2013 | 1 | 1 | 615 | 615 |  0 | 1039 | 1100 | -21 | B6 |  709 | N794JB | JFK | SJU | 182 | 1598 | 6 | 15 | 1357038000 |\n| 2013 | 1 | 1 | 615 | 615 |  0 |  833 |  842 |  -9 | DL |  575 | N326NB | EWR | ATL | 120 |  746 | 6 | 15 | 1357038000 |\n| ⋮ | ⋮ | ⋮ | ⋮ | ⋮ | ⋮ | ⋮ | ⋮ | ⋮ | ⋮ | ⋮ | ⋮ | ⋮ | ⋮ | ⋮ | ⋮ | ⋮ | ⋮ | ⋮ |\n| 2013 | 9 | 30 | 2123 | 2125 |  -2 | 2223 | 2247 | -24 | EV | 5489 | N712EV | LGA | CHO |  45 |  305 | 21 | 25 | 1380589200 |\n| 2013 | 9 | 30 | 2127 | 2129 |  -2 | 2314 | 2323 |  -9 | EV | 3833 | N16546 | EWR | CLT |  72 |  529 | 21 | 29 | 1380589200 |\n| 2013 | 9 | 30 | 2128 | 2130 |  -2 | 2328 | 2359 | -31 | B6 |   97 | N807JB | JFK | DEN | 213 | 1626 | 21 | 30 | 1380589200 |\n| 2013 | 9 | 30 | 2129 | 2059 |  30 | 2230 | 2232 |  -2 | EV | 5048 | N751EV | LGA | RIC |  45 |  292 | 20 | 59 | 1380585600 |\n| 2013 | 9 | 30 | 2131 | 2140 |  -9 | 2225 | 2255 | -30 | MQ | 3621 | N807MQ | JFK | DCA |  36 |  213 | 21 | 40 | 1380589200 |\n| 2013 | 9 | 30 | 2140 | 2140 |   0 |   10 |   40 | -30 | AA |  185 | N335AA | JFK | LAX | 298 | 2475 | 21 | 40 | 1380589200 |\n| 2013 | 9 | 30 | 2142 | 2129 |  13 | 2250 | 2239 |  11 | EV | 4509 | N12957 | EWR | PWM |  47 |  284 | 21 | 29 | 1380589200 |\n| 2013 | 9 | 30 | 2145 | 2145 |   0 |  115 |  140 | -25 | B6 | 1103 | N633JB | JFK | SJU | 192 | 1598 | 21 | 45 | 1380589200 |\n| 2013 | 9 | 30 | 2147 | 2137 |  10 |   30 |   27 |   3 | B6 | 1371 | N627JB | LGA | FLL | 139 | 1076 | 21 | 37 | 1380589200 |\n| 2013 | 9 | 30 | 2149 | 2156 |  -7 | 2245 | 2308 | -23 | UA |  523 | N813UA | EWR | BOS |  37 |  200 | 21 | 56 | 1380589200 |\n| 2013 | 9 | 30 | 2150 | 2159 |  -9 | 2250 | 2306 | -16 | EV | 3842 | N10575 | EWR | MHT |  39 |  209 | 21 | 59 | 1380589200 |\n| 2013 | 9 | 30 | 2159 | 1845 | 194 | 2344 | 2030 | 194 | 9E | 3320 | N906XJ | JFK | BUF |  50 |  301 | 18 | 45 | 1380578400 |\n| 2013 | 9 | 30 | 2203 | 2205 |  -2 | 2339 | 2331 |   8 | EV | 5311 | N722EV | LGA | BGR |  61 |  378 | 22 |  5 | 1380592800 |\n| 2013 | 9 | 30 | 2207 | 2140 |  27 | 2257 | 2250 |   7 | MQ | 3660 | N532MQ | LGA | BNA |  97 |  764 | 21 | 40 | 1380589200 |\n| 2013 | 9 | 30 | 2211 | 2059 |  72 | 2339 | 2242 |  57 | EV | 4672 | N12145 | EWR | STL | 120 |  872 | 20 | 59 | 1380585600 |\n| 2013 | 9 | 30 | 2231 | 2245 | -14 | 2335 | 2356 | -21 | B6 |  108 | N193JB | JFK | PWM |  48 |  273 | 22 | 45 | 1380592800 |\n| 2013 | 9 | 30 | 2233 | 2113 |  80 |  112 |   30 |  42 | UA |  471 | N578UA | EWR | SFO | 318 | 2565 | 21 | 13 | 1380589200 |\n| 2013 | 9 | 30 | 2235 | 2001 | 154 |   59 | 2249 | 130 | B6 | 1083 | N804JB | JFK | MCO | 123 |  944 | 20 |  1 | 1380585600 |\n| 2013 | 9 | 30 | 2237 | 2245 |  -8 | 2345 | 2353 |  -8 | B6 |  234 | N318JB | JFK | BTV |  43 |  266 | 22 | 45 | 1380592800 |\n| 2013 | 9 | 30 | 2240 | 2245 |  -5 | 2334 | 2351 | -17 | B6 | 1816 | N354JB | JFK | SYR |  41 |  209 | 22 | 45 | 1380592800 |\n| 2013 | 9 | 30 | 2240 | 2250 | -10 | 2347 |    7 | -20 | B6 | 2002 | N281JB | JFK | BUF |  52 |  301 | 22 | 50 | 1380592800 |\n| 2013 | 9 | 30 | 2241 | 2246 |  -5 | 2345 |    1 | -16 | B6 |  486 | N346JB | JFK | ROC |  47 |  264 | 22 | 46 | 1380592800 |\n| 2013 | 9 | 30 | 2307 | 2255 |  12 | 2359 | 2358 |   1 | B6 |  718 | N565JB | JFK | BOS |  33 |  187 | 22 | 55 | 1380592800 |\n| 2013 | 9 | 30 | 2349 | 2359 | -10 |  325 |  350 | -25 | B6 |  745 | N516JB | JFK | PSE | 196 | 1617 | 23 | 59 | 1380596400 |\n| 2013 | 9 | 30 |   NA | 1842 |  NA |   NA | 2019 |  NA | EV | 5274 | N740EV | LGA | BNA |  NA |  764 | 18 | 42 | 1380578400 |\n| 2013 | 9 | 30 |   NA | 1455 |  NA |   NA | 1634 |  NA | 9E | 3393 | NA     | JFK | DCA |  NA |  213 | 14 | 55 | 1380564000 |\n| 2013 | 9 | 30 |   NA | 2200 |  NA |   NA | 2312 |  NA | 9E | 3525 | NA     | LGA | SYR |  NA |  198 | 22 |  0 | 1380592800 |\n| 2013 | 9 | 30 |   NA | 1210 |  NA |   NA | 1330 |  NA | MQ | 3461 | N535MQ | LGA | BNA |  NA |  764 | 12 | 10 | 1380556800 |\n| 2013 | 9 | 30 |   NA | 1159 |  NA |   NA | 1344 |  NA | MQ | 3572 | N511MQ | LGA | CLE |  NA |  419 | 11 | 59 | 1380553200 |\n| 2013 | 9 | 30 |   NA |  840 |  NA |   NA | 1020 |  NA | MQ | 3531 | N839MQ | LGA | RDU |  NA |  431 |  8 | 40 | 1380542400 |\n\n",
            "text/latex": "A tibble: 336776 × 19\n\\begin{tabular}{lllllllllllllllllll}\n year & month & day & dep\\_time & sched\\_dep\\_time & dep\\_delay & arr\\_time & sched\\_arr\\_time & arr\\_delay & carrier & flight & tailnum & origin & dest & air\\_time & distance & hour & minute & time\\_hour\\\\\n <int> & <int> & <int> & <int> & <int> & <dbl> & <int> & <int> & <dbl> & <chr> & <int> & <chr> & <chr> & <chr> & <dbl> & <dbl> & <dbl> & <dbl> & <dbl>\\\\\n\\hline\n\t 2013 & 1 & 1 & 517 & 515 &  2 &  830 &  819 &  11 & UA & 1545 & N14228 & EWR & IAH & 227 & 1400 & 5 & 15 & 1357034400\\\\\n\t 2013 & 1 & 1 & 533 & 529 &  4 &  850 &  830 &  20 & UA & 1714 & N24211 & LGA & IAH & 227 & 1416 & 5 & 29 & 1357034400\\\\\n\t 2013 & 1 & 1 & 542 & 540 &  2 &  923 &  850 &  33 & AA & 1141 & N619AA & JFK & MIA & 160 & 1089 & 5 & 40 & 1357034400\\\\\n\t 2013 & 1 & 1 & 544 & 545 & -1 & 1004 & 1022 & -18 & B6 &  725 & N804JB & JFK & BQN & 183 & 1576 & 5 & 45 & 1357034400\\\\\n\t 2013 & 1 & 1 & 554 & 600 & -6 &  812 &  837 & -25 & DL &  461 & N668DN & LGA & ATL & 116 &  762 & 6 &  0 & 1357038000\\\\\n\t 2013 & 1 & 1 & 554 & 558 & -4 &  740 &  728 &  12 & UA & 1696 & N39463 & EWR & ORD & 150 &  719 & 5 & 58 & 1357034400\\\\\n\t 2013 & 1 & 1 & 555 & 600 & -5 &  913 &  854 &  19 & B6 &  507 & N516JB & EWR & FLL & 158 & 1065 & 6 &  0 & 1357038000\\\\\n\t 2013 & 1 & 1 & 557 & 600 & -3 &  709 &  723 & -14 & EV & 5708 & N829AS & LGA & IAD &  53 &  229 & 6 &  0 & 1357038000\\\\\n\t 2013 & 1 & 1 & 557 & 600 & -3 &  838 &  846 &  -8 & B6 &   79 & N593JB & JFK & MCO & 140 &  944 & 6 &  0 & 1357038000\\\\\n\t 2013 & 1 & 1 & 558 & 600 & -2 &  753 &  745 &   8 & AA &  301 & N3ALAA & LGA & ORD & 138 &  733 & 6 &  0 & 1357038000\\\\\n\t 2013 & 1 & 1 & 558 & 600 & -2 &  849 &  851 &  -2 & B6 &   49 & N793JB & JFK & PBI & 149 & 1028 & 6 &  0 & 1357038000\\\\\n\t 2013 & 1 & 1 & 558 & 600 & -2 &  853 &  856 &  -3 & B6 &   71 & N657JB & JFK & TPA & 158 & 1005 & 6 &  0 & 1357038000\\\\\n\t 2013 & 1 & 1 & 558 & 600 & -2 &  924 &  917 &   7 & UA &  194 & N29129 & JFK & LAX & 345 & 2475 & 6 &  0 & 1357038000\\\\\n\t 2013 & 1 & 1 & 558 & 600 & -2 &  923 &  937 & -14 & UA & 1124 & N53441 & EWR & SFO & 361 & 2565 & 6 &  0 & 1357038000\\\\\n\t 2013 & 1 & 1 & 559 & 600 & -1 &  941 &  910 &  31 & AA &  707 & N3DUAA & LGA & DFW & 257 & 1389 & 6 &  0 & 1357038000\\\\\n\t 2013 & 1 & 1 & 559 & 559 &  0 &  702 &  706 &  -4 & B6 & 1806 & N708JB & JFK & BOS &  44 &  187 & 5 & 59 & 1357034400\\\\\n\t 2013 & 1 & 1 & 559 & 600 & -1 &  854 &  902 &  -8 & UA & 1187 & N76515 & EWR & LAS & 337 & 2227 & 6 &  0 & 1357038000\\\\\n\t 2013 & 1 & 1 & 600 & 600 &  0 &  851 &  858 &  -7 & B6 &  371 & N595JB & LGA & FLL & 152 & 1076 & 6 &  0 & 1357038000\\\\\n\t 2013 & 1 & 1 & 600 & 600 &  0 &  837 &  825 &  12 & MQ & 4650 & N542MQ & LGA & ATL & 134 &  762 & 6 &  0 & 1357038000\\\\\n\t 2013 & 1 & 1 & 601 & 600 &  1 &  844 &  850 &  -6 & B6 &  343 & N644JB & EWR & PBI & 147 & 1023 & 6 &  0 & 1357038000\\\\\n\t 2013 & 1 & 1 & 602 & 610 & -8 &  812 &  820 &  -8 & DL & 1919 & N971DL & LGA & MSP & 170 & 1020 & 6 & 10 & 1357038000\\\\\n\t 2013 & 1 & 1 & 602 & 605 & -3 &  821 &  805 &  16 & MQ & 4401 & N730MQ & LGA & DTW & 105 &  502 & 6 &  5 & 1357038000\\\\\n\t 2013 & 1 & 1 & 606 & 610 & -4 &  858 &  910 & -12 & AA & 1895 & N633AA & EWR & MIA & 152 & 1085 & 6 & 10 & 1357038000\\\\\n\t 2013 & 1 & 1 & 606 & 610 & -4 &  837 &  845 &  -8 & DL & 1743 & N3739P & JFK & ATL & 128 &  760 & 6 & 10 & 1357038000\\\\\n\t 2013 & 1 & 1 & 607 & 607 &  0 &  858 &  915 & -17 & UA & 1077 & N53442 & EWR & MIA & 157 & 1085 & 6 &  7 & 1357038000\\\\\n\t 2013 & 1 & 1 & 608 & 600 &  8 &  807 &  735 &  32 & MQ & 3768 & N9EAMQ & EWR & ORD & 139 &  719 & 6 &  0 & 1357038000\\\\\n\t 2013 & 1 & 1 & 611 & 600 & 11 &  945 &  931 &  14 & UA &  303 & N532UA & JFK & SFO & 366 & 2586 & 6 &  0 & 1357038000\\\\\n\t 2013 & 1 & 1 & 613 & 610 &  3 &  925 &  921 &   4 & B6 &  135 & N635JB & JFK & RSW & 175 & 1074 & 6 & 10 & 1357038000\\\\\n\t 2013 & 1 & 1 & 615 & 615 &  0 & 1039 & 1100 & -21 & B6 &  709 & N794JB & JFK & SJU & 182 & 1598 & 6 & 15 & 1357038000\\\\\n\t 2013 & 1 & 1 & 615 & 615 &  0 &  833 &  842 &  -9 & DL &  575 & N326NB & EWR & ATL & 120 &  746 & 6 & 15 & 1357038000\\\\\n\t ⋮ & ⋮ & ⋮ & ⋮ & ⋮ & ⋮ & ⋮ & ⋮ & ⋮ & ⋮ & ⋮ & ⋮ & ⋮ & ⋮ & ⋮ & ⋮ & ⋮ & ⋮ & ⋮\\\\\n\t 2013 & 9 & 30 & 2123 & 2125 &  -2 & 2223 & 2247 & -24 & EV & 5489 & N712EV & LGA & CHO &  45 &  305 & 21 & 25 & 1380589200\\\\\n\t 2013 & 9 & 30 & 2127 & 2129 &  -2 & 2314 & 2323 &  -9 & EV & 3833 & N16546 & EWR & CLT &  72 &  529 & 21 & 29 & 1380589200\\\\\n\t 2013 & 9 & 30 & 2128 & 2130 &  -2 & 2328 & 2359 & -31 & B6 &   97 & N807JB & JFK & DEN & 213 & 1626 & 21 & 30 & 1380589200\\\\\n\t 2013 & 9 & 30 & 2129 & 2059 &  30 & 2230 & 2232 &  -2 & EV & 5048 & N751EV & LGA & RIC &  45 &  292 & 20 & 59 & 1380585600\\\\\n\t 2013 & 9 & 30 & 2131 & 2140 &  -9 & 2225 & 2255 & -30 & MQ & 3621 & N807MQ & JFK & DCA &  36 &  213 & 21 & 40 & 1380589200\\\\\n\t 2013 & 9 & 30 & 2140 & 2140 &   0 &   10 &   40 & -30 & AA &  185 & N335AA & JFK & LAX & 298 & 2475 & 21 & 40 & 1380589200\\\\\n\t 2013 & 9 & 30 & 2142 & 2129 &  13 & 2250 & 2239 &  11 & EV & 4509 & N12957 & EWR & PWM &  47 &  284 & 21 & 29 & 1380589200\\\\\n\t 2013 & 9 & 30 & 2145 & 2145 &   0 &  115 &  140 & -25 & B6 & 1103 & N633JB & JFK & SJU & 192 & 1598 & 21 & 45 & 1380589200\\\\\n\t 2013 & 9 & 30 & 2147 & 2137 &  10 &   30 &   27 &   3 & B6 & 1371 & N627JB & LGA & FLL & 139 & 1076 & 21 & 37 & 1380589200\\\\\n\t 2013 & 9 & 30 & 2149 & 2156 &  -7 & 2245 & 2308 & -23 & UA &  523 & N813UA & EWR & BOS &  37 &  200 & 21 & 56 & 1380589200\\\\\n\t 2013 & 9 & 30 & 2150 & 2159 &  -9 & 2250 & 2306 & -16 & EV & 3842 & N10575 & EWR & MHT &  39 &  209 & 21 & 59 & 1380589200\\\\\n\t 2013 & 9 & 30 & 2159 & 1845 & 194 & 2344 & 2030 & 194 & 9E & 3320 & N906XJ & JFK & BUF &  50 &  301 & 18 & 45 & 1380578400\\\\\n\t 2013 & 9 & 30 & 2203 & 2205 &  -2 & 2339 & 2331 &   8 & EV & 5311 & N722EV & LGA & BGR &  61 &  378 & 22 &  5 & 1380592800\\\\\n\t 2013 & 9 & 30 & 2207 & 2140 &  27 & 2257 & 2250 &   7 & MQ & 3660 & N532MQ & LGA & BNA &  97 &  764 & 21 & 40 & 1380589200\\\\\n\t 2013 & 9 & 30 & 2211 & 2059 &  72 & 2339 & 2242 &  57 & EV & 4672 & N12145 & EWR & STL & 120 &  872 & 20 & 59 & 1380585600\\\\\n\t 2013 & 9 & 30 & 2231 & 2245 & -14 & 2335 & 2356 & -21 & B6 &  108 & N193JB & JFK & PWM &  48 &  273 & 22 & 45 & 1380592800\\\\\n\t 2013 & 9 & 30 & 2233 & 2113 &  80 &  112 &   30 &  42 & UA &  471 & N578UA & EWR & SFO & 318 & 2565 & 21 & 13 & 1380589200\\\\\n\t 2013 & 9 & 30 & 2235 & 2001 & 154 &   59 & 2249 & 130 & B6 & 1083 & N804JB & JFK & MCO & 123 &  944 & 20 &  1 & 1380585600\\\\\n\t 2013 & 9 & 30 & 2237 & 2245 &  -8 & 2345 & 2353 &  -8 & B6 &  234 & N318JB & JFK & BTV &  43 &  266 & 22 & 45 & 1380592800\\\\\n\t 2013 & 9 & 30 & 2240 & 2245 &  -5 & 2334 & 2351 & -17 & B6 & 1816 & N354JB & JFK & SYR &  41 &  209 & 22 & 45 & 1380592800\\\\\n\t 2013 & 9 & 30 & 2240 & 2250 & -10 & 2347 &    7 & -20 & B6 & 2002 & N281JB & JFK & BUF &  52 &  301 & 22 & 50 & 1380592800\\\\\n\t 2013 & 9 & 30 & 2241 & 2246 &  -5 & 2345 &    1 & -16 & B6 &  486 & N346JB & JFK & ROC &  47 &  264 & 22 & 46 & 1380592800\\\\\n\t 2013 & 9 & 30 & 2307 & 2255 &  12 & 2359 & 2358 &   1 & B6 &  718 & N565JB & JFK & BOS &  33 &  187 & 22 & 55 & 1380592800\\\\\n\t 2013 & 9 & 30 & 2349 & 2359 & -10 &  325 &  350 & -25 & B6 &  745 & N516JB & JFK & PSE & 196 & 1617 & 23 & 59 & 1380596400\\\\\n\t 2013 & 9 & 30 &   NA & 1842 &  NA &   NA & 2019 &  NA & EV & 5274 & N740EV & LGA & BNA &  NA &  764 & 18 & 42 & 1380578400\\\\\n\t 2013 & 9 & 30 &   NA & 1455 &  NA &   NA & 1634 &  NA & 9E & 3393 & NA     & JFK & DCA &  NA &  213 & 14 & 55 & 1380564000\\\\\n\t 2013 & 9 & 30 &   NA & 2200 &  NA &   NA & 2312 &  NA & 9E & 3525 & NA     & LGA & SYR &  NA &  198 & 22 &  0 & 1380592800\\\\\n\t 2013 & 9 & 30 &   NA & 1210 &  NA &   NA & 1330 &  NA & MQ & 3461 & N535MQ & LGA & BNA &  NA &  764 & 12 & 10 & 1380556800\\\\\n\t 2013 & 9 & 30 &   NA & 1159 &  NA &   NA & 1344 &  NA & MQ & 3572 & N511MQ & LGA & CLE &  NA &  419 & 11 & 59 & 1380553200\\\\\n\t 2013 & 9 & 30 &   NA &  840 &  NA &   NA & 1020 &  NA & MQ & 3531 & N839MQ & LGA & RDU &  NA &  431 &  8 & 40 & 1380542400\\\\\n\\end{tabular}\n",
            "text/plain": [
              "       year month day dep_time sched_dep_time dep_delay arr_time sched_arr_time\n",
              "1      2013 1     1   517      515             2         830      819          \n",
              "2      2013 1     1   533      529             4         850      830          \n",
              "3      2013 1     1   542      540             2         923      850          \n",
              "4      2013 1     1   544      545            -1        1004     1022          \n",
              "5      2013 1     1   554      600            -6         812      837          \n",
              "6      2013 1     1   554      558            -4         740      728          \n",
              "7      2013 1     1   555      600            -5         913      854          \n",
              "8      2013 1     1   557      600            -3         709      723          \n",
              "9      2013 1     1   557      600            -3         838      846          \n",
              "10     2013 1     1   558      600            -2         753      745          \n",
              "11     2013 1     1   558      600            -2         849      851          \n",
              "12     2013 1     1   558      600            -2         853      856          \n",
              "13     2013 1     1   558      600            -2         924      917          \n",
              "14     2013 1     1   558      600            -2         923      937          \n",
              "15     2013 1     1   559      600            -1         941      910          \n",
              "16     2013 1     1   559      559             0         702      706          \n",
              "17     2013 1     1   559      600            -1         854      902          \n",
              "18     2013 1     1   600      600             0         851      858          \n",
              "19     2013 1     1   600      600             0         837      825          \n",
              "20     2013 1     1   601      600             1         844      850          \n",
              "21     2013 1     1   602      610            -8         812      820          \n",
              "22     2013 1     1   602      605            -3         821      805          \n",
              "23     2013 1     1   606      610            -4         858      910          \n",
              "24     2013 1     1   606      610            -4         837      845          \n",
              "25     2013 1     1   607      607             0         858      915          \n",
              "26     2013 1     1   608      600             8         807      735          \n",
              "27     2013 1     1   611      600            11         945      931          \n",
              "28     2013 1     1   613      610             3         925      921          \n",
              "29     2013 1     1   615      615             0        1039     1100          \n",
              "30     2013 1     1   615      615             0         833      842          \n",
              "⋮      ⋮    ⋮     ⋮   ⋮        ⋮              ⋮         ⋮        ⋮             \n",
              "336747 2013 9     30  2123     2125            -2       2223     2247          \n",
              "336748 2013 9     30  2127     2129            -2       2314     2323          \n",
              "336749 2013 9     30  2128     2130            -2       2328     2359          \n",
              "336750 2013 9     30  2129     2059            30       2230     2232          \n",
              "336751 2013 9     30  2131     2140            -9       2225     2255          \n",
              "336752 2013 9     30  2140     2140             0         10       40          \n",
              "336753 2013 9     30  2142     2129            13       2250     2239          \n",
              "336754 2013 9     30  2145     2145             0        115      140          \n",
              "336755 2013 9     30  2147     2137            10         30       27          \n",
              "336756 2013 9     30  2149     2156            -7       2245     2308          \n",
              "336757 2013 9     30  2150     2159            -9       2250     2306          \n",
              "336758 2013 9     30  2159     1845           194       2344     2030          \n",
              "336759 2013 9     30  2203     2205            -2       2339     2331          \n",
              "336760 2013 9     30  2207     2140            27       2257     2250          \n",
              "336761 2013 9     30  2211     2059            72       2339     2242          \n",
              "336762 2013 9     30  2231     2245           -14       2335     2356          \n",
              "336763 2013 9     30  2233     2113            80        112       30          \n",
              "336764 2013 9     30  2235     2001           154         59     2249          \n",
              "336765 2013 9     30  2237     2245            -8       2345     2353          \n",
              "336766 2013 9     30  2240     2245            -5       2334     2351          \n",
              "336767 2013 9     30  2240     2250           -10       2347        7          \n",
              "336768 2013 9     30  2241     2246            -5       2345        1          \n",
              "336769 2013 9     30  2307     2255            12       2359     2358          \n",
              "336770 2013 9     30  2349     2359           -10        325      350          \n",
              "336771 2013 9     30    NA     1842            NA         NA     2019          \n",
              "336772 2013 9     30    NA     1455            NA         NA     1634          \n",
              "336773 2013 9     30    NA     2200            NA         NA     2312          \n",
              "336774 2013 9     30    NA     1210            NA         NA     1330          \n",
              "336775 2013 9     30    NA     1159            NA         NA     1344          \n",
              "336776 2013 9     30    NA      840            NA         NA     1020          \n",
              "       arr_delay carrier flight tailnum origin dest air_time distance hour\n",
              "1       11       UA      1545   N14228  EWR    IAH  227      1400     5   \n",
              "2       20       UA      1714   N24211  LGA    IAH  227      1416     5   \n",
              "3       33       AA      1141   N619AA  JFK    MIA  160      1089     5   \n",
              "4      -18       B6       725   N804JB  JFK    BQN  183      1576     5   \n",
              "5      -25       DL       461   N668DN  LGA    ATL  116       762     6   \n",
              "6       12       UA      1696   N39463  EWR    ORD  150       719     5   \n",
              "7       19       B6       507   N516JB  EWR    FLL  158      1065     6   \n",
              "8      -14       EV      5708   N829AS  LGA    IAD   53       229     6   \n",
              "9       -8       B6        79   N593JB  JFK    MCO  140       944     6   \n",
              "10       8       AA       301   N3ALAA  LGA    ORD  138       733     6   \n",
              "11      -2       B6        49   N793JB  JFK    PBI  149      1028     6   \n",
              "12      -3       B6        71   N657JB  JFK    TPA  158      1005     6   \n",
              "13       7       UA       194   N29129  JFK    LAX  345      2475     6   \n",
              "14     -14       UA      1124   N53441  EWR    SFO  361      2565     6   \n",
              "15      31       AA       707   N3DUAA  LGA    DFW  257      1389     6   \n",
              "16      -4       B6      1806   N708JB  JFK    BOS   44       187     5   \n",
              "17      -8       UA      1187   N76515  EWR    LAS  337      2227     6   \n",
              "18      -7       B6       371   N595JB  LGA    FLL  152      1076     6   \n",
              "19      12       MQ      4650   N542MQ  LGA    ATL  134       762     6   \n",
              "20      -6       B6       343   N644JB  EWR    PBI  147      1023     6   \n",
              "21      -8       DL      1919   N971DL  LGA    MSP  170      1020     6   \n",
              "22      16       MQ      4401   N730MQ  LGA    DTW  105       502     6   \n",
              "23     -12       AA      1895   N633AA  EWR    MIA  152      1085     6   \n",
              "24      -8       DL      1743   N3739P  JFK    ATL  128       760     6   \n",
              "25     -17       UA      1077   N53442  EWR    MIA  157      1085     6   \n",
              "26      32       MQ      3768   N9EAMQ  EWR    ORD  139       719     6   \n",
              "27      14       UA       303   N532UA  JFK    SFO  366      2586     6   \n",
              "28       4       B6       135   N635JB  JFK    RSW  175      1074     6   \n",
              "29     -21       B6       709   N794JB  JFK    SJU  182      1598     6   \n",
              "30      -9       DL       575   N326NB  EWR    ATL  120       746     6   \n",
              "⋮      ⋮         ⋮       ⋮      ⋮       ⋮      ⋮    ⋮        ⋮        ⋮   \n",
              "336747 -24       EV      5489   N712EV  LGA    CHO   45       305     21  \n",
              "336748  -9       EV      3833   N16546  EWR    CLT   72       529     21  \n",
              "336749 -31       B6        97   N807JB  JFK    DEN  213      1626     21  \n",
              "336750  -2       EV      5048   N751EV  LGA    RIC   45       292     20  \n",
              "336751 -30       MQ      3621   N807MQ  JFK    DCA   36       213     21  \n",
              "336752 -30       AA       185   N335AA  JFK    LAX  298      2475     21  \n",
              "336753  11       EV      4509   N12957  EWR    PWM   47       284     21  \n",
              "336754 -25       B6      1103   N633JB  JFK    SJU  192      1598     21  \n",
              "336755   3       B6      1371   N627JB  LGA    FLL  139      1076     21  \n",
              "336756 -23       UA       523   N813UA  EWR    BOS   37       200     21  \n",
              "336757 -16       EV      3842   N10575  EWR    MHT   39       209     21  \n",
              "336758 194       9E      3320   N906XJ  JFK    BUF   50       301     18  \n",
              "336759   8       EV      5311   N722EV  LGA    BGR   61       378     22  \n",
              "336760   7       MQ      3660   N532MQ  LGA    BNA   97       764     21  \n",
              "336761  57       EV      4672   N12145  EWR    STL  120       872     20  \n",
              "336762 -21       B6       108   N193JB  JFK    PWM   48       273     22  \n",
              "336763  42       UA       471   N578UA  EWR    SFO  318      2565     21  \n",
              "336764 130       B6      1083   N804JB  JFK    MCO  123       944     20  \n",
              "336765  -8       B6       234   N318JB  JFK    BTV   43       266     22  \n",
              "336766 -17       B6      1816   N354JB  JFK    SYR   41       209     22  \n",
              "336767 -20       B6      2002   N281JB  JFK    BUF   52       301     22  \n",
              "336768 -16       B6       486   N346JB  JFK    ROC   47       264     22  \n",
              "336769   1       B6       718   N565JB  JFK    BOS   33       187     22  \n",
              "336770 -25       B6       745   N516JB  JFK    PSE  196      1617     23  \n",
              "336771  NA       EV      5274   N740EV  LGA    BNA   NA       764     18  \n",
              "336772  NA       9E      3393   NA      JFK    DCA   NA       213     14  \n",
              "336773  NA       9E      3525   NA      LGA    SYR   NA       198     22  \n",
              "336774  NA       MQ      3461   N535MQ  LGA    BNA   NA       764     12  \n",
              "336775  NA       MQ      3572   N511MQ  LGA    CLE   NA       419     11  \n",
              "336776  NA       MQ      3531   N839MQ  LGA    RDU   NA       431      8  \n",
              "       minute time_hour \n",
              "1      15     1357034400\n",
              "2      29     1357034400\n",
              "3      40     1357034400\n",
              "4      45     1357034400\n",
              "5       0     1357038000\n",
              "6      58     1357034400\n",
              "7       0     1357038000\n",
              "8       0     1357038000\n",
              "9       0     1357038000\n",
              "10      0     1357038000\n",
              "11      0     1357038000\n",
              "12      0     1357038000\n",
              "13      0     1357038000\n",
              "14      0     1357038000\n",
              "15      0     1357038000\n",
              "16     59     1357034400\n",
              "17      0     1357038000\n",
              "18      0     1357038000\n",
              "19      0     1357038000\n",
              "20      0     1357038000\n",
              "21     10     1357038000\n",
              "22      5     1357038000\n",
              "23     10     1357038000\n",
              "24     10     1357038000\n",
              "25      7     1357038000\n",
              "26      0     1357038000\n",
              "27      0     1357038000\n",
              "28     10     1357038000\n",
              "29     15     1357038000\n",
              "30     15     1357038000\n",
              "⋮      ⋮      ⋮         \n",
              "336747 25     1380589200\n",
              "336748 29     1380589200\n",
              "336749 30     1380589200\n",
              "336750 59     1380585600\n",
              "336751 40     1380589200\n",
              "336752 40     1380589200\n",
              "336753 29     1380589200\n",
              "336754 45     1380589200\n",
              "336755 37     1380589200\n",
              "336756 56     1380589200\n",
              "336757 59     1380589200\n",
              "336758 45     1380578400\n",
              "336759  5     1380592800\n",
              "336760 40     1380589200\n",
              "336761 59     1380585600\n",
              "336762 45     1380592800\n",
              "336763 13     1380589200\n",
              "336764  1     1380585600\n",
              "336765 45     1380592800\n",
              "336766 45     1380592800\n",
              "336767 50     1380592800\n",
              "336768 46     1380592800\n",
              "336769 55     1380592800\n",
              "336770 59     1380596400\n",
              "336771 42     1380578400\n",
              "336772 55     1380564000\n",
              "336773  0     1380592800\n",
              "336774 10     1380556800\n",
              "336775 59     1380553200\n",
              "336776 40     1380542400"
            ]
          },
          "metadata": {}
        }
      ],
      "source": [
        "# select all columns\n",
        "q('select*FROM flights')"
      ]
    },
    {
      "cell_type": "markdown",
      "metadata": {
        "id": "rPIZ4gWalCbz"
      },
      "source": [
        "If you have a really big table, SQL allows you to `LIMIT` the number of rows it returns."
      ]
    },
    {
      "cell_type": "code",
      "execution_count": null,
      "metadata": {
        "id": "D92-_IBFlCbz"
      },
      "outputs": [],
      "source": [
        "# query first ten rows of flights\n",
        "#q(\"SELECT*FROM flights LIMIT 100\") (IN SQL)\n",
        "flights%>%tail(100) (IN R)"
      ]
    },
    {
      "cell_type": "markdown",
      "metadata": {
        "id": "L9ad7l1zlCbz"
      },
      "source": [
        "### Distinct rows\n",
        "Writing `SELECT DISTINCT` instead of `SELECT` will give every unique row in the data set:"
      ]
    },
    {
      "cell_type": "code",
      "execution_count": 37,
      "metadata": {
        "id": "AHiuRJe1lCbz",
        "outputId": "f10e12f5-95ae-4289-f0f7-f092f71323b4",
        "colab": {
          "base_uri": "https://localhost:8080/",
          "height": 1000
        }
      },
      "outputs": [
        {
          "output_type": "display_data",
          "data": {
            "text/html": [
              "<table class=\"dataframe\">\n",
              "<caption>A tibble: 365 × 3</caption>\n",
              "<thead>\n",
              "\t<tr><th scope=col>year</th><th scope=col>month</th><th scope=col>day</th></tr>\n",
              "\t<tr><th scope=col>&lt;int&gt;</th><th scope=col>&lt;int&gt;</th><th scope=col>&lt;int&gt;</th></tr>\n",
              "</thead>\n",
              "<tbody>\n",
              "\t<tr><td>2013</td><td>1</td><td> 1</td></tr>\n",
              "\t<tr><td>2013</td><td>1</td><td> 2</td></tr>\n",
              "\t<tr><td>2013</td><td>1</td><td> 3</td></tr>\n",
              "\t<tr><td>2013</td><td>1</td><td> 4</td></tr>\n",
              "\t<tr><td>2013</td><td>1</td><td> 5</td></tr>\n",
              "\t<tr><td>2013</td><td>1</td><td> 6</td></tr>\n",
              "\t<tr><td>2013</td><td>1</td><td> 7</td></tr>\n",
              "\t<tr><td>2013</td><td>1</td><td> 8</td></tr>\n",
              "\t<tr><td>2013</td><td>1</td><td> 9</td></tr>\n",
              "\t<tr><td>2013</td><td>1</td><td>10</td></tr>\n",
              "\t<tr><td>2013</td><td>1</td><td>11</td></tr>\n",
              "\t<tr><td>2013</td><td>1</td><td>12</td></tr>\n",
              "\t<tr><td>2013</td><td>1</td><td>13</td></tr>\n",
              "\t<tr><td>2013</td><td>1</td><td>14</td></tr>\n",
              "\t<tr><td>2013</td><td>1</td><td>15</td></tr>\n",
              "\t<tr><td>2013</td><td>1</td><td>16</td></tr>\n",
              "\t<tr><td>2013</td><td>1</td><td>17</td></tr>\n",
              "\t<tr><td>2013</td><td>1</td><td>18</td></tr>\n",
              "\t<tr><td>2013</td><td>1</td><td>19</td></tr>\n",
              "\t<tr><td>2013</td><td>1</td><td>20</td></tr>\n",
              "\t<tr><td>2013</td><td>1</td><td>21</td></tr>\n",
              "\t<tr><td>2013</td><td>1</td><td>22</td></tr>\n",
              "\t<tr><td>2013</td><td>1</td><td>23</td></tr>\n",
              "\t<tr><td>2013</td><td>1</td><td>24</td></tr>\n",
              "\t<tr><td>2013</td><td>1</td><td>25</td></tr>\n",
              "\t<tr><td>2013</td><td>1</td><td>26</td></tr>\n",
              "\t<tr><td>2013</td><td>1</td><td>27</td></tr>\n",
              "\t<tr><td>2013</td><td>1</td><td>28</td></tr>\n",
              "\t<tr><td>2013</td><td>1</td><td>29</td></tr>\n",
              "\t<tr><td>2013</td><td>1</td><td>30</td></tr>\n",
              "\t<tr><td>⋮</td><td>⋮</td><td>⋮</td></tr>\n",
              "\t<tr><td>2013</td><td>9</td><td> 1</td></tr>\n",
              "\t<tr><td>2013</td><td>9</td><td> 2</td></tr>\n",
              "\t<tr><td>2013</td><td>9</td><td> 3</td></tr>\n",
              "\t<tr><td>2013</td><td>9</td><td> 4</td></tr>\n",
              "\t<tr><td>2013</td><td>9</td><td> 5</td></tr>\n",
              "\t<tr><td>2013</td><td>9</td><td> 6</td></tr>\n",
              "\t<tr><td>2013</td><td>9</td><td> 7</td></tr>\n",
              "\t<tr><td>2013</td><td>9</td><td> 8</td></tr>\n",
              "\t<tr><td>2013</td><td>9</td><td> 9</td></tr>\n",
              "\t<tr><td>2013</td><td>9</td><td>10</td></tr>\n",
              "\t<tr><td>2013</td><td>9</td><td>11</td></tr>\n",
              "\t<tr><td>2013</td><td>9</td><td>12</td></tr>\n",
              "\t<tr><td>2013</td><td>9</td><td>13</td></tr>\n",
              "\t<tr><td>2013</td><td>9</td><td>14</td></tr>\n",
              "\t<tr><td>2013</td><td>9</td><td>15</td></tr>\n",
              "\t<tr><td>2013</td><td>9</td><td>16</td></tr>\n",
              "\t<tr><td>2013</td><td>9</td><td>17</td></tr>\n",
              "\t<tr><td>2013</td><td>9</td><td>18</td></tr>\n",
              "\t<tr><td>2013</td><td>9</td><td>19</td></tr>\n",
              "\t<tr><td>2013</td><td>9</td><td>20</td></tr>\n",
              "\t<tr><td>2013</td><td>9</td><td>21</td></tr>\n",
              "\t<tr><td>2013</td><td>9</td><td>22</td></tr>\n",
              "\t<tr><td>2013</td><td>9</td><td>23</td></tr>\n",
              "\t<tr><td>2013</td><td>9</td><td>24</td></tr>\n",
              "\t<tr><td>2013</td><td>9</td><td>25</td></tr>\n",
              "\t<tr><td>2013</td><td>9</td><td>26</td></tr>\n",
              "\t<tr><td>2013</td><td>9</td><td>27</td></tr>\n",
              "\t<tr><td>2013</td><td>9</td><td>28</td></tr>\n",
              "\t<tr><td>2013</td><td>9</td><td>29</td></tr>\n",
              "\t<tr><td>2013</td><td>9</td><td>30</td></tr>\n",
              "</tbody>\n",
              "</table>\n"
            ],
            "text/markdown": "\nA tibble: 365 × 3\n\n| year &lt;int&gt; | month &lt;int&gt; | day &lt;int&gt; |\n|---|---|---|\n| 2013 | 1 |  1 |\n| 2013 | 1 |  2 |\n| 2013 | 1 |  3 |\n| 2013 | 1 |  4 |\n| 2013 | 1 |  5 |\n| 2013 | 1 |  6 |\n| 2013 | 1 |  7 |\n| 2013 | 1 |  8 |\n| 2013 | 1 |  9 |\n| 2013 | 1 | 10 |\n| 2013 | 1 | 11 |\n| 2013 | 1 | 12 |\n| 2013 | 1 | 13 |\n| 2013 | 1 | 14 |\n| 2013 | 1 | 15 |\n| 2013 | 1 | 16 |\n| 2013 | 1 | 17 |\n| 2013 | 1 | 18 |\n| 2013 | 1 | 19 |\n| 2013 | 1 | 20 |\n| 2013 | 1 | 21 |\n| 2013 | 1 | 22 |\n| 2013 | 1 | 23 |\n| 2013 | 1 | 24 |\n| 2013 | 1 | 25 |\n| 2013 | 1 | 26 |\n| 2013 | 1 | 27 |\n| 2013 | 1 | 28 |\n| 2013 | 1 | 29 |\n| 2013 | 1 | 30 |\n| ⋮ | ⋮ | ⋮ |\n| 2013 | 9 |  1 |\n| 2013 | 9 |  2 |\n| 2013 | 9 |  3 |\n| 2013 | 9 |  4 |\n| 2013 | 9 |  5 |\n| 2013 | 9 |  6 |\n| 2013 | 9 |  7 |\n| 2013 | 9 |  8 |\n| 2013 | 9 |  9 |\n| 2013 | 9 | 10 |\n| 2013 | 9 | 11 |\n| 2013 | 9 | 12 |\n| 2013 | 9 | 13 |\n| 2013 | 9 | 14 |\n| 2013 | 9 | 15 |\n| 2013 | 9 | 16 |\n| 2013 | 9 | 17 |\n| 2013 | 9 | 18 |\n| 2013 | 9 | 19 |\n| 2013 | 9 | 20 |\n| 2013 | 9 | 21 |\n| 2013 | 9 | 22 |\n| 2013 | 9 | 23 |\n| 2013 | 9 | 24 |\n| 2013 | 9 | 25 |\n| 2013 | 9 | 26 |\n| 2013 | 9 | 27 |\n| 2013 | 9 | 28 |\n| 2013 | 9 | 29 |\n| 2013 | 9 | 30 |\n\n",
            "text/latex": "A tibble: 365 × 3\n\\begin{tabular}{lll}\n year & month & day\\\\\n <int> & <int> & <int>\\\\\n\\hline\n\t 2013 & 1 &  1\\\\\n\t 2013 & 1 &  2\\\\\n\t 2013 & 1 &  3\\\\\n\t 2013 & 1 &  4\\\\\n\t 2013 & 1 &  5\\\\\n\t 2013 & 1 &  6\\\\\n\t 2013 & 1 &  7\\\\\n\t 2013 & 1 &  8\\\\\n\t 2013 & 1 &  9\\\\\n\t 2013 & 1 & 10\\\\\n\t 2013 & 1 & 11\\\\\n\t 2013 & 1 & 12\\\\\n\t 2013 & 1 & 13\\\\\n\t 2013 & 1 & 14\\\\\n\t 2013 & 1 & 15\\\\\n\t 2013 & 1 & 16\\\\\n\t 2013 & 1 & 17\\\\\n\t 2013 & 1 & 18\\\\\n\t 2013 & 1 & 19\\\\\n\t 2013 & 1 & 20\\\\\n\t 2013 & 1 & 21\\\\\n\t 2013 & 1 & 22\\\\\n\t 2013 & 1 & 23\\\\\n\t 2013 & 1 & 24\\\\\n\t 2013 & 1 & 25\\\\\n\t 2013 & 1 & 26\\\\\n\t 2013 & 1 & 27\\\\\n\t 2013 & 1 & 28\\\\\n\t 2013 & 1 & 29\\\\\n\t 2013 & 1 & 30\\\\\n\t ⋮ & ⋮ & ⋮\\\\\n\t 2013 & 9 &  1\\\\\n\t 2013 & 9 &  2\\\\\n\t 2013 & 9 &  3\\\\\n\t 2013 & 9 &  4\\\\\n\t 2013 & 9 &  5\\\\\n\t 2013 & 9 &  6\\\\\n\t 2013 & 9 &  7\\\\\n\t 2013 & 9 &  8\\\\\n\t 2013 & 9 &  9\\\\\n\t 2013 & 9 & 10\\\\\n\t 2013 & 9 & 11\\\\\n\t 2013 & 9 & 12\\\\\n\t 2013 & 9 & 13\\\\\n\t 2013 & 9 & 14\\\\\n\t 2013 & 9 & 15\\\\\n\t 2013 & 9 & 16\\\\\n\t 2013 & 9 & 17\\\\\n\t 2013 & 9 & 18\\\\\n\t 2013 & 9 & 19\\\\\n\t 2013 & 9 & 20\\\\\n\t 2013 & 9 & 21\\\\\n\t 2013 & 9 & 22\\\\\n\t 2013 & 9 & 23\\\\\n\t 2013 & 9 & 24\\\\\n\t 2013 & 9 & 25\\\\\n\t 2013 & 9 & 26\\\\\n\t 2013 & 9 & 27\\\\\n\t 2013 & 9 & 28\\\\\n\t 2013 & 9 & 29\\\\\n\t 2013 & 9 & 30\\\\\n\\end{tabular}\n",
            "text/plain": [
              "    year month day\n",
              "1   2013 1      1 \n",
              "2   2013 1      2 \n",
              "3   2013 1      3 \n",
              "4   2013 1      4 \n",
              "5   2013 1      5 \n",
              "6   2013 1      6 \n",
              "7   2013 1      7 \n",
              "8   2013 1      8 \n",
              "9   2013 1      9 \n",
              "10  2013 1     10 \n",
              "11  2013 1     11 \n",
              "12  2013 1     12 \n",
              "13  2013 1     13 \n",
              "14  2013 1     14 \n",
              "15  2013 1     15 \n",
              "16  2013 1     16 \n",
              "17  2013 1     17 \n",
              "18  2013 1     18 \n",
              "19  2013 1     19 \n",
              "20  2013 1     20 \n",
              "21  2013 1     21 \n",
              "22  2013 1     22 \n",
              "23  2013 1     23 \n",
              "24  2013 1     24 \n",
              "25  2013 1     25 \n",
              "26  2013 1     26 \n",
              "27  2013 1     27 \n",
              "28  2013 1     28 \n",
              "29  2013 1     29 \n",
              "30  2013 1     30 \n",
              "⋮   ⋮    ⋮     ⋮  \n",
              "336 2013 9      1 \n",
              "337 2013 9      2 \n",
              "338 2013 9      3 \n",
              "339 2013 9      4 \n",
              "340 2013 9      5 \n",
              "341 2013 9      6 \n",
              "342 2013 9      7 \n",
              "343 2013 9      8 \n",
              "344 2013 9      9 \n",
              "345 2013 9     10 \n",
              "346 2013 9     11 \n",
              "347 2013 9     12 \n",
              "348 2013 9     13 \n",
              "349 2013 9     14 \n",
              "350 2013 9     15 \n",
              "351 2013 9     16 \n",
              "352 2013 9     17 \n",
              "353 2013 9     18 \n",
              "354 2013 9     19 \n",
              "355 2013 9     20 \n",
              "356 2013 9     21 \n",
              "357 2013 9     22 \n",
              "358 2013 9     23 \n",
              "359 2013 9     24 \n",
              "360 2013 9     25 \n",
              "361 2013 9     26 \n",
              "362 2013 9     27 \n",
              "363 2013 9     28 \n",
              "364 2013 9     29 \n",
              "365 2013 9     30 "
            ]
          },
          "metadata": {}
        }
      ],
      "source": [
        "# distinct year, month, day in flights\n",
        "q('SELECT DISTINCT year,month,day from flights')\n",
        "#distinct(flights,year,month,day)"
      ]
    },
    {
      "cell_type": "markdown",
      "metadata": {
        "id": "66wXIzzflCbz"
      },
      "source": [
        "### Filtering\n",
        "\n",
        "The SQL syntax for filtering rows in a table uses the `WHERE` clause:\n",
        "```{sql}\n",
        "SELECT * FROM <table> WHERE dest = \"IAH\"\n",
        "```\n",
        "This is the same as:\n",
        "```{r}\n",
        "filter(<table>, dest == \"IAH\")\n",
        "```\n",
        "Note that SQL uses a single `=` to check equality!"
      ]
    },
    {
      "cell_type": "code",
      "execution_count": 52,
      "metadata": {
        "id": "WJ-ETvQ-lCbz",
        "outputId": "6880c49b-bcd2-4f84-c50b-3c542de64739",
        "colab": {
          "base_uri": "https://localhost:8080/",
          "height": 98
        }
      },
      "outputs": [
        {
          "output_type": "display_data",
          "data": {
            "text/html": [
              "<table class=\"dataframe\">\n",
              "<caption>A tibble: 0 × 19</caption>\n",
              "<thead>\n",
              "\t<tr><th scope=col>year</th><th scope=col>month</th><th scope=col>day</th><th scope=col>dep_time</th><th scope=col>sched_dep_time</th><th scope=col>dep_delay</th><th scope=col>arr_time</th><th scope=col>sched_arr_time</th><th scope=col>arr_delay</th><th scope=col>carrier</th><th scope=col>flight</th><th scope=col>tailnum</th><th scope=col>origin</th><th scope=col>dest</th><th scope=col>air_time</th><th scope=col>distance</th><th scope=col>hour</th><th scope=col>minute</th><th scope=col>time_hour</th></tr>\n",
              "\t<tr><th scope=col>&lt;int&gt;</th><th scope=col>&lt;int&gt;</th><th scope=col>&lt;int&gt;</th><th scope=col>&lt;int&gt;</th><th scope=col>&lt;int&gt;</th><th scope=col>&lt;dbl&gt;</th><th scope=col>&lt;int&gt;</th><th scope=col>&lt;int&gt;</th><th scope=col>&lt;dbl&gt;</th><th scope=col>&lt;chr&gt;</th><th scope=col>&lt;int&gt;</th><th scope=col>&lt;chr&gt;</th><th scope=col>&lt;chr&gt;</th><th scope=col>&lt;chr&gt;</th><th scope=col>&lt;dbl&gt;</th><th scope=col>&lt;dbl&gt;</th><th scope=col>&lt;dbl&gt;</th><th scope=col>&lt;dbl&gt;</th><th scope=col>&lt;dbl&gt;</th></tr>\n",
              "</thead>\n",
              "<tbody>\n",
              "</tbody>\n",
              "</table>\n"
            ],
            "text/markdown": "\nA tibble: 0 × 19\n\n| year &lt;int&gt; | month &lt;int&gt; | day &lt;int&gt; | dep_time &lt;int&gt; | sched_dep_time &lt;int&gt; | dep_delay &lt;dbl&gt; | arr_time &lt;int&gt; | sched_arr_time &lt;int&gt; | arr_delay &lt;dbl&gt; | carrier &lt;chr&gt; | flight &lt;int&gt; | tailnum &lt;chr&gt; | origin &lt;chr&gt; | dest &lt;chr&gt; | air_time &lt;dbl&gt; | distance &lt;dbl&gt; | hour &lt;dbl&gt; | minute &lt;dbl&gt; | time_hour &lt;dbl&gt; |\n|---|---|---|---|---|---|---|---|---|---|---|---|---|---|---|---|---|---|---|\n\n",
            "text/latex": "A tibble: 0 × 19\n\\begin{tabular}{lllllllllllllllllll}\n year & month & day & dep\\_time & sched\\_dep\\_time & dep\\_delay & arr\\_time & sched\\_arr\\_time & arr\\_delay & carrier & flight & tailnum & origin & dest & air\\_time & distance & hour & minute & time\\_hour\\\\\n <int> & <int> & <int> & <int> & <int> & <dbl> & <int> & <int> & <dbl> & <chr> & <int> & <chr> & <chr> & <chr> & <dbl> & <dbl> & <dbl> & <dbl> & <dbl>\\\\\n\\hline\n\\end{tabular}\n",
            "text/plain": [
              "     year month day dep_time sched_dep_time dep_delay arr_time sched_arr_time\n",
              "     arr_delay carrier flight tailnum origin dest air_time distance hour minute\n",
              "     time_hour"
            ]
          },
          "metadata": {}
        }
      ],
      "source": [
        "# select where\n",
        "q(\"select*from flights WHERE origin =='JKF'AND dest=='DTW'\")"
      ]
    },
    {
      "cell_type": "markdown",
      "metadata": {
        "id": "UQ_estZOlCb0"
      },
      "source": [
        "### Inequality in SQL\n",
        "The write that something is *not equal* in SQL, we traditionally use the `<>` operator:"
      ]
    },
    {
      "cell_type": "code",
      "execution_count": null,
      "metadata": {
        "id": "dhWYqi-vlCb0"
      },
      "outputs": [],
      "source": [
        "# all flights that are not destined for LAX\n"
      ]
    },
    {
      "cell_type": "markdown",
      "metadata": {
        "id": "fuZD3KJVlCb0"
      },
      "source": [
        "Newer dialects of SQL (including SQLite) seem to let you use `!=` as well though."
      ]
    },
    {
      "cell_type": "markdown",
      "metadata": {
        "id": "Qx8ly0colCb0"
      },
      "source": [
        "### Missing data\n",
        "In SQL, missing data is coded as `NULL`. This is a special value which is analogous to `NA` in R. "
      ]
    },
    {
      "cell_type": "code",
      "execution_count": null,
      "metadata": {
        "id": "XwVJBL_HlCb0"
      },
      "outputs": [],
      "source": [
        "# select non-null dep time\n",
        "fliter(flights,)\n",
        "q('SELECT * from flights where dep_delay is not null')"
      ]
    },
    {
      "cell_type": "markdown",
      "metadata": {
        "id": "4cf1wWCIlCb0"
      },
      "source": [
        "### Summarizing\n",
        "\n",
        "The SQL syntax for summarizing is using the `GROUP BY` clause:\n",
        "```{sql}\n",
        "SELECT AVG(<col>) AS avg_col FROM <table> GROUP BY(<group cols>)\n",
        "```\n",
        "This is the same as:\n",
        "```{r}\n",
        "<table> %>% group_by(<group cols>) %>% summarize(avg_col = mean(<col>))\n",
        "```"
      ]
    },
    {
      "cell_type": "code",
      "execution_count": 59,
      "metadata": {
        "id": "NkBsr9LQlCb0",
        "outputId": "8186c8d6-9df4-4e43-dd35-dff16b226be6",
        "colab": {
          "base_uri": "https://localhost:8080/",
          "height": 1000
        }
      },
      "outputs": [
        {
          "output_type": "display_data",
          "data": {
            "text/html": [
              "<table class=\"dataframe\">\n",
              "<caption>A tibble: 365 × 2</caption>\n",
              "<thead>\n",
              "\t<tr><th scope=col>avg(distance)</th><th scope=col>count()</th></tr>\n",
              "\t<tr><th scope=col>&lt;dbl&gt;</th><th scope=col>&lt;int&gt;</th></tr>\n",
              "</thead>\n",
              "<tbody>\n",
              "\t<tr><td>1077.4299</td><td>842</td></tr>\n",
              "\t<tr><td>1053.1177</td><td>943</td></tr>\n",
              "\t<tr><td>1037.3709</td><td>914</td></tr>\n",
              "\t<tr><td>1032.4754</td><td>915</td></tr>\n",
              "\t<tr><td>1067.5917</td><td>720</td></tr>\n",
              "\t<tr><td>1051.6466</td><td>832</td></tr>\n",
              "\t<tr><td> 998.2572</td><td>933</td></tr>\n",
              "\t<tr><td> 985.5328</td><td>899</td></tr>\n",
              "\t<tr><td> 981.4202</td><td>902</td></tr>\n",
              "\t<tr><td> 993.1856</td><td>932</td></tr>\n",
              "\t<tr><td> 991.9957</td><td>930</td></tr>\n",
              "\t<tr><td>1029.2087</td><td>690</td></tr>\n",
              "\t<tr><td>1022.0302</td><td>828</td></tr>\n",
              "\t<tr><td> 992.7575</td><td>928</td></tr>\n",
              "\t<tr><td> 976.3971</td><td>894</td></tr>\n",
              "\t<tr><td> 979.6093</td><td>901</td></tr>\n",
              "\t<tr><td> 990.0076</td><td>927</td></tr>\n",
              "\t<tr><td> 991.0996</td><td>924</td></tr>\n",
              "\t<tr><td>1036.1098</td><td>674</td></tr>\n",
              "\t<tr><td>1042.9033</td><td>786</td></tr>\n",
              "\t<tr><td> 999.2544</td><td>912</td></tr>\n",
              "\t<tr><td> 977.7573</td><td>890</td></tr>\n",
              "\t<tr><td> 980.4526</td><td>897</td></tr>\n",
              "\t<tr><td> 990.0962</td><td>925</td></tr>\n",
              "\t<tr><td> 991.1323</td><td>922</td></tr>\n",
              "\t<tr><td>1029.8132</td><td>680</td></tr>\n",
              "\t<tr><td>1019.5516</td><td>823</td></tr>\n",
              "\t<tr><td> 991.0683</td><td>923</td></tr>\n",
              "\t<tr><td> 977.7573</td><td>890</td></tr>\n",
              "\t<tr><td> 979.1000</td><td>900</td></tr>\n",
              "\t<tr><td>⋮</td><td>⋮</td></tr>\n",
              "\t<tr><td>1045.216</td><td>1004</td></tr>\n",
              "\t<tr><td>1037.664</td><td> 973</td></tr>\n",
              "\t<tr><td>1028.668</td><td> 958</td></tr>\n",
              "\t<tr><td>1032.431</td><td> 969</td></tr>\n",
              "\t<tr><td>1034.225</td><td> 970</td></tr>\n",
              "\t<tr><td>1076.192</td><td> 691</td></tr>\n",
              "\t<tr><td>1056.778</td><td> 875</td></tr>\n",
              "\t<tr><td>1029.788</td><td> 962</td></tr>\n",
              "\t<tr><td>1019.850</td><td> 943</td></tr>\n",
              "\t<tr><td>1028.249</td><td> 954</td></tr>\n",
              "\t<tr><td>1026.347</td><td> 968</td></tr>\n",
              "\t<tr><td>1034.225</td><td> 970</td></tr>\n",
              "\t<tr><td>1074.860</td><td> 692</td></tr>\n",
              "\t<tr><td>1052.486</td><td> 880</td></tr>\n",
              "\t<tr><td>1031.372</td><td> 964</td></tr>\n",
              "\t<tr><td>1029.697</td><td> 949</td></tr>\n",
              "\t<tr><td>1041.809</td><td> 956</td></tr>\n",
              "\t<tr><td>1072.525</td><td> 974</td></tr>\n",
              "\t<tr><td>1069.397</td><td> 980</td></tr>\n",
              "\t<tr><td>1121.625</td><td> 811</td></tr>\n",
              "\t<tr><td>1101.023</td><td> 895</td></tr>\n",
              "\t<tr><td>1086.943</td><td> 985</td></tr>\n",
              "\t<tr><td>1119.435</td><td> 761</td></tr>\n",
              "\t<tr><td>1117.868</td><td> 719</td></tr>\n",
              "\t<tr><td>1109.999</td><td> 936</td></tr>\n",
              "\t<tr><td>1087.254</td><td> 963</td></tr>\n",
              "\t<tr><td>1122.647</td><td> 814</td></tr>\n",
              "\t<tr><td>1108.057</td><td> 888</td></tr>\n",
              "\t<tr><td>1098.242</td><td> 968</td></tr>\n",
              "\t<tr><td>1127.920</td><td> 776</td></tr>\n",
              "</tbody>\n",
              "</table>\n"
            ],
            "text/markdown": "\nA tibble: 365 × 2\n\n| avg(distance) &lt;dbl&gt; | count() &lt;int&gt; |\n|---|---|\n| 1077.4299 | 842 |\n| 1053.1177 | 943 |\n| 1037.3709 | 914 |\n| 1032.4754 | 915 |\n| 1067.5917 | 720 |\n| 1051.6466 | 832 |\n|  998.2572 | 933 |\n|  985.5328 | 899 |\n|  981.4202 | 902 |\n|  993.1856 | 932 |\n|  991.9957 | 930 |\n| 1029.2087 | 690 |\n| 1022.0302 | 828 |\n|  992.7575 | 928 |\n|  976.3971 | 894 |\n|  979.6093 | 901 |\n|  990.0076 | 927 |\n|  991.0996 | 924 |\n| 1036.1098 | 674 |\n| 1042.9033 | 786 |\n|  999.2544 | 912 |\n|  977.7573 | 890 |\n|  980.4526 | 897 |\n|  990.0962 | 925 |\n|  991.1323 | 922 |\n| 1029.8132 | 680 |\n| 1019.5516 | 823 |\n|  991.0683 | 923 |\n|  977.7573 | 890 |\n|  979.1000 | 900 |\n| ⋮ | ⋮ |\n| 1045.216 | 1004 |\n| 1037.664 |  973 |\n| 1028.668 |  958 |\n| 1032.431 |  969 |\n| 1034.225 |  970 |\n| 1076.192 |  691 |\n| 1056.778 |  875 |\n| 1029.788 |  962 |\n| 1019.850 |  943 |\n| 1028.249 |  954 |\n| 1026.347 |  968 |\n| 1034.225 |  970 |\n| 1074.860 |  692 |\n| 1052.486 |  880 |\n| 1031.372 |  964 |\n| 1029.697 |  949 |\n| 1041.809 |  956 |\n| 1072.525 |  974 |\n| 1069.397 |  980 |\n| 1121.625 |  811 |\n| 1101.023 |  895 |\n| 1086.943 |  985 |\n| 1119.435 |  761 |\n| 1117.868 |  719 |\n| 1109.999 |  936 |\n| 1087.254 |  963 |\n| 1122.647 |  814 |\n| 1108.057 |  888 |\n| 1098.242 |  968 |\n| 1127.920 |  776 |\n\n",
            "text/latex": "A tibble: 365 × 2\n\\begin{tabular}{ll}\n avg(distance) & count()\\\\\n <dbl> & <int>\\\\\n\\hline\n\t 1077.4299 & 842\\\\\n\t 1053.1177 & 943\\\\\n\t 1037.3709 & 914\\\\\n\t 1032.4754 & 915\\\\\n\t 1067.5917 & 720\\\\\n\t 1051.6466 & 832\\\\\n\t  998.2572 & 933\\\\\n\t  985.5328 & 899\\\\\n\t  981.4202 & 902\\\\\n\t  993.1856 & 932\\\\\n\t  991.9957 & 930\\\\\n\t 1029.2087 & 690\\\\\n\t 1022.0302 & 828\\\\\n\t  992.7575 & 928\\\\\n\t  976.3971 & 894\\\\\n\t  979.6093 & 901\\\\\n\t  990.0076 & 927\\\\\n\t  991.0996 & 924\\\\\n\t 1036.1098 & 674\\\\\n\t 1042.9033 & 786\\\\\n\t  999.2544 & 912\\\\\n\t  977.7573 & 890\\\\\n\t  980.4526 & 897\\\\\n\t  990.0962 & 925\\\\\n\t  991.1323 & 922\\\\\n\t 1029.8132 & 680\\\\\n\t 1019.5516 & 823\\\\\n\t  991.0683 & 923\\\\\n\t  977.7573 & 890\\\\\n\t  979.1000 & 900\\\\\n\t ⋮ & ⋮\\\\\n\t 1045.216 & 1004\\\\\n\t 1037.664 &  973\\\\\n\t 1028.668 &  958\\\\\n\t 1032.431 &  969\\\\\n\t 1034.225 &  970\\\\\n\t 1076.192 &  691\\\\\n\t 1056.778 &  875\\\\\n\t 1029.788 &  962\\\\\n\t 1019.850 &  943\\\\\n\t 1028.249 &  954\\\\\n\t 1026.347 &  968\\\\\n\t 1034.225 &  970\\\\\n\t 1074.860 &  692\\\\\n\t 1052.486 &  880\\\\\n\t 1031.372 &  964\\\\\n\t 1029.697 &  949\\\\\n\t 1041.809 &  956\\\\\n\t 1072.525 &  974\\\\\n\t 1069.397 &  980\\\\\n\t 1121.625 &  811\\\\\n\t 1101.023 &  895\\\\\n\t 1086.943 &  985\\\\\n\t 1119.435 &  761\\\\\n\t 1117.868 &  719\\\\\n\t 1109.999 &  936\\\\\n\t 1087.254 &  963\\\\\n\t 1122.647 &  814\\\\\n\t 1108.057 &  888\\\\\n\t 1098.242 &  968\\\\\n\t 1127.920 &  776\\\\\n\\end{tabular}\n",
            "text/plain": [
              "    avg(distance) count()\n",
              "1   1077.4299     842    \n",
              "2   1053.1177     943    \n",
              "3   1037.3709     914    \n",
              "4   1032.4754     915    \n",
              "5   1067.5917     720    \n",
              "6   1051.6466     832    \n",
              "7    998.2572     933    \n",
              "8    985.5328     899    \n",
              "9    981.4202     902    \n",
              "10   993.1856     932    \n",
              "11   991.9957     930    \n",
              "12  1029.2087     690    \n",
              "13  1022.0302     828    \n",
              "14   992.7575     928    \n",
              "15   976.3971     894    \n",
              "16   979.6093     901    \n",
              "17   990.0076     927    \n",
              "18   991.0996     924    \n",
              "19  1036.1098     674    \n",
              "20  1042.9033     786    \n",
              "21   999.2544     912    \n",
              "22   977.7573     890    \n",
              "23   980.4526     897    \n",
              "24   990.0962     925    \n",
              "25   991.1323     922    \n",
              "26  1029.8132     680    \n",
              "27  1019.5516     823    \n",
              "28   991.0683     923    \n",
              "29   977.7573     890    \n",
              "30   979.1000     900    \n",
              "⋮   ⋮             ⋮      \n",
              "336 1045.216      1004   \n",
              "337 1037.664       973   \n",
              "338 1028.668       958   \n",
              "339 1032.431       969   \n",
              "340 1034.225       970   \n",
              "341 1076.192       691   \n",
              "342 1056.778       875   \n",
              "343 1029.788       962   \n",
              "344 1019.850       943   \n",
              "345 1028.249       954   \n",
              "346 1026.347       968   \n",
              "347 1034.225       970   \n",
              "348 1074.860       692   \n",
              "349 1052.486       880   \n",
              "350 1031.372       964   \n",
              "351 1029.697       949   \n",
              "352 1041.809       956   \n",
              "353 1072.525       974   \n",
              "354 1069.397       980   \n",
              "355 1121.625       811   \n",
              "356 1101.023       895   \n",
              "357 1086.943       985   \n",
              "358 1119.435       761   \n",
              "359 1117.868       719   \n",
              "360 1109.999       936   \n",
              "361 1087.254       963   \n",
              "362 1122.647       814   \n",
              "363 1108.057       888   \n",
              "364 1098.242       968   \n",
              "365 1127.920       776   "
            ]
          },
          "metadata": {}
        }
      ],
      "source": [
        "# select average distance and count for each flight\n",
        "#flights%>% group_by(year,month,day)%>% summarize(avg_dist=mean(distance),n=n())\n",
        "q('select avg(distance),count()from flights group by year, month, day')"
      ]
    },
    {
      "cell_type": "markdown",
      "metadata": {
        "id": "7aXq5UA9lCb0"
      },
      "source": [
        "You can find a list of the aggregation functions that SQLite supports [here](https://www.sqlite.org/lang_aggfunc.html). This is a somewhat limited set compared to richer SQL engines like MySQL."
      ]
    },
    {
      "cell_type": "markdown",
      "metadata": {
        "id": "hHoqz9GTlCb0"
      },
      "source": [
        "### Joins\n",
        "\n",
        "The SQL syntax for joins:\n",
        "```{sql}\n",
        "SELECT * FROM <table> LEFT JOIN <other_table> ON <left_key_col> = <right_key_col>\n",
        "```\n",
        "This is the same as:\n",
        "```{r}\n",
        "left_join(<table>, <other_table>, by = c(\"<left_key_col>\" = \"<right_key_col>\"))\n",
        "```"
      ]
    },
    {
      "cell_type": "code",
      "execution_count": null,
      "metadata": {
        "id": "sSSpdP0llCb0"
      },
      "outputs": [],
      "source": [
        "# join planes by tailnum to flights\n",
        "#flights %>% left_join(planes,by=\"tailnum\")\n",
        "q('select*from flights left join planes on tailnum')\n"
      ]
    },
    {
      "cell_type": "markdown",
      "metadata": {
        "id": "usaJP4-LlCb0"
      },
      "source": [
        "Note here that SQL requires us to be explicit about which columns we are `SELECT`ing when joining multiple tables. Each column name must be prefixed with the name of the table in which it resides."
      ]
    },
    {
      "cell_type": "markdown",
      "metadata": {
        "id": "8TAlNReElCb0"
      },
      "source": [
        "### Ranking\n",
        "\n",
        "Ranking operates slightly differently in SQL than dplyr. The overall syntax is:\n",
        "\n",
        "\n",
        "    SELECT RANK() OVER (\n",
        "\t    PARTITION BY <columns>\n",
        "\t    ORDER BY <expression1> [ASC|DESC], ...\n",
        "    ) RankedCol FROM <table>\n",
        "    \n",
        "    \n",
        "The easiest way to learn it is to see some examples."
      ]
    },
    {
      "cell_type": "code",
      "execution_count": 69,
      "metadata": {
        "id": "JUaAeLn_lCb0",
        "outputId": "f2828b9b-a733-4069-b411-c55e5aca5ee3",
        "colab": {
          "base_uri": "https://localhost:8080/",
          "height": 357
        }
      },
      "outputs": [
        {
          "output_type": "error",
          "ename": "ERROR",
          "evalue": "ignored",
          "traceback": [
            "Error: near \"order\": syntax error\nTraceback:\n",
            "1. q(\"select year, month, day, dep+delay, rank()over (partition by order by dep_delay desc) r from flights\")",
            "2. dbGetQuery(con, ...) %>% as_tibble   # at line 10 of file <text>",
            "3. as_tibble(.)",
            "4. dbGetQuery(con, ...)",
            "5. dbGetQuery(con, ...)",
            "6. .local(conn, statement, ...)",
            "7. dbSendQuery(conn, statement, ...)",
            "8. dbSendQuery(conn, statement, ...)",
            "9. .local(conn, statement, ...)",
            "10. new(\"SQLiteResult\", sql = statement, ptr = result_create(conn@ptr, \n  .     statement), conn = conn, bigint = conn@bigint)",
            "11. initialize(value, ...)",
            "12. initialize(value, ...)",
            "13. result_create(conn@ptr, statement)"
          ]
        }
      ],
      "source": [
        "# rank based on departure delay\n",
        "#flights %>% group_by(month,day)%>%mutate(r=min_rank(dep_delay))%>%\n",
        "  #select(month,day,dep_delay,r) %>% filter(r<=2)\n",
        "q('select year, month, day, dep+delay, rank()over (partition by month,day dep_delay desc) r from flights')\n"
      ]
    },
    {
      "cell_type": "markdown",
      "metadata": {
        "id": "WIT6xmG-lCb0"
      },
      "source": [
        "## Subqueries\n",
        "\n",
        "An aspect of SQL I find confusing is that you can filter (`WHERE ...`) based on a ranking condition:"
      ]
    },
    {
      "cell_type": "code",
      "execution_count": null,
      "metadata": {
        "id": "X3Almep7lCb0"
      },
      "outputs": [],
      "source": [
        "# filtering a rank, won't work"
      ]
    },
    {
      "cell_type": "markdown",
      "metadata": {
        "id": "stnxqcVrlCb0"
      },
      "source": [
        "Instead, you can write a *subquery*, basically stitching two SQL calls together:\n",
        "\n",
        "    WITH (<a SQL query>) AS table\n",
        "    SELECT <stuff> FROM table WHERE <conditions>\n",
        "    "
      ]
    },
    {
      "cell_type": "code",
      "execution_count": null,
      "metadata": {
        "id": "VEg3tHxrlCb0"
      },
      "outputs": [],
      "source": [
        "# filtering with rank"
      ]
    },
    {
      "cell_type": "markdown",
      "metadata": {
        "id": "EFn8Nc6IlCb0"
      },
      "source": [
        "## Advanced joins in SQL\n",
        "SQL is more general in specifying the join condition. Whereas in tidyverse it must be a key, in\n",
        "SQL it can be a general logical condition."
      ]
    },
    {
      "cell_type": "markdown",
      "metadata": {
        "id": "lljVoy2-lCb0"
      },
      "source": [
        "## Example\n",
        "What is the closest airport to `DTW`?"
      ]
    },
    {
      "cell_type": "code",
      "execution_count": null,
      "metadata": {
        "id": "kS3POOOSlCb0"
      },
      "outputs": [],
      "source": [
        "# find the nearest neighbor to each airport"
      ]
    },
    {
      "cell_type": "markdown",
      "metadata": {
        "id": "1ozwxqYXlCb0"
      },
      "source": [
        "Let's use this to build a map of every airport's nearest neighbor:"
      ]
    },
    {
      "cell_type": "code",
      "execution_count": null,
      "metadata": {
        "id": "3YvTs6u9lCb0"
      },
      "outputs": [],
      "source": [
        "# compute air_nn, every airport's nearest neighbor\n",
        "\n"
      ]
    },
    {
      "cell_type": "code",
      "execution_count": null,
      "metadata": {
        "scrolled": true,
        "id": "L9raoO2olCb0",
        "outputId": "2121df1b-5f79-4a0d-faee-ca2dbf3c1d95"
      },
      "outputs": [
        {
          "ename": "ERROR",
          "evalue": "Error in filter(., lat < 50, lat > 23): object 'air_nn' not found\n",
          "output_type": "error",
          "traceback": [
            "Error in filter(., lat < 50, lat > 23): object 'air_nn' not found\nTraceback:\n",
            "1. air_nn %>% filter(lat < 50, lat > 23) %>% ggplot",
            "2. ggplot(.)",
            "3. filter(., lat < 50, lat > 23)"
          ]
        }
      ],
      "source": [
        "air_nn  %>% filter(lat < 50, lat > 23) %>%\n",
        "    ggplot + \n",
        "    geom_segment(aes(x = lon, y = lat, xend = lon2, yend = lat2), color=\"blue\") +\n",
        "    geom_point(aes(x = lon, y = lat)) + \n",
        "    coord_quickmap()"
      ]
    },
    {
      "cell_type": "markdown",
      "metadata": {
        "id": "IzTIyjrYlCb1"
      },
      "source": [
        "## Exercise\n",
        "In 1985 a hurricane made landfall on Long Island, NY between JFK Airport and Islip.\n",
        "What was the name of that hurricane?"
      ]
    },
    {
      "cell_type": "code",
      "execution_count": null,
      "metadata": {
        "id": "07Ch02EblCb1",
        "outputId": "49f2a552-bdd9-471c-fd01-4e9927dbb7b5"
      },
      "outputs": [
        {
          "data": {
            "text/plain": [
              "[1] -73.77893"
            ]
          },
          "metadata": {},
          "output_type": "display_data"
        },
        {
          "data": {
            "text/plain": [
              "[1] 40.63975"
            ]
          },
          "metadata": {},
          "output_type": "display_data"
        },
        {
          "data": {
            "text/plain": [
              "  dist      name   year month day hour lat  long  status              category\n",
              "1 0.2817433 Floyd  1999 9     17   0   40.6 -73.5 tropical storm      0       \n",
              "2 0.4805718 Gloria 1985 9     27  16   40.6 -73.3 hurricane           1       \n",
              "3 0.5881268 Chris  1988 8     30   0   41.2 -73.6 tropical depression -1      \n",
              "  wind pressure ts_diameter hu_diameter\n",
              "1 50    980     NA          NA         \n",
              "2 75    961     NA          NA         \n",
              "3 20   1008     NA          NA         "
            ]
          },
          "metadata": {},
          "output_type": "display_data"
        }
      ],
      "source": [
        "jfk <- airports %>% filter(faa == \"JFK\")\n",
        "jfk$lon\n",
        "jfk$lat\n",
        "storms %>% mutate(dist = sqrt((lat -+ jfk$lat)^2 + (long - jfk$lon)^2)) %>% select(dist, everything()) %>%\n",
        "    arrange(dist) %>% slice(1:3)"
      ]
    }
  ],
  "metadata": {
    "celltoolbar": "Slideshow",
    "kernelspec": {
      "display_name": "R",
      "language": "R",
      "name": "ir"
    },
    "language_info": {
      "codemirror_mode": "r",
      "file_extension": ".r",
      "mimetype": "text/x-r-source",
      "name": "R",
      "pygments_lexer": "r",
      "version": "4.2.1"
    },
    "colab": {
      "provenance": []
    }
  },
  "nbformat": 4,
  "nbformat_minor": 0
}