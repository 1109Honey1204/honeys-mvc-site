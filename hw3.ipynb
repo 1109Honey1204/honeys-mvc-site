{
  "cells": [
    {
      "cell_type": "markdown",
      "metadata": {
        "id": "view-in-github",
        "colab_type": "text"
      },
      "source": [
        "<a href=\"https://colab.research.google.com/github/1109Honey1204/honeys-mvc-site/blob/main/hw3.ipynb\" target=\"_parent\"><img src=\"https://colab.research.google.com/assets/colab-badge.svg\" alt=\"Open In Colab\"/></a>"
      ]
    },
    {
      "cell_type": "code",
      "execution_count": null,
      "metadata": {
        "deletable": false,
        "editable": false,
        "id": "4leO5bvzr3ya",
        "nbgrader": {
          "grade": false,
          "grade_id": "cell-1be04a157d86c84b",
          "locked": true,
          "schema_version": 3,
          "solution": false
        },
        "vscode": {
          "languageId": "r"
        },
        "colab": {
          "base_uri": "https://localhost:8080/"
        },
        "outputId": "e5738e7b-8ddf-4ef9-de4e-913ce17ab0cd"
      },
      "outputs": [
        {
          "output_type": "stream",
          "name": "stderr",
          "text": [
            "Installing package into ‘/usr/local/lib/R/site-library’\n",
            "(as ‘lib’ is unspecified)\n",
            "\n",
            "Installing package into ‘/usr/local/lib/R/site-library’\n",
            "(as ‘lib’ is unspecified)\n",
            "\n",
            "Warning message in system(\"timedatectl\", intern = TRUE):\n",
            "“running command 'timedatectl' had status 1”\n",
            "── \u001b[1mAttaching packages\u001b[22m ─────────────────────────────────────── tidyverse 1.3.2 ──\n",
            "\u001b[32m✔\u001b[39m \u001b[34mggplot2\u001b[39m 3.4.0      \u001b[32m✔\u001b[39m \u001b[34mpurrr  \u001b[39m 1.0.1 \n",
            "\u001b[32m✔\u001b[39m \u001b[34mtibble \u001b[39m 3.1.8      \u001b[32m✔\u001b[39m \u001b[34mdplyr  \u001b[39m 1.0.10\n",
            "\u001b[32m✔\u001b[39m \u001b[34mtidyr  \u001b[39m 1.2.1      \u001b[32m✔\u001b[39m \u001b[34mstringr\u001b[39m 1.4.1 \n",
            "\u001b[32m✔\u001b[39m \u001b[34mreadr  \u001b[39m 2.1.3      \u001b[32m✔\u001b[39m \u001b[34mforcats\u001b[39m 0.5.2 \n",
            "── \u001b[1mConflicts\u001b[22m ────────────────────────────────────────── tidyverse_conflicts() ──\n",
            "\u001b[31m✖\u001b[39m \u001b[34mdplyr\u001b[39m::\u001b[32mfilter()\u001b[39m masks \u001b[34mstats\u001b[39m::filter()\n",
            "\u001b[31m✖\u001b[39m \u001b[34mdplyr\u001b[39m::\u001b[32mlag()\u001b[39m    masks \u001b[34mstats\u001b[39m::lag()\n"
          ]
        }
      ],
      "source": [
        "install.packages(\"tidyverse\")\n",
        "install.packages(\"nycflights13\")\n",
        "library(tidyverse)\n",
        "library(nycflights13)\n",
        "options(repr.plot.width=5, repr.plot.height=4)"
      ]
    },
    {
      "cell_type": "markdown",
      "metadata": {
        "deletable": false,
        "editable": false,
        "id": "8qK_sLRrr3yc",
        "nbgrader": {
          "grade": false,
          "grade_id": "cell-281caadd66986182",
          "locked": true,
          "schema_version": 3,
          "solution": false
        },
        "run_control": {
          "frozen": true
        }
      },
      "source": [
        "# STATS 306\n",
        "## Homework 3:  Advanced `dplyr` and tidy data\n",
        "\n",
        "For each problem, enter the R code in the cell marked \"YOUR SOLUTION HERE\"."
      ]
    },
    {
      "cell_type": "markdown",
      "metadata": {
        "deletable": false,
        "editable": false,
        "id": "631zEA_mr3yd",
        "nbgrader": {
          "grade": false,
          "grade_id": "cell-421557d86106e43b",
          "locked": true,
          "schema_version": 3,
          "solution": false
        },
        "run_control": {
          "frozen": true
        }
      },
      "source": [
        "## Problem 1: Why so delayed? (4 points)\n",
        "The following code adds a variable `week` to `flights`, such that `week==1` for the first seven days of the year, `week==2` for days 8-14, etc. (In the second half of the semester we will learn how to work with times and date data using the `lubridate` package.)"
      ]
    },
    {
      "cell_type": "code",
      "execution_count": null,
      "metadata": {
        "id": "1ioDkDK7r3yd",
        "nbgrader": {
          "grade": false,
          "grade_id": "cell-88e1b70275693fee",
          "locked": true,
          "schema_version": 3,
          "solution": false
        },
        "vscode": {
          "languageId": "r"
        }
      },
      "outputs": [],
      "source": [
        "flights_week = mutate(flights, week=lubridate::week(time_hour))"
      ]
    },
    {
      "cell_type": "markdown",
      "metadata": {
        "deletable": false,
        "editable": false,
        "id": "EepM7rgjr3yd",
        "run_control": {
          "frozen": true
        }
      },
      "source": [
        "**(a)** Make a bar plot of the proportion of flights each week whose actual departure time is NOT missing. The x-axis of your plot should contain the weeks of the year, ranging from 1 to 52, and the y-axis of your plot should be a number between 0 and 1 showing the decimal proportion of flights that have a departure time. What sort of plot geometry (line, bar, point, histogram, etc.) do you think is appropriate for this kind of plot? Does anything about this plot jump out at you? What and why? *1 point*"
      ]
    },
    {
      "cell_type": "code",
      "execution_count": null,
      "metadata": {
        "id": "kaVdMK0Zr3yd",
        "vscode": {
          "languageId": "r"
        },
        "colab": {
          "base_uri": "https://localhost:8080/",
          "height": 309
        },
        "outputId": "7e7466c7-e56d-46cb-c8dd-d40748d04873"
      },
      "outputs": [
        {
          "output_type": "stream",
          "name": "stderr",
          "text": [
            "Installing package into ‘/usr/local/lib/R/site-library’\n",
            "(as ‘lib’ is unspecified)\n",
            "\n"
          ]
        },
        {
          "output_type": "display_data",
          "data": {
            "text/plain": [
              "plot without title"
            ],
            "image/png": "[encoded data removed]"
          },
          "metadata": {
            "image/png": {
              "width": 300,
              "height": 240
            }
          }
        }
      ],
      "source": [
        "# Your solution here\n",
        "install.packages(\"dplyr\")\n",
        "library(dplyr)\n",
        "library(ggplot2)\n",
        "flights_week <- flights %>% \n",
        "                mutate(week=lubridate::week(time_hour))\n",
        "week_prop <- flights_week %>% \n",
        "                group_by(week) %>% \n",
        "                summarize(prop_non_miss_dep_time = sum(!is.na(dep_time))/n())\n",
        "ggplot(week_prop, aes(x=week, y=prop_non_miss_dep_time)) + \n",
        "  geom_bar(stat=\"identity\") + \n",
        "  xlab(\"Week of the year\") + \n",
        "  ylab(\"Proportion of flights with non-missing departure time\")\n",
        "\n",
        "\n"
      ]
    },
    {
      "cell_type": "markdown",
      "metadata": {
        "deletable": false,
        "editable": false,
        "id": "O63-jpF8r3ye",
        "run_control": {
          "frozen": true
        }
      },
      "source": [
        "**(b)** For the week with the highest fraction of missing departure times, generate a table which shows the proportion of missing departure times for each day of that week. Your table should have columns `year`, `month`, `day`, and `prop_miss_dep_time`. Sort your table in chronological order and store it in a variable called `table1b`. *1 point*"
      ]
    },
    {
      "cell_type": "code",
      "execution_count": null,
      "metadata": {
        "id": "EzNfTPQgr3ye",
        "vscode": {
          "languageId": "r"
        },
        "colab": {
          "base_uri": "https://localhost:8080/"
        },
        "outputId": "d7ccc917-d69c-4aac-db9c-05929bb054a0"
      },
      "outputs": [
        {
          "output_type": "stream",
          "name": "stderr",
          "text": [
            "\u001b[1m\u001b[22m`summarise()` has grouped output by 'year', 'month'. You can override using the\n",
            "`.groups` argument.\n"
          ]
        },
        {
          "output_type": "stream",
          "name": "stdout",
          "text": [
            "\u001b[90m# A tibble: 7 × 4\u001b[39m\n",
            "\u001b[90m# Groups:   year, month [1]\u001b[39m\n",
            "   year month   day prop_miss_dep_time\n",
            "  \u001b[3m\u001b[90m<int>\u001b[39m\u001b[23m \u001b[3m\u001b[90m<int>\u001b[39m\u001b[23m \u001b[3m\u001b[90m<int>\u001b[39m\u001b[23m              \u001b[3m\u001b[90m<dbl>\u001b[39m\u001b[23m\n",
            "\u001b[90m1\u001b[39m  \u001b[4m2\u001b[24m013     2     5            0.017\u001b[4m9\u001b[24m \n",
            "\u001b[90m2\u001b[39m  \u001b[4m2\u001b[24m013     2     6            0.008\u001b[4m8\u001b[24m\u001b[4m8\u001b[24m\n",
            "\u001b[90m3\u001b[39m  \u001b[4m2\u001b[24m013     2     7            0.004\u001b[4m2\u001b[24m\u001b[4m9\u001b[24m\n",
            "\u001b[90m4\u001b[39m  \u001b[4m2\u001b[24m013     2     8            0.508  \n",
            "\u001b[90m5\u001b[39m  \u001b[4m2\u001b[24m013     2     9            0.575  \n",
            "\u001b[90m6\u001b[39m  \u001b[4m2\u001b[24m013     2    10            0.031\u001b[4m4\u001b[24m \n",
            "\u001b[90m7\u001b[39m  \u001b[4m2\u001b[24m013     2    11            0.078\u001b[4m6\u001b[24m \n"
          ]
        }
      ],
      "source": [
        "# Your solution here\n",
        "table1b<- flights_week %>%\n",
        "  filter(week==6)%>%\n",
        "  group_by(year,month,day)%>%\n",
        "  mutate(new_col=as.integer(is.na(dep_time)))%>%\n",
        "  summarise(prop_miss_dep_time= mean(new_col))\n",
        "print(table1b)"
      ]
    },
    {
      "cell_type": "markdown",
      "metadata": {
        "deletable": false,
        "editable": false,
        "id": "9PDpOEuvr3ye",
        "run_control": {
          "frozen": true
        }
      },
      "source": [
        "**(c)** 2 days in `table1b` should jump out at you. What you're discovering from the data is the [North American Blizzard of 2013](https://en.wikipedia.org/wiki/February_2013_North_American_blizzard). Many flights were cancelled due to extreme weather conditions. Identify the proportion of cancelled flights out of LaGuardia Airport (LGA) during the days that jumped out at you for each airline carrier in descending order. *1 point*"
      ]
    },
    {
      "cell_type": "code",
      "execution_count": null,
      "metadata": {
        "id": "lZsmOBdMr3yf",
        "vscode": {
          "languageId": "r"
        },
        "colab": {
          "base_uri": "https://localhost:8080/",
          "height": 474
        },
        "outputId": "4429262e-1eb2-4819-d610-1cf2a783eec4"
      },
      "outputs": [
        {
          "output_type": "display_data",
          "data": {
            "text/html": [
              "<table class=\"dataframe\">\n",
              "<caption>A tibble: 12 × 2</caption>\n",
              "<thead>\n",
              "\t<tr><th scope=col>carrier</th><th scope=col>prop_miss_dep_time</th></tr>\n",
              "\t<tr><th scope=col>&lt;chr&gt;</th><th scope=col>&lt;dbl&gt;</th></tr>\n",
              "</thead>\n",
              "<tbody>\n",
              "\t<tr><td>YV</td><td>1.0000000</td></tr>\n",
              "\t<tr><td>9E</td><td>0.6666667</td></tr>\n",
              "\t<tr><td>DL</td><td>0.6120690</td></tr>\n",
              "\t<tr><td>MQ</td><td>0.6000000</td></tr>\n",
              "\t<tr><td>UA</td><td>0.5625000</td></tr>\n",
              "\t<tr><td>US</td><td>0.5593220</td></tr>\n",
              "\t<tr><td>FL</td><td>0.5238095</td></tr>\n",
              "\t<tr><td>B6</td><td>0.5000000</td></tr>\n",
              "\t<tr><td>EV</td><td>0.5000000</td></tr>\n",
              "\t<tr><td>F9</td><td>0.5000000</td></tr>\n",
              "\t<tr><td>WN</td><td>0.4444444</td></tr>\n",
              "\t<tr><td>AA</td><td>0.4305556</td></tr>\n",
              "</tbody>\n",
              "</table>\n"
            ],
            "text/markdown": "\nA tibble: 12 × 2\n\n| carrier &lt;chr&gt; | prop_miss_dep_time &lt;dbl&gt; |\n|---|---|\n| YV | 1.0000000 |\n| 9E | 0.6666667 |\n| DL | 0.6120690 |\n| MQ | 0.6000000 |\n| UA | 0.5625000 |\n| US | 0.5593220 |\n| FL | 0.5238095 |\n| B6 | 0.5000000 |\n| EV | 0.5000000 |\n| F9 | 0.5000000 |\n| WN | 0.4444444 |\n| AA | 0.4305556 |\n\n",
            "text/latex": "A tibble: 12 × 2\n\\begin{tabular}{ll}\n carrier & prop\\_miss\\_dep\\_time\\\\\n <chr> & <dbl>\\\\\n\\hline\n\t YV & 1.0000000\\\\\n\t 9E & 0.6666667\\\\\n\t DL & 0.6120690\\\\\n\t MQ & 0.6000000\\\\\n\t UA & 0.5625000\\\\\n\t US & 0.5593220\\\\\n\t FL & 0.5238095\\\\\n\t B6 & 0.5000000\\\\\n\t EV & 0.5000000\\\\\n\t F9 & 0.5000000\\\\\n\t WN & 0.4444444\\\\\n\t AA & 0.4305556\\\\\n\\end{tabular}\n",
            "text/plain": [
              "   carrier prop_miss_dep_time\n",
              "1  YV      1.0000000         \n",
              "2  9E      0.6666667         \n",
              "3  DL      0.6120690         \n",
              "4  MQ      0.6000000         \n",
              "5  UA      0.5625000         \n",
              "6  US      0.5593220         \n",
              "7  FL      0.5238095         \n",
              "8  B6      0.5000000         \n",
              "9  EV      0.5000000         \n",
              "10 F9      0.5000000         \n",
              "11 WN      0.4444444         \n",
              "12 AA      0.4305556         "
            ]
          },
          "metadata": {}
        }
      ],
      "source": [
        "# Your solution here\n",
        "flights_week %>% \n",
        "  filter(origin == \"LGA\", month ==2, (day == 8 | day ==9 ))%>%\n",
        "  mutate(new_proportion = as.integer(is.na(dep_time)))%>%\n",
        "  group_by(carrier) %>% \n",
        "  summarize(prop_miss_dep_time=mean(new_proportion)) %>% \n",
        "  arrange(desc(prop_miss_dep_time))\n"
      ]
    },
    {
      "cell_type": "markdown",
      "metadata": {
        "deletable": false,
        "editable": false,
        "id": "yHugOItnr3yf",
        "run_control": {
          "frozen": true
        }
      },
      "source": [
        "**(d)** In your own words, summarize your findings from the previous exercises. Most importantly, comment on which airlines were the most and least cautious in terms of flight cancellations. Can you think of any reason why this might be? *1 point*\n",
        "\n",
        "It's a common thing for the flight to get delayed or canceled. However, there are certain airlines are more responsive than others. Based on the previoud exercise, I think YV is the most cautious and the AA is the least cautious in terms of flight cancellations. I think it may be related to the number of planes the airline has and the areas to planes often fly to. "
      ]
    },
    {
      "cell_type": "markdown",
      "metadata": {
        "deletable": false,
        "editable": false,
        "id": "pZUVh_a9r3yf",
        "run_control": {
          "frozen": true
        }
      },
      "source": [
        "## Problem 2: Graduate school admissions (4 points)\n",
        "This problem studies a built-in dataset called `UCBAdmissions`. It contains graduate school admissions data from 1973 for six departments at UC Berkeley:"
      ]
    },
    {
      "cell_type": "code",
      "execution_count": null,
      "metadata": {
        "deletable": false,
        "editable": false,
        "id": "Y1n4YDQ8r3yg",
        "vscode": {
          "languageId": "r"
        },
        "colab": {
          "base_uri": "https://localhost:8080/"
        },
        "outputId": "9d24d14c-3227-4f7c-a910-8e3922d852bf"
      },
      "outputs": [
        {
          "output_type": "stream",
          "name": "stdout",
          "text": [
            "\u001b[90m# A tibble: 24 × 4\u001b[39m\n",
            "   Admit    Gender Dept      n\n",
            "   \u001b[3m\u001b[90m<chr>\u001b[39m\u001b[23m    \u001b[3m\u001b[90m<chr>\u001b[39m\u001b[23m  \u001b[3m\u001b[90m<chr>\u001b[39m\u001b[23m \u001b[3m\u001b[90m<dbl>\u001b[39m\u001b[23m\n",
            "\u001b[90m 1\u001b[39m Admitted Male   A       512\n",
            "\u001b[90m 2\u001b[39m Rejected Male   A       313\n",
            "\u001b[90m 3\u001b[39m Admitted Female A        89\n",
            "\u001b[90m 4\u001b[39m Rejected Female A        19\n",
            "\u001b[90m 5\u001b[39m Admitted Male   B       353\n",
            "\u001b[90m 6\u001b[39m Rejected Male   B       207\n",
            "\u001b[90m 7\u001b[39m Admitted Female B        17\n",
            "\u001b[90m 8\u001b[39m Rejected Female B         8\n",
            "\u001b[90m 9\u001b[39m Admitted Male   C       120\n",
            "\u001b[90m10\u001b[39m Rejected Male   C       205\n",
            "\u001b[90m# … with 14 more rows\u001b[39m\n"
          ]
        }
      ],
      "source": [
        "data(UCBAdmissions)\n",
        "ucb <- as_tibble(UCBAdmissions) %>% print\n",
        "view(ucb)\n"
      ]
    },
    {
      "cell_type": "markdown",
      "metadata": {
        "deletable": false,
        "editable": false,
        "id": "1-vvEj5zr3yg",
        "run_control": {
          "frozen": true
        }
      },
      "source": [
        "(For privacy reasons the names of the departments have been changed to `A`, `B`, ... , `F`.)"
      ]
    },
    {
      "cell_type": "markdown",
      "metadata": {
        "deletable": false,
        "editable": false,
        "id": "FW-zL6O4r3yg",
        "run_control": {
          "frozen": true
        }
      },
      "source": [
        "**(a)**\n",
        "Using the tool we learned for summarizing and manipulating tidy data, create a summary table from `ucb` which shows the acceptance rate by gender. Your table should have 5 columns: `Department`, `Gender`, `Admitted`, `Rejected`, and `Proportion Admitted`. Store it in a variable called `table3a`. *1 point*\n",
        "\n",
        "<table>\n",
        "<thead><tr><th scope=\"col\">Department</th><th scope=\"col\">Gender</th><th scope=\"col\">Admitted</th><th scope=\"col\">Rejected</th><th scope=\"col\">Proportion_Admitted</th></tr></thead>\n",
        "<tbody>\n",
        "\t<tr><td>A</td> <td>Female   </td><td> &dash;     </td><td>&dash;     </td><td>&dash;</td></tr>\n",
        "\t<tr><td>A</td> <td>Male   </td><td> &dash;     </td><td>&dash;     </td><td>&dash;</td></tr>\n",
        "\t\t<tr><td>B</td> <td>Female   </td><td> &dash;     </td><td>&dash;     </td><td>&dash;</td></tr>\n",
        "\t\t\t<tr><td>B</td> <td>Male   </td><td> &dash;     </td><td>&dash;     </td><td>&dash;</td></tr>\n",
        "\t\t\t\t<tr><td>C</td> <td>Female   </td><td> &dash;     </td><td>&dash;     </td><td>&dash;</td></tr>\n",
        "\t\t\t\t\t<tr><td>C</td> <td>Male   </td><td> &dash;     </td><td>&dash;     </td><td>&dash;</td></tr>\n",
        "\t\t\t\t\t\t<tr><td>D</td> <td>Female   </td><td> &dash;     </td><td>&dash;     </td><td>&dash;</td></tr>\n",
        "\t\t\t\t\t\t\t<tr><td>D</td> <td>Male   </td><td> &dash;     </td><td>&dash;     </td><td>&dash;</td></tr>\n",
        "\t\t\t\t\t\t\t\t<tr><td>E</td> <td>Female   </td><td> &dash;     </td><td>&dash;     </td><td>&dash;</td></tr> \t<tr><td>E</td> <td>Male   </td><td> &dash;     </td><td>&dash;     </td><td>&dash;</td></tr> \t<tr><td>F</td> <td>Female   </td><td> &dash;     </td><td>&dash;     </td><td>&dash;</td></tr> \t<tr><td>F</td> <td>Male   </td><td> &dash;     </td><td>&dash;     </td><td>&dash;</td></tr>\n",
        "</tbody>\n",
        "</table>\n",
        "\n",
        "(A few entries have been provided for you; your job is to write code that will produce the complete table with no blanks.)"
      ]
    },
    {
      "cell_type": "code",
      "execution_count": null,
      "metadata": {
        "id": "-lcDg4LA8zoc",
        "vscode": {
          "languageId": "r"
        },
        "colab": {
          "base_uri": "https://localhost:8080/"
        },
        "outputId": "76ab10cc-8a5a-4a2a-f1e8-b8e1765a14d6"
      },
      "outputs": [
        {
          "output_type": "stream",
          "name": "stdout",
          "text": [
            "\u001b[90m# A tibble: 12 × 4\u001b[39m\n",
            "   Gender Dept  Admitted Rejected\n",
            "   \u001b[3m\u001b[90m<chr>\u001b[39m\u001b[23m  \u001b[3m\u001b[90m<chr>\u001b[39m\u001b[23m    \u001b[3m\u001b[90m<dbl>\u001b[39m\u001b[23m    \u001b[3m\u001b[90m<dbl>\u001b[39m\u001b[23m\n",
            "\u001b[90m 1\u001b[39m Male   A          512      313\n",
            "\u001b[90m 2\u001b[39m Female A           89       19\n",
            "\u001b[90m 3\u001b[39m Male   B          353      207\n",
            "\u001b[90m 4\u001b[39m Female B           17        8\n",
            "\u001b[90m 5\u001b[39m Male   C          120      205\n",
            "\u001b[90m 6\u001b[39m Female C          202      391\n",
            "\u001b[90m 7\u001b[39m Male   D          138      279\n",
            "\u001b[90m 8\u001b[39m Female D          131      244\n",
            "\u001b[90m 9\u001b[39m Male   E           53      138\n",
            "\u001b[90m10\u001b[39m Female E           94      299\n",
            "\u001b[90m11\u001b[39m Male   F           22      351\n",
            "\u001b[90m12\u001b[39m Female F           24      317\n",
            "   Department Gender Admitted Rejected Proportion_Admitted\n",
            "1           A   Male      512      313          0.62060606\n",
            "2           A Female       89       19          0.82407407\n",
            "3           B   Male      353      207          0.63035714\n",
            "4           B Female       17        8          0.68000000\n",
            "5           C   Male      120      205          0.36923077\n",
            "6           C Female      202      391          0.34064081\n",
            "7           D   Male      138      279          0.33093525\n",
            "8           D Female      131      244          0.34933333\n",
            "9           E   Male       53      138          0.27748691\n",
            "10          E Female       94      299          0.23918575\n",
            "11          F   Male       22      351          0.05898123\n",
            "12          F Female       24      317          0.07038123\n"
          ]
        }
      ],
      "source": [
        "# Your solution here\n",
        "ucb_new<- ucb%>%\n",
        "  pivot_wider(names_from =Admit, values_from=n)\n",
        "print(ucb_new)\n",
        "table3a<-data.frame(Department=ucb_new$Dept,Gender=ucb_new$Gender,Admitted=ucb_new$Admitted, Rejected=ucb_new$Rejected)\n",
        "table3a$Proportion_Admitted<- table3a$Admitted/(table3a$Admitted+table3a$Rejected)\n",
        "print(table3a)"
      ]
    },
    {
      "cell_type": "markdown",
      "metadata": {
        "deletable": false,
        "editable": false,
        "id": "nLmq3MuWr3yg",
        "run_control": {
          "frozen": true
        }
      },
      "source": [
        "**(b)**\n",
        "In STATS 250 you [learned](https://www.youtube.com/watch?v=6gfMhsWmnwk) how to test for differences in proportions between two populations. Apply this to part (a) `table3a`. Was the overall proportion of men admitted statistically different from that of women? Perform an appropriate test and interpret your findings. What do these result suggest about admissions practices at UC Berkeley in the early 1970s? *1 point*\n",
        "\n",
        "(Hint: use the `prop.test()` function.)"
      ]
    },
    {
      "cell_type": "code",
      "execution_count": null,
      "metadata": {
        "id": "saP5JKhjen2O",
        "vscode": {
          "languageId": "r"
        },
        "colab": {
          "base_uri": "https://localhost:8080/",
          "height": 310
        },
        "outputId": "f73aee6c-6a9b-4795-f114-884c566af1cc"
      },
      "outputs": [
        {
          "output_type": "display_data",
          "data": {
            "text/html": [
              "<table class=\"dataframe\">\n",
              "<caption>A tibble: 2 × 3</caption>\n",
              "<thead>\n",
              "\t<tr><th scope=col>Gender</th><th scope=col>admitted</th><th scope=col>total</th></tr>\n",
              "\t<tr><th scope=col>&lt;chr&gt;</th><th scope=col>&lt;dbl&gt;</th><th scope=col>&lt;dbl&gt;</th></tr>\n",
              "</thead>\n",
              "<tbody>\n",
              "\t<tr><td>Female</td><td> 557</td><td>1835</td></tr>\n",
              "\t<tr><td>Male  </td><td>1198</td><td>2691</td></tr>\n",
              "</tbody>\n",
              "</table>\n"
            ],
            "text/markdown": "\nA tibble: 2 × 3\n\n| Gender &lt;chr&gt; | admitted &lt;dbl&gt; | total &lt;dbl&gt; |\n|---|---|---|\n| Female |  557 | 1835 |\n| Male   | 1198 | 2691 |\n\n",
            "text/latex": "A tibble: 2 × 3\n\\begin{tabular}{lll}\n Gender & admitted & total\\\\\n <chr> & <dbl> & <dbl>\\\\\n\\hline\n\t Female &  557 & 1835\\\\\n\t Male   & 1198 & 2691\\\\\n\\end{tabular}\n",
            "text/plain": [
              "  Gender admitted total\n",
              "1 Female  557     1835 \n",
              "2 Male   1198     2691 "
            ]
          },
          "metadata": {}
        },
        {
          "output_type": "error",
          "ename": "ERROR",
          "evalue": "ignored",
          "traceback": [
            "Error in is.table(x): object 'female.admitted' not found\nTraceback:\n",
            "1. prop.test(x = c(female.admitted, male.admitted), n = c(sum(female), \n .     sum(male)))",
            "2. is.table(x)"
          ]
        }
      ],
      "source": [
        "# You solution here\n",
        "table3a %>%\n",
        " group_by(Gender) %>%\n",
        " summarize(\n",
        " admitted = sum(Admitted),\n",
        " total = sum(Admitted+Rejected)\n",
        " )\n",
        "prop.test(x =c(female.admitted, male.admitted), n = c(sum(female), sum(male)))\n",
        "#These results suggest that there were differences in admissions practices at UC Berkeley in the early 1970s, with men having a higher proportion of admissions than women. \n",
        "#However, we should be careful in interpreting these results as it is not clear if these differences are due to bias or discrimination\n",
        "#or if there are other factors that explain the difference in admission rates, such as differences in qualifications or application numbers."
      ]
    },
    {
      "cell_type": "markdown",
      "metadata": {
        "deletable": false,
        "editable": false,
        "id": "MqYcugDnr3yg",
        "run_control": {
          "frozen": true
        }
      },
      "source": [
        "**(c)**\n",
        "Reproduce the table from Problem 1, but now stratify by department. \n",
        "Compute the male and female acceptance proportion for each department separately. *1 point*\n",
        "\n",
        "Your resulting table should look like:\n",
        "\n",
        "\n",
        "<table>\n",
        "<thead><tr><th scope=\"col\">Dept</th><th scope=\"col\">Female_Admitted</th><th scope=\"col\">Female_Rejected</th><th scope=\"col\">Male_Admitted</th><th scope=\"col\">Male_Rejected</th><th scope=\"col\">Male_Proportion_Admitted</th><th scope=\"col\">Female_Proportion_Admitted</th></tr></thead>\n",
        "<tbody>\n",
        "\t<tr><td>A         </td><td> 89      </td><td> &dash;       </td><td>&dash;       </td><td>&dash;       </td><td>&dash;</td><td>&dash;</td></tr>\n",
        "\t<tr><td>B         </td><td> &dash;       </td><td>  &dash;       </td><td>353</td><td>&dash;       </td><td>&dash;</td><td>&dash;</td></tr>\n",
        "\t<tr><td>C         </td><td> &dash;       </td><td>  391\t     </td><td>&dash;</td><td>&dash;       </td><td>&dash;</td><td>&dash;</td></tr>\n",
        "\t<tr><td>D         </td><td> &dash;       </td><td>  &dash;       </td><td>&dash;</td><td>&dash;       </td><td>0.33093525\t</td><td>&dash;</td></tr>\n",
        "\t<tr><td>E         </td><td> &dash;       </td><td>  &dash;       </td><td>&dash;</td><td>138       </td><td>&dash;</td><td>&dash;</td></tr>\n",
        " \t<tr><td>F         </td><td> &dash;       </td><td>  &dash;       </td><td>&dash;</td><td>&dash;       </td><td>&dash;</td><td>0.07038123</td></tr>\n",
        "\n",
        "</tbody>\n",
        "</table>\n",
        "\n",
        "(Again, a few table entries have been provided to help you check your work, and it is your job to provide code that computes the entire table automatically.)"
      ]
    },
    {
      "cell_type": "code",
      "execution_count": null,
      "metadata": {
        "id": "p7jNvKIS8qvl",
        "vscode": {
          "languageId": "r"
        }
      },
      "outputs": [],
      "source": [
        "# Your solution here\n",
        "\n",
        "table3b <- table3a %>%\n",
        " group_by(table3a$Proportion_Admitted) %>%\n",
        " summarize(\n",
        " admitted = sum(Admitted),\n",
        " total = sum(Admitted+Rejected)\n",
        " )"
      ]
    },
    {
      "cell_type": "markdown",
      "metadata": {
        "deletable": false,
        "editable": false,
        "id": "m2oat3gEr3yg",
        "run_control": {
          "frozen": true
        }
      },
      "source": [
        "**(d)**\n",
        "Do the department-level findings in part (c) agree or disagree with what you concluded in part (b)? Which departments agree with your conclusion in part (b) and which disagree? **Explain with numerical evidence for full credit.** *1 point*"
      ]
    },
    {
      "cell_type": "code",
      "execution_count": null,
      "metadata": {
        "id": "fvFnkPHFjJJ5"
      },
      "outputs": [],
      "source": [
        "# Your solution here\n",
        "#The department-level findings in partc agree with what I concluded in part(b)"
      ]
    },
    {
      "cell_type": "markdown",
      "metadata": {
        "deletable": false,
        "editable": false,
        "id": "Bhxx8GT5r3yh",
        "nbgrader": {
          "grade": false,
          "grade_id": "cell-9ea1f017dd33edff",
          "locked": true,
          "schema_version": 3,
          "solution": false
        },
        "run_control": {
          "frozen": true
        }
      },
      "source": [
        "## Problem 3: Popular Baby Names of the Decade (2 points)\n",
        "Recall from lecture the `babynames` dataset that contains a lot of information about frequency of baby names over time."
      ]
    },
    {
      "cell_type": "code",
      "execution_count": null,
      "metadata": {
        "deletable": false,
        "editable": false,
        "id": "PNuX11rkr3yh",
        "vscode": {
          "languageId": "r"
        },
        "colab": {
          "base_uri": "https://localhost:8080/"
        },
        "outputId": "c054fd73-1467-4009-8eac-9af53a5e36af"
      },
      "outputs": [
        {
          "output_type": "stream",
          "name": "stderr",
          "text": [
            "Installing package into ‘/usr/local/lib/R/site-library’\n",
            "(as ‘lib’ is unspecified)\n",
            "\n"
          ]
        }
      ],
      "source": [
        "install.packages(\"babynames\")\n",
        "library(babynames)"
      ]
    },
    {
      "cell_type": "markdown",
      "metadata": {
        "deletable": false,
        "editable": false,
        "id": "V933LtNUr3yh",
        "run_control": {
          "frozen": true
        }
      },
      "source": [
        "**(a)** Generate a table that has **decade** on the vertical axis, and the most popular male **and** female name of each decade. A decade will be definied by the years ___0 - ___9. So for example, 1880-1889 is a decade followed by 1890-1899, etc. *1 point*\n",
        "\n",
        "Hint: The `cut()` function can be used to \"discretize\" a continuous variable by placing each continuous observation into a bin. For example:"
      ]
    },
    {
      "cell_type": "code",
      "execution_count": null,
      "metadata": {
        "deletable": false,
        "editable": false,
        "id": "wHxSeN0jjJJ6"
      },
      "outputs": [],
      "source": [
        "v = 1:10  # vector of the numbers 1 through 10\n",
        "cut(v, breaks=c(0, 5, 10))"
      ]
    },
    {
      "cell_type": "markdown",
      "metadata": {
        "deletable": false,
        "editable": false,
        "run_control": {
          "frozen": true
        },
        "id": "uKuAd0oYjJJ6"
      },
      "source": [
        "converts the vector $v=(1, \\dots, 10)$ into a *factor* (discrete variable) that has two levels: $(0,5]$ and $(5, 10]$."
      ]
    },
    {
      "cell_type": "code",
      "execution_count": null,
      "metadata": {
        "id": "ABjgFN7UcE_F",
        "vscode": {
          "languageId": "r"
        },
        "colab": {
          "base_uri": "https://localhost:8080/",
          "height": 506
        },
        "outputId": "dca49f34-f45f-4753-f633-13c92d62469f"
      },
      "outputs": [
        {
          "output_type": "display_data",
          "data": {
            "text/html": [
              "<table class=\"dataframe\">\n",
              "<caption>A grouped_df: 13 × 3</caption>\n",
              "<thead>\n",
              "\t<tr><th scope=col>decade</th><th scope=col>F</th><th scope=col>M</th></tr>\n",
              "\t<tr><th scope=col>&lt;fct&gt;</th><th scope=col>&lt;chr&gt;</th><th scope=col>&lt;chr&gt;</th></tr>\n",
              "</thead>\n",
              "<tbody>\n",
              "\t<tr><td>1880</td><td>Mary    </td><td>John   </td></tr>\n",
              "\t<tr><td>1890</td><td>Mary    </td><td>John   </td></tr>\n",
              "\t<tr><td>1900</td><td>Mary    </td><td>John   </td></tr>\n",
              "\t<tr><td>1910</td><td>Mary    </td><td>John   </td></tr>\n",
              "\t<tr><td>1920</td><td>Mary    </td><td>Robert </td></tr>\n",
              "\t<tr><td>1930</td><td>Mary    </td><td>Robert </td></tr>\n",
              "\t<tr><td>1940</td><td>Linda   </td><td>James  </td></tr>\n",
              "\t<tr><td>1950</td><td>Linda   </td><td>James  </td></tr>\n",
              "\t<tr><td>1960</td><td>Lisa    </td><td>Michael</td></tr>\n",
              "\t<tr><td>1970</td><td>Jennifer</td><td>Michael</td></tr>\n",
              "\t<tr><td>1980</td><td>Jennifer</td><td>Michael</td></tr>\n",
              "\t<tr><td>1990</td><td>Ashley  </td><td>Michael</td></tr>\n",
              "\t<tr><td>NA  </td><td>Mary    </td><td>John   </td></tr>\n",
              "</tbody>\n",
              "</table>\n"
            ],
            "text/markdown": "\nA grouped_df: 13 × 3\n\n| decade &lt;fct&gt; | F &lt;chr&gt; | M &lt;chr&gt; |\n|---|---|---|\n| 1880 | Mary     | John    |\n| 1890 | Mary     | John    |\n| 1900 | Mary     | John    |\n| 1910 | Mary     | John    |\n| 1920 | Mary     | Robert  |\n| 1930 | Mary     | Robert  |\n| 1940 | Linda    | James   |\n| 1950 | Linda    | James   |\n| 1960 | Lisa     | Michael |\n| 1970 | Jennifer | Michael |\n| 1980 | Jennifer | Michael |\n| 1990 | Ashley   | Michael |\n| NA   | Mary     | John    |\n\n",
            "text/latex": "A grouped\\_df: 13 × 3\n\\begin{tabular}{lll}\n decade & F & M\\\\\n <fct> & <chr> & <chr>\\\\\n\\hline\n\t 1880 & Mary     & John   \\\\\n\t 1890 & Mary     & John   \\\\\n\t 1900 & Mary     & John   \\\\\n\t 1910 & Mary     & John   \\\\\n\t 1920 & Mary     & Robert \\\\\n\t 1930 & Mary     & Robert \\\\\n\t 1940 & Linda    & James  \\\\\n\t 1950 & Linda    & James  \\\\\n\t 1960 & Lisa     & Michael\\\\\n\t 1970 & Jennifer & Michael\\\\\n\t 1980 & Jennifer & Michael\\\\\n\t 1990 & Ashley   & Michael\\\\\n\t NA   & Mary     & John   \\\\\n\\end{tabular}\n",
            "text/plain": [
              "   decade F        M      \n",
              "1  1880   Mary     John   \n",
              "2  1890   Mary     John   \n",
              "3  1900   Mary     John   \n",
              "4  1910   Mary     John   \n",
              "5  1920   Mary     Robert \n",
              "6  1930   Mary     Robert \n",
              "7  1940   Linda    James  \n",
              "8  1950   Linda    James  \n",
              "9  1960   Lisa     Michael\n",
              "10 1970   Jennifer Michael\n",
              "11 1980   Jennifer Michael\n",
              "12 1990   Ashley   Michael\n",
              "13 NA     Mary     John   "
            ]
          },
          "metadata": {}
        }
      ],
      "source": [
        "# Your solution here\n",
        "\n",
        "data(babynames)\n",
        "\n",
        "babynames$decade <- cut(babynames$year, breaks = seq(1880, 2000, 10), labels = seq(1880, 1990, 10))\n",
        "\n",
        "table <- babynames %>% group_by(decade, sex) %>%\n",
        "  filter(prop == max(prop)) %>%\n",
        "  select(decade, name, sex) %>%\n",
        "  spread(sex, name)\n",
        "table"
      ]
    },
    {
      "cell_type": "markdown",
      "metadata": {
        "id": "eN-86xfOr3yh"
      },
      "source": [
        "**(b)** Do any names appear more than once? Write code that converts the table from part (a) into a dataframe with all the names that show up more than once. **Manual answers will not receive credit. Your code should automatically convert the table to a new one showing the duplicated names.** *1 point*"
      ]
    },
    {
      "cell_type": "code",
      "execution_count": null,
      "metadata": {
        "id": "-UQqqY-7cIPc",
        "vscode": {
          "languageId": "r"
        },
        "colab": {
          "base_uri": "https://localhost:8080/",
          "height": 791
        },
        "outputId": "7e942625-9594-461c-ee71-c0029f3f9c50"
      },
      "outputs": [
        {
          "output_type": "stream",
          "name": "stderr",
          "text": [
            "\u001b[1m\u001b[22m`summarise()` has grouped output by 'decade'. You can override using the\n",
            "`.groups` argument.\n"
          ]
        },
        {
          "output_type": "display_data",
          "data": {
            "text/html": [
              "<table class=\"dataframe\">\n",
              "<caption>A grouped_df: 21 × 3</caption>\n",
              "<thead>\n",
              "\t<tr><th scope=col>decade</th><th scope=col>sex</th><th scope=col>most_popular_name</th></tr>\n",
              "\t<tr><th scope=col>&lt;fct&gt;</th><th scope=col>&lt;chr&gt;</th><th scope=col>&lt;chr&gt;</th></tr>\n",
              "</thead>\n",
              "<tbody>\n",
              "\t<tr><td>1880</td><td>F</td><td>Mary    </td></tr>\n",
              "\t<tr><td>1890</td><td>F</td><td>Mary    </td></tr>\n",
              "\t<tr><td>1900</td><td>F</td><td>Mary    </td></tr>\n",
              "\t<tr><td>1910</td><td>F</td><td>Mary    </td></tr>\n",
              "\t<tr><td>1920</td><td>F</td><td>Mary    </td></tr>\n",
              "\t<tr><td>1930</td><td>F</td><td>Mary    </td></tr>\n",
              "\t<tr><td>1940</td><td>F</td><td>Linda   </td></tr>\n",
              "\t<tr><td>1950</td><td>F</td><td>Linda   </td></tr>\n",
              "\t<tr><td>1970</td><td>F</td><td>Jennifer</td></tr>\n",
              "\t<tr><td>1980</td><td>F</td><td>Jennifer</td></tr>\n",
              "\t<tr><td>1880</td><td>M</td><td>John    </td></tr>\n",
              "\t<tr><td>1890</td><td>M</td><td>John    </td></tr>\n",
              "\t<tr><td>1900</td><td>M</td><td>John    </td></tr>\n",
              "\t<tr><td>1910</td><td>M</td><td>John    </td></tr>\n",
              "\t<tr><td>1930</td><td>M</td><td>James   </td></tr>\n",
              "\t<tr><td>1940</td><td>M</td><td>James   </td></tr>\n",
              "\t<tr><td>1950</td><td>M</td><td>Michael </td></tr>\n",
              "\t<tr><td>1960</td><td>M</td><td>Michael </td></tr>\n",
              "\t<tr><td>1970</td><td>M</td><td>Michael </td></tr>\n",
              "\t<tr><td>1980</td><td>M</td><td>Michael </td></tr>\n",
              "\t<tr><td>1990</td><td>M</td><td>Michael </td></tr>\n",
              "</tbody>\n",
              "</table>\n"
            ],
            "text/markdown": "\nA grouped_df: 21 × 3\n\n| decade &lt;fct&gt; | sex &lt;chr&gt; | most_popular_name &lt;chr&gt; |\n|---|---|---|\n| 1880 | F | Mary     |\n| 1890 | F | Mary     |\n| 1900 | F | Mary     |\n| 1910 | F | Mary     |\n| 1920 | F | Mary     |\n| 1930 | F | Mary     |\n| 1940 | F | Linda    |\n| 1950 | F | Linda    |\n| 1970 | F | Jennifer |\n| 1980 | F | Jennifer |\n| 1880 | M | John     |\n| 1890 | M | John     |\n| 1900 | M | John     |\n| 1910 | M | John     |\n| 1930 | M | James    |\n| 1940 | M | James    |\n| 1950 | M | Michael  |\n| 1960 | M | Michael  |\n| 1970 | M | Michael  |\n| 1980 | M | Michael  |\n| 1990 | M | Michael  |\n\n",
            "text/latex": "A grouped\\_df: 21 × 3\n\\begin{tabular}{lll}\n decade & sex & most\\_popular\\_name\\\\\n <fct> & <chr> & <chr>\\\\\n\\hline\n\t 1880 & F & Mary    \\\\\n\t 1890 & F & Mary    \\\\\n\t 1900 & F & Mary    \\\\\n\t 1910 & F & Mary    \\\\\n\t 1920 & F & Mary    \\\\\n\t 1930 & F & Mary    \\\\\n\t 1940 & F & Linda   \\\\\n\t 1950 & F & Linda   \\\\\n\t 1970 & F & Jennifer\\\\\n\t 1980 & F & Jennifer\\\\\n\t 1880 & M & John    \\\\\n\t 1890 & M & John    \\\\\n\t 1900 & M & John    \\\\\n\t 1910 & M & John    \\\\\n\t 1930 & M & James   \\\\\n\t 1940 & M & James   \\\\\n\t 1950 & M & Michael \\\\\n\t 1960 & M & Michael \\\\\n\t 1970 & M & Michael \\\\\n\t 1980 & M & Michael \\\\\n\t 1990 & M & Michael \\\\\n\\end{tabular}\n",
            "text/plain": [
              "   decade sex most_popular_name\n",
              "1  1880   F   Mary             \n",
              "2  1890   F   Mary             \n",
              "3  1900   F   Mary             \n",
              "4  1910   F   Mary             \n",
              "5  1920   F   Mary             \n",
              "6  1930   F   Mary             \n",
              "7  1940   F   Linda            \n",
              "8  1950   F   Linda            \n",
              "9  1970   F   Jennifer         \n",
              "10 1980   F   Jennifer         \n",
              "11 1880   M   John             \n",
              "12 1890   M   John             \n",
              "13 1900   M   John             \n",
              "14 1910   M   John             \n",
              "15 1930   M   James            \n",
              "16 1940   M   James            \n",
              "17 1950   M   Michael          \n",
              "18 1960   M   Michael          \n",
              "19 1970   M   Michael          \n",
              "20 1980   M   Michael          \n",
              "21 1990   M   Michael          "
            ]
          },
          "metadata": {}
        }
      ],
      "source": [
        "# Your solution here\n",
        "library(dplyr)\n",
        "#babynames %>% \n",
        "  #group_by(decade,sex) %>% \n",
        "  #summarise(most_popular_name= name[which.max(n)])\n",
        "babynames %>% \n",
        "  group_by(decade = cut(year, breaks = seq(1880, 2000, 10), labels = seq(1880, 1990, 10)), sex) %>% \n",
        "  summarise(most_popular_name = name[which.max(n)]) %>% \n",
        "  spread(sex, most_popular_name) %>% \n",
        "  gather(sex, most_popular_name, -decade) %>% \n",
        "  group_by(most_popular_name) %>% \n",
        "  filter(n() > 1)"
      ]
    }
  ],
  "metadata": {
    "celltoolbar": "Create Assignment",
    "colab": {
      "provenance": [],
      "include_colab_link": true
    },
    "kernelspec": {
      "display_name": "R",
      "language": "R",
      "name": "ir"
    },
    "language_info": {
      "codemirror_mode": "r",
      "file_extension": ".r",
      "mimetype": "text/x-r-source",
      "name": "R",
      "pygments_lexer": "r",
      "version": "4.2.1"
    }
  },
  "nbformat": 4,
  "nbformat_minor": 0
}