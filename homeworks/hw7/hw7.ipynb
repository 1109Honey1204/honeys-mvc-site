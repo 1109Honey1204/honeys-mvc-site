{
  "cells": [
    {
      "cell_type": "code",
      "execution_count": null,
      "metadata": {
        "deletable": false,
        "editable": false,
        "id": "1SPCENz_KDM-",
        "nbgrader": {
          "grade": false,
          "grade_id": "cell-d1761bfdb43c7ec3",
          "locked": true,
          "schema_version": 3,
          "solution": false
        },
        "vscode": {
          "languageId": "r"
        }
      },
      "outputs": [],
      "source": [
        "install.packages(\"tidyverse\")\n",
        "remotes::install_github(\"bradleyboehmke/harrypotter\")\n",
        "install.packages(\"tidytext\")\n",
        "library(tidyverse)\n",
        "library(stringr)\n",
        "options(jupyter.rich_display=T)\n",
        "library(harrypotter)\n",
        "library(tidytext)\n",
        "options(repr.plot.width=4, repr.plot.height=3)"
      ]
    },
    {
      "cell_type": "markdown",
      "metadata": {
        "deletable": false,
        "editable": false,
        "id": "i8VBJe1DLrKG",
        "run_control": {
          "frozen": true
        }
      },
      "source": [
        "# STATS 306\n",
        "## Homework 7: Text Analysis\n",
        "\n",
        "For each problem, enter the R code in the cell marked \"YOUR SOLUTION HERE\"."
      ]
    },
    {
      "cell_type": "markdown",
      "metadata": {
        "deletable": false,
        "editable": false,
        "id": "Yp7WT7I1KDNF",
        "nbgrader": {
          "grade": false,
          "grade_id": "cell-2be6421ceea97f78",
          "locked": true,
          "schema_version": 3,
          "solution": false,
          "task": false
        },
        "run_control": {
          "frozen": true
        }
      },
      "source": [
        "## Problem 1: Sentiment Analysis (4 points)\n",
        "\n",
        "In problem 1 we will perform *sentiment analysis* of the Harry Potter books. The file `afinn.RData` contains a sentiment score for a large number of words in the English language:"
      ]
    },
    {
      "cell_type": "code",
      "execution_count": 65,
      "metadata": {
        "colab": {
          "base_uri": "https://localhost:8080/",
          "height": 286
        },
        "deletable": false,
        "editable": false,
        "id": "rVaiwyOLKDNE",
        "nbgrader": {
          "grade": false,
          "grade_id": "cell-a0b1b3db5aa2f68d",
          "locked": true,
          "schema_version": 3,
          "solution": false,
          "task": false
        },
        "outputId": "335e2a46-c391-41cd-d31a-af039951b547",
        "vscode": {
          "languageId": "r"
        }
      },
      "outputs": [
        {
          "output_type": "display_data",
          "data": {
            "text/html": [
              "<table class=\"dataframe\">\n",
              "<caption>A tibble: 6 × 2</caption>\n",
              "<thead>\n",
              "\t<tr><th scope=col>word</th><th scope=col>value</th></tr>\n",
              "\t<tr><th scope=col>&lt;chr&gt;</th><th scope=col>&lt;dbl&gt;</th></tr>\n",
              "</thead>\n",
              "<tbody>\n",
              "\t<tr><td>abandon   </td><td>-2</td></tr>\n",
              "\t<tr><td>abandoned </td><td>-2</td></tr>\n",
              "\t<tr><td>abandons  </td><td>-2</td></tr>\n",
              "\t<tr><td>abducted  </td><td>-2</td></tr>\n",
              "\t<tr><td>abduction </td><td>-2</td></tr>\n",
              "\t<tr><td>abductions</td><td>-2</td></tr>\n",
              "</tbody>\n",
              "</table>\n"
            ],
            "text/markdown": "\nA tibble: 6 × 2\n\n| word &lt;chr&gt; | value &lt;dbl&gt; |\n|---|---|\n| abandon    | -2 |\n| abandoned  | -2 |\n| abandons   | -2 |\n| abducted   | -2 |\n| abduction  | -2 |\n| abductions | -2 |\n\n",
            "text/latex": "A tibble: 6 × 2\n\\begin{tabular}{ll}\n word & value\\\\\n <chr> & <dbl>\\\\\n\\hline\n\t abandon    & -2\\\\\n\t abandoned  & -2\\\\\n\t abandons   & -2\\\\\n\t abducted   & -2\\\\\n\t abduction  & -2\\\\\n\t abductions & -2\\\\\n\\end{tabular}\n",
            "text/plain": [
              "  word       value\n",
              "1 abandon    -2   \n",
              "2 abandoned  -2   \n",
              "3 abandons   -2   \n",
              "4 abducted   -2   \n",
              "5 abduction  -2   \n",
              "6 abductions -2   "
            ]
          },
          "metadata": {}
        }
      ],
      "source": [
        "load(url(\"https://datasets.stats306.org/afinn.RData\"))\n",
        "head(afinn)"
      ]
    },
    {
      "cell_type": "markdown",
      "metadata": {
        "deletable": false,
        "editable": false,
        "id": "eQZaf91hKDNE",
        "nbgrader": {
          "grade": false,
          "grade_id": "cell-fd453d3925b1ec23",
          "locked": true,
          "schema_version": 3,
          "solution": false,
          "task": false
        },
        "run_control": {
          "frozen": true
        }
      },
      "source": [
        "Negatively connoted words receive low scores, while positively connoted words receive high scores:"
      ]
    },
    {
      "cell_type": "code",
      "execution_count": 66,
      "metadata": {
        "colab": {
          "base_uri": "https://localhost:8080/",
          "height": 178
        },
        "deletable": false,
        "editable": false,
        "id": "GIRs7RepKDNF",
        "nbgrader": {
          "grade": false,
          "grade_id": "cell-727f2c40cd76f830",
          "locked": true,
          "schema_version": 3,
          "solution": false,
          "task": false
        },
        "outputId": "a60b8b6e-dd5f-4d28-f66f-ed7988706475",
        "vscode": {
          "languageId": "r"
        }
      },
      "outputs": [
        {
          "output_type": "display_data",
          "data": {
            "text/html": [
              "<table class=\"dataframe\">\n",
              "<caption>A spec_tbl_df: 2 × 2</caption>\n",
              "<thead>\n",
              "\t<tr><th scope=col>word</th><th scope=col>value</th></tr>\n",
              "\t<tr><th scope=col>&lt;chr&gt;</th><th scope=col>&lt;dbl&gt;</th></tr>\n",
              "</thead>\n",
              "<tbody>\n",
              "\t<tr><td>death </td><td>-2</td></tr>\n",
              "\t<tr><td>hurrah</td><td> 5</td></tr>\n",
              "</tbody>\n",
              "</table>\n"
            ],
            "text/markdown": "\nA spec_tbl_df: 2 × 2\n\n| word &lt;chr&gt; | value &lt;dbl&gt; |\n|---|---|\n| death  | -2 |\n| hurrah |  5 |\n\n",
            "text/latex": "A spec\\_tbl\\_df: 2 × 2\n\\begin{tabular}{ll}\n word & value\\\\\n <chr> & <dbl>\\\\\n\\hline\n\t death  & -2\\\\\n\t hurrah &  5\\\\\n\\end{tabular}\n",
            "text/plain": [
              "  word   value\n",
              "1 death  -2   \n",
              "2 hurrah  5   "
            ]
          },
          "metadata": {}
        }
      ],
      "source": [
        "filter(afinn, word %in% c(\"death\", \"hurrah\"))"
      ]
    },
    {
      "cell_type": "markdown",
      "metadata": {
        "deletable": false,
        "editable": false,
        "id": "bnxGYxYuN0Va",
        "run_control": {
          "frozen": true
        }
      },
      "source": [
        "The `tidytext::unnest_tokens()` function can be used to break a chunk of text into \"tokens\" (words, sentences, etc.) It works as follows. Consider the following tibble, which contains all 17 chapters of the first book in the Harry Potter series:"
      ]
    },
    {
      "cell_type": "code",
      "execution_count": 67,
      "metadata": {
        "colab": {
          "base_uri": "https://localhost:8080/"
        },
        "deletable": false,
        "editable": false,
        "id": "afSFdPizKDNG",
        "nbgrader": {
          "grade": false,
          "grade_id": "cell-5720923eadb15f71",
          "locked": true,
          "schema_version": 3,
          "solution": false,
          "task": false
        },
        "outputId": "14fd404f-0884-4dd8-b6d0-2a0dc290844e",
        "vscode": {
          "languageId": "r"
        }
      },
      "outputs": [
        {
          "output_type": "stream",
          "name": "stdout",
          "text": [
            "\u001b[90m# A tibble: 17 × 2\u001b[39m\n",
            "   chapter text                                                                 \n",
            "     \u001b[3m\u001b[90m<int>\u001b[39m\u001b[23m \u001b[3m\u001b[90m<chr>\u001b[39m\u001b[23m                                                                \n",
            "\u001b[90m 1\u001b[39m       1 \u001b[90m\"\u001b[39mTHE BOY WHO LIVED　　Mr. and Mrs. Dursley, of number four, Privet D…\n",
            "\u001b[90m 2\u001b[39m       2 \u001b[90m\"\u001b[39mTHE VANISHING GLASS　　Nearly ten years had passed since the Dursle…\n",
            "\u001b[90m 3\u001b[39m       3 \u001b[90m\"\u001b[39mTHE LETTERS FROM NO ONE　　The escape of the Brazilian boa constric…\n",
            "\u001b[90m 4\u001b[39m       4 \u001b[90m\"\u001b[39mTHE KEEPER OF THE KEYS　　BOOM. They knocked again. Dudley jerked a…\n",
            "\u001b[90m 5\u001b[39m       5 \u001b[90m\"\u001b[39mDIAGON ALLEY　　Harry woke early the next morning. Although he coul…\n",
            "\u001b[90m 6\u001b[39m       6 \u001b[90m\"\u001b[39mTHE JOURNEY FROM PLATFORM NINE AND THREE-QUARTERS　　Harry's last m…\n",
            "\u001b[90m 7\u001b[39m       7 \u001b[90m\"\u001b[39mTHE SORTING HAT　　The door swung open at once. A tall, black-haire…\n",
            "\u001b[90m 8\u001b[39m       8 \u001b[90m\"\u001b[39mTHE POTIONS MASTER　　There, look.\\\"　　\\\"Where?\\\"　　\\\"Next to the…\n",
            "\u001b[90m 9\u001b[39m       9 \u001b[90m\"\u001b[39mTHE MIDNIGHT DUEL　　Harry had never believed he would meet a boy h…\n",
            "\u001b[90m10\u001b[39m      10 \u001b[90m\"\u001b[39mHALLOWEEN　　Malfoy couldn't believe his eyes when he saw that Harr…\n",
            "\u001b[90m11\u001b[39m      11 \u001b[90m\"\u001b[39mQUIDDITCH　　As they entered November, the weather turned very cold…\n",
            "\u001b[90m12\u001b[39m      12 \u001b[90m\"\u001b[39mTHE MIRROR OF ERISED　　Christmas was coming. One morning in mid-De…\n",
            "\u001b[90m13\u001b[39m      13 \u001b[90m\"\u001b[39mNICOLAS FLAMEL　　Dumbledore had convinced Harry not to go looking …\n",
            "\u001b[90m14\u001b[39m      14 \u001b[90m\"\u001b[39mNORBERT THE NORWEGIAN RIDGEBACK　　Quirrell, however, must have bee…\n",
            "\u001b[90m15\u001b[39m      15 \u001b[90m\"\u001b[39mTHE FORIBIDDEN FOREST　　Things couldn't have been worse.　　Filch …\n",
            "\u001b[90m16\u001b[39m      16 \u001b[90m\"\u001b[39mTHROUGH THE TRAPDOOR　　In years to come, Harry would never quite r…\n",
            "\u001b[90m17\u001b[39m      17 \u001b[90m\"\u001b[39mTHE MAN WITH TWO FACES　　It was Quirrell.　　\\\"You!\\\" gasped Harry…\n"
          ]
        }
      ],
      "source": [
        "phil_tbl <- tibble(chapter=seq_along(philosophers_stone), \n",
        "                   text=philosophers_stone) %>% print"
      ]
    },
    {
      "cell_type": "markdown",
      "metadata": {
        "deletable": false,
        "editable": false,
        "id": "dF5BEX6KKDNG",
        "nbgrader": {
          "grade": false,
          "grade_id": "cell-6458005323726b6c",
          "locked": true,
          "schema_version": 3,
          "solution": false,
          "task": false
        },
        "run_control": {
          "frozen": true
        }
      },
      "source": [
        "To perform sentiment analysis, we need to break each chapter into words so that we can join it to the `afinn` table. This is what `unnest_tokens()` does:"
      ]
    },
    {
      "cell_type": "code",
      "execution_count": 68,
      "metadata": {
        "colab": {
          "base_uri": "https://localhost:8080/"
        },
        "deletable": false,
        "editable": false,
        "id": "k5JwDuDhKDNH",
        "nbgrader": {
          "grade": false,
          "grade_id": "cell-d9a1412ce1c67af4",
          "locked": true,
          "schema_version": 3,
          "solution": false,
          "task": false
        },
        "outputId": "94cfa5ab-209d-421f-b15b-3c0a89729942",
        "vscode": {
          "languageId": "r"
        }
      },
      "outputs": [
        {
          "output_type": "stream",
          "name": "stdout",
          "text": [
            "\u001b[90m# A tibble: 77,875 × 2\u001b[39m\n",
            "   chapter word   \n",
            "     \u001b[3m\u001b[90m<int>\u001b[39m\u001b[23m \u001b[3m\u001b[90m<chr>\u001b[39m\u001b[23m  \n",
            "\u001b[90m 1\u001b[39m       1 the    \n",
            "\u001b[90m 2\u001b[39m       1 boy    \n",
            "\u001b[90m 3\u001b[39m       1 who    \n",
            "\u001b[90m 4\u001b[39m       1 lived  \n",
            "\u001b[90m 5\u001b[39m       1 mr     \n",
            "\u001b[90m 6\u001b[39m       1 and    \n",
            "\u001b[90m 7\u001b[39m       1 mrs    \n",
            "\u001b[90m 8\u001b[39m       1 dursley\n",
            "\u001b[90m 9\u001b[39m       1 of     \n",
            "\u001b[90m10\u001b[39m       1 number \n",
            "\u001b[90m# … with 77,865 more rows\u001b[39m\n"
          ]
        }
      ],
      "source": [
        "phil_tok <- unnest_tokens(phil_tbl, input=text, output=word) %>% print"
      ]
    },
    {
      "cell_type": "markdown",
      "metadata": {
        "deletable": false,
        "editable": false,
        "id": "kPM1RnIKKDNH",
        "nbgrader": {
          "grade": false,
          "grade_id": "cell-f434554a9cb77230",
          "locked": true,
          "schema_version": 3,
          "solution": false,
          "task": false
        },
        "run_control": {
          "frozen": true
        }
      },
      "source": [
        "**1(a)** By joining this table to other tables containing text data and summarizing, we can generate scores of how positive or negative the text is. Using the table and `afinn`, we can assign sentiment scores to various portions of text. Generate a plot reflecting how the sentiment changes over 17 chapters of the first book in the Harry Potter series. What conclusion can you draw from the plot? (1 point)"
      ]
    },
    {
      "cell_type": "code",
      "execution_count": 6,
      "metadata": {
        "colab": {
          "base_uri": "https://localhost:8080/",
          "height": 197
        },
        "id": "MnG3nbbBY8ps",
        "outputId": "653a8d56-62be-47e3-c0cc-73459a926542",
        "vscode": {
          "languageId": "r"
        }
      },
      "outputs": [
        {
          "output_type": "display_data",
          "data": {
            "text/plain": [
              "plot without title"
            ],
            "image/png": "[encoded data removed]"
          },
          "metadata": {
            "image/png": {
              "width": 240,
              "height": 180
            }
          }
        }
      ],
      "source": [
        "### YOUR SOLUTION HERE\n",
        "phil_sentiment <- phil_tok %>%\n",
        "  left_join(afinn, by = \"word\") %>%\n",
        "  replace_na(list(value = 0))\n",
        "sentiment_summary <- phil_sentiment %>%\n",
        "  group_by(chapter) %>%\n",
        "  summarize(average_sentiment = mean(value))\n",
        "sentiment_plot <- ggplot(sentiment_summary, aes(x = chapter, y = average_sentiment)) +\n",
        "  geom_line() +\n",
        "  geom_point() +\n",
        "  labs(title = \"sentiment analysis of Harry Potter\",\n",
        "       x = \"chapter\",\n",
        "       y = \"average sentiment score\")\n",
        "print(sentiment_plot)\n",
        "#conclusion from the plot: the setiment changes around different chapters. Chapter 7\n",
        "#has the highest sentiment score and chapter 15 has the lowest sentiment score\n"
      ]
    },
    {
      "cell_type": "markdown",
      "metadata": {
        "deletable": false,
        "editable": false,
        "id": "-YSgb5cqKDNH",
        "nbgrader": {
          "grade": false,
          "grade_id": "cell-764bdd8bbd4ec469",
          "locked": true,
          "schema_version": 3,
          "solution": false,
          "task": false
        },
        "run_control": {
          "frozen": true
        }
      },
      "source": [
        "**1(b)**\n",
        "Some people say that the Harry Potter books became darker (more negative) over time. Use sentiment analysis to investigate this, and report your conclusion here. (1 point)\n",
        "\n",
        "**HINT**: A list of all the Harry Potter books can be obtained by looking at the help page for the `harrypotter` package."
      ]
    },
    {
      "cell_type": "code",
      "execution_count": 7,
      "metadata": {
        "colab": {
          "base_uri": "https://localhost:8080/",
          "height": 197
        },
        "id": "dHoAejNaKDNH",
        "nbgrader": {
          "grade": true,
          "grade_id": "cell-456e0f9282dcf3e0",
          "locked": false,
          "points": 0,
          "schema_version": 3,
          "solution": true,
          "task": false
        },
        "outputId": "ba5701d4-d0f6-4a7c-b456-9e27e86625dc",
        "vscode": {
          "languageId": "r"
        }
      },
      "outputs": [
        {
          "output_type": "display_data",
          "data": {
            "text/plain": [
              "plot without title"
            ],
            "image/png": "[encoded data removed]"
          },
          "metadata": {
            "image/png": {
              "width": 240,
              "height": 180
            }
          }
        }
      ],
      "source": [
        "### YOUR SOLUTION HERE\n",
        "library(harrypotter)\n",
        "book_sentiment <- function(book_text) {\n",
        "  book_tbl <- tibble(text = book_text)\n",
        "  book_tok <- unnest_tokens(book_tbl, input = text, output = word)\n",
        "  book_sentiment <- book_tok %>%\n",
        "    left_join(afinn, by = \"word\") %>%\n",
        "    replace_na(list(value = 0))\n",
        "  average_sentiment <- mean(book_sentiment$value)\n",
        "  return(average_sentiment)}\n",
        "books <- list(\n",
        "  philosophers_stone = philosophers_stone,\n",
        "  chamber_of_secrets = chamber_of_secrets,\n",
        "  prisoner_of_azkaban = prisoner_of_azkaban,\n",
        "  goblet_of_fire = goblet_of_fire,\n",
        "  order_of_the_phoenix = order_of_the_phoenix,\n",
        "  half_blood_prince = half_blood_prince,\n",
        "  deathly_hallows = deathly_hallows)\n",
        "sentiment_scores <- sapply(books, book_sentiment)\n",
        "book_titles <- names(sentiment_scores)\n",
        "book_numbers <- 1:length(book_titles)\n",
        "\n",
        "sentiment_plot <- ggplot(mapping = aes(x = book_numbers, y = sentiment_scores)) +\n",
        "  geom_line() +\n",
        "  geom_point() +\n",
        "  scale_x_continuous(breaks = book_numbers, labels = book_titles) +\n",
        "  labs(title = \"Sentiment Analysis of Harry Potter Books\",\n",
        "       x = \"book\",\n",
        "       y = \"average sentiment score\") +\n",
        "  theme(axis.text.x = element_text(angle = 45, hjust = 1))\n",
        "print(sentiment_plot)\n",
        "#I think this opinion makes sense as the sentiment score are almost always negative \n",
        "#after the first one (except for the six one) and becomes really low at the last one "
      ]
    },
    {
      "cell_type": "markdown",
      "metadata": {
        "deletable": false,
        "editable": false,
        "id": "0mC9u3CgKDNI",
        "nbgrader": {
          "grade": false,
          "grade_id": "cell-0b846c7349b1ca76",
          "locked": true,
          "schema_version": 3,
          "solution": false,
          "task": false
        },
        "run_control": {
          "frozen": true
        }
      },
      "source": [
        "**1(c)** According to the sentiment scores, what are the most negative and positive chapters in any of the Harry Potter books? (1 point)"
      ]
    },
    {
      "cell_type": "code",
      "execution_count": 8,
      "metadata": {
        "colab": {
          "base_uri": "https://localhost:8080/"
        },
        "id": "layiSLfxhQFv",
        "outputId": "aa8dc3bf-0537-453b-e25d-1c74428bf3d6",
        "vscode": {
          "languageId": "r"
        }
      },
      "outputs": [
        {
          "output_type": "stream",
          "name": "stderr",
          "text": [
            "\u001b[1m\u001b[22m`summarise()` has grouped output by 'title'. You can override using the\n",
            "`.groups` argument.\n",
            "\u001b[1m\u001b[22m`summarise()` has grouped output by 'title'. You can override using the\n",
            "`.groups` argument.\n",
            "\u001b[1m\u001b[22m`summarise()` has grouped output by 'title'. You can override using the\n",
            "`.groups` argument.\n",
            "\u001b[1m\u001b[22m`summarise()` has grouped output by 'title'. You can override using the\n",
            "`.groups` argument.\n",
            "\u001b[1m\u001b[22m`summarise()` has grouped output by 'title'. You can override using the\n",
            "`.groups` argument.\n",
            "\u001b[1m\u001b[22m`summarise()` has grouped output by 'title'. You can override using the\n",
            "`.groups` argument.\n",
            "\u001b[1m\u001b[22m`summarise()` has grouped output by 'title'. You can override using the\n",
            "`.groups` argument.\n"
          ]
        },
        {
          "output_type": "stream",
          "name": "stdout",
          "text": [
            "\u001b[90m# A tibble: 1 × 3\u001b[39m\n",
            "\u001b[90m# Groups:   title [1]\u001b[39m\n",
            "  title             chapter average_sentiment\n",
            "  \u001b[3m\u001b[90m<chr>\u001b[39m\u001b[23m               \u001b[3m\u001b[90m<int>\u001b[39m\u001b[23m             \u001b[3m\u001b[90m<dbl>\u001b[39m\u001b[23m\n",
            "\u001b[90m1\u001b[39m half_blood_prince      28           -\u001b[31m0\u001b[39m\u001b[31m.\u001b[39m\u001b[31m0\u001b[39m\u001b[31m64\u001b[4m5\u001b[24m\u001b[39m\n",
            "\u001b[90m# A tibble: 1 × 3\u001b[39m\n",
            "\u001b[90m# Groups:   title [1]\u001b[39m\n",
            "  title             chapter average_sentiment\n",
            "  \u001b[3m\u001b[90m<chr>\u001b[39m\u001b[23m               \u001b[3m\u001b[90m<int>\u001b[39m\u001b[23m             \u001b[3m\u001b[90m<dbl>\u001b[39m\u001b[23m\n",
            "\u001b[90m1\u001b[39m half_blood_prince       9            0.035\u001b[4m7\u001b[24m\n"
          ]
        }
      ],
      "source": [
        "### YOUR SOLUTION HERE\n",
        "book_chapter_sentiment <- function(book_title, book_text) {\n",
        "  book_tbl <- tibble(chapter = seq_along(book_text),\n",
        "                     text = book_text,\n",
        "                     title = book_title)\n",
        "  book_tok <- unnest_tokens(book_tbl, input = text, output = word)\n",
        "  book_sentiment <- book_tok %>%\n",
        "    left_join(afinn, by = \"word\") %>%\n",
        "    replace_na(list(value = 0))\n",
        "  sentiment_summary <- book_sentiment %>%\n",
        "    group_by(title, chapter) %>%\n",
        "    summarize(average_sentiment = mean(value)) \n",
        "  return(sentiment_summary)}\n",
        "  books <- list(\n",
        "  philosophers_stone = philosophers_stone,\n",
        "  chamber_of_secrets = chamber_of_secrets,\n",
        "  prisoner_of_azkaban = prisoner_of_azkaban,\n",
        "  goblet_of_fire = goblet_of_fire,\n",
        "  order_of_the_phoenix = order_of_the_phoenix,\n",
        "  half_blood_prince = half_blood_prince,\n",
        "  deathly_hallows = deathly_hallows)\n",
        "  sentiment_data <- bind_rows(lapply(names(books), function(book_title) {\n",
        "  book_chapter_sentiment(book_title, books[[book_title]])}))\n",
        "most_negative_chapter <- sentiment_data %>% arrange(average_sentiment) %>% head(1)\n",
        "most_positive_chapter <- sentiment_data %>% arrange(desc(average_sentiment)) %>% head(1)\n",
        "print(most_negative_chapter)\n",
        "print(most_positive_chapter)"
      ]
    },
    {
      "cell_type": "markdown",
      "metadata": {
        "deletable": false,
        "editable": false,
        "id": "aqZmeQx9hHVl",
        "run_control": {
          "frozen": true
        }
      },
      "source": [
        "**1(d)** Of the sentences that contain three or more scored words, what is the happiest (most positive)? (1 points)"
      ]
    },
    {
      "cell_type": "code",
      "execution_count": 11,
      "metadata": {
        "colab": {
          "base_uri": "https://localhost:8080/"
        },
        "id": "pY01jzuSKDNJ",
        "nbgrader": {
          "grade": true,
          "grade_id": "cell-d133bf2bdbc6ae66",
          "locked": false,
          "points": 0,
          "schema_version": 3,
          "solution": true,
          "task": false
        },
        "outputId": "3a50a610-5f28-49aa-e1f9-eac99501f7f9",
        "vscode": {
          "languageId": "r"
        }
      },
      "outputs": [
        {
          "output_type": "stream",
          "name": "stdout",
          "text": [
            "[1] \"maniacal laughter was ringing in his ears . . . he was happier than he had been in a very long time . . . jubilant, ecstatic, triumphant . . . a wonderful, wonderful thing had happened . . .\"\n"
          ]
        }
      ],
      "source": [
        "### YOUR SOLUTION HERE\n",
        "all_books_text <- c(philosophers_stone, chamber_of_secrets, prisoner_of_azkaban, \n",
        "                    goblet_of_fire, order_of_the_phoenix, half_blood_prince, \n",
        "                    deathly_hallows)\n",
        "sentences_tbl <- tibble(text = all_books_text) %>%\n",
        "  unnest_tokens(output = sentence, input = text, token = \"sentences\")\n",
        "sentences_tbl <- sentences_tbl %>% mutate(sentence_id = row_number())\n",
        "words_tbl <- unnest_tokens(sentences_tbl, input = sentence, output = word)\n",
        "sentiment_tbl <- words_tbl %>%\n",
        "  left_join(afinn, by = \"word\")\n",
        "scored_sentences <- sentiment_tbl %>%\n",
        "  group_by(sentence_id) %>%\n",
        "  filter(sum(!is.na(value)) >= 3)\n",
        "sentiment_summary <- scored_sentences %>%\n",
        "  summarize(average_sentiment = mean(value, na.rm = TRUE))\n",
        "happiest_sentence_id <- sentiment_summary %>% arrange(desc(average_sentiment)) %>% head(1) %>% pull(sentence_id)\n",
        "happiest_sentence_text <- filter(sentences_tbl, sentence_id == happiest_sentence_id) %>% pull(sentence)\n",
        "print(happiest_sentence_text)"
      ]
    },
    {
      "cell_type": "markdown",
      "metadata": {
        "deletable": false,
        "editable": false,
        "id": "XnnFosC3KDNJ",
        "nbgrader": {
          "grade": false,
          "grade_id": "cell-718c986a9bef0aca",
          "locked": true,
          "schema_version": 3,
          "solution": false
        },
        "run_control": {
          "frozen": true
        }
      },
      "source": [
        "## Problem 2: Reddit dataset (4 points)\n",
        "The file `reddit_xmas_2017.RData` contains 100,000 comments posted to Reddit on Christmas Day, 2017. Unless specified otherwise, all matches are case insensitive."
      ]
    },
    {
      "cell_type": "code",
      "execution_count": 63,
      "metadata": {
        "colab": {
          "base_uri": "https://localhost:8080/"
        },
        "id": "4v6vwcp0KDNJ",
        "nbgrader": {
          "grade": false,
          "grade_id": "cell-1fa7cd0e5989af42",
          "locked": true,
          "schema_version": 3,
          "solution": false
        },
        "outputId": "1fa11276-5168-460c-bb81-3c8f4e399666",
        "vscode": {
          "languageId": "r"
        }
      },
      "outputs": [
        {
          "output_type": "stream",
          "name": "stdout",
          "text": [
            "\u001b[90m# A tibble: 100,000 × 3\u001b[39m\n",
            "   author              body                                  created_utc        \n",
            "   \u001b[3m\u001b[90m<chr>\u001b[39m\u001b[23m               \u001b[3m\u001b[90m<chr>\u001b[39m\u001b[23m                                 \u001b[3m\u001b[90m<dttm>\u001b[39m\u001b[23m             \n",
            "\u001b[90m 1\u001b[39m br_shadow           \u001b[90m\"\u001b[39mThank you for this, there is a pers… 2017-12-25 \u001b[90m15:49:08\u001b[39m\n",
            "\u001b[90m 2\u001b[39m Ksalol              \u001b[90m\"\u001b[39mThey are not to quick actually. It'… 2017-12-25 \u001b[90m17:42:50\u001b[39m\n",
            "\u001b[90m 3\u001b[39m itscool83           \u001b[90m\"\u001b[39mtell her you guys should hang out w… 2017-12-25 \u001b[90m18:54:13\u001b[39m\n",
            "\u001b[90m 4\u001b[39m Glu7enFree          \u001b[90m\"\u001b[39mAutism is a high honor in the tech … 2017-12-25 \u001b[90m07:48:17\u001b[39m\n",
            "\u001b[90m 5\u001b[39m Theotheogreato      \u001b[90m\"\u001b[39mYou thought a cat was your son?! \u001b[90m\"\u001b[39m   2017-12-25 \u001b[90m20:58:08\u001b[39m\n",
            "\u001b[90m 6\u001b[39m Shadrac121          \u001b[90m\"\u001b[39mHopfully she takes wat people say i… 2017-12-25 \u001b[90m22:27:31\u001b[39m\n",
            "\u001b[90m 7\u001b[39m 1fzUjhemoSB1QV7zI7  \u001b[90m\"\u001b[39mSi ce propui sa facem cu toata piel… 2017-12-25 \u001b[90m07:41:31\u001b[39m\n",
            "\u001b[90m 8\u001b[39m MinisterOfEducation \u001b[90m\"\u001b[39mI don't mean to be impolite, but if… 2017-12-25 \u001b[90m19:28:35\u001b[39m\n",
            "\u001b[90m 9\u001b[39m AabidS10            \u001b[90m\"\u001b[39mi dont have a 720p x265 of it, sorr… 2017-12-25 \u001b[90m13:20:32\u001b[39m\n",
            "\u001b[90m10\u001b[39m S3RG10              \u001b[90m\"\u001b[39mI'm dying to try Guatemalan sandals… 2017-12-25 \u001b[90m00:48:46\u001b[39m\n",
            "\u001b[90m# … with 99,990 more rows\u001b[39m\n"
          ]
        }
      ],
      "source": [
        "load(url('https://datasets.stats306.org/reddit_xmas_2017.RData'))\n",
        "reddit %>% print"
      ]
    },
    {
      "cell_type": "markdown",
      "metadata": {
        "id": "YZErB86_KDNK",
        "nbgrader": {
          "grade": false,
          "grade_id": "cell-d055c5ffc0dc61ba",
          "locked": true,
          "schema_version": 3,
          "solution": false
        }
      },
      "source": [
        "Comment 174 wishes everyone a happy holidays:"
      ]
    },
    {
      "cell_type": "code",
      "execution_count": 13,
      "metadata": {
        "colab": {
          "base_uri": "https://localhost:8080/",
          "height": 129
        },
        "id": "fvlU2g-fKDNK",
        "nbgrader": {
          "grade": false,
          "grade_id": "cell-f56b4f43b6f4cafa",
          "locked": true,
          "schema_version": 3,
          "solution": false,
          "task": false
        },
        "outputId": "51de9237-fa6e-4268-9646-43c42d85dbc7",
        "vscode": {
          "languageId": "r"
        }
      },
      "outputs": [
        {
          "output_type": "display_data",
          "data": {
            "text/html": [
              "<table class=\"dataframe\">\n",
              "<caption>A tibble: 1 × 3</caption>\n",
              "<thead>\n",
              "\t<tr><th scope=col>author</th><th scope=col>body</th><th scope=col>created_utc</th></tr>\n",
              "\t<tr><th scope=col>&lt;chr&gt;</th><th scope=col>&lt;chr&gt;</th><th scope=col>&lt;dttm&gt;</th></tr>\n",
              "</thead>\n",
              "<tbody>\n",
              "\t<tr><td>Bareilles</td><td>Thank you. Happy holidays everyone!</td><td>2017-12-25 01:33:50</td></tr>\n",
              "</tbody>\n",
              "</table>\n"
            ],
            "text/markdown": "\nA tibble: 1 × 3\n\n| author &lt;chr&gt; | body &lt;chr&gt; | created_utc &lt;dttm&gt; |\n|---|---|---|\n| Bareilles | Thank you. Happy holidays everyone! | 2017-12-25 01:33:50 |\n\n",
            "text/latex": "A tibble: 1 × 3\n\\begin{tabular}{lll}\n author & body & created\\_utc\\\\\n <chr> & <chr> & <dttm>\\\\\n\\hline\n\t Bareilles & Thank you. Happy holidays everyone! & 2017-12-25 01:33:50\\\\\n\\end{tabular}\n",
            "text/plain": [
              "  author    body                                created_utc        \n",
              "1 Bareilles Thank you. Happy holidays everyone! 2017-12-25 01:33:50"
            ]
          },
          "metadata": {}
        }
      ],
      "source": [
        "reddit %>% slice(174)"
      ]
    },
    {
      "cell_type": "markdown",
      "metadata": {
        "id": "jWuZAcnAKDNK",
        "nbgrader": {
          "grade": false,
          "grade_id": "cell-ce3d459d5d49dde1",
          "locked": true,
          "schema_version": 3,
          "solution": false
        }
      },
      "source": [
        "**2(a)**  What are other people wishing? Count the first occurrence of the string \"Happy `<word>`\" or \"Merry `<word>`\" in the comment body, if any, count the matches. To keep things interesting, do *not* include phrases matching `(happy|merry) (to|with|for|about|and|that|if|i|you|when)`. \n",
        "\n",
        "Print a table containing the top 10 matches; a few of the rows are:\n",
        "\n",
        "<table>\n",
        "<thead>\n",
        "    <tr><th scope=\"col\">greeting</th><th scope=\"col\">n</th></tr>\n",
        "    <tr><th scope=\"col\">&lt;chr&gt;</th><th scope=\"col\">&lt;int&gt;</th></tr>\n",
        "</thead>\n",
        "<tbody>\n",
        "    <tr><td>merry christmas</td><td>2040</td></tr>\n",
        "    <tr><td>happy holidays </td><td> &mdash;</td></tr>\n",
        "    <tr><td>&mdash;        </td><td> &mdash;</td></tr>\n",
        "    <tr><td>&mdash;        </td><td> &mdash;</td></tr>\n",
        "    <tr><td>&mdash;        </td><td> &mdash;</td></tr>\n",
        "    <tr><td>&mdash;        </td><td> &mdash;</td></tr>\n",
        "    <tr><td>&mdash;        </td><td> &mdash;</td></tr>\n",
        "    <tr><td>&mdash;        </td><td> &mdash;</td></tr>\n",
        "    <tr><td>&mdash;        </td><td>   7</td></tr>\n",
        "    <tr><td>happy cakeday  </td><td>   6</td></tr>\n",
        "</tbody>\n",
        "</table>\n",
        "\n",
        "Your numbers may vary slightly depending on how you performed the match."
      ]
    },
    {
      "cell_type": "code",
      "execution_count": 22,
      "metadata": {
        "colab": {
          "base_uri": "https://localhost:8080/"
        },
        "id": "ih_LFXpgKDNL",
        "nbgrader": {
          "grade": true,
          "grade_id": "problem7",
          "locked": false,
          "points": 0,
          "schema_version": 3,
          "solution": true,
          "task": false
        },
        "outputId": "4537c3ed-b4e8-4387-8020-35b549a911b9",
        "vscode": {
          "languageId": "r"
        }
      },
      "outputs": [
        {
          "output_type": "stream",
          "name": "stdout",
          "text": [
            "matches\n",
            "merry christmas  happy holidays        happy to      merry xmas      happy with \n",
            "           1687             465             109              85              58 \n",
            "      happy new       happy and happy christmas      happy cake       happy for \n",
            "             41              40              36              29              24 \n"
          ]
        }
      ],
      "source": [
        "### YOUR SOLUTION HERE\n",
        "pattern <- \"(?i)(?<!happy|merry)\\\\b(?:happy|merry)\\\\s+([a-z]+)\\\\b(?!\\\\s+(to|with|for|about|and|that|if|i|you|when))\"\n",
        "matches <- str_extract_all(tolower(reddit$body), pattern)\n",
        "matches <- unlist(matches)\n",
        "matches <- matches[matches != \"happy\" & matches != \"merry\"]  # Remove matches consisting only of \"happy\" or \"merry\"\n",
        "counts <- table(matches)\n",
        "top_matches <- head(sort(counts, decreasing = TRUE), 10)\n",
        "print(top_matches)"
      ]
    },
    {
      "cell_type": "markdown",
      "metadata": {
        "deletable": false,
        "editable": false,
        "id": "nStN0Jb5KDNL",
        "nbgrader": {
          "grade": false,
          "grade_id": "cell-0868e4922137bd0e",
          "locked": true,
          "schema_version": 3,
          "solution": false
        },
        "run_control": {
          "frozen": true
        }
      },
      "source": [
        "**2(b)** Find the number of times `christmas`or `xmas` mentioned each hour. Similarly, find the number of mentions per hour of `snow` or `flakes`. Draw a plot comparing these two time series. (1 point)"
      ]
    },
    {
      "cell_type": "code",
      "execution_count": 24,
      "metadata": {
        "colab": {
          "base_uri": "https://localhost:8080/",
          "height": 197
        },
        "id": "nuzuglV-KDNL",
        "nbgrader": {
          "grade": true,
          "grade_id": "cell-2eb072f24d1e2cad",
          "locked": false,
          "points": 2,
          "schema_version": 3,
          "solution": true
        },
        "outputId": "aadf5846-5428-4780-810a-d03b0165449d",
        "vscode": {
          "languageId": "r"
        }
      },
      "outputs": [
        {
          "output_type": "display_data",
          "data": {
            "text/plain": [
              "plot without title"
            ],
            "image/png": "[encoded data removed]"
          },
          "metadata": {
            "image/png": {
              "width": 240,
              "height": 180
            }
          }
        }
      ],
      "source": [
        "### YOUR SOLUTION HERE\n",
        "reddit_df <- as.data.frame(reddit)\n",
        "mentions_hourly <- reddit_df %>%\n",
        "  mutate(hour = as.POSIXlt(created_utc)$hour) %>%\n",
        "  group_by(hour) %>%\n",
        "  summarize(christmas_xmas = sum(str_count(tolower(body), \"\\\\b(christmas|xmas)\\\\b\")),\n",
        "            snow_flakes = sum(str_count(tolower(body), \"\\\\b(snow|flakes)\\\\b\")))\n",
        "ggplot(mentions_hourly, aes(hour)) +\n",
        "  geom_line(aes(y = christmas_xmas, color = \"christmas/xmas\")) +\n",
        "  geom_line(aes(y = snow_flakes, color = \"snow/flakes\")) +\n",
        "  scale_color_manual(values = c(\"red\", \"blue\")) +\n",
        "  labs(x = \"hour during the day\", y = \"number of mentions\", color = \"Phrase\") +\n",
        "  ggtitle(\"mentions of christmas/xmas vs. snow/flakes per hour\")"
      ]
    },
    {
      "cell_type": "markdown",
      "metadata": {
        "deletable": false,
        "editable": false,
        "id": "Bl53I2qzKDNM",
        "nbgrader": {
          "grade": false,
          "grade_id": "cell-7674a04533f8934b",
          "locked": true,
          "schema_version": 3,
          "solution": false
        },
        "run_control": {
          "frozen": true
        }
      },
      "source": [
        "**2(c)** On Christmas Day, the word `christmas` occurs 4264 times. What is the next most common word after Christmas, and how many times does it appear? (1 point)"
      ]
    },
    {
      "cell_type": "code",
      "execution_count": 58,
      "metadata": {
        "colab": {
          "base_uri": "https://localhost:8080/",
          "height": 255
        },
        "id": "SceqDZbwKDNM",
        "nbgrader": {
          "grade": true,
          "grade_id": "problem9",
          "locked": false,
          "points": 0,
          "schema_version": 3,
          "solution": true,
          "task": false
        },
        "outputId": "96e05fe8-7f01-43c2-a0ff-9a3919f1106a",
        "vscode": {
          "languageId": "r"
        }
      },
      "outputs": [
        {
          "output_type": "display_data",
          "data": {
            "text/html": [
              "<table class=\"dataframe\">\n",
              "<caption>A tibble: 5 × 2</caption>\n",
              "<thead>\n",
              "\t<tr><th scope=col>word</th><th scope=col>n</th></tr>\n",
              "\t<tr><th scope=col>&lt;chr&gt;</th><th scope=col>&lt;int&gt;</th></tr>\n",
              "</thead>\n",
              "<tbody>\n",
              "\t<tr><td>christmas</td><td>4259</td></tr>\n",
              "\t<tr><td>only     </td><td>4151</td></tr>\n",
              "\t<tr><td>am       </td><td>4017</td></tr>\n",
              "\t<tr><td>then     </td><td>3992</td></tr>\n",
              "\t<tr><td>been     </td><td>3929</td></tr>\n",
              "</tbody>\n",
              "</table>\n"
            ],
            "text/markdown": "\nA tibble: 5 × 2\n\n| word &lt;chr&gt; | n &lt;int&gt; |\n|---|---|\n| christmas | 4259 |\n| only      | 4151 |\n| am        | 4017 |\n| then      | 3992 |\n| been      | 3929 |\n\n",
            "text/latex": "A tibble: 5 × 2\n\\begin{tabular}{ll}\n word & n\\\\\n <chr> & <int>\\\\\n\\hline\n\t christmas & 4259\\\\\n\t only      & 4151\\\\\n\t am        & 4017\\\\\n\t then      & 3992\\\\\n\t been      & 3929\\\\\n\\end{tabular}\n",
            "text/plain": [
              "  word      n   \n",
              "1 christmas 4259\n",
              "2 only      4151\n",
              "3 am        4017\n",
              "4 then      3992\n",
              "5 been      3929"
            ]
          },
          "metadata": {}
        }
      ],
      "source": [
        "### YOUR SOLUTION HERE\n",
        "comments <- str_to_lower(reddit$body)\n",
        "comment_tibble <- tibble (comment = str_to_lower(reddit$body))%>%\n",
        "  unnest_tokens(word,comment)%>%\n",
        "  count(word, sort=TRUE)\n",
        "comment_tibble %>% filter(n<4300)%>% head(5)\n",
        "# The most common word after Christmas is \"only\""
      ]
    },
    {
      "cell_type": "markdown",
      "metadata": {
        "deletable": false,
        "editable": false,
        "id": "lr2DRmGZvcXQ",
        "run_control": {
          "frozen": true
        }
      },
      "source": [
        "**2(d)** Using `afinn` dataset, calculate the average sentiment scores of reddit comments for each hour. When is the most positive time in Christmas Day? (1 point)"
      ]
    },
    {
      "cell_type": "code",
      "execution_count": 70,
      "metadata": {
        "colab": {
          "base_uri": "https://localhost:8080/",
          "height": 292
        },
        "id": "BcjSBHwl0Dtr",
        "outputId": "f0db73a5-c174-4b3e-edba-91fe9fabe27f",
        "vscode": {
          "languageId": "r"
        }
      },
      "outputs": [
        {
          "output_type": "stream",
          "name": "stderr",
          "text": [
            "\n",
            "Attaching package: ‘lubridate’\n",
            "\n",
            "\n",
            "The following objects are masked from ‘package:base’:\n",
            "\n",
            "    date, intersect, setdiff, union\n",
            "\n",
            "\n"
          ]
        },
        {
          "output_type": "display_data",
          "data": {
            "text/html": [
              "<table class=\"dataframe\">\n",
              "<caption>A tibble: 1 × 2</caption>\n",
              "<thead>\n",
              "\t<tr><th scope=col>hour</th><th scope=col>score</th></tr>\n",
              "\t<tr><th scope=col>&lt;int&gt;</th><th scope=col>&lt;dbl&gt;</th></tr>\n",
              "</thead>\n",
              "<tbody>\n",
              "\t<tr><td>4</td><td>0.989179</td></tr>\n",
              "</tbody>\n",
              "</table>\n"
            ],
            "text/markdown": "\nA tibble: 1 × 2\n\n| hour &lt;int&gt; | score &lt;dbl&gt; |\n|---|---|\n| 4 | 0.989179 |\n\n",
            "text/latex": "A tibble: 1 × 2\n\\begin{tabular}{ll}\n hour & score\\\\\n <int> & <dbl>\\\\\n\\hline\n\t 4 & 0.989179\\\\\n\\end{tabular}\n",
            "text/plain": [
              "  hour score   \n",
              "1 4    0.989179"
            ]
          },
          "metadata": {}
        }
      ],
      "source": [
        "load(url(\"https://datasets.stats306.org/afinn.RData\"))\n",
        "library(lubridate)\n",
        "reddit %>%\n",
        "  mutate(hour = hour(created_utc)) %>% \n",
        "  unnest_tokens(word, body) %>%\n",
        "  inner_join(afinn, by=c(\"word\"=\"word\")) %>%\n",
        "  group_by(hour) %>%\n",
        "  summarise(score=mean(value)) %>%\n",
        "  arrange(desc(score)) %>%\n",
        "  head(1)\n",
        "#The most positive time in Christmas Day is 4"
      ]
    },
    {
      "cell_type": "markdown",
      "metadata": {
        "id": "_DTj2_MG0dDA"
      },
      "source": [
        "## Challenge Problem: Text Ranking (2 points)\n",
        "Not all terms/words are equally important, and some carry more information about contents. But how do we measure the importance? One popular method is using TF-IDF (term frequency–inverse document frequency). TF-IDF is a numerical statistic that is intended to reflect how important a word is to a document in a collection. Term Frequency measures the relative frequency of term within document. Inverse Document Frequency measures of how much information the word provides for the collection. \n",
        "\n",
        "We defined TF-IDF as:\n",
        "$$\\text{TF-IDF} = \\operatorname{TF}(t,d) \\times \\operatorname{IDF}(t)$$\n",
        "$$\\operatorname{TF}(t, d) = \\log(1+c(t,d))$$\n",
        "$$\\operatorname{IDF}(t) = 1 + \\log(N/k)$$\n",
        "where $c(t,d)$ is the frequency count of term $t$ in document $d$, $N$ is the total number of documents in the collection, $k$ is the number\n",
        "of documents containing term $t$\n"
      ]
    },
    {
      "cell_type": "markdown",
      "metadata": {
        "deletable": false,
        "editable": false,
        "id": "hZu4hDN843rC",
        "run_control": {
          "frozen": true
        }
      },
      "source": [
        "**(a)** Consider the Harry Potter series as a collection of documents(books), find top 5 words in each book ranked by TF-IDF. Comment on your finding. (1 point) \n",
        "\n",
        "_Hint_: You can either compute this by hand, using the definitions shown above, or employ built-in functions in the `tidytext` package."
      ]
    },
    {
      "cell_type": "code",
      "execution_count": 55,
      "metadata": {
        "colab": {
          "base_uri": "https://localhost:8080/"
        },
        "id": "l6Pl8fTY1jQo",
        "outputId": "beb90e35-a419-4201-a450-8f8f8df99765",
        "vscode": {
          "languageId": "r"
        }
      },
      "outputs": [
        {
          "output_type": "stream",
          "name": "stdout",
          "text": [
            "\u001b[90m# A tibble: 35 × 6\u001b[39m\n",
            "\u001b[90m# Groups:   title [7]\u001b[39m\n",
            "   title              word            n       tf   idf   tf_idf\n",
            "   \u001b[3m\u001b[90m<chr>\u001b[39m\u001b[23m              \u001b[3m\u001b[90m<chr>\u001b[39m\u001b[23m       \u001b[3m\u001b[90m<int>\u001b[39m\u001b[23m    \u001b[3m\u001b[90m<dbl>\u001b[39m\u001b[23m \u001b[3m\u001b[90m<dbl>\u001b[39m\u001b[23m    \u001b[3m\u001b[90m<dbl>\u001b[39m\u001b[23m\n",
            "\u001b[90m 1\u001b[39m chamber_of_secrets lockhart      197 0.002\u001b[4m3\u001b[24m\u001b[4m1\u001b[24m  0.560 0.001\u001b[4m2\u001b[24m\u001b[4m9\u001b[24m \n",
            "\u001b[90m 2\u001b[39m chamber_of_secrets gilderoy       38 0.000\u001b[4m4\u001b[24m\u001b[4m4\u001b[24m\u001b[4m5\u001b[24m 1.25  0.000\u001b[4m5\u001b[24m\u001b[4m5\u001b[24m\u001b[4m7\u001b[24m\n",
            "\u001b[90m 3\u001b[39m chamber_of_secrets dobby         139 0.001\u001b[4m6\u001b[24m\u001b[4m3\u001b[24m  0.336 0.000\u001b[4m5\u001b[24m\u001b[4m4\u001b[24m\u001b[4m8\u001b[24m\n",
            "\u001b[90m 4\u001b[39m chamber_of_secrets myrtle         47 0.000\u001b[4m5\u001b[24m\u001b[4m5\u001b[24m\u001b[4m0\u001b[24m 0.847 0.000\u001b[4m4\u001b[24m\u001b[4m6\u001b[24m\u001b[4m6\u001b[24m\n",
            "\u001b[90m 5\u001b[39m chamber_of_secrets riddle        101 0.001\u001b[4m1\u001b[24m\u001b[4m8\u001b[24m  0.336 0.000\u001b[4m3\u001b[24m\u001b[4m9\u001b[24m\u001b[4m8\u001b[24m\n",
            "\u001b[90m 6\u001b[39m deathly_hallows    c            \u001b[4m1\u001b[24m300 0.006\u001b[4m5\u001b[24m\u001b[4m4\u001b[24m  0.336 0.002\u001b[4m2\u001b[24m\u001b[4m0\u001b[24m \n",
            "\u001b[90m 7\u001b[39m deathly_hallows    xenophilius    79 0.000\u001b[4m3\u001b[24m\u001b[4m9\u001b[24m\u001b[4m7\u001b[24m 1.95  0.000\u001b[4m7\u001b[24m\u001b[4m7\u001b[24m\u001b[4m3\u001b[24m\n",
            "\u001b[90m 8\u001b[39m deathly_hallows    griphook      117 0.000\u001b[4m5\u001b[24m\u001b[4m8\u001b[24m\u001b[4m8\u001b[24m 1.25  0.000\u001b[4m7\u001b[24m\u001b[4m3\u001b[24m\u001b[4m7\u001b[24m\n",
            "\u001b[90m 9\u001b[39m deathly_hallows    hallows        67 0.000\u001b[4m3\u001b[24m\u001b[4m3\u001b[24m\u001b[4m7\u001b[24m 1.95  0.000\u001b[4m6\u001b[24m\u001b[4m5\u001b[24m\u001b[4m5\u001b[24m\n",
            "\u001b[90m10\u001b[39m deathly_hallows    horcrux        93 0.000\u001b[4m4\u001b[24m\u001b[4m6\u001b[24m\u001b[4m8\u001b[24m 1.25  0.000\u001b[4m5\u001b[24m\u001b[4m8\u001b[24m\u001b[4m6\u001b[24m\n",
            "\u001b[90m# … with 25 more rows\u001b[39m\n"
          ]
        }
      ],
      "source": [
        "library(tidyverse)\n",
        "library(tidytext)\n",
        "library(harrypotter)\n",
        "books <- list(\n",
        "  philosophers_stone = philosophers_stone,\n",
        "  chamber_of_secrets = chamber_of_secrets,\n",
        "  prisoner_of_azkaban = prisoner_of_azkaban,\n",
        "  goblet_of_fire = goblet_of_fire,\n",
        "  order_of_the_phoenix = order_of_the_phoenix,\n",
        "  half_blood_prince = half_blood_prince,\n",
        "  deathly_hallows = deathly_hallows)\n",
        "books_tbl <- tibble(\n",
        "  title = names(books),\n",
        "  text = books) %>% unnest(text)\n",
        "words_tbl <- unnest_tokens(books_tbl, input = text, output = word)\n",
        "\n",
        "tf_idf_tbl <- words_tbl %>%\n",
        "  count(title, word) %>%\n",
        "  bind_tf_idf(word, title, n)\n",
        "top_words_per_book <- tf_idf_tbl %>%\n",
        "  group_by(title) %>%\n",
        "  top_n(5, tf_idf) %>%\n",
        "  arrange(title, desc(tf_idf))\n",
        "print(top_words_per_book)"
      ]
    },
    {
      "cell_type": "markdown",
      "metadata": {
        "deletable": false,
        "editable": false,
        "id": "wK3R5ekO50Lj",
        "run_control": {
          "frozen": true
        }
      },
      "source": [
        "**(b)** Stop words are a set of commonly used words in a language like \"the\", \"of\", \"and\", \"to\", \"a\". The `stop_words` table contains a list of such words. If you ignore all the words in `stop_words`, what are the top 10 words (again ranked by TF-IDF) in each Harry Potter book? (1 point)\n",
        "\n",
        "_Hint_: use `anti_join` to exclude words in `stop_words`."
      ]
    },
    {
      "cell_type": "code",
      "execution_count": 56,
      "metadata": {
        "colab": {
          "base_uri": "https://localhost:8080/"
        },
        "id": "_sni-_AHxh0q",
        "outputId": "b166e65b-f404-4b12-a001-d990bf5de400",
        "vscode": {
          "languageId": "r"
        }
      },
      "outputs": [
        {
          "output_type": "stream",
          "name": "stdout",
          "text": [
            "\u001b[90m# A tibble: 35 × 6\u001b[39m\n",
            "\u001b[90m# Groups:   title [7]\u001b[39m\n",
            "   title              word            n       tf   idf  tf_idf\n",
            "   \u001b[3m\u001b[90m<chr>\u001b[39m\u001b[23m              \u001b[3m\u001b[90m<chr>\u001b[39m\u001b[23m       \u001b[3m\u001b[90m<int>\u001b[39m\u001b[23m    \u001b[3m\u001b[90m<dbl>\u001b[39m\u001b[23m \u001b[3m\u001b[90m<dbl>\u001b[39m\u001b[23m   \u001b[3m\u001b[90m<dbl>\u001b[39m\u001b[23m\n",
            "\u001b[90m 1\u001b[39m chamber_of_secrets lockhart      197 0.005\u001b[4m8\u001b[24m\u001b[4m6\u001b[24m  0.560 0.003\u001b[4m2\u001b[24m\u001b[4m8\u001b[24m\n",
            "\u001b[90m 2\u001b[39m chamber_of_secrets gilderoy       38 0.001\u001b[4m1\u001b[24m\u001b[4m3\u001b[24m  1.25  0.001\u001b[4m4\u001b[24m\u001b[4m2\u001b[24m\n",
            "\u001b[90m 3\u001b[39m chamber_of_secrets dobby         139 0.004\u001b[4m1\u001b[24m\u001b[4m3\u001b[24m  0.336 0.001\u001b[4m3\u001b[24m\u001b[4m9\u001b[24m\n",
            "\u001b[90m 4\u001b[39m chamber_of_secrets myrtle         47 0.001\u001b[4m4\u001b[24m\u001b[4m0\u001b[24m  0.847 0.001\u001b[4m1\u001b[24m\u001b[4m8\u001b[24m\n",
            "\u001b[90m 5\u001b[39m chamber_of_secrets riddle        101 0.003\u001b[4m0\u001b[24m\u001b[4m0\u001b[24m  0.336 0.001\u001b[4m0\u001b[24m\u001b[4m1\u001b[24m\n",
            "\u001b[90m 6\u001b[39m deathly_hallows    xenophilius    79 0.001\u001b[4m0\u001b[24m\u001b[4m8\u001b[24m  1.95  0.002\u001b[4m0\u001b[24m\u001b[4m9\u001b[24m\n",
            "\u001b[90m 7\u001b[39m deathly_hallows    griphook      117 0.001\u001b[4m5\u001b[24m\u001b[4m9\u001b[24m  1.25  0.002\u001b[4m0\u001b[24m\u001b[4m0\u001b[24m\n",
            "\u001b[90m 8\u001b[39m deathly_hallows    hallows        67 0.000\u001b[4m9\u001b[24m\u001b[4m1\u001b[24m\u001b[4m3\u001b[24m 1.95  0.001\u001b[4m7\u001b[24m\u001b[4m8\u001b[24m\n",
            "\u001b[90m 9\u001b[39m deathly_hallows    horcrux        93 0.001\u001b[4m2\u001b[24m\u001b[4m7\u001b[24m  1.25  0.001\u001b[4m5\u001b[24m\u001b[4m9\u001b[24m\n",
            "\u001b[90m10\u001b[39m deathly_hallows    luna          120 0.001\u001b[4m6\u001b[24m\u001b[4m3\u001b[24m  0.847 0.001\u001b[4m3\u001b[24m\u001b[4m9\u001b[24m\n",
            "\u001b[90m# … with 25 more rows\u001b[39m\n"
          ]
        }
      ],
      "source": [
        "### YOUR SOLUTION HERE\n",
        "books <- list(\n",
        "  philosophers_stone = philosophers_stone,\n",
        "  chamber_of_secrets = chamber_of_secrets,\n",
        "  prisoner_of_azkaban = prisoner_of_azkaban,\n",
        "  goblet_of_fire = goblet_of_fire,\n",
        "  order_of_the_phoenix = order_of_the_phoenix,\n",
        "  half_blood_prince = half_blood_prince,\n",
        "  deathly_hallows = deathly_hallows)\n",
        "books_tbl <- tibble(\n",
        "  title = names(books),\n",
        "  text = books) %>% unnest(text)\n",
        "words_tbl <- unnest_tokens(books_tbl, input = text, output = word)\n",
        "filtered_words_tbl <- words_tbl %>% \n",
        "  anti_join(stop_words, by = \"word\")\n",
        "tf_idf_tbl <- filtered_words_tbl %>%\n",
        "  count(title, word) %>%\n",
        "  bind_tf_idf(word, title, n)\n",
        "top_words_per_book <- tf_idf_tbl %>%\n",
        "  group_by(title) %>%\n",
        "  top_n(5, tf_idf) %>%\n",
        "  arrange(title, desc(tf_idf))\n",
        "print(top_words_per_book)"
      ]
    }
  ],
  "metadata": {
    "celltoolbar": "Create Assignment",
    "colab": {
      "provenance": []
    },
    "kernelspec": {
      "display_name": "R",
      "language": "R",
      "name": "ir"
    },
    "language_info": {
      "codemirror_mode": "r",
      "file_extension": ".r",
      "mimetype": "text/x-r-source",
      "name": "R",
      "pygments_lexer": "r",
      "version": "4.2.1"
    }
  },
  "nbformat": 4,
  "nbformat_minor": 0
}