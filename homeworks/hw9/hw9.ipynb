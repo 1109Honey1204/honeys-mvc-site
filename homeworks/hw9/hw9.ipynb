{
  "cells": [
    {
      "cell_type": "code",
      "execution_count": 16,
      "metadata": {
        "deletable": false,
        "editable": false,
        "nbgrader": {
          "grade": false,
          "grade_id": "cell-892bf1ae756bcb37",
          "locked": true,
          "schema_version": 3,
          "solution": false
        },
        "scrolled": true,
        "colab": {
          "base_uri": "https://localhost:8080/"
        },
        "id": "71o7i-SOebD1",
        "outputId": "8c10b01a-4e59-444e-9235-bd46131f8428"
      },
      "outputs": [
        {
          "output_type": "stream",
          "name": "stderr",
          "text": [
            "Warning message in system(\"timedatectl\", intern = TRUE):\n",
            "“running command 'timedatectl' had status 1”\n",
            "── \u001b[1mAttaching packages\u001b[22m ─────────────────────────────────────── tidyverse 1.3.1 ──\n",
            "\n",
            "\u001b[32m✔\u001b[39m \u001b[34mggplot2\u001b[39m 3.4.1     \u001b[32m✔\u001b[39m \u001b[34mpurrr  \u001b[39m 1.0.1\n",
            "\u001b[32m✔\u001b[39m \u001b[34mtibble \u001b[39m 3.2.1     \u001b[32m✔\u001b[39m \u001b[34mstringr\u001b[39m 1.4.1\n",
            "\u001b[32m✔\u001b[39m \u001b[34mtidyr  \u001b[39m 1.3.0     \u001b[32m✔\u001b[39m \u001b[34mforcats\u001b[39m 1.0.0\n",
            "\u001b[32m✔\u001b[39m \u001b[34mreadr  \u001b[39m 2.1.4     \n",
            "\n",
            "── \u001b[1mConflicts\u001b[22m ────────────────────────────────────────── tidyverse_conflicts() ──\n",
            "\u001b[31m✖\u001b[39m \u001b[34mdplyr\u001b[39m::\u001b[32mfilter()\u001b[39m masks \u001b[34mstats\u001b[39m::filter()\n",
            "\u001b[31m✖\u001b[39m \u001b[34mdplyr\u001b[39m::\u001b[32mlag()\u001b[39m    masks \u001b[34mstats\u001b[39m::lag()\n",
            "\n"
          ]
        }
      ],
      "source": [
        "library(tidyverse)"
      ]
    },
    {
      "cell_type": "markdown",
      "metadata": {
        "deletable": false,
        "editable": false,
        "nbgrader": {
          "grade": false,
          "grade_id": "cell-f73c39701a1d2ed0",
          "locked": true,
          "schema_version": 3,
          "solution": false
        },
        "run_control": {
          "frozen": true
        },
        "id": "myHlCzk2ebD2"
      },
      "source": [
        "# STATS 306\n",
        "## Homework 9: Functions and regression"
      ]
    },
    {
      "cell_type": "markdown",
      "metadata": {
        "deletable": false,
        "editable": false,
        "nbgrader": {
          "grade": false,
          "grade_id": "cell-37fb95c8db0c1655",
          "locked": true,
          "schema_version": 3,
          "solution": false,
          "task": false
        },
        "run_control": {
          "frozen": true
        },
        "id": "Gt6aLEvTebD2"
      },
      "source": [
        "## Problem 1: Let's make a deal\n",
        "The *Monty Hall Problem* is a famous statistical paradox modeled after the TV game show [Let's Make a Deal](https://www.youtube.com/watch?v=hQpbsD5IueA). The problem goes as follows:\n",
        "    \n",
        "    You are a contestant on a game show, and are shown three doors. Behind one of the doors is a new car, \n",
        "    and behind the other two doors are Ohio State hoodies. Your goal (obviously) is to pick the door with \n",
        "    the new car. You pick a door, say number 1, and the host, who knows what's behind the doors, opens \n",
        "    another door, say No. 3, which is shown to have a hoodie. He then says to you, \"Do you want to \n",
        "    pick door No. 2?\" \n",
        "    \n",
        "    Is it to your advantage to switch your choice?\n",
        "    \n",
        "The correct answer is to switch, always. This caused something of an uproar when it was first noted by a newspaper columnist in the early 1990s.\n",
        "\n",
        "You will demonstrate that this answer is correct by writing functions that simulate playing Let's Make a Deal.\n",
        "\n",
        "To simulate the game, will use the following bit of code:"
      ]
    },
    {
      "cell_type": "code",
      "execution_count": 17,
      "metadata": {
        "deletable": false,
        "editable": false,
        "id": "es6jibK6ebD2"
      },
      "outputs": [],
      "source": [
        "play_lmad <- function(.) {\n",
        "    # function to play let's make a deal. returns TRUE if the contestant wins the new car,\n",
        "    # and FALSE if they get a lame Ohio State hoodie.\n",
        "    \n",
        "    # step 1: randomly place the car behind door 1, 2, or 3\n",
        "    car_door <- place_car()\n",
        "    # step 2: contestant choose a door 1, 2, or 3\n",
        "    first_choice <- pick_door()\n",
        "    # step 3: monty reveals one of the two other doors\n",
        "    other_door <- reveal_other_door(car_door, first_choice)\n",
        "    # step 4: contestant decides whether to switch\n",
        "    switch <- choose_to_switch(first_choice, other_door)\n",
        "    # step 5:\n",
        "    if (switch) {\n",
        "        # if the contestant switched, then they win if their original choice was incorrect\n",
        "        return(first_choice != car_door)\n",
        "    } else {\n",
        "        # if they didn't switch, then they win if their original choice was correct.\n",
        "        return(first_choice == car_door)\n",
        "    }\n",
        "}"
      ]
    },
    {
      "cell_type": "markdown",
      "metadata": {
        "deletable": false,
        "editable": false,
        "nbgrader": {
          "grade": false,
          "grade_id": "cell-5e8a1da9cd69a6b1",
          "locked": true,
          "schema_version": 3,
          "solution": false,
          "task": false
        },
        "run_control": {
          "frozen": true
        },
        "id": "AhigPERNebD3"
      },
      "source": [
        "**1(a)**\n",
        "Write a function `place_car()` which randomly places the car behind door 1-3. (In other words, `place_car()` returns a uniformly distributed random integer between 1 and 3.) This models how the producers set up the show before taping."
      ]
    },
    {
      "cell_type": "code",
      "execution_count": 18,
      "metadata": {
        "nbgrader": {
          "grade": true,
          "grade_id": "cell-efb24b36c6f840eb",
          "locked": false,
          "points": 0,
          "schema_version": 3,
          "solution": true,
          "task": false
        },
        "id": "DxXczwF_ebD3"
      },
      "outputs": [],
      "source": [
        "# YOUR SOLUTION HERE \n",
        "place_car <- function() {\n",
        "  return(sample(1:3, 1))\n",
        "}"
      ]
    },
    {
      "cell_type": "markdown",
      "metadata": {
        "deletable": false,
        "editable": false,
        "nbgrader": {
          "grade": false,
          "grade_id": "cell-f8425b9854ae99c4",
          "locked": true,
          "schema_version": 3,
          "solution": false,
          "task": false
        },
        "run_control": {
          "frozen": true
        },
        "id": "wQxAn8WsebD3"
      },
      "source": [
        "**1(b)**\n",
        "Write a function `pick_door()` which selects a door 1-3, according to whatever strategy you like. This models how the contestant initially picks a door."
      ]
    },
    {
      "cell_type": "code",
      "execution_count": 19,
      "metadata": {
        "nbgrader": {
          "grade": true,
          "grade_id": "cell-f4ff7ba0184c71d9",
          "locked": false,
          "points": 0,
          "schema_version": 3,
          "solution": true,
          "task": false
        },
        "id": "w4sI-LMYebD3"
      },
      "outputs": [],
      "source": [
        "# YOUR SOLUTION HERE \n",
        "pick_door <- function() {\n",
        "  return(sample(1:3, 1))\n",
        "}"
      ]
    },
    {
      "cell_type": "markdown",
      "metadata": {
        "deletable": false,
        "editable": false,
        "nbgrader": {
          "grade": false,
          "grade_id": "cell-5eff1ddf5c777f73",
          "locked": true,
          "schema_version": 3,
          "solution": false,
          "task": false
        },
        "run_control": {
          "frozen": true
        },
        "id": "r31YGR7kebD3"
      },
      "source": [
        "**1(a)** Write a function `reveal_other_door(car_door, chosen_door)` which, given the door hiding the car, as well as the contestant's chosen door (both pieces of information which are known to Monty), names one of the other doors which does not contain the car. For example, if the car is hiding behind door one, and the contestant chooses door two, then `reveal_other_door(1, 2)` would have to return `3`."
      ]
    },
    {
      "cell_type": "code",
      "execution_count": 20,
      "metadata": {
        "nbgrader": {
          "grade": true,
          "grade_id": "cell-a02c88e9c0ef4481",
          "locked": false,
          "points": 0,
          "schema_version": 3,
          "solution": true,
          "task": false
        },
        "id": "vUNUsPqdebD3"
      },
      "outputs": [],
      "source": [
        "# YOUR SOLUTION HERE \n",
        "reveal_other_door <- function(car_door, chosen_door) {\n",
        "  all_doors <- 1:3\n",
        "  remaining_doors <- setdiff(all_doors, chosen_door)\n",
        "  doors_without_car <- setdiff(remaining_doors, car_door)\n",
        "  return(doors_without_car)\n",
        "}"
      ]
    },
    {
      "cell_type": "markdown",
      "metadata": {
        "deletable": false,
        "editable": false,
        "nbgrader": {
          "grade": false,
          "grade_id": "cell-c36c5d47db0678a5",
          "locked": true,
          "schema_version": 3,
          "solution": false,
          "task": false
        },
        "run_control": {
          "frozen": true
        },
        "id": "nFmqorbwebD3"
      },
      "source": [
        "**1(b)**\n",
        "Write a function `choose_to_switch(first_choice, other_door)` which returns `TRUE` if the contestant decides to switch her choice after Monty has revealed the contents of one door. For example, `choose_to_switch(1, 2)` should return `TRUE` if the contestant decides to switch after choosing door one and being shown the contents of door two."
      ]
    },
    {
      "cell_type": "code",
      "execution_count": 21,
      "metadata": {
        "nbgrader": {
          "grade": true,
          "grade_id": "cell-a23cc3b39cfddb02",
          "locked": false,
          "points": 0,
          "schema_version": 3,
          "solution": true,
          "task": false
        },
        "id": "y_2ECRpzebD3"
      },
      "outputs": [],
      "source": [
        "# YOUR SOLUTION HERE \n",
        "choose_to_switch <- function(first_choice, other_door) {\n",
        "  return(TRUE)\n",
        "}"
      ]
    },
    {
      "cell_type": "markdown",
      "metadata": {
        "deletable": false,
        "editable": false,
        "nbgrader": {
          "grade": false,
          "grade_id": "cell-67df237e59e1667b",
          "locked": true,
          "schema_version": 3,
          "solution": false,
          "task": false
        },
        "run_control": {
          "frozen": true
        },
        "id": "xwdvE3qLebD3"
      },
      "source": [
        "**1(c)**\n",
        "Finally, use the `play_lmad()` function defined above to simulate the entire process. By experimenting with various choices for `choose_to_switch()` and repeatedly running `simulate_game()`, show that it is always better to switch when offered the choice. How much better is it?"
      ]
    },
    {
      "cell_type": "code",
      "execution_count": 22,
      "metadata": {
        "colab": {
          "base_uri": "https://localhost:8080/"
        },
        "id": "oInvMHeSebD4",
        "outputId": "985c0ea1-ae96-4062-9371-dbdc29d58e66"
      },
      "outputs": [
        {
          "output_type": "stream",
          "name": "stdout",
          "text": [
            "Rate to win of always_switch 0.665 \n",
            "Rate to win of never_switch 0.327 \n"
          ]
        }
      ],
      "source": [
        "# YOUR SOLUTION HERE \n",
        "choose_to_switch <- function(first_choice, other_door, strategy = \"always_switch\") {\n",
        "  if (strategy == \"always_switch\") {\n",
        "    return(TRUE)\n",
        "  } else if (strategy == \"never_switch\") {\n",
        "    return(FALSE)\n",
        "  } else {\n",
        "    stop(\"Invalid strategy\")\n",
        "  }\n",
        "}\n",
        "play_lmad <- function(strategy) {\n",
        "  car_door <- place_car()\n",
        "  first_choice <- pick_door()\n",
        "  other_door <- reveal_other_door(car_door, first_choice)\n",
        "  switch <- choose_to_switch(first_choice, other_door, strategy)\n",
        "  \n",
        "  if (switch) {\n",
        "    return(first_choice != car_door)\n",
        "  } else {\n",
        "    return(first_choice == car_door)\n",
        "  }\n",
        "}\n",
        "simulate_game <- function(strategy, num_trials = 1000) {\n",
        "  results <- replicate(num_trials, play_lmad(strategy))\n",
        "  win_rate <- mean(results)\n",
        "  return(win_rate)\n",
        "}\n",
        "num_trials <- 1000\n",
        "always_switch_win_rate <- simulate_game(\"always_switch\", num_trials)\n",
        "never_switch_win_rate <- simulate_game(\"never_switch\", num_trials)\n",
        "\n",
        "cat('Rate to win of always_switch', always_switch_win_rate, \"\\n\")\n",
        "cat('Rate to win of never_switch' , never_switch_win_rate, \"\\n\")\n",
        "#Always to switch strategy is 34.4% better than never switch"
      ]
    },
    {
      "cell_type": "markdown",
      "metadata": {
        "deletable": false,
        "editable": false,
        "nbgrader": {
          "grade": false,
          "grade_id": "cell-8a2e07e86f10fb73",
          "locked": true,
          "schema_version": 3,
          "solution": false
        },
        "run_control": {
          "frozen": true
        },
        "id": "Dm_87lQkebD4"
      },
      "source": [
        "## Problem 2: Playing card experiment\n",
        "In this problem, you will use iteration (`for`/`while` loops) to simulate a playing card experiment. The experiment goes as follows. Suppose you are given two standard decks of playing cards (52 cards each, total of 104 cards) and you do the following:\n",
        "1.  Shuffle both decks thoroughly, so that they are randomly ordered.\n",
        "2.  Draw the top card off of each deck.\n",
        "3.  If the two cards exactly match (same suit and rank), award yourself one point; otherwise award yourself no points.\n",
        "4.  Repeat steps two and three for the remaining 51 pairs of cards.\n",
        "Let $X$ be your total score at the end of the experiment.\n",
        "\n",
        "By writing a loop which simulates this experiment, answer the following:"
      ]
    },
    {
      "cell_type": "markdown",
      "metadata": {
        "deletable": false,
        "editable": false,
        "nbgrader": {
          "grade": false,
          "grade_id": "cell-7a89102c744f738f",
          "locked": true,
          "schema_version": 3,
          "solution": false
        },
        "run_control": {
          "frozen": true
        },
        "id": "DRhPG_mhebD4"
      },
      "source": [
        "**2(a)** What the expected value of $X$, i.e. what is $\\mathbb{E}X$?"
      ]
    },
    {
      "cell_type": "code",
      "execution_count": 23,
      "metadata": {
        "nbgrader": {
          "grade": true,
          "grade_id": "cell-dec6fd269c3c69fc",
          "locked": false,
          "points": 0,
          "schema_version": 3,
          "solution": true
        },
        "colab": {
          "base_uri": "https://localhost:8080/"
        },
        "id": "rxxZF1m7ebD4",
        "outputId": "4ef0697b-6013-4ef5-cb55-c6246f59d1e4"
      },
      "outputs": [
        {
          "output_type": "stream",
          "name": "stdout",
          "text": [
            "The expected value of X is: 4.00183"
          ]
        }
      ],
      "source": [
        "# YOUR SOLUTION HERE \n",
        "library(dplyr)\n",
        "simulate_experiment <- function() {\n",
        "  deck <- c(rep(1:13, 4))\n",
        "  deck1 <- sample(deck)\n",
        "  deck2 <- sample(deck)\n",
        "  score <- sum(deck1 == deck2)\n",
        "  return(score)\n",
        "}\n",
        "num_simulations <- 100000\n",
        "results <- replicate(num_simulations, simulate_experiment())\n",
        "expected_value <- mean(results)\n",
        "cat(\"The expected value of X is:\", expected_value)"
      ]
    },
    {
      "cell_type": "markdown",
      "metadata": {
        "deletable": false,
        "editable": false,
        "run_control": {
          "frozen": true
        },
        "id": "daP4eH21ebD4"
      },
      "source": [
        "**2(b)** What is the variance of $X$?"
      ]
    },
    {
      "cell_type": "code",
      "execution_count": 24,
      "metadata": {
        "colab": {
          "base_uri": "https://localhost:8080/"
        },
        "id": "CTLT_nJCebD4",
        "outputId": "ac89752f-c27d-49d2-ffc4-f268b51fc69c"
      },
      "outputs": [
        {
          "output_type": "stream",
          "name": "stdout",
          "text": [
            "The variance of X is: 3.771704"
          ]
        }
      ],
      "source": [
        "# YOUR SOLUTION HERE \n",
        "variance_x <- var(results)\n",
        "cat(\"The variance of X is:\", variance_x)"
      ]
    },
    {
      "cell_type": "markdown",
      "metadata": {
        "deletable": false,
        "editable": false,
        "nbgrader": {
          "grade": false,
          "grade_id": "cell-b34ded43588d46db",
          "locked": true,
          "schema_version": 3,
          "solution": false
        },
        "run_control": {
          "frozen": true
        },
        "id": "ObSJkmJFebD4"
      },
      "source": [
        "**2(c)** What is the probability that $X$ is equal to zero? I.e., what is $\\mathbb{P}(X=0)$? (*Hint*: the probability that $X=0$ roughly equals the fraction of times that this event happened in a large number of simulations.)"
      ]
    },
    {
      "cell_type": "code",
      "execution_count": 25,
      "metadata": {
        "nbgrader": {
          "grade": true,
          "grade_id": "cell-a64a4b9b483aabb5",
          "locked": false,
          "points": 0,
          "schema_version": 3,
          "solution": true
        },
        "colab": {
          "base_uri": "https://localhost:8080/"
        },
        "id": "BbcE-s17ebD4",
        "outputId": "434458b0-4e5f-4496-f703-0ac255603745"
      },
      "outputs": [
        {
          "output_type": "stream",
          "name": "stdout",
          "text": [
            "The probability of X being equal to zero is: 0.01626"
          ]
        }
      ],
      "source": [
        "# YOUR SOLUTION HERE \n",
        "num_zero_scores <- sum(results == 0)\n",
        "probability_x_equals_zero <- num_zero_scores / num_simulations\n",
        "cat(\"The probability of X being equal to zero is:\", probability_x_equals_zero)"
      ]
    },
    {
      "cell_type": "markdown",
      "metadata": {
        "deletable": false,
        "editable": false,
        "run_control": {
          "frozen": true
        },
        "id": "l9MmqHp2ebD4"
      },
      "source": [
        "**2(d)** Suppose you and your friend both play this game using separate decks of cards. Let your score be $X$ and let their score be $Y$. What is the probability that your score is higher than their score (i.e. $X > Y$)?"
      ]
    },
    {
      "cell_type": "code",
      "execution_count": 26,
      "metadata": {
        "colab": {
          "base_uri": "https://localhost:8080/"
        },
        "id": "bCy6b0MrebD4",
        "outputId": "c669edf5-5611-4e09-aef5-cdd440936371"
      },
      "outputs": [
        {
          "output_type": "stream",
          "name": "stdout",
          "text": [
            "The probability of X being greater than Y is: 0.42538"
          ]
        }
      ],
      "source": [
        "# YOUR SOLUTION HERE\n",
        "two_players <- function() {\n",
        "  deck <- c(rep(1:13, 4))\n",
        "  deck1 <- sample(deck)\n",
        "  deck2 <- sample(deck)\n",
        "  deck3 <- sample(deck)\n",
        "  score1 <- sum(deck1 == deck2)\n",
        "  score2 <- sum(deck1 == deck3)\n",
        "  return(c(score1, score2))\n",
        "}\n",
        "num_simulations <- 100000\n",
        "results <- matrix(nrow = 2, ncol = num_simulations)\n",
        "for (i in 1:num_simulations) {\n",
        "  results[, i] <- two_players()\n",
        "}\n",
        "num_X_greater_than_Y <- sum(results[1, ] > results[2, ])\n",
        "probability_X_greater_than_Y <- num_X_greater_than_Y / num_simulations\n",
        "cat(\"The probability of X being greater than Y is:\", probability_X_greater_than_Y)"
      ]
    },
    {
      "cell_type": "markdown",
      "metadata": {
        "deletable": false,
        "editable": false,
        "nbgrader": {
          "grade": false,
          "grade_id": "cell-8a4fcd25e82f68a0",
          "locked": true,
          "schema_version": 3,
          "solution": false
        },
        "run_control": {
          "frozen": true
        },
        "id": "zk4JPzu5ebD4"
      },
      "source": [
        "## Problem 3: Everything is regression\n",
        "\n",
        "In this problem, you will explore how various well-known statistical tests are special cases of linear regression."
      ]
    },
    {
      "cell_type": "markdown",
      "metadata": {
        "deletable": false,
        "editable": false,
        "run_control": {
          "frozen": true
        },
        "id": "OhcEXAk9ebD4"
      },
      "source": [
        "**3(a)** Pearson's correlation coefficient, denoted $\\rho$, measures the strength of a linear relationship between two variables $x$ and $y$. It's implemented using the `cor()` function in R:"
      ]
    },
    {
      "cell_type": "code",
      "execution_count": 27,
      "metadata": {
        "deletable": false,
        "editable": false,
        "nbgrader": {
          "grade": false,
          "grade_id": "cell-30374ebf8d61de64",
          "locked": true,
          "schema_version": 3,
          "solution": false
        },
        "run_control": {
          "frozen": true
        },
        "colab": {
          "base_uri": "https://localhost:8080/",
          "height": 34
        },
        "id": "o1O2KMgmebD4",
        "outputId": "582f2840-79bd-4486-d2f1-5f0d7c5e4132"
      },
      "outputs": [
        {
          "output_type": "display_data",
          "data": {
            "text/html": [
              "0.183381506888591"
            ],
            "text/markdown": "0.183381506888591",
            "text/latex": "0.183381506888591",
            "text/plain": [
              "[1] 0.1833815"
            ]
          },
          "metadata": {}
        }
      ],
      "source": [
        "set.seed(1)\n",
        "x = rnorm(100, sd=.1)\n",
        "y = 3 + 2 * x + rnorm(100, sd = 1)\n",
        "cor(x, y)"
      ]
    },
    {
      "cell_type": "markdown",
      "metadata": {
        "deletable": false,
        "editable": false,
        "nbgrader": {
          "grade": false,
          "grade_id": "cell-66d306d6b06dbb31",
          "locked": true,
          "schema_version": 3,
          "solution": false
        },
        "run_control": {
          "frozen": true
        },
        "id": "fi_rdCrhebD5"
      },
      "source": [
        "To test whether a linear relationship exists between two variables, we can use the function `cor.test()` to test the null hypothesis $H_0: \\rho=0$:"
      ]
    },
    {
      "cell_type": "code",
      "execution_count": 28,
      "metadata": {
        "deletable": false,
        "editable": false,
        "nbgrader": {
          "grade": false,
          "grade_id": "cell-556264c837ba576f",
          "locked": true,
          "schema_version": 3,
          "solution": false
        },
        "run_control": {
          "frozen": true
        },
        "colab": {
          "base_uri": "https://localhost:8080/",
          "height": 208
        },
        "id": "xSB196VOebD5",
        "outputId": "e78fb1b7-3578-4089-888b-6691cbc6fb07"
      },
      "outputs": [
        {
          "output_type": "display_data",
          "data": {
            "text/plain": [
              "\n",
              "\tPearson's product-moment correlation\n",
              "\n",
              "data:  x and y\n",
              "t = 1.8467, df = 98, p-value = 0.06781\n",
              "alternative hypothesis: true correlation is not equal to 0\n",
              "95 percent confidence interval:\n",
              " -0.01352373  0.36659507\n",
              "sample estimates:\n",
              "      cor \n",
              "0.1833815 \n"
            ]
          },
          "metadata": {}
        }
      ],
      "source": [
        "cor.test(x, y)"
      ]
    },
    {
      "cell_type": "markdown",
      "metadata": {
        "deletable": false,
        "editable": false,
        "nbgrader": {
          "grade": false,
          "grade_id": "cell-96ec4249c290c1ce",
          "locked": true,
          "schema_version": 3,
          "solution": false
        },
        "run_control": {
          "frozen": true
        },
        "id": "U9howPIUebD5"
      },
      "source": [
        "Consider how you might test whether the correlation between $x$ and $y$ is zero using the linear model. By running an appropriate regression, show that you get *the exact same* $p$-value as that obtained by `cor.test()`. How can we infer the correlation coefficient $\\rho=0.183$ from the regression result?"
      ]
    },
    {
      "cell_type": "code",
      "execution_count": 14,
      "metadata": {
        "nbgrader": {
          "grade": true,
          "grade_id": "cell-614d08251e323a57",
          "locked": false,
          "points": 0,
          "schema_version": 3,
          "solution": true
        },
        "colab": {
          "base_uri": "https://localhost:8080/",
          "height": 364
        },
        "id": "M5a9Vj9VebD5",
        "outputId": "5cff4801-391e-4793-b267-871e020e1ca0"
      },
      "outputs": [
        {
          "output_type": "stream",
          "name": "stdout",
          "text": [
            "\n",
            "Call:\n",
            "lm(formula = y ~ x)\n",
            "\n",
            "Residuals:\n",
            "    Min      1Q  Median      3Q     Max \n",
            "-1.8768 -0.6138 -0.1395  0.5394  2.3462 \n",
            "\n",
            "Coefficients:\n",
            "            Estimate Std. Error t value Pr(>|t|)    \n",
            "(Intercept)  2.96231    0.09699  30.543   <2e-16 ***\n",
            "x            1.98940    1.07727   1.847   0.0678 .  \n",
            "---\n",
            "Signif. codes:  0 ‘***’ 0.001 ‘**’ 0.01 ‘*’ 0.05 ‘.’ 0.1 ‘ ’ 1\n",
            "\n",
            "Residual standard error: 0.9628 on 98 degrees of freedom\n",
            "Multiple R-squared:  0.03363,\tAdjusted R-squared:  0.02377 \n",
            "F-statistic:  3.41 on 1 and 98 DF,  p-value: 0.06781\n",
            "\n"
          ]
        },
        {
          "output_type": "display_data",
          "data": {
            "text/html": [
              "0.183381506888591"
            ],
            "text/markdown": "0.183381506888591",
            "text/latex": "0.183381506888591",
            "text/plain": [
              "[1] 0.1833815"
            ]
          },
          "metadata": {}
        }
      ],
      "source": [
        "# YOUR SOLUTION HERE \n",
        "model <- lm(y ~ x)\n",
        "model_summary <- summary(model)\n",
        "print(model_summary)\n",
        "cor_from_model <- sqrt(model_summary$r.squared)\n",
        "if (model$coefficients[\"x\"] < 0) {\n",
        "  cor_from_model <- -cor_from_model\n",
        "}\n",
        "cor_from_model"
      ]
    },
    {
      "cell_type": "markdown",
      "metadata": {
        "deletable": false,
        "editable": false,
        "nbgrader": {
          "grade": false,
          "grade_id": "cell-5343bbadaeba625b",
          "locked": true,
          "schema_version": 3,
          "solution": false
        },
        "id": "UYNQFnr_ebD5"
      },
      "source": [
        "**3(b)**\n",
        "One criticism of Pearson's correlation is that it only measures the strength of a *linear* correlation between two random variables. Consider the variables $x$ and $y$ defined in the file `spearman.csv`:"
      ]
    },
    {
      "cell_type": "code",
      "execution_count": 29,
      "metadata": {
        "deletable": false,
        "editable": false,
        "nbgrader": {
          "grade": false,
          "grade_id": "cell-df5f6966bdb2985e",
          "locked": true,
          "schema_version": 3,
          "solution": false
        },
        "colab": {
          "base_uri": "https://localhost:8080/"
        },
        "id": "IAdfRfygebD5",
        "outputId": "650081eb-f814-4831-d678-467fb8716029"
      },
      "outputs": [
        {
          "output_type": "stream",
          "name": "stderr",
          "text": [
            "\u001b[1mRows: \u001b[22m\u001b[34m101\u001b[39m \u001b[1mColumns: \u001b[22m\u001b[34m2\u001b[39m\n",
            "\u001b[36m──\u001b[39m \u001b[1mColumn specification\u001b[22m \u001b[36m────────────────────────────────────────────────────────\u001b[39m\n",
            "\u001b[1mDelimiter:\u001b[22m \",\"\n",
            "\u001b[32mdbl\u001b[39m (2): x, y\n",
            "\n",
            "\u001b[36mℹ\u001b[39m Use `spec()` to retrieve the full column specification for this data.\n",
            "\u001b[36mℹ\u001b[39m Specify the column types or set `show_col_types = FALSE` to quiet this message.\n"
          ]
        },
        {
          "output_type": "stream",
          "name": "stdout",
          "text": [
            "\u001b[90m# A tibble: 101 × 2\u001b[39m\n",
            "        x       y\n",
            "    \u001b[3m\u001b[90m<dbl>\u001b[39m\u001b[23m   \u001b[3m\u001b[90m<dbl>\u001b[39m\u001b[23m\n",
            "\u001b[90m 1\u001b[39m 0.689   0.594 \n",
            "\u001b[90m 2\u001b[39m 0.468   0.119 \n",
            "\u001b[90m 3\u001b[39m 0.808   0.580 \n",
            "\u001b[90m 4\u001b[39m 0.093\u001b[4m4\u001b[24m  0.100 \n",
            "\u001b[90m 5\u001b[39m 0.238   0.098\u001b[4m1\u001b[24m\n",
            "\u001b[90m 6\u001b[39m 0.046\u001b[4m7\u001b[24m -\u001b[31m0\u001b[39m\u001b[31m.\u001b[39m\u001b[31m0\u001b[39m\u001b[31m13\u001b[4m8\u001b[24m\u001b[39m\n",
            "\u001b[90m 7\u001b[39m 0.655   0.412 \n",
            "\u001b[90m 8\u001b[39m 0.171   0.118 \n",
            "\u001b[90m 9\u001b[39m 0.591   0.251 \n",
            "\u001b[90m10\u001b[39m 0.508   0.512 \n",
            "\u001b[90m# ℹ 91 more rows\u001b[39m\n"
          ]
        }
      ],
      "source": [
        "sp <- read_csv(url(\"https://datasets.stats306.org/spearman.csv\")) %>% print"
      ]
    },
    {
      "cell_type": "markdown",
      "metadata": {
        "deletable": false,
        "editable": false,
        "nbgrader": {
          "grade": false,
          "grade_id": "cell-33ba4033c69711c3",
          "locked": true,
          "schema_version": 3,
          "solution": false
        },
        "run_control": {
          "frozen": true
        },
        "id": "j2XfCwzzebD5"
      },
      "source": [
        "Are $x$ and $y$ correlated according to Pearson's test? Are they related at all? Support your answer with an appropriate visual or statistical argument."
      ]
    },
    {
      "cell_type": "code",
      "execution_count": 31,
      "metadata": {
        "nbgrader": {
          "grade": true,
          "grade_id": "cell-fc4663b01bcef603",
          "locked": false,
          "points": 0,
          "schema_version": 3,
          "solution": true
        },
        "colab": {
          "base_uri": "https://localhost:8080/",
          "height": 784
        },
        "id": "bEzSwhfmebD5",
        "outputId": "31031d36-c1a3-467d-b41a-d22ff7f5c3d4"
      },
      "outputs": [
        {
          "output_type": "display_data",
          "data": {
            "text/plain": [
              "\n",
              "\tPearson's product-moment correlation\n",
              "\n",
              "data:  sp$x and sp$y\n",
              "t = 0.16219, df = 99, p-value = 0.8715\n",
              "alternative hypothesis: true correlation is not equal to 0\n",
              "95 percent confidence interval:\n",
              " -0.1797128  0.2110658\n",
              "sample estimates:\n",
              "       cor \n",
              "0.01629891 \n"
            ]
          },
          "metadata": {}
        },
        {
          "output_type": "display_data",
          "data": {
            "text/plain": [
              "\n",
              "\tSpearman's rank correlation rho\n",
              "\n",
              "data:  sp$x and sp$y\n",
              "S = 22534, p-value < 2.2e-16\n",
              "alternative hypothesis: true rho is not equal to 0\n",
              "sample estimates:\n",
              "      rho \n",
              "0.8687595 \n"
            ]
          },
          "metadata": {}
        },
        {
          "output_type": "display_data",
          "data": {
            "text/plain": [
              "plot without title"
            ],
            "image/png": "[encoded data removed]"
          },
          "metadata": {
            "image/png": {
              "width": 420,
              "height": 420
            }
          }
        }
      ],
      "source": [
        "# YOUR SOLUTION HERE \n",
        "cor.test(sp$x, sp$y)\n",
        "#The p-value is 0.8715, which is greater than the common significance level of 0.05. \n",
        "#This means that there is not enough evidence to reject the null hypothesis (H0: 𝜌 = 0) and conclude that x and y are linearly correlated according to Pearson's test. \n",
        "#The correlation coefficient is very close to 0 (0.0163), which also indicates a weak linear relationship between x and y.\n",
        "ggplot(sp, aes(x = x, y = y)) +\n",
        "  geom_point() +\n",
        "  theme_minimal()\n",
        "cor.test(sp$x, sp$y, method = \"spearman\")"
      ]
    },
    {
      "cell_type": "markdown",
      "metadata": {
        "deletable": false,
        "editable": false,
        "nbgrader": {
          "grade": false,
          "grade_id": "cell-0e523ead8c6e3ee3",
          "locked": true,
          "schema_version": 3,
          "solution": false
        },
        "run_control": {
          "frozen": true
        },
        "id": "H3HZUYUaebD5"
      },
      "source": [
        "**3(c)**\n",
        "Recall that the `rank()` function maps a vector to a vector of integers denoting the numerical rank of each entry of the vector:"
      ]
    },
    {
      "cell_type": "code",
      "execution_count": 33,
      "metadata": {
        "deletable": false,
        "editable": false,
        "nbgrader": {
          "grade": false,
          "grade_id": "cell-3a72abe598e1d7a0",
          "locked": true,
          "schema_version": 3,
          "solution": false
        },
        "colab": {
          "base_uri": "https://localhost:8080/",
          "height": 34
        },
        "id": "MseMVN3eebD5",
        "outputId": "eef6788a-d0e8-43b6-b23a-63cc60f56d88"
      },
      "outputs": [
        {
          "output_type": "display_data",
          "data": {
            "text/html": [
              "<style>\n",
              ".list-inline {list-style: none; margin:0; padding: 0}\n",
              ".list-inline>li {display: inline-block}\n",
              ".list-inline>li:not(:last-child)::after {content: \"\\00b7\"; padding: 0 .5ex}\n",
              "</style>\n",
              "<ol class=list-inline><li>1</li><li>2</li><li>4</li><li>5</li><li>3</li></ol>\n"
            ],
            "text/markdown": "1. 1\n2. 2\n3. 4\n4. 5\n5. 3\n\n\n",
            "text/latex": "\\begin{enumerate*}\n\\item 1\n\\item 2\n\\item 4\n\\item 5\n\\item 3\n\\end{enumerate*}\n",
            "text/plain": [
              "[1] 1 2 4 5 3"
            ]
          },
          "metadata": {}
        }
      ],
      "source": [
        "rank(c(2,6,9,10,8))"
      ]
    },
    {
      "cell_type": "markdown",
      "metadata": {
        "deletable": false,
        "editable": false,
        "nbgrader": {
          "grade": false,
          "grade_id": "cell-c7f6b3dee75be6af",
          "locked": true,
          "schema_version": 3,
          "solution": false
        },
        "run_control": {
          "frozen": true
        },
        "id": "dfKWiJLYebD5"
      },
      "source": [
        "To address potential shortcomings in Pearson's test, *Spearman's rank correlation test* looks for correlations between the *ranks* of two vectors $x$ and $y$. This will do a better job of picking out a non-linear relationship between $x$ and $y$, so long as that relationship is [monotonic](https://en.wikipedia.org/wiki/Monotonic_function). Verify this visualizing the relationship of `rank(x)` and `rank(y)`."
      ]
    },
    {
      "cell_type": "code",
      "execution_count": 34,
      "metadata": {
        "nbgrader": {
          "grade": true,
          "grade_id": "cell-703b841606ec609c",
          "locked": false,
          "points": 0,
          "schema_version": 3,
          "solution": true
        },
        "colab": {
          "base_uri": "https://localhost:8080/",
          "height": 593
        },
        "id": "SN1nfR2cebD5",
        "outputId": "dfa78c2c-d09f-4c76-d1dc-44ccc6ed4c6b"
      },
      "outputs": [
        {
          "output_type": "display_data",
          "data": {
            "text/plain": [
              "\n",
              "\tSpearman's rank correlation rho\n",
              "\n",
              "data:  sp$x and sp$y\n",
              "S = 22534, p-value < 2.2e-16\n",
              "alternative hypothesis: true rho is not equal to 0\n",
              "sample estimates:\n",
              "      rho \n",
              "0.8687595 \n"
            ]
          },
          "metadata": {}
        },
        {
          "output_type": "display_data",
          "data": {
            "text/plain": [
              "plot without title"
            ],
            "image/png": "[encoded data removed]"
          },
          "metadata": {
            "image/png": {
              "width": 420,
              "height": 420
            }
          }
        }
      ],
      "source": [
        "# YOUR SOLUTION HERE \n",
        "sp_rank <- sp %>%\n",
        "  mutate(rank_x = rank(x),\n",
        "         rank_y = rank(y))\n",
        "ggplot(sp_rank, aes(x = rank_x, y = rank_y)) +\n",
        "  geom_point() +\n",
        "  theme_minimal() +\n",
        "  labs(x = \"Rank of x\", y = \"Rank of y\", title = \"Scatter plot of ranks\")\n",
        "cor.test(sp$x, sp$y, method = \"spearman\")"
      ]
    },
    {
      "cell_type": "markdown",
      "metadata": {
        "deletable": false,
        "editable": false,
        "nbgrader": {
          "grade": false,
          "grade_id": "cell-62f7756b85d3e29e",
          "locked": true,
          "schema_version": 3,
          "solution": false
        },
        "run_control": {
          "frozen": true
        },
        "id": "ufBKpPHwebD5"
      },
      "source": [
        "**3(d)** Spearman's test is implemented using the `cor.test(..., method = \"spearman\")` command.\n",
        "\n",
        "Show that regressing the rank of `y` on the rank of `x` gives you you the *exact same* $p$-values and estimates for $\\rho$ as Spearman't test."
      ]
    },
    {
      "cell_type": "code",
      "execution_count": 37,
      "metadata": {
        "nbgrader": {
          "grade": true,
          "grade_id": "cell-7c2681f67d5e97c7",
          "locked": false,
          "points": 0,
          "schema_version": 3,
          "solution": true
        },
        "colab": {
          "base_uri": "https://localhost:8080/"
        },
        "id": "7dKzicuCebD5",
        "outputId": "cf30047f-083d-4a15-b653-283b97afe342"
      },
      "outputs": [
        {
          "output_type": "stream",
          "name": "stdout",
          "text": [
            "\n",
            "\tSpearman's rank correlation rho\n",
            "\n",
            "data:  sp$x and sp$y\n",
            "S = 22534, p-value < 2.2e-16\n",
            "alternative hypothesis: true rho is not equal to 0\n",
            "sample estimates:\n",
            "      rho \n",
            "0.8687595 \n",
            "\n",
            "\n",
            "Call:\n",
            "lm(formula = rank_y ~ rank_x, data = sp_rank)\n",
            "\n",
            "Residuals:\n",
            "    Min      1Q  Median      3Q     Max \n",
            "-30.050  -7.775   0.706   5.462  93.438 \n",
            "\n",
            "Coefficients:\n",
            "            Estimate Std. Error t value Pr(>|t|)    \n",
            "(Intercept)  6.69327    2.92392   2.289   0.0242 *  \n",
            "rank_x       0.86876    0.04977  17.454   <2e-16 ***\n",
            "---\n",
            "Signif. codes:  0 ‘***’ 0.001 ‘**’ 0.01 ‘*’ 0.05 ‘.’ 0.1 ‘ ’ 1\n",
            "\n",
            "Residual standard error: 14.58 on 99 degrees of freedom\n",
            "Multiple R-squared:  0.7547,\tAdjusted R-squared:  0.7523 \n",
            "F-statistic: 304.7 on 1 and 99 DF,  p-value: < 2.2e-16\n",
            "\n",
            "Spearman's test p-value: 0 \n",
            "Linear regression p-value: 5.610468e-32 \n",
            "Spearman's test estimate for 𝜌: 0.8687595 \n",
            "Linear regression estimate for 𝜌: 0.8687595 \n"
          ]
        }
      ],
      "source": [
        "# YOUR SOLUTION HERE \n",
        "spearman_test <- cor.test(sp$x, sp$y, method = \"spearman\")\n",
        "print(spearman_test)\n",
        "rank_model <- lm(rank_y ~ rank_x, data = sp_rank)\n",
        "rank_model_summary <- summary(rank_model)\n",
        "print(rank_model_summary)\n",
        "rank_x_pvalue <- rank_model_summary$coefficients[2, 4]\n",
        "rho_estimate <- sqrt(rank_model_summary$r.squared)\n",
        "if (rank_model$coefficients[\"rank_x\"] < 0) {\n",
        "  rho_estimate <- -rho_estimate\n",
        "}\n",
        "cat(\"Spearman's test p-value:\", spearman_test$p.value, \"\\n\")\n",
        "cat(\"Linear regression p-value:\", rank_x_pvalue, \"\\n\")\n",
        "\n",
        "cat(\"Spearman's test estimate for 𝜌:\", spearman_test$estimate, \"\\n\")\n",
        "cat(\"Linear regression estimate for 𝜌:\", rho_estimate, \"\\n\")"
      ]
    },
    {
      "cell_type": "markdown",
      "metadata": {
        "deletable": false,
        "editable": false,
        "nbgrader": {
          "grade": false,
          "grade_id": "cell-79fbe388eff1e416",
          "locked": true,
          "schema_version": 3,
          "solution": false
        },
        "run_control": {
          "frozen": true
        },
        "id": "RqCKKMLaebD5"
      },
      "source": [
        "Spearman's test is an example of a [non-parametric](https://en.wikipedia.org/wiki/Nonparametric_statistics) test: it does not make any assumptions about the distribution of the data. We will see other examples of non-parametric tests below."
      ]
    },
    {
      "cell_type": "markdown",
      "metadata": {
        "deletable": false,
        "editable": false,
        "nbgrader": {
          "grade": false,
          "grade_id": "cell-50d2b3d695df7c8c",
          "locked": true,
          "schema_version": 3,
          "solution": false
        },
        "run_control": {
          "frozen": true
        },
        "id": "obK9RzAAebD6"
      },
      "source": [
        "**3(e)**\n",
        "The one-sample $t$-test is used to test the null hypothesis that the mean of a random variable is zero. It's implemented in R using the `t.test()` command:"
      ]
    },
    {
      "cell_type": "code",
      "execution_count": 38,
      "metadata": {
        "deletable": false,
        "editable": false,
        "nbgrader": {
          "grade": false,
          "grade_id": "cell-567e578d7fa9d650",
          "locked": true,
          "schema_version": 3,
          "solution": false
        },
        "colab": {
          "base_uri": "https://localhost:8080/",
          "height": 208
        },
        "id": "7OAqYCa7ebD6",
        "outputId": "d13fbc11-f807-42cf-e905-827df339c96d"
      },
      "outputs": [
        {
          "output_type": "display_data",
          "data": {
            "text/plain": [
              "\n",
              "\tOne Sample t-test\n",
              "\n",
              "data:  x\n",
              "t = 1.5287, df = 99, p-value = 0.1295\n",
              "alternative hypothesis: true mean is not equal to 0\n",
              "95 percent confidence interval:\n",
              " -0.0451680  0.3483717\n",
              "sample estimates:\n",
              "mean of x \n",
              "0.1516019 \n"
            ]
          },
          "metadata": {}
        }
      ],
      "source": [
        "x <- rnorm(100, mean=.1)\n",
        "t.test(x)"
      ]
    },
    {
      "cell_type": "markdown",
      "metadata": {
        "deletable": false,
        "editable": false,
        "nbgrader": {
          "grade": false,
          "grade_id": "cell-5b7c91dc23771f91",
          "locked": true,
          "schema_version": 3,
          "solution": false
        },
        "run_control": {
          "frozen": true
        },
        "id": "LB3dfpQEebD6"
      },
      "source": [
        "By running an appropriate regression, show that the linear model produces *the exact same* $t$ statistic, confidence intervals, and $p$-values as the $t$-test."
      ]
    },
    {
      "cell_type": "code",
      "execution_count": 45,
      "metadata": {
        "nbgrader": {
          "grade": true,
          "grade_id": "cell-f54825f6e6acf9a3",
          "locked": false,
          "points": 0,
          "schema_version": 3,
          "solution": true
        },
        "colab": {
          "base_uri": "https://localhost:8080/"
        },
        "id": "laHwxslFebD6",
        "outputId": "76bcbc98-b2e4-4a89-c3c2-f784cf6442ce"
      },
      "outputs": [
        {
          "output_type": "stream",
          "name": "stdout",
          "text": [
            "Linear model t statistic: 1.528745 \n",
            "Linear model p-value: 0.1295166 \n",
            "Linear model 95% confidence interval: -0.045168 0.3483717 \n"
          ]
        }
      ],
      "source": [
        "# YOUR SOLUTION HERE \n",
        "x_data <- data.frame(x = x)\n",
        "model <- lm(x ~ 1, data = x_data)\n",
        "t_statistic <- model_summary$coefficients[\"(Intercept)\", \"t value\"]\n",
        "p_value <- model_summary$coefficients[\"(Intercept)\", \"Pr(>|t|)\"]\n",
        "conf_interval <- confint(model)\n",
        "cat(\"Linear model t statistic:\", t_statistic, \"\\n\")\n",
        "cat(\"Linear model p-value:\", p_value, \"\\n\")\n",
        "cat(\"Linear model 95% confidence interval:\", conf_interval[1], conf_interval[2], \"\\n\")\n",
        "#The t statistic (t value), p-value (Pr(>|t|)), and 95% confidence intervals from both the t-test and the linear model are the same or very close\n",
        "#Showing that the linear model produces the exact same results as the t-test when used appropriately."
      ]
    }
  ],
  "metadata": {
    "celltoolbar": "Create Assignment",
    "kernelspec": {
      "display_name": "R",
      "language": "R",
      "name": "ir"
    },
    "language_info": {
      "codemirror_mode": "r",
      "file_extension": ".r",
      "mimetype": "text/x-r-source",
      "name": "R",
      "pygments_lexer": "r",
      "version": "4.2.1"
    },
    "colab": {
      "provenance": []
    }
  },
  "nbformat": 4,
  "nbformat_minor": 0
}